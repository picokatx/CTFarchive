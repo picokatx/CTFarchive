{
 "cells": [
  {
   "cell_type": "code",
   "execution_count": null,
   "metadata": {},
   "outputs": [],
   "source": [
    "#  banner advertisement for AGPay Exclusive Club promo for customers with exactly $313371337 balance \n",
    "#  Dev note: test card for agpay integration can be found at /testcard.agpay  \n",
    "# mm cbc bit flip attack my fav"
   ]
  },
  {
   "cell_type": "code",
   "execution_count": 30,
   "metadata": {},
   "outputs": [],
   "source": [
    "from Crypto.Hash import MD5\n",
    "from Crypto.Cipher import AES\n",
    "from Crypto.Util.number import bytes_to_long, long_to_bytes\n",
    "from Crypto.Util.Padding import pad, unpad"
   ]
  },
  {
   "cell_type": "code",
   "execution_count": 2,
   "metadata": {},
   "outputs": [],
   "source": [
    "agpay_test = open('testcard.agpay', 'rb').read()"
   ]
  },
  {
   "cell_type": "code",
   "execution_count": 41,
   "metadata": {},
   "outputs": [],
   "source": [
    "header = agpay_test[0:5]\n",
    "version = agpay_test[5:5+2]\n",
    "key = agpay_test[7:39]\n",
    "reserved = agpay_test[39:49]\n",
    "footer, checksum = agpay_test[len(agpay_test)-22:len(agpay_test)-22+6], agpay_test[len(agpay_test)-22+6:]\n",
    "iv = agpay_test[49:65]\n",
    "dat = agpay_test[65:len(agpay_test) - 22]\n",
    "\n",
    "h = MD5.new()\n",
    "h.update(iv+dat)\n",
    "md5checksum = h.digest()\n",
    "\n",
    "m = AES.new(key, AES.MODE_CBC, iv=iv).decrypt(dat)\n",
    "cardNumber = m[0:16]\n",
    "unk = m[16:20]\n",
    "cardExpiryDate = m[20:20+4]\n",
    "balance = bytes_to_long(m[24:24+8])"
   ]
  },
  {
   "cell_type": "code",
   "execution_count": 42,
   "metadata": {},
   "outputs": [],
   "source": [
    "new_balance = long_to_bytes(313371337, 8)\n",
    "new_m = cardNumber+unk+cardExpiryDate+new_balance\n",
    "new_dat = AES.new(key, AES.MODE_CBC, iv=iv).encrypt(pad(new_m, 16))\n",
    "h = MD5.new()\n",
    "h.update(iv+new_dat)\n",
    "new_md5checksum = h.digest()\n",
    "new_agpay = header+version+key+reserved+iv+new_dat+footer+new_md5checksum"
   ]
  },
  {
   "cell_type": "code",
   "execution_count": 43,
   "metadata": {},
   "outputs": [
    {
     "data": {
      "text/plain": [
       "48"
      ]
     },
     "execution_count": 43,
     "metadata": {},
     "output_type": "execute_result"
    }
   ],
   "source": [
    "len(pad(new_m, 16))"
   ]
  },
  {
   "cell_type": "code",
   "execution_count": 44,
   "metadata": {},
   "outputs": [
    {
     "data": {
      "text/plain": [
       "135"
      ]
     },
     "execution_count": 44,
     "metadata": {},
     "output_type": "execute_result"
    }
   ],
   "source": [
    "open(\"badcard.agpay\", 'wb').write(new_agpay)"
   ]
  },
  {
   "cell_type": "code",
   "execution_count": 4,
   "metadata": {},
   "outputs": [
    {
     "data": {
      "text/plain": [
       "(b'AGPAY',\n",
       " b'ENDAGP',\n",
       " b'M\\x02\\xf9h\\tW\\x07<18\\xf5\\xac\\xafR\\xda\\xea',\n",
       " b'r\\xee\\r\\xf3\\xb8-=\\xc0\\x84`]\\x06\\x9bh\\xcex',\n",
       " b'\\xe6\\xff\\xdfJ\\xb0I\\x8c\\xd5h\\xc0\\xaa\\x94\\xff\\x13\\xe1j\\x0b \\xb4\\xb7\\x8b\\xcc\\xc9\\xf5\\x03\\x96\\xc6\\\\\\xfft\"o\\xa2H\\x05-$e\\xc5]b\\xef\\x17\\x0bqv\\x8c\\xae',\n",
       " b'M\\x02\\xf9h\\tW\\x07<18\\xf5\\xac\\xafR\\xda\\xea')"
      ]
     },
     "execution_count": 4,
     "metadata": {},
     "output_type": "execute_result"
    }
   ],
   "source": [
    "header, footer, checksum, iv, dat, md5checksum"
   ]
  },
  {
   "cell_type": "code",
   "execution_count": 10,
   "metadata": {},
   "outputs": [
    {
     "data": {
      "text/plain": [
       "b'1234567890123456b\\x82O\\x80f=\\x18\\x80\\x00\\x00\\x00\\x00\\x00\\xbcaN\\x10\\x10\\x10\\x10\\x10\\x10\\x10\\x10\\x10\\x10\\x10\\x10\\x10\\x10\\x10\\x10'"
      ]
     },
     "execution_count": 10,
     "metadata": {},
     "output_type": "execute_result"
    }
   ],
   "source": []
  },
  {
   "cell_type": "code",
   "execution_count": 7,
   "metadata": {},
   "outputs": [
    {
     "data": {
      "text/plain": [
       "136"
      ]
     },
     "execution_count": 7,
     "metadata": {},
     "output_type": "execute_result"
    }
   ],
   "source": [
    "# n= 60\n",
    "# bad_card = agpay_test[:n] + b'\\x00' + agpay_test[n:]\n",
    "# open('badcard.agpay', 'wb').write(bad_card)"
   ]
  },
  {
   "cell_type": "code",
   "execution_count": 3,
   "metadata": {},
   "outputs": [
    {
     "data": {
      "text/plain": [
       "'0b101111000110000101001110'"
      ]
     },
     "execution_count": 3,
     "metadata": {},
     "output_type": "execute_result"
    }
   ],
   "source": [
    "agpay_test[10]"
   ]
  },
  {
   "cell_type": "code",
   "execution_count": null,
   "metadata": {},
   "outputs": [],
   "source": [
    "# Start Chunk: AGPAY\n",
    "# End Chunk: ENDAGP\n",
    "\n",
    "AGPAY\n",
    "01ba`\\xbf\\xf6\\xe0\\xb8\\xa4|\\xf9\\x8f\\xee\\xe4\\x83]<\\x05\\xa1\\x85N\\x16;\\xbc\\x8a\\';\\xf5\\xcb\\x9f\\xc4\\t)\\x00\\x00\\x00\\x00\\x00\\x00\\x00\\x00\\x00\\x00r\\xee\\r\\xf3\\xb8-=\\xc0\\x84`]\\x06\\x9bh\\xcex\\xe6\\xff\\xdfJ\\xb0I\\x8c\\xd5h\\xc0\\xaa\\x94\\xff\\x13\\xe1j\\x0b \\xb4\\xb7\\x8b\\xcc\\xc9\\xf5\\x03\\x96\\xc6\\\\\\xfft\"o\\xa2H\\x05-$e\\xc5]b\\xef\\x17\\x0bqv\\x8c\\xae\n",
    "ENDAGP\n",
    "M\\x02\\xf9h\\tW\\x07<18\\xf5\\xac\\xafR\\xda\\xea'"
   ]
  }
 ],
 "metadata": {
  "kernelspec": {
   "display_name": ".venv",
   "language": "python",
   "name": "python3"
  },
  "language_info": {
   "codemirror_mode": {
    "name": "ipython",
    "version": 3
   },
   "file_extension": ".py",
   "mimetype": "text/x-python",
   "name": "python",
   "nbconvert_exporter": "python",
   "pygments_lexer": "ipython3",
   "version": "3.11.6"
  }
 },
 "nbformat": 4,
 "nbformat_minor": 2
}
