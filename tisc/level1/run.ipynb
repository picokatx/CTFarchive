{
 "cells": [
  {
   "cell_type": "code",
   "execution_count": 5,
   "metadata": {},
   "outputs": [
    {
     "name": "stdout",
     "output_type": "stream",
     "text": [
      "41.544453828\n",
      "12.994375356\n"
     ]
    }
   ],
   "source": [
    "lat = [41.544426767,\n",
    "41.544551463,\n",
    "41.544383254,]\n",
    "long = [12.994242633,\n",
    "12.994414040,\n",
    "12.994469395]\n",
    " \n",
    "\n",
    "print(sum(lat)/len(lat))\n",
    "print(sum(long)/len(long))"
   ]
  },
  {
   "cell_type": "code",
   "execution_count": null,
   "metadata": {},
   "outputs": [],
   "source": []
  }
 ],
 "metadata": {
  "kernelspec": {
   "display_name": ".venv",
   "language": "python",
   "name": "python3"
  },
  "language_info": {
   "codemirror_mode": {
    "name": "ipython",
    "version": 3
   },
   "file_extension": ".py",
   "mimetype": "text/x-python",
   "name": "python",
   "nbconvert_exporter": "python",
   "pygments_lexer": "ipython3",
   "version": "3.11.6"
  }
 },
 "nbformat": 4,
 "nbformat_minor": 2
}
