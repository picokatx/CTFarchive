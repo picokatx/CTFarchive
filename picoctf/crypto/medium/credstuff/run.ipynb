{
 "cells": [
  {
   "cell_type": "code",
   "execution_count": 6,
   "metadata": {},
   "outputs": [
    {
     "data": {
      "text/plain": [
       "'cvpbPGS{P7e1S_54I35_71Z3}\\n'"
      ]
     },
     "execution_count": 6,
     "metadata": {},
     "output_type": "execute_result"
    }
   ],
   "source": [
    "from base64 import b64decode, b64encode\n",
    "from string import ascii_lowercase, ascii_uppercase\n",
    "open(\"passwords.txt\", 'r').readlines()[378-1]"
   ]
  },
  {
   "cell_type": "code",
   "execution_count": 11,
   "metadata": {},
   "outputs": [
    {
     "data": {
      "text/plain": [
       "'picoCTF{C7r1F_54V35_71M3}'"
      ]
     },
     "execution_count": 11,
     "metadata": {},
     "output_type": "execute_result"
    }
   ],
   "source": [
    "flag = \"\"\n",
    "for c in \"cvpbPGS{P7e1S_54I35_71Z3}\":\n",
    "    if (c.isupper()):\n",
    "        flag+=ascii_uppercase[(ascii_uppercase.index(c)+13)%26]\n",
    "    elif (c.islower()):\n",
    "        flag+=ascii_lowercase[(ascii_lowercase.index(c)+13)%26]\n",
    "    elif (c.isdigit()):\n",
    "        flag+=c\n",
    "    else:\n",
    "        flag+=c\n",
    "flag"
   ]
  }
 ],
 "metadata": {
  "kernelspec": {
   "display_name": ".venv",
   "language": "python",
   "name": "python3"
  },
  "language_info": {
   "codemirror_mode": {
    "name": "ipython",
    "version": 3
   },
   "file_extension": ".py",
   "mimetype": "text/x-python",
   "name": "python",
   "nbconvert_exporter": "python",
   "pygments_lexer": "ipython3",
   "version": "3.11.6"
  }
 },
 "nbformat": 4,
 "nbformat_minor": 2
}
