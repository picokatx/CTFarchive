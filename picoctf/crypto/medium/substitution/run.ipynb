{
 "cells": [
  {
   "cell_type": "markdown",
   "metadata": {},
   "source": [
    "key used for both lowercase and uppercase text"
   ]
  },
  {
   "cell_type": "markdown",
   "metadata": {},
   "source": [
    "### Part 0"
   ]
  },
  {
   "cell_type": "code",
   "execution_count": null,
   "metadata": {},
   "outputs": [],
   "source": [
    "# OHNFUMWSVZLXEGCPTAJDYIRKQB \n",
    "# \n",
    "# Suauypcg Xuwaogf oacju, rvds o waoiu ogf jdoduxq ova, ogf hacywsd eu dsu huudxu\n",
    "# mace o wxojj noju vg rsvns vd roj ugnxcjuf. Vd roj o huoydvmyx jnoaohouyj, ogf, od\n",
    "# dsod dveu, yglgcrg dc godyaoxvjdj—cm ncyaju o wauod pavbu vg o jnvugdvmvn pcvgd\n",
    "# cm ivur. Dsuau ruau drc acygf hxonl jpcdj guoa cgu ukdauevdq cm dsu honl, ogf o\n",
    "# xcgw cgu guoa dsu cdsua. Dsu jnoxuj ruau uknuufvgwxq soaf ogf wxcjjq, rvds oxx dsu\n",
    "# oppuoaognu cm hyagvjsuf wcxf. Dsu ruvwsd cm dsu vgjund roj iuaq aueoalohxu, ogf,\n",
    "# dolvgw oxx dsvgwj vgdc ncgjvfuaodvcg, V ncyxf soafxq hxoeu Zypvdua mca svj cpvgvcg\n",
    "# aujpundvgw vd.\n",
    "\n",
    "# Dsu mxow vj: pvncNDM{5YH5717Y710G_3I0XY710G_03055505}"
   ]
  },
  {
   "cell_type": "code",
   "execution_count": null,
   "metadata": {},
   "outputs": [],
   "source": [
    "k = \"ABCDEFGHIJKLMNOPQRSTUVWXYZ\"\n",
    "K = \"OHNFUMWSVZLXEGCPTAJDYIRKQB\"\n",
    "K0= \"OHNFUMWSVZLXEGCPTAJDYIRKQB\"\n",
    "mapping = dict(zip(K, k))"
   ]
  },
  {
   "cell_type": "code",
   "execution_count": 22,
   "metadata": {},
   "outputs": [
    {
     "name": "stdout",
     "output_type": "stream",
     "text": [
      "Hereupon Legrand arose, with a grave and stately air, and brought me the beetle\n",
      "from a glass case in which it was enclosed. It was a beautiful scarabaeus, and, at\n",
      "that time, unknown to naturalists—of course a great prize in a scientific point\n",
      "of view. There were two round black spots near one extremity of the back, and a\n",
      "long one near the other. The scales were exceedingly hard and glossy, with all the\n",
      "appearance of burnished gold. The weight of the insect was very remarkable, and,\n",
      "taking all things into consideration, I could hardly blame Jupiter for his opinion\n",
      "respecting it.\n",
      "\n",
      "The flag is: picoCTF{5UB5717U710N_3V0LU710N_03055505}\n",
      "\n"
     ]
    }
   ],
   "source": [
    "enc = \"\"\"Suauypcg Xuwaogf oacju, rvds o waoiu ogf jdoduxq ova, ogf hacywsd eu dsu huudxu\n",
    "mace o wxojj noju vg rsvns vd roj ugnxcjuf. Vd roj o huoydvmyx jnoaohouyj, ogf, od\n",
    "dsod dveu, yglgcrg dc godyaoxvjdj—cm ncyaju o wauod pavbu vg o jnvugdvmvn pcvgd\n",
    "cm ivur. Dsuau ruau drc acygf hxonl jpcdj guoa cgu ukdauevdq cm dsu honl, ogf o\n",
    "xcgw cgu guoa dsu cdsua. Dsu jnoxuj ruau uknuufvgwxq soaf ogf wxcjjq, rvds oxx dsu\n",
    "oppuoaognu cm hyagvjsuf wcxf. Dsu ruvwsd cm dsu vgjund roj iuaq aueoalohxu, ogf,\n",
    "dolvgw oxx dsvgwj vgdc ncgjvfuaodvcg, V ncyxf soafxq hxoeu Zypvdua mca svj cpvgvcg\n",
    "aujpundvgw vd.\\n\n",
    "Dsu mxow vj: pvncNDM{5YH5717Y710G_3I0XY710G_03055505}\n",
    "\"\"\"\n",
    "out = \"\"\n",
    "for i in range(len(enc)):\n",
    "    if (enc[i].upper() in mapping.keys()):\n",
    "        tmp = mapping[enc[i].upper()]\n",
    "        out+= tmp.lower() if enc[i].islower() else tmp\n",
    "    else:\n",
    "        out+=enc[i]\n",
    "print(out)"
   ]
  },
  {
   "cell_type": "markdown",
   "metadata": {},
   "source": [
    "### Part 1"
   ]
  },
  {
   "cell_type": "code",
   "execution_count": 66,
   "metadata": {},
   "outputs": [],
   "source": [
    "k = \"ABCDEFGHIJKLMNOPQRSTUVWXYZ\"\n",
    "K = \"ATZMXDREB_NQIVJCLFGWPYH_S_\"\n",
    "# K O U\n",
    "# 0123456789\n",
    "# OI_E_S_T__\n",
    "# OL_EA__T__\n",
    "# picoCTF{FR3QU3NCYZ4774CK5Z4R3ZC001Z4871E6FB}\n",
    "mapping = dict(zip(K, k))"
   ]
  },
  {
   "cell_type": "code",
   "execution_count": 65,
   "metadata": {},
   "outputs": [
    {
     "data": {
      "text/plain": [
       "False"
      ]
     },
     "execution_count": 65,
     "metadata": {},
     "output_type": "execute_result"
    }
   ],
   "source": [
    "# picoCTF{FR3QU3NCY_4774CK5_4R3_C001_4871E6FB}"
   ]
  },
  {
   "cell_type": "code",
   "execution_count": 67,
   "metadata": {},
   "outputs": [
    {
     "name": "stdout",
     "output_type": "stream",
     "text": [
      "CTFs (short for capture the flag) are a type of computer security competition. Contestants are presented with a set of challenges which test their creativity, technical (and googling) skills, and problem-solving ability. Challenges usually cover a number of categories, and when solved, each yields a string (called a flag) which is submitted to an online scoring service. CTFs are a great way to learn a wide array of computer security skills in a safe, legal environment, and are hosted and played by many security groups around the world for fun and practice. For this problem, the flag is: picoCTF{FR3QU3NCYZ4774CK5Z4R3ZC001Z4871E6FB}\n",
      "\n"
     ]
    }
   ],
   "source": [
    "enc = \"\"\"ZWDg (gejfw djf zacwpfx wex dqar) afx a wscx jd zjicpwxf gxzpfbws zjicxwbwbjv. Zjvwxgwavwg afx cfxgxvwxm hbwe a gxw jd zeaqqxvrxg hebze wxgw wexbf zfxawbybws, wxzevbzaq (avm rjjrqbvr) gnbqqg, avm cfjtqxi-gjqybvr atbqbws. Zeaqqxvrxg pgpaqqs zjyxf a vpitxf jd zawxrjfbxg, avm hexv gjqyxm, xaze sbxqmg a gwfbvr (zaqqxm a dqar) hebze bg gptibwwxm wj av jvqbvx gzjfbvr gxfybzx. ZWDg afx a rfxaw has wj qxafv a hbmx affas jd zjicpwxf gxzpfbws gnbqqg bv a gadx, qxraq xvybfjvixvw, avm afx ejgwxm avm cqasxm ts iavs gxzpfbws rfjpcg afjpvm wex hjfqm djf dpv avm cfazwbzx. Djf webg cfjtqxi, wex dqar bg: cbzjZWD{DF3LP3VZS_4774ZN5_4F3_Z001_4871X6DT}\n",
    "\"\"\"\n",
    "out = \"\"\n",
    "for i in range(len(enc)):\n",
    "    if (enc[i].upper() in mapping.keys()):\n",
    "        tmp = mapping[enc[i].upper()]\n",
    "        out+= tmp.lower() if enc[i].islower() else tmp\n",
    "    else:\n",
    "        out+=enc[i]\n",
    "print(out)"
   ]
  },
  {
   "cell_type": "markdown",
   "metadata": {},
   "source": [
    "### Part 2"
   ]
  },
  {
   "cell_type": "code",
   "execution_count": 80,
   "metadata": {},
   "outputs": [],
   "source": [
    "k = \"ABCDEFGHIJKLMNOPQRSTUVWXYZ\"\n",
    "# entirely inferred from flagstring\n",
    "K = \"  ZB V  X   GLQS Y NW   H \"\n",
    "# sxzqZNV\n",
    "# 0123456789\n",
    "# OI E SGT  \n",
    "# OL EA  T  \n",
    "# picoCTF{L6Y4G_4L41H515_15_73B10W5_8F1KF808\n",
    "#         NGRAM\n",
    "# picoCTF{L6YAG_ANALYSIS_IS_TEDIOUS_)}\n",
    "mapping = dict(zip(K, k))"
   ]
  },
  {
   "cell_type": "code",
   "execution_count": 81,
   "metadata": {},
   "outputs": [
    {
     "name": "stdout",
     "output_type": "stream",
     "text": [
      "tafrffoietefufrtpotafrmfppfettkpieafdairaecaoopcomputfrefcuritycompftitioneincpudinrcykfrpttriottnduecykfrcatppfnrftafefcompftitionefocueprimtripyoneyetfmetdminietrttionfundtmfnttpemaicatrfufryueffuptndmtrcfttkpfecippeaomfufrmfkfpifuftafpropfrpurpoefoftairaecaoopcomputfrefcuritycompftitionienotonpytotftcautputkpfecippekuttpeotorftetudfnteintfrfetfdintndfocitfdtkoutcomputfrecifncfdfffneiufcompftitionetrfoftfnptkoriouetfftiretndcomfdomntorunninrcafccpietetndfofcutinrconfirecripteofffnefontafotafratndieaftuipyfocuefdonfopporttiontndimprouiettiontndoftfnatefpfmfnteofpptymfkfpifuftcompftitiontoucainrontafofffneiuffpfmfnteofcomputfrefcurityietafrfforftkfttfrufaicpffortfcafutnrfpiemtoetudfnteintmfrictnairaecaoopefurtafrmfkfpifuftatttnundfrettndinrofofffneiuftfcaniiufeiefeefntitpformountinrtnffffctiufdfffneftndtatttaftoopetndconfirurttionfocuefncountfrfdindfffneiufcompftitionedofenotpftdetudfntetocnomtafirfnfmyteffffctiufpytetftcainrtafmtotctiufpytaincpicftnttttccfrpicoctfietnofffneiufpyorifntfdairaecaoopcomputfrefcuritycompftitiontatteffcetorfnfrttfintfrfetincomputfrecifncftmonrairaecaoopfretftcainrtafmfnouratkoutcomputfrefcuritytopiiuftafircurioeitymotiuttinrtafmtofopporfontafiromntndfntkpinrtafmtokfttfrdfffndtafirmtcainfetaffptriepicoCTF{N6R4M_4N41Y515_15_73D10U5_8F1KF808}\n",
      "\n"
     ]
    }
   ],
   "source": [
    "enc = \"\"\"nafyffoxenefufytpqnafymfppfentkpxeafbaxraezaqqpzqgswnfyefzwyxnhzqgsfnxnxqlexlzpwbxlrzhkfystnyxqntlbwezhkfyzatppflrfnafefzqgsfnxnxqlevqzwesyxgtyxphqlehenfgetbgxlxenytnxqlvwlbtgflntpemaxzatyfufyhwefvwptlbgtycfntkpfecxppeaqmfufymfkfpxfufnafsyqsfyswysqefqvtaxraezaqqpzqgswnfyefzwyxnhzqgsfnxnxqlxelqnqlphnqnftzautpwtkpfecxppekwntpeqnqrfnenwbflnexlnfyfenfbxltlbfozxnfbtkqwnzqgswnfyezxflzfbfvflexufzqgsfnxnxqletyfqvnflptkqyxqwetvvtxyetlbzqgfbqmlnqywllxlrzafzcpxenetlbfofzwnxlrzqlvxrezyxsneqvvflefqlnafqnafyatlbxeaftuxphvqzwefbqlfospqytnxqltlbxgsyquxetnxqltlbqvnflatefpfgflneqvspthmfkfpxfuftzqgsfnxnxqlnqwzaxlrqlnafqvvflexuffpfgflneqvzqgswnfyefzwyxnhxenafyfvqyftkfnnfyufaxzpfvqynfzafutlrfpxegnqenwbflnexltgfyxztlaxraezaqqpevwynafymfkfpxfufnatntlwlbfyentlbxlrqvqvvflexufnfzalxiwfexefeeflnxtpvqygqwlnxlrtlfvvfznxufbfvfleftlbnatnnafnqqpetlbzqlvxrwytnxqlvqzweflzqwlnfyfbxlbfvflexufzqgsfnxnxqlebqfelqnpftbenwbflnenqclqmnafxyflfghtefvvfznxufphtenftzaxlrnafgnqtznxufphnaxlcpxcftltnntzcfysxzqznvxetlqvvflexufphqyxflnfbaxraezaqqpzqgswnfyefzwyxnhzqgsfnxnxqlnatneffcenqrflfytnfxlnfyfenxlzqgswnfyezxflzftgqlraxraezaqqpfyenftzaxlrnafgflqwratkqwnzqgswnfyefzwyxnhnqsxiwfnafxyzwyxqexnhgqnxutnxlrnafgnqfospqyfqlnafxyqmltlbfltkpxlrnafgnqkfnnfybfvflbnafxygtzaxlfenafvptrxesxzqZNV{L6Y4G_4L41H515_15_73B10W5_8F1KV808}\n",
    "\"\"\"\n",
    "out = \"\"\n",
    "for i in range(len(enc)):\n",
    "    if (enc[i].upper() in mapping.keys()):\n",
    "        tmp = mapping[enc[i].upper()]\n",
    "        out+= tmp.lower() if enc[i].islower() else tmp\n",
    "    else:\n",
    "        out+=enc[i]\n",
    "print(out)"
   ]
  },
  {
   "cell_type": "code",
   "execution_count": 102,
   "metadata": {},
   "outputs": [],
   "source": [
    "# now we have clear enough words to solve it\n",
    "k = \"ABCDEFGHIJKLMNOPQRSTUVWXYZ\"\n",
    "K = \"TKZBFVRAX CPGLQS YENWUMOH \"\n",
    "mapping = dict(zip(K, k))"
   ]
  },
  {
   "cell_type": "code",
   "execution_count": 103,
   "metadata": {},
   "outputs": [
    {
     "name": "stdout",
     "output_type": "stream",
     "text": [
      "thereexistseveralotherwellestablishedhighschoolcomputersecuritycompetitionsincludingcyberpatriotanduscyberchallengethesecompetitionsfocusprimarilyonsystemsadministrationfundamentalswhichareveryusefulandmarketableskillshoweverwebelievetheproperpurposeofahighschoolcomputersecuritycompetitionisnotonlytoteachvaluableskillsbutalsotogetstudentsinterestedinandexcitedaboutcomputersciencedefensivecompetitionsareoftenlaboriousaffairsandcomedowntorunningchecklistsandexecutingconfigscriptsoffenseontheotherhandisheavilyfocusedonexplorationandimprovisationandoftenhaselementsofplaywebelieveacompetitiontouchingontheoffensiveelementsofcomputersecurityisthereforeabettervehiclefortechevangelismtostudentsinamericanhighschoolsfurtherwebelievethatanunderstandingofoffensivetechniiuesisessentialformountinganeffectivedefenseandthatthetoolsandconfigurationfocusencounteredindefensivecompetitionsdoesnotleadstudentstoknowtheirenemyaseffectivelyasteachingthemtoactivelythinklikeanattackerpicoctfisanoffensivelyorientedhighschoolcomputersecuritycompetitionthatseekstogenerateinterestincomputerscienceamonghighschoolersteachingthemenoughaboutcomputersecuritytopiiuetheircuriositymotivatingthemtoexploreontheirownandenablingthemtobetterdefendtheirmachinestheflagispicoCTF{N6R4M_4N41Y515_15_73D10U5_8E1BF808}\n",
      "\n"
     ]
    }
   ],
   "source": [
    "enc = \"\"\"nafyffoxenefufytpqnafymfppfentkpxeafbaxraezaqqpzqgswnfyefzwyxnhzqgsfnxnxqlexlzpwbxlrzhkfystnyxqntlbwezhkfyzatppflrfnafefzqgsfnxnxqlevqzwesyxgtyxphqlehenfgetbgxlxenytnxqlvwlbtgflntpemaxzatyfufyhwefvwptlbgtycfntkpfecxppeaqmfufymfkfpxfufnafsyqsfyswysqefqvtaxraezaqqpzqgswnfyefzwyxnhzqgsfnxnxqlxelqnqlphnqnftzautpwtkpfecxppekwntpeqnqrfnenwbflnexlnfyfenfbxltlbfozxnfbtkqwnzqgswnfyezxflzfbfvflexufzqgsfnxnxqletyfqvnflptkqyxqwetvvtxyetlbzqgfbqmlnqywllxlrzafzcpxenetlbfofzwnxlrzqlvxrezyxsneqvvflefqlnafqnafyatlbxeaftuxphvqzwefbqlfospqytnxqltlbxgsyquxetnxqltlbqvnflatefpfgflneqvspthmfkfpxfuftzqgsfnxnxqlnqwzaxlrqlnafqvvflexuffpfgflneqvzqgswnfyefzwyxnhxenafyfvqyftkfnnfyufaxzpfvqynfzafutlrfpxegnqenwbflnexltgfyxztlaxraezaqqpevwynafymfkfpxfufnatntlwlbfyentlbxlrqvqvvflexufnfzalxiwfexefeeflnxtpvqygqwlnxlrtlfvvfznxufbfvfleftlbnatnnafnqqpetlbzqlvxrwytnxqlvqzweflzqwlnfyfbxlbfvflexufzqgsfnxnxqlebqfelqnpftbenwbflnenqclqmnafxyflfghtefvvfznxufphtenftzaxlrnafgnqtznxufphnaxlcpxcftltnntzcfysxzqznvxetlqvvflexufphqyxflnfbaxraezaqqpzqgswnfyefzwyxnhzqgsfnxnxqlnatneffcenqrflfytnfxlnfyfenxlzqgswnfyezxflzftgqlraxraezaqqpfyenftzaxlrnafgflqwratkqwnzqgswnfyefzwyxnhnqsxiwfnafxyzwyxqexnhgqnxutnxlrnafgnqfospqyfqlnafxyqmltlbfltkpxlrnafgnqkfnnfybfvflbnafxygtzaxlfenafvptrxesxzqZNV{L6Y4G_4L41H515_15_73B10W5_8F1KV808}\n",
    "\"\"\"\n",
    "out = \"\"\n",
    "for i in range(len(enc)):\n",
    "    if (enc[i].upper() in mapping.keys()):\n",
    "        tmp = mapping[enc[i].upper()]\n",
    "        out+= tmp.lower() if enc[i].islower() else tmp\n",
    "    else:\n",
    "        out+=enc[i]\n",
    "print(out)"
   ]
  },
  {
   "cell_type": "markdown",
   "metadata": {},
   "source": [
    "picoCTF{N6R4M_4N41Y515_15_73D10U5_8E1BF808}"
   ]
  }
 ],
 "metadata": {
  "kernelspec": {
   "display_name": ".venv",
   "language": "python",
   "name": "python3"
  },
  "language_info": {
   "codemirror_mode": {
    "name": "ipython",
    "version": 3
   },
   "file_extension": ".py",
   "mimetype": "text/x-python",
   "name": "python",
   "nbconvert_exporter": "python",
   "pygments_lexer": "ipython3",
   "version": "3.11.6"
  }
 },
 "nbformat": 4,
 "nbformat_minor": 2
}
