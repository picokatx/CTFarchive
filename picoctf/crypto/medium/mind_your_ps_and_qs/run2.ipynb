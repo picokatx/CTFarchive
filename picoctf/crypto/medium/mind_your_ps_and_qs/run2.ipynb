{
 "cells": [
  {
   "cell_type": "markdown",
   "metadata": {},
   "source": [
    "probably quadratic sieve \\\n",
    "right I just used an external tool to sieve\\\n",
    "1593021310640923782355996681284584012117 521911930824021492581321351826927897005221\\\n",
    "let's see the real answer\\\n",
    "wow real answer legit is just search up the factors. lol"
   ]
  },
  {
   "cell_type": "code",
   "execution_count": 89,
   "metadata": {},
   "outputs": [
    {
     "data": {
      "text/plain": [
       "['0?<@@6;4A52?B/60<;-.>7@@0?',\n",
       " '1@=AA7<5B63@C071=<./?8AA1@',\n",
       " '2A>BB8=6C74AD182>=/0@9BB2A',\n",
       " '3B?CC9>7D85BE293?>01A:CC3B',\n",
       " '4C@DD:?8E96CF3:4@?12B;DD4C',\n",
       " '5DAEE;@9F:7DG4;5A@23C<EE5D',\n",
       " '6EBFF<A:G;8EH5<6BA34D=FF6E',\n",
       " '7FCGG=B;H<9FI6=7CB45E>GG7F',\n",
       " '8GDHH>C<I=:GJ7>8DC56F?HH8G',\n",
       " '9HEII?D=J>;HK8?9ED67G@II9H',\n",
       " ':IFJJ@E>K?<IL9@:FE78HAJJ:I',\n",
       " ';JGKKAF?L@=JM:A;GF89IBKK;J',\n",
       " '<KHLLBG@MA>KN;B<HG9:JCLL<K',\n",
       " '=LIMMCHANB?LO<C=IH:;KDMM=L',\n",
       " '>MJNNDIBOC@MP=D>JI;<LENN>M',\n",
       " '?NKOOEJCPDANQ>E?KJ<=MFOO?N',\n",
       " '@OLPPFKDQEBOR?F@LK=>NGPP@O',\n",
       " 'APMQQGLERFCPS@GAML>?OHQQAP',\n",
       " 'BQNRRHMFSGDQTAHBNM?@PIRRBQ',\n",
       " 'CROSSINGTHERUBICON@AQJSSCR',\n",
       " 'DSPTTJOHUIFSVCJDPOABRKTTDS',\n",
       " 'ETQUUKPIVJGTWDKEQPBCSLUUET',\n",
       " 'FURVVLQJWKHUXELFRQCDTMVVFU',\n",
       " 'GVSWWMRKXLIVYFMGSRDEUNWWGV',\n",
       " 'HWTXXNSLYMJWZGNHTSEFVOXXHW',\n",
       " 'IXUYYOTMZNKX[HOIUTFGWPYYIX',\n",
       " 'JYVZZPUN[OLY\\\\IPJVUGHXQZZJY',\n",
       " 'KZW[[QVO\\\\PMZ]JQKWVHIYR[[KZ',\n",
       " 'L[X\\\\\\\\RWP]QN[^KRLXWIJZS\\\\\\\\L[',\n",
       " 'M\\\\Y]]SXQ^RO\\\\_LSMYXJK[T]]M\\\\',\n",
       " 'N]Z^^TYR_SP]`MTNZYKL\\\\U^^N]',\n",
       " 'O^[__UZS`TQ^aNUO[ZLM]V__O^',\n",
       " 'P_\\\\``V[TaUR_bOVP\\\\[MN^W``P_',\n",
       " 'Q`]aaW\\\\UbVS`cPWQ]\\\\NO_XaaQ`',\n",
       " 'Ra^bbX]VcWTadQXR^]OP`YbbRa',\n",
       " 'Sb_ccY^WdXUbeRYS_^PQaZccSb',\n",
       " 'Tc`ddZ_XeYVcfSZT`_QRb[ddTc',\n",
       " 'Udaee[`YfZWdgT[Ua`RSc\\\\eeUd',\n",
       " 'Vebff\\\\aZg[XehU\\\\VbaSTd]ffVe',\n",
       " 'Wfcgg]b[h\\\\YfiV]WcbTUe^ggWf',\n",
       " 'Xgdhh^c\\\\i]ZgjW^XdcUVf_hhXg',\n",
       " 'Yheii_d]j^[hkX_YedVWg`iiYh',\n",
       " 'Zifjj`e^k_\\\\ilY`ZfeWXhajjZi',\n",
       " '[jgkkaf_l`]jmZa[gfXYibkk[j',\n",
       " '\\\\khllbg`ma^kn[b\\\\hgYZjcll\\\\k',\n",
       " ']limmchanb_lo\\\\c]ihZ[kdmm]l',\n",
       " '^mjnndiboc`mp]d^ji[\\\\lenn^m',\n",
       " '_nkooejcpdanq^e_kj\\\\]mfoo_n',\n",
       " '`olppfkdqebor_f`lk]^ngpp`o',\n",
       " 'apmqqglerfcps`gaml^_ohqqap',\n",
       " 'bqnrrhmfsgdqtahbnm_`pirrbq',\n",
       " 'crossingtherubicon`aqjsscr',\n",
       " 'dspttjohuifsvcjdpoabrkttds',\n",
       " 'etquukpivjgtwdkeqpbcsluuet',\n",
       " 'furvvlqjwkhuxelfrqcdtmvvfu',\n",
       " 'gvswwmrkxlivyfmgsrdeunwwgv',\n",
       " 'hwtxxnslymjwzgnhtsefvoxxhw',\n",
       " 'ixuyyotmznkx{hoiutfgwpyyix',\n",
       " 'jyvzzpun{oly|ipjvughxqzzjy',\n",
       " 'kzw{{qvo|pmz}jqkwvhiyr{{kz',\n",
       " 'l{x||rwp}qn{~krlxwijzs||l{',\n",
       " 'm|y}}sxq~ro|\\x7flsmyxjk{t}}m|',\n",
       " 'n}z~~tyr\\x7fsp}\\x80mtnzykl|u~~n}',\n",
       " 'o~{\\x7f\\x7fuzs\\x80tq~\\x81nuo{zlm}v\\x7f\\x7fo~',\n",
       " 'p\\x7f|\\x80\\x80v{t\\x81ur\\x7f\\x82ovp|{mn~w\\x80\\x80p\\x7f',\n",
       " 'q\\x80}\\x81\\x81w|u\\x82vs\\x80\\x83pwq}|no\\x7fx\\x81\\x81q\\x80',\n",
       " 'r\\x81~\\x82\\x82x}v\\x83wt\\x81\\x84qxr~}op\\x80y\\x82\\x82r\\x81',\n",
       " 's\\x82\\x7f\\x83\\x83y~w\\x84xu\\x82\\x85rys\\x7f~pq\\x81z\\x83\\x83s\\x82',\n",
       " 't\\x83\\x80\\x84\\x84z\\x7fx\\x85yv\\x83\\x86szt\\x80\\x7fqr\\x82{\\x84\\x84t\\x83',\n",
       " 'u\\x84\\x81\\x85\\x85{\\x80y\\x86zw\\x84\\x87t{u\\x81\\x80rs\\x83|\\x85\\x85u\\x84',\n",
       " 'v\\x85\\x82\\x86\\x86|\\x81z\\x87{x\\x85\\x88u|v\\x82\\x81st\\x84}\\x86\\x86v\\x85',\n",
       " 'w\\x86\\x83\\x87\\x87}\\x82{\\x88|y\\x86\\x89v}w\\x83\\x82tu\\x85~\\x87\\x87w\\x86',\n",
       " 'x\\x87\\x84\\x88\\x88~\\x83|\\x89}z\\x87\\x8aw~x\\x84\\x83uv\\x86\\x7f\\x88\\x88x\\x87',\n",
       " 'y\\x88\\x85\\x89\\x89\\x7f\\x84}\\x8a~{\\x88\\x8bx\\x7fy\\x85\\x84vw\\x87\\x80\\x89\\x89y\\x88',\n",
       " 'z\\x89\\x86\\x8a\\x8a\\x80\\x85~\\x8b\\x7f|\\x89\\x8cy\\x80z\\x86\\x85wx\\x88\\x81\\x8a\\x8az\\x89',\n",
       " '{\\x8a\\x87\\x8b\\x8b\\x81\\x86\\x7f\\x8c\\x80}\\x8a\\x8dz\\x81{\\x87\\x86xy\\x89\\x82\\x8b\\x8b{\\x8a',\n",
       " '|\\x8b\\x88\\x8c\\x8c\\x82\\x87\\x80\\x8d\\x81~\\x8b\\x8e{\\x82|\\x88\\x87yz\\x8a\\x83\\x8c\\x8c|\\x8b',\n",
       " '}\\x8c\\x89\\x8d\\x8d\\x83\\x88\\x81\\x8e\\x82\\x7f\\x8c\\x8f|\\x83}\\x89\\x88z{\\x8b\\x84\\x8d\\x8d}\\x8c',\n",
       " '~\\x8d\\x8a\\x8e\\x8e\\x84\\x89\\x82\\x8f\\x83\\x80\\x8d\\x90}\\x84~\\x8a\\x89{|\\x8c\\x85\\x8e\\x8e~\\x8d',\n",
       " '\\x7f\\x8e\\x8b\\x8f\\x8f\\x85\\x8a\\x83\\x90\\x84\\x81\\x8e\\x91~\\x85\\x7f\\x8b\\x8a|}\\x8d\\x86\\x8f\\x8f\\x7f\\x8e',\n",
       " '\\x80\\x8f\\x8c\\x90\\x90\\x86\\x8b\\x84\\x91\\x85\\x82\\x8f\\x92\\x7f\\x86\\x80\\x8c\\x8b}~\\x8e\\x87\\x90\\x90\\x80\\x8f',\n",
       " '\\x81\\x90\\x8d\\x91\\x91\\x87\\x8c\\x85\\x92\\x86\\x83\\x90\\x93\\x80\\x87\\x81\\x8d\\x8c~\\x7f\\x8f\\x88\\x91\\x91\\x81\\x90',\n",
       " '\\x82\\x91\\x8e\\x92\\x92\\x88\\x8d\\x86\\x93\\x87\\x84\\x91\\x94\\x81\\x88\\x82\\x8e\\x8d\\x7f\\x80\\x90\\x89\\x92\\x92\\x82\\x91',\n",
       " '\\x83\\x92\\x8f\\x93\\x93\\x89\\x8e\\x87\\x94\\x88\\x85\\x92\\x95\\x82\\x89\\x83\\x8f\\x8e\\x80\\x81\\x91\\x8a\\x93\\x93\\x83\\x92',\n",
       " '\\x84\\x93\\x90\\x94\\x94\\x8a\\x8f\\x88\\x95\\x89\\x86\\x93\\x96\\x83\\x8a\\x84\\x90\\x8f\\x81\\x82\\x92\\x8b\\x94\\x94\\x84\\x93',\n",
       " '\\x85\\x94\\x91\\x95\\x95\\x8b\\x90\\x89\\x96\\x8a\\x87\\x94\\x97\\x84\\x8b\\x85\\x91\\x90\\x82\\x83\\x93\\x8c\\x95\\x95\\x85\\x94',\n",
       " '\\x86\\x95\\x92\\x96\\x96\\x8c\\x91\\x8a\\x97\\x8b\\x88\\x95\\x98\\x85\\x8c\\x86\\x92\\x91\\x83\\x84\\x94\\x8d\\x96\\x96\\x86\\x95',\n",
       " '\\x87\\x96\\x93\\x97\\x97\\x8d\\x92\\x8b\\x98\\x8c\\x89\\x96\\x99\\x86\\x8d\\x87\\x93\\x92\\x84\\x85\\x95\\x8e\\x97\\x97\\x87\\x96',\n",
       " '\\x88\\x97\\x94\\x98\\x98\\x8e\\x93\\x8c\\x99\\x8d\\x8a\\x97\\x9a\\x87\\x8e\\x88\\x94\\x93\\x85\\x86\\x96\\x8f\\x98\\x98\\x88\\x97',\n",
       " '\\x89\\x98\\x95\\x99\\x99\\x8f\\x94\\x8d\\x9a\\x8e\\x8b\\x98\\x9b\\x88\\x8f\\x89\\x95\\x94\\x86\\x87\\x97\\x90\\x99\\x99\\x89\\x98',\n",
       " '\\x8a\\x99\\x96\\x9a\\x9a\\x90\\x95\\x8e\\x9b\\x8f\\x8c\\x99\\x9c\\x89\\x90\\x8a\\x96\\x95\\x87\\x88\\x98\\x91\\x9a\\x9a\\x8a\\x99',\n",
       " '\\x8b\\x9a\\x97\\x9b\\x9b\\x91\\x96\\x8f\\x9c\\x90\\x8d\\x9a\\x9d\\x8a\\x91\\x8b\\x97\\x96\\x88\\x89\\x99\\x92\\x9b\\x9b\\x8b\\x9a',\n",
       " '\\x8c\\x9b\\x98\\x9c\\x9c\\x92\\x97\\x90\\x9d\\x91\\x8e\\x9b\\x9e\\x8b\\x92\\x8c\\x98\\x97\\x89\\x8a\\x9a\\x93\\x9c\\x9c\\x8c\\x9b',\n",
       " '\\x8d\\x9c\\x99\\x9d\\x9d\\x93\\x98\\x91\\x9e\\x92\\x8f\\x9c\\x9f\\x8c\\x93\\x8d\\x99\\x98\\x8a\\x8b\\x9b\\x94\\x9d\\x9d\\x8d\\x9c',\n",
       " '\\x8e\\x9d\\x9a\\x9e\\x9e\\x94\\x99\\x92\\x9f\\x93\\x90\\x9d\\xa0\\x8d\\x94\\x8e\\x9a\\x99\\x8b\\x8c\\x9c\\x95\\x9e\\x9e\\x8e\\x9d',\n",
       " '\\x8f\\x9e\\x9b\\x9f\\x9f\\x95\\x9a\\x93\\xa0\\x94\\x91\\x9e¡\\x8e\\x95\\x8f\\x9b\\x9a\\x8c\\x8d\\x9d\\x96\\x9f\\x9f\\x8f\\x9e',\n",
       " '\\x90\\x9f\\x9c\\xa0\\xa0\\x96\\x9b\\x94¡\\x95\\x92\\x9f¢\\x8f\\x96\\x90\\x9c\\x9b\\x8d\\x8e\\x9e\\x97\\xa0\\xa0\\x90\\x9f',\n",
       " '\\x91\\xa0\\x9d¡¡\\x97\\x9c\\x95¢\\x96\\x93\\xa0£\\x90\\x97\\x91\\x9d\\x9c\\x8e\\x8f\\x9f\\x98¡¡\\x91\\xa0',\n",
       " '\\x92¡\\x9e¢¢\\x98\\x9d\\x96£\\x97\\x94¡¤\\x91\\x98\\x92\\x9e\\x9d\\x8f\\x90\\xa0\\x99¢¢\\x92¡',\n",
       " '\\x93¢\\x9f££\\x99\\x9e\\x97¤\\x98\\x95¢¥\\x92\\x99\\x93\\x9f\\x9e\\x90\\x91¡\\x9a££\\x93¢',\n",
       " '\\x94£\\xa0¤¤\\x9a\\x9f\\x98¥\\x99\\x96£¦\\x93\\x9a\\x94\\xa0\\x9f\\x91\\x92¢\\x9b¤¤\\x94£',\n",
       " '\\x95¤¡¥¥\\x9b\\xa0\\x99¦\\x9a\\x97¤§\\x94\\x9b\\x95¡\\xa0\\x92\\x93£\\x9c¥¥\\x95¤',\n",
       " '\\x96¥¢¦¦\\x9c¡\\x9a§\\x9b\\x98¥¨\\x95\\x9c\\x96¢¡\\x93\\x94¤\\x9d¦¦\\x96¥',\n",
       " '\\x97¦£§§\\x9d¢\\x9b¨\\x9c\\x99¦©\\x96\\x9d\\x97£¢\\x94\\x95¥\\x9e§§\\x97¦']"
      ]
     },
     "execution_count": 89,
     "metadata": {},
     "output_type": "execute_result"
    }
   ],
   "source": [
    "[\"\".join([chr(j+i) for j in b\"dspttjohuifsvcjdpoabrkttds\"]) for i in range(-52, 52)]"
   ]
  },
  {
   "cell_type": "code",
   "execution_count": 6,
   "metadata": {},
   "outputs": [],
   "source": [
    "from math import floor, log2\n",
    "from sympy import prime\n",
    "import random"
   ]
  },
  {
   "cell_type": "code",
   "execution_count": 124,
   "metadata": {},
   "outputs": [],
   "source": [
    "def gcd(a, b): # b > a\n",
    "    if a>b:\n",
    "        temp = a\n",
    "        a = b\n",
    "        b = temp\n",
    "    q_0 = 0\n",
    "    a_0 = a\n",
    "    b_0 = b\n",
    "    ### extended gcd ###\n",
    "    s_0 = 1\n",
    "    s_1 = 0\n",
    "    t_0 = 0\n",
    "    t_1 = 1\n",
    "    ### extended gcd ###\n",
    "    while True:\n",
    "        q_0 = 0\n",
    "        while b_0>=a_0: #  and a_0!=0\n",
    "            b_0 -= a_0\n",
    "            q_0+=1\n",
    "        ### extended gcd ###\n",
    "        temp_s = s_1\n",
    "        s_1 = s_0-q_0*s_1\n",
    "        s_0 = temp_s\n",
    "        temp_t = t_1\n",
    "        t_1 = t_0-q_0*t_1\n",
    "        t_0 = temp_t\n",
    "        # print(t_0, t_1, s_0, s_1)\n",
    "        ### extended gcd ###\n",
    "        if (q_0==0 or b_0==0): break\n",
    "        rem = b_0\n",
    "        b_0 = a_0\n",
    "        a_0 = rem\n",
    "        if (a_0==1):\n",
    "            temp_s = s_1\n",
    "            s_1 = s_0-q_0*s_1\n",
    "            s_0 = temp_s\n",
    "            temp_t = t_1\n",
    "            t_1 = t_0-q_0*t_1\n",
    "            t_0 = temp_t\n",
    "            break\n",
    "    return a_0, t_0, s_0\n",
    "def lcm(a,b):\n",
    "    return abs(a*b)//gcd(a,b)[0]\n",
    "ascii32bit = \"abcdefghijklmnopqrstuvwxyz.,!?' \"\n",
    "def ascii32bit_encode(s: str):\n",
    "    acc = 0\n",
    "    i = 0\n",
    "    for c in s:\n",
    "        acc+=(ascii32bit.index(c) if c in ascii32bit else 31)<<i\n",
    "        i+=5\n",
    "    return acc\n",
    "# edge case where last char has leading zeros, need to adjust bit shift offset accordingly\n",
    "def ascii32bit_decode(s: int):\n",
    "    acc = s\n",
    "    ans = \"\"\n",
    "    n = round(log2(s)) - 5\n",
    "    n = n+(5-n%5) if n%5!=0 else n\n",
    "    for i in range(n, -1, -5):\n",
    "        temp = acc >> i\n",
    "        temp2 = temp << i\n",
    "        ans=ascii32bit[temp]+ans\n",
    "        acc -= temp2\n",
    "    return ans\n",
    "def fast_mod_exp(b, exp, m):\n",
    "    res = 1\n",
    "    while exp > 1:\n",
    "        if exp & 1:\n",
    "            res = (res * b) % m\n",
    "        b = b ** 2 % m\n",
    "        exp >>= 1\n",
    "    return (b * res) % m\n",
    "# ported from https://stackoverflow.com/questions/2921406/calculate-primes-p-and-q-from-private-exponent-d-public-exponent-e-and-the\n",
    "# given d e and n, find p and q\n",
    "def pq_from_den(d, e, n):\n",
    "    k = d*e-1\n",
    "    if (k%2==0):\n",
    "        r = k\n",
    "        t = 0\n",
    "        while (r%2==0):\n",
    "            r = r >> 1\n",
    "            t+=1\n",
    "        success = False\n",
    "        y = -1\n",
    "        for i in range(1,101):\n",
    "            g = -1\n",
    "            g = random.randrange(0,n)\n",
    "            y = fast_mod_exp(g,r,n)\n",
    "            if y==1 or y==n-1:\n",
    "                continue\n",
    "            for j in range(1, t):\n",
    "                x = fast_mod_exp(y,2,n)\n",
    "                if x==1:\n",
    "                    success = True\n",
    "                    break\n",
    "                if x==n-1:\n",
    "                    continue\n",
    "                y = x\n",
    "            x = fast_mod_exp(y, 2, n)\n",
    "            if (x==1):\n",
    "                success=True\n",
    "                break\n",
    "        if (success):\n",
    "            p = gcd(y-1, n)[0]\n",
    "            q = n//p\n",
    "            return p, q\n",
    "        else:\n",
    "            assert False, \"not found\"\n",
    "    else:\n",
    "        assert False, \"not found\""
   ]
  },
  {
   "cell_type": "code",
   "execution_count": 129,
   "metadata": {},
   "outputs": [
    {
     "data": {
      "text/plain": [
       "13016382529449106065927291425342535437996222135352905256639592405461024281868413"
      ]
     },
     "execution_count": 129,
     "metadata": {},
     "output_type": "execute_result"
    }
   ],
   "source": [
    "p = 1593021310640923782355996681284584012117 # prime(18000)\n",
    "q = 521911930824021492581321351826927897005221 # prime(10000)\n",
    "n = 831416828080417866340504968188990032810316193533653516022175784399720141076262857\n",
    "lambda_n = lcm(q-1,p-1)\n",
    "phin = p*q-p-q+1\n",
    "e =  65537 #prime(2598) # 1<e<lambda_n and gcd(e, lambda_n)=1\n",
    "d = pow(e,-1,phin)\n",
    "c = 240986837130071017759137533082982207147971245672412893755780400885108149004760496\n",
    "pow(c,d,n)"
   ]
  },
  {
   "cell_type": "code",
   "execution_count": 130,
   "metadata": {},
   "outputs": [
    {
     "data": {
      "text/plain": [
       "bytearray(b'picoCTF{sma11_N_n0_g0od_23540368}')"
      ]
     },
     "execution_count": 130,
     "metadata": {},
     "output_type": "execute_result"
    }
   ],
   "source": [
    "bytearray.fromhex(hex(13016382529449106065927291425342535437996222135352905256639592405461024281868413)[2:])"
   ]
  },
  {
   "cell_type": "code",
   "execution_count": 126,
   "metadata": {},
   "outputs": [
    {
     "data": {
      "text/plain": [
       "29693458145729209512160891721035358314635453163625673343064718108971854592687340"
      ]
     },
     "execution_count": 126,
     "metadata": {},
     "output_type": "execute_result"
    }
   ],
   "source": [
    "lambda_n"
   ]
  },
  {
   "cell_type": "code",
   "execution_count": 98,
   "metadata": {},
   "outputs": [
    {
     "data": {
      "text/latex": [
       "$\\displaystyle 1$"
      ],
      "text/plain": [
       "1"
      ]
     },
     "execution_count": 98,
     "metadata": {},
     "output_type": "execute_result"
    }
   ],
   "source": [
    "from sympy import gcd as gcd_sympy\n",
    "gcd_sympy(e, lambda_n)"
   ]
  },
  {
   "cell_type": "code",
   "execution_count": null,
   "metadata": {},
   "outputs": [],
   "source": [
    " \n",
    "d_m = fast_mod_exp(c,d,n)\n",
    "d_m"
   ]
  },
  {
   "cell_type": "code",
   "execution_count": 81,
   "metadata": {},
   "outputs": [],
   "source": [
    "c = 240986837130071017759137533082982207147971245672412893755780400885108149004760496\n",
    "n = 831416828080417866340504968188990032810316193533653516022175784399720141076262857\n",
    "e = 65537\n",
    "m = \"some ~100 bit number\""
   ]
  },
  {
   "cell_type": "code",
   "execution_count": 87,
   "metadata": {},
   "outputs": [
    {
     "ename": "KeyboardInterrupt",
     "evalue": "",
     "output_type": "error",
     "traceback": [
      "\u001b[1;31m---------------------------------------------------------------------------\u001b[0m",
      "\u001b[1;31mKeyboardInterrupt\u001b[0m                         Traceback (most recent call last)",
      "Cell \u001b[1;32mIn[87], line 2\u001b[0m\n\u001b[0;32m      1\u001b[0m \u001b[38;5;28;01mfrom\u001b[39;00m \u001b[38;5;21;01msympy\u001b[39;00m\u001b[38;5;21;01m.\u001b[39;00m\u001b[38;5;21;01mntheory\u001b[39;00m\u001b[38;5;21;01m.\u001b[39;00m\u001b[38;5;21;01mqs\u001b[39;00m \u001b[38;5;28;01mimport\u001b[39;00m qs\n\u001b[1;32m----> 2\u001b[0m \u001b[43mqs\u001b[49m\u001b[43m(\u001b[49m\u001b[43mn\u001b[49m\u001b[43m,\u001b[49m\u001b[43m \u001b[49m\u001b[38;5;241;43m100000\u001b[39;49m\u001b[43m,\u001b[49m\u001b[43m \u001b[49m\u001b[38;5;241;43m393216\u001b[39;49m\u001b[43m \u001b[49m\u001b[43m)\u001b[49m\n",
      "File \u001b[1;32mc:\\Users\\picokatx\\Documents\\CTF\\.venv\\Lib\\site-packages\\sympy\\ntheory\\qs.py:491\u001b[0m, in \u001b[0;36mqs\u001b[1;34m(N, prime_bound, M, ERROR_TERM, seed)\u001b[0m\n\u001b[0;32m    489\u001b[0m \u001b[38;5;28;01mif\u001b[39;00m ith_poly \u001b[38;5;241m>\u001b[39m\u001b[38;5;241m=\u001b[39m \u001b[38;5;241m2\u001b[39m\u001b[38;5;241m*\u001b[39m\u001b[38;5;241m*\u001b[39m(\u001b[38;5;28mlen\u001b[39m(B_array) \u001b[38;5;241m-\u001b[39m \u001b[38;5;241m1\u001b[39m): \u001b[38;5;66;03m# time to start with a new sieve polynomial\u001b[39;00m\n\u001b[0;32m    490\u001b[0m     ith_poly \u001b[38;5;241m=\u001b[39m \u001b[38;5;241m0\u001b[39m\n\u001b[1;32m--> 491\u001b[0m sieve_array \u001b[38;5;241m=\u001b[39m \u001b[43m_gen_sieve_array\u001b[49m\u001b[43m(\u001b[49m\u001b[43mM\u001b[49m\u001b[43m,\u001b[49m\u001b[43m \u001b[49m\u001b[43mfactor_base\u001b[49m\u001b[43m)\u001b[49m\n\u001b[0;32m    492\u001b[0m s_rel, p_f \u001b[38;5;241m=\u001b[39m _trial_division_stage(N, M, factor_base, sieve_array, ith_sieve_poly, partial_relations, ERROR_TERM)\n\u001b[0;32m    493\u001b[0m smooth_relations \u001b[38;5;241m+\u001b[39m\u001b[38;5;241m=\u001b[39m s_rel\n",
      "File \u001b[1;32mc:\\Users\\picokatx\\Documents\\CTF\\.venv\\Lib\\site-packages\\sympy\\ntheory\\qs.py:227\u001b[0m, in \u001b[0;36m_gen_sieve_array\u001b[1;34m(M, factor_base)\u001b[0m\n\u001b[0;32m    225\u001b[0m     \u001b[38;5;28;01mcontinue\u001b[39;00m\n\u001b[0;32m    226\u001b[0m \u001b[38;5;28;01mfor\u001b[39;00m idx \u001b[38;5;129;01min\u001b[39;00m \u001b[38;5;28mrange\u001b[39m((M \u001b[38;5;241m+\u001b[39m factor\u001b[38;5;241m.\u001b[39msoln1) \u001b[38;5;241m%\u001b[39m factor\u001b[38;5;241m.\u001b[39mprime, \u001b[38;5;241m2\u001b[39m\u001b[38;5;241m*\u001b[39mM, factor\u001b[38;5;241m.\u001b[39mprime):\n\u001b[1;32m--> 227\u001b[0m     sieve_array[idx] \u001b[38;5;241m+\u001b[39m\u001b[38;5;241m=\u001b[39m factor\u001b[38;5;241m.\u001b[39mlog_p\n\u001b[0;32m    228\u001b[0m \u001b[38;5;28;01mif\u001b[39;00m factor\u001b[38;5;241m.\u001b[39mprime \u001b[38;5;241m==\u001b[39m \u001b[38;5;241m2\u001b[39m:\n\u001b[0;32m    229\u001b[0m     \u001b[38;5;28;01mcontinue\u001b[39;00m\n",
      "\u001b[1;31mKeyboardInterrupt\u001b[0m: "
     ]
    }
   ],
   "source": [
    "from sympy.ntheory.qs import qs\n",
    "qs(n, 100000, 393216 )"
   ]
  },
  {
   "cell_type": "code",
   "execution_count": 72,
   "metadata": {},
   "outputs": [
    {
     "data": {
      "text/plain": [
       "340866181680768020121199940936881382007600899485832998326873083191477787976158892"
      ]
     },
     "execution_count": 72,
     "metadata": {},
     "output_type": "execute_result"
    }
   ],
   "source": [
    "fast_mod_exp(5,e,n)"
   ]
  },
  {
   "cell_type": "code",
   "execution_count": 76,
   "metadata": {},
   "outputs": [
    {
     "data": {
      "text/plain": [
       "1267650600228229401496703205376"
      ]
     },
     "execution_count": 76,
     "metadata": {},
     "output_type": "execute_result"
    }
   ],
   "source": [
    "2**100"
   ]
  },
  {
   "cell_type": "code",
   "execution_count": 53,
   "metadata": {},
   "outputs": [
    {
     "data": {
      "text/latex": [
       "$\\displaystyle \\sqrt[65537]{8555155117934249681164187214972882535251133181008948053977538244882309559767389066}$"
      ],
      "text/plain": [
       "8555155117934249681164187214972882535251133181008948053977538244882309559767389066**(1/65537)"
      ]
     },
     "execution_count": 53,
     "metadata": {},
     "output_type": "execute_result"
    }
   ],
   "source": [
    "from sympy import root\n",
    "root(c+(10)*n, e, k=0, evaluate=True)\n"
   ]
  },
  {
   "cell_type": "code",
   "execution_count": 39,
   "metadata": {},
   "outputs": [
    {
     "data": {
      "text/plain": [
       "1.0028827642612799"
      ]
     },
     "execution_count": 39,
     "metadata": {},
     "output_type": "execute_result"
    }
   ],
   "source": [
    "pow(, 1/e)"
   ]
  },
  {
   "cell_type": "code",
   "execution_count": 11,
   "metadata": {},
   "outputs": [
    {
     "data": {
      "text/plain": [
       "(28834299507364800744261446923832503828480, 1)"
      ]
     },
     "execution_count": 11,
     "metadata": {},
     "output_type": "execute_result"
    }
   ],
   "source": [
    "pow(n, 1/2).as_integer_ratio()"
   ]
  },
  {
   "cell_type": "code",
   "execution_count": null,
   "metadata": {},
   "outputs": [],
   "source": [
    "m**e - k*n = c"
   ]
  },
  {
   "cell_type": "code",
   "execution_count": 42,
   "metadata": {},
   "outputs": [
    {
     "data": {
      "text/plain": [
       "2535301200456458802993406410751"
      ]
     },
     "execution_count": 42,
     "metadata": {},
     "output_type": "execute_result"
    }
   ],
   "source": [
    "(0b1 << 101)-1"
   ]
  },
  {
   "cell_type": "code",
   "execution_count": 33,
   "metadata": {},
   "outputs": [
    {
     "data": {
      "text/plain": [
       "(28834299507364800744261446923832503828480, 1)"
      ]
     },
     "execution_count": 33,
     "metadata": {},
     "output_type": "execute_result"
    }
   ],
   "source": [
    "pow(n, 1/2).as_integer_ratio()"
   ]
  },
  {
   "cell_type": "code",
   "execution_count": 25,
   "metadata": {},
   "outputs": [
    {
     "ename": "KeyboardInterrupt",
     "evalue": "",
     "output_type": "error",
     "traceback": [
      "\u001b[1;31m---------------------------------------------------------------------------\u001b[0m",
      "\u001b[1;31mKeyboardInterrupt\u001b[0m                         Traceback (most recent call last)",
      "Cell \u001b[1;32mIn[25], line 2\u001b[0m\n\u001b[0;32m      1\u001b[0m \u001b[38;5;28;01mfrom\u001b[39;00m \u001b[38;5;21;01msympy\u001b[39;00m \u001b[38;5;28;01mimport\u001b[39;00m prime, divisor_count\n\u001b[1;32m----> 2\u001b[0m \u001b[43mdivisor_count\u001b[49m\u001b[43m(\u001b[49m\u001b[43mn\u001b[49m\u001b[43m)\u001b[49m\n",
      "File \u001b[1;32mc:\\Users\\picokatx\\Documents\\CTF\\.venv\\Lib\\site-packages\\sympy\\ntheory\\factor_.py:1703\u001b[0m, in \u001b[0;36mdivisor_count\u001b[1;34m(n, modulus, proper)\u001b[0m\n\u001b[0;32m   1701\u001b[0m \u001b[38;5;28;01mif\u001b[39;00m n \u001b[38;5;241m==\u001b[39m \u001b[38;5;241m0\u001b[39m:\n\u001b[0;32m   1702\u001b[0m     \u001b[38;5;28;01mreturn\u001b[39;00m \u001b[38;5;241m0\u001b[39m\n\u001b[1;32m-> 1703\u001b[0m n \u001b[38;5;241m=\u001b[39m Mul(\u001b[38;5;241m*\u001b[39m[v \u001b[38;5;241m+\u001b[39m \u001b[38;5;241m1\u001b[39m \u001b[38;5;28;01mfor\u001b[39;00m k, v \u001b[38;5;129;01min\u001b[39;00m \u001b[43mfactorint\u001b[49m\u001b[43m(\u001b[49m\u001b[43mn\u001b[49m\u001b[43m)\u001b[49m\u001b[38;5;241m.\u001b[39mitems() \u001b[38;5;28;01mif\u001b[39;00m k \u001b[38;5;241m>\u001b[39m \u001b[38;5;241m1\u001b[39m])\n\u001b[0;32m   1704\u001b[0m \u001b[38;5;28;01mif\u001b[39;00m n \u001b[38;5;129;01mand\u001b[39;00m proper:\n\u001b[0;32m   1705\u001b[0m     n \u001b[38;5;241m-\u001b[39m\u001b[38;5;241m=\u001b[39m \u001b[38;5;241m1\u001b[39m\n",
      "File \u001b[1;32mc:\\Users\\picokatx\\Documents\\CTF\\.venv\\Lib\\site-packages\\sympy\\ntheory\\factor_.py:1460\u001b[0m, in \u001b[0;36mfactorint\u001b[1;34m(n, limit, use_trial, use_rho, use_pm1, use_ecm, verbose, visual, multiple)\u001b[0m\n\u001b[0;32m   1458\u001b[0m \u001b[38;5;28;01mif\u001b[39;00m verbose:\n\u001b[0;32m   1459\u001b[0m     \u001b[38;5;28mprint\u001b[39m(ecm_msg \u001b[38;5;241m%\u001b[39m (B1, B2, num_curves))\n\u001b[1;32m-> 1460\u001b[0m factor \u001b[38;5;241m=\u001b[39m \u001b[43m_ecm_one_factor\u001b[49m\u001b[43m(\u001b[49m\u001b[43mn\u001b[49m\u001b[43m,\u001b[49m\u001b[43m \u001b[49m\u001b[43mB1\u001b[49m\u001b[43m,\u001b[49m\u001b[43m \u001b[49m\u001b[43mB2\u001b[49m\u001b[43m,\u001b[49m\u001b[43m \u001b[49m\u001b[43mnum_curves\u001b[49m\u001b[43m,\u001b[49m\u001b[43m \u001b[49m\u001b[43mseed\u001b[49m\u001b[38;5;241;43m=\u001b[39;49m\u001b[43mB1\u001b[49m\u001b[43m)\u001b[49m\n\u001b[0;32m   1461\u001b[0m \u001b[38;5;28;01mif\u001b[39;00m factor:\n\u001b[0;32m   1462\u001b[0m     \u001b[38;5;28;01mif\u001b[39;00m factor \u001b[38;5;241m<\u001b[39m next_p\u001b[38;5;241m*\u001b[39m\u001b[38;5;241m*\u001b[39m\u001b[38;5;241m2\u001b[39m \u001b[38;5;129;01mor\u001b[39;00m isprime(factor):\n",
      "File \u001b[1;32mc:\\Users\\picokatx\\Documents\\CTF\\.venv\\Lib\\site-packages\\sympy\\ntheory\\ecm.py:256\u001b[0m, in \u001b[0;36m_ecm_one_factor\u001b[1;34m(n, B1, B2, max_curve, seed)\u001b[0m\n\u001b[0;32m    253\u001b[0m     \u001b[38;5;28;01mreturn\u001b[39;00m g\n\u001b[0;32m    255\u001b[0m Q \u001b[38;5;241m=\u001b[39m Point(u_3, \u001b[38;5;28mpow\u001b[39m(v, \u001b[38;5;241m3\u001b[39m, n), a24, n)\n\u001b[1;32m--> 256\u001b[0m Q \u001b[38;5;241m=\u001b[39m \u001b[43mQ\u001b[49m\u001b[38;5;241;43m.\u001b[39;49m\u001b[43mmont_ladder\u001b[49m\u001b[43m(\u001b[49m\u001b[43mk\u001b[49m\u001b[43m)\u001b[49m\n\u001b[0;32m    257\u001b[0m g \u001b[38;5;241m=\u001b[39m gcd(Q\u001b[38;5;241m.\u001b[39mz_cord, n)\n\u001b[0;32m    259\u001b[0m \u001b[38;5;66;03m#Stage 1 factor\u001b[39;00m\n",
      "File \u001b[1;32mc:\\Users\\picokatx\\Documents\\CTF\\.venv\\Lib\\site-packages\\sympy\\ntheory\\ecm.py:156\u001b[0m, in \u001b[0;36mPoint.mont_ladder\u001b[1;34m(self, k)\u001b[0m\n\u001b[0;32m    154\u001b[0m     \u001b[38;5;28;01melse\u001b[39;00m:\n\u001b[0;32m    155\u001b[0m         R \u001b[38;5;241m=\u001b[39m Q\u001b[38;5;241m.\u001b[39madd(R, \u001b[38;5;28mself\u001b[39m)\n\u001b[1;32m--> 156\u001b[0m         Q \u001b[38;5;241m=\u001b[39m \u001b[43mQ\u001b[49m\u001b[38;5;241;43m.\u001b[39;49m\u001b[43mdouble\u001b[49m\u001b[43m(\u001b[49m\u001b[43m)\u001b[49m\n\u001b[0;32m    157\u001b[0m \u001b[38;5;28;01mreturn\u001b[39;00m Q\n",
      "File \u001b[1;32mc:\\Users\\picokatx\\Documents\\CTF\\.venv\\Lib\\site-packages\\sympy\\ntheory\\ecm.py:123\u001b[0m, in \u001b[0;36mPoint.double\u001b[1;34m(self)\u001b[0m\n\u001b[0;32m    121\u001b[0m x_cord \u001b[38;5;241m=\u001b[39m u\u001b[38;5;241m*\u001b[39mv \u001b[38;5;241m%\u001b[39m \u001b[38;5;28mself\u001b[39m\u001b[38;5;241m.\u001b[39mmod\n\u001b[0;32m    122\u001b[0m z_cord \u001b[38;5;241m=\u001b[39m diff\u001b[38;5;241m*\u001b[39m(v \u001b[38;5;241m+\u001b[39m \u001b[38;5;28mself\u001b[39m\u001b[38;5;241m.\u001b[39ma_24\u001b[38;5;241m*\u001b[39mdiff) \u001b[38;5;241m%\u001b[39m \u001b[38;5;28mself\u001b[39m\u001b[38;5;241m.\u001b[39mmod\n\u001b[1;32m--> 123\u001b[0m \u001b[38;5;28;01mreturn\u001b[39;00m \u001b[43mPoint\u001b[49m\u001b[43m(\u001b[49m\u001b[43mx_cord\u001b[49m\u001b[43m,\u001b[49m\u001b[43m \u001b[49m\u001b[43mz_cord\u001b[49m\u001b[43m,\u001b[49m\u001b[43m \u001b[49m\u001b[38;5;28;43mself\u001b[39;49m\u001b[38;5;241;43m.\u001b[39;49m\u001b[43ma_24\u001b[49m\u001b[43m,\u001b[49m\u001b[43m \u001b[49m\u001b[38;5;28;43mself\u001b[39;49m\u001b[38;5;241;43m.\u001b[39;49m\u001b[43mmod\u001b[49m\u001b[43m)\u001b[49m\n",
      "\u001b[1;31mKeyboardInterrupt\u001b[0m: "
     ]
    }
   ],
   "source": [
    "from sympy import prime, divisor_count\n",
    "divisor_count(n)"
   ]
  },
  {
   "cell_type": "code",
   "execution_count": 19,
   "metadata": {},
   "outputs": [
    {
     "data": {
      "text/plain": [
       "831416828080417866340504968188990032810316193533653516022175784399720141076262857"
      ]
     },
     "execution_count": 19,
     "metadata": {},
     "output_type": "execute_result"
    }
   ],
   "source": [
    "n0"
   ]
  }
 ],
 "metadata": {
  "kernelspec": {
   "display_name": ".venv",
   "language": "python",
   "name": "python3"
  },
  "language_info": {
   "codemirror_mode": {
    "name": "ipython",
    "version": 3
   },
   "file_extension": ".py",
   "mimetype": "text/x-python",
   "name": "python",
   "nbconvert_exporter": "python",
   "pygments_lexer": "ipython3",
   "version": "3.11.6"
  }
 },
 "nbformat": 4,
 "nbformat_minor": 2
}
