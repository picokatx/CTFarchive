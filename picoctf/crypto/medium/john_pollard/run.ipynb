{
 "cells": [
  {
   "cell_type": "markdown",
   "metadata": {},
   "source": [
    "### use pollard factorization\n",
    "https://www.geeksforgeeks.org/pollard-p-1-algorithm/ \\\n",
    "https://www.mat.uniroma2.it/~geatti/HCMC2023/Lecture3.pdf read later \\\n",
    "https://www.math.columbia.edu/~goldfeld/PollardAttack.pdf \\\n"
   ]
  },
  {
   "cell_type": "code",
   "execution_count": 1,
   "metadata": {},
   "outputs": [],
   "source": [
    "def fast_mod_exp(b, exp, m):\n",
    "    res = 1\n",
    "    while exp > 1:\n",
    "        if exp & 1:\n",
    "            res = (res * b) % m\n",
    "        b = b ** 2 % m\n",
    "        exp >>= 1\n",
    "    return (b * res) % m\n",
    "def ceil_div(a, b):\n",
    "    \"\"\"\n",
    "    Returns ceil(a / b), works with large integers.\n",
    "    :param a: a\n",
    "    :param b: b\n",
    "    :return: ceil(a / b)\n",
    "    \"\"\"\n",
    "    return a // b + (a % b > 0)\n",
    "\n",
    "def floor_div(a, b):\n",
    "    \"\"\"a\n",
    "    Returns floor(a / b), works with large integers.\n",
    "    :param a: a\n",
    "    :param b: b\n",
    "    :return: floor(a / b)\n",
    "    \"\"\"\n",
    "    return a // b"
   ]
  },
  {
   "cell_type": "code",
   "execution_count": 4,
   "metadata": {},
   "outputs": [
    {
     "name": "stdout",
     "output_type": "stream",
     "text": [
      "['__class__', '__delattr__', '__dict__', '__dir__', '__doc__', '__eq__', '__format__', '__ge__', '__getattribute__', '__getstate__', '__gt__', '__hash__', '__init__', '__init_subclass__', '__le__', '__lt__', '__module__', '__ne__', '__new__', '__reduce__', '__reduce_ex__', '__repr__', '__setattr__', '__sizeof__', '__str__', '__subclasshook__', '__weakref__', '_initialized', '_only_public', '_pkey', 'bits', 'check', 'from_cryptography_key', 'generate_key', 'to_cryptography_key', 'type']\n",
      "53\n",
      "<cryptography.hazmat.bindings._rust.openssl.rsa.RSAPublicKey object at 0x00000153FB04BB50>\n",
      "['__class__', '__copy__', '__delattr__', '__dir__', '__doc__', '__eq__', '__format__', '__ge__', '__getattribute__', '__getstate__', '__gt__', '__hash__', '__init__', '__init_subclass__', '__le__', '__lt__', '__module__', '__ne__', '__new__', '__reduce__', '__reduce_ex__', '__repr__', '__setattr__', '__sizeof__', '__str__', '__subclasshook__', 'encrypt', 'key_size', 'public_bytes', 'public_numbers', 'recover_data_from_signature', 'verify']\n"
     ]
    }
   ],
   "source": [
    "from OpenSSL.crypto import X509\n",
    "from OpenSSL.crypto import load_certificate\n",
    "from OpenSSL.crypto import FILETYPE_PEM\n",
    "from OpenSSL.crypto import TYPE_RSA\n",
    "with open(\"cert\", 'rb') as f:\n",
    "    byt = f.read()\n",
    "    pkey = load_certificate(FILETYPE_PEM, byt).get_pubkey()\n",
    "    print(dir(pkey))\n",
    "    print(pkey.bits())\n",
    "    print(pkey.to_cryptography_key())\n",
    "    print(dir(pkey.to_cryptography_key()))"
   ]
  },
  {
   "cell_type": "code",
   "execution_count": 4,
   "metadata": {},
   "outputs": [],
   "source": [
    "n = 4966306421059967\n",
    "p,q = 73176001, 67867967 # Pollard Factorization\n",
    "e = 65537\n",
    "d = 1143916817217473\n",
    "# picoCTF{73176001,67867967}"
   ]
  },
  {
   "cell_type": "code",
   "execution_count": 5,
   "metadata": {},
   "outputs": [
    {
     "data": {
      "text/plain": [
       "1143916817217473"
      ]
     },
     "execution_count": 5,
     "metadata": {},
     "output_type": "execute_result"
    }
   ],
   "source": [
    "# recover d \n",
    "import math\n",
    "_p, _q, _n, _e = p, q, n, e\n",
    "lambda_n = (_p-1)*(_q-1)//math.gcd(_p-1,_q-1)\n",
    "# invmod\n",
    "x1, x2 = 1, 0\n",
    "a, b = _e, lambda_n\n",
    "while b > 0:\n",
    "    _q, _r = divmod(a, b)\n",
    "    xn = x1 - _q * x2\n",
    "    a, b, x1, x2 = b, _r, x2, xn\n",
    "x1 % lambda_n\n"
   ]
  },
  {
   "cell_type": "code",
   "execution_count": 2,
   "metadata": {},
   "outputs": [
    {
     "name": "stdout",
     "output_type": "stream",
     "text": [
      "Prime factors of 4966306421059967 are 73176001 67867967\n"
     ]
    }
   ],
   "source": [
    "\n",
    "# Python code for Pollard p-1 \n",
    "# factorization Method\n",
    "    \n",
    "# importing \"math\" for \n",
    "# calculating GCD\n",
    "import math\n",
    "    \n",
    "# importing \"sympy\" for \n",
    "# checking prime\n",
    "import sympy\n",
    "    \n",
    "       \n",
    "# function to generate \n",
    "# prime factors\n",
    "def pollard(n):\n",
    "    \n",
    "    # defining base\n",
    "    a = 2\n",
    "    \n",
    "    # defining exponent\n",
    "    i = 2\n",
    "    \n",
    "    # iterate till a prime factor is obtained\n",
    "    while(True):\n",
    "    \n",
    "        # recomputing a as required\n",
    "        a = (a**i) % n\n",
    "    \n",
    "        # finding gcd of a-1 and n\n",
    "        # using math function\n",
    "        d = math.gcd((a-1), n)\n",
    "    \n",
    "        # check if factor obtained\n",
    "        if (d > 1):\n",
    "    \n",
    "            #return the factor\n",
    "            return d\n",
    "    \n",
    "            break\n",
    "    \n",
    "        # else increase exponent by one \n",
    "        # for next round\n",
    "        i += 1\n",
    "   \n",
    "# Driver code\n",
    "n = 4966306421059967\n",
    "    \n",
    "# temporarily storing n\n",
    "num = n\n",
    "    \n",
    "# list for storing prime factors\n",
    "ans = []\n",
    "    \n",
    "# iterated till all prime factors\n",
    "# are obtained\n",
    "while(True):\n",
    "    \n",
    "    # function call\n",
    "    d = pollard(num)\n",
    "    \n",
    "    # add obtained factor to list\n",
    "    ans.append(d)\n",
    "    \n",
    "    # reduce n\n",
    "    r = int(num/d)\n",
    "    \n",
    "    # check for prime using sympy\n",
    "    if(sympy.isprime(r)):\n",
    "    \n",
    "        # both prime factors obtained\n",
    "        ans.append(r)\n",
    "    \n",
    "        break\n",
    "    \n",
    "    # reduced n is not prime, so repeat\n",
    "    else:\n",
    "    \n",
    "        num = r\n",
    "   \n",
    "# print the result\n",
    "print(\"Prime factors of\", n, \"are\", *ans)\n"
   ]
  }
 ],
 "metadata": {
  "kernelspec": {
   "display_name": ".venv",
   "language": "python",
   "name": "python3"
  },
  "language_info": {
   "codemirror_mode": {
    "name": "ipython",
    "version": 3
   },
   "file_extension": ".py",
   "mimetype": "text/x-python",
   "name": "python",
   "nbconvert_exporter": "python",
   "pygments_lexer": "ipython3",
   "version": "3.11.6"
  }
 },
 "nbformat": 4,
 "nbformat_minor": 2
}
