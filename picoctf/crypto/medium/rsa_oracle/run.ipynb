{
 "cells": [
  {
   "cell_type": "code",
   "execution_count": 9,
   "metadata": {},
   "outputs": [],
   "source": [
    "from pwnlib.tubes.remote import remote\n",
    "from string import ascii_letters, ascii_lowercase, ascii_uppercase\n",
    "import re"
   ]
  },
  {
   "cell_type": "code",
   "execution_count": 116,
   "metadata": {},
   "outputs": [],
   "source": [
    "def encrypt(r: remote, msg: bytes):\n",
    "    r.send(b\"E\\n\")\n",
    "    r.recvuntil(b\"enter text to encrypt (encoded length must be less than keysize): \").decode()\n",
    "    r.send(msg+b\"\\n\")\n",
    "    temp = r.recvuntil(b\"ciphertext (m ^ e mod n) \")\n",
    "    print(temp)\n",
    "    hexout = temp.decode()\n",
    "    cout = r.recvuntil(b\"E --> encrypt D --> decrypt.\").decode()\n",
    "    return int(re.sub(r\"[^0-9]\", \"\", hexout)), int(re.sub(r\"[^0-9]\", \"\", cout))\n",
    "def decrypt(r: remote, msg: bytes):\n",
    "    r.send(b\"D\\n\")\n",
    "    r.recvuntil(b\"Enter text to decrypt:\").decode()\n",
    "    r.send(msg+b\"\\n\")\n",
    "    hexout = r.recvuntil(b\"decrypted ciphertext: \").decode()\n",
    "    mout = r.recvuntil(b\"E --> encrypt D --> decrypt.\").decode()\n",
    "    return hexout.split(\": \")[1].split(\"\\n\")[0], mout.split(\"\\n\")[0]\n",
    "def hex_encode(m: str):\n",
    "    return int(\"\".join([hex(c)[2:] for c in m.encode()]))\n",
    "def hex_decode(m: int):\n",
    "    return bytearray.fromhex(str(m)).decode()"
   ]
  },
  {
   "cell_type": "code",
   "execution_count": 117,
   "metadata": {},
   "outputs": [
    {
     "name": "stdout",
     "output_type": "stream",
     "text": [
      "b'\\x02\\n\\nencoded cleartext as Hex m: 2\\n\\nciphertext (m ^ e mod n) '\n",
      "5067313465613043651275429665315895824157755779222372979446076012356324498190828210335763979330272318657269048435311897896433721115606764442199497891219230\n",
      "\n",
      "what should we do for you? \n",
      "E --> encrypt D --> decrypt.\n"
     ]
    }
   ],
   "source": [
    "pwd = 10\n",
    "r = remote('titan.picoctf.net', 50664)\n",
    "r.recvuntil(b\"E --> encrypt D --> decrypt.\").decode()\n",
    "payload = bytearray(b'\\x02')#bytearray.fromhex(str(pwd))\n",
    "r.send(b\"E\\n\")\n",
    "r.recvuntil(b\"enter text to encrypt (encoded length must be less than keysize): \").decode()\n",
    "r.send(payload+b\"\\n\")\n",
    "print(r.recvuntil(b\"ciphertext (m ^ e mod n) \"))\n",
    "print(r.recvuntil(b\"E --> encrypt D --> decrypt.\").decode())"
   ]
  },
  {
   "cell_type": "code",
   "execution_count": 118,
   "metadata": {},
   "outputs": [
    {
     "data": {
      "text/plain": [
       "('6c60cc6a60', 'l`Ìj`')"
      ]
     },
     "execution_count": 118,
     "metadata": {},
     "output_type": "execute_result"
    }
   ],
   "source": [
    "pwd = 10\n",
    "r = remote('titan.picoctf.net', 50664)\n",
    "r.recvuntil(b\"E --> encrypt D --> decrypt.\").decode()\n",
    "pwd = 2336150584734702647514724021470643922433811330098144930425575029773908475892259185520495303353109615046654428965662643241365308392679139063000973730368839\n",
    "crack = 5067313465613043651275429665315895824157755779222372979446076012356324498190828210335763979330272318657269048435311897896433721115606764442199497891219230\n",
    "decrypt(r, str(pwd*crack).encode())\n"
   ]
  },
  {
   "cell_type": "code",
   "execution_count": 124,
   "metadata": {},
   "outputs": [
    {
     "name": "stdout",
     "output_type": "stream",
     "text": [
      "b'60f50\\n\\nencoded cleartext as Hex m: 3630663530\\n\\nciphertext (m ^ e mod n) '\n"
     ]
    },
    {
     "data": {
      "text/plain": [
       "(60503630663530,\n",
       " 2336150584734702647514724021470643922433811330098144930425575029773908475892259185520495303353109615046654428965662643241365308392679139063000973730368839)"
      ]
     },
     "execution_count": 124,
     "metadata": {},
     "output_type": "execute_result"
    }
   ],
   "source": [
    "pwd = 10\n",
    "r = remote('titan.picoctf.net', 50664)\n",
    "r.recvuntil(b\"E --> encrypt D --> decrypt.\").decode()\n",
    "encrypt(r, b\"60f50\")\n"
   ]
  },
  {
   "cell_type": "code",
   "execution_count": 119,
   "metadata": {},
   "outputs": [
    {
     "data": {
      "text/plain": [
       "bytearray(b'60f50')"
      ]
     },
     "execution_count": 119,
     "metadata": {},
     "output_type": "execute_result"
    }
   ],
   "source": [
    "bytearray.fromhex(hex(0x6c60cc6a60//2)[2:])"
   ]
  },
  {
   "cell_type": "code",
   "execution_count": null,
   "metadata": {},
   "outputs": [],
   "source": []
  },
  {
   "cell_type": "code",
   "execution_count": 122,
   "metadata": {},
   "outputs": [
    {
     "data": {
      "text/plain": [
       "'3630663530'"
      ]
     },
     "execution_count": 122,
     "metadata": {},
     "output_type": "execute_result"
    }
   ],
   "source": [
    "hex(0x6c60cc6a60//2)[2:]"
   ]
  },
  {
   "cell_type": "markdown",
   "metadata": {},
   "source": [
    "run openssl command to decrypt secret.enc"
   ]
  },
  {
   "cell_type": "code",
   "execution_count": 126,
   "metadata": {},
   "outputs": [
    {
     "name": "stdout",
     "output_type": "stream",
     "text": [
      "102\n"
     ]
    }
   ],
   "source": [
    "with open(\"secret.enc\", 'rb') as f:\n",
    "    print(len(f.read()))"
   ]
  },
  {
   "cell_type": "code",
   "execution_count": 89,
   "metadata": {},
   "outputs": [
    {
     "data": {
      "text/plain": [
       "11838007315725944462917501970869949019150019153714056931355027069712797420929418502601441873895368228007950352680183762125090436285497800797519302174079230053776230956741880244950163145869820928702272465467607694948245076340696759487604021251562488669723292161136993721794819524990850096959527503527309573970"
      ]
     },
     "execution_count": 89,
     "metadata": {},
     "output_type": "execute_result"
    }
   ],
   "source": [
    "pwd*crack"
   ]
  },
  {
   "cell_type": "code",
   "execution_count": null,
   "metadata": {},
   "outputs": [],
   "source": [
    "# 2**e%n\n",
    "\n"
   ]
  },
  {
   "cell_type": "code",
   "execution_count": 58,
   "metadata": {},
   "outputs": [
    {
     "data": {
      "text/plain": [
       "233615584734726475147240214764392243381133098144934255750297739847589225918552495303353109615466544289656626432413653083926791396300973730368839"
      ]
     },
     "execution_count": 58,
     "metadata": {},
     "output_type": "execute_result"
    }
   ],
   "source": [
    "int(\"\".join([hex(c)[2:] for c in payload]))"
   ]
  },
  {
   "cell_type": "code",
   "execution_count": 56,
   "metadata": {},
   "outputs": [
    {
     "data": {
      "text/plain": [
       "40720852141738735407015022943163748177092631754427461887844010074768401254294290511345826852828046459343320371490577932671920194326071863413252180884416683991840555643796775618549408052"
      ]
     },
     "execution_count": 56,
     "metadata": {},
     "output_type": "execute_result"
    }
   ],
   "source": [
    "2655662824898703835057689827830024158568839901281889270553049454382460631197724323912341419029749563588044705227117279834766772010738544497442856252606134"
   ]
  },
  {
   "cell_type": "code",
   "execution_count": 55,
   "metadata": {},
   "outputs": [
    {
     "data": {
      "text/plain": [
       "bytearray(b\"&Uf($\\x89\\x87\\x03\\x83PWh\\x98\\'\\x83\\x00$\\x15\\x85h\\x83\\x99\\x01(\\x18\\x89\\'\\x05S\\x04\\x94T8$`c\\x11\\x97rC#\\x91#AA\\x90)t\\x95cX\\x80DpR\\'\\x11ry\\x83Gfw \\x10s\\x85DItB\\x85bR`a4\")"
      ]
     },
     "execution_count": 55,
     "metadata": {},
     "output_type": "execute_result"
    }
   ],
   "source": [
    "bytearray.fromhex(\"2655662824898703835057689827830024158568839901281889270553049454382460631197724323912341419029749563588044705227117279834766772010738544497442856252606134\")"
   ]
  },
  {
   "cell_type": "code",
   "execution_count": 46,
   "metadata": {},
   "outputs": [
    {
     "name": "stdout",
     "output_type": "stream",
     "text": [
      "b'a\\n\\nencoded cleartext as Hex m: 61\\n\\nciphertext (m ^ e mod n) '\n",
      "b'\\x18\\x94y#v\\x93RB\\x02\\x84eUcfa\\x80\\x11\\x01\\x95HQ\\x15u\\x88\\x19EA6h5\\x13\\x05D\\x17\\x16\\x82\\x95Gs\\x12H\\x12\\x05B\\x98\\x90eX\\x85VC\\x19x\\x905\\x97$\\x04T)aRW\\x91\\x84V\\x95x7\\x96%R\\x02\\x005a\\x86\\n\\nencoded cleartext as Hex m: f494792452935242de84655563673d8011dd95485116518819454136683513054417f35e954773124812061f749066348556431a54911197240454296153346d85329579139625520200363d86\\n\\nciphertext (m ^ e mod n) '\n"
     ]
    },
    {
     "ename": "UnicodeDecodeError",
     "evalue": "'utf-8' codec can't decode byte 0x94 in position 1: invalid start byte",
     "output_type": "error",
     "traceback": [
      "\u001b[1;31m---------------------------------------------------------------------------\u001b[0m",
      "\u001b[1;31mUnicodeDecodeError\u001b[0m                        Traceback (most recent call last)",
      "Cell \u001b[1;32mIn[46], line 4\u001b[0m\n\u001b[0;32m      2\u001b[0m r\u001b[38;5;241m.\u001b[39mrecvuntil(\u001b[38;5;124mb\u001b[39m\u001b[38;5;124m\"\u001b[39m\u001b[38;5;124mE --> encrypt D --> decrypt.\u001b[39m\u001b[38;5;124m\"\u001b[39m)\u001b[38;5;241m.\u001b[39mdecode()\n\u001b[0;32m      3\u001b[0m hexa, ma \u001b[38;5;241m=\u001b[39m encrypt(r, \u001b[38;5;124mb\u001b[39m\u001b[38;5;124m\"\u001b[39m\u001b[38;5;124ma\u001b[39m\u001b[38;5;124m\"\u001b[39m)\n\u001b[1;32m----> 4\u001b[0m \u001b[43mencrypt\u001b[49m\u001b[43m(\u001b[49m\u001b[43mr\u001b[49m\u001b[43m,\u001b[49m\u001b[43m \u001b[49m\u001b[38;5;28;43mbytearray\u001b[39;49m\u001b[38;5;241;43m.\u001b[39;49m\u001b[43mfromhex\u001b[49m\u001b[43m(\u001b[49m\u001b[38;5;28;43mstr\u001b[39;49m\u001b[43m(\u001b[49m\u001b[43mma\u001b[49m\u001b[43m)\u001b[49m\u001b[43m)\u001b[49m\u001b[43m)\u001b[49m\n",
      "Cell \u001b[1;32mIn[45], line 7\u001b[0m, in \u001b[0;36mencrypt\u001b[1;34m(r, msg)\u001b[0m\n\u001b[0;32m      5\u001b[0m temp \u001b[38;5;241m=\u001b[39m r\u001b[38;5;241m.\u001b[39mrecvuntil(\u001b[38;5;124mb\u001b[39m\u001b[38;5;124m\"\u001b[39m\u001b[38;5;124mciphertext (m ^ e mod n) \u001b[39m\u001b[38;5;124m\"\u001b[39m)\n\u001b[0;32m      6\u001b[0m \u001b[38;5;28mprint\u001b[39m(temp)\n\u001b[1;32m----> 7\u001b[0m hexout \u001b[38;5;241m=\u001b[39m \u001b[43mtemp\u001b[49m\u001b[38;5;241;43m.\u001b[39;49m\u001b[43mdecode\u001b[49m\u001b[43m(\u001b[49m\u001b[43m)\u001b[49m\n\u001b[0;32m      8\u001b[0m cout \u001b[38;5;241m=\u001b[39m r\u001b[38;5;241m.\u001b[39mrecvuntil(\u001b[38;5;124mb\u001b[39m\u001b[38;5;124m\"\u001b[39m\u001b[38;5;124mE --> encrypt D --> decrypt.\u001b[39m\u001b[38;5;124m\"\u001b[39m)\u001b[38;5;241m.\u001b[39mdecode()\n\u001b[0;32m      9\u001b[0m \u001b[38;5;28;01mreturn\u001b[39;00m \u001b[38;5;28mint\u001b[39m(re\u001b[38;5;241m.\u001b[39msub(\u001b[38;5;124mr\u001b[39m\u001b[38;5;124m\"\u001b[39m\u001b[38;5;124m[^0-9]\u001b[39m\u001b[38;5;124m\"\u001b[39m, \u001b[38;5;124m\"\u001b[39m\u001b[38;5;124m\"\u001b[39m, hexout)), \u001b[38;5;28mint\u001b[39m(re\u001b[38;5;241m.\u001b[39msub(\u001b[38;5;124mr\u001b[39m\u001b[38;5;124m\"\u001b[39m\u001b[38;5;124m[^0-9]\u001b[39m\u001b[38;5;124m\"\u001b[39m, \u001b[38;5;124m\"\u001b[39m\u001b[38;5;124m\"\u001b[39m, cout))\n",
      "\u001b[1;31mUnicodeDecodeError\u001b[0m: 'utf-8' codec can't decode byte 0x94 in position 1: invalid start byte"
     ]
    }
   ],
   "source": [
    "r = remote('titan.picoctf.net', 56578)\n",
    "r.recvuntil(b\"E --> encrypt D --> decrypt.\").decode()\n",
    "hexa, ma = encrypt(r, b\"a\")\n",
    "encrypt(r, bytearray.fromhex(str(ma)))"
   ]
  },
  {
   "cell_type": "code",
   "execution_count": null,
   "metadata": {},
   "outputs": [],
   "source": [
    "hex_encode(ma)"
   ]
  },
  {
   "cell_type": "code",
   "execution_count": 47,
   "metadata": {},
   "outputs": [
    {
     "data": {
      "text/plain": [
       "259811432393065240126811188306933575844033156439418162457149067627041117221414372120574644283940556329042784028746859931558224948520234151342483974033788266472830310967753773283995434374"
      ]
     },
     "execution_count": 47,
     "metadata": {},
     "output_type": "execute_result"
    }
   ],
   "source": [
    "0xf494792452935242de84655563673d8011dd95485116518819454136683513054417f35e954773124812061f749066348556431a54911197240454296153346d85329579139625520200363d86"
   ]
  },
  {
   "cell_type": "code",
   "execution_count": 29,
   "metadata": {},
   "outputs": [
    {
     "data": {
      "text/plain": [
       "1894792376935242028465556366618011019548511575881945413668351305441716829547731248120542989065588556431978903597240454296152579184569578379625520200356186"
      ]
     },
     "execution_count": 29,
     "metadata": {},
     "output_type": "execute_result"
    }
   ],
   "source": [
    "ma"
   ]
  },
  {
   "cell_type": "code",
   "execution_count": 19,
   "metadata": {},
   "outputs": [
    {
     "data": {
      "text/plain": [
       "bytearray(b'tat')"
      ]
     },
     "execution_count": 19,
     "metadata": {},
     "output_type": "execute_result"
    }
   ],
   "source": []
  },
  {
   "cell_type": "code",
   "execution_count": 17,
   "metadata": {},
   "outputs": [
    {
     "data": {
      "text/plain": [
       "b'$-\\x8d]\\xe1\\x07<\\x9aB\\xf4\\xda\\xb4\\x8e;\\xce\\xdbD\\x148\\xd9\\x8b\\x99<\\xd9A;\\xbf\\xde\\xcfo\\rHgc\\xdb\\xa5\\xc0\\t\\x0e\\r\\xa9\\xfc\\xd1\\x1e\\x8f\\xa5\\xf9\\xf3\\xd4\\xae\\xb5\\x08\\xe8\\x1dv\\x91\\xcab\\x8fdh\\x9f\\x11Z'"
      ]
     },
     "execution_count": 17,
     "metadata": {},
     "output_type": "execute_result"
    }
   ],
   "source": [
    "from Crypto.Util.number import long_to_bytes\n",
    "long_to_bytes(1894792376935242028465556366618011019548511575881945413668351305441716829547731248120542989065588556431978903597240454296152579184569578379625520200356186)"
   ]
  },
  {
   "cell_type": "code",
   "execution_count": null,
   "metadata": {},
   "outputs": [],
   "source": [
    "a = 2336150584734702647514724021470643922433811330098144930425575029773908475892259185520495303353109615046654428965662643241365308392679139063000973730368839"
   ]
  },
  {
   "cell_type": "markdown",
   "metadata": {},
   "source": [
    "encoded cleartext as Hex m: 796179617961\n",
    "\n",
    "ciphertext (m ^ e mod n) 2223076509227617992860003086100921833933191586173157457994166367448883533837884856979590910675424803077698901718463234078324293970599614462072319435582136"
   ]
  }
 ],
 "metadata": {
  "kernelspec": {
   "display_name": ".venv",
   "language": "python",
   "name": "python3"
  },
  "language_info": {
   "codemirror_mode": {
    "name": "ipython",
    "version": 3
   },
   "file_extension": ".py",
   "mimetype": "text/x-python",
   "name": "python",
   "nbconvert_exporter": "python",
   "pygments_lexer": "ipython3",
   "version": "3.11.6"
  }
 },
 "nbformat": 4,
 "nbformat_minor": 2
}
