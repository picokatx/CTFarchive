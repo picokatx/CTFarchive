{
 "cells": [
  {
   "cell_type": "code",
   "execution_count": 12,
   "metadata": {},
   "outputs": [
    {
     "data": {
      "text/plain": [
       "56"
      ]
     },
     "execution_count": 12,
     "metadata": {},
     "output_type": "execute_result"
    }
   ],
   "source": [
    "enc = \"Ta _7N6DDDhlg:W3D_H3C31N__0D3ef sHR053F38N43D0F i33___NA\"\n",
    "len(enc)"
   ]
  },
  {
   "cell_type": "markdown",
   "metadata": {},
   "source": [
    "W . . . . . B . . . . . B . . . . . B . . . . . B . . . . . B . . . . . B . . . . . B . . . . . B . . . . . B \n",
    ". W . . . W . W . . . W . W . . . W . W . . . W . W . . . W . W . . . W . W . . . W . W . . . W . W . . . W . \n",
    ". . A . A . . . A . A . . . A . A . . . A . A . . . A . A . . . A . A . . . A . A . . . A . A . . . A . A . . \n",
    ". . . R . . . . . R . . . . . R . . . . . R . . . . . R . . . . . R . . . . . R . . . . . R . . . . . R . . . "
   ]
  },
  {
   "cell_type": "markdown",
   "metadata": {},
   "source": [
    "T . . . . . a . . . . .   . . . . . _ . . . . . 7 . . . . . N . . . . . 6 . . . . . D . . . . . D . . . . . D .\n",
    ". h . . . l . g . . . : . W . . . 3 . D . . . _ . H . . . 3 . C . . . 3 . 1 . . . N . _ . . . _ . 0 . . . D . 3\n",
    ". . e . f . . .   . s . . . H . R . . . 0 . 5 . . . 3 . F . . . 3 . 8 . . . N . 4 . . . 3 . D . . . 0 . F . . .\n",
    ". . .   . . . . . i . . . . . 3 . . . . . 3 . . . . . _ . . . . . _ . . . . . _ . . . . . N . . . . . A . . . ."
   ]
  },
  {
   "cell_type": "code",
   "execution_count": 14,
   "metadata": {},
   "outputs": [],
   "source": [
    "# picoCTF{WH3R3_D035_7H3_F3NC3_8361N_4ND_3ND_D00AFDD3}"
   ]
  }
 ],
 "metadata": {
  "kernelspec": {
   "display_name": ".venv",
   "language": "python",
   "name": "python3"
  },
  "language_info": {
   "codemirror_mode": {
    "name": "ipython",
    "version": 3
   },
   "file_extension": ".py",
   "mimetype": "text/x-python",
   "name": "python",
   "nbconvert_exporter": "python",
   "pygments_lexer": "ipython3",
   "version": "3.11.6"
  }
 },
 "nbformat": 4,
 "nbformat_minor": 2
}
