{
 "cells": [
  {
   "cell_type": "code",
   "execution_count": 3,
   "metadata": {},
   "outputs": [
    {
     "data": {
      "text/plain": [
       "'picoCTF{r0tat1on_d3crypt3d_4c71f5b0}'"
      ]
     },
     "execution_count": 3,
     "metadata": {},
     "output_type": "execute_result"
    }
   ],
   "source": [
    "from string import ascii_lowercase, ascii_uppercase\n",
    "enc = \"xqkwKBN{z0bib1wv_l3kzgxb3l_4k71n5j0}\"\n",
    "\"\".join([ascii_lowercase[(ascii_lowercase.index(c)+18)%26] if c.islower() \n",
    " else (ascii_uppercase[(ascii_uppercase.index(c)+18)%26] if c.isupper() else c) for c in enc])"
   ]
  }
 ],
 "metadata": {
  "kernelspec": {
   "display_name": ".venv",
   "language": "python",
   "name": "python3"
  },
  "language_info": {
   "codemirror_mode": {
    "name": "ipython",
    "version": 3
   },
   "file_extension": ".py",
   "mimetype": "text/x-python",
   "name": "python",
   "nbconvert_exporter": "python",
   "pygments_lexer": "ipython3",
   "version": "3.11.6"
  }
 },
 "nbformat": 4,
 "nbformat_minor": 2
}
