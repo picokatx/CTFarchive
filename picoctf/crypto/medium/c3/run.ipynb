{
 "cells": [
  {
   "cell_type": "markdown",
   "metadata": {},
   "source": [
    "### Unsolvable question ._.\n",
    "really though after the ypthon 2 code there's no hint on what to do next. chal is tagged webshell solvable so maybe we need to connect to something\\\n",
    "oh you need to use the decrypted code to decrypt itself\\\n",
    "right\\\n",
    "ok"
   ]
  },
  {
   "cell_type": "code",
   "execution_count": 16,
   "metadata": {},
   "outputs": [
    {
     "name": "stdout",
     "output_type": "stream",
     "text": [
      "c 16\n",
      "16\n",
      "h 21\n",
      "5\n",
      "a 14\n",
      "33\n",
      "r 31\n",
      "17\n",
      "QFnR\n"
     ]
    }
   ],
   "source": [
    "import sys\n",
    "chars = \"char\"\n",
    "\n",
    "lookup1 = \"\\n \\\"#()*+/1:=[]abcdefghijklmnopqrstuvwxyz\"\n",
    "lookup2 = \"ABCDEFGHIJKLMNOPQRSTabcdefghijklmnopqrst\"\n",
    "\n",
    "out = \"\"\n",
    "\n",
    "prev = 0\n",
    "for char in chars:\n",
    "  cur = lookup1.index(char)\n",
    "  print(char, lookup1.index(char))\n",
    "  print((cur - prev) % 40)\n",
    "  out += lookup2[(cur - prev) % 40]\n",
    "  prev = cur\n",
    "\n",
    "print(out)\n"
   ]
  },
  {
   "cell_type": "code",
   "execution_count": 29,
   "metadata": {},
   "outputs": [
    {
     "name": "stdout",
     "output_type": "stream",
     "text": [
      "c\n",
      "h\n",
      "a\n",
      "r\n"
     ]
    }
   ],
   "source": [
    "print(lookup1[(lookup2.index('Q')-0)%40])\n",
    "print(lookup1[(lookup2.index('F')+lookup2.index('Q'))%40])\n",
    "print(lookup1[(lookup2.index('n')+lookup2.index('F')+lookup2.index('Q'))%40])\n",
    "print(lookup1[(lookup2.index('n')+lookup2.index('F')+lookup2.index('Q')+lookup2.index('R'))%40])"
   ]
  },
  {
   "cell_type": "code",
   "execution_count": 3,
   "metadata": {},
   "outputs": [],
   "source": [
    "ciphertext = \"DLSeGAGDgBNJDQJDCFSFnRBIDjgHoDFCFtHDgJpiHtGDmMAQFnRBJKkBAsTMrsPSDDnEFCFtIbEDtDCIbFCFtHTJDKerFldbFObFCFtLBFkBAAAPFnRBJGEkerFlcPgKkImHnIlATJDKbTbFOkdNnsgbnJRMFnRBNAFkBAAAbrcbTKAkOgFpOgFpOpkBAAAAAAAiClFGIPFnRBaKliCgClFGtIBAAAAAAAOgGEkImHnIl\"\n"
   ]
  },
  {
   "cell_type": "code",
   "execution_count": 33,
   "metadata": {},
   "outputs": [
    {
     "name": "stdout",
     "output_type": "stream",
     "text": [
      "#asciiorder\n",
      "#fortychars\n",
      "#selfinput\n",
      "#pythontwo\n",
      "\n",
      "chars = \"\"\n",
      "from fileinput import input\n",
      "for line in input():\n",
      "    chars += line\n",
      "b = 1 / 1\n",
      "\n",
      "for i in range(len(chars)):\n",
      "    if i == b * b * b:\n",
      "        print chars[i] #prints\n",
      "        b += 1 / 1\n"
     ]
    }
   ],
   "source": [
    "acc = 0\n",
    "for c in ciphertext:\n",
    "    acc = (lookup2.index(c)+acc)%40\n",
    "    print(lookup1[acc], end=\"\")"
   ]
  },
  {
   "cell_type": "code",
   "execution_count": 59,
   "metadata": {},
   "outputs": [
    {
     "data": {
      "text/plain": [
       "40"
      ]
     },
     "execution_count": 59,
     "metadata": {},
     "output_type": "execute_result"
    }
   ],
   "source": [
    "len(lookup2)"
   ]
  },
  {
   "cell_type": "code",
   "execution_count": 4,
   "metadata": {},
   "outputs": [
    {
     "name": "stdout",
     "output_type": "stream",
     "text": [
      "D 4.0 64\n",
      "P 5.0 125\n",
      "t 6.0 216\n"
     ]
    }
   ],
   "source": [
    "#\n",
    "#\n",
    "#\n",
    "#\n",
    "\n",
    "chars = ciphertext\n",
    "\n",
    "for i in range(len(chars)):\n",
    "    if i == b * b * b:\n",
    "        print(chars[i], b, i)\n",
    "        b += 1 / 1\n"
   ]
  },
  {
   "cell_type": "code",
   "execution_count": 8,
   "metadata": {},
   "outputs": [
    {
     "name": "stdout",
     "output_type": "stream",
     "text": [
      "a 1.0 1\n",
      "d 2.0 8\n",
      "l 3.0 27\n",
      "i 4.0 64\n",
      "b 5.0 125\n",
      "s 6.0 216\n"
     ]
    }
   ],
   "source": [
    "#asciiorder\n",
    "#fortychars\n",
    "#selfinput\n",
    "#pythontwo\n",
    "\n",
    "chars = \"\"\n",
    "from fileinput import input\n",
    "for line in input(\"./convert2.py\"):\n",
    "    chars += line\n",
    "b = 1 / 1\n",
    "\n",
    "for i in range(len(chars)):\n",
    "    if i == b * b * b:\n",
    "        print(chars[i], b, i)\n",
    "        b += 1 / 1\n"
   ]
  },
  {
   "cell_type": "code",
   "execution_count": 7,
   "metadata": {},
   "outputs": [],
   "source": [
    "list(\"\"\"import sys\n",
    "chars = \"\"\n",
    "from fileinput import input\n",
    "for line in input():\n",
    "  chars += line\n",
    "\n",
    "lookup1 = \"\\n \\\"#()*+/1:=[]abcdefghijklmnopqrstuvwxyz\"\n",
    "lookup2 = \"ABCDEFGHIJKLMNOPQRSTabcdefghijklmnopqrst\"\n",
    "\n",
    "out = \"\"\n",
    "\n",
    "prev = 0\n",
    "for char in chars:\n",
    "  cur = lookup1.index(char)\n",
    "  out += lookup2[(cur - prev) % 40]\n",
    "  prev = cur\n",
    "\n",
    "sys.stdout.write(out)\n",
    "\"\"\"\n",
    ").sort()"
   ]
  },
  {
   "cell_type": "markdown",
   "metadata": {},
   "source": [
    "import sys\n",
    "chars = \"\"\n",
    "from fileinput import input\n",
    "for line in input():\n",
    "  chars += line\n",
    "\n",
    "lookup1 = \"\\n \\\"#()*+/1:=[]abcdefghijklmnopqrstuvwxyz\"\n",
    "lookup2 = \"ABCDEFGHIJKLMNOPQRSTabcdefghijklmnopqrst\"\n",
    "\n",
    "out = \"\"\n",
    "\n",
    "prev = 0\n",
    "for char in chars:\n",
    "  cur = lookup1.index(char)\n",
    "  out += lookup2[(cur - prev) % 40]\n",
    "  prev = cur\n",
    "\n",
    "sys.stdout.write(out)\n"
   ]
  }
 ],
 "metadata": {
  "kernelspec": {
   "display_name": ".venv",
   "language": "python",
   "name": "python3"
  },
  "language_info": {
   "codemirror_mode": {
    "name": "ipython",
    "version": 3
   },
   "file_extension": ".py",
   "mimetype": "text/x-python",
   "name": "python",
   "nbconvert_exporter": "python",
   "pygments_lexer": "ipython3",
   "version": "3.11.6"
  }
 },
 "nbformat": 4,
 "nbformat_minor": 2
}
