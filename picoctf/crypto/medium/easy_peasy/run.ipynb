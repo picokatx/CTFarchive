{
 "cells": [
  {
   "cell_type": "code",
   "execution_count": 2,
   "metadata": {},
   "outputs": [],
   "source": [
    "# flag: 5b1e564b6e415c0e394e0401384b08553a4e5c597b6d4a5c5a684d50013d6e4b"
   ]
  },
  {
   "cell_type": "code",
   "execution_count": 115,
   "metadata": {},
   "outputs": [],
   "source": [
    "#!/usr/bin/python3 -u\n",
    "import os.path\n",
    "\n",
    "KEY_FILE = b\"code\"+b\"b\"*49996\n",
    "KEY_LEN = len(KEY_FILE)\n",
    "FLAG_FILE = b\"flag\""
   ]
  },
  {
   "cell_type": "code",
   "execution_count": 129,
   "metadata": {},
   "outputs": [
    {
     "name": "stdout",
     "output_type": "stream",
     "text": [
      "b'code'\n",
      "This is the encrypted flag!\n",
      "05030502\n",
      "\n"
     ]
    },
    {
     "data": {
      "text/plain": [
       "4"
      ]
     },
     "execution_count": 129,
     "metadata": {},
     "output_type": "execute_result"
    }
   ],
   "source": [
    "key_location = 0\n",
    "flag = FLAG_FILE\n",
    "kf = KEY_FILE\n",
    "\n",
    "start = key_location\n",
    "stop = key_location + len(flag)\n",
    "\n",
    "key = kf[start:stop]\n",
    "key_location = stop\n",
    "print(key)\n",
    "result = list(map(lambda p, k: \"{:02x}\".format(p ^ k), flag, key))\n",
    "print(\"This is the encrypted flag!\\n{}\\n\".format(\"\".join(result)))\n",
    "key_location"
   ]
  },
  {
   "cell_type": "code",
   "execution_count": 130,
   "metadata": {},
   "outputs": [],
   "source": [
    "ui = \"a\"*(50000)\n",
    "# if len(ui) == 0 or len(ui) > KEY_LEN:\n",
    "start = key_location\n",
    "stop = key_location + len(ui)\n",
    "kf = KEY_FILE\n",
    "\n",
    "if stop >= KEY_LEN:\n",
    "    stop = stop % KEY_LEN\n",
    "    key = kf[start:] + kf[:stop]\n",
    "else:\n",
    "    key = kf[start:stop]\n",
    "key_location = stop\n",
    "# print(key)\n",
    "result = list(map(lambda p, k: \"{:02x}\".format(ord(p) ^ k), ui, key))\n",
    "\n",
    "# print(\"Here ya go!\\n{}\\n\".format(\"\".join(result)))"
   ]
  },
  {
   "cell_type": "code",
   "execution_count": 132,
   "metadata": {},
   "outputs": [
    {
     "data": {
      "text/plain": [
       "'020e0504'"
      ]
     },
     "execution_count": 132,
     "metadata": {},
     "output_type": "execute_result"
    }
   ],
   "source": [
    "\"\".join(result)[-8:]"
   ]
  },
  {
   "cell_type": "code",
   "execution_count": 135,
   "metadata": {},
   "outputs": [
    {
     "data": {
      "text/plain": [
       "'flag'"
      ]
     },
     "execution_count": 135,
     "metadata": {},
     "output_type": "execute_result"
    }
   ],
   "source": [
    "b = bytearray.fromhex(\"020e0504\")\n",
    "c = []\n",
    "for i in range(len(b)):\n",
    "    c.append(b'a'[0]^b[i])\n",
    "a = bytearray.fromhex(\"05030502\")\n",
    "\"\".join([chr(a[i]^c[i]) for i in range(len(a))])"
   ]
  },
  {
   "cell_type": "code",
   "execution_count": 136,
   "metadata": {},
   "outputs": [
    {
     "name": "stdout",
     "output_type": "stream",
     "text": [
      "b'******************Welcome to our OTP implementation!******************\\nThis is the encrypted flag!\\n5b1e564b6e415c0e394e0401384b08553a4e5c597b6d4a5c5a684d50013d6e4b\\n\\nWhat data would you like to encrypt? '\n"
     ]
    }
   ],
   "source": [
    "from pwnlib.tubes.remote import remote\n",
    "from string import ascii_letters, ascii_lowercase, ascii_uppercase\n",
    "import re\n",
    "r = remote('mercury.picoctf.net', 20266)\n",
    "print(r.recvuntil(b\"What data would you like to encrypt? \"))\n",
    "r.send((\"a\"*50000).encode()+b\"\\n\")\n",
    "temp0 = r.recvuntil(b\"What data would you like to encrypt? \").decode()\n",
    "temp = temp0.split(\"\\n\")[1]\n",
    "# temp = r.recvuntil(b\"What data would you like to encrypt?\")"
   ]
  },
  {
   "cell_type": "code",
   "execution_count": 139,
   "metadata": {},
   "outputs": [
    {
     "data": {
      "text/plain": [
       "'3d1950553d1959003d190703013d1959513d1950053d1959573d1958583d1905'"
      ]
     },
     "execution_count": 139,
     "metadata": {},
     "output_type": "execute_result"
    }
   ],
   "source": [
    "temp[-64:]"
   ]
  },
  {
   "cell_type": "code",
   "execution_count": 174,
   "metadata": {},
   "outputs": [],
   "source": [
    "b = bytearray.fromhex(\"3d1959003d190703013d1959513d1950053d1959573d1958583d190500000000\")\n",
    "c = []\n",
    "for i in range(len(b)):\n",
    "    c.append(b'a'[0]^b[i])"
   ]
  },
  {
   "cell_type": "code",
   "execution_count": 175,
   "metadata": {},
   "outputs": [
    {
     "data": {
      "text/plain": [
       "'\\x07fn*29:lY\\x12|9\\x08\\x17pd^\\x12$aM12ec454`\\\\\\x0f*'"
      ]
     },
     "execution_count": 175,
     "metadata": {},
     "output_type": "execute_result"
    }
   ],
   "source": [
    "a = bytearray.fromhex(\"5b1e564b6e415c0e394e0401384b08553a4e5c597b6d4a5c5a684d50013d6e4b\")\n",
    "\"\".join([chr(a[i]^c[i]) for i in range(len(a))])"
   ]
  },
  {
   "cell_type": "code",
   "execution_count": 54,
   "metadata": {},
   "outputs": [
    {
     "data": {
      "text/plain": [
       "64"
      ]
     },
     "execution_count": 54,
     "metadata": {},
     "output_type": "execute_result"
    }
   ],
   "source": []
  },
  {
   "cell_type": "code",
   "execution_count": 48,
   "metadata": {},
   "outputs": [
    {
     "data": {
      "text/plain": [
       "96"
      ]
     },
     "execution_count": 48,
     "metadata": {},
     "output_type": "execute_result"
    }
   ],
   "source": [
    "b\"a\"[0] ^ 1"
   ]
  },
  {
   "cell_type": "code",
   "execution_count": 52,
   "metadata": {},
   "outputs": [
    {
     "data": {
      "text/plain": [
       "['a',\n",
       " '6',\n",
       " '\\\\',\n",
       " 'x',\n",
       " '8',\n",
       " 'f',\n",
       " '\\\\',\n",
       " 'x',\n",
       " 'a',\n",
       " '1',\n",
       " '\\\\',\n",
       " 'x',\n",
       " 'd',\n",
       " 'd',\n",
       " '\\\\',\n",
       " 'x',\n",
       " '8',\n",
       " 'c',\n",
       " '\\\\',\n",
       " 'x',\n",
       " 'c',\n",
       " '5',\n",
       " 'f',\n",
       " '2',\n",
       " '\\\\',\n",
       " 'x',\n",
       " 'e',\n",
       " '5',\n",
       " '-',\n",
       " '3',\n",
       " '\\\\',\n",
       " 'x',\n",
       " 'a',\n",
       " 'e',\n",
       " '\\\\',\n",
       " 'x',\n",
       " 'b',\n",
       " 'd',\n",
       " '`',\n",
       " '\\\\',\n",
       " 'x',\n",
       " 'c',\n",
       " 'f',\n",
       " '\\\\',\n",
       " 'x',\n",
       " 'd',\n",
       " 'b',\n",
       " 'H',\n",
       " '\\\\',\n",
       " 'x',\n",
       " '9',\n",
       " 'a',\n",
       " '\\\\',\n",
       " 'x',\n",
       " 'f',\n",
       " '6',\n",
       " '\\\\',\n",
       " 'n',\n",
       " 'p',\n",
       " '[',\n",
       " '.',\n",
       " '\\\\',\n",
       " 'x',\n",
       " '1',\n",
       " 'f',\n",
       " '^',\n",
       " '\\\\',\n",
       " 'x',\n",
       " '9',\n",
       " '3',\n",
       " 'F',\n",
       " '4',\n",
       " '\\\\',\n",
       " 'x',\n",
       " '9',\n",
       " '8',\n",
       " '\\\\',\n",
       " 'x',\n",
       " '1',\n",
       " 'f',\n",
       " '\\\\',\n",
       " 'x',\n",
       " 'd',\n",
       " '5',\n",
       " '\\\\',\n",
       " 'x',\n",
       " 'f',\n",
       " '1',\n",
       " '\\\\',\n",
       " 'x',\n",
       " 'c',\n",
       " '1',\n",
       " '7',\n",
       " '\\\\',\n",
       " 'x',\n",
       " 'f',\n",
       " 'a',\n",
       " '\\\\',\n",
       " 'x',\n",
       " '1']"
      ]
     },
     "execution_count": 52,
     "metadata": {},
     "output_type": "execute_result"
    }
   ],
   "source": [
    "[chr(c^b\"a\"[0]) for c in bytearray.fromhex(\"00573d1959073d1900503d1905053d1959023d19025407533d1904544c523d1900043d190305013d1902073d190503293d1958003d1907573d0f113a4f3d1950073f3d19585227553d1958593d1950073d1905543d1907503d190250563d1907003d1950\")]"
   ]
  },
  {
   "cell_type": "code",
   "execution_count": null,
   "metadata": {},
   "outputs": [],
   "source": [
    "\n",
    "def encrypt(key_location):\n",
    "\n",
    "\n",
    "\treturn key_location\n",
    "\n",
    "\n",
    "c = startup(0)\n",
    "while c >= 0:\n",
    "\tc = encrypt(c)\n"
   ]
  }
 ],
 "metadata": {
  "kernelspec": {
   "display_name": ".venv",
   "language": "python",
   "name": "python3"
  },
  "language_info": {
   "codemirror_mode": {
    "name": "ipython",
    "version": 3
   },
   "file_extension": ".py",
   "mimetype": "text/x-python",
   "name": "python",
   "nbconvert_exporter": "python",
   "pygments_lexer": "ipython3",
   "version": "3.11.6"
  }
 },
 "nbformat": 4,
 "nbformat_minor": 2
}
