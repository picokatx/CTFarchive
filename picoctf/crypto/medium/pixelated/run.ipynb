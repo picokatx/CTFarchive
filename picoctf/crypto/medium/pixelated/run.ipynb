{
 "cells": [
  {
   "cell_type": "code",
   "execution_count": 8,
   "metadata": {},
   "outputs": [
    {
     "data": {
      "image/jpeg": "[encoded data removed]",
      "image/png": "[encoded data removed]",
      "text/plain": [
       "<PIL.Image.Image image mode=RGB size=256x256>"
      ]
     },
     "execution_count": 8,
     "metadata": {},
     "output_type": "execute_result"
    }
   ],
   "source": [
    "from PIL import Image, ImageEnhance\n",
    "import numpy as np\n",
    "img1 = Image.open(\"scrambled1.png\") \n",
    "img2 = Image.open(\"scrambled2.png\") \n",
    "r1 = img1.getchannel('R')\n",
    "r2 = img2.getchannel('R')\n",
    "g1 = img1.getchannel('G')\n",
    "g2 = img2.getchannel('G')\n",
    "b1 = img1.getchannel('B')\n",
    "b2 = img2.getchannel('B')\n",
    "r = Image.fromarray(np.array(r1) ^ np.array(r2))\n",
    "g = Image.fromarray(np.array(g1) ^ np.array(g2))\n",
    "b = Image.fromarray(np.array(b1) ^ np.array(b2))\n",
    "ImageEnhance.Contrast(Image.merge(\"RGB\", (r,g,b))).enhance(100)\n",
    "# picoCTF{0542dc1d}"
   ]
  }
 ],
 "metadata": {
  "kernelspec": {
   "display_name": ".venv",
   "language": "python",
   "name": "python3"
  },
  "language_info": {
   "codemirror_mode": {
    "name": "ipython",
    "version": 3
   },
   "file_extension": ".py",
   "mimetype": "text/x-python",
   "name": "python",
   "nbconvert_exporter": "python",
   "pygments_lexer": "ipython3",
   "version": "3.11.6"
  }
 },
 "nbformat": 4,
 "nbformat_minor": 2
}
