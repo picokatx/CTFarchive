{
 "cells": [
  {
   "cell_type": "code",
   "execution_count": 65,
   "metadata": {},
   "outputs": [
    {
     "name": "stdout",
     "output_type": "stream",
     "text": [
      "o\n",
      "©¸¸¹su¥§yªw¨{}vt¥|yzut¥ª©¦vy{v|wu¨¥¥|\n",
      "§§¨bdhfjleckhidcehjekfdk\n",
      "qQqSWUY[TRZWXSRTWYTZUSZ\n",
      "v`@`BrtFwDuHJCArIFGBArwvsCFHCIDBurrI\n",
      "et_tu?_1ac5f3d7920a85610afeb2572831daa8\n",
      "TcNcd.N PR$U\"S&(!/P'$% /PUTQ!$&!'\" SPP'\n",
      "CR=RS\u001d=\u001fOA\u0013D\u0011B\u0015\u0017\u0010\u001eO\u0016\u0013\u0014\u001f\u001eODC@\u0010\u0013\u0015\u0010\u0016\u0011\u001fBOO\u0016\n",
      ">32?\u000f\u0002\u0004\u000f\u0005\u0000\u000e1>>\u0005\u0006\u000f\n",
      "!0\u001b01û\u001bý-/ñ\"ÿ óõþü-ôñòýü-\"!.þñóþôÿý --ô\n",
      "\u0010/\n",
      "/ ê\n",
      "ì\u001c\u001eà\u0011î\u001fâäíë\u001cãàáìë\u001c\u0011\u0010\u001díàâíãîì\u001f\u001c\u001cã\n",
      "ß\u0000Ý\u000eÑÓÜÚ\u000bÒßÐÛÚ\u000b\u0000\u000f\fÜßÑÜÒÝÛ\u000e\u000b\u000bÒ\n",
      "\u000eÈèÊúüÎÿÌýÀÂËÉúÁÎÏÊÉúÿþûËÎÀËÁÌÊýúúÁ\n",
      "íü×üý·×¹éë½î»ì¿±º¸é°½¾¹¸éîíêº½¿º°»¹ìéé°\n",
      "ÜëÆëì¦Æ¨ØÚ¬ÝªÛ® ©§Ø¯¬­¨§ØÝÜÙ©¬®©¯ª¨ÛØØ¯\n",
      "ËÚµÚÛµÇÉÌÊÇÇÌËÈÊÇÇ\n",
      "ºÉ¤ÉÊ¤¶¸»¹¶¶»º·¹¶¶\n"
     ]
    }
   ],
   "source": [
    "from base64 import b16decode, b16encode\n",
    "import string\n",
    "\n",
    "LOWERCASE_OFFSET = ord(\"a\")\n",
    "ALPHABET = string.ascii_lowercase[:16]\n",
    "\n",
    "def b16_encode(plain):\n",
    "\tenc = \"\"\n",
    "\tfor c in plain:\n",
    "\t\tbinary = \"{0:08b}\".format(ord(c))\n",
    "\t\tenc += ALPHABET[int(binary[:4], 2)]\n",
    "\t\tenc += ALPHABET[int(binary[4:], 2)]\n",
    "\treturn enc\n",
    "def b16_decode(enc):\n",
    "\tret = \"\"\n",
    "\tfor i in range(0, len(enc), 2):\n",
    "\t\tret+=chr((ALPHABET.index(enc[i]) << 4)+ALPHABET.index(enc[i+1]))\n",
    "\treturn ret\n",
    "\n",
    "def shift(c, k):\n",
    "\tt1 = ord(c) - LOWERCASE_OFFSET\n",
    "\tt2 = ord(k) - LOWERCASE_OFFSET\n",
    "\treturn ALPHABET[(t1 + t2) % 16]\n",
    "\n",
    "def unshift(c, k):\n",
    "\treturn ALPHABET[(ALPHABET.index(c) - ALPHABET.index(k)) % 16]\n",
    "\n",
    "b16 = \"a\"\n",
    "enc = \"\"\n",
    "key = '_' # 0-16\n",
    "for i, c in enumerate(b16):\n",
    "\tenc += shift(c, key)\n",
    "print(enc)\n",
    "for alph in ALPHABET:\n",
    "    us = \"\".join([unshift(c, alph) for c in \"kjlijdliljhdjdhfkfkhhjkkhhkihlhnhghekfhmhjhkhfhekfkkkjkghghjhlhghmhhhfkikfkfhm\"])\n",
    "    print(b16_decode(us))"
   ]
  },
  {
   "cell_type": "markdown",
   "metadata": {},
   "source": [
    "picoCTF{et_tu?_1ac5f3d7920a85610afeb2572831daa8}"
   ]
  }
 ],
 "metadata": {
  "kernelspec": {
   "display_name": ".venv",
   "language": "python",
   "name": "python3"
  },
  "language_info": {
   "codemirror_mode": {
    "name": "ipython",
    "version": 3
   },
   "file_extension": ".py",
   "mimetype": "text/x-python",
   "name": "python",
   "nbconvert_exporter": "python",
   "pygments_lexer": "ipython3",
   "version": "3.11.6"
  }
 },
 "nbformat": 4,
 "nbformat_minor": 2
}
