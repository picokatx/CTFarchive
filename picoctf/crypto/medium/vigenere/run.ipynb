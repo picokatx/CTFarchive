{
 "cells": [
  {
   "cell_type": "code",
   "execution_count": 3,
   "metadata": {},
   "outputs": [
    {
     "data": {
      "text/plain": [
       "'picoCTF{D0NT_US3_V1G3N3R3_C1PH3R_ae82272q}'"
      ]
     },
     "execution_count": 3,
     "metadata": {},
     "output_type": "execute_result"
    }
   ],
   "source": [
    "from string import ascii_lowercase, ascii_uppercase\n",
    "enc = \"rgnoDVD{O0NU_WQ3_G1G3O3T3_A1AH3S_cc82272b}\"\n",
    "key = \"CYLAB\"\n",
    "flag = \"\"\n",
    "i=0\n",
    "for c in enc:\n",
    "    if c.isupper():\n",
    "        flag+=ascii_uppercase[ascii_uppercase.index(c) - ascii_uppercase.index(key[i%5])]\n",
    "        i+=1\n",
    "    elif c.islower():\n",
    "        flag+=ascii_lowercase[ascii_lowercase.index(c) - ascii_uppercase.index(key[i%5])]\n",
    "        i+=1\n",
    "    else:\n",
    "        flag+=c\n",
    "flag"
   ]
  }
 ],
 "metadata": {
  "kernelspec": {
   "display_name": ".venv",
   "language": "python",
   "name": "python3"
  },
  "language_info": {
   "codemirror_mode": {
    "name": "ipython",
    "version": 3
   },
   "file_extension": ".py",
   "mimetype": "text/x-python",
   "name": "python",
   "nbconvert_exporter": "python",
   "pygments_lexer": "ipython3",
   "version": "3.11.6"
  }
 },
 "nbformat": 4,
 "nbformat_minor": 2
}
