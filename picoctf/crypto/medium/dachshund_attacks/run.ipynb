{
 "cells": [
  {
   "cell_type": "markdown",
   "metadata": {},
   "source": [
    "### Wiener attack, attempted (and success!) implementation from scratch below"
   ]
  },
  {
   "cell_type": "code",
   "execution_count": 1,
   "metadata": {},
   "outputs": [],
   "source": [
    "e=60622565810056765588076682990247867931467974177173929430876799924141527547159343311956425490167737740240046629439818049884054674496400421837121395839395671068760025748314749504507293154243658839233494420713870324550776601235709721477057208088323328590472437615906346795333144247497340280153973078100120070771\n",
    "n=76881499195179758719860576028129204256330463041538761885870902922146174453818918859116923311186372704033550511757618765150988598753482039061299751106213131549269527605251067558555225306491166622692816670944375066132653303087101319120517392175340003297430678476513934572673535247748275637537396895236079423941\n",
    "c=60278311525973438866348054125035969957458310299959975267975269326631807541076198821617577977630397205355473918704575171192579993287663207864988439328835231524516323450595645371973555696071228527541776679612089193355470623559313376895794531673334509318279167607306947896618949387489794595845072549080046122231\n"
   ]
  },
  {
   "cell_type": "code",
   "execution_count": 2,
   "metadata": {},
   "outputs": [],
   "source": [
    "from sympy.ntheory import continued_fraction_periodic\n",
    "from sympy.solvers import solve\n",
    "from sympy import symbols\n",
    "from sympy import Symbol\n",
    "from sympy.ntheory.continued_fraction import continued_fraction_convergents\n",
    "from sympy import Rational\n",
    "from sympy.ntheory import continued_fraction\n",
    "def attack(e,n):\n",
    "    cf = continued_fraction(Rational(e,n))\n",
    "    for c in list(continued_fraction_convergents(cf)):\n",
    "        k = c.p\n",
    "        d = c.q\n",
    "        if (k==0 or d%2==0 or e*d%k!=1):\n",
    "            continue\n",
    "        phi = (e*d - 1)/k\n",
    "        x = Symbol('x')\n",
    "        print(d, solve(x**2 - ((n-phi)+1)*x + n, x))"
   ]
  },
  {
   "cell_type": "code",
   "execution_count": 3,
   "metadata": {},
   "outputs": [
    {
     "name": "stdout",
     "output_type": "stream",
     "text": [
      "23009757856071844268568055912545458118138742425651340843696073482971286971615 [0.5 - 8.76820957751238e+153*I, 0.5 + 8.76820957751238e+153*I]\n"
     ]
    }
   ],
   "source": [
    "attack(e,n)"
   ]
  },
  {
   "cell_type": "code",
   "execution_count": 23,
   "metadata": {},
   "outputs": [
    {
     "name": "stdout",
     "output_type": "stream",
     "text": [
      "Private key: 23009757856071844268568055912545458118138742425651340843696073482971286971615\n"
     ]
    }
   ],
   "source": [
    "import owiener\n",
    "d = owiener.attack(e, n)\n",
    "print(\"Private key: \" + str(d))"
   ]
  },
  {
   "cell_type": "code",
   "execution_count": 4,
   "metadata": {},
   "outputs": [],
   "source": [
    "def fast_mod_exp(b, exp, m):\n",
    "    res = 1\n",
    "    while exp > 1:\n",
    "        if exp & 1:\n",
    "            res = (res * b) % m\n",
    "        b = b ** 2 % m\n",
    "        exp >>= 1\n",
    "    return (b * res) % m\n"
   ]
  },
  {
   "cell_type": "code",
   "execution_count": 6,
   "metadata": {},
   "outputs": [
    {
     "data": {
      "text/plain": [
       "60278311525973438866348054125035969957458310299959975267975269326631807541076198821617577977630397205355473918704575171192579993287663207864988439328835231524516323450595645371973555696071228527541776679612089193355470623559313376895794531673334509318279167607306947896618949387489794595845072549080046122231"
      ]
     },
     "execution_count": 6,
     "metadata": {},
     "output_type": "execute_result"
    }
   ],
   "source": [
    "c"
   ]
  },
  {
   "cell_type": "code",
   "execution_count": 7,
   "metadata": {},
   "outputs": [
    {
     "data": {
      "text/plain": [
       "76881499195179758719860576028129204256330463041538761885870902922146174453818918859116923311186372704033550511757618765150988598753482039061299751106213131549269527605251067558555225306491166622692816670944375066132653303087101319120517392175340003297430678476513934572673535247748275637537396895236079423941"
      ]
     },
     "execution_count": 7,
     "metadata": {},
     "output_type": "execute_result"
    }
   ],
   "source": [
    "n"
   ]
  },
  {
   "cell_type": "code",
   "execution_count": 5,
   "metadata": {},
   "outputs": [
    {
     "data": {
      "text/plain": [
       "198614235373674103788888306985643587194108045477674049828293333354607555709"
      ]
     },
     "execution_count": 5,
     "metadata": {},
     "output_type": "execute_result"
    }
   ],
   "source": [
    "fast_mod_exp(c, 23009757856071844268568055912545458118138742425651340843696073482971286971615 , n)"
   ]
  },
  {
   "cell_type": "code",
   "execution_count": 35,
   "metadata": {},
   "outputs": [
    {
     "data": {
      "text/plain": [
       "bytearray(b'picoCTF{proving_wiener_1146084}')"
      ]
     },
     "execution_count": 35,
     "metadata": {},
     "output_type": "execute_result"
    }
   ],
   "source": [
    "bytearray.fromhex(hex(198614235373674103788888306985643587194108045477674049828293333354607555709)[2:])"
   ]
  },
  {
   "cell_type": "markdown",
   "metadata": {},
   "source": [
    "### Testing"
   ]
  },
  {
   "cell_type": "code",
   "execution_count": 31,
   "metadata": {},
   "outputs": [
    {
     "data": {
      "text/plain": [
       "b'Unaligned\\x07\\x07\\x07\\x07\\x07\\x07\\x07'"
      ]
     },
     "execution_count": 31,
     "metadata": {},
     "output_type": "execute_result"
    }
   ],
   "source": [
    "from Crypto.Util.Padding import unpad, pad\n",
    "from Crypto.Cipher import AES\n",
    "\n",
    "from Crypto.Random import get_random_bytes\n",
    "pad(b'Unaligned', 16)"
   ]
  },
  {
   "cell_type": "code",
   "execution_count": 21,
   "metadata": {},
   "outputs": [
    {
     "data": {
      "text/plain": [
       "[0, 5, 29, 4, 1, 3, 2, 4, 3]"
      ]
     },
     "execution_count": 21,
     "metadata": {},
     "output_type": "execute_result"
    }
   ],
   "source": [
    "from sympy.ntheory import continued_fraction_periodic\n",
    "cf = continued_fraction_periodic(e,n)\n",
    "cf"
   ]
  },
  {
   "cell_type": "code",
   "execution_count": 30,
   "metadata": {},
   "outputs": [
    {
     "data": {
      "text/plain": [
       "sympy.core.numbers.Rational"
      ]
     },
     "execution_count": 30,
     "metadata": {},
     "output_type": "execute_result"
    }
   ],
   "source": [
    "from sympy.ntheory.continued_fraction import continued_fraction_convergents, continued_fraction_iterator\n",
    "type(list(continued_fraction_convergents(cf))[1])"
   ]
  },
  {
   "cell_type": "code",
   "execution_count": 65,
   "metadata": {},
   "outputs": [
    {
     "data": {
      "text/plain": [
       "[0,\n",
       " 1/5,\n",
       " 29/146,\n",
       " 117/589,\n",
       " 146/735,\n",
       " 555/2794,\n",
       " 1256/6323,\n",
       " 5579/28086,\n",
       " 17993/90581]"
      ]
     },
     "execution_count": 65,
     "metadata": {},
     "output_type": "execute_result"
    }
   ],
   "source": [
    "list(continued_fraction_convergents(cf))"
   ]
  },
  {
   "cell_type": "code",
   "execution_count": 57,
   "metadata": {},
   "outputs": [
    {
     "data": {
      "text/plain": [
       "89964.0"
      ]
     },
     "execution_count": 57,
     "metadata": {},
     "output_type": "execute_result"
    }
   ],
   "source": [
    "from sympy import symbols\n",
    "# symbols(\"\\\\frac{(17993\\\\times5)-1}{1}\")\n",
    "cn = (17993*5-1)/1\n",
    "cn"
   ]
  },
  {
   "cell_type": "code",
   "execution_count": 75,
   "metadata": {},
   "outputs": [
    {
     "data": {
      "text/plain": [
       "0"
      ]
     },
     "execution_count": 75,
     "metadata": {},
     "output_type": "execute_result"
    }
   ],
   "source": [
    "e*5 % 1"
   ]
  },
  {
   "cell_type": "code",
   "execution_count": 52,
   "metadata": {},
   "outputs": [
    {
     "data": {
      "text/plain": [
       "[239.000000000000, 379.000000000000]"
      ]
     },
     "execution_count": 52,
     "metadata": {},
     "output_type": "execute_result"
    }
   ],
   "source": [
    "from sympy.solvers import solve\n",
    "from sympy import Symbol\n",
    "x = Symbol('x')\n",
    "solve(x**2 - ((n-cn)+1)*x + n, x)"
   ]
  },
  {
   "cell_type": "code",
   "execution_count": null,
   "metadata": {},
   "outputs": [],
   "source": []
  }
 ],
 "metadata": {
  "kernelspec": {
   "display_name": ".venv",
   "language": "python",
   "name": "python3"
  },
  "language_info": {
   "codemirror_mode": {
    "name": "ipython",
    "version": 3
   },
   "file_extension": ".py",
   "mimetype": "text/x-python",
   "name": "python",
   "nbconvert_exporter": "python",
   "pygments_lexer": "ipython3",
   "version": "3.11.6"
  }
 },
 "nbformat": 4,
 "nbformat_minor": 2
}
