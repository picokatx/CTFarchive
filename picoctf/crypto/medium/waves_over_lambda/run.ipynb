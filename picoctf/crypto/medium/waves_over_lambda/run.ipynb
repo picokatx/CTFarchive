{
 "cells": [
  {
   "cell_type": "code",
   "execution_count": 10,
   "metadata": {},
   "outputs": [],
   "source": [
    "k = \"ABCDEFGHIJKLMNOPQRSTUVWXYZ\"\n",
    "# https://www.dcode.fr/monoalphabetic-substitution lazy\n",
    "K = \"HQFVPRLEYCWXZMBONDGTUKSIAJ\"\n",
    "mapping = dict(zip(K, k))"
   ]
  },
  {
   "cell_type": "code",
   "execution_count": 11,
   "metadata": {},
   "outputs": [
    {
     "name": "stdout",
     "output_type": "stream",
     "text": [
      "alexey fyodorovitch karamazov was the third son of fyodor pavlovitch karamazov, a land owner well known in our district in his own day, and still remembered among us owing to his gloomy and tragic death, which happened thirteen years ago, and which i shall describe in its proper place. for the present i will only say that this landownerfor so we used to call him, although he hardly spent a day of his life on his own estatewas a strange type, yet one pretty frequently to be met with, a type abject and vicious and at the same time senseless. but he was one of those senseless persons who are very well capable of looking after their worldly affairs, and, apparently, after nothing else. fyodor pavlovitch, for instance, began with next to nothing; his estate was of the smallest; he ran to dine at other men's tables, and fastened on them as a toady, yet at his death it appeared that he had a hundred thousand roubles in hard cash. at the same time, he was all his life one of the most senseless, fantastical fellows in the whole district. i repeat, it was not stupiditythe majority of these fantastical fellows are shrewd and intelligent enoughbut just senselessness, and a peculiar national form of it.\n",
      "\n"
     ]
    }
   ],
   "source": [
    "enc = \"\"\"hxpipa rabvbdbkytfe whdhzhjbk shg tep teydv gbm br rabvbd ohkxbkytfe whdhzhjbk, h xhmv bsmpd spxx wmbsm ym bud vygtdyft ym eyg bsm vha, hmv gtyxx dpzpzqpdpv hzbml ug bsyml tb eyg lxbbza hmv tdhlyf vphte, seyfe ehoopmpv teydtppm aphdg hlb, hmv seyfe y gehxx vpgfdyqp ym ytg odbopd oxhfp. rbd tep odpgpmt y syxx bmxa gha teht teyg xhmvbsmpdrbd gb sp ugpv tb fhxx eyz, hxtebule ep ehdvxa gopmt h vha br eyg xyrp bm eyg bsm pgthtpshg h gtdhmlp taop, apt bmp odptta rdpnupmtxa tb qp zpt syte, h taop hqcpft hmv kyfybug hmv ht tep ghzp tyzp gpmgpxpgg. qut ep shg bmp br tebgp gpmgpxpgg opdgbmg seb hdp kpda spxx fhohqxp br xbbwyml hrtpd tepyd sbdxvxa hrrhydg, hmv, hoohdpmtxa, hrtpd mbteyml pxgp. rabvbd ohkxbkytfe, rbd ymgthmfp, qplhm syte mpit tb mbteyml; eyg pgthtp shg br tep gzhxxpgt; ep dhm tb vymp ht btepd zpm'g thqxpg, hmv rhgtpmpv bm tepz hg h tbhva, apt ht eyg vphte yt hoophdpv teht ep ehv h eumvdpv tebughmv dbuqxpg ym ehdv fhge. ht tep ghzp tyzp, ep shg hxx eyg xyrp bmp br tep zbgt gpmgpxpgg, rhmthgtyfhx rpxxbsg ym tep sebxp vygtdyft. y dpopht, yt shg mbt gtuoyvytatep zhcbdyta br tepgp rhmthgtyfhx rpxxbsg hdp gedpsv hmv ymtpxxylpmt pmbulequt cugt gpmgpxpggmpgg, hmv h opfuxyhd mhtybmhx rbdz br yt.\n",
    "\"\"\"\n",
    "out = \"\"\n",
    "for i in range(len(enc)):\n",
    "    if (enc[i].upper() in mapping.keys()):\n",
    "        tmp = mapping[enc[i].upper()]\n",
    "        out+= tmp.lower() if enc[i].islower() else tmp\n",
    "    else:\n",
    "        out+=enc[i]\n",
    "print(out)"
   ]
  },
  {
   "cell_type": "code",
   "execution_count": 20,
   "metadata": {},
   "outputs": [
    {
     "name": "stdout",
     "output_type": "stream",
     "text": [
      "congrats here is your flag - frequency_is_c_over_lambda_ogfmaunraf\n",
      "\n"
     ]
    }
   ],
   "source": [
    "enc = \"\"\"fbmldhtg epdp yg abud rxhl - rdpnupmfa_yg_f_bkpd_xhzqvh_blrzhumdhr\n",
    "\"\"\"\n",
    "out = \"\"\n",
    "for i in range(len(enc)):\n",
    "    if (enc[i].upper() in mapping.keys()):\n",
    "        tmp = mapping[enc[i].upper()]\n",
    "        out+= tmp.lower() if enc[i].islower() else tmp\n",
    "    else:\n",
    "        out+=enc[i]\n",
    "print(out)"
   ]
  },
  {
   "cell_type": "code",
   "execution_count": null,
   "metadata": {},
   "outputs": [],
   "source": [
    "# 0123456789\n",
    "# OIREASGTB \n",
    "# 2 - R\n",
    "# 9 - none"
   ]
  },
  {
   "cell_type": "markdown",
   "metadata": {},
   "source": [
    "frequency_is_c_over_lambda_06fm4un24f"
   ]
  },
  {
   "cell_type": "code",
   "execution_count": 15,
   "metadata": {},
   "outputs": [
    {
     "data": {
      "text/plain": [
       "[Match(a=0, b=0, size=86),\n",
       " Match(a=87, b=86, size=242),\n",
       " Match(a=338, b=341, size=88),\n",
       " Match(a=426, b=431, size=649),\n",
       " Match(a=1075, b=1082, size=75),\n",
       " Match(a=1150, b=1159, size=60),\n",
       " Match(a=1210, b=1219, size=0)]"
      ]
     },
     "execution_count": 15,
     "metadata": {},
     "output_type": "execute_result"
    }
   ],
   "source": [
    "import difflib\n",
    "enc = \"\"\"alexey fyodorovitch karamazov was the third son of fyodor pavlovitch karamazov, a land owner well known in our district in his own day, and still remembered among us owing to his gloomy and tragic death, which happened thirteen years ago, and which i shall describe in its proper place. for the present i will only say that this landownerfor so we used to call him, although he hardly spent a day of his life on his own estatewas a strange type, yet one pretty frequently to be met with, a type abject and vicious and at the same time senseless. but he was one of those senseless persons who are very well capable of looking after their worldly affairs, and, apparently, after nothing else. fyodor pavlovitch, for instance, began with next to nothing; his estate was of the smallest; he ran to dine at other men's tables, and fastened on them as a toady, yet at his death it appeared that he had a hundred thousand roubles in hard cash. at the same time, he was all his life one of the most senseless, fantastical fellows in the whole district. i repeat, it was not stupiditythe majority of these fantastical fellows are shrewd and intelligent enoughbut just senselessness, and a peculiar national form of it.\n",
    "\"\"\"\n",
    "plain=\"\"\"alexey fyodorovitch karamazov was the third son of fyodor pavlovitch karamazov, a landowner well known in our district in his own day, and still remembered among us owing to his gloomy and tragic death, which happened thirteen years ago, and which i shall describe in its proper place. for the present i will only say that this \"landowner\"- for so we used to call him, although he hardly spent a day of his life on his own estate- was a strange type, yet one pretty frequently to be met with, a type abject and vicious and at the same time senseless. but he was one of those senseless persons who are very well capable of looking after their worldly affairs, and, apparently, after nothing else. fyodor pavlovitch, for instance, began with next to nothing; his estate was of the smallest; he ran to dine at other men's tables, and fastened on them as a toady, yet at his death it appeared that he had a hundred thousand roubles in hard cash. at the same time, he was all his life one of the most senseless, fantastical fellows in the whole district. i repeat, it was not stupidity- the majority of these fantastical fellows are shrewd and intelligent enough- but just senselessness, and a peculiar national form of it.\n",
    "\"\"\"\n",
    "difflib.SequenceMatcher(None, enc, plain).get_matching_blocks()"
   ]
  },
  {
   "cell_type": "code",
   "execution_count": 19,
   "metadata": {},
   "outputs": [
    {
     "data": {
      "text/plain": [
       "' la'"
      ]
     },
     "execution_count": 19,
     "metadata": {},
     "output_type": "execute_result"
    }
   ],
   "source": [
    "enc[86+242:86+242+3]"
   ]
  },
  {
   "cell_type": "code",
   "execution_count": null,
   "metadata": {},
   "outputs": [],
   "source": []
  }
 ],
 "metadata": {
  "kernelspec": {
   "display_name": ".venv",
   "language": "python",
   "name": "python3"
  },
  "language_info": {
   "codemirror_mode": {
    "name": "ipython",
    "version": 3
   },
   "file_extension": ".py",
   "mimetype": "text/x-python",
   "name": "python",
   "nbconvert_exporter": "python",
   "pygments_lexer": "ipython3",
   "version": "3.11.6"
  }
 },
 "nbformat": 4,
 "nbformat_minor": 2
}
