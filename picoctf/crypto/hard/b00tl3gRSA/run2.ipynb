{
 "cells": [
  {
   "cell_type": "code",
   "execution_count": 1,
   "metadata": {},
   "outputs": [],
   "source": [
    "from math import floor, log2\n",
    "from sympy import prime\n",
    "import random"
   ]
  },
  {
   "cell_type": "code",
   "execution_count": 2,
   "metadata": {},
   "outputs": [],
   "source": [
    "def gcd(a, b): # b > a\n",
    "    if a>b:\n",
    "        temp = a\n",
    "        a = b\n",
    "        b = temp\n",
    "    q_0 = 0\n",
    "    a_0 = a\n",
    "    b_0 = b\n",
    "    ### extended gcd ###\n",
    "    s_0 = 1\n",
    "    s_1 = 0\n",
    "    t_0 = 0\n",
    "    t_1 = 1\n",
    "    ### extended gcd ###\n",
    "    while True:\n",
    "        q_0 = 0\n",
    "        while b_0>=a_0: #  and a_0!=0\n",
    "            b_0 -= a_0\n",
    "            q_0+=1\n",
    "        ### extended gcd ###\n",
    "        temp_s = s_1\n",
    "        s_1 = s_0-q_0*s_1\n",
    "        s_0 = temp_s\n",
    "        temp_t = t_1\n",
    "        t_1 = t_0-q_0*t_1\n",
    "        t_0 = temp_t\n",
    "        # print(t_0, t_1, s_0, s_1)\n",
    "        ### extended gcd ###\n",
    "        if (q_0==0 or b_0==0): break\n",
    "        rem = b_0\n",
    "        b_0 = a_0\n",
    "        a_0 = rem\n",
    "        if (a_0==1):\n",
    "            temp_s = s_1\n",
    "            s_1 = s_0-q_0*s_1\n",
    "            s_0 = temp_s\n",
    "            temp_t = t_1\n",
    "            t_1 = t_0-q_0*t_1\n",
    "            t_0 = temp_t\n",
    "            break\n",
    "    return a_0, t_0, s_0\n",
    "def lcm(a,b):\n",
    "    return abs(a*b)//gcd(a,b)[0]\n",
    "ascii32bit = \"abcdefghijklmnopqrstuvwxyz.,!?' \"\n",
    "def ascii32bit_encode(s: str):\n",
    "    acc = 0\n",
    "    i = 0\n",
    "    for c in s:\n",
    "        acc+=(ascii32bit.index(c) if c in ascii32bit else 31)<<i\n",
    "        i+=5\n",
    "    return acc\n",
    "# edge case where last char has leading zeros, need to adjust bit shift offset accordingly\n",
    "def ascii32bit_decode(s: int):\n",
    "    acc = s\n",
    "    ans = \"\"\n",
    "    n = round(log2(s)) - 5\n",
    "    n = n+(5-n%5) if n%5!=0 else n\n",
    "    for i in range(n, -1, -5):\n",
    "        temp = acc >> i\n",
    "        temp2 = temp << i\n",
    "        ans=ascii32bit[temp]+ans\n",
    "        acc -= temp2\n",
    "    return ans\n",
    "def fast_mod_exp(b, exp, m):\n",
    "    res = 1\n",
    "    while exp > 1:\n",
    "        if exp & 1:\n",
    "            res = (res * b) % m\n",
    "        b = b ** 2 % m\n",
    "        exp >>= 1\n",
    "    return (b * res) % m\n",
    "# ported from https://stackoverflow.com/questions/2921406/calculate-primes-p-and-q-from-private-exponent-d-public-exponent-e-and-the\n",
    "# given d e and n, find p and q\n",
    "def pq_from_den(d, e, n):\n",
    "    k = d*e-1\n",
    "    if (k%2==0):\n",
    "        r = k\n",
    "        t = 0\n",
    "        while (r%2==0):\n",
    "            r = r >> 1\n",
    "            t+=1\n",
    "        success = False\n",
    "        y = -1\n",
    "        for i in range(1,101):\n",
    "            g = -1\n",
    "            g = random.randrange(0,n)\n",
    "            y = fast_mod_exp(g,r,n)\n",
    "            if y==1 or y==n-1:\n",
    "                continue\n",
    "            for j in range(1, t):\n",
    "                x = fast_mod_exp(y,2,n)\n",
    "                if x==1:\n",
    "                    success = True\n",
    "                    break\n",
    "                if x==n-1:\n",
    "                    continue\n",
    "                y = x\n",
    "            x = fast_mod_exp(y, 2, n)\n",
    "            if (x==1):\n",
    "                success=True\n",
    "                break\n",
    "        if (success):\n",
    "            p = gcd(y-1, n)[0]\n",
    "            q = n//p\n",
    "            return p, q\n",
    "        else:\n",
    "            assert False, \"not found\"\n",
    "    else:\n",
    "        assert False, \"not found\""
   ]
  },
  {
   "cell_type": "code",
   "execution_count": 52,
   "metadata": {},
   "outputs": [],
   "source": [
    "from sympy import root\n",
    "# d and e are swapped for this challenge :/\n",
    "# wiener's attack otherwise\n",
    "q = 9368142777505161011054826660668170411135954374309787120210957537434991078805507928579271014537419497787308305343465053156761097868566963683132370062941651\n",
    "p = 10224114448584419891934214681099481824666928678108839694404551208508906565845463810275343309207480573150221175244225557617101544739713410540776514014300551\n",
    "c = 80971218406557514764948432667827050421003183252305061039422588256307281858696970146288933043066224463318103324903090162949812042968239414542227764212910179184166440256647848948846799668171274642876146933585390106498947877104224253296321266138442937491046412022568268637791434775486497312701802400021649046825\n",
    "n = 95780963927892295077345800948872543933315542377531213521190180090405704795877442772536372715518117903283381686954178857387015371305045698819066879718212152259079548118842841732855275300958773347097251640155109877404063333288215124044686464595601587382908669192044161153727825663984136501238911020584290149701\n",
    "e = 12071818393341018925780495229224517644829430398681780119398673841444544633015665613335221914798963240324102914906717081374135937973658810629804422333528117183086689655640380457205900346142057160309585204843427664727639678904528924234898565061649983656686141622789799911581959013672902682520443650802504823473\n",
    "d = 65537\n",
    "lambda_n = 1915619278557845901546916018977450878666310847550624270423803601808114095917548855450727454310362358065667633739083577147740307426100913976381337594364242653336446440585238774876278670666130750884283984430565905237906347787811409461458952199625556849656754633251271469262341036026830564417293742234004258150"
   ]
  },
  {
   "cell_type": "code",
   "execution_count": 53,
   "metadata": {},
   "outputs": [
    {
     "data": {
      "text/plain": [
       "bytearray(b'picoCTF{bad_1d3a5_2438125}')"
      ]
     },
     "execution_count": 53,
     "metadata": {},
     "output_type": "execute_result"
    }
   ],
   "source": [
    "bytearray.fromhex(hex(pow(c, d, n))[2:])"
   ]
  },
  {
   "cell_type": "code",
   "execution_count": 34,
   "metadata": {},
   "outputs": [],
   "source": [
    "from sympy.solvers import solve\n",
    "from sympy import Symbol\n",
    "from sympy.ntheory.continued_fraction import continued_fraction_convergents\n",
    "from sympy import Rational\n",
    "from sympy.ntheory import continued_fraction\n",
    "def attack(e,n):\n",
    "    cf = continued_fraction(Rational(e,n))\n",
    "    for c in list(continued_fraction_convergents(cf)):\n",
    "        k = c.p\n",
    "        d = c.q\n",
    "        if (k==0 or d%2==0 or e*d%k!=1):\n",
    "            continue\n",
    "        phi = (e*d - 1)/k\n",
    "        x = Symbol('x')\n",
    "        print(d, solve(x**2 - ((n-phi)+1)*x + n, x))"
   ]
  },
  {
   "cell_type": "code",
   "execution_count": 35,
   "metadata": {},
   "outputs": [
    {
     "name": "stdout",
     "output_type": "stream",
     "text": [
      "65537 [0.5 - 1.19666203766672e+154*I, 0.5 + 1.19666203766672e+154*I]\n"
     ]
    }
   ],
   "source": [
    "attack(e,n)"
   ]
  },
  {
   "cell_type": "code",
   "execution_count": 20,
   "metadata": {},
   "outputs": [],
   "source": [
    "p = 9903148612062279695184974394942430814302817287340215681696223192481788630483586667090617147331535537896655460738209367624045422088081722029580391041035523\n",
    "q = 7763338934602697279748332648086085192267317357016587041443338139740907849594395036920888068586614237923957000946534416713286157525947261857424168392169367\n",
    "n = 76881499195179758719860576028129204256330463041538761885870902922146174453818918859116923311186372704033550511757618765150988598753482039061299751106213131549269527605251067558555225306491166622692816670944375066132653303087101319120517392175340003297430678476513934572673535247748275637537396895236079423941\n",
    "e = 60622565810056765588076682990247867931467974177173929430876799924141527547159343311956425490167737740240046629439818049884054674496400421837121395839395671068760025748314749504507293154243658839233494420713870324550776601235709721477057208088323328590472437615906346795333144247497340280153973078100120070771\n",
    "lambda_n = 38440749597589879359930288014064602128165231520769380942935451461073087226909459429558461655593186352016775255878809382575494299376741019530649875553106556941390990470137046312624091138987580026279086157070825963285660540195310620569406690335062042573827428932026124914444598958084330804276754945338323109526\n",
    "s = -36287288216425488019050122614987765249189173099468871830786312214886807549314\n",
    "t = 23009757856071844268568055912545458118138742425651340843696073482971286971615\n",
    "d = 23009757856071844268568055912545458118138742425651340843696073482971286971615"
   ]
  },
  {
   "cell_type": "code",
   "execution_count": 21,
   "metadata": {},
   "outputs": [
    {
     "data": {
      "text/latex": [
       "$\\displaystyle 2330376872267805590644350266656113772374182236654365871990104280632193513223016895105964392925224615671944839465077752281098565722575849493136068921001285721343250983638747411225456295175617077056392404055608053921848792517237329527992811492857635814348746669641219215738816619280599329142734247910218755147654728396924830365496602025322434275586291056714025083619128965117992353864094829769568203167291635382116019254271616494111426275311198839188253048058506896705797164356606654226412088601052750597410824400639495575419969542743494214710682754777133269107639950070129349088507692439958922409746487292207904264546$"
      ],
      "text/plain": [
       "2330376872267805590644350266656113772374182236654365871990104280632193513223016895105964392925224615671944839465077752281098565722575849493136068921001285721343250983638747411225456295175617077056392404055608053921848792517237329527992811492857635814348746669641219215738816619280599329142734247910218755147654728396924830365496602025322434275586291056714025083619128965117992353864094829769568203167291635382116019254271616494111426275311198839188253048058506896705797164356606654226412088601052750597410824400639495575419969542743494214710682754777133269107639950070129349088507692439958922409746487292207904264546"
      ]
     },
     "execution_count": 21,
     "metadata": {},
     "output_type": "execute_result"
    }
   ],
   "source": [
    "from sympy import lcm as lcm_sympy\n",
    "lcm_sympy(e, lambda_n)"
   ]
  },
  {
   "cell_type": "code",
   "execution_count": 12,
   "metadata": {},
   "outputs": [
    {
     "ename": "SyntaxError",
     "evalue": "can't use starred expression here (725833514.py, line 2)",
     "output_type": "error",
     "traceback": [
      "\u001b[1;36m  Cell \u001b[1;32mIn[12], line 2\u001b[1;36m\u001b[0m\n\u001b[1;33m    *2\u001b[0m\n\u001b[1;37m    ^\u001b[0m\n\u001b[1;31mSyntaxError\u001b[0m\u001b[1;31m:\u001b[0m can't use starred expression here\n"
     ]
    }
   ],
   "source": [
    "-36287288216425488019050122614987765249189173099468871830786312214886807549314*2"
   ]
  },
  {
   "cell_type": "code",
   "execution_count": null,
   "metadata": {},
   "outputs": [],
   "source": [
    "m**((1+k*n)//e) - k*n = c "
   ]
  },
  {
   "cell_type": "code",
   "execution_count": null,
   "metadata": {},
   "outputs": [],
   "source": [
    "d = (1+kn)/e"
   ]
  }
 ],
 "metadata": {
  "kernelspec": {
   "display_name": ".venv",
   "language": "python",
   "name": "python3"
  },
  "language_info": {
   "codemirror_mode": {
    "name": "ipython",
    "version": 3
   },
   "file_extension": ".py",
   "mimetype": "text/x-python",
   "name": "python",
   "nbconvert_exporter": "python",
   "pygments_lexer": "ipython3",
   "version": "3.11.6"
  }
 },
 "nbformat": 4,
 "nbformat_minor": 2
}
