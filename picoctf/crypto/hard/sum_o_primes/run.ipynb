{
 "cells": [
  {
   "cell_type": "code",
   "execution_count": 8,
   "metadata": {},
   "outputs": [],
   "source": [
    "from math import floor, log2\n",
    "from sympy import prime\n",
    "import random"
   ]
  },
  {
   "cell_type": "code",
   "execution_count": 9,
   "metadata": {},
   "outputs": [],
   "source": [
    "\n",
    "def lcm(a,b):\n",
    "    return abs(a*b)//extended_gcd(a,b)[0]\n",
    "ascii32bit = \"abcdefghijklmnopqrstuvwxyz.,!?' \"\n",
    "def ascii32bit_encode(s: str):\n",
    "    acc = 0\n",
    "    i = 0\n",
    "    for c in s:\n",
    "        acc+=(ascii32bit.index(c) if c in ascii32bit else 31)<<i\n",
    "        i+=5\n",
    "    return acc\n",
    "# edge case where last char has leading zeros, need to adjust bit shift offset accordingly\n",
    "def ascii32bit_decode(s: int):\n",
    "    acc = s\n",
    "    ans = \"\"\n",
    "    n = round(log2(s)) - 5\n",
    "    n = n+(5-n%5) if n%5!=0 else n\n",
    "    for i in range(n, -1, -5):\n",
    "        temp = acc >> i\n",
    "        temp2 = temp << i\n",
    "        ans=ascii32bit[temp]+ans\n",
    "        acc -= temp2\n",
    "    return ans\n",
    "def fast_mod_exp(b, exp, m):\n",
    "    res = 1\n",
    "    while exp > 1:\n",
    "        if exp & 1:\n",
    "            res = (res * b) % m\n",
    "        b = b ** 2 % m\n",
    "        exp >>= 1\n",
    "    return (b * res) % m\n",
    "# ported from https://stackoverflow.com/questions/2921406/calculate-primes-p-and-q-from-private-exponent-d-public-exponent-e-and-the\n",
    "# given d e and n, find p and q\n",
    "def pq_from_den(d, e, n):\n",
    "    k = d*e-1\n",
    "    if (k%2==0):\n",
    "        r = k\n",
    "        t = 0\n",
    "        while (r%2==0):\n",
    "            r = r >> 1\n",
    "            t+=1\n",
    "        success = False\n",
    "        y = -1\n",
    "        for i in range(1,101):\n",
    "            g = -1\n",
    "            g = random.randrange(0,n)\n",
    "            y = fast_mod_exp(g,r,n)\n",
    "            if y==1 or y==n-1:\n",
    "                continue\n",
    "            for j in range(1, t):\n",
    "                x = fast_mod_exp(y,2,n)\n",
    "                if x==1:\n",
    "                    success = True\n",
    "                    break\n",
    "                if x==n-1:\n",
    "                    continue\n",
    "                y = x\n",
    "            x = fast_mod_exp(y, 2, n)\n",
    "            if (x==1):\n",
    "                success=True\n",
    "                break\n",
    "        if (success):\n",
    "            p = gcd(y-1, n)[0]\n",
    "            q = n//p\n",
    "            return p, q\n",
    "        else:\n",
    "            assert False, \"not found\"\n",
    "    else:\n",
    "        assert False, \"not found\"\n",
    "def extended_gcd(a, b):\n",
    "    r1 = b\n",
    "    r2 = a\n",
    "    u1 = 0\n",
    "    v1 = 1\n",
    "    u2 = 1\n",
    "    v2 = 0\n",
    "    while r2 != 0:\n",
    "        q = r1//r2\n",
    "        r3 = r1\n",
    "        u3 = u1\n",
    "        v3 = v1\n",
    "        r1 = r2\n",
    "        u1 = u2\n",
    "        v1 = v2\n",
    "        r2 = r3 - q * r2\n",
    "        u2 = u3 - q * u2\n",
    "        v2 = v3 - q * v2\n",
    "    return (r1, u1, v1)"
   ]
  },
  {
   "cell_type": "code",
   "execution_count": 18,
   "metadata": {},
   "outputs": [
    {
     "data": {
      "text/plain": [
       "b'picoCTF{pl33z_n0_g1v3_c0ngru3nc3_0f_5qu4r35_24929c45}'"
      ]
     },
     "execution_count": 18,
     "metadata": {},
     "output_type": "execute_result"
    }
   ],
   "source": [
    "from Crypto.Util.number import long_to_bytes\n",
    "# x = p + q\n",
    "# x^2 = p^2+2pq+q^2\n",
    "# tn = n - x + 1\n",
    "x = 0x1429cf99b5dd5dde9f016095be650d5b0a9a73e648aa72324cb8eb05bd14c1b913539a97f5417474f6014de830ad6dee028dd8908e593b1e99c4cc88f400127214036e71112292e58a2ccffc48f57524aee90f9858d935c7a86297a90c7fe48b80f6c4e8df9eaae501ef40da7984502457255fbc8a9e1574ec6ba210be134f192\n",
    "# n = pq\n",
    "n = 0x64fc90f5ca6db24f7bfc6419de407596d29a9ecda526101b8d0eff2181e9b8ed1538a1cbabe4dfc5bcd899976e7739f8b448815b50db36a994c5b1df97981d562c663113fc5ee84f3206aecd18248fb4e9bddf205c8119e8437f7d6522e63d05bc357ae4969a4b3000b8226f8d142c23c4e38cdb0c385bf9564e8a115e4c52b7a2e3a9073a5d99d7bec3bca6452cf0c1b8d8b6b123cc6a6980cf14088d6a2bbb5ed36b85cb0003e535bd16d79ad54ff5b26e62f57de074654493d3a26a149786d5fbf61b42c9305092eb018aa3db3cb18b24f188ae520bd18acf9ffced09a2ba302a520f6e2bfd8eea9adc01eb8ee941181694a3ab493e1aa53fbbbf2851a591\n",
    "c = 0x56ed81bbc149701110f0a15e2e6078ab926d74ee2c11b804ae4fad4333a25c247f38bb74867922438d10ce529b75f5ee5e29ce71d6f704cc0644f7e78d60a2af8921fbc49326280e3f0c00f2769e837363cbb05dc3f30bda8fdc94111fb025008eae562ae57029d5cfde6bdd09893a738187578d22f82a5f8769f093681662329f05b262c2054f91696a24f631ba8132f3d92ae7758c91fa9b5657e4944c5d5f93afb4af68908d004ae5f97071bcaceb7d0034297eeb897f972b44b0d7def52f46ee45d386a5e24ed613bf7e5177c6e10f69a3d3de0f0c30de0b15d360ee81da3d277a4acf47b6df389c24615884b692e604eba711fc28c34bc56227b8455705\n",
    "e = 65537\n",
    "tn = n - x + 1\n",
    "d = extended_gcd(e, tn)[1]+tn\n",
    "long_to_bytes(pow(c,d,n))"
   ]
  }
 ],
 "metadata": {
  "kernelspec": {
   "display_name": ".venv",
   "language": "python",
   "name": "python3"
  },
  "language_info": {
   "codemirror_mode": {
    "name": "ipython",
    "version": 3
   },
   "file_extension": ".py",
   "mimetype": "text/x-python",
   "name": "python",
   "nbconvert_exporter": "python",
   "pygments_lexer": "ipython3",
   "version": "3.11.6"
  }
 },
 "nbformat": 4,
 "nbformat_minor": 2
}
