{
 "cells": [
  {
   "cell_type": "code",
   "execution_count": 71,
   "metadata": {},
   "outputs": [],
   "source": [
    "import sys, time\n",
    "SECRET_KEY = b\"aaaaaaaaaaaaaaaa\"\n",
    "Sbox = (\n",
    "    0x63, 0x7C, 0x77, 0x7B, 0xF2, 0x6B, 0x6F, 0xC5, 0x30, 0x01, 0x67, 0x2B, 0xFE, 0xD7, 0xAB, 0x76,\n",
    "    0xCA, 0x82, 0xC9, 0x7D, 0xFA, 0x59, 0x47, 0xF0, 0xAD, 0xD4, 0xA2, 0xAF, 0x9C, 0xA4, 0x72, 0xC0,\n",
    "    0xB7, 0xFD, 0x93, 0x26, 0x36, 0x3F, 0xF7, 0xCC, 0x34, 0xA5, 0xE5, 0xF1, 0x71, 0xD8, 0x31, 0x15,\n",
    "    0x04, 0xC7, 0x23, 0xC3, 0x18, 0x96, 0x05, 0x9A, 0x07, 0x12, 0x80, 0xE2, 0xEB, 0x27, 0xB2, 0x75,\n",
    "    0x09, 0x83, 0x2C, 0x1A, 0x1B, 0x6E, 0x5A, 0xA0, 0x52, 0x3B, 0xD6, 0xB3, 0x29, 0xE3, 0x2F, 0x84,\n",
    "    0x53, 0xD1, 0x00, 0xED, 0x20, 0xFC, 0xB1, 0x5B, 0x6A, 0xCB, 0xBE, 0x39, 0x4A, 0x4C, 0x58, 0xCF,\n",
    "    0xD0, 0xEF, 0xAA, 0xFB, 0x43, 0x4D, 0x33, 0x85, 0x45, 0xF9, 0x02, 0x7F, 0x50, 0x3C, 0x9F, 0xA8,\n",
    "    0x51, 0xA3, 0x40, 0x8F, 0x92, 0x9D, 0x38, 0xF5, 0xBC, 0xB6, 0xDA, 0x21, 0x10, 0xFF, 0xF3, 0xD2,\n",
    "    0xCD, 0x0C, 0x13, 0xEC, 0x5F, 0x97, 0x44, 0x17, 0xC4, 0xA7, 0x7E, 0x3D, 0x64, 0x5D, 0x19, 0x73,\n",
    "    0x60, 0x81, 0x4F, 0xDC, 0x22, 0x2A, 0x90, 0x88, 0x46, 0xEE, 0xB8, 0x14, 0xDE, 0x5E, 0x0B, 0xDB,\n",
    "    0xE0, 0x32, 0x3A, 0x0A, 0x49, 0x06, 0x24, 0x5C, 0xC2, 0xD3, 0xAC, 0x62, 0x91, 0x95, 0xE4, 0x79,\n",
    "    0xE7, 0xC8, 0x37, 0x6D, 0x8D, 0xD5, 0x4E, 0xA9, 0x6C, 0x56, 0xF4, 0xEA, 0x65, 0x7A, 0xAE, 0x08,\n",
    "    0xBA, 0x78, 0x25, 0x2E, 0x1C, 0xA6, 0xB4, 0xC6, 0xE8, 0xDD, 0x74, 0x1F, 0x4B, 0xBD, 0x8B, 0x8A,\n",
    "    0x70, 0x3E, 0xB5, 0x66, 0x48, 0x03, 0xF6, 0x0E, 0x61, 0x35, 0x57, 0xB9, 0x86, 0xC1, 0x1D, 0x9E,\n",
    "    0xE1, 0xF8, 0x98, 0x11, 0x69, 0xD9, 0x8E, 0x94, 0x9B, 0x1E, 0x87, 0xE9, 0xCE, 0x55, 0x28, 0xDF,\n",
    "    0x8C, 0xA1, 0x89, 0x0D, 0xBF, 0xE6, 0x42, 0x68, 0x41, 0x99, 0x2D, 0x0F, 0xB0, 0x54, 0xBB, 0x16,\n",
    ")\n",
    "FALS = False\n",
    "Sbox_truth = [\n",
    "    True, FALS, True, True, FALS, True, True, True, FALS, True, True, True, FALS, True, True, FALS, \n",
    "    FALS, FALS, True, True, FALS, True, True, FALS, True, FALS, FALS, True, FALS, FALS, FALS, FALS, \n",
    "    True, True, True, FALS, FALS, True, True, FALS, FALS, True, True, True, True, FALS, True, True, \n",
    "    FALS, True, True, True, FALS, FALS, True, FALS, True, FALS, FALS, FALS, True, True, FALS, True, \n",
    "    True, True, FALS, FALS, True, FALS, FALS, FALS, FALS, True, FALS, True, True, True, True, FALS, \n",
    "    True, True, FALS, True, FALS, FALS, True, True, FALS, True, FALS, True, FALS, FALS, FALS, True, \n",
    "    FALS, True, FALS, True, True, True, True, True, True, True, FALS, True, FALS, FALS, True, FALS, \n",
    "    True, True, FALS, True, FALS, True, FALS, True, FALS, FALS, FALS, True, FALS, True, True, FALS, \n",
    "    True, FALS, True, FALS, True, True, FALS, True, FALS, True, FALS, True, FALS, True, True, True, \n",
    "    FALS, True, True, FALS, FALS, FALS, FALS, FALS, FALS, FALS, FALS, FALS, FALS, FALS, True, True, \n",
    "    FALS, FALS, FALS, FALS, True, FALS, FALS, FALS, FALS, True, FALS, FALS, True, True, FALS, True, \n",
    "    True, FALS, True, True, True, True, FALS, True, FALS, FALS, FALS, FALS, True, FALS, FALS, FALS, \n",
    "    FALS, FALS, True, FALS, FALS, FALS, FALS, FALS, FALS, True, FALS, True, True, True, True, FALS, \n",
    "    FALS, FALS, True, FALS, FALS, True, FALS, FALS, True, True, True, True, FALS, True, True, FALS, \n",
    "    True, FALS, FALS, True, True, True, FALS, FALS, True, FALS, True, True, FALS, True, FALS, True, \n",
    "    FALS, True, True, True, True, FALS, FALS, FALS, True, True, True, True, FALS, FALS, True, FALS\n",
    "]\n",
    "solve = [[Sbox[i ^ j] & 0x01 for i in range(0,256)] for j in range(0,256)]\n",
    "# Leaks one bit of information every operation\n",
    "leak_buf = []"
   ]
  },
  {
   "cell_type": "code",
   "execution_count": 2,
   "metadata": {},
   "outputs": [],
   "source": [
    "def leaky_aes_secret(data_byte, key_byte):\n",
    "    out = Sbox[data_byte ^ key_byte]\n",
    "    leak_buf.append(out & 0x01) # sBox[m^k] is odd\n",
    "    return out\n",
    "\n",
    "# Simplified version of AES with only a single encryption stage\n",
    "def encrypt(plaintext, key):\n",
    "    global leak_buf\n",
    "    leak_buf = []\n",
    "    ciphertext = [leaky_aes_secret(plaintext[i], key[i]) for i in range(16)]\n",
    "    return ciphertext\n",
    "\n",
    "# Leak the number of 1 bits in the lowest bit of every SBox output\n",
    "def encrypt_and_leak(plaintext):\n",
    "    ciphertext = encrypt(plaintext, SECRET_KEY)\n",
    "    ciphertext = None # throw away result\n",
    "    time.sleep(0.01)\n",
    "    return leak_buf.count(1)"
   ]
  },
  {
   "cell_type": "code",
   "execution_count": 122,
   "metadata": {},
   "outputs": [
    {
     "name": "stdout",
     "output_type": "stream",
     "text": [
      "8888877877788777878788787778777788887778878878777888878778878877777777888778777787878788787888877777787778888887877788877777787787877787888777888787887888777877778787788887878788877778878788887887777777888778878887787888878878778887878877788788788888788778"
     ]
    }
   ],
   "source": [
    "from pwnlib.tubes.remote import remote\n",
    "from string import ascii_letters\n",
    "import re\n",
    "idx = 15\n",
    "for i in range(256):\n",
    "    r = remote('saturn.picoctf.net', 63830)\n",
    "    r.recvuntil(b'Please provide 16 bytes of plaintext encoded as hex: ')\n",
    "    inp = b\"00\"*idx+hex(256+i)[3:].encode()+b\"00\"*(15-idx)+b\"\\n\"\n",
    "    r.send(inp)\n",
    "    l = int(r.recvuntil(b\"\\n\").decode().split(\": \")[1])\n",
    "    print(l, end=\"\")"
   ]
  },
  {
   "cell_type": "code",
   "execution_count": 123,
   "metadata": {},
   "outputs": [
    {
     "data": {
      "text/plain": [
       "217"
      ]
     },
     "execution_count": 123,
     "metadata": {},
     "output_type": "execute_result"
    }
   ],
   "source": [
    "key = [(int(c)-7)==1 for c in list(\"8888877877788777878788787778777788887778878878777888878778878877777777888778777787878788787888877777787778888887877788877777787787877787888777888787887888777877778787788887878788877778878788887887777777888778878887787888878878778887878877788788788888788778\")] \n",
    "solve.index(key)"
   ]
  },
  {
   "cell_type": "code",
   "execution_count": null,
   "metadata": {},
   "outputs": [],
   "source": [
    "# ??\n",
    "# 8888988999888888899998989989898989999998889888888898888889998889888998889889999988889888989989898898998998889999889989988989999898899988888889989989999898899989988899898999889898899899999899899988899989888989889888999899898989898999988989889999898998888999\n",
    "# 8887788778888788788877878777887887887888788878877788788787787777787888888878778788787878777878878877877778788887887877887878777877778777787788788788887877778777878788787878788878877777777777888778887787887878788887778888778777877777787888877787787788887887\n",
    "# 8888787887777888787878888778787777877788878878788877788878777878877887888887887887778878788877878878888787788878877888777777788777887887787888877787887887778888777787778788787877788777877888887787777778887778788888877787777778888787887878787777877888777777\n",
    "# 8999899899989989999889888889989999899998999889989988899898898888989899999899898898999898988889988899888998988999989999889898988888888889889898999989989988888889898998999898999889988888888899889889889999899898999888899999898889888888989889998988889899998998\n",
    "# 8878878787787788888878778887777887877888787777778888788778777787778787887777777877777778887887888787888778788788777788777887777787887877878788888777788787888787878778887788777887878777878888778887887878887887777887888887787788877887887888878778777788777887\n",
    "# 8788787788887778788788777888878777788777888887787778777787878878788888877777787777777877877788878778777777777788787888878787878888878787778787788787888888877778888777888787778788777877878788788788777878778887887887788788788877888778788777777888878887888778\n",
    "# 8878787787777777877777778878878878887878887887877788777777777887787887888877877877878888877778888887787877777787788788887877778787887888788788878878877777877888788778887888878877778778788777887787887888887878788777787878887888877878877788777778787877888878\n",
    "# 8898888889999998899988898898888899888888888898899989898989999898988899998898998989899998889989989889999988899888989989898888988889998898988899899998998998899899888889989889998898899989998999989889898889898999988889999999898989888989998889999899898988988899\n",
    "# 8787887877888778787788887778888778888787777778777887888877877877878877877778777777787777878888788887878787887878887777777777788778778788888887877887877787878788788887877778778887778787887787888878888778877888878877787877888778878887888788787777877878878877\n",
    "# 8988998988889888888898889899998989898999989899898888889989988888989989899889998899998898899998888989999888988888999989988898898889999899999889989888998989998898899989989899899998898888889989989989889889899999888989989989898989899998998898888989888999898899\n",
    "# 8998889988889889899998998998899988988999998998888998999898998999889999898889898998889988999889898989998989988889999989898898998988888998889988889989989889998989998998999888888898888888998989888988889889989999888888989998898998888999889899999988988989899899\n",
    "# 8899999888989898898899889989989898989998988988989999989888899998988988998888899898998999988998998889989999988988988999898999989998888889988999998888888999899898898898998889999999888998989889998888988988998888999889899899989899988999898888888988888899989888\n",
    "# 8898989888999998998998988988998898898898989899988889999899999898888889989889889998899899989989999998898888899899899998999889998998899999988888899989989888888889888999998988989998988999998889988899888888889889989998989998898989888888999889999998988889888888\n",
    "# 8888877877788777878788787778777788887778878878777888878778878877777777888778777787878788787888877777787778888887877788877777787787877787888777888787887888777877778787788887878788877778878788887887777777888778878887787888878878778887878877788788788888788778\n"
   ]
  },
  {
   "cell_type": "code",
   "execution_count": 136,
   "metadata": {},
   "outputs": [
    {
     "name": "stdout",
     "output_type": "stream",
     "text": [
      "leakage result: 16\n"
     ]
    }
   ],
   "source": [
    "r = remote('saturn.picoctf.net', 63830)\n",
    "r.recvuntil(b'Please provide 16 bytes of plaintext encoded as hex: ')\n",
    "inp = b\"c596206623ebf1acbe0aefa814555dd9\\n\"\n",
    "r.send(inp)\n",
    "print(r.recvuntil(b\"\\n\").decode(), end=\"\")"
   ]
  },
  {
   "cell_type": "code",
   "execution_count": 134,
   "metadata": {},
   "outputs": [
    {
     "data": {
      "text/plain": [
       "31"
      ]
     },
     "execution_count": 134,
     "metadata": {},
     "output_type": "execute_result"
    }
   ],
   "source": [
    "len(\"c596206623ebf1acbeaefa814555dd9\")"
   ]
  },
  {
   "cell_type": "code",
   "execution_count": 135,
   "metadata": {},
   "outputs": [
    {
     "data": {
      "text/plain": [
       "'c596206623ebf1acbe0aefa814555dd9'"
      ]
     },
     "execution_count": 135,
     "metadata": {},
     "output_type": "execute_result"
    }
   ],
   "source": [
    "\"\".join([hex(256+c)[3:] for c in [197, 150, 32, 102, 35, 235, 241, 172, 190, 10, 239, 168, 20, 85, 93, 217]])"
   ]
  },
  {
   "cell_type": "code",
   "execution_count": 97,
   "metadata": {},
   "outputs": [
    {
     "data": {
      "text/plain": [
       "b'\\xc5\\x96 f#\\xeb\\xf1\\xac'"
      ]
     },
     "execution_count": 97,
     "metadata": {},
     "output_type": "execute_result"
    }
   ],
   "source": [
    "bytes([197, 150, 32, 102, 35, 235, 241, 172, 0, 0, 0, 0, 0, 0, 0, 0])"
   ]
  },
  {
   "cell_type": "code",
   "execution_count": null,
   "metadata": {},
   "outputs": [],
   "source": [
    "#!/usr/bin/env python3\n",
    "import random, sys, time\n",
    "\n",
    "with open(\"key.txt\", \"r\") as f:\n",
    "    SECRET_KEY = bytes.fromhex(f.read().strip())\n",
    "\n",
    "Sbox = (\n",
    "    0x63, 0x7C, 0x77, 0x7B, 0xF2, 0x6B, 0x6F, 0xC5, 0x30, 0x01, 0x67, 0x2B, 0xFE, 0xD7, 0xAB, 0x76,\n",
    "    0xCA, 0x82, 0xC9, 0x7D, 0xFA, 0x59, 0x47, 0xF0, 0xAD, 0xD4, 0xA2, 0xAF, 0x9C, 0xA4, 0x72, 0xC0,\n",
    "    0xB7, 0xFD, 0x93, 0x26, 0x36, 0x3F, 0xF7, 0xCC, 0x34, 0xA5, 0xE5, 0xF1, 0x71, 0xD8, 0x31, 0x15,\n",
    "    0x04, 0xC7, 0x23, 0xC3, 0x18, 0x96, 0x05, 0x9A, 0x07, 0x12, 0x80, 0xE2, 0xEB, 0x27, 0xB2, 0x75,\n",
    "    0x09, 0x83, 0x2C, 0x1A, 0x1B, 0x6E, 0x5A, 0xA0, 0x52, 0x3B, 0xD6, 0xB3, 0x29, 0xE3, 0x2F, 0x84,\n",
    "    0x53, 0xD1, 0x00, 0xED, 0x20, 0xFC, 0xB1, 0x5B, 0x6A, 0xCB, 0xBE, 0x39, 0x4A, 0x4C, 0x58, 0xCF,\n",
    "    0xD0, 0xEF, 0xAA, 0xFB, 0x43, 0x4D, 0x33, 0x85, 0x45, 0xF9, 0x02, 0x7F, 0x50, 0x3C, 0x9F, 0xA8,\n",
    "    0x51, 0xA3, 0x40, 0x8F, 0x92, 0x9D, 0x38, 0xF5, 0xBC, 0xB6, 0xDA, 0x21, 0x10, 0xFF, 0xF3, 0xD2,\n",
    "    0xCD, 0x0C, 0x13, 0xEC, 0x5F, 0x97, 0x44, 0x17, 0xC4, 0xA7, 0x7E, 0x3D, 0x64, 0x5D, 0x19, 0x73,\n",
    "    0x60, 0x81, 0x4F, 0xDC, 0x22, 0x2A, 0x90, 0x88, 0x46, 0xEE, 0xB8, 0x14, 0xDE, 0x5E, 0x0B, 0xDB,\n",
    "    0xE0, 0x32, 0x3A, 0x0A, 0x49, 0x06, 0x24, 0x5C, 0xC2, 0xD3, 0xAC, 0x62, 0x91, 0x95, 0xE4, 0x79,\n",
    "    0xE7, 0xC8, 0x37, 0x6D, 0x8D, 0xD5, 0x4E, 0xA9, 0x6C, 0x56, 0xF4, 0xEA, 0x65, 0x7A, 0xAE, 0x08,\n",
    "    0xBA, 0x78, 0x25, 0x2E, 0x1C, 0xA6, 0xB4, 0xC6, 0xE8, 0xDD, 0x74, 0x1F, 0x4B, 0xBD, 0x8B, 0x8A,\n",
    "    0x70, 0x3E, 0xB5, 0x66, 0x48, 0x03, 0xF6, 0x0E, 0x61, 0x35, 0x57, 0xB9, 0x86, 0xC1, 0x1D, 0x9E,\n",
    "    0xE1, 0xF8, 0x98, 0x11, 0x69, 0xD9, 0x8E, 0x94, 0x9B, 0x1E, 0x87, 0xE9, 0xCE, 0x55, 0x28, 0xDF,\n",
    "    0x8C, 0xA1, 0x89, 0x0D, 0xBF, 0xE6, 0x42, 0x68, 0x41, 0x99, 0x2D, 0x0F, 0xB0, 0x54, 0xBB, 0x16,\n",
    ")\n",
    "\n",
    "# Leaks one bit of information every operation\n",
    "leak_buf = []\n",
    "def leaky_aes_secret(data_byte, key_byte):\n",
    "    out = Sbox[data_byte ^ key_byte]\n",
    "    leak_buf.append(out & 0x01)\n",
    "    return out\n",
    "\n",
    "# Simplified version of AES with only a single encryption stage\n",
    "def encrypt(plaintext, key):\n",
    "    global leak_buf\n",
    "    leak_buf = []\n",
    "    ciphertext = [leaky_aes_secret(plaintext[i], key[i]) for i in range(16)]\n",
    "    return ciphertext\n",
    "\n",
    "# Leak the number of 1 bits in the lowest bit of every SBox output\n",
    "def encrypt_and_leak(plaintext):\n",
    "    ciphertext = encrypt(plaintext, SECRET_KEY)\n",
    "    ciphertext = None # throw away result\n",
    "    time.sleep(0.01)\n",
    "    return leak_buf.count(1)\n",
    "\n",
    "pt = input(\"Please provide 16 bytes of plaintext encoded as hex: \")\n",
    "if len(pt) != 32:\n",
    "    print(\"Invalid length\")\n",
    "    sys.exit(0)\n",
    "\n",
    "pt = bytes.fromhex(pt)\n",
    "print(\"leakage result:\", encrypt_and_leak(pt))\n"
   ]
  }
 ],
 "metadata": {
  "kernelspec": {
   "display_name": ".venv",
   "language": "python",
   "name": "python3"
  },
  "language_info": {
   "codemirror_mode": {
    "name": "ipython",
    "version": 3
   },
   "file_extension": ".py",
   "mimetype": "text/x-python",
   "name": "python",
   "nbconvert_exporter": "python",
   "pygments_lexer": "ipython3",
   "version": "3.11.6"
  }
 },
 "nbformat": 4,
 "nbformat_minor": 2
}
