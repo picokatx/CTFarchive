{
 "cells": [
  {
   "cell_type": "code",
   "execution_count": 1,
   "metadata": {},
   "outputs": [],
   "source": [
    "from math import floor, log2\n",
    "from sympy import prime\n",
    "import random"
   ]
  },
  {
   "cell_type": "code",
   "execution_count": 72,
   "metadata": {},
   "outputs": [],
   "source": [
    "#!/usr/bin/python\n",
    "\n",
    "from binascii import hexlify\n",
    "import math\n",
    "import os\n",
    "import sys\n",
    "import gmpy2\n",
    "from gmpy2 import mpz, random_state, next_prime, mpz_urandomb, is_prime\n",
    "\n",
    "_DEBUG = False\n",
    "\n",
    "FLAG  = mpz(hexlify(b\"flag{yay}\"), 16)\n",
    "SEED  = mpz(hexlify(b\"weee\").decode(), 16)\n",
    "STATE = random_state(SEED)\n",
    "def get_prime(state, bits):\n",
    "    return next_prime(mpz_urandomb(state, bits) | (1 << (bits - 1)))\n",
    "\n",
    "def get_smooth_prime(state, bits, smoothness=16):\n",
    "    p = mpz(2)\n",
    "    p_factors = [p]\n",
    "    while p.bit_length() < bits - 2 * smoothness:\n",
    "        factor = get_prime(state, smoothness)\n",
    "        p_factors.append(factor)\n",
    "        p *= factor\n",
    "\n",
    "    bitcnt = (bits - p.bit_length()) // 2\n",
    "\n",
    "    while True:\n",
    "        prime1 = get_prime(state, bitcnt)\n",
    "        prime2 = get_prime(state, bitcnt)\n",
    "        tmpp = p * prime1 * prime2\n",
    "        if tmpp.bit_length() < bits:\n",
    "            bitcnt += 1\n",
    "            continue\n",
    "        if tmpp.bit_length() > bits:\n",
    "            bitcnt -= 1\n",
    "            continue\n",
    "        if is_prime(tmpp + 1):\n",
    "            p_factors.append(prime1)\n",
    "            p_factors.append(prime2)\n",
    "            p = tmpp + 1\n",
    "            break\n",
    "\n",
    "    p_factors.sort()\n",
    "\n",
    "    return (p, p_factors)"
   ]
  },
  {
   "cell_type": "code",
   "execution_count": 73,
   "metadata": {},
   "outputs": [],
   "source": [
    "e = 0x10001\n",
    "\n",
    "while True:\n",
    "    p, p_factors = get_smooth_prime(STATE, 1024, 16) # 16 smooth\n",
    "    if len(p_factors) != len(set(p_factors)):\n",
    "        continue\n",
    "    # Smoothness should be different or some might encounter issues.\n",
    "    q, q_factors = get_smooth_prime(STATE, 1024, 17) # 17 smooth\n",
    "    if len(q_factors) != len(set(q_factors)):\n",
    "        continue\n",
    "    factors = p_factors + q_factors\n",
    "    if e not in factors:\n",
    "        break\n",
    "\n",
    "n = p * q"
   ]
  },
  {
   "cell_type": "code",
   "execution_count": 85,
   "metadata": {},
   "outputs": [
    {
     "data": {
      "text/plain": [
       "mpz(0)"
      ]
     },
     "execution_count": 85,
     "metadata": {},
     "output_type": "execute_result"
    }
   ],
   "source": [
    "(n-1)%6"
   ]
  },
  {
   "cell_type": "code",
   "execution_count": 78,
   "metadata": {},
   "outputs": [
    {
     "data": {
      "text/plain": [
       "True"
      ]
     },
     "execution_count": 78,
     "metadata": {},
     "output_type": "execute_result"
    }
   ],
   "source": [
    "from sympy import isprime\n",
    "isprime(p)"
   ]
  },
  {
   "cell_type": "code",
   "execution_count": 74,
   "metadata": {},
   "outputs": [
    {
     "data": {
      "text/plain": [
       "(mpz(152943054057234143564403676742432386870006054766143977453858870302238068545918534264650151819747090956029677845596661800601342110624294235406969834751707419017752916279373543236245723177401994103244660031403682289060889908841301373580996705353830539087251725604027548933594888692538154959689080659570782209967),\n",
       " [mpz(2),\n",
       "  mpz(9091),\n",
       "  mpz(12739),\n",
       "  mpz(33029),\n",
       "  mpz(33521),\n",
       "  mpz(33911),\n",
       "  mpz(34123),\n",
       "  mpz(34259),\n",
       "  mpz(34421),\n",
       "  mpz(35023),\n",
       "  mpz(35671),\n",
       "  mpz(36251),\n",
       "  mpz(36467),\n",
       "  mpz(36551),\n",
       "  mpz(37097),\n",
       "  mpz(37409),\n",
       "  mpz(38593),\n",
       "  mpz(39019),\n",
       "  mpz(39607),\n",
       "  mpz(41491),\n",
       "  mpz(42557),\n",
       "  mpz(42923),\n",
       "  mpz(44189),\n",
       "  mpz(44741),\n",
       "  mpz(45953),\n",
       "  mpz(46171),\n",
       "  mpz(46399),\n",
       "  mpz(46523),\n",
       "  mpz(46687),\n",
       "  mpz(46867),\n",
       "  mpz(47087),\n",
       "  mpz(47123),\n",
       "  mpz(47969),\n",
       "  mpz(48611),\n",
       "  mpz(48647),\n",
       "  mpz(49853),\n",
       "  mpz(49993),\n",
       "  mpz(52361),\n",
       "  mpz(53129),\n",
       "  mpz(53849),\n",
       "  mpz(54139),\n",
       "  mpz(54193),\n",
       "  mpz(54409),\n",
       "  mpz(54667),\n",
       "  mpz(55609),\n",
       "  mpz(56369),\n",
       "  mpz(56431),\n",
       "  mpz(56591),\n",
       "  mpz(56611),\n",
       "  mpz(56681),\n",
       "  mpz(56843),\n",
       "  mpz(57803),\n",
       "  mpz(58217),\n",
       "  mpz(59263),\n",
       "  mpz(59341),\n",
       "  mpz(59513),\n",
       "  mpz(59743),\n",
       "  mpz(60161),\n",
       "  mpz(60271),\n",
       "  mpz(60821),\n",
       "  mpz(61861),\n",
       "  mpz(62683),\n",
       "  mpz(63103),\n",
       "  mpz(63113),\n",
       "  mpz(63901),\n",
       "  mpz(64919),\n",
       "  mpz(65447)])"
      ]
     },
     "execution_count": 74,
     "metadata": {},
     "output_type": "execute_result"
    }
   ],
   "source": [
    "p, p_factors"
   ]
  },
  {
   "cell_type": "code",
   "execution_count": 58,
   "metadata": {},
   "outputs": [
    {
     "data": {
      "text/plain": [
       "mpz(14970)"
      ]
     },
     "execution_count": 58,
     "metadata": {},
     "output_type": "execute_result"
    }
   ],
   "source": [
    "n%63901"
   ]
  },
  {
   "cell_type": "code",
   "execution_count": 51,
   "metadata": {},
   "outputs": [
    {
     "data": {
      "text/plain": [
       "mpz(1)"
      ]
     },
     "execution_count": 51,
     "metadata": {},
     "output_type": "execute_result"
    }
   ],
   "source": [
    "p%9091"
   ]
  },
  {
   "cell_type": "code",
   "execution_count": null,
   "metadata": {},
   "outputs": [],
   "source": [
    "\n",
    "\n",
    "\n",
    "\n",
    "m = math.lcm(p - 1, q - 1)\n",
    "d = pow(e, -1, m)\n",
    "\n",
    "c = pow(FLAG, e, n)\n",
    "\n",
    "print(f'n = {n.digits(16)}')\n",
    "print(f'c = {c.digits(16)}')\n"
   ]
  },
  {
   "cell_type": "code",
   "execution_count": null,
   "metadata": {},
   "outputs": [],
   "source": []
  },
  {
   "cell_type": "code",
   "execution_count": 2,
   "metadata": {},
   "outputs": [],
   "source": [
    "\n",
    "def lcm(a,b):\n",
    "    return abs(a*b)//extended_gcd(a,b)[0]\n",
    "ascii32bit = \"abcdefghijklmnopqrstuvwxyz.,!?' \"\n",
    "def ascii32bit_encode(s: str):\n",
    "    acc = 0\n",
    "    i = 0\n",
    "    for c in s:\n",
    "        acc+=(ascii32bit.index(c) if c in ascii32bit else 31)<<i\n",
    "        i+=5\n",
    "    return acc\n",
    "# edge case where last char has leading zeros, need to adjust bit shift offset accordingly\n",
    "def ascii32bit_decode(s: int):\n",
    "    acc = s\n",
    "    ans = \"\"\n",
    "    n = round(log2(s)) - 5\n",
    "    n = n+(5-n%5) if n%5!=0 else n\n",
    "    for i in range(n, -1, -5):\n",
    "        temp = acc >> i\n",
    "        temp2 = temp << i\n",
    "        ans=ascii32bit[temp]+ans\n",
    "        acc -= temp2\n",
    "    return ans\n",
    "def fast_mod_exp(b, exp, m):\n",
    "    res = 1\n",
    "    while exp > 1:\n",
    "        if exp & 1:\n",
    "            res = (res * b) % m\n",
    "        b = b ** 2 % m\n",
    "        exp >>= 1\n",
    "    return (b * res) % m\n",
    "# ported from https://stackoverflow.com/questions/2921406/calculate-primes-p-and-q-from-private-exponent-d-public-exponent-e-and-the\n",
    "# given d e and n, find p and q\n",
    "def pq_from_den(d, e, n):\n",
    "    k = d*e-1\n",
    "    if (k%2==0):\n",
    "        r = k\n",
    "        t = 0\n",
    "        while (r%2==0):\n",
    "            r = r >> 1\n",
    "            t+=1\n",
    "        success = False\n",
    "        y = -1\n",
    "        for i in range(1,101):\n",
    "            g = -1\n",
    "            g = random.randrange(0,n)\n",
    "            y = fast_mod_exp(g,r,n)\n",
    "            if y==1 or y==n-1:\n",
    "                continue\n",
    "            for j in range(1, t):\n",
    "                x = fast_mod_exp(y,2,n)\n",
    "                if x==1:\n",
    "                    success = True\n",
    "                    break\n",
    "                if x==n-1:\n",
    "                    continue\n",
    "                y = x\n",
    "            x = fast_mod_exp(y, 2, n)\n",
    "            if (x==1):\n",
    "                success=True\n",
    "                break\n",
    "        if (success):\n",
    "            p = gcd(y-1, n)[0]\n",
    "            q = n//p\n",
    "            return p, q\n",
    "        else:\n",
    "            assert False, \"not found\"\n",
    "    else:\n",
    "        assert False, \"not found\"\n",
    "def extended_gcd(a, b):\n",
    "    r1 = b\n",
    "    r2 = a\n",
    "    u1 = 0\n",
    "    v1 = 1\n",
    "    u2 = 1\n",
    "    v2 = 0\n",
    "    while r2 != 0:\n",
    "        q = r1//r2\n",
    "        r3 = r1\n",
    "        u3 = u1\n",
    "        v3 = v1\n",
    "        r1 = r2\n",
    "        u1 = u2\n",
    "        v1 = v2\n",
    "        r2 = r3 - q * r2\n",
    "        u2 = u3 - q * u2\n",
    "        v2 = v3 - q * v2\n",
    "    return (r1, u1, v1)"
   ]
  },
  {
   "cell_type": "code",
   "execution_count": 52,
   "metadata": {},
   "outputs": [],
   "source": [
    "from Crypto.Util.number import getPrime, bytes_to_long, long_to_bytes\n",
    "from sympy import root\n",
    "n = 0xb03ea698ce2b51fb00e11e6fbaf1e5373dc5b0c70eb2b14a36d21e8667be8774eee51f6050a10237f6b24f21204fc8013681e7ed72ed051188f3274aae8f1de0d39389b514c196fa82c98a270bfabefd044da8c687b0e114ebbde82536c0709ac5ad81bfe0077e9d9b798ad5abecee52767e68f8060c45936521fd93893102eb1676f2ff41324a7a6b3dff2e830538e06d25934e9f14bf6b40ab5674fe648e314bf06f84282f5ef52bc1401de3a42eb66e64bcdadd2674348e5bdb7016feda44d719af387a948ad81cbaed10213dd930fc7bc7677d8c4cdab0645d0ff15e6ad6ca37135942c3be08f23e7be0992c8b3370dcdc31045e086d823107fb2e443dc9\n",
    "c = 0xa913a96e215b5aa79c702d27fa375c73d06787639c4131fb32877cafefaa8faf70e15f6a17ef2a9a6f5310b157cb287b740e77cb5385081d1853a9104bc16357b259fa2d146bd87398d4ef6f1c078289812952c67792cf9cd745049aeb9d4ab4dff2825a9c0b3381f19b2a67164f9d4de33c25f98bc2f224feb5507b531e1a1c7be5ed2d8ddd01f3fae37245e8cf99c75a21848993d445e1d6d69d555a3e6cc8055704fdde88df9084bda3ea65a9384fa64bf8df4d88946449526320c15d4d2d871638070489adf3f8c95caffeab40b0d137a9319be20cdf6ebbaf037f62093d9bd33edd4ffd7e1929b9ab06252956fd85250a0515ef2b4e035017be5702cdd3\n",
    "e = 0x10001"
   ]
  },
  {
   "cell_type": "code",
   "execution_count": 71,
   "metadata": {},
   "outputs": [
    {
     "name": "stdout",
     "output_type": "stream",
     "text": [
      "23456789101112131415161718192021222324252627282930313233343536373839404142434445464748495051525354555657585960616263646566676869707172737475767778798081828384858687888990919293949596979899100101102103104105106107108109110111112113114115116117118119120121122123124125126127128129130131132133134135136137138139140141142143144145146147148149150151152153154155156157158159160161162163164165166167168169"
     ]
    },
    {
     "data": {
      "text/latex": [
       "$\\displaystyle 1$"
      ],
      "text/plain": [
       "1"
      ]
     },
     "execution_count": 71,
     "metadata": {},
     "output_type": "execute_result"
    }
   ],
   "source": [
    "from sympy import factorint, gcd, prime\n",
    "from math import log, floor\n",
    "B = 100000\n",
    "M = 1\n",
    "i = 1\n",
    "while (prime(i)<=B):\n",
    "    M*=pow(prime(i), floor(log(B, prime(i))))\n",
    "    i+=1\n",
    "    print(i, end=\"\")\n",
    "a = 2\n",
    "g = gcd(pow(a, M, n)-1, n)\n",
    "g"
   ]
  },
  {
   "cell_type": "code",
   "execution_count": null,
   "metadata": {},
   "outputs": [],
   "source": []
  }
 ],
 "metadata": {
  "kernelspec": {
   "display_name": ".venv",
   "language": "python",
   "name": "python3"
  },
  "language_info": {
   "codemirror_mode": {
    "name": "ipython",
    "version": 3
   },
   "file_extension": ".py",
   "mimetype": "text/x-python",
   "name": "python",
   "nbconvert_exporter": "python",
   "pygments_lexer": "ipython3",
   "version": "3.11.6"
  }
 },
 "nbformat": 4,
 "nbformat_minor": 2
}
