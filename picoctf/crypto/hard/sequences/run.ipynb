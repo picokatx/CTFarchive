{
 "cells": [
  {
   "cell_type": "code",
   "execution_count": 52,
   "metadata": {},
   "outputs": [],
   "source": [
    "from numpy import linalg as LA\n",
    "import numpy as np\n",
    "from numpy import diagonal\n",
    "import sys\n",
    "import hashlib\n",
    "sys.set_int_max_str_digits(999999)"
   ]
  },
  {
   "cell_type": "code",
   "execution_count": 10,
   "metadata": {},
   "outputs": [],
   "source": [
    "def mmul(array_first,array_second):\n",
    "    \"\"\"This is the standard matrix multiplication O(n^3)\"\"\"\n",
    "    n = len(array_first)\n",
    "    result = np.zeros((n,n), dtype=object).tolist()\n",
    "\n",
    "    for i in range(n):\n",
    "        for j in range(n):\n",
    "            for k in range(n):\n",
    "                result[i][j] += array_first[i][k] *array_second[k][j]\n",
    "    return result"
   ]
  },
  {
   "cell_type": "code",
   "execution_count": 267,
   "metadata": {},
   "outputs": [
    {
     "data": {
      "text/plain": [
       "array([[-6.13441159e-14,  1.00000000e+00,  1.35775706e-16,\n",
       "        -1.68069501e-17],\n",
       "       [-1.94126990e-12, -1.69996192e-14,  1.00000000e+00,\n",
       "        -3.59603493e-16],\n",
       "       [-1.64752292e-11,  2.02193258e-12,  7.39144724e-14,\n",
       "         1.00000000e+00],\n",
       "       [ 5.56920000e+04, -9.54900000e+03,  3.01000000e+02,\n",
       "         2.10000000e+01]])"
      ]
     },
     "execution_count": 267,
     "metadata": {},
     "output_type": "execute_result"
    }
   ],
   "source": [
    "p = 55692\n",
    "q = -9549\n",
    "r = 301\n",
    "s = 21\n",
    "a = np.array([[0,1,0,0],[0,0,1,0],[0,0,0,1],[p,q,r,s]], dtype=np.int64)\n",
    "eigenvectors = LA.eig(a).eigenvectors\n",
    "# eigenvectors = np.array([[-1/9261, 1/1728, 1/2197, 1/4913], [1/441, 1/144, 1/169, 1/289], [-1/21, 1/12, 1/13, 1/17], [1,1,1,1]])\n",
    "eigenvalues = np.diag(LA.eig(a).eigenvalues)\n",
    "np.matmul(np.matmul((eigenvectors), eigenvalues, dtype=np.float64), LA.inv((eigenvectors)), dtype=np.float64)\n"
   ]
  },
  {
   "cell_type": "code",
   "execution_count": 262,
   "metadata": {},
   "outputs": [
    {
     "data": {
      "text/plain": [
       "array([[-0.   ,  0.   ,  0.   ,  0.001],\n",
       "       [ 0.002,  0.003,  0.006,  0.007],\n",
       "       [-0.048,  0.059,  0.077,  0.083],\n",
       "       [ 0.999,  0.998,  0.997,  0.997]])"
      ]
     },
     "execution_count": 262,
     "metadata": {},
     "output_type": "execute_result"
    }
   ],
   "source": [
    "eigenvectors.round(3)"
   ]
  },
  {
   "cell_type": "code",
   "execution_count": 263,
   "metadata": {},
   "outputs": [
    {
     "data": {
      "text/plain": [
       "array([[-0.   ,  0.001,  0.   ,  0.   ],\n",
       "       [ 0.002,  0.007,  0.006,  0.003],\n",
       "       [-0.048,  0.083,  0.077,  0.059],\n",
       "       [ 1.   ,  1.   ,  1.   ,  1.   ]])"
      ]
     },
     "execution_count": 263,
     "metadata": {},
     "output_type": "execute_result"
    }
   ],
   "source": [
    "np.array([[-1/9261, 1/1728, 1/2197, 1/4913], [1/441, 1/144, 1/169, 1/289], [-1/21, 1/12, 1/13, 1/17], [1,1,1,1]]).round(3)"
   ]
  },
  {
   "cell_type": "code",
   "execution_count": 248,
   "metadata": {},
   "outputs": [
    {
     "data": {
      "text/plain": [
       "array([[-1.07979700e-04,  2.26757370e-03, -4.76190476e-02,\n",
       "         1.00000000e+00],\n",
       "       [ 5.78703704e-04,  6.94444444e-03,  8.33333333e-02,\n",
       "         1.00000000e+00],\n",
       "       [ 4.55166136e-04,  5.91715976e-03,  7.69230769e-02,\n",
       "         1.00000000e+00],\n",
       "       [ 2.03541624e-04,  3.46020761e-03,  5.88235294e-02,\n",
       "         1.00000000e+00]])"
      ]
     },
     "execution_count": 248,
     "metadata": {},
     "output_type": "execute_result"
    }
   ],
   "source": [
    "np.array([[-1/9261, 1/441, -1/21, 1], [1/1728, 1/144, 1/12, 1], [1/2197, 1/169, 1/13, 1], [1/4913, 1/289, 1/17, 1]])"
   ]
  },
  {
   "cell_type": "code",
   "execution_count": 243,
   "metadata": {},
   "outputs": [
    {
     "data": {
      "text/plain": [
       "array([[-1.07857204e-04,  2.03189171e-04,  4.53817493e-04,\n",
       "         5.76690816e-04],\n",
       "       [ 2.26500129e-03,  3.45421591e-03,  5.89962740e-03,\n",
       "         6.92028979e-03],\n",
       "       [-4.75650271e-02,  5.87216704e-02,  7.66951562e-02,\n",
       "         8.30434775e-02],\n",
       "       [ 9.98865570e-01,  9.98268397e-01,  9.97037031e-01,\n",
       "         9.96521730e-01]])"
      ]
     },
     "execution_count": 243,
     "metadata": {},
     "output_type": "execute_result"
    }
   ],
   "source": [
    "eigenvectors"
   ]
  },
  {
   "cell_type": "code",
   "execution_count": 221,
   "metadata": {},
   "outputs": [
    {
     "data": {
      "text/plain": [
       "array([[    0,     1,     0,     0],\n",
       "       [    0,     0,     1,     0],\n",
       "       [    0,     0,     0,     1],\n",
       "       [55692, -9549,   301,    21]])"
      ]
     },
     "execution_count": 221,
     "metadata": {},
     "output_type": "execute_result"
    }
   ],
   "source": [
    "np.array([[0,1,0,0],[0,0,1,0],[0,0,0,1],[p,q,r,s]], dtype=np.int64)"
   ]
  },
  {
   "cell_type": "code",
   "execution_count": 219,
   "metadata": {},
   "outputs": [
    {
     "data": {
      "text/plain": [
       "np.float64(-5524718771513983.0)"
      ]
     },
     "execution_count": 219,
     "metadata": {},
     "output_type": "execute_result"
    }
   ],
   "source": [
    "np.matmul(np.matmul((eigenvectors*100000000000000000000), eigenvalues), LA.inv((eigenvectors*100000000000000000000)))[0][0]*100000000000000000000000000000"
   ]
  },
  {
   "cell_type": "code",
   "execution_count": 85,
   "metadata": {},
   "outputs": [
    {
     "data": {
      "text/plain": [
       "{2: 8, 5: 7}"
      ]
     },
     "execution_count": 85,
     "metadata": {},
     "output_type": "execute_result"
    }
   ],
   "source": [
    "from sympy import factorint\n",
    "factorint(20000000)"
   ]
  },
  {
   "cell_type": "code",
   "execution_count": 126,
   "metadata": {},
   "outputs": [
    {
     "name": "stderr",
     "output_type": "stream",
     "text": [
      "  0%|          | 230/2000000 [00:00<00:36, 54983.75it/s]\n"
     ]
    },
    {
     "ename": "OverflowError",
     "evalue": "cannot convert float infinity to integer",
     "output_type": "error",
     "traceback": [
      "\u001b[1;31m---------------------------------------------------------------------------\u001b[0m",
      "\u001b[1;31mOverflowError\u001b[0m                             Traceback (most recent call last)",
      "Cell \u001b[1;32mIn[126], line 10\u001b[0m\n\u001b[0;32m      8\u001b[0m     \u001b[38;5;28;01mfor\u001b[39;00m i \u001b[38;5;129;01min\u001b[39;00m \u001b[38;5;28mrange\u001b[39m(\u001b[38;5;28mlen\u001b[39m(temp)):\n\u001b[0;32m      9\u001b[0m         \u001b[38;5;28;01mfor\u001b[39;00m j \u001b[38;5;129;01min\u001b[39;00m \u001b[38;5;28mrange\u001b[39m(\u001b[38;5;28mlen\u001b[39m(temp[\u001b[38;5;241m0\u001b[39m])):\n\u001b[1;32m---> 10\u001b[0m             temp[i][j] \u001b[38;5;241m=\u001b[39m \u001b[38;5;28;43mint\u001b[39;49m\u001b[43m(\u001b[49m\u001b[43mtemp\u001b[49m\u001b[43m[\u001b[49m\u001b[43mi\u001b[49m\u001b[43m]\u001b[49m\u001b[43m[\u001b[49m\u001b[43mj\u001b[49m\u001b[43m]\u001b[49m\u001b[43m)\u001b[49m\n\u001b[0;32m     11\u001b[0m \u001b[38;5;28;01mif\u001b[39;00m (k\u001b[38;5;241m%\u001b[39m\u001b[38;5;241m100000\u001b[39m)\u001b[38;5;241m==\u001b[39m\u001b[38;5;241m0\u001b[39m \u001b[38;5;129;01mand\u001b[39;00m k\u001b[38;5;241m!=\u001b[39m\u001b[38;5;241m0\u001b[39m:\n\u001b[0;32m     12\u001b[0m     \u001b[38;5;28;01mfor\u001b[39;00m i \u001b[38;5;129;01min\u001b[39;00m \u001b[38;5;28mrange\u001b[39m(\u001b[38;5;28mlen\u001b[39m(temp)):\n",
      "\u001b[1;31mOverflowError\u001b[0m: cannot convert float infinity to integer"
     ]
    }
   ],
   "source": [
    "from tqdm import tqdm\n",
    "a = np.matmul(np.matmul(eigenvectors.real, eigenvalues.real), LA.inv(eigenvectors.real)).astype(object).tolist()\n",
    "temp = a\n",
    "# int ervention\n",
    "for k in tqdm(range(2000000)):\n",
    "    temp = mmul(temp, a)\n",
    "    if (k>=2**7):\n",
    "        for i in range(len(temp)):\n",
    "            for j in range(len(temp[0])):\n",
    "                temp[i][j] = int(temp[i][j])\n",
    "    if (k%100000)==0 and k!=0:\n",
    "        for i in range(len(temp)):\n",
    "            for j in range(len(temp[0])):\n",
    "                temp[i][j] = int(temp[i][j])\n",
    "        for i in range(len(temp)):\n",
    "            for j in range(len(temp[0])):\n",
    "                print(type(temp[i][j]))\n",
    "                temp[i][j] = temp[i][j]%(10**10000)\n",
    "    "
   ]
  },
  {
   "cell_type": "code",
   "execution_count": 99,
   "metadata": {},
   "outputs": [
    {
     "name": "stdout",
     "output_type": "stream",
     "text": [
      "1091105618678435497183229530068409710789954242322008814964771555466241421359557699814789902470354274878839008757997274222350625589638067812152264366893389134980718788608\n"
     ]
    },
    {
     "name": "stderr",
     "output_type": "stream",
     "text": [
      "100%|██████████| 4/4 [00:00<00:00, 11.97it/s]\n",
      "100%|██████████| 2/2 [00:02<00:00,  1.17s/it]\n",
      "100%|██████████| 1/1 [00:00<00:00,  1.71it/s]\n"
     ]
    }
   ],
   "source": [
    "from tqdm import tqdm\n",
    "a = np.matmul(np.matmul(eigenvectors.real, eigenvalues.real), LA.inv(eigenvectors.real)).astype(object).tolist()\n",
    "temp = a\n",
    "for i in range(7):\n",
    "    temp = mmul(temp, temp)\n",
    "# int ervention\n",
    "for i in range(len(temp)):\n",
    "    for j in range(len(temp[0])):\n",
    "        temp[i][j] = int(temp[i][j])\n",
    "print(temp[0][0])\n",
    "for i in range(1):\n",
    "    temp = mmul(temp, temp)\n",
    "\n",
    "for i in tqdm(range(4)): # \n",
    "    temp = mmul(mmul(mmul(mmul(temp, temp), temp), temp), temp)\n",
    "\n",
    "# fac tual answer\n",
    "for i in range(len(temp)):\n",
    "    for j in range(len(temp[0])):\n",
    "        temp[i][j] = temp[i][j]%(10**10000)\n",
    "\n",
    "for i in tqdm(range(2)): # \n",
    "    temp = mmul(mmul(mmul(mmul(temp, temp), temp), temp), temp)\n",
    "\n",
    "# fac tual answer\n",
    "for i in range(len(temp)):\n",
    "    for j in range(len(temp[0])):\n",
    "        temp[i][j] = temp[i][j]%(10**20000)\n",
    "\n",
    "for i in tqdm(range(1)): # \n",
    "    temp = mmul(mmul(mmul(mmul(temp, temp), temp), temp), temp)\n",
    "\n",
    "# # fac tual answer\n",
    "# for i in range(len(temp)):\n",
    "#     for j in range(len(temp[0])):\n",
    "#         temp[i][j] = temp[i][j]%(10**10000)"
   ]
  },
  {
   "cell_type": "code",
   "execution_count": 100,
   "metadata": {},
   "outputs": [],
   "source": [
    "soln_mat = mmul(temp, [[1,1,1,1],[2,2,2,2],[3,3,3,3],[4,4,4,4]])\n",
    "soln = soln_mat[0][0]"
   ]
  },
  {
   "cell_type": "code",
   "execution_count": 101,
   "metadata": {},
   "outputs": [
    {
     "data": {
      "text/plain": [
       "100002"
      ]
     },
     "execution_count": 101,
     "metadata": {},
     "output_type": "execute_result"
    }
   ],
   "source": [
    "len(str(soln_mat[0][0]))"
   ]
  },
  {
   "cell_type": "code",
   "execution_count": 104,
   "metadata": {},
   "outputs": [
    {
     "data": {
      "text/plain": [
       "'328a2b646734252f998d4ceade7d2786'"
      ]
     },
     "execution_count": 104,
     "metadata": {},
     "output_type": "execute_result"
    }
   ],
   "source": [
    "hashlib.md5(str(soln%(10**10000)).encode()).hexdigest()"
   ]
  },
  {
   "cell_type": "code",
   "execution_count": 31,
   "metadata": {},
   "outputs": [
    {
     "ename": "IndexError",
     "evalue": "list index out of range",
     "output_type": "error",
     "traceback": [
      "\u001b[1;31m---------------------------------------------------------------------------\u001b[0m",
      "\u001b[1;31mIndexError\u001b[0m                                Traceback (most recent call last)",
      "Cell \u001b[1;32mIn[31], line 1\u001b[0m\n\u001b[1;32m----> 1\u001b[0m \u001b[43mmmul\u001b[49m\u001b[43m(\u001b[49m\u001b[43m[\u001b[49m\u001b[43m[\u001b[49m\u001b[38;5;241;43m1\u001b[39;49m\u001b[43m]\u001b[49m\u001b[43m,\u001b[49m\u001b[43m[\u001b[49m\u001b[38;5;241;43m2\u001b[39;49m\u001b[43m]\u001b[49m\u001b[43m,\u001b[49m\u001b[43m[\u001b[49m\u001b[38;5;241;43m3\u001b[39;49m\u001b[43m]\u001b[49m\u001b[43m,\u001b[49m\u001b[43m[\u001b[49m\u001b[38;5;241;43m4\u001b[39;49m\u001b[43m]\u001b[49m\u001b[43m]\u001b[49m\u001b[43m,\u001b[49m\u001b[43m \u001b[49m\u001b[43mtemp\u001b[49m\u001b[43m)\u001b[49m\n",
      "Cell \u001b[1;32mIn[10], line 9\u001b[0m, in \u001b[0;36mmmul\u001b[1;34m(array_first, array_second)\u001b[0m\n\u001b[0;32m      7\u001b[0m     \u001b[38;5;28;01mfor\u001b[39;00m j \u001b[38;5;129;01min\u001b[39;00m \u001b[38;5;28mrange\u001b[39m(n):\n\u001b[0;32m      8\u001b[0m         \u001b[38;5;28;01mfor\u001b[39;00m k \u001b[38;5;129;01min\u001b[39;00m \u001b[38;5;28mrange\u001b[39m(n):\n\u001b[1;32m----> 9\u001b[0m             result[i][j] \u001b[38;5;241m+\u001b[39m\u001b[38;5;241m=\u001b[39m \u001b[43marray_first\u001b[49m\u001b[43m[\u001b[49m\u001b[43mi\u001b[49m\u001b[43m]\u001b[49m\u001b[43m[\u001b[49m\u001b[43mk\u001b[49m\u001b[43m]\u001b[49m \u001b[38;5;241m*\u001b[39marray_second[k][j]\n\u001b[0;32m     10\u001b[0m \u001b[38;5;28;01mreturn\u001b[39;00m result\n",
      "\u001b[1;31mIndexError\u001b[0m: list index out of range"
     ]
    }
   ],
   "source": [
    "mmul([[1,2,3,4]], temp)"
   ]
  },
  {
   "cell_type": "code",
   "execution_count": null,
   "metadata": {},
   "outputs": [],
   "source": []
  },
  {
   "cell_type": "code",
   "execution_count": 254,
   "metadata": {},
   "outputs": [
    {
     "data": {
      "text/plain": [
       "-45998219304081287323593671180288"
      ]
     },
     "execution_count": 254,
     "metadata": {},
     "output_type": "execute_result"
    }
   ],
   "source": [
    "int(LA.matrix_power(a, 25)[0,0])"
   ]
  },
  {
   "cell_type": "code",
   "execution_count": 231,
   "metadata": {},
   "outputs": [
    {
     "data": {
      "text/plain": [
       "array([[-4.59982193e+31,  1.27008177e+31, -1.14933110e+30,\n",
       "         3.41973610e+28],\n",
       "       [ 1.90451943e+33, -3.72548819e+32,  2.29942233e+31,\n",
       "        -4.31186520e+29],\n",
       "       [-2.40136397e+34,  6.02191951e+33, -5.02335962e+32,\n",
       "         1.39393064e+31],\n",
       "       [ 7.76307852e+35, -1.57120077e+35,  1.02176507e+34,\n",
       "        -2.09610528e+32]])"
      ]
     },
     "execution_count": 231,
     "metadata": {},
     "output_type": "execute_result"
    }
   ],
   "source": [
    "LA.matrix_power(a, 25) # 1 2 3 0"
   ]
  },
  {
   "cell_type": "code",
   "execution_count": 159,
   "metadata": {},
   "outputs": [
    {
     "data": {
      "text/plain": [
       "-2.7474188648513183e+288"
      ]
     },
     "execution_count": 159,
     "metadata": {},
     "output_type": "execute_result"
    }
   ],
   "source": [
    "a = np.matmul(np.matmul(eigenvectors.real, eigenvalues.real), LA.inv(eigenvectors.real))\n",
    "temp = a\n",
    "# \n",
    "# temp = LA.matrix_power(temp, 4)\n",
    "for i in range(8):\n",
    "    temp = LA.matrix_power(temp, 2)\n",
    "    temp = np.divide(temp, 10)\n",
    "temp = np.divide(temp, 10**80)\n",
    "\n",
    "temp = LA.matrix_power(temp, 5**2)\n",
    "temp = np.divide(temp, 10**80)\n",
    "temp = LA.matrix_power(temp, 5**2)\n",
    "temp = np.divide(temp, 10**120)\n",
    "temp = LA.matrix_power(temp, 5)\n",
    "temp = np.divide(temp, 10**275)\n",
    "temp = LA.matrix_power(temp, 5)\n",
    "temp = np.divide(temp, 10**70)\n",
    "temp = LA.matrix_power(temp, 5)\n",
    "# 3+2**n+5**m\n",
    "np.matmul(temp, np.array((1,2,3,4))).tolist()[3]"
   ]
  },
  {
   "cell_type": "code",
   "execution_count": 162,
   "metadata": {},
   "outputs": [],
   "source": [
    "a = int(-2.7474188648513183e+288) % (10**10000)"
   ]
  },
  {
   "cell_type": "code",
   "execution_count": 164,
   "metadata": {},
   "outputs": [
    {
     "data": {
      "text/plain": [
       "'5de551a5d43c65d2c52336bb6ee58f63'"
      ]
     },
     "execution_count": 164,
     "metadata": {},
     "output_type": "execute_result"
    }
   ],
   "source": [
    "\n",
    "hashlib.md5(str(a).encode()).hexdigest()"
   ]
  },
  {
   "cell_type": "code",
   "execution_count": 21,
   "metadata": {},
   "outputs": [
    {
     "ename": "OverflowError",
     "evalue": "(34, 'Result too large')",
     "output_type": "error",
     "traceback": [
      "\u001b[1;31m---------------------------------------------------------------------------\u001b[0m",
      "\u001b[1;31mOverflowError\u001b[0m                             Traceback (most recent call last)",
      "Cell \u001b[1;32mIn[21], line 6\u001b[0m\n\u001b[0;32m      4\u001b[0m temp \u001b[38;5;241m=\u001b[39m np\u001b[38;5;241m.\u001b[39mmatmul(temp, a, dtype\u001b[38;5;241m=\u001b[39m\u001b[38;5;28mobject\u001b[39m)\n\u001b[0;32m      5\u001b[0m \u001b[38;5;28;01mif\u001b[39;00m \u001b[38;5;28mint\u001b[39m(temp[\u001b[38;5;241m0\u001b[39m][\u001b[38;5;241m0\u001b[39m]) \u001b[38;5;241m<<\u001b[39m \u001b[38;5;241m10000\u001b[39m \u001b[38;5;241m>\u001b[39m \u001b[38;5;241m1\u001b[39m:\n\u001b[1;32m----> 6\u001b[0m     temp \u001b[38;5;241m=\u001b[39m np\u001b[38;5;241m.\u001b[39mmod(temp, \u001b[38;5;241;43m2.\u001b[39;49m\u001b[38;5;241;43m*\u001b[39;49m\u001b[38;5;241;43m*\u001b[39;49m\u001b[38;5;241;43m10000\u001b[39;49m)\n",
      "\u001b[1;31mOverflowError\u001b[0m: (34, 'Result too large')"
     ]
    }
   ],
   "source": [
    "\n",
    "for i in range(2000): # n-4\n",
    "    temp = np.matmul(temp, a, dtype=object)\n",
    "    if int(temp[0][0]) << 10000 > 1:\n",
    "        temp = np.mod(temp, 2**10000)\n",
    "    "
   ]
  },
  {
   "cell_type": "code",
   "execution_count": null,
   "metadata": {},
   "outputs": [],
   "source": []
  },
  {
   "cell_type": "code",
   "execution_count": 8,
   "metadata": {},
   "outputs": [
    {
     "data": {
      "text/plain": [
       "(array([[1., 1., 1., 1.],\n",
       "        [1., 1., 1., 1.],\n",
       "        [1., 1., 1., 1.],\n",
       "        [1., 1., 1., 1.]]),\n",
       " array([[0., 0., 0., 0.],\n",
       "        [0., 0., 0., 0.],\n",
       "        [0., 0., 0., 0.],\n",
       "        [0., 0., 0., 0.]]))"
      ]
     },
     "execution_count": 8,
     "metadata": {},
     "output_type": "execute_result"
    }
   ],
   "source": [
    "np.ones((4,4)), np.zeros((4,4))"
   ]
  },
  {
   "cell_type": "code",
   "execution_count": 6,
   "metadata": {},
   "outputs": [
    {
     "data": {
      "text/plain": [
       "array([[-6.13441159e-14,  1.00000000e+00,  1.35775706e-16,\n",
       "        -1.68069501e-17],\n",
       "       [-1.94126990e-12, -1.69996192e-14,  1.00000000e+00,\n",
       "        -3.59603493e-16],\n",
       "       [-1.64752292e-11,  2.02193258e-12,  7.39144724e-14,\n",
       "         1.00000000e+00],\n",
       "       [ 5.56920000e+04, -9.54900000e+03,  3.01000000e+02,\n",
       "         2.10000000e+01]])"
      ]
     },
     "execution_count": 6,
     "metadata": {},
     "output_type": "execute_result"
    }
   ],
   "source": [
    "for j in range(a.shape[0]):\n",
    "    for k in range(a.shape[1]):\n",
    "        temp[i][j] = "
   ]
  },
  {
   "cell_type": "code",
   "execution_count": 168,
   "metadata": {},
   "outputs": [
    {
     "data": {
      "text/plain": [
       "array([-2.20631148e+264,  4.63325412e+265, -9.72983364e+266,\n",
       "        2.04326506e+268])"
      ]
     },
     "execution_count": 168,
     "metadata": {},
     "output_type": "execute_result"
    }
   ],
   "source": [
    "np.matmul(temp, np.array((1,2,3,4))).round().astype(np.int64)\n",
    "# 5 6 7 8 "
   ]
  },
  {
   "cell_type": "code",
   "execution_count": 125,
   "metadata": {},
   "outputs": [
    {
     "data": {
      "text/plain": [
       "(array([[-1.95368676e-05, -2.27831796e-04, -2.27831796e-04,\n",
       "         -3.82010009e-03],\n",
       "        [-7.25299567e-04,  3.38147971e-03,  3.38147971e-03,\n",
       "          2.43357045e-02],\n",
       "        [-2.69264998e-02,  2.06670015e-02,  2.06670015e-02,\n",
       "         -1.55029057e-01],\n",
       "        [-9.99637153e-01, -9.97874453e-01, -9.97874453e-01,\n",
       "          9.87602740e-01]]),\n",
       " array([[37.12466004,  0.        ,  0.        ,  0.        ],\n",
       "        [ 0.        , -4.87711184,  0.        ,  0.        ],\n",
       "        [ 0.        ,  0.        , -4.87711184,  0.        ],\n",
       "        [ 0.        ,  0.        ,  0.        , -6.37043636]]),\n",
       " array([[-8.93473962e+02, -1.77262702e+02, -9.60377858e+00,\n",
       "         -5.95595725e-01],\n",
       "        [ 3.25818425e+02,  8.70248839e+01,  4.42932673e+00,\n",
       "         -1.88819360e-01],\n",
       "        [ 3.25818425e+02,  8.70248839e+01,  4.42932673e+00,\n",
       "         -1.88819360e-01],\n",
       "        [-2.45947071e+02, -3.56273367e+00, -7.70015989e-01,\n",
       "          2.81331280e-02]]))"
      ]
     },
     "execution_count": 125,
     "metadata": {},
     "output_type": "execute_result"
    }
   ],
   "source": [
    "eigenvectors.real, eigenvalues.real, LA.inv(eigenvectors).real"
   ]
  },
  {
   "cell_type": "code",
   "execution_count": 119,
   "metadata": {},
   "outputs": [
    {
     "data": {
      "text/plain": [
       "array([[ 0,  0,  0,  0],\n",
       "       [ 0,  0,  0,  0],\n",
       "       [ 0,  0,  0,  0],\n",
       "       [-1, -1, -1,  1]], dtype=int32)"
      ]
     },
     "execution_count": 119,
     "metadata": {},
     "output_type": "execute_result"
    }
   ],
   "source": [
    "eigenvectors.real.round().astype(np.int32), eigenvalues.real.round().astype(np.int32), LA.inv(eigenvectors).real.round().astype(np.int32)"
   ]
  },
  {
   "cell_type": "code",
   "execution_count": 88,
   "metadata": {},
   "outputs": [
    {
     "data": {
      "text/plain": [
       "array([[0, 1],\n",
       "       [1, 1]], dtype=int32)"
      ]
     },
     "execution_count": 88,
     "metadata": {},
     "output_type": "execute_result"
    }
   ],
   "source": [
    "a = np.array([[0,1],[1,1]])\n",
    "eigenvectors = LA.eig(a).eigenvectors\n",
    "eigenvalues = np.diag(LA.eig(a).eigenvalues)\n",
    "np.matmul(np.matmul(eigenvectors, eigenvalues), LA.inv(eigenvectors)).astype(np.int32)"
   ]
  },
  {
   "cell_type": "code",
   "execution_count": null,
   "metadata": {},
   "outputs": [],
   "source": [
    "def m_func(i):\n",
    "    if i == 0: return 1\n",
    "    if i == 1: return 2\n",
    "    if i == 2: return 3\n",
    "    if i == 3: return 4\n",
    "\n",
    "    return 55692*m_func(i-4) - 9549*m_func(i-3) + 301*m_func(i-2) + 21*m_func(i-1)"
   ]
  },
  {
   "cell_type": "code",
   "execution_count": 213,
   "metadata": {},
   "outputs": [
    {
     "data": {
      "text/plain": [
       "203436411134911968921"
      ]
     },
     "execution_count": 213,
     "metadata": {},
     "output_type": "execute_result"
    }
   ],
   "source": [
    "import functools\n",
    "ITERS = 16\n",
    "\n",
    "@functools.cache\n",
    "def m_func(i):\n",
    "    if i == 0: return 1\n",
    "    if i == 1: return 2\n",
    "    if i == 2: return 3\n",
    "    if i == 3: return 4\n",
    "\n",
    "    return 55692*m_func(i-4) - 9549*m_func(i-3) + 301*m_func(i-2) + 21*m_func(i-1)\n",
    "\n",
    "\n",
    "\n",
    "sol = m_func(ITERS)\n",
    "sol"
   ]
  },
  {
   "cell_type": "code",
   "execution_count": 186,
   "metadata": {},
   "outputs": [
    {
     "data": {
      "text/plain": [
       "2.0343641113490948e+20"
      ]
     },
     "execution_count": 186,
     "metadata": {},
     "output_type": "execute_result"
    }
   ],
   "source": [
    "from tqdm import tqdm\n",
    "a = np.matmul(np.matmul(eigenvectors.real, eigenvalues.real), LA.inv(eigenvectors.real)).astype(object).tolist()\n",
    "temp = a\n",
    "for i in range(4):\n",
    "    temp = mmul(temp, temp)\n",
    "# for i in tqdm(range(2)): # \n",
    "#     temp = mmul(mmul(mmul(mmul(temp, temp), temp), temp), temp)\n",
    "soln_mat = mmul(temp, [[1,1,1,1],[2,2,2,2],[3,3,3,3],[4,4,4,4]])\n",
    "soln = soln_mat[0][0]\n",
    "soln_mat[0][0]"
   ]
  },
  {
   "cell_type": "code",
   "execution_count": 189,
   "metadata": {},
   "outputs": [
    {
     "data": {
      "text/plain": [
       "array([[-6.13441159e-14,  1.00000000e+00,  1.35775706e-16,\n",
       "        -1.68069501e-17],\n",
       "       [-1.94126990e-12, -1.69996192e-14,  1.00000000e+00,\n",
       "        -3.59603493e-16],\n",
       "       [-1.64752292e-11,  2.02193258e-12,  7.39144724e-14,\n",
       "         1.00000000e+00],\n",
       "       [ 5.56920000e+04, -9.54900000e+03,  3.01000000e+02,\n",
       "         2.10000000e+01]])"
      ]
     },
     "execution_count": 189,
     "metadata": {},
     "output_type": "execute_result"
    }
   ],
   "source": [
    "np.matmul(np.matmul(eigenvectors.real, eigenvalues.real), LA.inv(eigenvectors.real))"
   ]
  },
  {
   "cell_type": "code",
   "execution_count": 266,
   "metadata": {},
   "outputs": [
    {
     "data": {
      "text/plain": [
       "1158485388669261185024"
      ]
     },
     "execution_count": 266,
     "metadata": {},
     "output_type": "execute_result"
    }
   ],
   "source": [
    "a = np.matmul(np.matmul((eigenvectors), eigenvalues, dtype=np.float64), LA.inv((eigenvectors)), dtype=np.float64)\n",
    "int(np.matmul(LA.matrix_power(a, 16), [[1,1,1,1],[2,2,2,2],[3,3,3,3],[4,4,4,4]])[0][0])\n",
    "# LA.matrix_power(a, 16)"
   ]
  },
  {
   "cell_type": "code",
   "execution_count": null,
   "metadata": {},
   "outputs": [],
   "source": [
    "1158485388669261185024\n",
    "203436411134911968921"
   ]
  }
 ],
 "metadata": {
  "kernelspec": {
   "display_name": ".venv",
   "language": "python",
   "name": "python3"
  },
  "language_info": {
   "codemirror_mode": {
    "name": "ipython",
    "version": 3
   },
   "file_extension": ".py",
   "mimetype": "text/x-python",
   "name": "python",
   "nbconvert_exporter": "python",
   "pygments_lexer": "ipython3",
   "version": "3.11.6"
  }
 },
 "nbformat": 4,
 "nbformat_minor": 2
}
