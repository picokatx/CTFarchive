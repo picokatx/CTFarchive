{
 "cells": [
  {
   "cell_type": "code",
   "execution_count": 9,
   "metadata": {},
   "outputs": [
    {
     "data": {
      "text/plain": [
       "[b'picoC:FtcaesarXd,cr2pZ,dX1/de,+d+v',\n",
       " b'qjdpD;GudbftbsYe-ds3q[-eY20ef-,e,w',\n",
       " b'rkeqE<HvecguctZf.et4r\\\\.fZ31fg.-f-x',\n",
       " b'slfrF=Iwfdhvdu[g/fu5s]/g[42gh/.g.y',\n",
       " b'tmgsG>Jxgeiwev\\\\h0gv6t^0h\\\\53hi0/h/z',\n",
       " b'unhtH?Kyhfjxfw]i1hw7u_1i]64ij10i0{',\n",
       " b'voiuI@Lzigkygx^j2ix8v`2j^75jk21j1|',\n",
       " b'wpjvJAM{jhlzhy_k3jy9wa3k_86kl32k2}',\n",
       " b'xqkwKBN|kim{iz`l4kz:xb4l`97lm43l3~',\n",
       " b'yrlxLCO}ljn|j{am5l{;yc5ma:8mn54m4\\x7f',\n",
       " b'zsmyMDP~mko}k|bn6m|<zd6nb;9no65n5\\x80',\n",
       " b'{tnzNEQ\\x7fnlp~l}co7n}={e7oc<:op76o6\\x81',\n",
       " b'|uo{OFR\\x80omq\\x7fm~dp8o~>|f8pd=;pq87p7\\x82',\n",
       " b'}vp|PGS\\x81pnr\\x80n\\x7feq9p\\x7f?}g9qe><qr98q8\\x83',\n",
       " b'~wq}QHT\\x82qos\\x81o\\x80fr:q\\x80@~h:rf?=rs:9r9\\x84',\n",
       " b'\\x7fxr~RIU\\x83rpt\\x82p\\x81gs;r\\x81A\\x7fi;sg@>st;:s:\\x85',\n",
       " b'\\x80ys\\x7fSJV\\x84squ\\x83q\\x82ht<s\\x82B\\x80j<thA?tu<;t;\\x86',\n",
       " b'\\x81zt\\x80TKW\\x85trv\\x84r\\x83iu=t\\x83C\\x81k=uiB@uv=<u<\\x87',\n",
       " b'\\x82{u\\x81ULX\\x86usw\\x85s\\x84jv>u\\x84D\\x82l>vjCAvw>=v=\\x88',\n",
       " b'\\x83|v\\x82VMY\\x87vtx\\x86t\\x85kw?v\\x85E\\x83m?wkDBwx?>w>\\x89',\n",
       " b'\\x84}w\\x83WNZ\\x88wuy\\x87u\\x86lx@w\\x86F\\x84n@xlECxy@?x?\\x8a',\n",
       " b'\\x85~x\\x84XO[\\x89xvz\\x88v\\x87myAx\\x87G\\x85oAymFDyzA@y@\\x8b',\n",
       " b'\\x86\\x7fy\\x85YP\\\\\\x8ayw{\\x89w\\x88nzBy\\x88H\\x86pBznGEz{BAzA\\x8c',\n",
       " b'\\x87\\x80z\\x86ZQ]\\x8bzx|\\x8ax\\x89o{Cz\\x89I\\x87qC{oHF{|CB{B\\x8d',\n",
       " b'\\x88\\x81{\\x87[R^\\x8c{y}\\x8by\\x8ap|D{\\x8aJ\\x88rD|pIG|}DC|C\\x8e',\n",
       " b'\\x89\\x82|\\x88\\\\S_\\x8d|z~\\x8cz\\x8bq}E|\\x8bK\\x89sE}qJH}~ED}D\\x8f']"
      ]
     },
     "execution_count": 9,
     "metadata": {},
     "output_type": "execute_result"
    }
   ],
   "source": [
    "from base64 import b64decode\n",
    "[bytes([byte+i for byte in b64decode(b64decode(\"YidkM0JxZGtwQlRYdHFhR3g2YUhsZmF6TnFlVGwzWVROclh6ZzJhMnd6TW1zeWZRPT0nCg==\")[2:-2])]) for i in range(-7,19)]"
   ]
  },
  {
   "cell_type": "code",
   "execution_count": 18,
   "metadata": {},
   "outputs": [
    {
     "data": {
      "text/plain": [
       "b\"b'd3BqdkpBTXtqaGx6aHlfazNqeTl3YTNrXzg2a2wzMmsyfQ=='\\n\""
      ]
     },
     "execution_count": 18,
     "metadata": {},
     "output_type": "execute_result"
    }
   ],
   "source": [
    "b64decode(\"YidkM0JxZGtwQlRYdHFhR3g2YUhsZmF6TnFlVGwzWVROclh6ZzJhMnd6TW1zeWZRPT0nCg==\")"
   ]
  },
  {
   "cell_type": "code",
   "execution_count": 16,
   "metadata": {},
   "outputs": [
    {
     "data": {
      "text/plain": [
       "b'wpjvJAM{jhlzhy_k3jy9wa3k_86kl32k2}'"
      ]
     },
     "execution_count": 16,
     "metadata": {},
     "output_type": "execute_result"
    }
   ],
   "source": [
    "b64decode(b64decode(\"YidkM0JxZGtwQlRYdHFhR3g2YUhsZmF6TnFlVGwzWVROclh6ZzJhMnd6TW1zeWZRPT0nCg==\")[2:-2])"
   ]
  },
  {
   "cell_type": "code",
   "execution_count": 21,
   "metadata": {},
   "outputs": [
    {
     "data": {
      "text/plain": [
       "[b'W\\x1fVe%cM\\x1fW',\n",
       " b'X Wf&dN X',\n",
       " b\"Y!Xg'eO!Y\",\n",
       " b'Z\"Yh(fP\"Z',\n",
       " b'[#Zi)gQ#[',\n",
       " b'\\\\$[j*hR$\\\\',\n",
       " b']%\\\\k+iS%]',\n",
       " b'^&]l,jT&^',\n",
       " b\"_'^m-kU'_\",\n",
       " b'`(_n.lV(`',\n",
       " b'a)`o/mW)a',\n",
       " b'b*ap0nX*b',\n",
       " b'c+bq1oY+c',\n",
       " b'd,cr2pZ,d',\n",
       " b'e-ds3q[-e',\n",
       " b'f.et4r\\\\.f',\n",
       " b'g/fu5s]/g',\n",
       " b'h0gv6t^0h',\n",
       " b'i1hw7u_1i',\n",
       " b'j2ix8v`2j',\n",
       " b'k3jy9wa3k',\n",
       " b'l4kz:xb4l',\n",
       " b'm5l{;yc5m',\n",
       " b'n6m|<zd6n',\n",
       " b'o7n}={e7o',\n",
       " b'p8o~>|f8p',\n",
       " b'q9p\\x7f?}g9q',\n",
       " b'r:q\\x80@~h:r',\n",
       " b's;r\\x81A\\x7fi;s',\n",
       " b't<s\\x82B\\x80j<t',\n",
       " b'u=t\\x83C\\x81k=u',\n",
       " b'v>u\\x84D\\x82l>v',\n",
       " b'w?v\\x85E\\x83m?w',\n",
       " b'x@w\\x86F\\x84n@x',\n",
       " b'yAx\\x87G\\x85oAy',\n",
       " b'zBy\\x88H\\x86pBz',\n",
       " b'{Cz\\x89I\\x87qC{',\n",
       " b'|D{\\x8aJ\\x88rD|',\n",
       " b'}E|\\x8bK\\x89sE}']"
      ]
     },
     "execution_count": 21,
     "metadata": {},
     "output_type": "execute_result"
    }
   ],
   "source": [
    "[bytes([byte+i for byte in b\"k3jy9wa3k\"]) for i in range(-20,19)]"
   ]
  },
  {
   "cell_type": "code",
   "execution_count": null,
   "metadata": {},
   "outputs": [],
   "source": [
    "a-tuvwxyz"
   ]
  },
  {
   "cell_type": "code",
   "execution_count": null,
   "metadata": {},
   "outputs": [],
   "source": [
    "picoCTF{caesar_d3cr9pt3d_86kl32k2}"
   ]
  }
 ],
 "metadata": {
  "kernelspec": {
   "display_name": ".venv",
   "language": "python",
   "name": "python3"
  },
  "language_info": {
   "codemirror_mode": {
    "name": "ipython",
    "version": 3
   },
   "file_extension": ".py",
   "mimetype": "text/x-python",
   "name": "python",
   "nbconvert_exporter": "python",
   "pygments_lexer": "ipython3",
   "version": "3.11.6"
  }
 },
 "nbformat": 4,
 "nbformat_minor": 2
}
