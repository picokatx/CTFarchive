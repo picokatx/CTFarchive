{
 "cells": [
  {
   "cell_type": "markdown",
   "metadata": {},
   "source": [
    "### 3"
   ]
  },
  {
   "cell_type": "code",
   "execution_count": 48,
   "metadata": {},
   "outputs": [
    {
     "data": {
      "text/plain": [
       "'924408cukzgO'"
      ]
     },
     "execution_count": 48,
     "metadata": {},
     "output_type": "execute_result"
    }
   ],
   "source": [
    "test = [\n",
    "    \"input\",\n",
    "    \"Correct!\",\n",
    "    \"573XsMMHp\",\n",
    "    \"arrayBuffer\",\n",
    "    \"183RUQBDE\",\n",
    "    \"38934oMACea\",\n",
    "    \"exports\",\n",
    "    \"270328ewawLo\",\n",
    "    \"instantiate\",\n",
    "    \"1OsuamQ\",\n",
    "    \"Incorrect!\",\n",
    "    \"length\",\n",
    "    \"copy_char\",\n",
    "    \"value\",\n",
    "    \"1512517ESezaM\",\n",
    "    \"innerHTML\",\n",
    "    \"check_flag\",\n",
    "    \"result\",\n",
    "    \"1383842SQRPPf\",\n",
    "    \"924408cukzgO\",\n",
    "    \"getElementById\",\n",
    "    \"418508cLDohp\"\n",
    "  ]\n",
    "test[19]"
   ]
  },
  {
   "cell_type": "code",
   "execution_count": 60,
   "metadata": {},
   "outputs": [],
   "source": [
    "password = [ 0x9d, 0x6e, 0x93, 0xc8, 0xb2, 0xb9, 0x41, 0x8b, 0x9f, 0x90, 0x8c, 0x62, 0xc5, 0xc3, 0x95, 0x88, 0x34, 0xc8, 0x93, 0x92, 0x88, 0x3f, 0xc1, 0x92, 0xc7, 0xdb, 0x3f, 0xc8, 0x9e, 0xc7, 0x89, 0x31, 0xc6, 0xc5, 0xc9, 0x8b, 0x36, 0xc6, 0xc6, 0xc0, 0x90, 0x00]\n",
    "key = [ 0xf1, 0xa7, 0xf0, 0x07, 0xed ]\n",
    "# void export::copy_char(uint param1,int param2)\n",
    "\n",
    "# {\n",
    "#   uint local_4;\n",
    "  \n",
    "#   local_4 = param1;\n",
    "#   if (param1 != 0) {\n",
    "#     // input[i]^key[4-param2%5]\n",
    "#     local_4 = param1 ^ (int)*(char *)(0x42f - param2 % 5);\n",
    "#   }\n",
    "#   // store to result\n",
    "#   *(char *)(param2 + 0x430) = (char)local_4;\n",
    "#   return;\n",
    "# }\n"
   ]
  },
  {
   "cell_type": "code",
   "execution_count": 65,
   "metadata": {},
   "outputs": [
    {
     "name": "stdout",
     "output_type": "stream",
     "text": [
      "picoCTF{8aae5dde384ce815668896d66b8f16a1}\u0007"
     ]
    }
   ],
   "source": [
    "for i in range(len(password)):\n",
    "    print(chr(password[i] ^ key[4-i%5]), end=\"\")"
   ]
  },
  {
   "cell_type": "markdown",
   "metadata": {},
   "source": [
    "### 4"
   ]
  },
  {
   "cell_type": "code",
   "execution_count": 148,
   "metadata": {},
   "outputs": [
    {
     "name": "stdout",
     "output_type": "stream",
     "text": [
      "[24, 106, 124, 97, 17, 56, 105, 55, 22, 10, 115, 0, 103, 79, 95, 59, 1, 71, 72, 126, 48, 102, 27, 85, 119, 5, 104, 69, 13, 57, 13, 75, 74, 45, 63, 60, 73, 90, 120, 2, 87]\n"
     ]
    }
   ],
   "source": [
    "password = [ 0x18, 0x6a, 0x7c, 0x61, 0x11, 0x38, 0x69, 0x37, 0x16, 0x0a, 0x73, 0x00, 0x67, 0x4f, 0x5f, 0x3b, 0x01, 0x47, 0x48, 0x7e, 0x30, 0x66, 0x1b, 0x55, 0x77, 0x05, 0x68, 0x45, 0x0d, 0x39, 0x0d, 0x4b, 0x4a, 0x2d, 0x3f, 0x3c, 0x49, 0x5a, 0x78, 0x02, 0x57 ]\n",
    "print(password)"
   ]
  },
  {
   "cell_type": "code",
   "execution_count": null,
   "metadata": {},
   "outputs": [],
   "source": [
    "def check_flag(cin, pw):\n",
    "    # iterate from back\n",
    "    for c in range(len(cin)):\n",
    "        cin[c] = cin[c]^0x14\n",
    "\n",
    "        # xor with \n",
    "        if (0<c): cin[c] = cin[c] ^ cin[len(cin)-1]\n",
    "        if (2<c): cin[c] = cin[c] ^ cin[len(cin)-3]\n",
    "\n",
    "        # xor index%10 -> can apply same xor to get back result\n",
    "        cin[c] = cin[c]^(c%10)\n",
    "\n",
    "        # xor constant if modulus == n -> can just xor the same constant again\n",
    "        if (c%2==0): cin[c] = cin[c] ^ 9\n",
    "        else: cin[c] = cin[c] ^ 8\n",
    "        \n",
    "        if (c%3==0): cin[c] = cin[c] ^ 7\n",
    "        elif (c%3==1): cin[c] = cin[c] ^ 6\n",
    "        else: cin[c] = cin[c] ^ 5\n",
    "\n",
    "    # swap all elements -> just swap them again\n",
    "    for i in range(len(cin)):\n",
    "        if (i%2==0) and (i+1<len(cin)):\n",
    "            temp = cin[i]\n",
    "            cin[i] = cin[i+1]\n",
    "            cin[i+1] = temp\n",
    "    return cin==pw"
   ]
  },
  {
   "cell_type": "code",
   "execution_count": 149,
   "metadata": {},
   "outputs": [
    {
     "name": "stdout",
     "output_type": "stream",
     "text": [
      "b'picoCTF{b9da2135bc2b724208745a4d74d232d2}'\n"
     ]
    }
   ],
   "source": [
    "# trace back each step\n",
    "result = password\n",
    "for i in range(len(result)-1, -1, -1):\n",
    "    if (i%2==0) and (i+1<len(result)):\n",
    "        temp = result[i]\n",
    "        result[i] = result[i+1]\n",
    "        result[i+1] = temp\n",
    "for c in range(len(result)-1, -1, -1):\n",
    "    if (c%3==0): result[c] = result[c] ^ 7\n",
    "    elif (c%3==1): result[c] = result[c] ^ 6\n",
    "    else: result[c] = result[c] ^ 5\n",
    "\n",
    "    if (c%2==0): result[c] = result[c] ^ 9\n",
    "    else: result[c] = result[c] ^ 8\n",
    "\n",
    "    result[c] = result[c]^(c%10)\n",
    "\n",
    "    if (c>2): result[c] = result[c] ^ result[c-3] #result[0x42d]\n",
    "    if (c>0): result[c] = result[c] ^ result[c-1] #result[0x42f]\n",
    "    result[c] = result[c]^0x14\n",
    "print(bytes(result))"
   ]
  },
  {
   "cell_type": "code",
   "execution_count": null,
   "metadata": {},
   "outputs": [],
   "source": [
    "# byte export::check_flag(void)\n",
    "\n",
    "# {\n",
    "#   int strequal;\n",
    "#   int i;\n",
    "#   byte local_5;\n",
    "#   int c;\n",
    "#   char temp;\n",
    "  \n",
    "#   for (c = 0; *(char *)(c + 0x430) != '\\0'; c = c + 1) {\n",
    "#     *(byte *)(c + 0x430) = *(byte *)(c + 0x430) ^ 0x14;\n",
    "#     if (0 < c) {\n",
    "#       *(byte *)(c + 0x430) = *(byte *)(c + 0x430) ^ *(byte *)(c + 0x42f);\n",
    "#     }\n",
    "#     if (2 < c) {\n",
    "#       *(byte *)(c + 0x430) = *(byte *)(c + 0x430) ^ *(byte *)(c + 0x42d);\n",
    "#     }\n",
    "#     *(byte *)(c + 0x430) = *(byte *)(c + 0x430) ^ (byte)(c % 10);\n",
    "#     if (c % 2 == 0) {\n",
    "#       *(byte *)(c + 0x430) = *(byte *)(c + 0x430) ^ 9;\n",
    "#     }\n",
    "#     else {\n",
    "#       *(byte *)(c + 0x430) = *(byte *)(c + 0x430) ^ 8;\n",
    "#     }\n",
    "#     if (c % 3 == 0) {\n",
    "#       *(byte *)(c + 0x430) = *(byte *)(c + 0x430) ^ 7;\n",
    "#     }\n",
    "#     else if (c % 3 == 1) {\n",
    "#       *(byte *)(c + 0x430) = *(byte *)(c + 0x430) ^ 6;\n",
    "#     }\n",
    "#     else {\n",
    "#       *(byte *)(c + 0x430) = *(byte *)(c + 0x430) ^ 5;\n",
    "#     }\n",
    "#   }\n",
    "#   for (i = 0; i < c; i = i + 1) {\n",
    "#     if ((i % 2 == 0) && (i + 1 < c)) {\n",
    "#       temp = *(char *)(i + 0x430);\n",
    "#       *(undefined *)(i + 0x430) = *(undefined *)(i + 0x431);\n",
    "#       *(char *)(i + 0x431) = temp;\n",
    "#     }\n",
    "#   }\n",
    "#   strequal = strcmp((char *)0x400,(char *)0x430);\n",
    "#   return (strequal != 0 ^ 0xffU) & 1;\n",
    "# }\n"
   ]
  }
 ],
 "metadata": {
  "kernelspec": {
   "display_name": ".venv",
   "language": "python",
   "name": "python3"
  },
  "language_info": {
   "codemirror_mode": {
    "name": "ipython",
    "version": 3
   },
   "file_extension": ".py",
   "mimetype": "text/x-python",
   "name": "python",
   "nbconvert_exporter": "python",
   "pygments_lexer": "ipython3",
   "version": "3.11.6"
  }
 },
 "nbformat": 4,
 "nbformat_minor": 2
}
