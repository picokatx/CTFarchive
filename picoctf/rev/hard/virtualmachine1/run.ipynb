{
 "cells": [
  {
   "cell_type": "code",
   "execution_count": null,
   "metadata": {},
   "outputs": [],
   "source": [
    "# https://technicbrickpower.com/videos/lego_technic_gearing_ratio_calculator_tool\n",
    "# LDCad\n",
    "# https://3dviewer.net/"
   ]
  },
  {
   "cell_type": "code",
   "execution_count": null,
   "metadata": {},
   "outputs": [],
   "source": [
    "# The enemy has upgraded their mechanical analog computer. Start an instance to\n",
    "# begin. We grabbed this design doc from enemy servers: Download. \n",
    "# We know that the rotation of the red axle is input and the rotation of the\n",
    "# blue axle is output. Reverse engineer the mechanism and get past their checker\n",
    "# program: \n",
    "# nc saturn.picoctf.net 54676\n",
    "# The supporting structure for the machine has been removed from the given design doc.\n",
    "# Some gears are meshed strangely, such as tooth overlapping tooth. Consider such gears as meshed correctly.\n",
    "# Learn enough about gear ratios to abstract details from the design doc."
   ]
  },
  {
   "cell_type": "code",
   "execution_count": null,
   "metadata": {},
   "outputs": [],
   "source": [
    "# If the input to the machine is 3856, what is the output?\n",
    "# Answer> yes\n",
    "# yes\n",
    "# Traceback (most recent call last):\n",
    "#   File \"/challenge/checker.py\", line 21, in main\n",
    "#     with open(\"input.txt\", \"r\") as f:\n",
    "# FileNotFoundError: [Errno 2] No such file or directory: 'input.txt'\n",
    "\n",
    "# During handling of the above exception, another exception occurred:\n",
    "\n",
    "# Traceback (most recent call last):\n",
    "#   File \"/challenge/checker.py\", line 45, in <module>\n",
    "#     main()\n",
    "#   File \"/challenge/checker.py\", line 40, in main\n",
    "#     main()\n",
    "#   File \"/challenge/checker.py\", line 24, in main\n",
    "#     user_ans = int(input(\"Answer> \"))\n",
    "# ValueError: invalid literal for int() with base 10: 'yes'"
   ]
  }
 ],
 "metadata": {
  "kernelspec": {
   "display_name": ".venv",
   "language": "python",
   "name": "python3"
  },
  "language_info": {
   "codemirror_mode": {
    "name": "ipython",
    "version": 3
   },
   "file_extension": ".py",
   "mimetype": "text/x-python",
   "name": "python",
   "nbconvert_exporter": "python",
   "pygments_lexer": "ipython3",
   "version": "3.11.6"
  }
 },
 "nbformat": 4,
 "nbformat_minor": 2
}
