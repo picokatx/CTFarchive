{
 "cells": [
  {
   "cell_type": "code",
   "execution_count": 13,
   "metadata": {},
   "outputs": [
    {
     "data": {
      "text/plain": [
       "['CPZPA KPYLJA ZVSPK SLJABYL',\n",
       " 'DQAQB LQZMKB AWTQL TMKBCZM',\n",
       " 'ERBRC MRANLC BXURM UNLCDAN',\n",
       " 'FSCSD NSBOMD CYVSN VOMDEBO',\n",
       " 'GTDTE OTCPNE DZWTO WPNEFCP',\n",
       " 'HUEUF PUDQOF EAXUP XQOFGDQ',\n",
       " 'IVFVG QVERPG FBYVQ YRPGHER',\n",
       " 'JWGWH RWFSQH GCZWR ZSQHIFS',\n",
       " 'KXHXI SXGTRI HDAXS ATRIJGT',\n",
       " 'LYIYJ TYHUSJ IEBYT BUSJKHU',\n",
       " 'MZJZK UZIVTK JFCZU CVTKLIV',\n",
       " 'NAKAL VAJWUL KGDAV DWULMJW',\n",
       " 'OBLBM WBKXVM LHEBW EXVMNKX',\n",
       " 'PCMCN XCLYWN MIFCX FYWNOLY',\n",
       " 'QDNDO YDMZXO NJGDY GZXOPMZ',\n",
       " 'REOEP ZENAYP OKHEZ HAYPQNA',\n",
       " 'SFPFQ AFOBZQ PLIFA IBZQROB',\n",
       " 'TGQGR BGPCAR QMJGB JCARSPC',\n",
       " 'UHRHS CHQDBS RNKHC KDBSTQD',\n",
       " 'VISIT DIRECT SOLID LECTURE',\n",
       " 'WJTJU EJSFDU TPMJE MFDUVSF',\n",
       " 'XKUKV FKTGEV UQNKF NGEVWTG',\n",
       " 'YLVLW GLUHFW VROLG OHFWXUH',\n",
       " 'ZMWMX HMVIGX WSPMH PIGXYVI',\n",
       " 'ANXNY INWJHY XTQNI QJHYZWJ',\n",
       " 'BOYOZ JOXKIZ YUROJ RKIZAXK']"
      ]
     },
     "execution_count": 13,
     "metadata": {},
     "output_type": "execute_result"
    }
   ],
   "source": [
    "import string\n",
    "ALPHABET = string.ascii_uppercase\n",
    "[\"\".join([ALPHABET[(c-65+k)%26] if c!=32 else \" \" for c in b\"CPZPA KPYLJA ZVSPK SLJABYL\"]) for k in range(0, 26)]"
   ]
  }
 ],
 "metadata": {
  "kernelspec": {
   "display_name": ".venv",
   "language": "python",
   "name": "python3"
  },
  "language_info": {
   "codemirror_mode": {
    "name": "ipython",
    "version": 3
   },
   "file_extension": ".py",
   "mimetype": "text/x-python",
   "name": "python",
   "nbconvert_exporter": "python",
   "pygments_lexer": "ipython3",
   "version": "3.11.6"
  }
 },
 "nbformat": 4,
 "nbformat_minor": 2
}
