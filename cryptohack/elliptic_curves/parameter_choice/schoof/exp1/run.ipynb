{
 "cells": [
  {
   "cell_type": "code",
   "execution_count": 1,
   "metadata": {},
   "outputs": [],
   "source": [
    "from sympy import symbols, isprime, mod_inverse\n",
    "from sympy.ntheory import nextprime\n",
    "from collections import namedtuple\n",
    "\n",
    "# Define the elliptic curve and point structures\n",
    "Point = namedtuple(\"Point\", \"x y isinf\", defaults=[False])\n",
    "EllipticCurve = namedtuple(\"EllipticCurve\", \"p a b\")\n",
    "\n",
    "# Example helper for displaying points\n",
    "def pt_to_str(p: Point):\n",
    "    return \"Point(\" + str(p.x) + \",\" + str(p.y) + \")\" if not p.isinf else \"O\"\n",
    "Point.__str__ = pt_to_str\n",
    "\n",
    "# Negation on elliptic curve (already provided)\n",
    "def ec_neg(curve: EllipticCurve, p: Point):\n",
    "    return Point(p.x, -p.y % curve.p, p.isinf)\n",
    "\n",
    "# Point addition (you already provided this)\n",
    "def ec_add(curve: EllipticCurve, p1: Point, p2: Point):\n",
    "    assert not (p1.isinf and p2.isinf), \"cannot add O to O\"\n",
    "    if p1.isinf: return p2\n",
    "    if p2.isinf: return p1\n",
    "    if (p1.x == p2.x and p1.y == -p2.y % curve.p): return Point(0, 0, True)  # Point at infinity\n",
    "    if p1.x != p2.x:\n",
    "        tangent = (p2.y - p1.y) * mod_inverse(p2.x - p1.x, curve.p)\n",
    "    else:\n",
    "        tangent = (3 * (p1.x) ** 2 + curve.a) * mod_inverse(2 * p1.y, curve.p)\n",
    "    p3x = (tangent ** 2 - p1.x - p2.x) % curve.p\n",
    "    p3y = (tangent * (p1.x - p3x) - p1.y) % curve.p\n",
    "    return Point(p3x, p3y)\n",
    "\n",
    "# Scalar multiplication (already provided)\n",
    "def ec_mul(curve: EllipticCurve, p: Point, n: int):\n",
    "    if n == 0: return Point(0, 0, True)\n",
    "    result = Point(0, 0, True)  # Start with point at infinity\n",
    "    addend = p\n",
    "    while n:\n",
    "        if n & 1:\n",
    "            result = ec_add(curve, result, addend)\n",
    "        addend = ec_add(curve, addend, addend)\n",
    "        n >>= 1\n",
    "    return result\n",
    "# Frobenius map (you already provided this)\n",
    "def ec_frobenius(curve: EllipticCurve, P: Point):\n",
    "    \"\"\"Applies the Frobenius map to point P = (x, y) on the curve.\"\"\"\n",
    "    return Point(pow(P.x, curve.p, curve.p), pow(P.y, curve.p, curve.p), P.isinf)"
   ]
  },
  {
   "cell_type": "code",
   "execution_count": 3,
   "metadata": {},
   "outputs": [],
   "source": [
    "def select_small_primes(L):\n",
    "    \"\"\"\n",
    "    Selects small primes less than or equal to L.\n",
    "    These primes will be used for modular reductions in Schoof's algorithm.\n",
    "    \"\"\"\n",
    "    primes = []\n",
    "    p = 2\n",
    "    while p <= L:\n",
    "        primes.append(p)\n",
    "        p = nextprime(p)\n",
    "    return primes\n",
    "\n",
    "def compute_frobenius_trace_mod_l(curve, P, small_primes):\n",
    "    \"\"\"\n",
    "    Computes the trace of Frobenius modulo each small prime l.\n",
    "    For each prime l, it computes t mod l.\n",
    "    \"\"\"\n",
    "    frobenius_traces = {}\n",
    "\n",
    "    # Iterate over each small prime l\n",
    "    for l in small_primes:\n",
    "        # Apply Frobenius map to point P\n",
    "        frobenius_P = ec_frobenius(curve, P)\n",
    "\n",
    "        # Calculate division polynomial modulo l (placeholder for now)\n",
    "        # Later, we'll define how to compute these polynomials\n",
    "        phi_l_P = division_polynomial(l, curve)\n",
    "\n",
    "        # Now solve the equation π² - tπ + p ≡ 0 (mod l)\n",
    "        # π² means applying Frobenius map twice, so we compare the point\n",
    "\n",
    "        # Placeholder: Compare frobenius_P to P mod l to solve for t mod l\n",
    "        # This part involves using the elliptic curve arithmetic to solve modular equations\n",
    "        t_mod_l = NotImplementedError(f\"Trace modulo {l} not implemented yet.\")\n",
    "        \n",
    "        # Store trace for the small prime\n",
    "        frobenius_traces[l] = t_mod_l\n",
    "\n",
    "    return frobenius_traces\n",
    "\n",
    "# Example usage: computing Frobenius trace for small primes\n",
    "small_primes = select_small_primes(L=11)\n",
    "frobenius_traces = compute_frobenius_trace_mod_l(curve, P, small_primes)\n",
    "print(\"Frobenius traces:\", frobenius_traces)\n",
    "\n",
    "# Symbol t will be used in polynomial computations\n",
    "t = symbols('t')"
   ]
  },
  {
   "cell_type": "code",
   "execution_count": 4,
   "metadata": {},
   "outputs": [
    {
     "name": "stdout",
     "output_type": "stream",
     "text": [
      "Small primes: [2, 3, 5, 7, 11]\n"
     ]
    }
   ],
   "source": [
    "# Example curve and base point\n",
    "curve = EllipticCurve(p=97, a=2, b=3)  # Curve: y^2 = x^3 + 2x + 3 over F_97\n",
    "P = Point(x=3, y=6)\n",
    "\n",
    "# Select small primes up to a certain limit (e.g., L=11)\n",
    "L = 11\n",
    "small_primes = select_small_primes(L)\n",
    "print(\"Small primes:\", small_primes)\n",
    "\n"
   ]
  }
 ],
 "metadata": {
  "kernelspec": {
   "display_name": ".venv",
   "language": "python",
   "name": "python3"
  },
  "language_info": {
   "codemirror_mode": {
    "name": "ipython",
    "version": 3
   },
   "file_extension": ".py",
   "mimetype": "text/x-python",
   "name": "python",
   "nbconvert_exporter": "python",
   "pygments_lexer": "ipython3",
   "version": "3.11.6"
  }
 },
 "nbformat": 4,
 "nbformat_minor": 2
}
