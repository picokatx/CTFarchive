{
 "cells": [
  {
   "cell_type": "code",
   "execution_count": 1,
   "metadata": {},
   "outputs": [],
   "source": [
    "from collections import namedtuple\n",
    "from math import inf, prod\n",
    "from Crypto.Util.number import inverse, GCD\n",
    "from typing import List\n",
    "from sympy import factorint, isprime, prime\n",
    "\n",
    "Point = namedtuple(\"Point\", \"x y isinf\", defaults=[False])\n",
    "def pt_to_str(p: Point):\n",
    "    return \"Point(\"+str(p.x)+\",\"+str(p.y)+\")\" if not p.isinf else \"O\"\n",
    "Point.__str__ = pt_to_str\n",
    "\n",
    "EllipticCurve = namedtuple(\"EllipticCurve\", \"p a b\")\n",
    "\n",
    "\n",
    "def ec_add(curve: EllipticCurve, p1: Point, p2: Point):\n",
    "    # assert not (p1.isinf and p2.isinf), \"cannot add O to O\"\n",
    "    if p1.isinf: return p2\n",
    "    if p2.isinf: return p1\n",
    "    if (p1.x==p2.x and p1.y==-p2.y): return Point(0,0,isinf=True)\n",
    "    if p1.x!=p2.x:\n",
    "        tangent = (p2.y - p1.y)*inverse(p2.x - p1.x, curve.p) # pow(p2.x - p1.x, curve.p-2, curve.p)\n",
    "    else:\n",
    "        tangent = (3*(p1.x)**2 + curve.a)*inverse(2*p1.y, curve.p) # pow(2*p1.y, curve.p-2, curve.p)\n",
    "    p3x = tangent**2 - p1.x - p2.x\n",
    "    p3y = tangent*(p1.x - p3x) - p1.y\n",
    "    return Point(p3x%curve.p, p3y%curve.p)\n",
    "\n",
    "\n",
    "def ec_mul(curve: EllipticCurve, p: Point, n: int):\n",
    "    Q = p\n",
    "    R = Point(0,0,True)\n",
    "    while (n>0):\n",
    "        if n%2==1: R = ec_add(curve, Q, R)\n",
    "        Q = ec_add(curve, Q, Q)\n",
    "        n = n//2\n",
    "    return R\n",
    "\n",
    "def ec_neg(curve: EllipticCurve, p: Point):\n",
    "    return Point(p.x, -p.y % curve.p, p.isinf)"
   ]
  },
  {
   "cell_type": "code",
   "execution_count": 73,
   "metadata": {},
   "outputs": [],
   "source": [
    "import random\n",
    "from Crypto.Util.number import inverse, GCD\n",
    "\n",
    "def func_f(E: EllipticCurve, X_i: Point, P: Point, Q: Point):\n",
    "    if int(X_i.x) % 3 == 2:\n",
    "        return ec_add(E, X_i, Q)\n",
    "    if int(X_i.x) % 3 == 0:\n",
    "        return ec_mul(E, X_i, 2)\n",
    "    if int(X_i.x) % 3 == 1:\n",
    "        return ec_add(E, X_i, P)\n",
    "    else:\n",
    "        print(\"[-] Something's Wrong!\")\n",
    "        return -1\n",
    "\n",
    "def func_g(E: EllipticCurve, order: int, a: int, P: Point, X_i: Point):\n",
    "    n = order # hardcode order here\n",
    "    if int(X_i.x) % 3 == 2:\n",
    "        return a\n",
    "    if int(X_i.x) % 3 == 0:\n",
    "        return 2*a % n\n",
    "    if int(X_i.x) % 3 == 1:\n",
    "        return (a + 1) % n\n",
    "    else:\n",
    "        print(\"[-] Something's Wrong!\")\n",
    "        return None\n",
    "\n",
    "def func_h(E, order: int, b, P, X_i):\n",
    "    n = order # hardcode order here\n",
    "    if int(X_i.x) % 3 == 2:\n",
    "        return (b + 1) % n\n",
    "    if int(X_i.x) % 3 == 0:\n",
    "        return 2*b % n\n",
    "    if int(X_i.x) % 3 == 1:\n",
    "        return b\n",
    "    else:\n",
    "        print(\"[-] Something's Wrong!\")\n",
    "        return None\n",
    "\n",
    "def pollardrho(E, order, P, Q):\n",
    "    n = order\n",
    "    for j in range(10):\n",
    "        a_i = random.randint(2,  order-2)\n",
    "        b_i = random.randint(2,  order-2)\n",
    "        a_2i = random.randint(2, order-2)\n",
    "        b_2i = random.randint(2, order-2)\n",
    "\n",
    "        X_i =  ec_add(E, ec_mul(E, P, a_i), ec_mul(E, Q, b_i))\n",
    "        X_2i = ec_add(E, ec_mul(E, P, a_2i), ec_mul(E, Q, b_2i))\n",
    "\n",
    "        i = 1\n",
    "        while i <= n:\n",
    "            # Single Step Calculations\n",
    "            a_i = func_g(E, order, a_i, P, X_i)\n",
    "            b_i = func_h(E, order, b_i, P, X_i)\n",
    "            X_i = func_f(E, X_i, P, Q)\n",
    "\n",
    "            # Double Step Calculations\n",
    "            a_2i = func_g(E, order, func_g(E, order, a_2i, P, X_2i), P, func_f(E, X_2i, P, Q))\n",
    "            b_2i = func_h(E, order, func_h(E, order, b_2i, P, X_2i), P, func_f(E, X_2i, P, Q))\n",
    "            X_2i = func_f(E, func_f(E, X_2i, P, Q), P, Q)\n",
    "\n",
    "            if X_i == X_2i:\n",
    "                if b_i == b_2i:\n",
    "                    break\n",
    "                assert GCD(b_2i - b_i, n) == 1\n",
    "                return ((a_i - a_2i) * inverse(b_2i - b_i, n)) % n\n",
    "            else:\n",
    "                i += 1\n",
    "                continue"
   ]
  },
  {
   "cell_type": "code",
   "execution_count": 3,
   "metadata": {},
   "outputs": [],
   "source": [
    "order_db = {\n",
    "    310717010502520989590157367261876774703: 310717010502520989590206149059164677804,\n",
    "    165229: 165792,\n",
    "    270778799: 270781544,\n",
    "    31850531: 31852392,\n",
    "    9281: 9236,\n",
    "    2309: 2320,\n",
    "    179317983307: 179317476944,\n",
    "    11207342309: 11207218780,\n",
    "    4441: 4568\n",
    "}"
   ]
  },
  {
   "cell_type": "code",
   "execution_count": 4,
   "metadata": {},
   "outputs": [],
   "source": [
    "def subgroup_discrete_log(curve: EllipticCurve, order: int, P: Point, Q: Point):\n",
    "    ret = []\n",
    "    for b, e in factorint(order).items():\n",
    "        acc = 0\n",
    "        for i in range(e):\n",
    "            result = ec_mul(curve, ec_add(curve, Q, ec_neg(curve, ec_mul(curve, P, acc))), order//(b**(i+1)))\n",
    "            # print(result, ec_mul(curve, P, order//b))\n",
    "            a = pollardrho(curve, b**e, result, ec_mul(curve, P, order//b))\n",
    "            acc+=a*(b**i)\n",
    "        ret.append(acc)\n",
    "    return ret"
   ]
  },
  {
   "cell_type": "code",
   "execution_count": 5,
   "metadata": {},
   "outputs": [],
   "source": [
    "def pohlig_hellman_EC(E, order, P, Q, debug=True):\n",
    "    n = order\n",
    "    factors = [p_i**e_i for (p_i, e_i) in factorint(n).items()]\n",
    "    crt_array = []\n",
    "    for p_i in factors[1:]:\n",
    "        print(p_i)\n",
    "        g_i = ec_mul(E, P, (n // p_i))\n",
    "        h_i = ec_mul(E, Q, (n // p_i))\n",
    "        x_i = pollardrho(E, p_i, g_i, h_i)\n",
    "        if debug and x_i != None:\n",
    "            print(\"[x] Found discrete logarithm %d for factor %d\" % (x_i, p_i))\n",
    "            crt_array += [x_i]\n",
    "        elif x_i == None:\n",
    "            print(\"[] Did not find discrete logarithm for factor %d\" % p_i)\n",
    "    return crt_array, factors\n"
   ]
  },
  {
   "cell_type": "code",
   "execution_count": 6,
   "metadata": {},
   "outputs": [],
   "source": [
    "# ans: 47836431801801373761601790722388100620"
   ]
  },
  {
   "cell_type": "code",
   "execution_count": 8,
   "metadata": {},
   "outputs": [],
   "source": [
    "E = EllipticCurve(7919, 1001, 75)\n",
    "m = 7889\n",
    "\n",
    "P = Point(4023, 6036)\n",
    "Q = Point(4135, 3169)\n",
    "\n",
    "E = EllipticCurve(310717010502520989590157367261876774703, 2, 3)\n",
    "m = 310717010502520989590206149059164677804 # order of the curve\n",
    "\n",
    "P = Point(179210853392303317793440285562762725654,105268671499942631758568591033409611165)\n",
    "Q = Point(280810182131414898730378982766101210916,291506490768054478159835604632710368904)\n",
    "# subgroup_discrete_log(E, m, P, Q)"
   ]
  },
  {
   "cell_type": "code",
   "execution_count": 83,
   "metadata": {},
   "outputs": [
    {
     "data": {
      "text/plain": [
       "7"
      ]
     },
     "execution_count": 83,
     "metadata": {},
     "output_type": "execute_result"
    }
   ],
   "source": [
    "E = EllipticCurve(17, 2, 2)\n",
    "P = Point(5,1)\n",
    "Q = ec_mul(E, P, 7)\n",
    "m = 19\n",
    "pollardrho(E, 19, P, Q)\n",
    "# ec_mul(E, Q, (m // 7))"
   ]
  },
  {
   "cell_type": "code",
   "execution_count": 43,
   "metadata": {},
   "outputs": [
    {
     "data": {
      "text/plain": [
       "[Point(x=15, y=8, isinf=False),\n",
       " Point(x=23, y=24, isinf=False),\n",
       " Point(x=3, y=16, isinf=False),\n",
       " Point(x=3, y=21, isinf=False),\n",
       " Point(x=23, y=13, isinf=False),\n",
       " Point(x=15, y=29, isinf=False),\n",
       " Point(x=15, y=8, isinf=False),\n",
       " Point(x=15, y=8, isinf=False),\n",
       " Point(x=23, y=24, isinf=False),\n",
       " Point(x=3, y=16, isinf=False),\n",
       " Point(x=3, y=21, isinf=False),\n",
       " Point(x=23, y=13, isinf=False),\n",
       " Point(x=15, y=29, isinf=False),\n",
       " Point(x=23, y=24, isinf=False),\n",
       " Point(x=23, y=24, isinf=False),\n",
       " Point(x=23, y=24, isinf=False),\n",
       " Point(x=3, y=16, isinf=False),\n",
       " Point(x=3, y=21, isinf=False),\n",
       " Point(x=23, y=13, isinf=False),\n",
       " Point(x=15, y=29, isinf=False),\n",
       " Point(x=3, y=21, isinf=False),\n",
       " Point(x=15, y=8, isinf=False),\n",
       " Point(x=3, y=16, isinf=False),\n",
       " Point(x=3, y=16, isinf=False),\n",
       " Point(x=3, y=21, isinf=False),\n",
       " Point(x=23, y=13, isinf=False),\n",
       " Point(x=15, y=29, isinf=False)]"
      ]
     },
     "execution_count": 43,
     "metadata": {},
     "output_type": "execute_result"
    }
   ],
   "source": [
    "[ec_mul(E, ec_mul(E, P, (m // 7)), i) for i in range(1,28)]"
   ]
  },
  {
   "cell_type": "code",
   "execution_count": null,
   "metadata": {},
   "outputs": [],
   "source": []
  }
 ],
 "metadata": {
  "kernelspec": {
   "display_name": ".venv",
   "language": "python",
   "name": "python3"
  },
  "language_info": {
   "codemirror_mode": {
    "name": "ipython",
    "version": 3
   },
   "file_extension": ".py",
   "mimetype": "text/x-python",
   "name": "python",
   "nbconvert_exporter": "python",
   "pygments_lexer": "ipython3",
   "version": "3.11.6"
  }
 },
 "nbformat": 4,
 "nbformat_minor": 2
}
