{
 "cells": [
  {
   "cell_type": "code",
   "execution_count": 1,
   "metadata": {},
   "outputs": [],
   "source": [
    "# don't need to look, this exploits smooth primes :/"
   ]
  },
  {
   "cell_type": "code",
   "execution_count": 8,
   "metadata": {},
   "outputs": [],
   "source": [
    "from Crypto.Util.number import getPrime\n",
    "from sympy import isprime\n",
    "\n",
    "def get_smooth_prime(bits, smoothness=16):\n",
    "    p = 2\n",
    "    p_factors = [p]\n",
    "    while p.bit_length() < bits - 2 * smoothness:\n",
    "        factor = getPrime(smoothness)\n",
    "        p_factors.append(factor)\n",
    "        p *= factor\n",
    "    bitcnt = (bits - p.bit_length()) // 2\n",
    "    while True:\n",
    "        prime1 = getPrime(bitcnt)\n",
    "        prime2 = getPrime(bitcnt)\n",
    "        tmpp = p * prime1 * prime2\n",
    "        if tmpp.bit_length() < bits:\n",
    "            bitcnt += 1\n",
    "            continue\n",
    "        if tmpp.bit_length() > bits:\n",
    "            bitcnt -= 1\n",
    "            continue\n",
    "        if isprime(tmpp + 1):\n",
    "            p_factors.append(prime1)\n",
    "            p_factors.append(prime2)\n",
    "            p = tmpp + 1\n",
    "            break\n",
    "    p_factors.sort()\n",
    "    return (p, p_factors)\n",
    "sprime, sprime_factors = get_smooth_prime(1536)"
   ]
  },
  {
   "cell_type": "code",
   "execution_count": null,
   "metadata": {},
   "outputs": [],
   "source": [
    "from collections import namedtuple\n",
    "from math import inf, prod\n",
    "from Crypto.Util.number import inverse\n",
    "from typing import List\n",
    "\n",
    "Point = namedtuple(\"Point\", \"x y isinf\", defaults=[False])\n",
    "def pt_to_str(p: Point):\n",
    "    return str(p.x)+\",\"+str(p.y) if not p.isinf else \"O\"\n",
    "Point.__str__ = pt_to_str\n",
    "\n",
    "EllipticCurve = namedtuple(\"EllipticCurve\", \"a b p\")\n",
    "\n",
    "def elliptic_curve_addition(curve: EllipticCurve, Q: Point, R: Point):\n",
    "    assert not (Q.isinf and R.isinf), \"cannot add O to O\"\n",
    "    if Q.isinf: return R\n",
    "    if R.isinf: return Q\n",
    "    if (Q.x==R.x and Q.y==-R.y): return Point(0,0,isinf=True)\n",
    "    tangent = (R.y - Q.y)*inverse(R.x - Q.x, curve.p) if Q!=R else (3*(Q.x)**2 + curve.a)*inverse(2*Q.y, curve.p)\n",
    "    \n",
    "    x = tangent**2 - Q.x - R.x\n",
    "    y = tangent*(Q.x - x) - Q.y\n",
    "    return Point(x % curve.p, y % curve.p)\n",
    "\n",
    "def elliptic_curve_multiplication(curve: EllipticCurve, p: Point, n: int):\n",
    "    Q = p\n",
    "    R = Point(0,0,True)\n",
    "    while (n>0):\n",
    "        if n%2==1: R = elliptic_curve_addition(curve, Q, R)\n",
    "        Q = elliptic_curve_addition(curve, Q, Q)\n",
    "        n = n//2\n",
    "    return R\n",
    "\n",
    "def elliptic_curve_inverse(curve: EllipticCurve, p: Point):\n",
    "    return Point(p.x, - p.y % curve.p)\n",
    "\n",
    "def elliptic_curve_crt(curve: EllipticCurve, C: List[Point], N: List[int]):\n",
    "    total = Point(0,0)\n",
    "    modulo = prod(N)\n",
    "    for n_i, c_i in zip(N, C):\n",
    "        p = modulo // n_i\n",
    "        total = elliptic_curve_addition(curve, total, elliptic_curve_multiplication(curve, c_i, inverse(p, n_i) * p))\n",
    "    return total\n",
    "\n",
    "curve = EllipticCurve(310717010502520989590157367261876774703, 2, 3)\n",
    "elliptic_curve_crt(curve, [Point(2,2), Point(13, 37), Point(0, 0)], [2, 137, 68327521]) # , Point(13, 37), Point(13, 37) , 847685303, 19578713402441478521"
   ]
  },
  {
   "cell_type": "code",
   "execution_count": null,
   "metadata": {},
   "outputs": [],
   "source": [
    "from collections import Counter\n",
    "def _discrete_log_pohlig_hellman(n, a, b, order, order_factors):\n",
    "    l = [0] * len(order_factors)\n",
    "    for i, (pi, ri) in enumerate(order_factors.items()):\n",
    "        for j in range(ri):\n",
    "            aj = elliptic_curve_multiplication(curve, elliptic_curve_addition(a, elliptic_curve_multiplication(curve, b, -l[i])), order // pi**(j + 1))\n",
    "            bj = elliptic_curve_multiplication(curve, b, order // pi)\n",
    "            cj = smooth_discrete_log(n, aj, bj, pi, True)\n",
    "            l[i] += elliptic_curve_multiplication(cj, pi**j)\n",
    "\n",
    "    d, _ = elliptic_curve_crt([pi**ri for pi, ri in order_factors.items()], l)\n",
    "    return d\n",
    "\n",
    "def smooth_discrete_log(n, a: Point, b: Point, sp_factors: list):\n",
    "    factors = dict(Counter(sp_factors).most_common())\n",
    "    order = 1\n",
    "    for px, kx in factors.items():\n",
    "        order *= px**kx\n",
    "    order_factors = {}\n",
    "    for p, e in factors.items():\n",
    "        i = 0\n",
    "        for _ in range(e):\n",
    "            if pow(b, order // p, n) == 1:\n",
    "                order //= p\n",
    "                i += 1\n",
    "            else:\n",
    "                break\n",
    "        if i < e:\n",
    "            order_factors[p] = e - i\n",
    "    return _discrete_log_pohlig_hellman(n, a, b, order, order_factors)\n",
    "\n",
    "smooth_discrete_log"
   ]
  },
  {
   "cell_type": "code",
   "execution_count": null,
   "metadata": {},
   "outputs": [],
   "source": [
    "\n",
    "\n",
    "p = 310717010502520989590157367261876774703\n",
    "a = 2\n",
    "b = 3\n",
    "\n",
    "g_x = 179210853392303317793440285562762725654\n",
    "g_y = 105268671499942631758568591033409611165\n",
    "G = Point(g_x, g_y)\n",
    "\n",
    "smooth_discrete_log(p, a, 2, {2: 1, 137: 1, 68327521: 1, 847685303: 1, 19578713402441478521: 1})\n",
    "\n",
    "# from Crypto.Hash import SHA1\n",
    "# SHA1.new(str(flag.x).encode()).hexdigest()"
   ]
  },
  {
   "cell_type": "code",
   "execution_count": 6,
   "metadata": {},
   "outputs": [
    {
     "data": {
      "text/plain": [
       "{2: 1, 137: 1, 68327521: 1, mpz(847685303): 1, 19578713402441478521: 1}"
      ]
     },
     "execution_count": 6,
     "metadata": {},
     "output_type": "execute_result"
    }
   ],
   "source": [
    "from sympy import factorint\n",
    "factorint(p-1)"
   ]
  },
  {
   "cell_type": "code",
   "execution_count": null,
   "metadata": {},
   "outputs": [],
   "source": [
    "from collections import namedtuple\n",
    "from math import inf\n",
    "from Crypto.Util.number import inverse\n",
    "Point = namedtuple(\"Point\", \"x y isinf\", defaults=[False])\n",
    "def pt_to_str(p: Point):\n",
    "    return str(p.x)+\",\"+str(p.y) if not p.isinf else \"O\"\n",
    "Point.__str__ = pt_to_str\n",
    "def elliptic_curve_addition(p1: Point, p2: Point):\n",
    "    assert not (p1.isinf and p2.isinf), \"cannot add O to O\"\n",
    "    if p1.isinf: return p2\n",
    "    if p2.isinf: return p1\n",
    "    if (p1.x==p2.x and p1.y==-p2.y): return Point(0,0,isinf=True)\n",
    "    tangent = (p2.y - p1.y)*inverse(p2.x - p1.x, p) if p1!=p2 else (3*(p1.x)**2 + a)*inverse(2*p1.y, p)\n",
    "    p3x = tangent**2 - p1.x - p2.x\n",
    "    p3y = tangent*(p1.x - p3x) - p1.y\n",
    "    return Point(p3x%p, p3y%p)\n",
    "\n",
    "def elliptic_curve_multiplication(p: Point, n: int):\n",
    "    p1 = p\n",
    "    p2 = Point(0,0,True)\n",
    "    while (n>0):\n",
    "        if n%2==1: p2 = elliptic_curve_addition(p1, p2)\n",
    "        p1 = elliptic_curve_addition(p1, p1)\n",
    "        n = n//2\n",
    "    return p2\n",
    "\n",
    "p = 310717010502520989590157367261876774703\n",
    "a = 2\n",
    "b = 3\n",
    "\n",
    "g_x = 179210853392303317793440285562762725654\n",
    "g_y = 105268671499942631758568591033409611165\n",
    "G = Point(g_x, g_y)\n",
    "\n",
    "smooth_discrete_log(p, a, 2, {2: 1, 137: 1, 68327521: 1, 847685303: 1, 19578713402441478521: 1})\n",
    "\n",
    "# from Crypto.Hash import SHA1\n",
    "# SHA1.new(str(flag.x).encode()).hexdigest()from sympy.utilities.misc import as_int\n",
    "from collections import Counter\n",
    "from sympy import isprime\n",
    "def _discrete_log_pohlig_hellman(n, a, b, order, order_factors):\n",
    "    from .modular import crt\n",
    "    a %= n\n",
    "    b %= n\n",
    "\n",
    "    l = [0] * len(order_factors)\n",
    "\n",
    "    for i, (pi, ri) in enumerate(order_factors.items()):\n",
    "        for j in range(ri):\n",
    "            aj = pow(a * pow(b, -l[i], n), order // pi**(j + 1), n)\n",
    "            bj = pow(b, order // pi, n)\n",
    "            cj = smooth_discrete_log(n, aj, bj, pi, True)\n",
    "            l[i] += cj * pi**j\n",
    "\n",
    "    d, _ = crt([pi**ri for pi, ri in order_factors.items()], l)\n",
    "    return d\n",
    "\n",
    "def smooth_discrete_log(n, a, b, sp_factors: list):\n",
    "    factors = dict(Counter(sp_factors).most_common())\n",
    "    order = 1\n",
    "    for px, kx in factors.items():\n",
    "        order *= px**kx\n",
    "    order_factors = {}\n",
    "    for p, e in factors.items():\n",
    "        i = 0\n",
    "        for _ in range(e):\n",
    "            if pow(b, order // p, n) == 1:\n",
    "                order //= p\n",
    "                i += 1\n",
    "            else:\n",
    "                break\n",
    "        if i < e:\n",
    "            order_factors[p] = e - i\n",
    "    return _discrete_log_pohlig_hellman(n, a, b, order, order_factors)"
   ]
  },
  {
   "cell_type": "code",
   "execution_count": null,
   "metadata": {},
   "outputs": [],
   "source": [
    "out = pow(2, 65537, sprime)\n",
    "smooth_discrete_log(sprime, out, 2, sprime_factors)"
   ]
  },
  {
   "cell_type": "code",
   "execution_count": 21,
   "metadata": {},
   "outputs": [],
   "source": [
    "# actual start here, above was trying to write pohlin hellman for elliptic curves"
   ]
  },
  {
   "cell_type": "code",
   "execution_count": 23,
   "metadata": {},
   "outputs": [
    {
     "data": {
      "text/plain": [
       "{2: 1, 137: 1, 68327521: 1, mpz(847685303): 1, 19578713402441478521: 1}"
      ]
     },
     "execution_count": 23,
     "metadata": {},
     "output_type": "execute_result"
    }
   ],
   "source": [
    "def smooth_discrete_log(n: int, a: int, b: int, sp_factors: list, order=None, prime_order=None):\n",
    "    if order is None:\n",
    "        factors = dict(Counter(sp_factors).most_common())\n",
    "        order = 1\n",
    "        for px, kx in factors.items():\n",
    "            order *= px**kx\n",
    "        order_factors = {}\n",
    "        for p, e in factors.items():\n",
    "            i = 0\n",
    "            for _ in range(e):\n",
    "                if pow(b, order // p, n) == 1:\n",
    "                   order //= p\n",
    "                   i += 1\n",
    "                else:\n",
    "                    break\n",
    "            if i < e:\n",
    "                order_factors[p] = e - i\n",
    "    if prime_order is None:\n",
    "        prime_order = isprime(order)\n",
    "    return _discrete_log_pohlig_hellman(n, a, b, order, order_factors)\n",
    "smooth_discrete_log(310717010502520989590157367261876774703, out, 2, {2: 1, 137: 1, 68327521: 1, mpz(847685303): 1, 19578713402441478521: 1})"
   ]
  }
 ],
 "metadata": {
  "kernelspec": {
   "display_name": ".venv",
   "language": "python",
   "name": "python3"
  },
  "language_info": {
   "codemirror_mode": {
    "name": "ipython",
    "version": 3
   },
   "file_extension": ".py",
   "mimetype": "text/x-python",
   "name": "python",
   "nbconvert_exporter": "python",
   "pygments_lexer": "ipython3",
   "version": "3.11.6"
  }
 },
 "nbformat": 4,
 "nbformat_minor": 2
}
