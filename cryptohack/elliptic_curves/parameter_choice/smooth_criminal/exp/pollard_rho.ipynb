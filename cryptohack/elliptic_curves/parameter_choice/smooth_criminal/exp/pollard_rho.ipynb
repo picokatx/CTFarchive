{
 "cells": [
  {
   "cell_type": "code",
   "execution_count": 2,
   "metadata": {},
   "outputs": [
    {
     "data": {
      "text/plain": [
       "97"
      ]
     },
     "execution_count": 2,
     "metadata": {},
     "output_type": "execute_result"
    }
   ],
   "source": [
    "from Crypto.Util.number import GCD\n",
    "def pollard_rho(n: int):\n",
    "    x = 2\n",
    "    y = x\n",
    "    d = 1\n",
    "    while d==1:\n",
    "        x = (x**2 + 1) % n\n",
    "        y = ((y**2 + 1)**2 + 1) % n\n",
    "        d = GCD(abs(x-y), n)\n",
    "    if (d==n):\n",
    "        return -1\n",
    "    else:\n",
    "        return d\n",
    "pollard_rho(8051)"
   ]
  },
  {
   "cell_type": "code",
   "execution_count": null,
   "metadata": {},
   "outputs": [],
   "source": [
    "def discrete_log_pollard_rho(a: int, b: int):\n",
    "    pass"
   ]
  }
 ],
 "metadata": {
  "kernelspec": {
   "display_name": ".venv",
   "language": "python",
   "name": "python3"
  },
  "language_info": {
   "codemirror_mode": {
    "name": "ipython",
    "version": 3
   },
   "file_extension": ".py",
   "mimetype": "text/x-python",
   "name": "python",
   "nbconvert_exporter": "python",
   "pygments_lexer": "ipython3",
   "version": "3.11.6"
  }
 },
 "nbformat": 4,
 "nbformat_minor": 2
}
