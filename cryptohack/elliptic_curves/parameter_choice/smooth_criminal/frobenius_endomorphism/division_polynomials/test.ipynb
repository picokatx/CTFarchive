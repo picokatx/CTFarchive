{
 "cells": [
  {
   "cell_type": "code",
   "execution_count": 104,
   "metadata": {},
   "outputs": [],
   "source": [
    "from collections import namedtuple\n",
    "from math import inf, prod\n",
    "from Crypto.Util.number import inverse\n",
    "from typing import List\n",
    "from sympy import factorint, isprime, prime, integer_nthroot, mod_inverse\n",
    "from sympy.polys.polytools import invert\n",
    "from sympy import symbols, Poly, div\n",
    "from sympy import primerange, sqrt, simplify, expand\n",
    "\n",
    "Point = namedtuple(\"Point\", \"x y isinf\", defaults=[False])\n",
    "def pt_to_str(p: Point):\n",
    "    return \"Point(\"+str(p.x)+\",\"+str(p.y)+\")\" if not p.isinf else \"O\"\n",
    "Point.__str__ = pt_to_str\n",
    "\n",
    "EllipticCurve = namedtuple(\"EllipticCurve\", \"p a b\")\n",
    "\n",
    "def ec_frobenius(curve: EllipticCurve, P: Point):\n",
    "    \"\"\"Apply the Frobenius map to point P = (x, y) on the curve.\"\"\"\n",
    "    return Point(pow(P.x, curve.p, curve.p), pow(P.y, curve.p, curve.p), P.isinf)\n",
    "\n",
    "def ec_neg(curve: EllipticCurve, p: Point):\n",
    "    return Point(p.x, -p.y % curve.p, p.isinf)\n",
    "\n",
    "def ec_add(curve: EllipticCurve, p1: Point, p2: Point):\n",
    "    assert not (p1.isinf and p2.isinf), \"cannot add O to O\"\n",
    "    if p1.isinf: return p2\n",
    "    if p2.isinf: return p1\n",
    "    if (p1.x==p2.x and p1.y==-p2.y): return Point(0,0,isinf=True)\n",
    "    if p1.x!=p2.x:\n",
    "        # print(p2.x, p1.x, curve.p)\n",
    "        tangent = (p2.y - p1.y)*inverse(p2.x - p1.x, curve.p) # pow(p2.x - p1.x, curve.p-2, curve.p)\n",
    "    else:\n",
    "        tangent = (3*(p1.x)**2 + curve.a)*inverse(2*p1.y, curve.p) # pow(2*p1.y, curve.p-2, curve.p)\n",
    "    p3x = tangent**2 - p1.x - p2.x\n",
    "    p3y = tangent*(p1.x - p3x) - p1.y\n",
    "    return Point(p3x%curve.p, p3y%curve.p)\n",
    "\n",
    "def ec_mul(curve: EllipticCurve, p: Point, n: int):\n",
    "    if n==0: return Point(p.x, p.y, True)\n",
    "    p1 = p\n",
    "    p2 = Point(0,0,True)\n",
    "    while (n>0):\n",
    "        if n%2==1: p2 = ec_add(curve, p1, p2)\n",
    "        p1 = ec_add(curve, p1, p1)\n",
    "        n = n//2\n",
    "    return p2\n",
    "\n",
    "division_polynomial_cache = {}\n",
    "x, y = symbols('x y')\n",
    "def reduce_mod_p(poly, p):\n",
    "    \"\"\"Reduce a polynomial modulo p, but leave y terms untouched.\"\"\"\n",
    "    # Get the coefficients of the polynomial\n",
    "    coeffs = poly.all_coeffs()\n",
    "    # Reduce only numeric coefficients modulo p\n",
    "    mod_coeffs = [c % p if c.is_number else c for c in coeffs]\n",
    "    # Return a new polynomial with reduced coefficients\n",
    "    return Poly.from_list(mod_coeffs, gens=poly.gens)\n",
    "\n",
    "\n",
    "# Define the division polynomial function with modular arithmetic\n",
    "from functools import cache\n",
    "def division_polynomial(E: EllipticCurve, n):\n",
    "    \"\"\"Calculate the n-th division polynomial modulo p for the elliptic curve y^2 = x^3 + ax + b.\"\"\"\n",
    "    a, b, p = E.a, E.b, E.p\n",
    "    DIVPOL_BASE_CASE = [\n",
    "        Poly(0, x),\n",
    "        Poly(1, x),\n",
    "        Poly(2 * y, x),\n",
    "        Poly(3 * x**4 + 6 * a * x**2 + 12 * b * x - a**2, x),\n",
    "        Poly(4 * y * (x**6 + 5 * a * x**4 + 20 * b * x**3 - 5 * a**2 * x**2 - 4 * a * b * x - 8 * b**2 - a**3), x)\n",
    "    ]\n",
    "    @cache\n",
    "    def f(E: EllipticCurve, n):\n",
    "        # print(DIVPOL_BASE_CASE[4]*DIVPOL_BASE_CASE[2]**3 - DIVPOL_BASE_CASE[1]*DIVPOL_BASE_CASE[3]**3)\n",
    "        if n in division_polynomial_cache:\n",
    "            return division_polynomial_cache[n]\n",
    "        if n <= 4:\n",
    "            result = DIVPOL_BASE_CASE[n]\n",
    "        elif n % 2 == 1:  # Odd n: psi_2k+1\n",
    "            m = (n - 1) // 2\n",
    "            psi_m = f(E, m)\n",
    "            psi_m1 = f(E, m + 1)\n",
    "            psi_m2 = f(E, m + 2)\n",
    "            psi_ms1 = f(E, m - 1)\n",
    "            result = psi_m2 * psi_m**3 - psi_ms1 * psi_m1**3\n",
    "            # result = reduce_mod_p(result, p)  # Apply mod p reduction\n",
    "        else:  # Even n: psi_2k\n",
    "            m = n // 2\n",
    "            psi_m = f(E, m)\n",
    "            psi_m1 = f(E, m + 1)\n",
    "            psi_m2 = f(E, m + 2)\n",
    "            psi_ms1 = f(E, m - 1)\n",
    "            psi_ms2 = f(E, m - 2)\n",
    "            result = (psi_m/(2 * y))*(psi_m2*psi_ms1**2 - psi_ms2*psi_m1**2)\n",
    "            # result = reduce_mod_p(result, p)  # Apply mod p reduction\n",
    "        division_polynomial_cache[n] = result\n",
    "        return result\n",
    "    return f(E, n)"
   ]
  },
  {
   "cell_type": "code",
   "execution_count": 112,
   "metadata": {},
   "outputs": [
    {
     "data": {
      "text/plain": [
       "[12,\n",
       " 0,\n",
       " 300,\n",
       " 2700,\n",
       " -1168,\n",
       " 2976,\n",
       " -14672,\n",
       " -19760,\n",
       " -99160,\n",
       " -120224,\n",
       " -117464,\n",
       " -247224,\n",
       " -141008,\n",
       " -151200,\n",
       " -178192,\n",
       " -121648,\n",
       " -116052,\n",
       " -86368,\n",
       " -22772,\n",
       " 2444]"
      ]
     },
     "execution_count": 112,
     "metadata": {},
     "output_type": "execute_result"
    }
   ],
   "source": [
    "E = EllipticCurve(101, 1, 1)\n",
    "Poly(expand(simplify(division_polynomial(E, 6).subs(y**2, (x**3 + x + 1))).subs(y**2, (x**3 + x + 1)).subs(y, 2*(x**3 + x + 1))))"
   ]
  },
  {
   "cell_type": "code",
   "execution_count": 93,
   "metadata": {},
   "outputs": [
    {
     "data": {
      "text/latex": [
       "$\\displaystyle 12 x^{19} + 300 x^{17} + 2700 x^{16} - 1168 x^{15} + 2976 x^{14} - 14672 x^{13} - 19760 x^{12} - 99160 x^{11} - 120224 x^{10} - 117464 x^{9} - 247224 x^{8} - 141008 x^{7} - 151200 x^{6} - 178192 x^{5} - 121648 x^{4} - 116052 x^{3} - 86368 x^{2} - 22772 x + 2444$"
      ],
      "text/plain": [
       "12*x**19 + 300*x**17 + 2700*x**16 - 1168*x**15 + 2976*x**14 - 14672*x**13 - 19760*x**12 - 99160*x**11 - 120224*x**10 - 117464*x**9 - 247224*x**8 - 141008*x**7 - 151200*x**6 - 178192*x**5 - 121648*x**4 - 116052*x**3 - 86368*x**2 - 22772*x + 2444"
      ]
     },
     "execution_count": 93,
     "metadata": {},
     "output_type": "execute_result"
    }
   ],
   "source": [
    "E = EllipticCurve(101, 1, 1)\n",
    "# simplify(division_polynomial(E, 5).subs(y**2, (x**3 + x + 1))) # correct\n",
    "expand(simplify(division_polynomial(E, 6).subs(y**2, (x**3 + x + 1))).subs(y**2, (x**3 + x + 1)).subs(y, 2*(x**3 + x + 1))) # correct\n",
    "# simplify(division_polynomial(E, 7).subs(y**2, (x**3 + x + 1))) # correct\n",
    "# expand(simplify(simplify(division_polynomial(E, 8).subs(y**2, (x**3 + x + 1))).subs(y**2, (x**3 + x + 1))).subs(y, 2*(x**3 + x + 1))) # correct\n",
    "# simplify(division_polynomial(E, 9).subs(y**2, (x**3 + x + 1)))\n",
    "# expand(simplify(simplify(division_polynomial(E, 10).subs(y**2, (x**3 + x + 1))).subs(y**2, (x**3 + x + 1))).subs(y, 2*(x**3 + x + 1)))"
   ]
  }
 ],
 "metadata": {
  "kernelspec": {
   "display_name": ".venv",
   "language": "python",
   "name": "python3"
  },
  "language_info": {
   "codemirror_mode": {
    "name": "ipython",
    "version": 3
   },
   "file_extension": ".py",
   "mimetype": "text/x-python",
   "name": "python",
   "nbconvert_exporter": "python",
   "pygments_lexer": "ipython3",
   "version": "3.11.6"
  }
 },
 "nbformat": 4,
 "nbformat_minor": 2
}
