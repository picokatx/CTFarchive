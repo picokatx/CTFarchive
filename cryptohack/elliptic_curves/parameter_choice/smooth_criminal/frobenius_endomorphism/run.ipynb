{
 "cells": [
  {
   "cell_type": "code",
   "execution_count": 1,
   "metadata": {},
   "outputs": [
    {
     "data": {
      "text/plain": [
       "2"
      ]
     },
     "execution_count": 1,
     "metadata": {},
     "output_type": "execute_result"
    }
   ],
   "source": [
    "from Crypto.Util.number import inverse\n",
    "class Field:\n",
    "    def __init__(self, p: int):\n",
    "        self.p = p\n",
    "    def add(self, a: int, b: int):\n",
    "        return (a+b)%self.p\n",
    "    def mul(self, a: int, b: int):\n",
    "        return (a*b)%self.p\n",
    "    def inv(self, a: int):\n",
    "        return inverse(a, self.p)\n",
    "f = Field(11)\n",
    "f.add(5, 8)"
   ]
  },
  {
   "cell_type": "code",
   "execution_count": null,
   "metadata": {},
   "outputs": [],
   "source": [
    "E = EllipticCurve(5, 2, 1)\n",
    "for i in range(1,10):\n",
    "    temp = ec_mul(E, Point(0,1,False), i)\n",
    "    print(temp.x, temp.y)\n",
    "    print(temp.x**5 % 5, temp.y**5 % 5)"
   ]
  },
  {
   "cell_type": "code",
   "execution_count": 47,
   "metadata": {},
   "outputs": [],
   "source": [
    "\n",
    "from math import inf, prod\n",
    "from typing import List\n",
    "from sympy import factorint, isprime, prime, integer_nthroot, mod_inverse\n",
    "from sympy.polys.polytools import invert\n",
    "from sympy import symbols, Poly, div\n",
    "\n",
    "from collections import namedtuple\n",
    "from Crypto.Util.number import inverse\n",
    "\n",
    "Point = namedtuple(\"Point\", \"x y isinf\", defaults=[False])\n",
    "def pt_to_str(p: Point):\n",
    "    return \"Point(\"+str(p.x)+\",\"+str(p.y)+\")\" if not p.isinf else \"O\"\n",
    "Point.__str__ = pt_to_str\n",
    "\n",
    "EllipticCurve = namedtuple(\"EllipticCurve\", \"p a b\")\n",
    "\n",
    "def ec_frobenius(curve: EllipticCurve, P: Point):\n",
    "    \"\"\"Apply the Frobenius map to point P = (x, y) on the curve.\"\"\"\n",
    "    return Point(pow(P.x, curve.p, curve.p), pow(P.y, curve.p, curve.p), P.isinf)\n",
    "\n",
    "def ec_neg(curve: EllipticCurve, p: Point):\n",
    "    return Point(p.x, -p.y % curve.p, p.isinf)\n",
    "\n",
    "def ec_add(curve: EllipticCurve, p1: Point, p2: Point):\n",
    "    assert not (p1.isinf and p2.isinf), \"cannot add O to O\"\n",
    "    if p1.isinf: return p2\n",
    "    if p2.isinf: return p1\n",
    "    if (p1.x==p2.x and p1.y==-p2.y): return Point(0,0,isinf=True)\n",
    "    if p1.x!=p2.x:\n",
    "        # print(p2.x, p1.x, curve.p)\n",
    "        tangent = (p2.y - p1.y)*inverse(p2.x - p1.x, curve.p) # pow(p2.x - p1.x, curve.p-2, curve.p)\n",
    "    else:\n",
    "        tangent = (3*(p1.x)**2 + curve.a)*inverse(2*p1.y, curve.p) # pow(2*p1.y, curve.p-2, curve.p)\n",
    "    p3x = tangent**2 - p1.x - p2.x\n",
    "    p3y = tangent*(p1.x - p3x) - p1.y\n",
    "    return Point(p3x%curve.p, p3y%curve.p)\n",
    "\n",
    "def ec_mul(curve: EllipticCurve, p: Point, n: int):\n",
    "    if n==0: return Point(p.x, p.y, True)\n",
    "    p1 = p\n",
    "    p2 = Point(0,0,True)\n",
    "    while (n>0):\n",
    "        if n%2==1: p2 = ec_add(curve, p1, p2)\n",
    "        p1 = ec_add(curve, p1, p1)\n",
    "        n = n//2\n",
    "    return p2\n",
    "\n",
    "division_polynomial_cache = {}\n",
    "x, y = symbols('x y')\n",
    "def reduce_mod_p(poly, p):\n",
    "    \"\"\"Reduce a polynomial modulo p, but leave y terms untouched.\"\"\"\n",
    "    # Get the coefficients of the polynomial\n",
    "    coeffs = poly.all_coeffs()\n",
    "    # Reduce only numeric coefficients modulo p\n",
    "    mod_coeffs = [c % p if c.is_number else c for c in coeffs]\n",
    "    # Return a new polynomial with reduced coefficients\n",
    "    return Poly.from_list(mod_coeffs, gens=poly.gens)\n",
    "\n",
    "\n",
    "# Define the division polynomial function with modular arithmetic\n",
    "def division_polynomial(E: EllipticCurve, n):\n",
    "    \"\"\"Calculate the n-th division polynomial modulo p for the elliptic curve y^2 = x^3 + ax + b.\"\"\"\n",
    "    a, b, p = E.a, E.b, E.p\n",
    "    DIVPOL_BASE_CASE = [\n",
    "        Poly(0, x),\n",
    "        Poly(1, x),\n",
    "        Poly(2 * y, x),\n",
    "        Poly(3 * x**4 + 6 * a * x**2 + 12 * b * x - a**2, x),\n",
    "        Poly(4 * y * (x**6 + 5 * a * x**4 + 20 * b * x**3 - 5 * a**2 * x**2 - 4 * a * b * x - 8 * b**2 - a**3), x)\n",
    "    ]\n",
    "    # print(DIVPOL_BASE_CASE[4]*DIVPOL_BASE_CASE[2]**3 - DIVPOL_BASE_CASE[1]*DIVPOL_BASE_CASE[3]**3)\n",
    "    if n in division_polynomial_cache:\n",
    "        return division_polynomial_cache[n]\n",
    "    if n <= 4:\n",
    "        result = DIVPOL_BASE_CASE[n]\n",
    "    elif n % 2 == 1:  # Odd n: psi_2k+1\n",
    "        m = (n - 1) // 2\n",
    "        psi_m = division_polynomial(E, m)\n",
    "        psi_m1 = division_polynomial(E, m + 1)\n",
    "        psi_m2 = division_polynomial(E, m + 2)\n",
    "        psi_ms1 = division_polynomial(E, m - 1)\n",
    "        result = psi_m2 * psi_m**3 - psi_ms1 * psi_m1**3\n",
    "        # result = reduce_mod_p(result, p)  # Apply mod p reduction\n",
    "    else:  # Even n: psi_2k\n",
    "        m = n // 2\n",
    "        psi_m = division_polynomial(E, m)\n",
    "        psi_m1 = division_polynomial(E, m + 1)\n",
    "        psi_m2 = division_polynomial(E, m + 2)\n",
    "        psi_ms1 = division_polynomial(E, m - 1)\n",
    "        psi_ms2 = division_polynomial(E, m - 2)\n",
    "        result = (psi_m*invert(2 * y, p))*(psi_m2*psi_ms1**2 - psi_ms2*psi_m1**2)\n",
    "        # result = reduce_mod_p(result, p)  # Apply mod p reduction\n",
    "    division_polynomial_cache[n] = result\n",
    "    return result\n",
    "from functools import cache\n",
    "\n",
    "def division_polynomial(a, b, x, n):\n",
    "    F = 4*(x**3 + a*x + b)\n",
    "\n",
    "    @cache\n",
    "    def f(n):\n",
    "        if n == 0:\n",
    "            return 0\n",
    "        elif n == 1:\n",
    "            return 1\n",
    "        elif n == 2:\n",
    "            return 1\n",
    "        elif n == 3:\n",
    "            return 3*x**4 + 6*a*x**2 + 12*b*x - a**2\n",
    "        elif n == 4:\n",
    "            return 2*(x**6 + 5*a*x**4 + 20*b*x**3 - 5*a**2*x**2 - 4*a*b*x - 8*b**2 - a**3)\n",
    "        elif n % 2 == 0:\n",
    "            m = n//2\n",
    "            return (f(m + 2) * f(m - 1)**2 - f(m-2)*f(m+1)**2) * f(m)\n",
    "        elif n % 4 == 1:\n",
    "            m = (n - 1) // 2\n",
    "            return F**2*f(m+2)*f(m)**3 - f(m-1)*f(m+1)**3\n",
    "        elif n % 4 == 3:\n",
    "            m = (n - 1) // 2\n",
    "            return f(m+2)*f(m)**3 - F**2*f(m-1)*f(m+1)**3\n",
    "        else:\n",
    "            assert False, \"unreachable\"\n",
    "    return f(n)"
   ]
  },
  {
   "cell_type": "code",
   "execution_count": 60,
   "metadata": {},
   "outputs": [
    {
     "data": {
      "text/latex": [
       "$\\displaystyle 4 x^{3} + 4 x + 4$"
      ],
      "text/plain": [
       "4*x**3 + 4*x + 4"
      ]
     },
     "execution_count": 60,
     "metadata": {},
     "output_type": "execute_result"
    }
   ],
   "source": [
    "2 * 2*(x**3 + 1*x + 1)"
   ]
  },
  {
   "cell_type": "code",
   "execution_count": 59,
   "metadata": {},
   "outputs": [
    {
     "data": {
      "text/latex": [
       "$\\displaystyle \\operatorname{Poly}{\\left( 4 y x^{6} + 20 y x^{4} + 80 y x^{3} -  20 y x^{2} -  16 y x -  36 y, x, domain=\\mathbb{Z}\\left[y\\right] \\right)}$"
      ],
      "text/plain": [
       "Poly(4*y*x**6 + 20*y*x**4 + 80*y*x**3 - 20*y*x**2 - 16*y*x - 36*y, x, domain='ZZ[y]')"
      ]
     },
     "execution_count": 59,
     "metadata": {},
     "output_type": "execute_result"
    }
   ],
   "source": [
    "from sympy import primerange, sqrt, simplify\n",
    "E = EllipticCurve(101, 1, 1)\n",
    "simplify(division_polynomial(E, 4).subs(y, x**3+x+1))\n",
    "division_polynomial(E, 4)"
   ]
  },
  {
   "cell_type": "code",
   "execution_count": 19,
   "metadata": {},
   "outputs": [
    {
     "name": "stdout",
     "output_type": "stream",
     "text": [
      "Poly(-27*x**12 - 324*x**10 - 972*x**9 - 1188*x**8 - 7776*x**7 + (32*y**4 - 12528)*x**6 - 12960*x**5 + (320*y**4 - 45072)*x**4 + (1920*y**4 - 36288)*x**3 + (14976 - 640*y**4)*x**2 + (-768*y**4 - 1728)*x + 64 - 2560*y**4, x, domain='ZZ[y]')\n",
      "2 Poly(2*y, x, domain='ZZ[y]')\n",
      "Poly(-27*x**12 - 324*x**10 - 972*x**9 - 1188*x**8 - 7776*x**7 + (32*y**4 - 12528)*x**6 - 12960*x**5 + (320*y**4 - 45072)*x**4 + (1920*y**4 - 36288)*x**3 + (14976 - 640*y**4)*x**2 + (-768*y**4 - 1728)*x + 64 - 2560*y**4, x, domain='ZZ[y]')\n",
      "3 Poly(3*x**4 + 12*x**2 + 36*x - 4, x, domain='ZZ')\n",
      "Poly(-27*x**12 - 324*x**10 - 972*x**9 - 1188*x**8 - 7776*x**7 + (32*y**4 - 12528)*x**6 - 12960*x**5 + (320*y**4 - 45072)*x**4 + (1920*y**4 - 36288)*x**3 + (14976 - 640*y**4)*x**2 + (-768*y**4 - 1728)*x + 64 - 2560*y**4, x, domain='ZZ[y]')\n",
      "Poly(-27*x**12 - 324*x**10 - 972*x**9 - 1188*x**8 - 7776*x**7 + (32*y**4 - 12528)*x**6 - 12960*x**5 + (320*y**4 - 45072)*x**4 + (1920*y**4 - 36288)*x**3 + (14976 - 640*y**4)*x**2 + (-768*y**4 - 1728)*x + 64 - 2560*y**4, x, domain='ZZ[y]')\n",
      "Poly(-27*x**12 - 324*x**10 - 972*x**9 - 1188*x**8 - 7776*x**7 + (32*y**4 - 12528)*x**6 - 12960*x**5 + (320*y**4 - 45072)*x**4 + (1920*y**4 - 36288)*x**3 + (14976 - 640*y**4)*x**2 + (-768*y**4 - 1728)*x + 64 - 2560*y**4, x, domain='ZZ[y]')\n",
      "Poly(-27*x**12 - 324*x**10 - 972*x**9 - 1188*x**8 - 7776*x**7 + (32*y**4 - 12528)*x**6 - 12960*x**5 + (320*y**4 - 45072)*x**4 + (1920*y**4 - 36288)*x**3 + (14976 - 640*y**4)*x**2 + (-768*y**4 - 1728)*x + 64 - 2560*y**4, x, domain='ZZ[y]')\n",
      "Poly(-27*x**12 - 324*x**10 - 972*x**9 - 1188*x**8 - 7776*x**7 + (32*y**4 - 12528)*x**6 - 12960*x**5 + (320*y**4 - 45072)*x**4 + (1920*y**4 - 36288)*x**3 + (14976 - 640*y**4)*x**2 + (-768*y**4 - 1728)*x + 64 - 2560*y**4, x, domain='ZZ[y]')\n",
      "5 Poly(-27*x**12 - 324*x**10 - 972*x**9 - 1188*x**8 - 7776*x**7 + (32*y**4 - 12528)*x**6 - 12960*x**5 + (320*y**4 - 45072)*x**4 + (1920*y**4 - 36288)*x**3 + (14976 - 640*y**4)*x**2 + (-768*y**4 - 1728)*x + 64 - 2560*y**4, x, domain='ZZ[y]')\n"
     ]
    }
   ],
   "source": [
    "primes = list(primerange(6))\n",
    "for l in primes:\n",
    "    psi_l = division_polynomial(E, l)\n",
    "    print(l, psi_l)"
   ]
  },
  {
   "cell_type": "code",
   "execution_count": 78,
   "metadata": {},
   "outputs": [
    {
     "name": "stdout",
     "output_type": "stream",
     "text": [
      "Psi_3 mod p: Poly(3*x**4 + 12*x**2 + 36*x + 97, x, domain='ZZ')\n",
      "Psi_4 mod p: Poly(4*y*x**6 + 40*y*x**4 + 240*y*x**3 - 80*y*x**2 - 96*y*x - 320*y, x, domain='ZZ[y]')\n",
      "Psi_5 mod p: Poly(74*x**12 + 80*x**10 + 38*x**9 + 24*x**8 + x**7 + (32*y**4 - 34344)*x**6 + 69*x**5 + (320*y**4 - 173241)*x**4 + (1920*y**4 - 298080)*x**3 + (-640*y**4 - 715860)*x**2 + (-768*y**4 - 1016172)*x - 2560*y**4 - 912673, x, domain='ZZ[y]')\n"
     ]
    }
   ],
   "source": [
    "\n",
    "print(\"Psi_4 mod p:\", division_polynomial(E, 4))\n",
    "print(\"Psi_5 mod p:\", division_polynomial(E, 5))"
   ]
  },
  {
   "cell_type": "code",
   "execution_count": 41,
   "metadata": {},
   "outputs": [],
   "source": [
    "class EllipticCurve:\n",
    "    def __init__(self, a, b, p):\n",
    "        self.a = a  # coefficient of x\n",
    "        self.b = b  # constant term\n",
    "        self.p = p  # prime modulus (field characteristic)\n",
    "        \n",
    "    def mod_inv(self, n):\n",
    "        \"\"\"Compute the modular inverse of n modulo p using the extended Euclidean algorithm.\"\"\"\n",
    "        return pow(n, self.p - 2, self.p)\n",
    "    \n",
    "    def add_points(self, P, Q):\n",
    "        \"\"\"Add two points P and Q on the elliptic curve.\"\"\"\n",
    "        if P == \"O\":  # Identity element (point at infinity)\n",
    "            return Q\n",
    "        if Q == \"O\":\n",
    "            return P\n",
    "        \n",
    "        x1, y1 = P\n",
    "        x2, y2 = Q\n",
    "        \n",
    "        # Point doubling case\n",
    "        if P == Q:\n",
    "            if y1 == 0:\n",
    "                return \"O\"  # The result is the point at infinity\n",
    "            m = (3 * x1**2 + self.a) * self.mod_inv(2 * y1) % self.p\n",
    "        # General addition case\n",
    "        else:\n",
    "            if x1 == x2:\n",
    "                return \"O\"  # Points add to infinity if x1 == x2 and y1 != y2\n",
    "            m = (y2 - y1) * self.mod_inv(x2 - x1) % self.p\n",
    "        \n",
    "        # Calculate x3 and y3\n",
    "        x3 = (m**2 - x1 - x2) % self.p\n",
    "        y3 = (m * (x1 - x3) - y1) % self.p\n",
    "        return (x3, y3)\n",
    "    def scalar_multiply(self, k, P):\n",
    "        \"\"\"Multiply a point P by an integer k using the double-and-add method.\"\"\"\n",
    "        result = \"O\"  # Start with the point at infinity\n",
    "        addend = P\n",
    "\n",
    "        while k > 0:\n",
    "            if k & 1:  # If the current bit is 1, add the addend to the result\n",
    "                result = self.add_points(result, addend)\n",
    "            # Double the point for the next bit\n",
    "            addend = self.add_points(addend, addend)\n",
    "            k >>= 1  # Shift k to the right by 1 bit\n",
    "\n",
    "        return result\n",
    "    # you learnt this, frobenius is when x^p = x mod p\n",
    "    def frobenius(self, P):\n",
    "        \"\"\"Apply the Frobenius map to point P = (x, y) on the curve.\"\"\"\n",
    "        if P == \"O\":\n",
    "            return \"O\"\n",
    "        \n",
    "        x, y = P\n",
    "        x_frobenius = pow(x, self.p, self.p)\n",
    "        y_frobenius = pow(y, self.p, self.p)\n",
    "        \n",
    "        return (x_frobenius, y_frobenius)"
   ]
  },
  {
   "cell_type": "code",
   "execution_count": 42,
   "metadata": {},
   "outputs": [],
   "source": [
    "class Polynomial:\n",
    "    def __init__(self, coeffs):\n",
    "        \"\"\"Initialize a polynomial with coefficients given in a list.\"\"\"\n",
    "        self.coeffs = coeffs  # coeffs[i] corresponds to the x^i term\n",
    "    \n",
    "    def evaluate(self, x, p):\n",
    "        \"\"\"Evaluate the polynomial at x modulo p.\"\"\"\n",
    "        result = 0\n",
    "        for i, coeff in enumerate(self.coeffs):\n",
    "            result = (result + coeff * pow(x, i, p)) % p\n",
    "        return result\n",
    "    \n",
    "    def reduce(self, p):\n",
    "        \"\"\"Reduce the polynomial coefficients modulo p.\"\"\"\n",
    "        return [c % p for c in self.coeffs]\n"
   ]
  },
  {
   "cell_type": "code",
   "execution_count": 43,
   "metadata": {},
   "outputs": [],
   "source": [
    "def small_primes(bound):\n",
    "    \"\"\"Generate a list of small primes up to a given bound.\n",
    "    Example: 2, 3, 5, 7, 11\n",
    "    \"\"\"\n",
    "    primes = []\n",
    "    for num in range(2, bound + 1):\n",
    "        prime = True\n",
    "        for i in range(2, int(num ** 0.5) + 1):\n",
    "            if num % i == 0:\n",
    "                prime = False\n",
    "                break\n",
    "        if prime:\n",
    "            primes.append(num)\n",
    "    return primes\n",
    "def compute_t_mod_l(curve, P, l):\n",
    "    \"\"\"Compute t mod l by comparing Frobenius(P) and [t]P for small l.\n",
    "    FOr some small primes, check if the frobenius endomorphism holds\n",
    "    \"\"\"\n",
    "    for t in range(l):\n",
    "        # Scalar multiply P by t mod l\n",
    "        tP = curve.scalar_multiply(t, P)\n",
    "        # Apply the Frobenius map to P\n",
    "        frobP = curve.frobenius(P)\n",
    "        # Check if Frobenius(P) equals [t]P mod l\n",
    "        if frobP == tP:\n",
    "            return t\n",
    "    return None  # If no t works, return None\n",
    "def chinese_remainder_theorem(remainders, moduli):\n",
    "    \"\"\"Solve the system of congruences using the Chinese Remainder Theorem.\n",
    "    crt crt crt...\n",
    "    \"\"\"\n",
    "    total = 0\n",
    "    product = 1\n",
    "    for mod in moduli:\n",
    "        product *= mod  # Compute the product of all moduli\n",
    "    \n",
    "    for remainder, mod in zip(remainders, moduli):\n",
    "        partial_product = product // mod\n",
    "        inverse = pow(partial_product, -1, mod)  # Modular inverse of partial_product mod mod\n",
    "        total += remainder * inverse * partial_product\n",
    "    \n",
    "    return total % product\n",
    "def combine_modular_traces(curve, P, primes):\n",
    "    \"\"\"Compute t using small primes and the Chinese Remainder Theorem.\"\"\"\n",
    "    remainders = []\n",
    "    for l in primes:\n",
    "        t_mod_l = compute_t_mod_l(curve, P, l)\n",
    "        if t_mod_l is None:\n",
    "            raise ValueError(f\"Could not find t mod {l}\")\n",
    "        remainders.append(t_mod_l)\n",
    "    \n",
    "    t = chinese_remainder_theorem(remainders, primes)\n",
    "    return t\n",
    "def compute_total_points(p, t):\n",
    "    \"\"\"Compute the total number of points N on the elliptic curve.\"\"\"\n",
    "    N = p + 1 - t\n",
    "    return N"
   ]
  },
  {
   "cell_type": "code",
   "execution_count": 48,
   "metadata": {},
   "outputs": [
    {
     "name": "stdout",
     "output_type": "stream",
     "text": [
      "Total number of points on the elliptic curve over F_113: N = 113\n"
     ]
    }
   ],
   "source": [
    "a=3\n",
    "b=2\n",
    "p=113\n",
    "curve = EllipticCurve(a,b,p)\n",
    "\n",
    "# Step 1: Generate small primes up to a certain bound\n",
    "primes = small_primes(113)\n",
    "\n",
    "# Step 2: Compute the combined trace t mod L using small primes\n",
    "P = (0, 1)\n",
    "t_combined = combine_modular_traces(curve, P, primes)\n",
    "\n",
    "# Step 3: Compute the total number of points on the curve using the trace t\n",
    "N = compute_total_points(p, t_combined)\n",
    "\n",
    "# Print the result\n",
    "print(f\"Total number of points on the elliptic curve over F_{p}: N = {N}\")"
   ]
  },
  {
   "cell_type": "code",
   "execution_count": 40,
   "metadata": {},
   "outputs": [
    {
     "name": "stdout",
     "output_type": "stream",
     "text": [
      "Combined t = 1\n",
      "Total number of points on the elliptic curve: N = 5\n"
     ]
    }
   ],
   "source": [
    "# Define the elliptic curve\n",
    "a=3\n",
    "b=2\n",
    "p=5\n",
    "curve = EllipticCurve(a,b,p)\n",
    "\n",
    "# Define points on the curve\n",
    "P = (0, 1)\n",
    "Q = (1, 2)\n",
    "\n",
    "# Test combining modular traces\n",
    "primes = small_primes(99)  # Use small primes up to 5\n",
    "t_combined = combine_modular_traces(curve, P, primes)\n",
    "print(f\"Combined t = {t_combined}\")\n",
    "\n",
    "# Test the total points calculation\n",
    "N = compute_total_points(p, t_combined)\n",
    "print(f\"Total number of points on the elliptic curve: N = {N}\")"
   ]
  },
  {
   "cell_type": "code",
   "execution_count": 32,
   "metadata": {},
   "outputs": [
    {
     "data": {
      "text/plain": [
       "[(0, 1), (1, 3), (3, 3), (3, 2), (1, 2), (0, 4), 'O', (0, 1), (1, 3)]"
      ]
     },
     "execution_count": 32,
     "metadata": {},
     "output_type": "execute_result"
    }
   ],
   "source": [
    "[curve.scalar_multiply(i, P) for i in range(1,10)]"
   ]
  },
  {
   "cell_type": "code",
   "execution_count": 16,
   "metadata": {},
   "outputs": [
    {
     "name": "stdout",
     "output_type": "stream",
     "text": [
      "f(1) mod 5 = 4\n"
     ]
    }
   ],
   "source": [
    "# Create a polynomial f(x) = 2 + 3x + 4x^2\n",
    "poly = Polynomial([2, 3, 4])\n",
    "\n",
    "# Test polynomial evaluation at x = 1 modulo p = 5\n",
    "result = poly.evaluate(1, 5)\n",
    "print(f\"f(1) mod 5 = {result}\")"
   ]
  },
  {
   "cell_type": "code",
   "execution_count": null,
   "metadata": {},
   "outputs": [],
   "source": []
  }
 ],
 "metadata": {
  "kernelspec": {
   "display_name": ".venv",
   "language": "python",
   "name": "python3"
  },
  "language_info": {
   "codemirror_mode": {
    "name": "ipython",
    "version": 3
   },
   "file_extension": ".py",
   "mimetype": "text/x-python",
   "name": "python",
   "nbconvert_exporter": "python",
   "pygments_lexer": "ipython3",
   "version": "3.11.6"
  }
 },
 "nbformat": 4,
 "nbformat_minor": 2
}
