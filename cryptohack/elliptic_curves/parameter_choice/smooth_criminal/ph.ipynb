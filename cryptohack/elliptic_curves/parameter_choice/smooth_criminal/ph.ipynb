{
 "cells": [
  {
   "cell_type": "code",
   "execution_count": 18,
   "metadata": {},
   "outputs": [],
   "source": [
    "from collections import namedtuple\n",
    "from math import inf, prod\n",
    "from Crypto.Util.number import inverse\n",
    "from typing import List\n",
    "from sympy import factorint, isprime, prime\n",
    "Point = namedtuple(\"Point\", \"x y isinf\", defaults=[False])\n",
    "def pt_to_str(p: Point):\n",
    "    return \"Point(\"+str(p.x)+\",\"+str(p.y)+\")\" if not p.isinf else \"O\"\n",
    "Point.__str__ = pt_to_str\n",
    "\n",
    "EllipticCurve = namedtuple(\"EllipticCurve\", \"p a b\")\n",
    "\n",
    "def ec_neg(curve: EllipticCurve, p: Point):\n",
    "    return Point(p.x, -p.y % curve.p, p.isinf)\n",
    "\n",
    "def ec_add(curve: EllipticCurve, p1: Point, p2: Point):\n",
    "    assert not (p1.isinf and p2.isinf), \"cannot add O to O\"\n",
    "    if p1.isinf: return p2\n",
    "    if p2.isinf: return p1\n",
    "    if (p1.x==p2.x and p1.y==-p2.y): return Point(0,0,isinf=True)\n",
    "    if p1.x!=p2.x:\n",
    "        # print(p2.x, p1.x, curve.p)\n",
    "        tangent = (p2.y - p1.y)*inverse(p2.x - p1.x, curve.p) # pow(p2.x - p1.x, curve.p-2, curve.p)\n",
    "    else:\n",
    "        tangent = (3*(p1.x)**2 + curve.a)*inverse(2*p1.y, curve.p) # pow(2*p1.y, curve.p-2, curve.p)\n",
    "    p3x = tangent**2 - p1.x - p2.x\n",
    "    p3y = tangent*(p1.x - p3x) - p1.y\n",
    "    return Point(p3x%curve.p, p3y%curve.p)\n",
    "\n",
    "def ec_mul(curve: EllipticCurve, p: Point, n: int):\n",
    "    if n==0: return Point(p.x, p.y, True)\n",
    "    p1 = p\n",
    "    p2 = Point(0,0,True)\n",
    "    while (n>0):\n",
    "        if n%2==1: p2 = ec_add(curve, p1, p2)\n",
    "        p1 = ec_add(curve, p1, p1)\n",
    "        n = n//2\n",
    "    return p2\n",
    "E = EllipticCurve(7919, 1001, 75)\n",
    "m = 7889\n",
    "\n",
    "P = Point(4023, 6036)\n",
    "Q = Point(4135, 3169)\n",
    "\n",
    "E = EllipticCurve(310717010502520989590157367261876774703, 2, 3)\n",
    "m = 310717010502520989590206149059164677804 # order of the curve\n",
    "\n",
    "P = Point(179210853392303317793440285562762725654,105268671499942631758568591033409611165)\n",
    "Q = Point(280810182131414898730378982766101210916,291506490768054478159835604632710368904)"
   ]
  },
  {
   "cell_type": "code",
   "execution_count": 19,
   "metadata": {},
   "outputs": [],
   "source": [
    "order_db = {\n",
    "    310717010502520989590157367261876774703: 310717010502520989590206149059164677804,\n",
    "    165229: 165792,\n",
    "    270778799: 270781544,\n",
    "    31850531: 31852392,\n",
    "    9281: 9236,\n",
    "    2309: 2320,\n",
    "    179317983307: 179317476944,\n",
    "    11207342309: 11207218780,\n",
    "    4441: 4568\n",
    "}\n",
    "# {2: 2, 3: 7, 139: 1, 165229: 1, 270778799: 1, 31850531: 1, 179317983307: 1}"
   ]
  },
  {
   "cell_type": "code",
   "execution_count": 20,
   "metadata": {},
   "outputs": [],
   "source": [
    "import math\n",
    "def BSGS(E: EllipticCurve, Q: Point, P: Point, p: int): # base, alice public, order\n",
    "    # Normally ceil(sqrt(n)) should work but for some reason some test cases break this\n",
    "    M = math.ceil(math.sqrt(p)) + 1\n",
    "    y = Q\n",
    "    log_table = {}\n",
    "    for j in range(M):\n",
    "        log_table[j] = (j, ec_mul(E, P, j))\n",
    "    inv = ec_neg(E, ec_mul(E, P, M))\n",
    "    for i in range(M):\n",
    "        for x in log_table:\n",
    "            if log_table[x][1] == y:\n",
    "                return i * M + log_table[x][0]\n",
    "        y = ec_add(E, y, inv)\n",
    "    return None\n",
    "BSGS(E, Q, P, 7889)"
   ]
  },
  {
   "cell_type": "code",
   "execution_count": 29,
   "metadata": {},
   "outputs": [],
   "source": [
    "BSGS(E, Point(154910540684899676459286362033595419788,98814031409972560998947177720157461947), Point(24786530147080349345676545654922711623,154413743963192258817570613687696397934), 3**7)"
   ]
  },
  {
   "cell_type": "code",
   "execution_count": 21,
   "metadata": {},
   "outputs": [],
   "source": [
    "def discrete_log_brute_force(curve: EllipticCurve, Q: Point, P: Point, stop_search=100000):\n",
    "    print(Q,P)\n",
    "    for i in range(stop_search):\n",
    "        try:\n",
    "            if (ec_mul(curve, P, i)==Q): return i\n",
    "        except:\n",
    "            continue\n",
    "    assert False, \"could not brute force discrete log\"\n",
    "def subgroup_discrete_log(curve: EllipticCurve, order: int, Q: Point, P: Point):\n",
    "    ret = []\n",
    "    for b, e in factorint(order).items():\n",
    "        print(b,e)\n",
    "        acc = 0\n",
    "        for i in range(e):\n",
    "            result = ec_mul(curve, ec_add(curve, Q, ec_neg(E, ec_mul(curve, P, acc))), order//(b**(i+1)))\n",
    "            print(result, ec_mul(curve, P, order//b))\n",
    "            a = BSGS(curve, result, ec_mul(curve, P, order//b), order_db[b])\n",
    "            # a = discrete_log_brute_force(curve, result, ec_mul(curve, P, order//b))\n",
    "            # if (b in order_db):\n",
    "            #     a = BSGS(curve, result, ec_mul(curve, P, order//b), order_db[b])\n",
    "            # else:\n",
    "            #     a = discrete_log_brute_force(curve, result, ec_mul(curve, P, order//b))\n",
    "            # else:\n",
    "            #     a = subgroup_discrete_log(EllipticCurve(b, curve.a, curve.b), order_db[b], result, ec_mul(curve, P, order//b))\n",
    "            acc+=a*(b**i)\n",
    "        ret.append(acc)\n",
    "    return ret"
   ]
  },
  {
   "cell_type": "code",
   "execution_count": 26,
   "metadata": {},
   "outputs": [
    {
     "data": {
      "text/plain": [
       "{2: 2, 3: 7, 139: 1, 165229: 1, 270778799: 1, 31850531: 1, 179317983307: 1}"
      ]
     },
     "execution_count": 26,
     "metadata": {},
     "output_type": "execute_result"
    }
   ],
   "source": [
    "factorint(m)"
   ]
  },
  {
   "cell_type": "code",
   "execution_count": 22,
   "metadata": {},
   "outputs": [
    {
     "name": "stdout",
     "output_type": "stream",
     "text": [
      "2 2\n",
      "Point(154910540684899676459286362033595419788,98814031409972560998947177720157461947) Point(24786530147080349345676545654922711623,154413743963192258817570613687696397934)\n"
     ]
    },
    {
     "ename": "KeyError",
     "evalue": "2",
     "output_type": "error",
     "traceback": [
      "\u001b[1;31m---------------------------------------------------------------------------\u001b[0m",
      "\u001b[1;31mKeyError\u001b[0m                                  Traceback (most recent call last)",
      "Cell \u001b[1;32mIn[22], line 1\u001b[0m\n\u001b[1;32m----> 1\u001b[0m \u001b[43msubgroup_discrete_log\u001b[49m\u001b[43m(\u001b[49m\u001b[43mE\u001b[49m\u001b[43m,\u001b[49m\u001b[43m \u001b[49m\u001b[43mm\u001b[49m\u001b[43m,\u001b[49m\u001b[43m \u001b[49m\u001b[43mQ\u001b[49m\u001b[43m,\u001b[49m\u001b[43m \u001b[49m\u001b[43mP\u001b[49m\u001b[43m)\u001b[49m\n",
      "Cell \u001b[1;32mIn[21], line 17\u001b[0m, in \u001b[0;36msubgroup_discrete_log\u001b[1;34m(curve, order, Q, P)\u001b[0m\n\u001b[0;32m     15\u001b[0m result \u001b[38;5;241m=\u001b[39m ec_mul(curve, ec_add(curve, Q, ec_neg(E, ec_mul(curve, P, acc))), order\u001b[38;5;241m/\u001b[39m\u001b[38;5;241m/\u001b[39m(b\u001b[38;5;241m*\u001b[39m\u001b[38;5;241m*\u001b[39m(i\u001b[38;5;241m+\u001b[39m\u001b[38;5;241m1\u001b[39m)))\n\u001b[0;32m     16\u001b[0m \u001b[38;5;28mprint\u001b[39m(result, ec_mul(curve, P, order\u001b[38;5;241m/\u001b[39m\u001b[38;5;241m/\u001b[39mb))\n\u001b[1;32m---> 17\u001b[0m a \u001b[38;5;241m=\u001b[39m BSGS(curve, result, ec_mul(curve, P, order\u001b[38;5;241m/\u001b[39m\u001b[38;5;241m/\u001b[39mb), \u001b[43morder_db\u001b[49m\u001b[43m[\u001b[49m\u001b[43mb\u001b[49m\u001b[43m]\u001b[49m)\n\u001b[0;32m     18\u001b[0m \u001b[38;5;66;03m# a = discrete_log_brute_force(curve, result, ec_mul(curve, P, order//b))\u001b[39;00m\n\u001b[0;32m     19\u001b[0m \u001b[38;5;66;03m# if (b in order_db):\u001b[39;00m\n\u001b[0;32m     20\u001b[0m \u001b[38;5;66;03m#     a = BSGS(curve, result, ec_mul(curve, P, order//b), order_db[b])\u001b[39;00m\n\u001b[1;32m   (...)\u001b[0m\n\u001b[0;32m     23\u001b[0m \u001b[38;5;66;03m# else:\u001b[39;00m\n\u001b[0;32m     24\u001b[0m \u001b[38;5;66;03m#     a = subgroup_discrete_log(EllipticCurve(b, curve.a, curve.b), order_db[b], result, ec_mul(curve, P, order//b))\u001b[39;00m\n\u001b[0;32m     25\u001b[0m acc\u001b[38;5;241m+\u001b[39m\u001b[38;5;241m=\u001b[39ma\u001b[38;5;241m*\u001b[39m(b\u001b[38;5;241m*\u001b[39m\u001b[38;5;241m*\u001b[39mi)\n",
      "\u001b[1;31mKeyError\u001b[0m: 2"
     ]
    }
   ],
   "source": [
    "subgroup_discrete_log(E, m, Q, P)"
   ]
  },
  {
   "cell_type": "code",
   "execution_count": 50,
   "metadata": {},
   "outputs": [
    {
     "name": "stdout",
     "output_type": "stream",
     "text": [
      "2599,759 7190,7003\n"
     ]
    },
    {
     "data": {
      "text/plain": [
       "10"
      ]
     },
     "execution_count": 50,
     "metadata": {},
     "output_type": "execute_result"
    }
   ],
   "source": [
    "subgroup_discrete_log(E, m, Point(181431351501993200100744930553883699885,125886694576089627814731058428671030886), Point(10785739225543040019189158843511112629,246080717671345120281194242716389052072), 23, 1)"
   ]
  },
  {
   "cell_type": "code",
   "execution_count": 26,
   "metadata": {},
   "outputs": [
    {
     "name": "stdout",
     "output_type": "stream",
     "text": [
      "7801,2071 7801,2071\n",
      "7285,14 7801,2071\n",
      "7285,7905 7801,2071\n",
      "2599,759 7190,7003\n"
     ]
    },
    {
     "data": {
      "text/plain": [
       "4334"
      ]
     },
     "execution_count": 26,
     "metadata": {},
     "output_type": "execute_result"
    }
   ],
   "source": [
    "C = [subgroup_discrete_log(E, m, Q, P, b, e) for b, e in factorint(m).items()]\n",
    "N = [b**e for b, e in factorint(m).items()]\n",
    "from cryptolib import crt\n",
    "crt(C,N)"
   ]
  }
 ],
 "metadata": {
  "kernelspec": {
   "display_name": ".venv",
   "language": "python",
   "name": "python3"
  },
  "language_info": {
   "codemirror_mode": {
    "name": "ipython",
    "version": 3
   },
   "file_extension": ".py",
   "mimetype": "text/x-python",
   "name": "python",
   "nbconvert_exporter": "python",
   "pygments_lexer": "ipython3",
   "version": "3.11.6"
  }
 },
 "nbformat": 4,
 "nbformat_minor": 2
}
