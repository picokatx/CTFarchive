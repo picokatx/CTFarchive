{
 "cells": [
  {
   "cell_type": "code",
   "execution_count": null,
   "metadata": {},
   "outputs": [],
   "source": [
    "# Y**2 = X**3 + aX + b"
   ]
  },
  {
   "cell_type": "code",
   "execution_count": 5,
   "metadata": {},
   "outputs": [
    {
     "data": {
      "text/plain": [
       "'80e5212754a824d3a4aed185ace4f9cac0f908bf'"
      ]
     },
     "execution_count": 5,
     "metadata": {},
     "output_type": "execute_result"
    }
   ],
   "source": [
    "from collections import namedtuple\n",
    "from math import inf\n",
    "from Crypto.Util.number import inverse\n",
    "# Create a simple Point class to represent the affine points.\n",
    "Point = namedtuple(\"Point\", \"x y isinf\", defaults=[False])\n",
    "def pt_to_str(p: Point):\n",
    "    return str(p.x)+\",\"+str(p.y) if not p.isinf else \"O\"\n",
    "Point.__str__ = pt_to_str\n",
    "p = 9739\n",
    "a = 497\n",
    "b = 1768\n",
    "def elliptic_curve_addition(p1: Point, p2: Point):\n",
    "    assert not (p1.isinf and p2.isinf), \"cannot add O to O\"\n",
    "    if p1.isinf: return p2\n",
    "    if p2.isinf: return p1\n",
    "    if (p1.x==p2.x and p1.y==-p2.y): return Point(0,0,isinf=True)\n",
    "    tangent = (p2.y - p1.y)*inverse(p2.x - p1.x, p) if p1!=p2 else (3*(p1.x)**2 + a)*inverse(2*p1.y, p)\n",
    "    p3x = tangent**2 - p1.x - p2.x\n",
    "    p3y = tangent*(p1.x - p3x) - p1.y\n",
    "    return Point(p3x%p, p3y%p)\n",
    "\n",
    "def elliptic_curve_multiplication(p: Point, n: int):\n",
    "    p1 = p\n",
    "    p2 = Point(0,0,True)\n",
    "    while (n>0):\n",
    "        if n%2==1: p2 = elliptic_curve_addition(p1, p2)\n",
    "        p1 = elliptic_curve_addition(p1, p1)\n",
    "        n = n//2\n",
    "    return p2\n",
    "\n",
    "# p1 = Point(493,5564)\n",
    "# p2 = Point(1539,4742)\n",
    "# p3 = Point(4403,5202)\n",
    "# p4 = Point(5323,5438)\n",
    "g = Point(1804,5368)\n",
    "p5 = Point(815,3190)\n",
    "flag = elliptic_curve_multiplication(p5, 1829)\n",
    "from Crypto.Hash import SHA1\n",
    "SHA1.new(str(flag.x).encode()).hexdigest()"
   ]
  },
  {
   "cell_type": "code",
   "execution_count": 6,
   "metadata": {},
   "outputs": [
    {
     "data": {
      "text/plain": [
       "7929"
      ]
     },
     "execution_count": 6,
     "metadata": {},
     "output_type": "execute_result"
    }
   ],
   "source": [
    "flag.x"
   ]
  }
 ],
 "metadata": {
  "kernelspec": {
   "display_name": ".venv",
   "language": "python",
   "name": "python3"
  },
  "language_info": {
   "codemirror_mode": {
    "name": "ipython",
    "version": 3
   },
   "file_extension": ".py",
   "mimetype": "text/x-python",
   "name": "python",
   "nbconvert_exporter": "python",
   "pygments_lexer": "ipython3",
   "version": "3.11.6"
  }
 },
 "nbformat": 4,
 "nbformat_minor": 2
}
