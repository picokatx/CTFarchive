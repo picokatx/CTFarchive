{
 "cells": [
  {
   "cell_type": "code",
   "execution_count": 1,
   "metadata": {},
   "outputs": [],
   "source": [
    "from numpy.polynomial import Polynomial\n",
    "import numpy as np"
   ]
  },
  {
   "cell_type": "code",
   "execution_count": 1,
   "metadata": {},
   "outputs": [
    {
     "name": "stdout",
     "output_type": "stream",
     "text": [
      "[(0.10000000043961196-2.139348254104334e-09j), (0.0330000007457838+0.021999998921133856j), (0.31199999971896164+0.5225999975901942j), (-0.8711999887924984+0.7919999822955295j)]\n"
     ]
    }
   ],
   "source": [
    "\"\"\"Example of CKKS multiplication.\"\"\"\n",
    "\n",
    "from ckks.ckks_decryptor import CKKSDecryptor\n",
    "from ckks.ckks_encoder import CKKSEncoder\n",
    "from ckks.ckks_encryptor import CKKSEncryptor\n",
    "from ckks.ckks_evaluator import CKKSEvaluator\n",
    "from ckks.ckks_key_generator import CKKSKeyGenerator\n",
    "from ckks.ckks_parameters import CKKSParameters\n",
    "\n",
    "\n",
    "poly_degree = 8\n",
    "ciph_modulus = 1 << 600\n",
    "big_modulus = 1 << 1200\n",
    "scaling_factor = 1 << 30\n",
    "params = CKKSParameters(poly_degree=poly_degree,\n",
    "                        ciph_modulus=ciph_modulus,\n",
    "                        big_modulus=big_modulus,\n",
    "                        scaling_factor=scaling_factor)\n",
    "\n",
    "key_generator = CKKSKeyGenerator(params)\n",
    "\n",
    "public_key = key_generator.public_key\n",
    "secret_key = key_generator.secret_key\n",
    "relin_key = key_generator.relin_key\n",
    "\n",
    "encoder = CKKSEncoder(params)\n",
    "encryptor = CKKSEncryptor(params, public_key, secret_key)\n",
    "decryptor = CKKSDecryptor(params, secret_key)\n",
    "evaluator = CKKSEvaluator(params)\n",
    "\n",
    "message1 = [0.5, 0.3 + 0.2j, 0.78, 0.88j]\n",
    "message2 = [0.2, 0.11, 0.4 + 0.67j, 0.9 + 0.99j]\n",
    "\n",
    "plain1 = encoder.encode(message1, scaling_factor)\n",
    "plain2 = encoder.encode(message2, scaling_factor)\n",
    "ciph1 = encryptor.encrypt(plain1)\n",
    "ciph2 = encryptor.encrypt(plain2)\n",
    "ciph_prod = evaluator.multiply(ciph1, ciph2, relin_key)\n",
    "# So how define arbitrary operation on the ring\n",
    "decrypted_prod = decryptor.decrypt(ciph_prod)\n",
    "decoded_prod = encoder.decode(decrypted_prod)\n",
    "\n",
    "print(decoded_prod)\n"
   ]
  },
  {
   "cell_type": "code",
   "execution_count": null,
   "metadata": {},
   "outputs": [],
   "source": [
    "class PEncoder:\n",
    "    \"\"\"An encoder for several complex numbers as specified in the CKKS scheme.\n",
    "\n",
    "    Attributes:\n",
    "        degree (int): Degree of polynomial that determines quotient ring.\n",
    "        fft (FFTContext): FFTContext object to encode/decode.\n",
    "    \"\"\"\n",
    "\n",
    "    def __init__(self, params):\n",
    "        \"\"\"Inits CKKSEncoder with the given parameters.\n",
    "\n",
    "        Args:\n",
    "            params (Parameters): Parameters including polynomial degree,\n",
    "                plaintext modulus, and ciphertext modulus.\n",
    "        \"\"\"\n",
    "        self.degree = params.poly_degree\n",
    "        self.fft = FFTContext(self.degree * 2)\n",
    "\n",
    "    def encode(self, values, scaling_factor):\n",
    "        \"\"\"Encodes complex numbers into a polynomial.\n",
    "\n",
    "        Encodes an array of complex number into a polynomial.\n",
    "\n",
    "        Args:\n",
    "            values (list): List of complex numbers to encode.\n",
    "            scaling_factor (float): Scaling factor to multiply by.\n",
    "\n",
    "        Returns:\n",
    "            A Plaintext object which represents the encoded value.\n",
    "        \"\"\"\n",
    "        num_values = len(values)\n",
    "        plain_len = num_values << 1\n",
    "\n",
    "        # Canonical embedding inverse variant.\n",
    "        to_scale = self.fft.embedding_inv(values)\n",
    "\n",
    "        # Multiply by scaling factor, and split up real and imaginary parts.\n",
    "        message = [0] * plain_len\n",
    "        for i in range(num_values):\n",
    "            message[i] = int(to_scale[i].real * scaling_factor + 0.5)\n",
    "            message[i + num_values] = int(to_scale[i].imag * scaling_factor + 0.5)\n",
    "\n",
    "        return Plaintext(Polynomial(plain_len, message), scaling_factor)\n",
    "\n",
    "\n",
    "    def decode(self, plain):\n",
    "        \"\"\"Decodes a plaintext polynomial.\n",
    "\n",
    "        Decodes a plaintext polynomial back to a list of integers.\n",
    "\n",
    "        Args:\n",
    "            plain (Plaintext): Plaintext to decode.\n",
    "\n",
    "        Returns:\n",
    "            A decoded list of integers.\n",
    "        \"\"\"\n",
    "        if not isinstance(plain, Plaintext):\n",
    "            raise ValueError(\"Input to decode must be a Plaintext\")\n",
    "\n",
    "        plain_len = len(plain.poly.coeffs)\n",
    "        num_values = plain_len >> 1\n",
    "\n",
    "        # Divide by scaling factor, and turn back into a complex number.\n",
    "        message = [0] * num_values\n",
    "        for i in range(num_values):\n",
    "            message[i] = complex(plain.poly.coeffs[i] / plain.scaling_factor,\n",
    "                                 plain.poly.coeffs[i + num_values] / plain.scaling_factor)\n",
    "\n",
    "        # Compute canonical embedding variant.\n",
    "        return self.fft.embedding(message)\n"
   ]
  },
  {
   "cell_type": "code",
   "execution_count": 23,
   "metadata": {},
   "outputs": [
    {
     "data": {
      "text/plain": [
       "array([28.+0.j        , -4.+9.65685425j, -4.+4.j        , -4.+1.65685425j,\n",
       "       -4.+0.j        , -4.-1.65685425j, -4.-4.j        , -4.-9.65685425j])"
      ]
     },
     "execution_count": 23,
     "metadata": {},
     "output_type": "execute_result"
    }
   ],
   "source": [
    "import numpy as np\n",
    "np.array([0.5, 0.3 + 0.2j, 0.78, 0.88j]) * (1 << 30)\n",
    "np.fft.fft(np.arange(16), 8)"
   ]
  },
  {
   "cell_type": "code",
   "execution_count": 27,
   "metadata": {},
   "outputs": [
    {
     "name": "stdout",
     "output_type": "stream",
     "text": [
      "-68383068x^7 + -391013813x^6 + 24216163x^5 + 289910292x^4 + 115490928x^3 + -18981252x^2 + -268899682x + 424128020\n"
     ]
    }
   ],
   "source": [
    "\"\"\"Example of CKKS multiplication.\"\"\"\n",
    "\n",
    "from ckks.ckks_encoder import CKKSEncoder\n",
    "\n",
    "\n",
    "poly_degree = 8\n",
    "ciph_modulus = 1 << 600\n",
    "big_modulus = 1 << 1200\n",
    "scaling_factor = 1 << 30\n",
    "params = CKKSParameters(poly_degree=poly_degree,\n",
    "                        ciph_modulus=ciph_modulus,\n",
    "                        big_modulus=big_modulus,\n",
    "                        scaling_factor=scaling_factor)\n",
    "key_generator = CKKSKeyGenerator(params)\n",
    "\n",
    "public_key = key_generator.public_key\n",
    "secret_key = key_generator.secret_key\n",
    "relin_key = key_generator.relin_key\n",
    "\n",
    "encoder = CKKSEncoder(params)\n",
    "\n",
    "message1 = [0.5, 0.3 + 0.2j, 0.78, 0.88j]\n",
    "message2 = [0.2, 0.11, 0.4 + 0.67j, 0.9 + 0.99j]\n",
    "plain1 = encoder.encode(message1, scaling_factor)\n",
    "plain2 = encoder.encode(message2, scaling_factor)\n",
    "\n",
    "print(plain1)\n"
   ]
  },
  {
   "cell_type": "code",
   "execution_count": 30,
   "metadata": {},
   "outputs": [],
   "source": [
    "from numpy.polynomial import Polynomial\n",
    "\n",
    "class CKKSEncoder2:\n",
    "    \"\"\"Basic CKKS encoder to encode complex vectors into polynomials.\"\"\"\n",
    "    \n",
    "    def __init__(self, M: int):\n",
    "        \"\"\"Initialization of the encoder for M a power of 2. \n",
    "        \n",
    "        xi, which is an M-th root of unity will, be used as a basis for our computations.\n",
    "        \"\"\"\n",
    "        self.xi = np.exp(2 * np.pi * 1j / M)\n",
    "        self.M = M\n",
    "        \n",
    "    @staticmethod\n",
    "    def vandermonde(xi: np.complex128, M: int) -> np.array:\n",
    "        \"\"\"Computes the Vandermonde matrix from a m-th root of unity.\"\"\"\n",
    "        \n",
    "        N = M //2\n",
    "        matrix = []\n",
    "        # We will generate each row of the matrix\n",
    "        for i in range(N):\n",
    "            # For each row we select a different root\n",
    "            root = xi ** (2 * i + 1)\n",
    "            row = []\n",
    "\n",
    "            # Then we store its powers\n",
    "            for j in range(N):\n",
    "                row.append(root ** j)\n",
    "            matrix.append(row)\n",
    "        return matrix\n",
    "    \n",
    "    def sigma_inverse(self, b: np.array) -> Polynomial:\n",
    "        \"\"\"Encodes the vector b in a polynomial using an M-th root of unity.\"\"\"\n",
    "\n",
    "        # First we create the Vandermonde matrix\n",
    "        A = CKKSEncoder2.vandermonde(self.xi, self.M)\n",
    "\n",
    "        # Then we solve the system\n",
    "        coeffs = np.linalg.solve(A, b)\n",
    "\n",
    "        # Finally we output the polynomial\n",
    "        p = Polynomial(coeffs)\n",
    "        return p\n",
    "\n",
    "    def sigma(self, p: Polynomial) -> np.array:\n",
    "        \"\"\"Decodes a polynomial by applying it to the M-th roots of unity.\"\"\"\n",
    "\n",
    "        outputs = []\n",
    "        N = self.M //2\n",
    "\n",
    "        # We simply apply the polynomial on the roots\n",
    "        for i in range(N):\n",
    "            root = self.xi ** (2 * i + 1)\n",
    "            output = p(root)\n",
    "            outputs.append(output)\n",
    "        return np.array(outputs)"
   ]
  },
  {
   "cell_type": "code",
   "execution_count": 35,
   "metadata": {},
   "outputs": [
    {
     "data": {
      "text/latex": [
       "$x \\mapsto \\text{(0.395+0.27j)} + (\\text{(-0.22273863607376226+0.11667261889578022j)})\\,x + (\\text{(-0.2699999999999998-0.24499999999999983j)})\\,x^{2} + (\\text{(-0.017677669529663757-0.12374368670764557j)})\\,x^{3}$"
      ],
      "text/plain": [
       "Polynomial([ 0.395     +0.27j      , -0.22273864+0.11667262j,\n",
       "       -0.27      -0.245j     , -0.01767767-0.12374369j], domain=[-1.,  1.], window=[-1.,  1.], symbol='x')"
      ]
     },
     "execution_count": 35,
     "metadata": {},
     "output_type": "execute_result"
    }
   ],
   "source": [
    "CKKSEncoder2(8).sigma_inverse([0.5, 0.3 + 0.2j, 0.78, 0.88j])"
   ]
  },
  {
   "cell_type": "code",
   "execution_count": null,
   "metadata": {},
   "outputs": [],
   "source": []
  }
 ],
 "metadata": {
  "kernelspec": {
   "display_name": ".venv",
   "language": "python",
   "name": "python3"
  },
  "language_info": {
   "codemirror_mode": {
    "name": "ipython",
    "version": 3
   },
   "file_extension": ".py",
   "mimetype": "text/x-python",
   "name": "python",
   "nbconvert_exporter": "python",
   "pygments_lexer": "ipython3",
   "version": "3.11.6"
  }
 },
 "nbformat": 4,
 "nbformat_minor": 2
}
