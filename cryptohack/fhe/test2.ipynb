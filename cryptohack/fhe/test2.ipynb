{
 "cells": [
  {
   "cell_type": "code",
   "execution_count": 7,
   "metadata": {},
   "outputs": [],
   "source": [
    "import numpy as np\n",
    "import sympy as sp\n",
    "from math import cos, sin, pi, log\n"
   ]
  },
  {
   "cell_type": "code",
   "execution_count": 38,
   "metadata": {},
   "outputs": [
    {
     "data": {
      "text/latex": [
       "$x \\mapsto \\text{(1-7.395570986446986e-32j)} + (\\text{(3.1401849173675484e-16+0j)})\\,x + (\\text{(-2.465190328815662e-32-0.9999999999999993j)})\\,x^{2} + (\\text{(-3.1401849173675454e-16+9.860761315262648e-32j)})\\,x^{3}$"
      ],
      "text/plain": [
       "Polynomial([ 1.00000000e+00-7.39557099e-32j,  3.14018492e-16+0.00000000e+00j,\n",
       "       -2.46519033e-32-1.00000000e+00j, -3.14018492e-16+9.86076132e-32j], domain=[-1.,  1.], window=[-1.,  1.], symbol='x')"
      ]
     },
     "execution_count": 38,
     "metadata": {},
     "output_type": "execute_result"
    }
   ],
   "source": [
    "from numpy.polynomial import Polynomial\n",
    "\n",
    "class CKKSEncoder:\n",
    "    \"\"\"Basic CKKS encoder to encode complex vectors into polynomials.\"\"\"\n",
    "    \n",
    "    def __init__(self, M: int):\n",
    "        \"\"\"Initialization of the encoder for M a power of 2. \n",
    "        \n",
    "        xi, which is an M-th root of unity will, be used as a basis for our computations.\n",
    "        \"\"\"\n",
    "        self.xi = np.exp(2 * np.pi * 1j / M)\n",
    "        self.M = M\n",
    "        \n",
    "    @staticmethod\n",
    "    def vandermonde(xi: np.complex128, M: int) -> np.array:\n",
    "        \"\"\"Computes the Vandermonde matrix from a m-th root of unity.\"\"\"\n",
    "        \n",
    "        N = M //2\n",
    "        matrix = []\n",
    "        # We will generate each row of the matrix\n",
    "        for i in range(N):\n",
    "            # For each row we select a different root\n",
    "            root = xi ** (2 * i + 1)\n",
    "            row = []\n",
    "\n",
    "            # Then we store its powers\n",
    "            for j in range(N):\n",
    "                row.append(root ** j)\n",
    "            matrix.append(row)\n",
    "        return matrix\n",
    "    \n",
    "    def sigma_inverse(self, b: np.array) -> Polynomial:\n",
    "        \"\"\"Encodes the vector b in a polynomial using an M-th root of unity.\"\"\"\n",
    "\n",
    "        # First we create the Vandermonde matrix\n",
    "        A = CKKSEncoder.vandermonde(self.xi, self.M)\n",
    "\n",
    "        # Then we solve the system\n",
    "        coeffs = np.linalg.solve(A, b)\n",
    "\n",
    "        # Finally we output the polynomial\n",
    "        p = Polynomial(coeffs)\n",
    "        return p\n",
    "\n",
    "    def sigma(self, p: Polynomial) -> np.array:\n",
    "        \"\"\"Decodes a polynomial by applying it to the M-th roots of unity.\"\"\"\n",
    "\n",
    "        outputs = []\n",
    "        N = self.M //2\n",
    "\n",
    "        # We simply apply the polynomial on the roots\n",
    "        for i in range(N):\n",
    "            root = self.xi ** (2 * i + 1)\n",
    "            output = p(root)\n",
    "            outputs.append(output)\n",
    "        return np.array(outputs)\n",
    "b = CKKSEncoder(8)\n",
    "b.sigma_inverse([2, 0, 2, 0])"
   ]
  },
  {
   "cell_type": "code",
   "execution_count": 28,
   "metadata": {},
   "outputs": [],
   "source": [
    "def embedding(coeffs):\n",
    "    \"\"\"Computes a variant of the canonical embedding on the given coefficients.\n",
    "\n",
    "    Computes the canonical embedding which consists of evaluating a given polynomial at roots of unity\n",
    "    that are indexed 1 (mod 4), w, w^5, w^9, ...\n",
    "    The evaluations are returned in the order: w, w^5, w^(5^2), ...\n",
    "\n",
    "    Args:\n",
    "        coeffs (list): List of complex numbers to transform.\n",
    "\n",
    "    Returns:\n",
    "        List of transformed coefficients.\n",
    "    \"\"\"\n",
    "    fft_length = 8\n",
    "    num_slots = fft_length // 4\n",
    "    roots_of_unity = [0] * fft_length\n",
    "    roots_of_unity_inv = [0] * fft_length\n",
    "    for i in range(fft_length):\n",
    "        angle = 2 * pi * i / fft_length\n",
    "        roots_of_unity[i] = complex(cos(angle), sin(angle))\n",
    "        roots_of_unity_inv[i] = complex(cos(-angle), sin(-angle))\n",
    "    rot_group = [1] * num_slots\n",
    "    for i in range(1, num_slots):\n",
    "        rot_group[i] = (5 * rot_group[i - 1]) % fft_length\n",
    "\n",
    "    num_coeffs = len(coeffs)\n",
    "    result = coeffs\n",
    "    log_num_coeffs = int(log(num_coeffs, 2))\n",
    "    for logm in range(1, log_num_coeffs + 1):\n",
    "        idx_mod = 1 << (logm + 2)\n",
    "        gap = fft_length // idx_mod\n",
    "        for j in range(0, num_coeffs, (1 << logm)):\n",
    "            for i in range(1 << (logm - 1)):\n",
    "                index_even = j + i\n",
    "                index_odd = j + i + (1 << (logm - 1))\n",
    "\n",
    "                rou_idx = (rot_group[i] % idx_mod) * gap\n",
    "                omega_factor = roots_of_unity[rou_idx] * result[index_odd]\n",
    "\n",
    "                butterfly_plus = result[index_even] + omega_factor\n",
    "                butterfly_minus = result[index_even] - omega_factor\n",
    "\n",
    "                result[index_even] = butterfly_plus\n",
    "                result[index_odd] = butterfly_minus\n",
    "    return result"
   ]
  },
  {
   "cell_type": "code",
   "execution_count": 33,
   "metadata": {},
   "outputs": [
    {
     "data": {
      "text/plain": [
       "[(4+0j), (4+0j), 0j, 0j]"
      ]
     },
     "execution_count": 33,
     "metadata": {},
     "output_type": "execute_result"
    }
   ],
   "source": [
    "embedding([2,0,2,0])"
   ]
  },
  {
   "cell_type": "code",
   "execution_count": 32,
   "metadata": {},
   "outputs": [
    {
     "data": {
      "text/plain": [
       "array([1.+0.j, 0.+0.j, 1.+0.j, 0.+0.j])"
      ]
     },
     "execution_count": 32,
     "metadata": {},
     "output_type": "execute_result"
    }
   ],
   "source": [
    "np.fft.ifft2([2, 0, 2, 0], n=4)"
   ]
  },
  {
   "cell_type": "code",
   "execution_count": 25,
   "metadata": {},
   "outputs": [
    {
     "name": "stdout",
     "output_type": "stream",
     "text": [
      "Encoded Polynomial Coefficients: [4.+0.j 2.-2.j 0.+0.j 2.+2.j 4.+0.j 2.-2.j 0.+0.j 2.+2.j]\n",
      "Decoded Message: [2.+0.j 0.+0.j 2.+0.j 0.+0.j 0.+0.j 0.+0.j 0.+0.j 0.+0.j]\n"
     ]
    }
   ],
   "source": [
    "import numpy as np\n",
    "\n",
    "def canonical_embedding_encoder(message, n):\n",
    "    # if len(message) != n:\n",
    "    #     raise ValueError(\"Message length must be equal to the polynomial degree n.\")\n",
    "    \n",
    "    encoded_poly = np.fft.fft(message, n=n)\n",
    "    # encoded_poly = np.round(encoded_poly.real).astype(int)\n",
    "\n",
    "    return encoded_poly\n",
    "\n",
    "def canonical_embedding_decoder(encoded_poly, n):\n",
    "    decoded_poly = np.fft.ifft(encoded_poly, n=n)\n",
    "    # decoded_message = np.round(decoded_poly.real).astype(int)\n",
    "\n",
    "    return decoded_poly\n",
    "\n",
    "# Example usage\n",
    "message = [2, 0, 2, 0]\n",
    "n = 8\n",
    "\n",
    "# Encoding the message\n",
    "encoded_poly = canonical_embedding_encoder(message, n)\n",
    "print(\"Encoded Polynomial Coefficients:\", encoded_poly)\n",
    "\n",
    "# Decoding the polynomial\n",
    "decoded_message = canonical_embedding_decoder(encoded_poly, n)\n",
    "print(\"Decoded Message:\", decoded_message)"
   ]
  }
 ],
 "metadata": {
  "kernelspec": {
   "display_name": ".venv",
   "language": "python",
   "name": "python3"
  },
  "language_info": {
   "codemirror_mode": {
    "name": "ipython",
    "version": 3
   },
   "file_extension": ".py",
   "mimetype": "text/x-python",
   "name": "python",
   "nbconvert_exporter": "python",
   "pygments_lexer": "ipython3",
   "version": "3.11.6"
  }
 },
 "nbformat": 4,
 "nbformat_minor": 2
}
