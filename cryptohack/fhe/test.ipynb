{
 "cells": [
  {
   "cell_type": "code",
   "execution_count": 1,
   "metadata": {},
   "outputs": [
    {
     "name": "stdout",
     "output_type": "stream",
     "text": [
      "[(0.4024999998509884+0.4150000000372529j), (-0.26337365712970495+0.14156470727175474j), (-0.12904698681086302+0.01590990275144577j), (-0.2616360504180193-0.32214565947651863j)]\n",
      "[(0.20000000042976923+2.5262619773869233e-09j), (0.11000000033253365+6.007523922768598e-10j), (0.4000000000937715+0.669999998864071j), (0.8999999985478793+0.9899999981579262j)]\n"
     ]
    }
   ],
   "source": [
    "\"\"\"Example of CKKS multiplication.\"\"\"\n",
    "\n",
    "from ckks.ckks_encoder import CKKSEncoder\n",
    "from ckks.ckks_key_generator import CKKSKeyGenerator\n",
    "from ckks.ckks_parameters import CKKSParameters\n",
    "from ckks.ckks_evaluator import CKKSEvaluator\n",
    "\n",
    "\n",
    "poly_degree = 8\n",
    "ciph_modulus = 1 << 600\n",
    "big_modulus = 1 << 1200\n",
    "scaling_factor = 1 << 30\n",
    "params = CKKSParameters(poly_degree=poly_degree,\n",
    "                        ciph_modulus=ciph_modulus,\n",
    "                        big_modulus=big_modulus,\n",
    "                        scaling_factor=scaling_factor)\n",
    "key_generator = CKKSKeyGenerator(params)\n",
    "\n",
    "public_key = key_generator.public_key\n",
    "secret_key = key_generator.secret_key\n",
    "relin_key = key_generator.relin_key\n",
    "\n",
    "encoder = CKKSEncoder(params)\n",
    "evaluator = CKKSEvaluator(params)\n",
    "\n",
    "message1 = [0.5, 0.3 + 0.2j, 0.78, 0.88j]\n",
    "message2 = [0.2, 0.11, 0.4 + 0.67j, 0.9 + 0.99j]\n",
    "plain1 = encoder.encode(message1, scaling_factor)\n",
    "plain2 = encoder.encode(message2, scaling_factor)\n",
    "\n",
    "print(encoder.decode(plain2))\n"
   ]
  },
  {
   "cell_type": "code",
   "execution_count": 52,
   "metadata": {},
   "outputs": [
    {
     "name": "stdout",
     "output_type": "stream",
     "text": [
      "[ 1.00000000e+00+0.00000000e+00j  9.23879533e-01+3.82683432e-01j\n",
      "  7.07106781e-01+7.07106781e-01j  3.82683432e-01+9.23879533e-01j\n",
      "  6.12323400e-17+1.00000000e+00j -3.82683432e-01+9.23879533e-01j\n",
      " -7.07106781e-01+7.07106781e-01j -9.23879533e-01+3.82683432e-01j\n",
      " -1.00000000e+00+1.22464680e-16j -9.23879533e-01-3.82683432e-01j\n",
      " -7.07106781e-01-7.07106781e-01j -3.82683432e-01-9.23879533e-01j\n",
      " -1.83697020e-16-1.00000000e+00j  3.82683432e-01-9.23879533e-01j\n",
      "  7.07106781e-01-7.07106781e-01j  9.23879533e-01-3.82683432e-01j]\n",
      "Evaluations at the 16-th roots of unity: [np.complex128(2+0j), np.complex128(1.7071067811865475+0.7071067811865476j), np.complex128(1+1.0000000000000002j), np.complex128(0.29289321881345254+0.7071067811865477j), np.complex128(1.2246467991473532e-16j), np.complex128(0.29289321881345254-0.7071067811865475j), np.complex128(0.9999999999999998-1j), np.complex128(1.7071067811865475-0.7071067811865477j), np.complex128(2-2.4492935982947064e-16j), np.complex128(1.707106781186548+0.7071067811865475j), np.complex128(1.0000000000000004+1.0000000000000002j), np.complex128(0.2928932188134534+0.7071067811865483j), np.complex128(3.6739403974420594e-16j), np.complex128(0.29289321881345287-0.7071067811865479j), np.complex128(0.9999999999999996-1j), np.complex128(1.7071067811865466-0.7071067811865485j)]\n",
      "Coefficients from IFFT: [ 1.00000000e+00 -1.12758366e-16 -2.15887713e-16 -4.22765539e-17\n",
      "  1.38777878e-17 -1.20378108e-17  0.00000000e+00  3.70363110e-17\n",
      "  0.00000000e+00  8.44960685e-17  2.15887713e-16  7.05388511e-17\n",
      " -1.38777878e-17  1.01532448e-16  1.00000000e+00 -1.26530948e-16]\n",
      "Reconstructed Polynomial: -1.26530948166991e-16*x**15 + 1.0*x**14 + 1.01532447959152e-16*x**13 - 1.38777878078145e-17*x**12 + 7.05388510827424e-17*x**11 + 2.15887713069019e-16*x**10 + 8.44960685174308e-17*x**9 + 3.70363109876652e-17*x**7 - 1.20378107798271e-17*x**5 + 1.38777878078145e-17*x**4 - 4.22765538607846e-17*x**3 - 2.15887713069019e-16*x**2 - 1.12758365739389e-16*x + 1.0\n",
      "Sympy Polynomial: Poly(-1.26530948166991e-16*x**15 + 1.0*x**14 + 1.01532447959152e-16*x**13 - 1.38777878078145e-17*x**12 + 7.05388510827424e-17*x**11 + 2.15887713069019e-16*x**10 + 8.44960685174308e-17*x**9 + 3.70363109876652e-17*x**7 - 1.20378107798271e-17*x**5 + 1.38777878078145e-17*x**4 - 4.22765538607846e-17*x**3 - 2.15887713069019e-16*x**2 - 1.12758365739389e-16*x + 1.0, x, domain='RR')\n"
     ]
    }
   ],
   "source": [
    "import numpy as np\n",
    "import sympy as sp\n",
    "\n",
    "def polynomial(x):\n",
    "    return x**2 + 1\n",
    "\n",
    "def roots_of_unity(n):\n",
    "    \"\"\"Calculate the n-th roots of unity.\"\"\"\n",
    "    return np.exp(2j * np.pi * np.arange(n) / n)\n",
    "\n",
    "def reconstruct_polynomial(fft_length):\n",
    "    # Ensure the FFT length is at least 4\n",
    "    if fft_length < 4:\n",
    "        raise ValueError(\"FFT length must be at least 4.\")\n",
    "    \n",
    "    # Calculate the n-th roots of unity\n",
    "    roots = roots_of_unity(fft_length)\n",
    "    print(roots)\n",
    "    # Evaluate the polynomial at the roots of unity\n",
    "    evaluations = [polynomial(r) for r in roots]\n",
    "    \n",
    "    # Use numpy's IFFT to get the polynomial coefficients\n",
    "    coefficients = np.fft.ifft(evaluations).real\n",
    "\n",
    "    # Create the polynomial using sympy\n",
    "    x = sp.symbols('x')\n",
    "    reconstructed_poly = sum(c * x**i for i, c in enumerate(coefficients))\n",
    "\n",
    "    # Print results\n",
    "    print(f\"Evaluations at the {fft_length}-th roots of unity: {evaluations}\")\n",
    "    print(f\"Coefficients from IFFT: {coefficients}\")\n",
    "    print(f\"Reconstructed Polynomial: {reconstructed_poly}\")\n",
    "\n",
    "    # Convert to sympy polynomial for exact representation\n",
    "    reconstructed_poly_sympy = sp.poly(reconstructed_poly, x)\n",
    "    print(f\"Sympy Polynomial: {reconstructed_poly_sympy}\")\n",
    "\n",
    "# Example usage with FFT length 8\n",
    "reconstruct_polynomial(fft_length=16)"
   ]
  },
  {
   "cell_type": "code",
   "execution_count": 67,
   "metadata": {},
   "outputs": [
    {
     "name": "stdout",
     "output_type": "stream",
     "text": [
      "Encoded Polynomial Coefficients: [4 3 2 1 0 1 2 3 4 3 2 1 0 1 2 3]\n",
      "Decoded Message: [2 0 1 0 0 0 0 0 0 0 0 0 0 0 1 0]\n"
     ]
    }
   ],
   "source": [
    "import numpy as np\n",
    "\n",
    "def canonical_embedding_encoder(message, n, q):\n",
    "    # if len(message) != n:\n",
    "    #     raise ValueError(\"Message length must be equal to the polynomial degree n.\")\n",
    "    \n",
    "    encoded_poly = np.fft.fft(message, n=n)\n",
    "    encoded_poly = np.round(encoded_poly.real).astype(int) % q\n",
    "\n",
    "    return encoded_poly\n",
    "\n",
    "def canonical_embedding_decoder(encoded_poly, n, q):\n",
    "    decoded_poly = np.fft.ifft(encoded_poly, n=n)\n",
    "    decoded_message = np.round(decoded_poly.real).astype(int) % q\n",
    "\n",
    "    return decoded_message\n",
    "\n",
    "# Example usage\n",
    "message = [2, 0, 2, 0]\n",
    "n = 16\n",
    "q = 16\n",
    "\n",
    "# Encoding the message\n",
    "encoded_poly = canonical_embedding_encoder(message, n, q)\n",
    "print(\"Encoded Polynomial Coefficients:\", encoded_poly)\n",
    "\n",
    "# Decoding the polynomial\n",
    "decoded_message = canonical_embedding_decoder(encoded_poly, n, q)\n",
    "print(\"Decoded Message:\", decoded_message)"
   ]
  },
  {
   "cell_type": "code",
   "execution_count": 59,
   "metadata": {},
   "outputs": [
    {
     "data": {
      "text/plain": [
       "array([4.+0.j, 0.+0.j, 4.+0.j, 0.+0.j])"
      ]
     },
     "execution_count": 59,
     "metadata": {},
     "output_type": "execute_result"
    }
   ],
   "source": [
    "np.fft.fft([2,0,2,0], n=4)"
   ]
  },
  {
   "cell_type": "code",
   "execution_count": 63,
   "metadata": {},
   "outputs": [
    {
     "data": {
      "text/plain": [
       "[1.0, 0j, (0.7071067811865476-0.7071067811865476j), 0j]"
      ]
     },
     "execution_count": 63,
     "metadata": {},
     "output_type": "execute_result"
    }
   ],
   "source": [
    "from ckks.util.ntt import FFTContext\n",
    "FFTContext(16).embedding_inv([2,0,2,0])"
   ]
  },
  {
   "cell_type": "code",
   "execution_count": 11,
   "metadata": {},
   "outputs": [],
   "source": [
    "import numpy as np\n",
    "\n",
    "def canonical_embedding(coefficients):\n",
    "    \"\"\"\n",
    "    Computes the canonical embedding of a polynomial evaluated at specific roots of unity.\n",
    "    \n",
    "    The polynomial is evaluated at w, w^5, w^25, ..., where w is a primitive root of unity,\n",
    "    and the powers of w are indexed 1 (mod 4) such as 1, 5, 5^2, 5^3, ...\n",
    "    \n",
    "    :param coefficients: List of coefficients of the polynomial (from lowest to highest degree).\n",
    "    :return: List of evaluations of the polynomial at specific roots of unity.\n",
    "    \"\"\"\n",
    "    # Degree of the polynomial is determined by the number of coefficients.\n",
    "    n = len(coefficients)\n",
    "    \n",
    "    # Primitive nth root of unity, where n is large enough to avoid truncation errors\n",
    "    w = np.exp(2j * np.pi / n)\n",
    "    \n",
    "    # Powers of w (1 mod 4): 1, 5, 25, 125, ...\n",
    "    powers_of_w = []\n",
    "    power = 1\n",
    "    while power < n:\n",
    "        powers_of_w.append(w**power)\n",
    "        power *= 5\n",
    "    \n",
    "    # Polynomial evaluation at w^1, w^5, w^25, ...\n",
    "    evaluations = []\n",
    "    for w_power in powers_of_w:\n",
    "        eval_value = sum(c * (w_power**i) for i, c in enumerate(coefficients))\n",
    "        evaluations.append(eval_value)\n",
    "    \n",
    "    return evaluations"
   ]
  },
  {
   "cell_type": "code",
   "execution_count": 61,
   "metadata": {},
   "outputs": [
    {
     "name": "stdout",
     "output_type": "stream",
     "text": [
      "[(6.499813138042575+6.58220533833497j), (1.808830921755325-1.8042950079974285j), (-0.25717245092328955-2.3395646512156842j), (-4.0514716088746106-2.4383456791218574j)]\n",
      "[np.complex128(0.06783661991357809+0.3973524905741215j)]\n"
     ]
    }
   ],
   "source": [
    "print(encoder.fft.embedding([1, 2, 3, 4]))\n",
    "print(canonical_embedding([(0.4024999998509884+0.4150000000372529j), (-0.26337365712970495+0.14156470727175474j), (-0.12904698681086302+0.01590990275144577j), (-0.2616360504180193-0.32214565947651863j)]))"
   ]
  },
  {
   "cell_type": "code",
   "execution_count": 116,
   "metadata": {},
   "outputs": [
    {
     "data": {
      "text/plain": [
       "-0.650629191439388"
      ]
     },
     "execution_count": 116,
     "metadata": {},
     "output_type": "execute_result"
    }
   ],
   "source": [
    "from math import sqrt\n",
    "-(35 + 15*sqrt(6))**(1/3)/3 + 1/3 + 5/(3*(35 + 15*sqrt(6))**(1/3))"
   ]
  },
  {
   "cell_type": "code",
   "execution_count": 90,
   "metadata": {},
   "outputs": [],
   "source": [
    "from math import cos, sin, pi, log\n",
    "fft_length = 16\n",
    "num_slots = fft_length // 4\n",
    "roots_of_unity = [0] * fft_length\n",
    "roots_of_unity_inv = [0] * fft_length\n",
    "for i in range(fft_length):\n",
    "    angle = 2 * pi * i / fft_length\n",
    "    roots_of_unity[i] = complex(cos(angle), sin(angle))\n",
    "    roots_of_unity_inv[i] = complex(cos(-angle), sin(-angle))\n",
    "rot_group = [1] * num_slots\n",
    "for i in range(1, num_slots):\n",
    "    rot_group[i] = (5 * rot_group[i - 1]) % fft_length"
   ]
  },
  {
   "cell_type": "code",
   "execution_count": 103,
   "metadata": {},
   "outputs": [
    {
     "name": "stdout",
     "output_type": "stream",
     "text": [
      "[8, 3, 7, 15]\n",
      "[8, 3, (-5.54327719506772+2.2961005941905386j), 15]\n",
      "[8, 18, (-5.54327719506772+2.2961005941905386j), 15]\n",
      "[8, 18, (-5.54327719506772+2.2961005941905386j), (4.592201188381077+11.08655439013544j)]\n",
      "[26, 18, (-5.54327719506772+2.2961005941905386j), (4.592201188381077+11.08655439013544j)]\n",
      "[26, (-7.0710678118654755+7.0710678118654755j), (-5.54327719506772+2.2961005941905386j), (4.592201188381077+11.08655439013544j)]\n",
      "[26, (-7.0710678118654755+7.0710678118654755j), (-0.9510760066866428+13.382654984325978j), (4.592201188381077+11.08655439013544j)]\n",
      "[26, (-7.0710678118654755+7.0710678118654755j), (-0.9510760066866428+13.382654984325978j), (-13.38265498432598+0.9510760066866428j)]\n"
     ]
    }
   ],
   "source": [
    "from ckks.util.bit_operations import bit_reverse_vec, reverse_bits\n",
    "coeffs = [1,3,7,15]\n",
    "num_coeffs = len(coeffs)\n",
    "result = coeffs.copy()\n",
    "log_num_coeffs = int(log(num_coeffs, 2))\n",
    "\n",
    "for logm in range(log_num_coeffs, 0, -1):\n",
    "    idx_mod = 1 << (logm + 2)\n",
    "    gap = fft_length // idx_mod\n",
    "    for j in range(0, num_coeffs, 1 << logm):  # j=0, 2^(logm), 2^(logm+1), ...\n",
    "        for i in range(1 << (logm - 1)): # i=0...2^(logm-1)\n",
    "            index_even = j + i # 0...2^(logm-1) + [0, 1, 2, 4]\n",
    "            index_odd = j + i + (1 << (logm - 1))\n",
    "            rou_idx = (rot_group[i] % idx_mod) * gap\n",
    "\n",
    "            butterfly_plus = result[index_even] + result[index_odd]\n",
    "            butterfly_minus = result[index_even] - result[index_odd]\n",
    "            butterfly_minus *= roots_of_unity_inv[rou_idx]\n",
    "            result[index_even] = butterfly_plus\n",
    "            print(result)\n",
    "            result[index_odd] = butterfly_minus\n",
    "            print(result)\n",
    "\n",
    "to_scale_down = bit_reverse_vec(result)\n",
    "\n",
    "for i in range(num_coeffs):\n",
    "    to_scale_down[i] /= num_coeffs\n"
   ]
  },
  {
   "cell_type": "code",
   "execution_count": 100,
   "metadata": {},
   "outputs": [
    {
     "data": {
      "text/plain": [
       "2"
      ]
     },
     "execution_count": 100,
     "metadata": {},
     "output_type": "execute_result"
    }
   ],
   "source": [
    "1 << (log_num_coeffs - 1)"
   ]
  },
  {
   "cell_type": "code",
   "execution_count": null,
   "metadata": {},
   "outputs": [],
   "source": []
  }
 ],
 "metadata": {
  "kernelspec": {
   "display_name": ".venv",
   "language": "python",
   "name": "python3"
  },
  "language_info": {
   "codemirror_mode": {
    "name": "ipython",
    "version": 3
   },
   "file_extension": ".py",
   "mimetype": "text/x-python",
   "name": "python",
   "nbconvert_exporter": "python",
   "pygments_lexer": "ipython3",
   "version": "3.11.6"
  }
 },
 "nbformat": 4,
 "nbformat_minor": 2
}
