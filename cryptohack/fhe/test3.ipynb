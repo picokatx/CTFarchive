{
 "cells": [
  {
   "cell_type": "code",
   "execution_count": 24,
   "metadata": {},
   "outputs": [
    {
     "name": "stdout",
     "output_type": "stream",
     "text": [
      "[1, 5]\n"
     ]
    },
    {
     "data": {
      "text/plain": [
       "[(8.242640687119284+4.242640687119286j),\n",
       " (-0.24264068711928544-4.242640687119286j),\n",
       " (-3.414213562373095-1.4142135623730951j),\n",
       " (-0.5857864376269049+1.4142135623730951j)]"
      ]
     },
     "execution_count": 24,
     "metadata": {},
     "output_type": "execute_result"
    }
   ],
   "source": [
    "from math import log, cos, sin, pi\n",
    "N = 8\n",
    "def embedding(coeffs):\n",
    "    \"\"\"Computes a variant of the canonical embedding on the given coefficients.\n",
    "\n",
    "    Computes the canonical embedding which consists of evaluating a given polynomial at roots of unity\n",
    "    that are indexed 1 (mod 4), w, w^5, w^9, ...\n",
    "    The evaluations are returned in the order: w, w^5, w^(5^2), ...\n",
    "\n",
    "    Args:\n",
    "        coeffs (list): List of complex numbers to transform.\n",
    "\n",
    "    Returns:\n",
    "        List of transformed coefficients.\n",
    "    \"\"\"\n",
    "    fft_length = N\n",
    "    num_slots = fft_length // 4\n",
    "    roots_of_unity = [0] * fft_length\n",
    "    roots_of_unity_inv = [0] * fft_length\n",
    "    for i in range(fft_length):\n",
    "        angle = 2 * pi * i / fft_length\n",
    "        roots_of_unity[i] = complex(cos(angle), sin(angle))\n",
    "        roots_of_unity_inv[i] = complex(cos(-angle), sin(-angle))\n",
    "    rot_group = [1] * num_slots\n",
    "    for i in range(1, num_slots):\n",
    "        rot_group[i] = (5 * rot_group[i - 1]) % fft_length\n",
    "    print(rot_group)\n",
    "    num_coeffs = len(coeffs)\n",
    "    result = coeffs\n",
    "    log_num_coeffs = int(log(num_coeffs, 2))\n",
    "    for logm in range(1, log_num_coeffs + 1):\n",
    "        idx_mod = 1 << (logm + 2)\n",
    "        gap = fft_length // idx_mod\n",
    "        for j in range(0, num_coeffs, (1 << logm)):\n",
    "            for i in range(1 << (logm - 1)):\n",
    "                index_even = j + i\n",
    "                index_odd = j + i + (1 << (logm - 1))\n",
    "\n",
    "                rou_idx = (rot_group[i] % idx_mod) * gap\n",
    "                omega_factor = roots_of_unity[rou_idx] * result[index_odd]\n",
    "\n",
    "                butterfly_plus = result[index_even] + omega_factor\n",
    "                butterfly_minus = result[index_even] - omega_factor\n",
    "\n",
    "                result[index_even] = butterfly_plus\n",
    "                result[index_odd] = butterfly_minus\n",
    "    return result\n",
    "embedding([1,2,3,4])"
   ]
  },
  {
   "cell_type": "code",
   "execution_count": 23,
   "metadata": {},
   "outputs": [
    {
     "name": "stdout",
     "output_type": "stream",
     "text": [
      "[1, 5]\n"
     ]
    },
    {
     "data": {
      "text/plain": [
       "[(8.242640687119284+4.242640687119286j),\n",
       " (-0.24264068711928544-4.242640687119286j),\n",
       " (-3.414213562373095-1.4142135623730951j),\n",
       " (-0.5857864376269049+1.4142135623730951j)]"
      ]
     },
     "execution_count": 23,
     "metadata": {},
     "output_type": "execute_result"
    }
   ],
   "source": [
    "from math import log, cos, sin, pi\n",
    "\n",
    "# Define the FFT length as a constant (8 in this case)\n",
    "N = 8\n",
    "\n",
    "def embedding2(coeffs):\n",
    "    \"\"\"Computes a variant of the canonical embedding on the given coefficients.\n",
    "\n",
    "    Computes the canonical embedding which consists of evaluating a given polynomial at roots of unity\n",
    "    that are indexed 1 (mod 4), w, w^5, w^9, ...\n",
    "    The evaluations are returned in the order: w, w^5, w^(5^2), ...\n",
    "\n",
    "    Args:\n",
    "        coeffs (list): List of complex numbers to transform.\n",
    "\n",
    "    Returns:\n",
    "        List of transformed coefficients.\n",
    "    \"\"\"\n",
    "\n",
    "    # FFT parameters\n",
    "    fft_length = N  # Length of the FFT\n",
    "    num_slots = fft_length // 4  # Number of rotation slots (used in cyclic group)\n",
    "\n",
    "    # Arrays for roots of unity (and inverse roots for inverse FFT if needed)\n",
    "    roots_of_unity = [0] * fft_length  # Forward roots of unity\n",
    "    roots_of_unity_inv = [0] * fft_length  # Inverse roots of unity\n",
    "\n",
    "    # Compute the roots of unity for FFT (points on the unit circle in the complex plane)\n",
    "    for i in range(fft_length):\n",
    "        angle = 2 * pi * i / fft_length  # Angle for each root of unity\n",
    "        roots_of_unity[i] = complex(cos(angle), sin(angle))  # Compute root of unity at index i\n",
    "        roots_of_unity_inv[i] = complex(cos(-angle), sin(-angle))  # Compute inverse root of unity\n",
    "\n",
    "    # Compute the rotation group used in FFT\n",
    "    rot_group = [1] * num_slots  # Initialize rotation group array\n",
    "    for i in range(1, num_slots):\n",
    "        rot_group[i] = (5 * rot_group[i - 1]) % fft_length  # Compute each element using modular arithmetic\n",
    "    print(rot_group)  # Print the rotation group (useful for debugging)\n",
    "\n",
    "    # Initialize parameters for the FFT loop\n",
    "    num_coeffs = len(coeffs)  # Number of coefficients (input length)\n",
    "    result = coeffs  # Initialize result with the input coefficients\n",
    "    log_num_coeffs = int(log(num_coeffs, 2))  # Logarithm base 2 of the number of coefficients\n",
    "\n",
    "    # Perform the FFT computation using a log(N) loop\n",
    "    for logm in range(1, log_num_coeffs + 1):\n",
    "        idx_mod = 1 << (logm + 2)  # Calculate modulus for rotation group indices\n",
    "        gap = fft_length // idx_mod  # Determine the gap between elements in the roots of unity\n",
    "\n",
    "        # Inner loop to perform butterfly operations for FFT\n",
    "        for j in range(0, num_coeffs, (1 << logm)):\n",
    "            for i in range(1 << (logm - 1)):\n",
    "                # Indices for even and odd parts of the butterfly computation\n",
    "                index_even = j + i\n",
    "                index_odd = j + i + (1 << (logm - 1))\n",
    "\n",
    "                # Calculate the twiddle factor (omega factor) from the roots of unity\n",
    "                rou_idx = (rot_group[i] % idx_mod) * gap\n",
    "                omega_factor = roots_of_unity[rou_idx] * result[index_odd]\n",
    "\n",
    "                # Compute the butterfly operation (combining even and odd parts)\n",
    "                butterfly_plus = result[index_even] + omega_factor  # Addition part\n",
    "                butterfly_minus = result[index_even] - omega_factor  # Subtraction part\n",
    "\n",
    "                # Update the result array with the butterfly results\n",
    "                result[index_even] = butterfly_plus\n",
    "                result[index_odd] = butterfly_minus\n",
    "\n",
    "    # Return the transformed coefficients (result after applying FFT)\n",
    "    return result\n",
    "embedding2([1,2,3,4])"
   ]
  }
 ],
 "metadata": {
  "kernelspec": {
   "display_name": ".venv",
   "language": "python",
   "name": "python3"
  },
  "language_info": {
   "codemirror_mode": {
    "name": "ipython",
    "version": 3
   },
   "file_extension": ".py",
   "mimetype": "text/x-python",
   "name": "python",
   "nbconvert_exporter": "python",
   "pygments_lexer": "ipython3",
   "version": "3.11.6"
  }
 },
 "nbformat": 4,
 "nbformat_minor": 2
}
