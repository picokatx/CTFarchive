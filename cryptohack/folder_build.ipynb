{
 "cells": [
  {
   "cell_type": "markdown",
   "metadata": {},
   "source": [
    "- checked triple_des soln. Operated under the assumption that pycryptodome's weak key filter covered all cases\n",
    "- literally cannot check pad_thai"
   ]
  },
  {
   "cell_type": "code",
   "execution_count": null,
   "metadata": {},
   "outputs": [],
   "source": [
    "# // Grab cats\n",
    "# a = document.getElementsByClassName(\"challengeInfo\") \n",
    "# alst = \"[\"\n",
    "# for (var i=0;i<a.length-1;i++) {alst+=\"\\\"\"+a[i].getElementsByTagName(\"h4\")[0].textContent+\"\\\", \"} \n",
    "# alst += \"\\\"\"+a[a.length-1].getElementsByTagName(\"h4\")[0].textContent + \"\\\"]\"\n",
    "\n",
    "# // Grab Challenges\n",
    "# stage_list = \"[\"\n",
    "# stages = document.getElementsByClassName(\"stage\")\n",
    "# for (var i=0;i<stages.length;i++) {\n",
    "#   a = stages[i].getElementsByClassName(\"challenge-text truncate\") \n",
    "#   alst = \"[\"\n",
    "#   for (var j=0;j<a.length-1;j++) {alst+=\"\\\"\"+a[j].textContent+\"\\\", \"} \n",
    "#   alst += \"\\\"\"+a[a.length-1].textContent + \"\\\"]\"\n",
    "#   stage_list+=alst+(i!=stages.length-1 ? \", \" : \"\")\n",
    "# }\n",
    "# stage_list += \"]\""
   ]
  },
  {
   "cell_type": "code",
   "execution_count": 1,
   "metadata": {},
   "outputs": [],
   "source": [
    "chals = [[\"Working with Fields\", \"Generators of Groups\", \"Computing Public Values\", \"Computing Shared Secrets\", \"Deriving Symmetric Keys\"], [\"Parameter Injection\", \"Export-grade\", \"Static Client\"], [\"Additive\", \"Static Client 2\"], [\"Script Kiddie\", \"The Matrix\", \"The Matrix Reloaded\", \"The Matrix Revolutions\"]]\n",
    "cats = [\"Starter\", \"Man In The Middle\", \"Group Theory\", \"Misc\"]\n",
    "section = \"diffie_hellman\"\n",
    "from string import ascii_letters\n",
    "import os\n",
    "import re\n",
    "\n",
    "i = 0\n",
    "allow = ascii_letters+\"0123456789_\"\n",
    "os.mkdir(section)\n",
    "\n",
    "for cat in cats:\n",
    "    cat_name = re.sub(\"[^\"+allow+\"]\", \"_\", cat.lower())\n",
    "    os.mkdir(f\"{section}/{cat_name}\")\n",
    "    for chal in chals[i]:\n",
    "        chal_name = re.sub(\"[^\"+allow+\"]\", \"_\", chal.lower())\n",
    "        os.mkdir(f\"{section}/{cat_name}/{chal_name}\")\n",
    "        open(f\"{section}/{cat_name}/{chal_name}/run.ipynb\", 'w+')\n",
    "    i+=1"
   ]
  }
 ],
 "metadata": {
  "kernelspec": {
   "display_name": ".venv",
   "language": "python",
   "name": "python3"
  },
  "language_info": {
   "codemirror_mode": {
    "name": "ipython",
    "version": 3
   },
   "file_extension": ".py",
   "mimetype": "text/x-python",
   "name": "python",
   "nbconvert_exporter": "python",
   "pygments_lexer": "ipython3",
   "version": "3.11.6"
  }
 },
 "nbformat": 4,
 "nbformat_minor": 2
}
