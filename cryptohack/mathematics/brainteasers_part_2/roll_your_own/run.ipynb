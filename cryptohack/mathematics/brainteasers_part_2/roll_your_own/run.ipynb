{
 "cells": [
  {
   "cell_type": "code",
   "execution_count": 5,
   "metadata": {},
   "outputs": [
    {
     "name": "stdout",
     "output_type": "stream",
     "text": [
      "Prime generated: \n"
     ]
    },
    {
     "name": "stderr",
     "output_type": "stream",
     "text": [
      "100%|██████████| 100/100 [00:00<00:00, 44257.72it/s]"
     ]
    },
    {
     "name": "stdout",
     "output_type": "stream",
     "text": [
      "12838653956046955341576168892572062145380128530663410545379885887832420125003582209849580704916740629669294105249906527148932652940274356074004379124402503\n",
      "b'Generated my public key: \"0x1\"\\n'\n",
      "b'What is my private key: {\"error\": \"Invalid JSON\"}\\n'\n"
     ]
    },
    {
     "name": "stderr",
     "output_type": "stream",
     "text": [
      "\n"
     ]
    }
   ],
   "source": [
    "from pwnlib.tubes.remote import remote\n",
    "from Crypto.Util.number import long_to_bytes, bytes_to_long\n",
    "from json import dumps, loads\n",
    "from tqdm import tqdm\n",
    "\n",
    "r = remote(\"localhost\", 13403)\n",
    "print(r.recvuntil(b\": \").decode())\n",
    "q = bytes_to_long(bytes.fromhex(r.recvuntil(b\": \").decode().split(\"\\\"\")[1][2:]))\n",
    "n = 2\n",
    "g = 3\n",
    "for i in tqdm(range(100)):\n",
    "    while pow(g, q, n)!=1:\n",
    "        g+=1\n",
    "        if (g%1000)==0:\n",
    "            print(g)\n",
    "    g+=1\n",
    "g-=1\n",
    "print(q)\n",
    "r.send(dumps({\"g\": hex(g), \"n\": hex(n)}).encode()+b\"\\n\")\n",
    "print(r.recvline())\n",
    "r.send(b\"\\n\")\n",
    "print(r.recvline())"
   ]
  },
  {
   "cell_type": "code",
   "execution_count": 11,
   "metadata": {},
   "outputs": [],
   "source": [
    "from sympy import primitive_root\n",
    "\n",
    "def find_generator(q, n):\n",
    "    # Find a generator of the cyclic group modulo n\n",
    "    g = primitive_root(n)\n",
    "    \n",
    "    # Check if g^q ≡ 1 (mod n)\n",
    "    if pow(g, q, n) == 1:\n",
    "        return g\n",
    "    else:\n",
    "        return None\n",
    "\n",
    "# Example values for q and n (n is prime)\n",
    "q = 5\n",
    "n = 101**65537\n",
    "\n",
    "g = find_generator(q, n)\n",
    "print(f\"Generator g: {g}\")"
   ]
  },
  {
   "cell_type": "code",
   "execution_count": null,
   "metadata": {},
   "outputs": [],
   "source": [
    "from sympy.ntheory import discrete_log\n",
    "# pow(3, self.x, 2) = 1\n",
    "discrete_log(41, 15, 7)"
   ]
  },
  {
   "cell_type": "code",
   "execution_count": 3,
   "metadata": {},
   "outputs": [
    {
     "data": {
      "text/plain": [
       "0"
      ]
     },
     "execution_count": 3,
     "metadata": {},
     "output_type": "execute_result"
    }
   ],
   "source": [
    "from sympy.ntheory import discrete_log\n",
    "discrete_log(2, 1, 2)"
   ]
  },
  {
   "cell_type": "code",
   "execution_count": null,
   "metadata": {},
   "outputs": [],
   "source": [
    "947380957800774263069410821348974567669203913500428562448067038431492333945176391414293616780698164835774766042532978746540470111815996715003406118208057"
   ]
  },
  {
   "cell_type": "code",
   "execution_count": 2,
   "metadata": {},
   "outputs": [
    {
     "data": {
      "text/plain": [
       "1"
      ]
     },
     "execution_count": 2,
     "metadata": {},
     "output_type": "execute_result"
    }
   ],
   "source": [
    "pow(3, q-1, q)"
   ]
  },
  {
   "cell_type": "code",
   "execution_count": 17,
   "metadata": {},
   "outputs": [
    {
     "data": {
      "text/plain": [
       "1"
      ]
     },
     "execution_count": 17,
     "metadata": {},
     "output_type": "execute_result"
    }
   ],
   "source": []
  },
  {
   "cell_type": "code",
   "execution_count": 54,
   "metadata": {},
   "outputs": [
    {
     "data": {
      "text/plain": [
       "3"
      ]
     },
     "execution_count": 54,
     "metadata": {},
     "output_type": "execute_result"
    }
   ],
   "source": [
    "from sympy.ntheory import discrete_log\n",
    "\n",
    "discrete_log(41, 15, 7)"
   ]
  },
  {
   "cell_type": "code",
   "execution_count": 55,
   "metadata": {},
   "outputs": [
    {
     "data": {
      "text/plain": [
       "15"
      ]
     },
     "execution_count": 55,
     "metadata": {},
     "output_type": "execute_result"
    }
   ],
   "source": [
    "pow(7,3,41)"
   ]
  },
  {
   "cell_type": "code",
   "execution_count": 9,
   "metadata": {},
   "outputs": [
    {
     "data": {
      "text/plain": [
       "1"
      ]
     },
     "execution_count": 9,
     "metadata": {},
     "output_type": "execute_result"
    }
   ],
   "source": [
    "pow(34, 100, 101)"
   ]
  },
  {
   "cell_type": "code",
   "execution_count": null,
   "metadata": {},
   "outputs": [],
   "source": []
  }
 ],
 "metadata": {
  "kernelspec": {
   "display_name": ".venv",
   "language": "python",
   "name": "python3"
  },
  "language_info": {
   "codemirror_mode": {
    "name": "ipython",
    "version": 3
   },
   "file_extension": ".py",
   "mimetype": "text/x-python",
   "name": "python",
   "nbconvert_exporter": "python",
   "pygments_lexer": "ipython3",
   "version": "3.11.6"
  }
 },
 "nbformat": 4,
 "nbformat_minor": 2
}
