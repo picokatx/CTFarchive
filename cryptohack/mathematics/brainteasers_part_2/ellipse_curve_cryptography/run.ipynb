{
 "cells": [
  {
   "cell_type": "code",
   "execution_count": 48,
   "metadata": {},
   "outputs": [],
   "source": [
    "from Crypto.Util.number import inverse\n",
    "from collections import namedtuple\n",
    "from source_03ca064ee41e7c5e21e6b49b59f49a17 import scalar_multiplication\n",
    "Point = namedtuple(\"Point\", \"x y\")"
   ]
  },
  {
   "cell_type": "code",
   "execution_count": 2,
   "metadata": {},
   "outputs": [
    {
     "data": {
      "text/plain": [
       "23.0"
      ]
     },
     "execution_count": 2,
     "metadata": {},
     "output_type": "execute_result"
    }
   ],
   "source": [
    "p = 173754216895752892448109692432341061254596347285717132408796456167143559\n",
    "D = 529\n",
    "Gx = 29394812077144852405795385333766317269085018265469771684226884125940148\n",
    "Gy = 94108086667844986046802106544375316173742538919949485639896613738390948\n",
    "Ax = 155781055760279718382374741001148850818103179141959728567110540865590463\n",
    "Ay = 73794785561346677848810778233901832813072697504335306937799336126503714\n",
    "Bx = 171226959585314864221294077932510094779925634276949970785138593200069419\n",
    "By = 54353971839516652938533335476115503436865545966356461292708042305317630\n",
    "from math import sqrt\n",
    "sqrt(D)"
   ]
  },
  {
   "cell_type": "code",
   "execution_count": 50,
   "metadata": {},
   "outputs": [
    {
     "data": {
      "text/plain": [
       "Point(x=25512258602924193503403243657810751107047357792357913689557562032495764, y=167325895742193886401512946790364020438179417074466786790899179031717808)"
      ]
     },
     "execution_count": 50,
     "metadata": {},
     "output_type": "execute_result"
    }
   ],
   "source": [
    "scalar_multiplication(Point(Gx, Gy), 2)"
   ]
  },
  {
   "cell_type": "code",
   "execution_count": null,
   "metadata": {},
   "outputs": [],
   "source": []
  },
  {
   "cell_type": "code",
   "execution_count": 36,
   "metadata": {},
   "outputs": [
    {
     "data": {
      "text/plain": [
       "155781055760279718382374741001148850818103179141959728567110540865590463"
      ]
     },
     "execution_count": 36,
     "metadata": {},
     "output_type": "execute_result"
    }
   ],
   "source": [
    "(inverse(Ax - 23*Ay, p) - 23*Ay) + 10*p"
   ]
  },
  {
   "cell_type": "code",
   "execution_count": 40,
   "metadata": {},
   "outputs": [
    {
     "data": {
      "text/plain": [
       "33694182497359264152568246131907110242577706868147048967266559527246659"
      ]
     },
     "execution_count": 40,
     "metadata": {},
     "output_type": "execute_result"
    }
   ],
   "source": [
    "inverse(Ax - Ay, p) "
   ]
  },
  {
   "cell_type": "code",
   "execution_count": 39,
   "metadata": {},
   "outputs": [
    {
     "data": {
      "text/plain": [
       "115518954713724384423925716057480392972811748884500464048530710103740295"
      ]
     },
     "execution_count": 39,
     "metadata": {},
     "output_type": "execute_result"
    }
   ],
   "source": [
    "Ax+23*Ay-10*p"
   ]
  },
  {
   "cell_type": "code",
   "execution_count": null,
   "metadata": {},
   "outputs": [],
   "source": []
  }
 ],
 "metadata": {
  "kernelspec": {
   "display_name": ".venv",
   "language": "python",
   "name": "python3"
  },
  "language_info": {
   "codemirror_mode": {
    "name": "ipython",
    "version": 3
   },
   "file_extension": ".py",
   "mimetype": "text/x-python",
   "name": "python",
   "nbconvert_exporter": "python",
   "pygments_lexer": "ipython3",
   "version": "3.11.6"
  }
 },
 "nbformat": 4,
 "nbformat_minor": 2
}
