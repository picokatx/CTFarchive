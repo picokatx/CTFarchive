{
 "cells": [
  {
   "cell_type": "code",
   "execution_count": 1,
   "metadata": {},
   "outputs": [],
   "source": [
    "from Crypto.Util.number import getPrime, GCD, bytes_to_long, long_to_bytes, inverse\n",
    "from random import randint"
   ]
  },
  {
   "cell_type": "code",
   "execution_count": 2,
   "metadata": {},
   "outputs": [],
   "source": [
    "p, q = getPrime(512), getPrime(512)\n",
    "n = p * q\n",
    "\n",
    "# Alice side\n",
    "v = (p * randint(1, n)) % n\n",
    "k_A = randint(1, n)\n",
    "while GCD(k_A, n) != 1:\n",
    "    k_A = randint(1, n)\n",
    "vka = (v * k_A) % n\n",
    "\n",
    "# Bob side\n",
    "k_B = randint(1, n)\n",
    "while GCD(k_B, n) != 1:\n",
    "    k_B = randint(1, n)\n",
    "vkakb = (vka * k_B) % n\n",
    "\n",
    "# Alice side\n",
    "vkb = (vkakb * inverse(k_A, n)) % n\n",
    "\n",
    "# Bob side\n",
    "v_s = (vkb * inverse(k_B, n)) % n"
   ]
  },
  {
   "cell_type": "code",
   "execution_count": 12,
   "metadata": {},
   "outputs": [
    {
     "data": {
      "text/plain": [
       "5117834259901119912608735579134432772903146548176374927481995091812121999198902766296197968522190426789840206177080131130778942015796932848431057768376344"
      ]
     },
     "execution_count": 12,
     "metadata": {},
     "output_type": "execute_result"
    }
   ],
   "source": [
    "vka//p"
   ]
  },
  {
   "cell_type": "code",
   "execution_count": null,
   "metadata": {},
   "outputs": [],
   "source": [
    "inverse(k_A, n)*k_A //n "
   ]
  },
  {
   "cell_type": "code",
   "execution_count": 8,
   "metadata": {},
   "outputs": [
    {
     "data": {
      "text/plain": [
       "7923162645583492350900434703656447061634710995057354536976803072751375779605155196108198037200062501101932582479037540901485205728139574034428631295581126144753829789418876870846865654754729760826259179139250506007274414402992901557758834241354423954215115002323830800504004410884067341475512530016654048995"
      ]
     },
     "execution_count": 8,
     "metadata": {},
     "output_type": "execute_result"
    }
   ],
   "source": [
    "inverse(k_A, n)*k_A //n "
   ]
  },
  {
   "cell_type": "code",
   "execution_count": 3,
   "metadata": {},
   "outputs": [
    {
     "name": "stdout",
     "output_type": "stream",
     "text": [
      "50991346053317202363361127277861121535140716397758414972741964085786746745949304102151040664724173168953779274260499797899612814833796704233225002423579717943475472700747150267746589708411926225700979420868636390082410366708619275589958476666192528946115590771895160434838670750274020602970233570572616862677\n",
      "50991346053317202363361127277861121535140716397758414972741964085786746745949304102151040664724173168953779274260499797899612814833796704233225002423579717943475472700747150267746589708411926225700979420868636390082410366708619275589958476666192528946115590771895160434838670750274020602970233570572616862677\n"
     ]
    }
   ],
   "source": [
    "print(v)\n",
    "print(v_s)"
   ]
  },
  {
   "cell_type": "code",
   "execution_count": null,
   "metadata": {},
   "outputs": [],
   "source": []
  }
 ],
 "metadata": {
  "kernelspec": {
   "display_name": ".venv",
   "language": "python",
   "name": "python3"
  },
  "language_info": {
   "codemirror_mode": {
    "name": "ipython",
    "version": 3
   },
   "file_extension": ".py",
   "mimetype": "text/x-python",
   "name": "python",
   "nbconvert_exporter": "python",
   "pygments_lexer": "ipython3",
   "version": "3.11.6"
  }
 },
 "nbformat": 4,
 "nbformat_minor": 2
}
