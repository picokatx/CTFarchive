{
 "cells": [
  {
   "cell_type": "markdown",
   "metadata": {},
   "source": [
    "non factorizable n (or at least no entries in factordb)\n",
    "maybe the broken part is n being p or q"
   ]
  },
  {
   "cell_type": "code",
   "execution_count": 107,
   "metadata": {},
   "outputs": [],
   "source": [
    "n =  27772857409875257529415990911214211975844307184430241451899407838750503024323367895540981606586709985980003435082116995888017731426634845808624796292507989171497629109450825818587383112280639037484593490692935998202437639626747133650990603333094513531505209954273004473567193235535061942991750932725808679249964667090723480397916715320876867803719301313440005075056481203859010490836599717523664197112053206745235908610484907715210436413015546671034478367679465233737115549451849810421017181842615880836253875862101545582922437858358265964489786463923280312860843031914516061327752183283528015684588796400861331354873\n",
    "e = 16\n",
    "c = 11303174761894431146735697569489134747234975144162172162401674567273034831391936916397234068346115459134602443963604063679379285919302225719050193590179240191429612072131629779948379821039610415099784351073443218911356328815458050694493726951231241096695626477586428880220528001269746547018741237131741255022371957489462380305100634600499204435763201371188769446054925748151987175656677342779043435047048130599123081581036362712208692748034620245590448762406543804069935873123161582756799517226666835316588896306926659321054276507714414876684738121421124177324568084533020088172040422767194971217814466953837590498718\n",
    "m = 27772857409875257529415990911214211975844307184430241451899407838750503024323367895540981606586709985980003435082116995884478493648417679670782240786518871242668255973770988737167589482305554697589427755948133831217194514801188587815879226601454549604874476927252882744344317256396808255582550941978968312010016490081931048157003674361093215320945272838509986687284028991543505902180465028764465401474732603047959528463455521587693401684330259430026213913640315266928039931940062910914620141512756390510844994503754868094272416592656824961726496896913664170409316563677657113965998358809997237032168697425106457591932\n"
   ]
  },
  {
   "cell_type": "code",
   "execution_count": 118,
   "metadata": {},
   "outputs": [
    {
     "data": {
      "text/plain": [
       "b\"Hey, if you are reading this maybe I didn't mess up my code too much. Phew. I really should play more CryptoHack before rushing to code stuff from scratch again. Here's the flag: crypto{m0dul4r_squ4r3_r00t}\""
      ]
     },
     "execution_count": 118,
     "metadata": {},
     "output_type": "execute_result"
    }
   ],
   "source": [
    "from cryptolib import long_to_bytes\n",
    "long_to_bytes(-m % n)"
   ]
  },
  {
   "cell_type": "code",
   "execution_count": 88,
   "metadata": {},
   "outputs": [],
   "source": [
    "import random\n",
    "import logging\n",
    "import sys\n",
    "from cryptolib import invmod as inverse_modulo, is_prime\n",
    "\n",
    "_logger = logging.getLogger(\"tonellishanks\")\n",
    "\n",
    "\n",
    "def legendre_symbol(a: int, p: int, /) -> int:\n",
    "\n",
    "    assert p % 2 != 0\n",
    "\n",
    "    return pow(a, (p - 1) >> 1, p)\n",
    "\n",
    "\n",
    "def _choose_b(p: int, /, *, det=True) -> int:\n",
    "\n",
    "    assert p > 2\n",
    "    assert p % 2 != 0\n",
    "\n",
    "    b = 2\n",
    "    _attempts = 1\n",
    "\n",
    "    if det:\n",
    "        while legendre_symbol(b, p) == 1:\n",
    "            b += 1\n",
    "            _attempts += 1\n",
    "    else:\n",
    "        while legendre_symbol(b, p) == 1:\n",
    "            b = random.randrange(2, p)\n",
    "            _attempts += 1\n",
    "\n",
    "    assert b < p\n",
    "    assert legendre_symbol(b, p) == p - 1\n",
    "\n",
    "    _logger.info(\"Found b = %d after %d attempts\", b, _attempts)\n",
    "\n",
    "    return b\n",
    "\n",
    "\n",
    "def _tonelli_shanks_recursive(a: int, k: int, p: int, b: int, b_inverse: int, /):\n",
    "    \"\"\"\n",
    "    Computes a square root of a modulo prime p\n",
    "    :param a: the number to take the square root of\n",
    "    :param k: positive integer, such that a^m = 1 (mod p) where m = (p-1)/(2^k)\n",
    "    :param p: odd prime p modulo which we are working\n",
    "    :param b: an arbitrary non-square modulo p\n",
    "    :param b_inverse: the inverse of b modulo p, i.e., b * b_inverse = 1 (mod p)\n",
    "    :return: one of the square roots of a modulo p (the other can be obtained via negation modulo p)\n",
    "    \"\"\"\n",
    "\n",
    "    assert p > 2\n",
    "    assert 0 < a < p\n",
    "    assert k > 0\n",
    "\n",
    "    m = (p - 1) >> k\n",
    "\n",
    "    # assumption\n",
    "    assert pow(a, m, p) == 1\n",
    "\n",
    "    a_m = 1\n",
    "\n",
    "    # check that b is indeed a non-square modulo p\n",
    "    assert legendre_symbol(b, p) == p - 1\n",
    "\n",
    "    _logger.info(\"-------- [New round] --------\")\n",
    "    _logger.info(\"a = %d, m = %d, a^m = 1\", a, m)\n",
    "\n",
    "    while m % 2 == 0 and a_m == 1:\n",
    "\n",
    "        m >>= 1\n",
    "        k += 1\n",
    "\n",
    "        assert m == (p - 1) >> k\n",
    "\n",
    "        a_m = pow(a, m, p)\n",
    "\n",
    "        _logger.info(\n",
    "            \"m is even and a^m = 1 => we divide m by 2 and get: m = %d, a^m = %s\",\n",
    "            m,\n",
    "            \"1\" if a_m == 1 else \"-1\"\n",
    "        )\n",
    "\n",
    "        # since Z/pZ is a field, there cannot be any roots for 1 apart from 1 and -1\n",
    "        assert a_m == 1 or a_m == p - 1\n",
    "\n",
    "    assert a_m == 1 or a_m == p - 1\n",
    "\n",
    "    if a_m == p - 1:\n",
    "        # a^m = -1 (mod p)\n",
    "        _logger.info(\"m = %d, a^m = -1 => we multiply a^m with a legendre symbol of a non-square b modulo p\", m)\n",
    "        assert k >= 2\n",
    "        b_power = 1 << (k - 1)\n",
    "        b_power_half = 1 << (k - 2)\n",
    "        assert pow(a, m, p) == p - 1\n",
    "        assert b_power * m == (p - 1) >> 1\n",
    "        a_next = (a * pow(b, b_power, p)) % p\n",
    "        _logger.info(\"(a * b^%d)^m = (a * b^%d)^%d = %d^%d = 1\", b_power, b_power, m, a_next, m)\n",
    "        _logger.info(\n",
    "            \"It follows that a_next := a * b^%d = %d * %d = %d is a square whose root yields a root of a\",\n",
    "            b_power,\n",
    "            a,\n",
    "            pow(b, b_power, p),\n",
    "            a_next\n",
    "        )\n",
    "        assert pow(a_next, m, p) == 1\n",
    "        a_next_root = _tonelli_shanks_recursive(a_next, k, p, b, b_inverse)\n",
    "        _logger.info(\"The root of a_next = %d is %d\", a_next, a_next_root)\n",
    "        a_root = a_next_root * pow(b_inverse, b_power_half, p)\n",
    "        _logger.info(\"sqrt(a_next)^2 = %d^2 = a_next = a * b^%d = sqrt(a)^2 * b^%d\", a_next_root, b_power, b_power)\n",
    "        _logger.info(\n",
    "            \"=> sqrt(a = %d) = sqrt(a_next) * b^(-%d) = %d * %d = %d\",\n",
    "            a,\n",
    "            b_power_half,\n",
    "            a_next_root,\n",
    "            pow(b_inverse, b_power_half, p),\n",
    "            a_root\n",
    "        )\n",
    "        _logger.info(\"-------- [Round complete] --------\")\n",
    "        return a_root % p\n",
    "    assert a_m == 1\n",
    "    assert m % 2 == 1\n",
    "    _logger.info(\"-------- [Round complete] --------\")\n",
    "    # we now handle the case when m is odd\n",
    "    # this case is easy, a^((m+1)/2) is a square root of a\n",
    "    return pow(a, (m + 1) >> 1, p)\n",
    "\n",
    "\n",
    "def tonelli_shanks(a: int, p: int, /, *, deterministic=True) -> int | None:\n",
    "    \"\"\"\n",
    "    Computes a square root of a modulo prime p\n",
    "    :param a: the number to take the square root of\n",
    "    :param p: odd prime p modulo which we are working\n",
    "    :param deterministic: whether to search for the non-square b deterministically\n",
    "    :return: one of the square roots of a modulo p (the other can be obtained via negation modulo p)\n",
    "    \"\"\"\n",
    "    assert p > 2\n",
    "    assert 0 < a < p\n",
    "    # quick Fermat primality test\n",
    "    assert pow(a, p - 1, p) == 1\n",
    "    if legendre_symbol(a, p) != 1:\n",
    "        # a is not not a square modulo p\n",
    "        return None\n",
    "    _logger.info(\"======== [Starting algorithm with a = %d, p = %d] ========\", a, p)\n",
    "    b = _choose_b(p, det=deterministic)\n",
    "    b_inverse = inverse_modulo(b, p)\n",
    "    assert b * b_inverse % p == 1\n",
    "    return _tonelli_shanks_recursive(a, 1, p, b, b_inverse)"
   ]
  },
  {
   "cell_type": "code",
   "execution_count": 99,
   "metadata": {},
   "outputs": [
    {
     "data": {
      "text/plain": [
       "27772857409875257529415990911214211975844307184430241451899407838750503024323367895540981606586709985980003435082116995884478493648417679670782240786518871242668255973770988737167589482305554697589427755948133831217194514801188587815879226601454549604874476927252882744344317256396808255582550941978968312010016490081931048157003674361093215320945272838509986687284028991543505902180465028764465401474732603047959528463455521587693401684330259430026213913640315266928039931940062910914620141512756390510844994503754868094272416592656824961726496896913664170409316563677657113965998358809997237032168697425106457591932"
      ]
     },
     "execution_count": 99,
     "metadata": {},
     "output_type": "execute_result"
    }
   ],
   "source": [
    "tonelli_shanks(tonelli_shanks(tonelli_shanks(tonelli_shanks(c, n), n), n), n)"
   ]
  }
 ],
 "metadata": {
  "kernelspec": {
   "display_name": ".venv",
   "language": "python",
   "name": "python3"
  },
  "language_info": {
   "codemirror_mode": {
    "name": "ipython",
    "version": 3
   },
   "file_extension": ".py",
   "mimetype": "text/x-python",
   "name": "python",
   "nbconvert_exporter": "python",
   "pygments_lexer": "ipython3",
   "version": "3.11.6"
  }
 },
 "nbformat": 4,
 "nbformat_minor": 2
}
