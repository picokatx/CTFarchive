{
 "cells": [
  {
   "cell_type": "code",
   "execution_count": 21,
   "metadata": {},
   "outputs": [
    {
     "data": {
      "text/plain": [
       "RsaKey(n=4013610727845242593703438523892210066915884608065890652809524328518978287424865087812690502446831525755541263621651398962044653615723751218715649008058509, e=65537)"
      ]
     },
     "execution_count": 21,
     "metadata": {},
     "output_type": "execute_result"
    }
   ],
   "source": [
    "from Crypto.PublicKey import RSA\n",
    "RSA.import_key(open(\"key_17a08b7040db46308f8b9a19894f9f95.pem\", \"r\").read())"
   ]
  },
  {
   "cell_type": "code",
   "execution_count": 46,
   "metadata": {},
   "outputs": [],
   "source": [
    "\n",
    "import math\n",
    "from math import prod\n",
    "import random\n",
    "from Crypto.Util.number import bytes_to_long, inverse\n",
    "from sympy import isprime\n",
    "\n",
    "primes = []\n",
    "e = 0x10001\n",
    "n = 4013610727845242593703438523892210066915884608065890652809524328518978287424865087812690502446831525755541263621651398962044653615723751218715649008058509\n",
    "M = 166589903787325219380851695350896256250980509594874862046961683989710\n",
    "def sieve(maximum=10000):\n",
    "    # In general Sieve of Sundaram, produces primes smaller\n",
    "    # than (2*x + 2) for a number given number x. Since\n",
    "    # we want primes smaller than maximum, we reduce maximum to half\n",
    "    # This array is used to separate numbers of the form\n",
    "    # i+j+2ij from others where 1 <= i <= j\n",
    "    marked = [False]*(int(maximum/2)+1)\n",
    "\n",
    "    # Main logic of Sundaram. Mark all numbers which\n",
    "    # do not generate prime number by doing 2*i+1\n",
    "    for i in range(1, int((math.sqrt(maximum)-1)/2)+1):\n",
    "        for j in range(((i*(i+1)) << 1), (int(maximum/2)+1), (2*i+1)):\n",
    "            marked[j] = True\n",
    "\n",
    "    # Since 2 is a prime number\n",
    "    primes.append(2)\n",
    "\n",
    "    # Print other primes. Remaining primes are of the\n",
    "    # form 2*i + 1 such that marked[i] is false.\n",
    "    for i in range(1, int(maximum/2)):\n",
    "        if (marked[i] == False):\n",
    "            primes.append(2*i + 1)\n",
    "\n",
    "\n",
    "def get_primorial(n):\n",
    "    result = 1\n",
    "    for i in range(n):\n",
    "        result = result * primes[i]\n",
    "    return result\n",
    "\n",
    "\n",
    "def get_fast_prime():\n",
    "    M = get_primorial(40) #166589903787325219380851695350896256250980509594874862046961683989710\n",
    "    while True:\n",
    "        k = random.randint(2**28, 2**29-1)\n",
    "        a = random.randint(2**20, 2**62-1)\n",
    "        p = k * M + pow(e, a, M)\n",
    "        \n",
    "        if isprime(p):\n",
    "            return p\n",
    "\n",
    "\n",
    "sieve()"
   ]
  },
  {
   "cell_type": "code",
   "execution_count": 72,
   "metadata": {},
   "outputs": [
    {
     "data": {
      "text/plain": [
       "88111792010954886946032331939730878099590843102886077749907304938016343256180"
      ]
     },
     "execution_count": 72,
     "metadata": {},
     "output_type": "execute_result"
    }
   ],
   "source": [
    "528914357*M + M"
   ]
  },
  {
   "cell_type": "code",
   "execution_count": 56,
   "metadata": {},
   "outputs": [
    {
     "data": {
      "text/plain": [
       "73031728228973501607805474547320432595976364714048356830870840089699"
      ]
     },
     "execution_count": 56,
     "metadata": {},
     "output_type": "execute_result"
    }
   ],
   "source": [
    "from sympy import factorint\n",
    "n%M"
   ]
  },
  {
   "cell_type": "code",
   "execution_count": 73,
   "metadata": {},
   "outputs": [
    {
     "data": {
      "text/plain": [
       "2"
      ]
     },
     "execution_count": 73,
     "metadata": {},
     "output_type": "execute_result"
    }
   ],
   "source": [
    "n//(M**2)//(2**28)//(2**28)"
   ]
  },
  {
   "cell_type": "code",
   "execution_count": 42,
   "metadata": {},
   "outputs": [
    {
     "data": {
      "text/plain": [
       "268435456"
      ]
     },
     "execution_count": 42,
     "metadata": {},
     "output_type": "execute_result"
    }
   ],
   "source": [
    "2**29 - 2**28"
   ]
  },
  {
   "cell_type": "code",
   "execution_count": 43,
   "metadata": {},
   "outputs": [
    {
     "data": {
      "text/plain": [
       "32505856"
      ]
     },
     "execution_count": 43,
     "metadata": {},
     "output_type": "execute_result"
    }
   ],
   "source": [
    "2**25 - 2**20"
   ]
  },
  {
   "cell_type": "code",
   "execution_count": 45,
   "metadata": {},
   "outputs": [
    {
     "name": "stderr",
     "output_type": "stream",
     "text": [
      "100%|██████████| 1048576/1048576 [00:04<00:00, 217209.22it/s]\n",
      " 56%|█████▌    | 586473/1048576 [00:02<00:02, 220905.33it/s]\n"
     ]
    },
    {
     "ename": "KeyboardInterrupt",
     "evalue": "",
     "output_type": "error",
     "traceback": [
      "\u001b[1;31m---------------------------------------------------------------------------\u001b[0m",
      "\u001b[1;31mKeyboardInterrupt\u001b[0m                         Traceback (most recent call last)",
      "Cell \u001b[1;32mIn[45], line 12\u001b[0m\n\u001b[0;32m     10\u001b[0m     \u001b[38;5;28mprint\u001b[39m(\u001b[38;5;124m\"\u001b[39m\u001b[38;5;124mPrime not found within the given range.\u001b[39m\u001b[38;5;124m\"\u001b[39m)\n\u001b[0;32m     11\u001b[0m     \u001b[38;5;28;01mreturn\u001b[39;00m \u001b[38;5;28;01mNone\u001b[39;00m\n\u001b[1;32m---> 12\u001b[0m \u001b[43mbreak_primorial_based_prime\u001b[49m\u001b[43m(\u001b[49m\u001b[43mM\u001b[49m\u001b[43m)\u001b[49m\n",
      "Cell \u001b[1;32mIn[45], line 7\u001b[0m, in \u001b[0;36mbreak_primorial_based_prime\u001b[1;34m(M)\u001b[0m\n\u001b[0;32m      5\u001b[0m \u001b[38;5;28;01mfor\u001b[39;00m a \u001b[38;5;129;01min\u001b[39;00m tqdm(\u001b[38;5;28mrange\u001b[39m(\u001b[38;5;241m2\u001b[39m\u001b[38;5;241m*\u001b[39m\u001b[38;5;241m*\u001b[39m\u001b[38;5;241m20\u001b[39m, \u001b[38;5;241m2\u001b[39m\u001b[38;5;241m*\u001b[39m\u001b[38;5;241m*\u001b[39m\u001b[38;5;241m21\u001b[39m)):\n\u001b[0;32m      6\u001b[0m     p \u001b[38;5;241m=\u001b[39m k \u001b[38;5;241m*\u001b[39m M \u001b[38;5;241m+\u001b[39m \u001b[38;5;28mpow\u001b[39m(e, a, M)\n\u001b[1;32m----> 7\u001b[0m     \u001b[38;5;28;01mif\u001b[39;00m \u001b[43mn\u001b[49m\u001b[38;5;241;43m%\u001b[39;49m\u001b[43mp\u001b[49m\u001b[38;5;241m==\u001b[39m\u001b[38;5;241m0\u001b[39m:\n\u001b[0;32m      8\u001b[0m         \u001b[38;5;28mprint\u001b[39m(\u001b[38;5;124mf\u001b[39m\u001b[38;5;124m\"\u001b[39m\u001b[38;5;124mPrime found: k=\u001b[39m\u001b[38;5;132;01m{\u001b[39;00mk\u001b[38;5;132;01m}\u001b[39;00m\u001b[38;5;124m, a=\u001b[39m\u001b[38;5;132;01m{\u001b[39;00ma\u001b[38;5;132;01m}\u001b[39;00m\u001b[38;5;124m, p=\u001b[39m\u001b[38;5;132;01m{\u001b[39;00mp\u001b[38;5;132;01m}\u001b[39;00m\u001b[38;5;124m\"\u001b[39m)\n\u001b[0;32m      9\u001b[0m         \u001b[38;5;28;01mreturn\u001b[39;00m k, a\n",
      "\u001b[1;31mKeyboardInterrupt\u001b[0m: "
     ]
    }
   ],
   "source": [
    "from tqdm import tqdm\n",
    "def break_primorial_based_prime(M):\n",
    "    e = 2  # Fixed base used in prime generation\n",
    "    \n",
    "    # Step 1: Precompute modular exponentiation results\n",
    "    mod_results = {}\n",
    "    for a in range(2**20, 2**25):  # Reduced search range for efficiency\n",
    "        mod_results[pow(e, a, M)] = a\n",
    "    \n",
    "    # Step 2: Search for valid k\n",
    "    for k in range(2**28, 2**29):\n",
    "        candidate_prime = p_target - k * M\n",
    "        \n",
    "        # Check if candidate_prime matches a precomputed mod result\n",
    "        if candidate_prime in mod_results:\n",
    "            a = mod_results[candidate_prime]\n",
    "            print(f\"Prime found: k={k}, a={a}, p={p_target}\")\n",
    "            return k, a\n",
    "    \n",
    "    print(\"Prime not found within the given range.\")\n",
    "    return None\n",
    "break_primorial_based_prime(M)"
   ]
  },
  {
   "cell_type": "code",
   "execution_count": 40,
   "metadata": {},
   "outputs": [
    {
     "data": {
      "text/plain": [
       "144623175820053458"
      ]
     },
     "execution_count": 40,
     "metadata": {},
     "output_type": "execute_result"
    }
   ],
   "source": [
    "n//(M**2)"
   ]
  },
  {
   "cell_type": "code",
   "execution_count": 31,
   "metadata": {},
   "outputs": [
    {
     "data": {
      "text/plain": [
       "3048026434"
      ]
     },
     "execution_count": 31,
     "metadata": {},
     "output_type": "execute_result"
    }
   ],
   "source": [
    "87251*17467"
   ]
  },
  {
   "cell_type": "code",
   "execution_count": 34,
   "metadata": {},
   "outputs": [
    {
     "data": {
      "text/plain": [
       "94896274"
      ]
     },
     "execution_count": 34,
     "metadata": {},
     "output_type": "execute_result"
    }
   ],
   "source": [
    "4313467*11*2"
   ]
  },
  {
   "cell_type": "code",
   "execution_count": 18,
   "metadata": {},
   "outputs": [
    {
     "data": {
      "text/plain": [
       "166589903787325219380851695350896256250980509594874862046961683989710"
      ]
     },
     "execution_count": 18,
     "metadata": {},
     "output_type": "execute_result"
    }
   ],
   "source": [
    "prod(primes[:40])"
   ]
  }
 ],
 "metadata": {
  "kernelspec": {
   "display_name": ".venv",
   "language": "python",
   "name": "python3"
  },
  "language_info": {
   "codemirror_mode": {
    "name": "ipython",
    "version": 3
   },
   "file_extension": ".py",
   "mimetype": "text/x-python",
   "name": "python",
   "nbconvert_exporter": "python",
   "pygments_lexer": "ipython3",
   "version": "3.11.6"
  }
 },
 "nbformat": 4,
 "nbformat_minor": 2
}
