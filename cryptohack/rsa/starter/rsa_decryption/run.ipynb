{
 "cells": [
  {
   "cell_type": "code",
   "execution_count": 2,
   "metadata": {},
   "outputs": [
    {
     "data": {
      "text/plain": [
       "13371337"
      ]
     },
     "execution_count": 2,
     "metadata": {},
     "output_type": "execute_result"
    }
   ],
   "source": [
    "from Crypto.Util.number import inverse\n",
    "n = 882564595536224140639625987659416029426239230804614613279163\n",
    "e = 65537 \n",
    "p = 857504083339712752489993810777\n",
    "q = 1029224947942998075080348647219\n",
    "totient = (p-1)*(q-1)\n",
    "d = inverse(e, totient)\n",
    "c = 77578995801157823671636298847186723593814843845525223303932 \n",
    "pow(c, d, n)"
   ]
  }
 ],
 "metadata": {
  "kernelspec": {
   "display_name": ".venv",
   "language": "python",
   "name": "python3"
  },
  "language_info": {
   "codemirror_mode": {
    "name": "ipython",
    "version": 3
   },
   "file_extension": ".py",
   "mimetype": "text/x-python",
   "name": "python",
   "nbconvert_exporter": "python",
   "pygments_lexer": "ipython3",
   "version": "3.11.6"
  }
 },
 "nbformat": 4,
 "nbformat_minor": 2
}
