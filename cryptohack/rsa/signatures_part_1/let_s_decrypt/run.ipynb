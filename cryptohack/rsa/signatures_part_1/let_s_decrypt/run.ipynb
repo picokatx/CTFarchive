{
 "cells": [
  {
   "cell_type": "code",
   "execution_count": 21,
   "metadata": {},
   "outputs": [
    {
     "name": "stdout",
     "output_type": "stream",
     "text": [
      "{'msg': \"Congratulations, here's a secret: crypto{dupl1c4t3_s1gn4tur3_k3y_s3l3ct10n}\"}\n"
     ]
    }
   ],
   "source": [
    "from pwnlib.tubes.remote import remote\n",
    "from cryptolib import json_send, json_recv\n",
    "from Crypto.Util.number import long_to_bytes, bytes_to_long\n",
    "from pkcs1 import emsa_pkcs1_v15\n",
    "r = remote(\"socket.cryptohack.org\", 13391)\n",
    "r.recvline()\n",
    "json_send(r, {\"option\": \"get_signature\"})\n",
    "N, e, signature = [int(j, 16) for j in json_recv(r).values()]\n",
    "# print(pow(signature, e, N))\n",
    "msg = \"I am Mallory.I own CryptoHack.org\"\n",
    "msg_num = bytes_to_long(emsa_pkcs1_v15.encode(msg.encode(), 256))\n",
    "new_e = 1\n",
    "new_n = signature**new_e-msg_num\n",
    "# print(pow(bytes_to_long(msg.encode()), new_e, new_n))\n",
    "json_send(r, {\"option\": \"verify\", 'msg': msg, \"N\": hex(new_n), \"e\": hex(new_e)})\n",
    "print(json_recv(r))"
   ]
  },
  {
   "cell_type": "code",
   "execution_count": 19,
   "metadata": {},
   "outputs": [
    {
     "data": {
      "text/plain": [
       "True"
      ]
     },
     "execution_count": 19,
     "metadata": {},
     "output_type": "execute_result"
    }
   ],
   "source": [
    "signature>msg_num"
   ]
  },
  {
   "cell_type": "code",
   "execution_count": 14,
   "metadata": {},
   "outputs": [
    {
     "data": {
      "text/plain": [
       "13834277652712266034628831572723961498098672188779752904555724880647020661914141607678596144962332199596990695624970966791022851954610447196000204719371145684732323306848213226295451102241362249156173831127811340007213725312672771091597596997378883224311804579823804252680737317841775017728948082004451927260479032665825465383970863235042370448299887319879324372952497604705701311265511378934143490002867855100402613341667553683938340491817463220561070171827422225626572466089460628802403344072881058337424952170481209917286339106316493631439666719437842620210344009999095401155454608335310058613863926102028135440915647989260642290432624711514610940656124653799262154836775997516588690788998123804304365368653256286942209826818164952636029914999265852702695573069727538579759545426645871490590501702261269506454476426788617099136838564075898560122580522016235646876301"
      ]
     },
     "execution_count": 14,
     "metadata": {},
     "output_type": "execute_result"
    }
   ],
   "source": [
    "pow(signature, new_e, new_n)"
   ]
  },
  {
   "cell_type": "code",
   "execution_count": null,
   "metadata": {},
   "outputs": [],
   "source": [
    "emsa_pkcs1_v15.encode(hex())"
   ]
  },
  {
   "cell_type": "code",
   "execution_count": 68,
   "metadata": {},
   "outputs": [
    {
     "data": {
      "text/plain": [
       "True"
      ]
     },
     "execution_count": 68,
     "metadata": {},
     "output_type": "execute_result"
    }
   ],
   "source": [
    "bytes_to_long(msg.encode())**20 > msg_num"
   ]
  },
  {
   "cell_type": "code",
   "execution_count": 45,
   "metadata": {},
   "outputs": [
    {
     "data": {
      "text/plain": [
       "986236757547332986472011617696226561292849812918563355472727826767720188564083584387121625107510786855734801053524719833194566624465665316622563244215340671405971599343902468620306327831715457360719532421388780770165778156818229863337344187575566725786793391480600129482653072861971002459947277805295727097226389568776499707662505334062639449916265137796823793276300221537201727072401742985542559596685092673521228140822200236743113743661549252453726123450722876929538747702356573783116366629850199080495560991841329893037291900147497007197055572787780928474439121970107464206203638027825182201028440115861092757"
      ]
     },
     "execution_count": 45,
     "metadata": {},
     "output_type": "execute_result"
    }
   ],
   "source": [
    "from pkcs1 import emsa_pkcs1_v15\n",
    "msg = bytes_to_long(emsa_pkcs1_v15.encode(b\"I am Mallory.I own CryptoHack.org\", 256))\n",
    "signature**2 % (signature**2-msg)"
   ]
  },
  {
   "cell_type": "code",
   "execution_count": 44,
   "metadata": {},
   "outputs": [
    {
     "data": {
      "text/plain": [
       "986236757547332986472011617696226561292849812918563355472727826767720188564083584387121625107510786855734801053524719833194566624465665316622563244215340671405971599343902468620306327831715457360719532421388780770165778156818229863337344187575566725786793391480600129482653072861971002459947277805295727097226389568776499707662505334062639449916265137796823793276300221537201727072401742985542559596685092673521228140822200236743113743661549252453726123450722876929538747702356573783116366629850199080495560991841329893037291900147497007197055572787780928474439121970107464206203638027825182201028440115861092757"
      ]
     },
     "execution_count": 44,
     "metadata": {},
     "output_type": "execute_result"
    }
   ],
   "source": [
    "msg"
   ]
  },
  {
   "cell_type": "code",
   "execution_count": 33,
   "metadata": {},
   "outputs": [
    {
     "data": {
      "text/plain": [
       "249"
      ]
     },
     "execution_count": 33,
     "metadata": {},
     "output_type": "execute_result"
    }
   ],
   "source": [
    "pow(signature, e, N)"
   ]
  },
  {
   "cell_type": "code",
   "execution_count": 28,
   "metadata": {},
   "outputs": [
    {
     "data": {
      "text/plain": [
       "1134"
      ]
     },
     "execution_count": 28,
     "metadata": {},
     "output_type": "execute_result"
    }
   ],
   "source": [
    "signature"
   ]
  },
  {
   "cell_type": "code",
   "execution_count": 30,
   "metadata": {},
   "outputs": [
    {
     "data": {
      "text/plain": [
       "986236757547332986472011617696226561292849812918563355472727826767720188564083584387121625107510786855734801053524719833194566624465665316622563244215340671405971599343902468620306327831715457360719532421388780770165778156818229863337344187575566725786793391480600129482653072861971002459947277805295727097226389568776499707662505334062639449916265137796823793276300221537201727072401742985542559596685092673521228140822200236743113743661549252453726123450722876929538747702356573783116366629850199080495560991841329893037291900147497007197055572787780928474439121970107464206203638027825182201028440115861092757"
      ]
     },
     "execution_count": 30,
     "metadata": {},
     "output_type": "execute_result"
    }
   ],
   "source": []
  },
  {
   "cell_type": "code",
   "execution_count": 9,
   "metadata": {},
   "outputs": [
    {
     "data": {
      "text/plain": [
       "69"
      ]
     },
     "execution_count": 9,
     "metadata": {},
     "output_type": "execute_result"
    }
   ],
   "source": [
    "from pkcs1 import emsa_pkcs1_v15\n",
    "from Crypto.Util.number import inverse\n",
    "FLAG = \"crypto{?????????????????????????????????}\"\n",
    "\n",
    "MSG = 'We are hyperreality and Jack and we own CryptoHack.org'\n",
    "DIGEST = emsa_pkcs1_v15.encode(MSG.encode(), 256)\n",
    "p, q = 17, 101\n",
    "N = p*q\n",
    "phi = (p-1)*(q-1)\n",
    "E = 3\n",
    "D = inverse(E, phi)\n"
   ]
  },
  {
   "cell_type": "code",
   "execution_count": null,
   "metadata": {},
   "outputs": [],
   "source": []
  }
 ],
 "metadata": {
  "kernelspec": {
   "display_name": ".venv",
   "language": "python",
   "name": "python3"
  },
  "language_info": {
   "codemirror_mode": {
    "name": "ipython",
    "version": 3
   },
   "file_extension": ".py",
   "mimetype": "text/x-python",
   "name": "python",
   "nbconvert_exporter": "python",
   "pygments_lexer": "ipython3",
   "version": "3.11.6"
  }
 },
 "nbformat": 4,
 "nbformat_minor": 2
}
