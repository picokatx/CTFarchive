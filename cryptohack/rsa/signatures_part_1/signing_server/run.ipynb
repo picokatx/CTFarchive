{
 "cells": [
  {
   "cell_type": "code",
   "execution_count": 8,
   "metadata": {},
   "outputs": [
    {
     "name": "stdout",
     "output_type": "stream",
     "text": [
      "{'N': '0xac75f79fce92e1da50ca29668757467e2af8809f2474477e6635367bef04ea476e303bbfffc98b190d47fa17e5588925121f5a973f1078ce20741c13859af0f7542ebf8fcd5c1bad29b08eeada9aba6a7e40bffe61bc9f8f3e2e3b9fba18ea5ffe31c8316567aa989f763726b05e2533eb8750fb17af065040bf3662a700bdc54b75dbfce7624dded6b3ffe3a710ddb2183b45cba06f4858389e147ac907b26bfa752190bcfdc3eed9b1589bd034d4dbf8d53a5a83d74032ee2349b779c5ea9b98f0791c875bdeff5022254ddfe5d4b0e1f9bb606fd725e5b77484964c00a10dea4ab4dac4c1afe79777ed8ff9cdc635daced77b94713cc5d2e99f25e8fa3187', 'e': '0x10001'}\n",
      "b\"TODO: audit signing server to make sure that meddling hacker doesn't get hold of my secret flag: crypto{d0n7_516n_ju57_4ny7h1n6}\"\n"
     ]
    }
   ],
   "source": [
    "from pwnlib.tubes.remote import remote\n",
    "from cryptolib import json_send, json_recv\n",
    "from Crypto.Util.number import long_to_bytes, bytes_to_long\n",
    "r = remote(\"socket.cryptohack.org\", 13374)\n",
    "r.recvline()\n",
    "json_send(r, {\"option\": \"get_pubkey\"})\n",
    "print(json_recv(r))\n",
    "json_send(r, {\"option\": \"get_secret\"})\n",
    "secret = json_recv(r)['secret']\n",
    "json_send(r, {\"option\": \"sign\", \"msg\": secret})\n",
    "print(bytes.fromhex(json_recv(r)['signature'][2:]))"
   ]
  },
  {
   "cell_type": "code",
   "execution_count": null,
   "metadata": {},
   "outputs": [],
   "source": [
    "hex(2, )"
   ]
  }
 ],
 "metadata": {
  "kernelspec": {
   "display_name": ".venv",
   "language": "python",
   "name": "python3"
  },
  "language_info": {
   "codemirror_mode": {
    "name": "ipython",
    "version": 3
   },
   "file_extension": ".py",
   "mimetype": "text/x-python",
   "name": "python",
   "nbconvert_exporter": "python",
   "pygments_lexer": "ipython3",
   "version": "3.11.6"
  }
 },
 "nbformat": 4,
 "nbformat_minor": 2
}
