{
 "cells": [
  {
   "cell_type": "code",
   "execution_count": 15,
   "metadata": {},
   "outputs": [
    {
     "data": {
      "text/plain": [
       "{'response': 'crypto{m4ll34b1l17y_c4n_b3_d4n63r0u5}'}"
      ]
     },
     "execution_count": 15,
     "metadata": {},
     "output_type": "execute_result"
    }
   ],
   "source": [
    "from pwnlib.tubes.remote import remote\n",
    "from cryptolib import json_send, json_recv, crt\n",
    "from Crypto.Util.number import long_to_bytes, bytes_to_long, inverse\n",
    "from pkcs1 import emsa_pkcs1_v15\n",
    "r = remote(\"socket.cryptohack.org\", 13376)\n",
    "r.recvline()\n",
    "json_send(r, {\"option\": \"get_pubkey\"})\n",
    "N, e = [int(j, 16) for j in json_recv(r).values()]\n",
    "json_send(r, {\"option\": \"sign\", 'msg': long_to_bytes(211578328037).hex()})\n",
    "msg1, signature1 = [int(j, 16) for j in json_recv(r).values()]\n",
    "json_send(r, {\"option\": \"sign\", 'msg': long_to_bytes(2173767566209).hex()})\n",
    "msg2, signature2 = [int(j, 16) for j in json_recv(r).values()]\n",
    "signature = (signature1*signature2) % N\n",
    "json_send(r, {\"option\": \"verify\", 'msg': b\"admin=True\".hex(), 'signature': long_to_bytes(signature).hex()})\n",
    "json_recv(r)"
   ]
  },
  {
   "cell_type": "code",
   "execution_count": 13,
   "metadata": {},
   "outputs": [
    {
     "data": {
      "text/plain": [
       "6905102943281182702940089882647444870602088848513647185143649789313352798253355340352912826330992313834515019110226672106066078957769349722690816401432250320770439660239206971002217253847261275047602879892783920628946635485675771330190786037545515189090010379889989207845023694598310406333218527231082583698032669530566140533459616357603441586292834530870475769124961738955116044499094223486295679063906952368450416757806241757980358838887850986487355123336266773735700304309909202171704432634286594653097406269157244245842575842537328776065983985279663556753041024653222110210114984438411838044329161733346966319495"
      ]
     },
     "execution_count": 13,
     "metadata": {},
     "output_type": "execute_result"
    }
   ],
   "source": [
    "(signature1*signature2) % N"
   ]
  },
  {
   "cell_type": "code",
   "execution_count": 39,
   "metadata": {},
   "outputs": [
    {
     "data": {
      "text/plain": [
       "6305295338272083608297524258127350567209799137880887228713969486392890421309715107174857884419126784923554953172848983109757712092066721843613868334683250092987677386765104154953623379462281857069969235955343570275547213620518541122908960129636061254071908994101446589228015732224522350478695911117762332704697216674006594995776274107844953131602527342969852863910765944499120571083618169274207253626228829472388602989877782488445954261262639194902997197116072183758322287540688142226266780979736509717599119845026719011994202882099715472231543471442821781456981413507184053670999021878621398653213583665637802840194"
      ]
     },
     "execution_count": 39,
     "metadata": {},
     "output_type": "execute_result"
    }
   ],
   "source": [
    "# A^-1 ^ d mod n\n",
    "# A^-1 ^ d mod n"
   ]
  },
  {
   "cell_type": "code",
   "execution_count": 41,
   "metadata": {},
   "outputs": [
    {
     "data": {
      "text/plain": [
       "{mpz(211578328037): 1, 2173767566209: 1}"
      ]
     },
     "execution_count": 41,
     "metadata": {},
     "output_type": "execute_result"
    }
   ],
   "source": [
    "from sympy import factorint\n",
    "factorint(bytes_to_long(b\"admin=True\"))"
   ]
  },
  {
   "cell_type": "code",
   "execution_count": null,
   "metadata": {},
   "outputs": [],
   "source": [
    "211578328037"
   ]
  },
  {
   "cell_type": "code",
   "execution_count": 40,
   "metadata": {},
   "outputs": [
    {
     "data": {
      "text/plain": [
       "459922107199558918501733"
      ]
     },
     "execution_count": 40,
     "metadata": {},
     "output_type": "execute_result"
    }
   ],
   "source": [
    "inverse(inverse(bytes_to_long(b\"admin=True\"), N), N)"
   ]
  },
  {
   "cell_type": "code",
   "execution_count": 32,
   "metadata": {},
   "outputs": [
    {
     "data": {
      "text/plain": [
       "30258"
      ]
     },
     "execution_count": 32,
     "metadata": {},
     "output_type": "execute_result"
    }
   ],
   "source": [
    "(pow(246, 2, N)*inverse(b\"admin=True\", N)) % N"
   ]
  },
  {
   "cell_type": "code",
   "execution_count": 35,
   "metadata": {},
   "outputs": [
    {
     "data": {
      "text/plain": [
       "30258"
      ]
     },
     "execution_count": 35,
     "metadata": {},
     "output_type": "execute_result"
    }
   ],
   "source": [
    "(246**2 // 2) % N"
   ]
  },
  {
   "cell_type": "code",
   "execution_count": 22,
   "metadata": {},
   "outputs": [
    {
     "data": {
      "text/plain": [
       "459922107199558918501734"
      ]
     },
     "execution_count": 22,
     "metadata": {},
     "output_type": "execute_result"
    }
   ],
   "source": [
    "msg"
   ]
  },
  {
   "cell_type": "code",
   "execution_count": 8,
   "metadata": {},
   "outputs": [
    {
     "data": {
      "text/plain": [
       "'0b10111010010000111011011101'"
      ]
     },
     "execution_count": 8,
     "metadata": {},
     "output_type": "execute_result"
    }
   ],
   "source": [
    "bin(0b101**11)"
   ]
  },
  {
   "cell_type": "code",
   "execution_count": null,
   "metadata": {},
   "outputs": [],
   "source": [
    "# a**d mod n\n",
    "# (a)**d mod n"
   ]
  },
  {
   "cell_type": "code",
   "execution_count": null,
   "metadata": {},
   "outputs": [],
   "source": []
  }
 ],
 "metadata": {
  "kernelspec": {
   "display_name": ".venv",
   "language": "python",
   "name": "python3"
  },
  "language_info": {
   "codemirror_mode": {
    "name": "ipython",
    "version": 3
   },
   "file_extension": ".py",
   "mimetype": "text/x-python",
   "name": "python",
   "nbconvert_exporter": "python",
   "pygments_lexer": "ipython3",
   "version": "3.11.6"
  }
 },
 "nbformat": 4,
 "nbformat_minor": 2
}
