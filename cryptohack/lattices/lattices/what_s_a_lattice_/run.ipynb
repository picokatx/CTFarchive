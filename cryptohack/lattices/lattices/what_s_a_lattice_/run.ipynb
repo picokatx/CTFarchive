{
 "cells": [
  {
   "cell_type": "code",
   "execution_count": 35,
   "metadata": {},
   "outputs": [
    {
     "data": {
      "text/plain": [
       "255"
      ]
     },
     "execution_count": 35,
     "metadata": {},
     "output_type": "execute_result"
    }
   ],
   "source": [
    "from collections import namedtuple\n",
    "from math import sqrt\n",
    "from typing import List\n",
    "from numpy import linalg as ln\n",
    "import numpy as np\n",
    "\n",
    "Vector = namedtuple(\"Vector\", \"v\")\n",
    "\n",
    "def Vector__getitem__(self: Vector, i: int):\n",
    "    return self.v[i]\n",
    "def Vector__setitem__(self: Vector, i: int, a: int):\n",
    "    self.v[i] = a\n",
    "def Vector__len__(self: Vector):\n",
    "    return len(self.v)\n",
    "def Vector__add__(a: Vector, b: Vector):\n",
    "    return Vector([a[i]+b[i] for i in range(len(a))])\n",
    "def Vector__sub__(a: Vector, b: Vector):\n",
    "    return Vector([a[i]-b[i] for i in range(len(a))])\n",
    "def Vector__mul__(a: Vector, b: Vector):\n",
    "    return sum([a[i]*b[i] for i in range(len(a))])\n",
    "def Vector__rmul__(v: Vector, n: int):\n",
    "    return Vector([n*v[i] for i in range(len(v))])\n",
    "def Vector__truediv__(v: Vector, n: int):\n",
    "    return Vector([v[i]/n for i in range(len(v))])\n",
    "\n",
    "Basis = namedtuple(\"Basis\", \"V\")\n",
    "def Basis__getitem__(self: Basis, i: int):\n",
    "    return self.V[i]\n",
    "def Basis__setitem__(self: Basis, i: int, a: Vector):\n",
    "    self.V[i] = a\n",
    "def Basis__len__(self: Basis):\n",
    "    return len(self.V)\n",
    "def Basis_gram_schmidt_normalized(V: Basis):\n",
    "    U = Basis([Vector([0]*len(V[0]))]*len(V))\n",
    "    for i in range(0,len(V)):\n",
    "        U[i] = V[i]\n",
    "        for j in range(i):\n",
    "            U[i] -= (V[i]*U[j])*U[j]\n",
    "        U[i] /= sqrt(U[i]*U[i])\n",
    "    return U\n",
    "\n",
    "def Basis_gram_schmidt(V: Basis):\n",
    "    U = Basis([Vector([0]*len(V[0]))]*len(V))\n",
    "    for i in range(0,len(V)):\n",
    "        U[i] = V[i]\n",
    "        for j in range(i):\n",
    "            U[i] -= ((V[i]*U[j])/(U[j]*U[j]))*U[j]\n",
    "    return U\n",
    "\n",
    "def Basis_lattice_point(V: Basis, coeff: List[int]):\n",
    "    assert len(V)==len(coeff), \"lengths of coefficients and basis must be the same\"\n",
    "    return [coeff[i]*V[i] for i in range(len(coeff))]\n",
    "def Basis_determinant(V: Basis):\n",
    "    return round(abs(ln.det(np.array([[j for j in i.v] for i in V.V]))))\n",
    "\n",
    "Vector.__getitem__ = Vector__getitem__\n",
    "Vector.__setitem__ = Vector__setitem__\n",
    "Vector.__len__ = Vector__len__\n",
    "Vector.__add__ = Vector__add__\n",
    "Vector.__sub__ = Vector__sub__\n",
    "Vector.__mul__ = Vector__mul__\n",
    "Vector.__rmul__ = Vector__rmul__\n",
    "Vector.__truediv__ = Vector__truediv__\n",
    "\n",
    "Basis.gs = Basis_gram_schmidt\n",
    "Basis.gs_norm = Basis_gram_schmidt_normalized\n",
    "Basis.det = Basis_determinant\n",
    "Basis.lattice_point = Basis_lattice_point\n",
    "Basis.__getitem__ = Basis__getitem__\n",
    "Basis.__setitem__ = Basis__setitem__\n",
    "Basis.__len__ = Basis__len__\n",
    "\n",
    "V=Basis([Vector([6,2,-3]),Vector([5,1,4]),Vector([2,7,1])])\n",
    "V.det()"
   ]
  }
 ],
 "metadata": {
  "kernelspec": {
   "display_name": ".venv",
   "language": "python",
   "name": "python3"
  },
  "language_info": {
   "codemirror_mode": {
    "name": "ipython",
    "version": 3
   },
   "file_extension": ".py",
   "mimetype": "text/x-python",
   "name": "python",
   "nbconvert_exporter": "python",
   "pygments_lexer": "ipython3",
   "version": "3.11.6"
  }
 },
 "nbformat": 4,
 "nbformat_minor": 2
}
