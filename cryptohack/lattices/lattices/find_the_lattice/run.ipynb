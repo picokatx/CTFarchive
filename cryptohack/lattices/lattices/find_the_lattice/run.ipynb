{
 "cells": [
  {
   "cell_type": "code",
   "execution_count": 2,
   "metadata": {},
   "outputs": [
    {
     "name": "stdout",
     "output_type": "stream",
     "text": [
      "756324198896513920\n",
      "756324198896513920\n"
     ]
    }
   ],
   "source": [
    "from collections import namedtuple\n",
    "from math import sqrt, floor\n",
    "from typing import List\n",
    "from numpy import linalg as ln\n",
    "import numpy as np\n",
    "\n",
    "Vector = namedtuple(\"Vector\", \"v\")\n",
    "\n",
    "def Vector__getitem__(self: Vector, i: int):\n",
    "    return self.v[i]\n",
    "def Vector__setitem__(self: Vector, i: int, a: int):\n",
    "    self.v[i] = a\n",
    "def Vector__len__(self: Vector):\n",
    "    return len(self.v)\n",
    "def Vector__size__(self: Vector):\n",
    "    return sqrt(self*self)\n",
    "def Vector__add__(a: Vector, b: Vector):\n",
    "    return Vector([a[i]+b[i] for i in range(len(a))])\n",
    "def Vector__sub__(a: Vector, b: Vector):\n",
    "    return Vector([a[i]-b[i] for i in range(len(a))])\n",
    "def Vector__mul__(a: Vector, b: Vector):\n",
    "    return sum([a[i]*b[i] for i in range(len(a))])\n",
    "def Vector__rmul__(v: Vector, n: int):\n",
    "    return Vector([n*v[i] for i in range(len(v))])\n",
    "def Vector__truediv__(v: Vector, n: int):\n",
    "    return Vector([v[i]/n for i in range(len(v))])\n",
    "\n",
    "Basis = namedtuple(\"Basis\", \"V\")\n",
    "def Basis__getitem__(self: Basis, i: int):\n",
    "    return self.V[i]\n",
    "def Basis__setitem__(self: Basis, i: int, a: Vector):\n",
    "    self.V[i] = a\n",
    "def Basis__len__(self: Basis):\n",
    "    return len(self.V)\n",
    "def Basis_gram_schmidt_normalized(V: Basis):\n",
    "    U = Basis([Vector([0]*len(V[0]))]*len(V))\n",
    "    for i in range(0,len(V)):\n",
    "        U[i] = V[i]\n",
    "        for j in range(i):\n",
    "            U[i] -= (V[i]*U[j])*U[j]\n",
    "        U[i] /= sqrt(U[i]*U[i])\n",
    "    return U\n",
    "\n",
    "def Basis_gram_schmidt(V: Basis):\n",
    "    U = Basis([Vector([0]*len(V[0]))]*len(V))\n",
    "    for i in range(0,len(V)):\n",
    "        U[i] = V[i]\n",
    "        for j in range(i):\n",
    "            U[i] -= ((V[i]*U[j])/(U[j]*U[j]))*U[j]\n",
    "    return U\n",
    "\n",
    "def Basis_lattice_point(V: Basis, coeff: List[int]):\n",
    "    assert len(V)==len(coeff), \"lengths of coefficients and basis must be the same\"\n",
    "    return [coeff[i]*V[i] for i in range(len(coeff))]\n",
    "def Basis_determinant(V: Basis):\n",
    "    return round(abs(ln.det(np.array([[j for j in i.v] for i in V.V]))))\n",
    "\n",
    "Vector.__getitem__ = Vector__getitem__\n",
    "Vector.__setitem__ = Vector__setitem__\n",
    "Vector.__len__ = Vector__len__\n",
    "Vector.__add__ = Vector__add__\n",
    "Vector.__sub__ = Vector__sub__\n",
    "Vector.__mul__ = Vector__mul__\n",
    "Vector.__rmul__ = Vector__rmul__\n",
    "Vector.__truediv__ = Vector__truediv__\n",
    "Vector.size = Vector__size__\n",
    "\n",
    "Basis.gs = Basis_gram_schmidt\n",
    "Basis.gs_norm = Basis_gram_schmidt_normalized\n",
    "Basis.det = Basis_determinant\n",
    "Basis.lattice_point = Basis_lattice_point\n",
    "Basis.__getitem__ = Basis__getitem__\n",
    "Basis.__setitem__ = Basis__setitem__\n",
    "Basis.__len__ = Basis__len__\n",
    "\n",
    "def gaussian_lat_red(v1: Vector, v2: Vector):\n",
    "    while True:\n",
    "        if v2.size()<v1.size(): v2, v1 = v1, v2\n",
    "        m = floor((v1*v2)/(v1*v1))\n",
    "        if m<0: assert False, \"failed to reduce lattice\"\n",
    "        if m==0: return v1, v2\n",
    "        v2 -= m*v1\n",
    "\n",
    "v1 = Vector([846835985,9834798552])\n",
    "v2 = Vector([87502093,123094980])\n",
    "print(Basis([v1, v2]).det())\n",
    "_v1, _v2 = gaussian_lat_red(v1, v2)\n",
    "print(Basis([_v1, _v2]).det())"
   ]
  },
  {
   "cell_type": "code",
   "execution_count": 6,
   "metadata": {},
   "outputs": [
    {
     "data": {
      "text/plain": [
       "b'crypto{Gauss_lattice_attack!}'"
      ]
     },
     "execution_count": 6,
     "metadata": {},
     "output_type": "execute_result"
    }
   ],
   "source": [
    "from Crypto.Util.number import inverse, long_to_bytes\n",
    "q, h = (7638232120454925879231554234011842347641017888219021175304217358715878636183252433454896490677496516149889316745664606749499241420160898019203925115292257, 2163268902194560093843693572170199707501787797497998463462129592239973581462651622978282637513865274199374452805292639586264791317439029535926401109074800)\n",
    "e = 5605696495253720664142881956908624307570671858477482119657436163663663844731169035682344974286379049123733356009125671924280312532755241162267269123486523\n",
    "f, g = gaussian_lat_red(Vector([1, h]), Vector([0, q]))[0].v\n",
    "a = (f*e) % q\n",
    "m = (a*inverse(f, g)) % g\n",
    "long_to_bytes(m)"
   ]
  },
  {
   "cell_type": "code",
   "execution_count": null,
   "metadata": {},
   "outputs": [],
   "source": [
    "# %q\n",
    "# h = f^-1*g\n",
    "# e = rh + m = rf^-1*g + m\n",
    "# a = fe = rg+fm\n",
    "\n",
    "# %g\n",
    "# m = f^-1a"
   ]
  }
 ],
 "metadata": {
  "kernelspec": {
   "display_name": ".venv",
   "language": "python",
   "name": "python3"
  },
  "language_info": {
   "codemirror_mode": {
    "name": "ipython",
    "version": 3
   },
   "file_extension": ".py",
   "mimetype": "text/x-python",
   "name": "python",
   "nbconvert_exporter": "python",
   "pygments_lexer": "ipython3",
   "version": "3.11.6"
  }
 },
 "nbformat": 4,
 "nbformat_minor": 2
}
