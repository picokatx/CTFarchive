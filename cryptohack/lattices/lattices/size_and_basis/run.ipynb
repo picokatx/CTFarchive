{
 "cells": [
  {
   "cell_type": "code",
   "execution_count": 4,
   "metadata": {},
   "outputs": [
    {
     "data": {
      "text/plain": [
       "9"
      ]
     },
     "execution_count": 4,
     "metadata": {},
     "output_type": "execute_result"
    }
   ],
   "source": [
    "from collections import namedtuple\n",
    "from math import isqrt\n",
    "Vector = namedtuple(\"Vector\", \"v\")\n",
    "\n",
    "def Vector__getitem__(self: Vector, i: int):\n",
    "    return self.v[i]\n",
    "def Vector__len__(self: Vector):\n",
    "    return len(self.v)\n",
    "def Vector__add__(a: Vector, b: Vector):\n",
    "    return Vector([a[i]+b[i] for i in range(len(a))])\n",
    "def Vector__sub__(a: Vector, b: Vector):\n",
    "    return Vector([a[i]-b[i] for i in range(len(a))])\n",
    "def Vector__mul__(a: Vector, b: Vector):\n",
    "    return sum([a[i]*b[i] for i in range(len(a))])\n",
    "def Vector__rmul__(v: Vector, n: int):\n",
    "    return Vector([n*v[i] for i in range(len(v))])\n",
    "\n",
    "Vector.__getitem__ = Vector__getitem__\n",
    "Vector.__len__ = Vector__len__\n",
    "Vector.__add__ = Vector__add__\n",
    "Vector.__sub__ = Vector__sub__\n",
    "Vector.__mul__ = Vector__mul__\n",
    "Vector.__rmul__ = Vector__rmul__\n",
    "\n",
    "v=Vector([4,6,2,5])\n",
    "isqrt(v*v)"
   ]
  },
  {
   "cell_type": "code",
   "execution_count": null,
   "metadata": {},
   "outputs": [],
   "source": []
  }
 ],
 "metadata": {
  "kernelspec": {
   "display_name": ".venv",
   "language": "python",
   "name": "python3"
  },
  "language_info": {
   "codemirror_mode": {
    "name": "ipython",
    "version": 3
   },
   "file_extension": ".py",
   "mimetype": "text/x-python",
   "name": "python",
   "nbconvert_exporter": "python",
   "pygments_lexer": "ipython3",
   "version": "3.11.6"
  }
 },
 "nbformat": 4,
 "nbformat_minor": 2
}
