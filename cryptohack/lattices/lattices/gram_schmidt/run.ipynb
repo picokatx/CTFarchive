{
 "cells": [
  {
   "cell_type": "code",
   "execution_count": 61,
   "metadata": {},
   "outputs": [],
   "source": [
    "from collections import namedtuple\n",
    "from math import isqrt\n",
    "Vector = namedtuple(\"Vector\", \"v\")\n",
    "\n",
    "def Vector__getitem__(self: Vector, i: int):\n",
    "    return self.v[i]\n",
    "def Vector__len__(self: Vector):\n",
    "    return len(self.v)\n",
    "def Vector__add__(a: Vector, b: Vector):\n",
    "    return Vector([a[i]+b[i] for i in range(len(a))])\n",
    "def Vector__sub__(a: Vector, b: Vector):\n",
    "    return Vector([a[i]-b[i] for i in range(len(a))])\n",
    "def Vector__mul__(a: Vector, b: Vector):\n",
    "    return sum([a[i]*b[i] for i in range(len(a))])\n",
    "def Vector__rmul__(v: Vector, n: int):\n",
    "    return Vector([n*v[i] for i in range(len(v))])\n",
    "def Vector__truediv__(v: Vector, n: int):\n",
    "    return Vector([v[i]/n for i in range(len(v))])\n",
    "\n",
    "Vector.__getitem__ = Vector__getitem__\n",
    "Vector.__len__ = Vector__len__\n",
    "Vector.__add__ = Vector__add__\n",
    "Vector.__sub__ = Vector__sub__\n",
    "Vector.__mul__ = Vector__mul__\n",
    "Vector.__rmul__ = Vector__rmul__\n",
    "Vector.__truediv__ = Vector__truediv__\n",
    "\n",
    "v=[Vector([4,1,3,-1]), Vector([2,1,-3,4]), Vector([1,0,-2,7]), Vector([6,2,9,-5])]\n"
   ]
  },
  {
   "cell_type": "code",
   "execution_count": 147,
   "metadata": {},
   "outputs": [
    {
     "data": {
      "text/plain": [
       "[Vector(v=[4*sqrt(3)/9, sqrt(3)/9, sqrt(3)/3, -sqrt(3)/9]),\n",
       " Vector(v=[35*sqrt(2382)/3573, 31*sqrt(2382)/7146, -23*sqrt(2382)/2382, 52*sqrt(2382)/3573]),\n",
       " Vector(v=[-287*sqrt(177459)/532377, -45*sqrt(177459)/59153, 799*sqrt(177459)/532377, 844*sqrt(177459)/532377]),\n",
       " Vector(v=[-16*sqrt(894)/1341, 9*sqrt(894)/298, 19*sqrt(894)/2682, 5*sqrt(894)/1341])]"
      ]
     },
     "execution_count": 147,
     "metadata": {},
     "output_type": "execute_result"
    }
   ],
   "source": [
    "# was a stupid and thought orthonormal basis was the task. to make orthonormal\n",
    "# basis just divide by size of ui rather than all sizes of uj\n",
    "from typing import List\n",
    "from sympy import sqrt\n",
    "def gram_schmidt(v: List[Vector]):\n",
    "    u = [Vector([0,0,0,0])]*len(v)\n",
    "    for i in range(0,len(v)):\n",
    "        u[i] = v[i]\n",
    "        for j in range(i):\n",
    "            u[i] -= ((v[i]*u[j]))*u[j]\n",
    "        u[i] /= sqrt(u[i]*u[i])\n",
    "    return u\n",
    "# [sqrt(i*i) for i in gram_schmidt(v)]\n",
    "gram_schmidt(v)"
   ]
  },
  {
   "cell_type": "code",
   "execution_count": 150,
   "metadata": {},
   "outputs": [
    {
     "data": {
      "text/latex": [
       "$\\displaystyle 0.90302$"
      ],
      "text/plain": [
       "0.90302"
      ]
     },
     "execution_count": 150,
     "metadata": {},
     "output_type": "execute_result"
    }
   ],
   "source": [
    "(9*sqrt(894)/298).round(5)"
   ]
  }
 ],
 "metadata": {
  "kernelspec": {
   "display_name": ".venv",
   "language": "python",
   "name": "python3"
  },
  "language_info": {
   "codemirror_mode": {
    "name": "ipython",
    "version": 3
   },
   "file_extension": ".py",
   "mimetype": "text/x-python",
   "name": "python",
   "nbconvert_exporter": "python",
   "pygments_lexer": "ipython3",
   "version": "3.11.6"
  }
 },
 "nbformat": 4,
 "nbformat_minor": 2
}
