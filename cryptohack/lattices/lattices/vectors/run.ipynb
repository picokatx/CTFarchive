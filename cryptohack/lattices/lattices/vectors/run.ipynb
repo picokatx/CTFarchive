{
 "cells": [
  {
   "cell_type": "code",
   "execution_count": 51,
   "metadata": {},
   "outputs": [
    {
     "data": {
      "text/plain": [
       "702"
      ]
     },
     "execution_count": 51,
     "metadata": {},
     "output_type": "execute_result"
    }
   ],
   "source": [
    "from collections import namedtuple\n",
    "Vector = namedtuple(\"Vector\", \"v\")\n",
    "\n",
    "def Vector__getitem__(self: Vector, i: int):\n",
    "    return self.v[i]\n",
    "def Vector__len__(self: Vector):\n",
    "    return len(self.v)\n",
    "def Vector__add__(a: Vector, b: Vector):\n",
    "    return Vector([a[i]+b[i] for i in range(len(a))])\n",
    "def Vector__sub__(a: Vector, b: Vector):\n",
    "    return Vector([a[i]-b[i] for i in range(len(a))])\n",
    "def Vector__mul__(a: Vector, b: Vector):\n",
    "    return sum([a[i]*b[i] for i in range(len(a))])\n",
    "def Vector__rmul__(v: Vector, n: int):\n",
    "    return Vector([n*v[i] for i in range(len(v))])\n",
    "\n",
    "Vector.__getitem__ = Vector__getitem__\n",
    "Vector.__len__ = Vector__len__\n",
    "Vector.__add__ = Vector__add__\n",
    "Vector.__sub__ = Vector__sub__\n",
    "Vector.__mul__ = Vector__mul__\n",
    "Vector.__rmul__ = Vector__rmul__\n",
    "\n",
    "v=Vector([2,6,3])\n",
    "w=Vector([1,0,0])\n",
    "u=Vector([7,7,2])\n",
    "3*(2*v-w)*(2*u)"
   ]
  }
 ],
 "metadata": {
  "kernelspec": {
   "display_name": ".venv",
   "language": "python",
   "name": "python3"
  },
  "language_info": {
   "codemirror_mode": {
    "name": "ipython",
    "version": 3
   },
   "file_extension": ".py",
   "mimetype": "text/x-python",
   "name": "python",
   "nbconvert_exporter": "python",
   "pygments_lexer": "ipython3",
   "version": "3.11.6"
  }
 },
 "nbformat": 4,
 "nbformat_minor": 2
}
