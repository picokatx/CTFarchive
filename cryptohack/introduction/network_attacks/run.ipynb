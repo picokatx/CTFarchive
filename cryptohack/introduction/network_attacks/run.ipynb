{
 "cells": [
  {
   "cell_type": "code",
   "execution_count": 3,
   "metadata": {},
   "outputs": [
    {
     "name": "stdout",
     "output_type": "stream",
     "text": [
      "b\"Welcome to netcat's flag shop!\\n\"\n",
      "b'What would you like to buy?\\n'\n",
      "b\"I only speak JSON, I hope that's ok.\\n\"\n",
      "b'\\n'\n",
      "{'flag': 'crypto{sh0pp1ng_f0r_fl4g5}'}\n"
     ]
    }
   ],
   "source": [
    "#!/usr/bin/env python3\n",
    "from pwnlib.tubes.remote import remote\n",
    "import json\n",
    "\n",
    "HOST = \"socket.cryptohack.org\"\n",
    "PORT = 11112\n",
    "\n",
    "r = remote(HOST, PORT)\n",
    "\n",
    "\n",
    "def json_recv():\n",
    "    line = r.readline()\n",
    "    return json.loads(line.decode())\n",
    "\n",
    "def json_send(hsh):\n",
    "    request = json.dumps(hsh).encode()\n",
    "    r.sendline(request)\n",
    "\n",
    "\n",
    "print(r.readline())\n",
    "print(r.readline())\n",
    "print(r.readline())\n",
    "print(r.readline())\n",
    "\n",
    "request = {\n",
    "    \"buy\": \"flag\"\n",
    "}\n",
    "json_send(request)\n",
    "\n",
    "response = json_recv()\n",
    "\n",
    "print(response)\n"
   ]
  }
 ],
 "metadata": {
  "kernelspec": {
   "display_name": ".venv",
   "language": "python",
   "name": "python3"
  },
  "language_info": {
   "codemirror_mode": {
    "name": "ipython",
    "version": 3
   },
   "file_extension": ".py",
   "mimetype": "text/x-python",
   "name": "python",
   "nbconvert_exporter": "python",
   "pygments_lexer": "ipython3",
   "version": "3.11.6"
  }
 },
 "nbformat": 4,
 "nbformat_minor": 2
}
