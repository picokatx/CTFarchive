{
 "cells": [
  {
   "cell_type": "code",
   "execution_count": 22,
   "metadata": {},
   "outputs": [],
   "source": [
    "import random\n",
    "import numpy as np\n",
    "from Crypto.Util.number import long_to_bytes\n",
    "P = 2\n",
    "N = 50\n",
    "E = 31337\n",
    "def bytes_to_binary(s):\n",
    "    bin_str = ''.join(format(b, '08b') for b in s)\n",
    "    bits = [int(c) for c in bin_str]\n",
    "    return bits"
   ]
  },
  {
   "cell_type": "code",
   "execution_count": null,
   "metadata": {},
   "outputs": [],
   "source": [
    "FLAG = b'crypto{??????????????????????????}'\n",
    "\n",
    "\n",
    "def generate_mat():\n",
    "    while True:\n",
    "        msg = bytes_to_binary(FLAG)\n",
    "        msg += [random.randint(0, 1) for _ in range(N*N - len(msg))]\n",
    "\n",
    "        rows = [msg[i::N] for i in range(N)]\n",
    "        mat = Matrix(GF(2), rows)\n",
    "\n",
    "        if mat.determinant() != 0 and mat.multiplicative_order() > 10^12:\n",
    "            return mat\n",
    "\n",
    "def load_matrix(fname):\n",
    "    data = open(fname, 'r').read().strip()\n",
    "    rows = [list(map(int, row)) for row in data.splitlines()]\n",
    "    return Matrix(GF(P), rows)\n",
    "\n",
    "def save_matrix(M, fname):\n",
    "    open(fname, 'w').write('\\n'.join(''.join(str(x) for x in row) for row in M))\n",
    "\n",
    "mat = generate_mat()\n",
    "\n",
    "ciphertext = mat^E # power in sage\n",
    "save_matrix(ciphertext, 'flag.enc')\n"
   ]
  },
  {
   "cell_type": "code",
   "execution_count": 125,
   "metadata": {},
   "outputs": [
    {
     "ename": "NotImplementedError",
     "evalue": "could not solve Mod(m_0_0*m_0_1 + m_0_1*m_1_1, 2)",
     "output_type": "error",
     "traceback": [
      "\u001b[1;31m---------------------------------------------------------------------------\u001b[0m",
      "\u001b[1;31mNotImplementedError\u001b[0m                       Traceback (most recent call last)",
      "Cell \u001b[1;32mIn[125], line 48\u001b[0m\n\u001b[0;32m     45\u001b[0m exponent \u001b[38;5;241m=\u001b[39m \u001b[38;5;241m2\u001b[39m\n\u001b[0;32m     46\u001b[0m result_matrix \u001b[38;5;241m=\u001b[39m np\u001b[38;5;241m.\u001b[39marray([[\u001b[38;5;241m1\u001b[39m, \u001b[38;5;241m0\u001b[39m], [\u001b[38;5;241m0\u001b[39m, \u001b[38;5;241m1\u001b[39m]])  \u001b[38;5;66;03m# Example result matrix in GF(2)\u001b[39;00m\n\u001b[1;32m---> 48\u001b[0m solutions \u001b[38;5;241m=\u001b[39m \u001b[43mreverse_matrix_exponentiation_gf2\u001b[49m\u001b[43m(\u001b[49m\u001b[43mexponent\u001b[49m\u001b[43m,\u001b[49m\u001b[43m \u001b[49m\u001b[43mresult_matrix\u001b[49m\u001b[43m)\u001b[49m\n\u001b[0;32m     49\u001b[0m \u001b[38;5;28mprint\u001b[39m(\u001b[38;5;124m\"\u001b[39m\u001b[38;5;124mPossible solutions for the matrix M:\u001b[39m\u001b[38;5;124m\"\u001b[39m)\n\u001b[0;32m     50\u001b[0m \u001b[38;5;28;01mfor\u001b[39;00m sol \u001b[38;5;129;01min\u001b[39;00m solutions:\n",
      "Cell \u001b[1;32mIn[125], line 34\u001b[0m, in \u001b[0;36mreverse_matrix_exponentiation_gf2\u001b[1;34m(exponent, result_matrix)\u001b[0m\n\u001b[0;32m     31\u001b[0m mod_eq \u001b[38;5;241m=\u001b[39m Eq(Mod(power_M, \u001b[38;5;241m2\u001b[39m), Matrix(result_matrix))\n\u001b[0;32m     33\u001b[0m \u001b[38;5;66;03m# Solve the equation for the matrix entries (all in GF(2))\u001b[39;00m\n\u001b[1;32m---> 34\u001b[0m solutions \u001b[38;5;241m=\u001b[39m \u001b[43msolve\u001b[49m\u001b[43m(\u001b[49m\u001b[43mmod_eq\u001b[49m\u001b[43m,\u001b[49m\u001b[43m \u001b[49m\u001b[43mM\u001b[49m\u001b[43m)\u001b[49m\n\u001b[0;32m     36\u001b[0m \u001b[38;5;66;03m# Filter valid GF(2) solutions (all matrix entries must be 0 or 1)\u001b[39;00m\n\u001b[0;32m     37\u001b[0m valid_solutions \u001b[38;5;241m=\u001b[39m []\n",
      "File \u001b[1;32mc:\\Users\\picokatx\\Documents\\CTF\\.venv\\Lib\\site-packages\\sympy\\solvers\\solvers.py:1172\u001b[0m, in \u001b[0;36msolve\u001b[1;34m(f, *symbols, **flags)\u001b[0m\n\u001b[0;32m   1170\u001b[0m         solution \u001b[38;5;241m=\u001b[39m _solve(f[\u001b[38;5;241m0\u001b[39m], \u001b[38;5;241m*\u001b[39msymbols, \u001b[38;5;241m*\u001b[39m\u001b[38;5;241m*\u001b[39mflags)\n\u001b[0;32m   1171\u001b[0m \u001b[38;5;28;01melse\u001b[39;00m:\n\u001b[1;32m-> 1172\u001b[0m     linear, solution \u001b[38;5;241m=\u001b[39m \u001b[43m_solve_system\u001b[49m\u001b[43m(\u001b[49m\u001b[43mf\u001b[49m\u001b[43m,\u001b[49m\u001b[43m \u001b[49m\u001b[43msymbols\u001b[49m\u001b[43m,\u001b[49m\u001b[43m \u001b[49m\u001b[38;5;241;43m*\u001b[39;49m\u001b[38;5;241;43m*\u001b[39;49m\u001b[43mflags\u001b[49m\u001b[43m)\u001b[49m\n\u001b[0;32m   1173\u001b[0m \u001b[38;5;28;01massert\u001b[39;00m \u001b[38;5;28mtype\u001b[39m(solution) \u001b[38;5;129;01mis\u001b[39;00m \u001b[38;5;28mlist\u001b[39m\n\u001b[0;32m   1174\u001b[0m \u001b[38;5;28;01massert\u001b[39;00m \u001b[38;5;129;01mnot\u001b[39;00m solution \u001b[38;5;129;01mor\u001b[39;00m \u001b[38;5;28mtype\u001b[39m(solution[\u001b[38;5;241m0\u001b[39m]) \u001b[38;5;129;01mis\u001b[39;00m \u001b[38;5;28mdict\u001b[39m, solution\n",
      "File \u001b[1;32mc:\\Users\\picokatx\\Documents\\CTF\\.venv\\Lib\\site-packages\\sympy\\solvers\\solvers.py:1998\u001b[0m, in \u001b[0;36m_solve_system\u001b[1;34m(exprs, symbols, **flags)\u001b[0m\n\u001b[0;32m   1996\u001b[0m         got_s\u001b[38;5;241m.\u001b[39madd(s)\n\u001b[0;32m   1997\u001b[0m     \u001b[38;5;28;01mif\u001b[39;00m \u001b[38;5;129;01mnot\u001b[39;00m hit:\n\u001b[1;32m-> 1998\u001b[0m         \u001b[38;5;28;01mraise\u001b[39;00m \u001b[38;5;167;01mNotImplementedError\u001b[39;00m(\u001b[38;5;124m'\u001b[39m\u001b[38;5;124mcould not solve \u001b[39m\u001b[38;5;132;01m%s\u001b[39;00m\u001b[38;5;124m'\u001b[39m \u001b[38;5;241m%\u001b[39m eq2)\n\u001b[0;32m   1999\u001b[0m \u001b[38;5;28;01melse\u001b[39;00m:\n\u001b[0;32m   2000\u001b[0m     result \u001b[38;5;241m=\u001b[39m newresult\n",
      "\u001b[1;31mNotImplementedError\u001b[0m: could not solve Mod(m_0_0*m_0_1 + m_0_1*m_1_1, 2)"
     ]
    }
   ],
   "source": [
    "import numpy as np\n",
    "from sympy import Matrix, symbols, Eq, Mod, solve\n",
    "\n",
    "def matrix_power_gf2(matrix, exponent):\n",
    "    \"\"\"\n",
    "    Raise a matrix to a given exponent in GF(2).\n",
    "    :param matrix: The input matrix (NumPy array).\n",
    "    :param exponent: The exponent to raise the matrix to.\n",
    "    :return: The result of matrix raised to the exponent in GF(2).\n",
    "    \"\"\"\n",
    "    result = np.eye(matrix.shape[0], dtype=int)  # Identity matrix\n",
    "    for _ in range(exponent):\n",
    "        result = np.dot(result, matrix) % 2  # Matrix multiplication mod 2\n",
    "    return result\n",
    "\n",
    "def reverse_matrix_exponentiation_gf2(exponent, result_matrix):\n",
    "    \"\"\"\n",
    "    Reverse matrix exponentiation in GF(2).\n",
    "    Finds a matrix M such that M^exponent = result_matrix in GF(2).\n",
    "    \n",
    "    :param exponent: The exponent.\n",
    "    :param result_matrix: The result matrix in GF(2).\n",
    "    :return: The matrix M that satisfies M^exponent = result_matrix.\n",
    "    \"\"\"\n",
    "    n = result_matrix.shape[0]\n",
    "    # Create symbolic matrix M with entries m_ij\n",
    "    M = Matrix(n, n, lambda i, j: symbols(f'm_{i}_{j}', integer=True))\n",
    "    \n",
    "    # Define the matrix exponentiation equation M^exponent % 2 == result_matrix\n",
    "    power_M = M**exponent\n",
    "    mod_eq = Eq(Mod(power_M, 2), Matrix(result_matrix))\n",
    "    \n",
    "    # Solve the equation for the matrix entries (all in GF(2))\n",
    "    solutions = solve(mod_eq, M)\n",
    "    \n",
    "    # Filter valid GF(2) solutions (all matrix entries must be 0 or 1)\n",
    "    valid_solutions = []\n",
    "    for sol in solutions:\n",
    "        if all(v in (0, 1) for v in sol.values()):\n",
    "            valid_solutions.append(sol)\n",
    "    \n",
    "    return valid_solutions\n",
    "\n",
    "# Example usage:\n",
    "exponent = 2\n",
    "result_matrix = np.array([[1, 0], [0, 1]])  # Example result matrix in GF(2)\n",
    "\n",
    "solutions = reverse_matrix_exponentiation_gf2(exponent, result_matrix)\n",
    "print(\"Possible solutions for the matrix M:\")\n",
    "for sol in solutions:\n",
    "    print(sol)"
   ]
  },
  {
   "cell_type": "code",
   "execution_count": 62,
   "metadata": {},
   "outputs": [
    {
     "data": {
      "text/plain": [
       "GF([[0, 0, 0, ..., 0, 0, 1],\n",
       "    [1, 0, 1, ..., 0, 0, 1],\n",
       "    [0, 1, 0, ..., 1, 1, 1],\n",
       "    ...,\n",
       "    [0, 0, 0, ..., 0, 0, 1],\n",
       "    [1, 1, 1, ..., 0, 1, 1],\n",
       "    [0, 0, 1, ..., 1, 1, 0]], order=2)"
      ]
     },
     "execution_count": 62,
     "metadata": {},
     "output_type": "execute_result"
    }
   ],
   "source": [
    "from galois import GF\n",
    "\n",
    "data = open(\"flag_403b981c77d39217c20390c1729b15f0.enc\", 'r').read().strip()\n",
    "rows = [list(map(int, row)) for row in data.splitlines()]\n",
    "dat = np.array(rows, dtype=np.int8)\n",
    "out = GF(P)(dat)\n",
    "out"
   ]
  },
  {
   "cell_type": "code",
   "execution_count": 73,
   "metadata": {},
   "outputs": [
    {
     "data": {
      "text/plain": [
       "GF([0, 0, 1, 1, 0, 0, 0, 0, 0, 0, 0, 1, 0, 0, 1, 1, 0, 0, 0, 0, 0, 0, 1,\n",
       "    1, 0, 0, 1, 0, 1, 1, 0, 1, 0, 0, 1, 0, 0, 0, 1, 1, 1, 1, 0, 0, 1, 0,\n",
       "    0, 0, 0, 1], order=2)"
      ]
     },
     "execution_count": 73,
     "metadata": {},
     "output_type": "execute_result"
    }
   ],
   "source": [
    "np.matmul(out, out)[1]"
   ]
  },
  {
   "cell_type": "code",
   "execution_count": 123,
   "metadata": {},
   "outputs": [
    {
     "name": "stdout",
     "output_type": "stream",
     "text": [
      "594\n",
      "1189\n",
      "1784\n",
      "2379\n",
      "2974\n",
      "3569\n",
      "4164\n",
      "4759\n",
      "5354\n",
      "5949\n",
      "6544\n",
      "7139\n",
      "7734\n",
      "8329\n",
      "8924\n",
      "9519\n"
     ]
    },
    {
     "data": {
      "text/plain": [
       "GF([[0, 1, 1, 1, 0, 0, 0, 0, 0, 0, 0, 0, 0, 1, 0, 0],\n",
       "    [0, 1, 0, 0, 0, 1, 1, 0, 0, 0, 1, 0, 1, 1, 1, 0],\n",
       "    [1, 1, 1, 0, 0, 0, 1, 0, 0, 0, 0, 0, 0, 0, 1, 0],\n",
       "    [1, 0, 0, 1, 0, 1, 0, 0, 1, 1, 1, 1, 1, 1, 0, 1],\n",
       "    [0, 0, 0, 1, 1, 1, 0, 1, 0, 0, 0, 1, 1, 0, 0, 1],\n",
       "    [0, 0, 1, 1, 0, 1, 0, 1, 1, 0, 0, 0, 1, 0, 1, 0],\n",
       "    [1, 1, 1, 0, 1, 1, 0, 1, 0, 1, 0, 0, 0, 1, 0, 0],\n",
       "    [1, 1, 0, 0, 1, 1, 1, 0, 0, 0, 0, 0, 1, 1, 1, 0],\n",
       "    [1, 1, 0, 1, 0, 0, 1, 1, 0, 1, 1, 1, 1, 1, 0, 1],\n",
       "    [0, 1, 1, 1, 1, 0, 0, 1, 0, 1, 0, 1, 1, 0, 0, 1],\n",
       "    [1, 1, 1, 0, 0, 1, 0, 1, 1, 0, 0, 0, 0, 1, 1, 0],\n",
       "    [0, 1, 0, 1, 1, 1, 0, 0, 1, 1, 0, 0, 1, 0, 1, 1],\n",
       "    [0, 1, 1, 1, 0, 0, 0, 1, 1, 0, 1, 0, 0, 1, 0, 0],\n",
       "    [1, 0, 0, 1, 1, 0, 0, 0, 0, 1, 1, 1, 1, 1, 1, 1],\n",
       "    [0, 1, 0, 0, 0, 0, 0, 0, 1, 1, 0, 0, 0, 0, 0, 1],\n",
       "    [0, 0, 1, 0, 1, 0, 1, 0, 1, 1, 1, 0, 1, 1, 1, 0]], order=2)"
      ]
     },
     "execution_count": 123,
     "metadata": {},
     "output_type": "execute_result"
    }
   ],
   "source": [
    "size = 16\n",
    "test = GF(P)(dat[0:size, 0:size])\n",
    "temp = test\n",
    "for i in range(10000):\n",
    "    temp = np.matmul(temp, test)\n",
    "    if ((temp==test).all() or (temp+test).all()): print(i)\n",
    "temp"
   ]
  },
  {
   "cell_type": "code",
   "execution_count": 7,
   "metadata": {},
   "outputs": [],
   "source": [
    "# ([str(i) for i in range(50)]*50)[1::N]"
   ]
  },
  {
   "cell_type": "code",
   "execution_count": 41,
   "metadata": {},
   "outputs": [],
   "source": [
    "import galois\n",
    "from galois import GF\n",
    "import binascii\n",
    "data = open(\"flag_403b981c77d39217c20390c1729b15f0.enc\", 'r').read().strip()\n",
    "rows = [list(map(int, row)) for row in data.splitlines()]\n",
    "dat = np.array(rows, dtype=np.int8)\n",
    "plain = dat.T.reshape((N*N))\n",
    "# plain = np.array([[dat[i] for i in range(j, len(dat), 50)] for j in range(0,50)])\n",
    "# flag = plain.reshape((N*N))"
   ]
  },
  {
   "cell_type": "code",
   "execution_count": 44,
   "metadata": {},
   "outputs": [
    {
     "data": {
      "text/plain": [
       "b'\\x05\\xc4(N*\\xff(\\xe7\\xa6\\xc8\\x8a\\xed\\x02X\\xa9\\xe3\\x15\\xd0\\xc4\\xdb\\xa4o\\xb0\\xe2cw\\xbc\\xfbfu\\x15\\xd8\\xed\\xb6\"`\\x82~M$T@\\x9e4k|\\xdd:\\x97\\xf9H\\xc8\\xfb\\x88\\x08\\x17?K\\x1b\\xb4\\x94\\x86w\\x9c\\x1eV\\x87\\x89\\x1a8[\\xbb\\x96\\x87\\xbe\\xb3=q\\xacw\\x8f\\xc6k~\\x7f\\xefvn\\xe1Q\\xdd>\\xac\\x9c\\x9e\\x9a\\xef\\xec\\xca\\xe30\\x05\\xaf*7\\x8e\\\\\\xae\\xf4\\xd2\\xb7\\xe4\\xf2\\x07Uz\\xbf\\xfc\\x93>_/\\xbaE\\x9a\\x99\\x15\\xfd\\xe8V\\x88Y\\xc5\\x1f\\xa9%\\xc6\\xee\\xd8\\x0f\\xfb\\x91\\x12[I1\\x0bs7[\\x1d\\xdd%N\\xdfb%d\\x89G\\xfd.\\x17lZ\\xef\\x8f\\xec\\x8fv+\\xf7]a\\xaeu\\xa7u\\x9f\\xc0X\\x99\\xb6W$\\x18\\xd6\\tBg2.~\\xe1c\\xee\\x0e\\x0c\\xc3\\xb1c@ \\x8b\\n\\x0e\\x91\\xb6j\\x9eI\\x98l\\xe5\\xf8\\xa5\\xbb\\x15\\x17\\x08\\xfb\\xc5C\\xc80\\xcb\\xf8\\xaf9\\x07Q\\xf6\\x1b\\xb8T\\xfdA\\xdb4\\x1f\\x91j\\xf5\\x8f\\x8f\\xe2\\xec\\xe3\\x05-d\\x87\\xb8\\x83\\xfb5\\x0e\\x8c\\xd9)m\\x1c[\\xad*\\xb7\\xf8\\x8cyU\\xd0\\xfe\\xf1S\\xaf\\xd0\\xd6\\x1f\\xed:\\xe0h\\x85G\\xe68\\xe5\\xd7\\xbf`w\\xad\\xd4\\xf7\\tV\\xd2\\x01\\xcc)\\x93ye\\xc4j4\\xaf\\xabS;b(\\xce'"
      ]
     },
     "execution_count": 44,
     "metadata": {},
     "output_type": "execute_result"
    }
   ],
   "source": [
    "long_to_bytes(int(\"\".join([str(plain[i]) for i in range(N*N)]), 2))"
   ]
  },
  {
   "cell_type": "code",
   "execution_count": 58,
   "metadata": {},
   "outputs": [
    {
     "data": {
      "text/plain": [
       "GF([[255, 255, 255, ..., 255, 255, 254],\n",
       "    [254, 255, 254, ..., 255, 255, 254],\n",
       "    [255, 254, 255, ..., 254, 254, 254],\n",
       "    ...,\n",
       "    [255, 255, 255, ..., 255, 255, 254],\n",
       "    [254, 254, 254, ..., 255, 254, 254],\n",
       "    [255, 255, 254, ..., 254, 254, 255]], order=2)"
      ]
     },
     "execution_count": 58,
     "metadata": {},
     "output_type": "execute_result"
    }
   ],
   "source": [
    "import galois\n",
    "from galois import GF\n",
    "galois.GF(P)(np.array(rows, dtype=np.uint16))^255\n"
   ]
  },
  {
   "cell_type": "code",
   "execution_count": 19,
   "metadata": {},
   "outputs": [
    {
     "data": {
      "text/plain": [
       "\"etywl ywl ' ywh\""
      ]
     },
     "execution_count": 19,
     "metadata": {},
     "output_type": "execute_result"
    }
   ],
   "source": [
    "\"howdy! I'm flowey, flowey the\"[::-2]"
   ]
  },
  {
   "cell_type": "code",
   "execution_count": null,
   "metadata": {},
   "outputs": [],
   "source": []
  }
 ],
 "metadata": {
  "kernelspec": {
   "display_name": ".venv",
   "language": "python",
   "name": "python3"
  },
  "language_info": {
   "codemirror_mode": {
    "name": "ipython",
    "version": 3
   },
   "file_extension": ".py",
   "mimetype": "text/x-python",
   "name": "python",
   "nbconvert_exporter": "python",
   "pygments_lexer": "ipython3",
   "version": "3.11.6"
  }
 },
 "nbformat": 4,
 "nbformat_minor": 2
}
