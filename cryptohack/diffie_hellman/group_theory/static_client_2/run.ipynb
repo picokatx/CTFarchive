{
 "cells": [
  {
   "cell_type": "code",
   "execution_count": 47,
   "metadata": {},
   "outputs": [],
   "source": [
    "# solutions should be to send bob a smooth prime then pohlig-hellman, but it's screwed up for some reason\n",
    "# ok I fixed it but for some reason we aren't getting the real bob secret\n",
    "# alright for 1536 bit prime the discrete log doesn't get the right answer 100% of the time. to check just do pow(g, b, p) and see if B is correct"
   ]
  },
  {
   "cell_type": "code",
   "execution_count": 40,
   "metadata": {},
   "outputs": [],
   "source": [
    "from Crypto.Util.number import getPrime\n",
    "from sympy import isprime\n",
    "\n",
    "def get_smooth_prime(bits, smoothness=16):\n",
    "    p = 2\n",
    "    p_factors = [p]\n",
    "    while p.bit_length() < bits - 2 * smoothness:\n",
    "        factor = getPrime(smoothness)\n",
    "        p_factors.append(factor)\n",
    "        p *= factor\n",
    "    bitcnt = (bits - p.bit_length()) // 2\n",
    "    while True:\n",
    "        prime1 = getPrime(bitcnt)\n",
    "        prime2 = getPrime(bitcnt)\n",
    "        tmpp = p * prime1 * prime2\n",
    "        if tmpp.bit_length() < bits:\n",
    "            bitcnt += 1\n",
    "            continue\n",
    "        if tmpp.bit_length() > bits:\n",
    "            bitcnt -= 1\n",
    "            continue\n",
    "        if isprime(tmpp + 1):\n",
    "            p_factors.append(prime1)\n",
    "            p_factors.append(prime2)\n",
    "            p = tmpp + 1\n",
    "            break\n",
    "    p_factors.sort()\n",
    "    return (p, p_factors)\n",
    "sprime, sprime_factors = get_smooth_prime(1536)"
   ]
  },
  {
   "cell_type": "code",
   "execution_count": 41,
   "metadata": {},
   "outputs": [
    {
     "data": {
      "text/plain": [
       "65537"
      ]
     },
     "execution_count": 41,
     "metadata": {},
     "output_type": "execute_result"
    }
   ],
   "source": [
    "from sympy.utilities.misc import as_int\n",
    "from sympy.ntheory.residue_ntheory import _discrete_log_trial_mul, _discrete_log_index_calculus, _discrete_log_shanks_steps, _discrete_log_pollard_rho, _discrete_log_pohlig_hellman\n",
    "from collections import Counter\n",
    "def smooth_discrete_log(n, a, b, sp_factors: list, order=None, prime_order=None):\n",
    "    from math import sqrt, log\n",
    "    n, a, b = as_int(n), as_int(a), as_int(b)\n",
    "    if order is None:\n",
    "        factors = dict(Counter(sp_factors).most_common())\n",
    "        order = 1\n",
    "        for px, kx in factors.items():\n",
    "            order *= px**kx\n",
    "        # Now the `order` is the order of the group and factors = factorint(order)\n",
    "        # The order of `b` divides the order of the group.\n",
    "        order_factors = {}\n",
    "        for p, e in factors.items():\n",
    "            i = 0\n",
    "            for _ in range(e):\n",
    "                if pow(b, order // p, n) == 1:\n",
    "                   order //= p\n",
    "                   i += 1\n",
    "                else:\n",
    "                    break\n",
    "            if i < e:\n",
    "                order_factors[p] = e - i\n",
    "\n",
    "    if prime_order is None:\n",
    "        prime_order = isprime(order)\n",
    "\n",
    "    if order < 1000:\n",
    "        return _discrete_log_trial_mul(n, a, b, order)\n",
    "    elif prime_order:\n",
    "        # Shanks and Pollard rho are O(sqrt(order)) while index calculus is O(exp(2*sqrt(log(n)log(log(n)))))\n",
    "        # we compare the expected running times to determine the algorithmus which is expected to be faster\n",
    "        if 4*sqrt(log(n)*log(log(n))) < log(order) - 10:  # the number 10 was determined experimental\n",
    "            return _discrete_log_index_calculus(n, a, b, order)\n",
    "        elif order < 1000000000000:\n",
    "            # Shanks seems typically faster, but uses O(sqrt(order)) memory\n",
    "            return _discrete_log_shanks_steps(n, a, b, order)\n",
    "        return _discrete_log_pollard_rho(n, a, b, order)\n",
    "\n",
    "    return _discrete_log_pohlig_hellman(n, a, b, order, order_factors)\n",
    "a = pow(2, 65537, sprime)\n",
    "smooth_discrete_log(sprime, a, 2, sprime_factors)"
   ]
  },
  {
   "cell_type": "code",
   "execution_count": 42,
   "metadata": {},
   "outputs": [],
   "source": [
    "# only found accepted value of g is 2 so far\n",
    "# A will be sussed out for [0, 2]. this probably doesn't matter\n",
    "# p will be sussed out if not 1536 bits\n",
    "# doesn't check for strong prime, we might be able to discrete log \n",
    "from pwnlib.tubes.remote import remote\n",
    "from cryptolib import json_send, diffie_hellman_decrypt_flag, json_recv\n",
    "from json import loads, dumps\n",
    "from sympy import prime\n",
    "r = remote(\"socket.cryptohack.org\", 13378)\n",
    "r.recvuntil(b\"Intercepted from Alice: \")\n",
    "alice_public = json_recv(r)\n",
    "p, g, A = int(alice_public['p'], 16), int(alice_public['g'], 16), int(alice_public['A'], 16)\n",
    "r.recvuntil(b\"Intercepted from Bob: \")\n",
    "B = int(json_recv(r)['B'], 16)\n",
    "r.recvuntil(b\"Intercepted from Alice: \")\n",
    "alice_aes = json_recv(r)\n",
    "iv, encrypted = alice_aes['iv'], alice_aes['encrypted']\n",
    "r.recvuntil(b\"Bob connects to you, send him some parameters: \")\n",
    "\n",
    "\n",
    "json_send(r, {\"p\": hex(sprime), \"g\": hex(2), \"A\": hex(3)})\n",
    "r.recvuntil(b\"Bob says to you: \")\n",
    "B_ = int(loads(r.recvline())['B'], 16)"
   ]
  },
  {
   "cell_type": "code",
   "execution_count": 43,
   "metadata": {},
   "outputs": [
    {
     "data": {
      "text/plain": [
       "1919572943691512325783103720167834163677411292709378502535498859989993544026380143919501049584589675317643993465536543895780854808442293000014297210200227069779643763121704810281976733978781152126062646602812482025293137787739116693980988513420732289020477701182639042794562638875881378349771734410919106042203493166198706573467903966100368713572415175654342828296086659529676015616513470105470901979846373335352656586302787870238998914215908919919219987614105175"
      ]
     },
     "execution_count": 43,
     "metadata": {},
     "output_type": "execute_result"
    }
   ],
   "source": [
    "smooth_discrete_log(sprime, B_, 2, sprime_factors)"
   ]
  },
  {
   "cell_type": "code",
   "execution_count": 44,
   "metadata": {},
   "outputs": [
    {
     "data": {
      "text/plain": [
       "1966270916217592359951676292828353789783843380410548453232464354948931346091056847611148699597441303286170947817233031631021092250186143266695446008797995598427726291854816681491432301281698548646454200606211899229521112313338141928795614048789917663164666503304428773520125901611456230575542070557469811329398244290382779816263538635910784392500499733451254540473589815041612184948013568818235656785287486503105364932675297907092338998390607579988135467845797831"
      ]
     },
     "execution_count": 44,
     "metadata": {},
     "output_type": "execute_result"
    }
   ],
   "source": [
    "b = 1919572943691512325783103720167834163677411292709378502535498859989993544026380143919501049584589675317643993465536543895780854808442293000014297210200227069779643763121704810281976733978781152126062646602812482025293137787739116693980988513420732289020477701182639042794562638875881378349771734410919106042203493166198706573467903966100368713572415175654342828296086659529676015616513470105470901979846373335352656586302787870238998914215908919919219987614105175\n",
    "pow(g, b, p)"
   ]
  },
  {
   "cell_type": "code",
   "execution_count": 46,
   "metadata": {},
   "outputs": [
    {
     "data": {
      "text/plain": [
       "'crypto{uns4f3_pr1m3_sm4ll_oRd3r}'"
      ]
     },
     "execution_count": 46,
     "metadata": {},
     "output_type": "execute_result"
    }
   ],
   "source": [
    "b = 1919572943691512325783103720167834163677411292709378502535498859989993544026380143919501049584589675317643993465536543895780854808442293000014297210200227069779643763121704810281976733978781152126062646602812482025293137787739116693980988513420732289020477701182639042794562638875881378349771734410919106042203493166198706573467903966100368713572415175654342828296086659529676015616513470105470901979846373335352656586302787870238998914215908919919219987614105175\n",
    "secret = pow(A, b, p)\n",
    "diffie_hellman_decrypt_flag(secret, iv, encrypted)"
   ]
  },
  {
   "cell_type": "code",
   "execution_count": null,
   "metadata": {},
   "outputs": [],
   "source": [
    "from sympy.ntheory.residue_ntheory import discrete_log\n",
    "discrete_log(sprime, B_, 2)"
   ]
  },
  {
   "cell_type": "code",
   "execution_count": 63,
   "metadata": {},
   "outputs": [
    {
     "data": {
      "text/plain": [
       "1654870807489741666166712504001835292191126761314153027652346620421649434971976149797565316194747539944117759592727080300884221376989401231040881816893012817556464231807564159340373964933698451719001929968306564707001329275843374696183366614294595402193412758168750368154847505511192419166115921252541617998733354198358398654112905044050386599728877889736600813889719539656152096140540920070332687041208010905095616591952709825797184093420086492088130092808262803"
      ]
     },
     "execution_count": 63,
     "metadata": {},
     "output_type": "execute_result"
    }
   ],
   "source": [
    "from Crypto.Util.number import inverse, getPrime\n",
    "getPrime(1536)"
   ]
  },
  {
   "cell_type": "code",
   "execution_count": 7,
   "metadata": {},
   "outputs": [
    {
     "data": {
      "text/plain": [
       "b'B'"
      ]
     },
     "execution_count": 7,
     "metadata": {},
     "output_type": "execute_result"
    }
   ],
   "source": []
  },
  {
   "cell_type": "code",
   "execution_count": 4,
   "metadata": {},
   "outputs": [
    {
     "data": {
      "text/plain": [
       "(2410312426921032588552076022197566074856950548502459942654116941958108831682612228890093858261341614673227141477904012196503648957050582631942730706805009223062734745341073406696246014589361659774041027169249453200378729434170325843778659198143763193776859869524088940195577346119843545301547043747207749969763750084308926339295559968882457872412993810129130294592999947926365264059284647209730384947211681434464714438488520940127459844288859336526896320919633919,\n",
       " 2,\n",
       " 1842456548509985448001501955708317543923668882702387731149842197334091656598019912729386918817972088534618034054199283446233163815232643357049841287518070880509964732159087089881097780930507595659799099021074417551186847518515681575923228780734810350836185507503936008727914189692134425269770264193394331644892088233122500403697047904867774929619033647804401486714172117981128849420027222802210971219407887958527960013507993788267466267953204739503158129814352528)"
      ]
     },
     "execution_count": 4,
     "metadata": {},
     "output_type": "execute_result"
    }
   ],
   "source": [
    "p, g, A"
   ]
  },
  {
   "cell_type": "code",
   "execution_count": 5,
   "metadata": {},
   "outputs": [
    {
     "data": {
      "text/plain": [
       "714216756598305735603046246561487555788511628802563305910135524591202127744114943901795325807949250885402626819853303127965411915027566384701087862456809063646195165193592925563073929195170506328048913324457052878973166150910160579628348050428532539130082307794315984411600494511723848533327684422477621927785771984975971767068564356745941560374525498015524036641953306600952157983344056291242132311780666645344225431766551347466472617080772291014016878534899147"
      ]
     },
     "execution_count": 5,
     "metadata": {},
     "output_type": "execute_result"
    }
   ],
   "source": [
    "B"
   ]
  }
 ],
 "metadata": {
  "kernelspec": {
   "display_name": ".venv",
   "language": "python",
   "name": "python3"
  },
  "language_info": {
   "codemirror_mode": {
    "name": "ipython",
    "version": 3
   },
   "file_extension": ".py",
   "mimetype": "text/x-python",
   "name": "python",
   "nbconvert_exporter": "python",
   "pygments_lexer": "ipython3",
   "version": "3.11.6"
  }
 },
 "nbformat": 4,
 "nbformat_minor": 2
}
