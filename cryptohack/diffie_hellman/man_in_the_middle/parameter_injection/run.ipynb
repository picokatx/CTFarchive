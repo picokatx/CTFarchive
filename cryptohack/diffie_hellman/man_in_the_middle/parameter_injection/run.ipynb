{
 "cells": [
  {
   "cell_type": "code",
   "execution_count": 1,
   "metadata": {},
   "outputs": [
    {
     "data": {
      "text/plain": [
       "<function cryptolib.diffie_hellman_decrypt_flag(shared_secret: int, iv: str, ciphertext: str)>"
      ]
     },
     "execution_count": 1,
     "metadata": {},
     "output_type": "execute_result"
    }
   ],
   "source": [
    "from cryptolib import diffie_hellman_decrypt_flag, json_send\n",
    "diffie_hellman_decrypt_flag"
   ]
  },
  {
   "cell_type": "code",
   "execution_count": 5,
   "metadata": {},
   "outputs": [
    {
     "data": {
      "text/plain": [
       "b'crypto{n1c3_0n3_m4ll0ry!!!!!!!!}'"
      ]
     },
     "execution_count": 5,
     "metadata": {},
     "output_type": "execute_result"
    }
   ],
   "source": [
    "from pwnlib.tubes.remote import remote\n",
    "from json import loads\n",
    "r = remote(\"socket.cryptohack.org\", 13371)\n",
    "payload = loads(r.recvline().decode().split(\"Intercepted from Alice: \")[1])\n",
    "p, g, A = payload.values()\n",
    "payload['A'] = \"0x01\"\n",
    "payload['B'] = \"0x01\"\n",
    "# payload['A'] = 1\n",
    "json_send(r, payload)\n",
    "r.recvline()\n",
    "json_send(r, payload)\n",
    "iv, flag_enc = loads(r.recvline().decode().split(\"Send to Alice: Intercepted from Alice: \")[1]).values()\n",
    "diffie_hellman_decrypt_flag(1, iv, flag_enc)"
   ]
  },
  {
   "cell_type": "code",
   "execution_count": 3,
   "metadata": {},
   "outputs": [
    {
     "data": {
      "text/plain": [
       "'9c62275f0791cefbdbf9f492169468ce'"
      ]
     },
     "execution_count": 3,
     "metadata": {},
     "output_type": "execute_result"
    }
   ],
   "source": [
    "iv"
   ]
  },
  {
   "cell_type": "code",
   "execution_count": 4,
   "metadata": {},
   "outputs": [
    {
     "data": {
      "text/plain": [
       "b'@\\xbc\\x8a\\x0c4\\xf2\\xc1\\xda\\x0en\\xba(\\xd1k\\r\\xc7p\\xb5\\xeefL]\\x9f\\x8a\\xe2\\xb0N\\xd58\\xb3\\xacy'"
      ]
     },
     "execution_count": 4,
     "metadata": {},
     "output_type": "execute_result"
    }
   ],
   "source": []
  },
  {
   "cell_type": "code",
   "execution_count": 18,
   "metadata": {},
   "outputs": [
    {
     "data": {
      "text/plain": [
       "'0x634952785c59ec47a00af50234f34003f9afe1eede0e077fe528444f30f41e6fbef57d6b1876cd6047614ca7ca0272fbfbe824264a70015ea4aaed1a230c89c286e40a3810c70ddaf3ea3539cef7f56f94c06b93e81c9e6361de02d6d563db9c3476579dde013fc39fe0e817239bbb31c1997c4ffdb796da2521956f94272721de6b09c9e660acf30dc21a1597c2a968b3ded10254f9aea810b25ff3975fb59dbac7732b535ecd2f68fe86baecf82e26a4ff4062d191cb88d27faf252a49c553'"
      ]
     },
     "execution_count": 18,
     "metadata": {},
     "output_type": "execute_result"
    }
   ],
   "source": [
    "A"
   ]
  },
  {
   "cell_type": "code",
   "execution_count": null,
   "metadata": {},
   "outputs": [],
   "source": [
    "g = 2\n",
    "p = 0xffffffffffffffffc90fdaa22168c234c4c6628b80dc1cd129024e088a67cc74020bbea63b139b22514a08798e3404ddef9519b3cd3a431b302b0a6df25f14374fe1356d6d51c245e485b576625e7ec6f44c42e9a637ed6b0bff5cb6f406b7edee386bfb5a899fa5ae9f24117c4b1fe649286651ece45b3dc2007cb8a163bf0598da48361c55d39a69163fa8fd24cf5f83655d23dca3ad961c62f356208552bb9ed529077096966d670c354e4abc9804f1746c08ca237327ffffffffffffffff\n",
    "A = 0x297d1477f4eb253dfe5c200460b9a35d6810a77cfc494b5acab56ba3c5c47b2a8d32fe0315225ee5588b827d6b654ee51b663029592644e2a11e96eaed07a1c012424e2363dbcb06a9ea9b305b5280ed47f16af07d4ea4946c99dd5a809cb98ff0eeafc79f7098dd922354a4a704ac9e1eefc5973e40ab46d725fddb7ffddfb5a84269072d495a557312a1e6d695b52960f6c8d8d019945218a8173bb850b1712843fef3968876b23ed704f8afbce28ce62aca9f701db0c5d1c20f747bdcd8b2\n"
   ]
  }
 ],
 "metadata": {
  "kernelspec": {
   "display_name": ".venv",
   "language": "python",
   "name": "python3"
  },
  "language_info": {
   "codemirror_mode": {
    "name": "ipython",
    "version": 3
   },
   "file_extension": ".py",
   "mimetype": "text/x-python",
   "name": "python",
   "nbconvert_exporter": "python",
   "pygments_lexer": "ipython3",
   "version": "3.11.6"
  }
 },
 "nbformat": 4,
 "nbformat_minor": 2
}
