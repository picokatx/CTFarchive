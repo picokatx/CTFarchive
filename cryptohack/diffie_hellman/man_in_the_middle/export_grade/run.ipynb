{
 "cells": [
  {
   "cell_type": "code",
   "execution_count": 2,
   "metadata": {},
   "outputs": [
    {
     "data": {
      "text/plain": [
       "<function cryptolib.diffie_hellman_decrypt_flag(shared_secret: int, iv: str, ciphertext: str)>"
      ]
     },
     "execution_count": 2,
     "metadata": {},
     "output_type": "execute_result"
    }
   ],
   "source": [
    "from cryptolib import diffie_hellman_decrypt_flag, json_send\n",
    "diffie_hellman_decrypt_flag"
   ]
  },
  {
   "cell_type": "code",
   "execution_count": 20,
   "metadata": {},
   "outputs": [
    {
     "data": {
      "text/plain": [
       "b'crypto{d0wn6r4d35_4r3_d4n63r0u5}'"
      ]
     },
     "execution_count": 20,
     "metadata": {},
     "output_type": "execute_result"
    }
   ],
   "source": [
    "from pwnlib.tubes.remote import remote\n",
    "from json import loads\n",
    "r = remote(\"socket.cryptohack.org\", 13379)\n",
    "payload = loads(r.recvline().decode().split(\"Intercepted from Alice: \")[1])\n",
    "supported = payload.values()\n",
    "payload['supported'] = [\"DH64\"]\n",
    "json_send(r, payload)\n",
    "payload = loads(r.recvline().decode().split(\"Send to Bob: Intercepted from Bob: \")[1])\n",
    "json_send(r, payload)\n",
    "payload = loads(r.recvline().decode().split(\"Send to Alice: Intercepted from Alice: \")[1])\n",
    "p, g, A = payload.values()\n",
    "payload['A'] = \"0x01\"\n",
    "payload['B'] = \"0x01\"\n",
    "json_send(r, payload)\n",
    "B = loads(r.recvline().decode().split(\"Intercepted from Bob: \")[1])['B']\n",
    "json_send(r, payload)\n",
    "iv, flag_enc = loads(r.recvline().decode().split(\"Intercepted from Alice: \")[1]).values()\n",
    "\n",
    "from sympy import discrete_log\n",
    "a = discrete_log(int(p, 16), int(A, 16), int(g, 16))\n",
    "b = discrete_log(int(p, 16), int(B, 16), int(g, 16))\n",
    "secret = pow(pow(int(g, 16), a, int(p, 16)), b, int(p, 16))\n",
    "diffie_hellman_decrypt_flag(secret, iv, flag_enc)"
   ]
  }
 ],
 "metadata": {
  "kernelspec": {
   "display_name": ".venv",
   "language": "python",
   "name": "python3"
  },
  "language_info": {
   "codemirror_mode": {
    "name": "ipython",
    "version": 3
   },
   "file_extension": ".py",
   "mimetype": "text/x-python",
   "name": "python",
   "nbconvert_exporter": "python",
   "pygments_lexer": "ipython3",
   "version": "3.11.6"
  }
 },
 "nbformat": 4,
 "nbformat_minor": 2
}
