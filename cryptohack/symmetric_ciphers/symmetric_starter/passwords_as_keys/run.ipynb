{
 "cells": [
  {
   "cell_type": "code",
   "execution_count": 20,
   "metadata": {},
   "outputs": [],
   "source": [
    "import requests\n",
    "import hashlib\n",
    "from Crypto.Cipher import AES\n",
    "unix_words = [w.strip() for w in requests.get(\"https://gist.githubusercontent.com/wchargin/8927565/raw/d9783627c731268fb2935a731a618aa8e95cf465/words\").content.decode().splitlines()]\n",
    "c = bytes.fromhex(\"c92b7734070205bdf6c0087a751466ec13ae15e6f1bcdd3f3a535ec0f4bbae66\")"
   ]
  },
  {
   "cell_type": "code",
   "execution_count": 21,
   "metadata": {},
   "outputs": [
    {
     "name": "stdout",
     "output_type": "stream",
     "text": [
      "bluebell\n"
     ]
    }
   ],
   "source": [
    "def decrypt(ciphertext, key):\n",
    "    cipher = AES.new(key, AES.MODE_ECB)\n",
    "    try:\n",
    "        decrypted = cipher.decrypt(ciphertext)\n",
    "    except ValueError as e:\n",
    "        return {\"error\": str(e)}\n",
    "    return {\"plaintext\": decrypted.hex()}\n",
    "for word in unix_words:\n",
    "    KEY = hashlib.md5(word.encode()).digest()\n",
    "    if (b\"crypto\" in bytes.fromhex(decrypt(c, KEY)['plaintext'])):\n",
    "        print(word)"
   ]
  },
  {
   "cell_type": "code",
   "execution_count": 26,
   "metadata": {},
   "outputs": [
    {
     "data": {
      "text/plain": [
       "b'crypto{k3y5__r__n07__p455w0rdz?}'"
      ]
     },
     "execution_count": 26,
     "metadata": {},
     "output_type": "execute_result"
    }
   ],
   "source": [
    "bytes.fromhex(decrypt(c, hashlib.md5(b\"bluebell\").digest())['plaintext'])"
   ]
  }
 ],
 "metadata": {
  "kernelspec": {
   "display_name": ".venv",
   "language": "python",
   "name": "python3"
  },
  "language_info": {
   "codemirror_mode": {
    "name": "ipython",
    "version": 3
   },
   "file_extension": ".py",
   "mimetype": "text/x-python",
   "name": "python",
   "nbconvert_exporter": "python",
   "pygments_lexer": "ipython3",
   "version": "3.11.6"
  }
 },
 "nbformat": 4,
 "nbformat_minor": 2
}
