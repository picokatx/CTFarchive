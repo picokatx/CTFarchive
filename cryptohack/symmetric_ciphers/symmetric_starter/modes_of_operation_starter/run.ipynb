{
 "cells": [
  {
   "cell_type": "code",
   "execution_count": 4,
   "metadata": {},
   "outputs": [
    {
     "data": {
      "text/plain": [
       "b'crypto{bl0ck_c1ph3r5_4r3_f457_!}'"
      ]
     },
     "execution_count": 4,
     "metadata": {},
     "output_type": "execute_result"
    }
   ],
   "source": [
    "bytes.fromhex(\"63727970746f7b626c30636b5f633170683372355f3472335f663435375f217d\")"
   ]
  },
  {
   "cell_type": "code",
   "execution_count": null,
   "metadata": {},
   "outputs": [],
   "source": [
    "from Crypto.Cipher import AES\n",
    "\n",
    "KEY = \"FLOWEY\"\n",
    "FLAG = \"FLOWER\"\n",
    "\n",
    "def decrypt(ciphertext):\n",
    "    ciphertext = bytes.fromhex(ciphertext)\n",
    "\n",
    "    cipher = AES.new(KEY, AES.MODE_ECB)\n",
    "    try:\n",
    "        decrypted = cipher.decrypt(ciphertext)\n",
    "    except ValueError as e:\n",
    "        return {\"error\": str(e)}\n",
    "\n",
    "    return {\"plaintext\": decrypted.hex()}\n",
    "\n",
    "\n",
    "def encrypt_flag():\n",
    "    cipher = AES.new(KEY, AES.MODE_ECB)\n",
    "    encrypted = cipher.encrypt(FLAG.encode())\n",
    "\n",
    "    return {\"ciphertext\": encrypted.hex()}"
   ]
  }
 ],
 "metadata": {
  "kernelspec": {
   "display_name": ".venv",
   "language": "python",
   "name": "python3"
  },
  "language_info": {
   "codemirror_mode": {
    "name": "ipython",
    "version": 3
   },
   "file_extension": ".py",
   "mimetype": "text/x-python",
   "name": "python",
   "nbconvert_exporter": "python",
   "pygments_lexer": "ipython3",
   "version": "3.11.6"
  }
 },
 "nbformat": 4,
 "nbformat_minor": 2
}
