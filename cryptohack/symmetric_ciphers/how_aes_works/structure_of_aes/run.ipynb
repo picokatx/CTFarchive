{
 "cells": [
  {
   "cell_type": "code",
   "execution_count": 3,
   "metadata": {},
   "outputs": [
    {
     "name": "stdout",
     "output_type": "stream",
     "text": [
      "b'crypto{inmatrix}'\n"
     ]
    }
   ],
   "source": [
    "from itertools import chain\n",
    "def bytes2matrix(text):\n",
    "    \"\"\" Converts a 16-byte array into a 4x4 matrix.  \"\"\"\n",
    "    return [list(text[i:i+4]) for i in range(0, len(text), 4)]\n",
    "\n",
    "def matrix2bytes(matrix):\n",
    "    \"\"\" Converts a 4x4 matrix into a 16-byte array.  \"\"\"\n",
    "    return bytes(list(chain.from_iterable(matrix)))\n",
    "\n",
    "matrix = [\n",
    "    [99, 114, 121, 112],\n",
    "    [116, 111, 123, 105],\n",
    "    [110, 109, 97, 116],\n",
    "    [114, 105, 120, 125],\n",
    "]\n",
    "\n",
    "print(matrix2bytes(matrix))\n"
   ]
  }
 ],
 "metadata": {
  "kernelspec": {
   "display_name": ".venv",
   "language": "python",
   "name": "python3"
  },
  "language_info": {
   "codemirror_mode": {
    "name": "ipython",
    "version": 3
   },
   "file_extension": ".py",
   "mimetype": "text/x-python",
   "name": "python",
   "nbconvert_exporter": "python",
   "pygments_lexer": "ipython3",
   "version": "3.11.6"
  }
 },
 "nbformat": 4,
 "nbformat_minor": 2
}
