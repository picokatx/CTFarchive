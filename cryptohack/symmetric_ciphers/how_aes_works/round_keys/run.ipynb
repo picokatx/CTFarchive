{
 "cells": [
  {
   "cell_type": "code",
   "execution_count": 3,
   "metadata": {},
   "outputs": [
    {
     "name": "stdout",
     "output_type": "stream",
     "text": [
      "b'crypto{r0undk3y}'\n"
     ]
    }
   ],
   "source": [
    "from itertools import chain\n",
    "def matrix2bytes(matrix):\n",
    "    \"\"\" Converts a 4x4 matrix into a 16-byte array.  \"\"\"\n",
    "    return bytes(list(chain.from_iterable(matrix)))\n",
    "\n",
    "def add_round_key(s, k):\n",
    "    return [[s[i][j]^k[i][j] for j in range(len(k[0]))] for i in range(len(k))]\n",
    "\n",
    "state = [\n",
    "    [206, 243, 61, 34],\n",
    "    [171, 11, 93, 31],\n",
    "    [16, 200, 91, 108],\n",
    "    [150, 3, 194, 51],\n",
    "]\n",
    "\n",
    "round_key = [\n",
    "    [173, 129, 68, 82],\n",
    "    [223, 100, 38, 109],\n",
    "    [32, 189, 53, 8],\n",
    "    [253, 48, 187, 78],\n",
    "]\n",
    "\n",
    "print(matrix2bytes(add_round_key(state, round_key)))\n"
   ]
  }
 ],
 "metadata": {
  "kernelspec": {
   "display_name": ".venv",
   "language": "python",
   "name": "python3"
  },
  "language_info": {
   "codemirror_mode": {
    "name": "ipython",
    "version": 3
   },
   "file_extension": ".py",
   "mimetype": "text/x-python",
   "name": "python",
   "nbconvert_exporter": "python",
   "pygments_lexer": "ipython3",
   "version": "3.11.6"
  }
 },
 "nbformat": 4,
 "nbformat_minor": 2
}
