{
 "cells": [
  {
   "cell_type": "markdown",
   "metadata": {},
   "source": [
    "must start with png start code\n",
    "png_seq = [137, 80, 78,71,13,10,26,10]\n",
    "ihdr_seq = [0, 0, 0, 13, 73, 72, 68, 82]\n",
    "iend_crc_seq = [73, 69, 78, 68, 174, 66, 96, 130]\n"
   ]
  },
  {
   "cell_type": "code",
   "execution_count": 50,
   "metadata": {},
   "outputs": [],
   "source": [
    "import os\n",
    "from Crypto.Util.Padding import pad, unpad\n",
    "from datetime import datetime, timedelta\n",
    "from Crypto.Cipher import AES\n",
    "from os import urandom\n",
    "import requests\n",
    "from Crypto.Util.number import long_to_bytes, bytes_to_long\n",
    "import json\n",
    "def json_get(url):\n",
    "    return json.loads(requests.get(url).content.decode())\n",
    "def xor(a, b):\n",
    "    return long_to_bytes(bytes_to_long(a) ^ bytes_to_long(b))\n",
    "def repeat_xor(a, b):\n",
    "    return bytes(x ^ y for x,y in zip(a, b * (1 + len(a) // len(b))))\n",
    "def encrypt():\n",
    "    return bytes.fromhex(json_get(f\"https://aes.cryptohack.org/bean_counter/encrypt\")['encrypted'])\n",
    "KEY =  b\"key{the_aes_key}\"\n",
    "FLAG = b\"crypto{aes_flag}\"\n",
    "PLAIN =b\"Howdy! I'm Flowe\"\n",
    "iv = b'\\xda\\xdd:\\x7f2\\xa7\\xc2\\xe3\"\\xbff\\xca\\r\\x0c?\\xcc'"
   ]
  },
  {
   "cell_type": "code",
   "execution_count": 27,
   "metadata": {},
   "outputs": [],
   "source": [
    "enc = encrypt()"
   ]
  },
  {
   "cell_type": "code",
   "execution_count": 49,
   "metadata": {},
   "outputs": [
    {
     "data": {
      "text/plain": [
       "b'\\x12,{\\xf5\\x0b\\xb6\\x12v\\xda\\xe1\\xd8\\x96I\\xc0\\x88\\xff'"
      ]
     },
     "execution_count": 49,
     "metadata": {},
     "output_type": "execute_result"
    }
   ],
   "source": [
    "# will not change because implementer's stepcounter is broken\n",
    "keystream = xor(enc[:16], bytes([137, 80, 78, 71, 13, 10, 26, 10, 0, 0, 0, 13, 73, 72, 68, 82]))\n",
    "keystream"
   ]
  },
  {
   "cell_type": "code",
   "execution_count": 55,
   "metadata": {},
   "outputs": [
    {
     "data": {
      "text/plain": [
       "14267"
      ]
     },
     "execution_count": 55,
     "metadata": {},
     "output_type": "execute_result"
    }
   ],
   "source": [
    "open(\"temp.png\", 'wb').write(repeat_xor(enc, keystream))"
   ]
  },
  {
   "cell_type": "code",
   "execution_count": null,
   "metadata": {},
   "outputs": [],
   "source": [
    "# crypto{hex_bytes_beans}"
   ]
  },
  {
   "cell_type": "code",
   "execution_count": 39,
   "metadata": {},
   "outputs": [],
   "source": [
    "class StepUpCounter(object):\n",
    "    def __init__(self,):\n",
    "        self.value = os.urandom(16).hex()\n",
    "        self.step = 1\n",
    "\n",
    "    def increment(self):\n",
    "        # increment? more like do_nothing()\n",
    "        return self.value\n",
    "\n",
    "    def __repr__(self):\n",
    "        return self.value\n",
    "a = StepUpCounter()"
   ]
  },
  {
   "cell_type": "code",
   "execution_count": 46,
   "metadata": {},
   "outputs": [
    {
     "data": {
      "text/plain": [
       "'260b54cee4b9f52c8743720a51e21ff0'"
      ]
     },
     "execution_count": 46,
     "metadata": {},
     "output_type": "execute_result"
    }
   ],
   "source": [
    "hex(int('260b54cee4b9f52c8743720a51e21ff0', 16))[2:34].zfill(32)"
   ]
  },
  {
   "cell_type": "code",
   "execution_count": 44,
   "metadata": {},
   "outputs": [
    {
     "data": {
      "text/plain": [
       "32"
      ]
     },
     "execution_count": 44,
     "metadata": {},
     "output_type": "execute_result"
    }
   ],
   "source": [
    "len('260b54cee4b9f52c8743720a51e21ff0')"
   ]
  },
  {
   "cell_type": "code",
   "execution_count": null,
   "metadata": {},
   "outputs": [],
   "source": []
  }
 ],
 "metadata": {
  "kernelspec": {
   "display_name": ".venv",
   "language": "python",
   "name": "python3"
  },
  "language_info": {
   "codemirror_mode": {
    "name": "ipython",
    "version": 3
   },
   "file_extension": ".py",
   "mimetype": "text/x-python",
   "name": "python",
   "nbconvert_exporter": "python",
   "pygments_lexer": "ipython3",
   "version": "3.11.6"
  }
 },
 "nbformat": 4,
 "nbformat_minor": 2
}
