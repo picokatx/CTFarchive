{
 "cells": [
  {
   "cell_type": "code",
   "execution_count": 6,
   "metadata": {},
   "outputs": [],
   "source": [
    "import os\n",
    "from Crypto.Util.Padding import pad, unpad\n",
    "from datetime import datetime, timedelta\n",
    "from Crypto.Cipher import AES\n",
    "from os import urandom\n",
    "import requests\n",
    "from Crypto.Util.number import long_to_bytes, bytes_to_long\n",
    "import json\n",
    "from tqdm import tqdm\n",
    "import re\n",
    "def json_get(url):\n",
    "    return json.loads(requests.get(url).content.decode())\n",
    "# safe\n",
    "def bytes_to_words(b):\n",
    "    return [int.from_bytes(b[i:i+4], 'little') for i in range(0, len(b), 4)]\n",
    "\n",
    "# safe\n",
    "def rotate(x, n):\n",
    "    return ((x << n) & 0xffffffff) | ((x >> (32 - n)) & 0xffffffff)\n",
    "\n",
    "# safe\n",
    "def word(x):\n",
    "    return x % (2 ** 32)\n",
    "\n",
    "# safe\n",
    "def words_to_bytes(w):\n",
    "    return b''.join([i.to_bytes(4, 'little') for i in w])\n",
    "\n",
    "# safe\n",
    "def xor(a, b):\n",
    "    return b''.join([bytes([x ^ y]) for x, y in zip(a, b)])\n",
    "def encrypt():\n",
    "    return bytes.fromhex(json_get(f\"https://aes.cryptohack.org/stream_consciousness/encrypt/\")['ciphertext'])\n",
    "def is_utf8(s: str):\n",
    "    try:\n",
    "        s.decode('utf-8')\n",
    "        return True\n",
    "    except UnicodeError:\n",
    "        return False\n",
    "KEY =  b\"key{the_aes_key}\"\n",
    "FLAG = b\"crypto{aes_flag}\"\n",
    "PLAIN =b\"Howdy! I'm Flowe\"\n",
    "key = urandom(32)\n",
    "iv = urandom(16)"
   ]
  },
  {
   "cell_type": "code",
   "execution_count": 10,
   "metadata": {},
   "outputs": [],
   "source": [
    "from chacha20_c76e2a43164af8b6ecb0e145415ab931 import ChaCha20\n",
    "c = ChaCha20()\n",
    "\n"
   ]
  },
  {
   "cell_type": "code",
   "execution_count": 12,
   "metadata": {},
   "outputs": [
    {
     "name": "stdout",
     "output_type": "stream",
     "text": [
      "[1634760805, 857760878, 2036477234, 1797285236, 2824785405, 3029413874, 36017240, 2175624009, 3123643198, 2037031742, 3601762572, 2687753134, 1, 3540185883, 609254888, 4063375929, 3150916580]\n",
      "[1348577397, 2038877622, 3553777064, 3164987645, 4156322200, 1982720138, 762850976, 2352592029, 2828247835, 2933175598, 1169941739, 2184147724, 1922636911, 3103196146, 3978973237, 2182822408, 3150916580]\n",
      "[1634760805, 857760878, 2036477234, 1797285236, 2824785405, 3029413874, 36017240, 2175624009, 3123643198, 2037031742, 3601762572, 2687753134, 1, 3540185883, 609254888, 4063375929, 3150916580]\n",
      "[1348577397, 2038877622, 3553777064, 3164987645, 4156322200, 1982720138, 762850976, 2352592029, 2828247835, 2933175598, 1169941739, 2184147724, 1922636911, 3103196146, 3978973237, 2182822408, 3150916580]\n"
     ]
    },
    {
     "data": {
      "text/plain": [
       "b'Lorem ipsum dolor sit amet, consectetuer adipiscing elit. Aenean'"
      ]
     },
     "execution_count": 12,
     "metadata": {},
     "output_type": "execute_result"
    }
   ],
   "source": [
    "c.decrypt(c.encrypt(msg_plain[:64], key, iv), key, iv)"
   ]
  },
  {
   "cell_type": "code",
   "execution_count": null,
   "metadata": {},
   "outputs": [
    {
     "name": "stdout",
     "output_type": "stream",
     "text": [
      "[3217604799, 516298735, 650097383, 1317965626, 3858257107, 930165007, 3884825833, 1863269409, 3272252913, 1106575246, 2249602672, 3547854353, 659308596, 1226940503, 3733916889, 1330498663]\n"
     ]
    }
   ],
   "source": [
    "print(bytes_to_words(xor(msg_enc[:64], msg_plain[:64])))"
   ]
  },
  {
   "cell_type": "code",
   "execution_count": 5,
   "metadata": {},
   "outputs": [
    {
     "name": "stdout",
     "output_type": "stream",
     "text": [
      "[1271567934, 1714120261, 4121912195, 1359301054]\n"
     ]
    }
   ],
   "source": [
    "print(bytes_to_words(xor(msg_enc[64:], msg_plain[64:])))"
   ]
  },
  {
   "cell_type": "code",
   "execution_count": 11,
   "metadata": {},
   "outputs": [
    {
     "data": {
      "text/plain": [
       "b'\\xb62~\\x9a\"S\\x03@\\x964J\\xd5iJ @\\xb1\\x14u>$\\xea\\x9c\\x1a\\xf1|\\x10&2\\x81\\x98}\\x9fR\\xc7HI'"
      ]
     },
     "execution_count": 11,
     "metadata": {},
     "output_type": "execute_result"
    }
   ],
   "source": [
    "xor(b\"crypto{\", flag_enc)"
   ]
  },
  {
   "cell_type": "code",
   "execution_count": 3,
   "metadata": {},
   "outputs": [],
   "source": [
    "# GPT-4o mini\n",
    "def inv_rotate(x, n):\n",
    "    return ((x >> n) & 0xffffffff) | ((x << (32 - n)) & 0xffffffff)\n",
    "def rotate(x, n):\n",
    "    return ((x << n) & 0xffffffff) | ((x >> (32 - n)) & 0xffffffff)\n",
    "def word(a ,b):\n",
    "    return ((a+b) % (2 ** 32), b)\n",
    "def inv_word(a, b):\n",
    "    return ((a - b) % (2 ** 32), b)\n",
    "def quarter_round(x, a, b, c, d):\n",
    "    x[a], x[b] = word(x[a], x[b]); x[d] ^= x[a]; x[d] = rotate(x[d], 16)\n",
    "    x[c], x[d] = word(x[c], x[d]); x[b] ^= x[c]; x[b] = rotate(x[b], 12)\n",
    "    x[a], x[b] = word(x[a], x[b]); x[d] ^= x[a]; x[d] = rotate(x[d], 8)\n",
    "    x[c], x[d] = word(x[c], x[d]); x[b] ^= x[c]; x[b] = rotate(x[b], 7)\n",
    "def inv_quarter_round(x, a, b, c, d):\n",
    "    # Step 4: Reverse the last block (rotate by 7)\n",
    "    x[b] = inv_rotate(x[b], 7)\n",
    "    x[b] ^= x[c]\n",
    "    x[c], x[d] = inv_word(x[c], x[d])\n",
    "\n",
    "    # Step 3: Reverse the third block (rotate by 8)\n",
    "    x[d] = inv_rotate(x[d], 8)\n",
    "    x[d] ^= x[a]\n",
    "    x[a], x[b] = inv_word(x[a], x[b])\n",
    "\n",
    "    # Step 2: Reverse the second block (rotate by 12)\n",
    "    x[b] = inv_rotate(x[b], 12)\n",
    "    x[b] ^= x[c]\n",
    "    x[c], x[d] = inv_word(x[c], x[d])\n",
    "\n",
    "    # Step 1: Reverse the first block (rotate by 16)\n",
    "    x[d] = inv_rotate(x[d], 16)\n",
    "    x[d] ^= x[a]\n",
    "    x[a], x[b] = inv_word(x[a], x[b])\n",
    "\n",
    "def inner_block(state):\n",
    "    quarter_round(state, 0, 4, 8, 12)\n",
    "    quarter_round(state, 1, 5, 9, 13)\n",
    "    quarter_round(state, 2, 6, 10, 14)\n",
    "    quarter_round(state, 3, 7, 11, 15)\n",
    "    quarter_round(state, 0, 5, 10, 15)\n",
    "    quarter_round(state, 1, 6, 11, 12)\n",
    "    quarter_round(state, 2, 7, 8, 13)\n",
    "    quarter_round(state, 3, 4, 9, 14)\n",
    "\n",
    "def inv_inner_block(state):\n",
    "    # Reverse the quarter rounds in the exact reverse order\n",
    "\n",
    "    # Last block in original _inner_block\n",
    "    inv_quarter_round(state, 3, 4, 9, 14)\n",
    "    inv_quarter_round(state, 2, 7, 8, 13)\n",
    "    inv_quarter_round(state, 1, 6, 11, 12)\n",
    "    inv_quarter_round(state, 0, 5, 10, 15)\n",
    "\n",
    "    # Second-to-last block in original _inner_block\n",
    "    inv_quarter_round(state, 3, 7, 11, 15)\n",
    "    inv_quarter_round(state, 2, 6, 10, 14)\n",
    "    inv_quarter_round(state, 1, 5, 9, 13)\n",
    "    inv_quarter_round(state, 0, 4, 8, 12)\n",
    "# safe\n",
    "def words_to_bytes(w):\n",
    "    return b''.join([i.to_bytes(4, 'little') for i in w])\n",
    "# safe\n",
    "def xor(a, b):\n",
    "    return b''.join([bytes([x ^ y]) for x, y in zip(a, b)])\n",
    "# safe\n",
    "def bytes_to_words(b):\n",
    "    return [int.from_bytes(b[i:i+4], 'little') for i in range(0, len(b), 4)]"
   ]
  },
  {
   "cell_type": "code",
   "execution_count": 18,
   "metadata": {},
   "outputs": [
    {
     "name": "stdout",
     "output_type": "stream",
     "text": [
      "[1634760805, 857760878, 2036477234, 1797285236, 269811001, 1531508478, 2693662451, 4136581883, 2202295096, 473046972, 3423948778, 1816740636, 1, 2107285417, 3182066953, 899850794]\n",
      "[3926343893, 225983574, 3145419943, 1884427615, 185694916, 703520379, 1350454702, 1053618945, 109072004, 1722994255, 905922039, 2369734823, 1020269484, 2307568854, 2452136909, 3401202256]\n"
     ]
    },
    {
     "data": {
      "text/plain": [
       "b'crypto{M1x1n6_r0und5_4r3_1nv3r71bl3!}'"
      ]
     },
     "execution_count": 18,
     "metadata": {},
     "output_type": "execute_result"
    }
   ],
   "source": [
    "msg_enc = bytes.fromhex(\"f3afbada8237af6e94c7d2065ee0e221a1748b8c7b11105a8cc8a1c74253611c94fe7ea6fa8a9133505772ef619f04b05d2e2b0732cc483df72ccebb09a92c211ef5a52628094f09a30fc692cb25647f\")\n",
    "msg_plain = b'Lorem ipsum dolor sit amet, consectetuer adipiscing elit. Aenean commodo ligula.'\n",
    "flag_enc = bytes.fromhex(\"b6327e9a2253034096344ad5694a2040b114753e24ea9c1af17c10263281fb0fe622b32732\")\n",
    "state_msgb1 = bytes_to_words(xor(msg_enc[:64], msg_plain[:64]))\n",
    "iv1 = bytes.fromhex('e42758d6d218013ea63e3c49')\n",
    "iv2 = bytes.fromhex('a99f9a7d097daabd2aa2a235')\n",
    "const = [0x61707865, 0x3320646e, 0x79622d32, 0x6b206574]\n",
    "counter = 1\n",
    "for j in range(10):\n",
    "    inv_inner_block(state_msgb1)\n",
    "rev_const, rev_key, rev_counter, rev_iv = state_msgb1[:4], words_to_bytes(state_msgb1[4:12]), state_msgb1[12], words_to_bytes(state_msgb1[13:])\n",
    "assert rev_const == const\n",
    "assert rev_counter == counter\n",
    "assert iv1 == rev_iv\n",
    "from chacha20_c76e2a43164af8b6ecb0e145415ab931 import ChaCha20\n",
    "c = ChaCha20()\n",
    "c.decrypt(flag_enc, rev_key, iv2)"
   ]
  }
 ],
 "metadata": {
  "kernelspec": {
   "display_name": ".venv",
   "language": "python",
   "name": "python3"
  },
  "language_info": {
   "codemirror_mode": {
    "name": "ipython",
    "version": 3
   },
   "file_extension": ".py",
   "mimetype": "text/x-python",
   "name": "python",
   "nbconvert_exporter": "python",
   "pygments_lexer": "ipython3",
   "version": "3.11.6"
  }
 },
 "nbformat": 4,
 "nbformat_minor": 2
}
