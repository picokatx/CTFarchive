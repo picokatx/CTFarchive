{
 "cells": [
  {
   "cell_type": "markdown",
   "metadata": {},
   "source": [
    "can grab the keystream... lol \\\n",
    "didn't see but we are given iv. \\\n",
    "encrypt(b\"crypto{000000000\", iv)  \\\n",
    "compare output against  \\\n",
    "enc = encrypt_flag() \\\n",
    "iv, enc_flag = enc[:16], enc[16:] \\\n",
    "too tired for this \\\n",
    "note: intended soln involved using the encfyption mode as a decryption \\"
   ]
  },
  {
   "cell_type": "code",
   "execution_count": 111,
   "metadata": {},
   "outputs": [],
   "source": [
    "import os\n",
    "from Crypto.Util.Padding import pad, unpad\n",
    "from datetime import datetime, timedelta\n",
    "from Crypto.Cipher import AES\n",
    "from os import urandom\n",
    "import requests\n",
    "from Crypto.Util.number import long_to_bytes, bytes_to_long\n",
    "import json\n",
    "def json_get(url):\n",
    "    return json.loads(requests.get(url).content.decode())\n",
    "def xor(a, b):\n",
    "    return long_to_bytes(bytes_to_long(a) ^ bytes_to_long(b))\n",
    "def encrypt_flag():\n",
    "    return bytes.fromhex(json_get(f\"https://aes.cryptohack.org/symmetry/encrypt_flag/\")['ciphertext'])\n",
    "def encrypt(plaintext, iv):\n",
    "    return bytes.fromhex(json_get(f\"https://aes.cryptohack.org/symmetry/encrypt/{plaintext.hex()}/{iv.hex()}\")['ciphertext'])\n",
    "KEY =  b\"key{the_aes_key}\"\n",
    "FLAG = b\"crypto{aes_flag}\"\n",
    "PLAIN =b\"Howdy! I'm Flowe\"\n",
    "iv = b'\\xda\\xdd:\\x7f2\\xa7\\xc2\\xe3\"\\xbff\\xca\\r\\x0c?\\xcc'"
   ]
  },
  {
   "cell_type": "code",
   "execution_count": 112,
   "metadata": {},
   "outputs": [
    {
     "name": "stdout",
     "output_type": "stream",
     "text": [
      "True\n",
      "b'\\x17\\x81\\xf6\\xff\\xd9\\xd6\\xa2\\x9a,\\x04t\\xa7$\\tT\\xb2'\n"
     ]
    }
   ],
   "source": [
    "keystream_1 = xor(encrypt(PLAIN, iv), PLAIN)\n",
    "keystream_2 = xor(encrypt(FLAG, iv), FLAG)\n",
    "print(keystream_1==keystream_2)\n",
    "print(keystream_1)"
   ]
  },
  {
   "cell_type": "code",
   "execution_count": 113,
   "metadata": {},
   "outputs": [
    {
     "data": {
      "text/plain": [
       "b'\\x17\\x81\\xf6\\xff\\xd9\\xd6\\xa2\\x9a,\\x04t\\xa7$\\tT\\xb2\\xc5@\\xe9;\\x10|\\xb4\\x18\\x142C\\xa40e\\xf4\\r'"
      ]
     },
     "execution_count": 113,
     "metadata": {},
     "output_type": "execute_result"
    }
   ],
   "source": [
    "xor(encrypt(PLAIN+FLAG, iv), PLAIN+FLAG)"
   ]
  },
  {
   "cell_type": "code",
   "execution_count": 114,
   "metadata": {},
   "outputs": [
    {
     "data": {
      "text/plain": [
       "b'\\x17\\x81\\xf6\\xff\\xd9\\xd6\\xa2\\x9a,\\x04t\\xa7$\\tT\\xb2\\xc5@\\xe9;\\x10|\\xb4\\x18\\x142C\\xa40e\\xf4\\r'"
      ]
     },
     "execution_count": 114,
     "metadata": {},
     "output_type": "execute_result"
    }
   ],
   "source": [
    "xor(encrypt(FLAG+FLAG, iv), FLAG+FLAG)"
   ]
  },
  {
   "cell_type": "code",
   "execution_count": 122,
   "metadata": {},
   "outputs": [
    {
     "data": {
      "text/plain": [
       "b'd\\xcc{\\xe6\\xdb\\xe2F\\x80\\x83\\x86\\xb0U\\xc3\\x0f\\x9b\\xe4\\x85\\xaf\\xc1\\xaf\\xdc0W\\xfa\\xe8\\xbcD\\x07*t\\xca\\xba4'"
      ]
     },
     "execution_count": 122,
     "metadata": {},
     "output_type": "execute_result"
    }
   ],
   "source": [
    "enc = encrypt_flag()\n",
    "iv, enc_flag = enc[:16], enc[16:]\n",
    "enc_flag"
   ]
  },
  {
   "cell_type": "code",
   "execution_count": 139,
   "metadata": {},
   "outputs": [
    {
     "name": "stderr",
     "output_type": "stream",
     "text": [
      "  1%|          | 1/96 [00:01<02:09,  1.36s/it]\n",
      "  1%|          | 1/96 [00:01<02:10,  1.38s/it]\n",
      "  1%|          | 1/96 [00:01<02:06,  1.34s/it]\n",
      " 18%|█▊        | 17/96 [00:12<00:56,  1.39it/s]\n",
      " 18%|█▊        | 17/96 [00:12<00:56,  1.39it/s]\n",
      "  1%|          | 1/96 [00:01<02:09,  1.36s/it]\n",
      " 97%|█████████▋| 93/96 [01:03<00:02,  1.46it/s]\n"
     ]
    }
   ],
   "source": [
    "from string import ascii_lowercase, ascii_uppercase\n",
    "from tqdm import tqdm\n",
    "alph = \"\".join([chr(c) for c in range(32,128)])#ascii_lowercase+\"0123456789_{}\"\n",
    "flag = b\"crypto{0fb_15_5ymm37r1c4l_\"\n",
    "for i in range(len(flag), len(enc_flag)):\n",
    "    for c in tqdm(alph):\n",
    "        out = encrypt(flag+c.encode(), iv)\n",
    "        if (out==enc_flag[:len(flag)+1]):\n",
    "            flag+=c.encode()\n",
    "            break"
   ]
  },
  {
   "cell_type": "code",
   "execution_count": 140,
   "metadata": {},
   "outputs": [
    {
     "data": {
      "text/plain": [
       "b'crypto{0fb_15_5ymm37r1c4l_!!!11!}'"
      ]
     },
     "execution_count": 140,
     "metadata": {},
     "output_type": "execute_result"
    }
   ],
   "source": [
    "flag"
   ]
  },
  {
   "cell_type": "code",
   "execution_count": 129,
   "metadata": {},
   "outputs": [
    {
     "data": {
      "text/plain": [
       "26"
      ]
     },
     "execution_count": 129,
     "metadata": {},
     "output_type": "execute_result"
    }
   ],
   "source": [
    "len(b'crypto{0fb_15_5ymm37r1c4l_')\n",
    "b'd\\xcc{\\xe6\\xdb\\xe2F\\x80\\x83\\x86\\xb0U\\xc3\\x0f\\x9b\\xe4\\x85\\xaf\\xc1\\xaf\\xdc0W\\xfa\\xe8\\xbcD\\x07*t\\xca\\xba4'\n",
    "b'd\\xcc{\\xe6\\xdb\\xe2F\\x80\\x83\\x86\\xb0U\\xc3\\x0f\\x9b\\xe4\\x85\\xaf\\xc1\\xaf\\xdc0W\\xfa\\xe8\\xbc\\x04'\n"
   ]
  },
  {
   "cell_type": "code",
   "execution_count": 121,
   "metadata": {},
   "outputs": [
    {
     "data": {
      "text/plain": [
       "b'\\x0c\\xdc\\xa0\\xd9\\xe6\\xdb\\xb6\\x1a\\xfaNc&\\xab\\t\\xcb\\xb4%p\\x8eo;\\xf0-\\x80i7\\xb2\\xd5\\xe5\\x9e<\\xcfG'"
      ]
     },
     "execution_count": 121,
     "metadata": {},
     "output_type": "execute_result"
    }
   ],
   "source": [
    "enc_flag"
   ]
  },
  {
   "cell_type": "code",
   "execution_count": 105,
   "metadata": {},
   "outputs": [
    {
     "data": {
      "text/plain": [
       "b'\\x95\\x0bB\\xcd\\xc6\\xff\\xb2:\\xbe\\xae\\xfa\\xcb(ODO'"
      ]
     },
     "execution_count": 105,
     "metadata": {},
     "output_type": "execute_result"
    }
   ],
   "source": [
    "xor(enc_flag[:16], b\"crypto{000000000\")"
   ]
  },
  {
   "cell_type": "code",
   "execution_count": 98,
   "metadata": {},
   "outputs": [
    {
     "data": {
      "text/plain": [
       "b'\\xe6}\\xa9oA\\x90\\xb2g\\x17B\\x93!\\\\o\\x9c\\xd0'"
      ]
     },
     "execution_count": 98,
     "metadata": {},
     "output_type": "execute_result"
    }
   ],
   "source": [
    "xor(AES.new(FLAG, AES.MODE_OFB, iv).encrypt(PLAIN), PLAIN)"
   ]
  },
  {
   "cell_type": "code",
   "execution_count": 99,
   "metadata": {},
   "outputs": [
    {
     "data": {
      "text/plain": [
       "b'\\x10^\\xe1\\xa3\\xbf\\xa8\\xe8+\\xe0k\\xa7G\\xcb\\xdf\\n\\xf9'"
      ]
     },
     "execution_count": 99,
     "metadata": {},
     "output_type": "execute_result"
    }
   ],
   "source": [
    "xor(AES.new(KEY, AES.MODE_OFB, iv).encrypt(PLAIN), PLAIN)"
   ]
  },
  {
   "cell_type": "code",
   "execution_count": 79,
   "metadata": {},
   "outputs": [
    {
     "data": {
      "text/plain": [
       "33"
      ]
     },
     "execution_count": 79,
     "metadata": {},
     "output_type": "execute_result"
    }
   ],
   "source": [
    "xor(AES.new(KEY, AES.MODE_OFB, iv).encrypt(PLAIN+FLAG), PLAIN+FLAG)"
   ]
  },
  {
   "cell_type": "code",
   "execution_count": 75,
   "metadata": {},
   "outputs": [
    {
     "data": {
      "text/plain": [
       "b'.\\x86<\\xb0\\x96\\xab\\x0cr\\xaf!\\xda\\x1f\\xa6[\\\\K'"
      ]
     },
     "execution_count": 75,
     "metadata": {},
     "output_type": "execute_result"
    }
   ],
   "source": [
    "AES.new(b\"\\x00\"*15+b\"\\x00\", AES.MODE_OFB, b\"\\x00\"*16).encrypt(PLAIN)"
   ]
  },
  {
   "cell_type": "code",
   "execution_count": 72,
   "metadata": {},
   "outputs": [
    {
     "data": {
      "text/plain": [
       "b'\\xab\\xe7\\xcb(\\x0e\\x05\\xd8p\\xc5@\"x2\\x03~@'"
      ]
     },
     "execution_count": 72,
     "metadata": {},
     "output_type": "execute_result"
    }
   ],
   "source": [
    "xor(AES.new(b\"\\x01\"*15+b\"\\x00\", AES.MODE_OFB, b\"\\x00\"*16).encrypt(PLAIN), PLAIN)"
   ]
  },
  {
   "cell_type": "code",
   "execution_count": 51,
   "metadata": {},
   "outputs": [
    {
     "data": {
      "text/plain": [
       "b'\\x0c\\xf5\\xe1i\\xaa `\\xbdUK\\x08:z\\x1f?\\xe8'"
      ]
     },
     "execution_count": 51,
     "metadata": {},
     "output_type": "execute_result"
    }
   ],
   "source": [
    "xor(bytes.fromhex(\"449a960dd30140f47226287c1670488d\"), PLAIN)"
   ]
  },
  {
   "cell_type": "code",
   "execution_count": 50,
   "metadata": {},
   "outputs": [
    {
     "data": {
      "text/plain": [
       "b'\\x0c\\xf5\\xe1i\\xaa `\\xbdUK\\x08:z\\x1f?\\xe8'"
      ]
     },
     "execution_count": 50,
     "metadata": {},
     "output_type": "execute_result"
    }
   ],
   "source": [
    "xor(bytes.fromhex(\"6f879819de4f1bdc3038575c167e5895\"), FLAG)"
   ]
  },
  {
   "cell_type": "code",
   "execution_count": 32,
   "metadata": {},
   "outputs": [
    {
     "data": {
      "text/plain": [
       "b'5\\x11\\xbd \\x16_l\\xe4\\xabV\\xf9\\\\\\xfeW\\xc0J\\x02\\x1b@\\xe4\\xd4\\xda\\xa1\\xbe\\xc0\\xc4Bk\\xd7ks\\xc3'"
      ]
     },
     "execution_count": 32,
     "metadata": {},
     "output_type": "execute_result"
    }
   ],
   "source": [
    "xor(AES.new(KEY, AES.MODE_OFB, iv).encrypt(PLAIN+FLAG), PLAIN+FLAG)"
   ]
  },
  {
   "cell_type": "code",
   "execution_count": 10,
   "metadata": {},
   "outputs": [
    {
     "data": {
      "text/plain": [
       "b'\\xf2_^%g\\x07\\x9c2\\xcf\\xde\\xfe\\x14\\xe7\\xe1O\\xa6'"
      ]
     },
     "execution_count": 10,
     "metadata": {},
     "output_type": "execute_result"
    }
   ],
   "source": [
    "encrypt(PLAIN, iv)"
   ]
  }
 ],
 "metadata": {
  "kernelspec": {
   "display_name": ".venv",
   "language": "python",
   "name": "python3"
  },
  "language_info": {
   "codemirror_mode": {
    "name": "ipython",
    "version": 3
   },
   "file_extension": ".py",
   "mimetype": "text/x-python",
   "name": "python",
   "nbconvert_exporter": "python",
   "pygments_lexer": "ipython3",
   "version": "3.11.6"
  }
 },
 "nbformat": 4,
 "nbformat_minor": 2
}
