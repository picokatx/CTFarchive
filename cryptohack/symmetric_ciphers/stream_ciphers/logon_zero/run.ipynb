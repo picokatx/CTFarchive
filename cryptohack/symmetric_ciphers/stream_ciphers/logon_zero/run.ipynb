{
 "cells": [
  {
   "cell_type": "markdown",
   "metadata": {},
   "source": [
    "json input\n",
    "option\n",
    "authenticate(password)\n",
    "reset_connection()\n",
    "reset_password(token) dec(token)[:-4]\n",
    "see https://github.com/blaufish/cfb8-vulnerable, we know the password now!"
   ]
  },
  {
   "cell_type": "code",
   "execution_count": 89,
   "metadata": {},
   "outputs": [
    {
     "name": "stdout",
     "output_type": "stream",
     "text": [
      "{'msg': 'Wrong password.'}\n",
      "{'msg': 'Wrong password.'}\n",
      "{'msg': 'Wrong password.'}\n",
      "{'msg': 'Wrong password.'}\n",
      "{'msg': 'Wrong password.'}\n",
      "{'msg': 'Wrong password.'}\n",
      "{'msg': 'Wrong password.'}\n",
      "{'msg': 'Wrong password.'}\n",
      "{'msg': 'Wrong password.'}\n",
      "{'msg': 'Wrong password.'}\n",
      "{'msg': 'Wrong password.'}\n",
      "{'msg': 'Wrong password.'}\n",
      "{'msg': 'Wrong password.'}\n",
      "{'msg': 'Wrong password.'}\n",
      "{'msg': 'Wrong password.'}\n",
      "{'msg': 'Wrong password.'}\n",
      "{'msg': 'Wrong password.'}\n",
      "{'msg': 'Wrong password.'}\n",
      "{'msg': 'Wrong password.'}\n",
      "{'msg': 'Wrong password.'}\n",
      "{'msg': 'Wrong password.'}\n",
      "{'msg': 'Wrong password.'}\n",
      "{'msg': 'Wrong password.'}\n",
      "{'msg': 'Wrong password.'}\n",
      "{'msg': 'Wrong password.'}\n",
      "{'msg': 'Wrong password.'}\n",
      "{'msg': 'Wrong password.'}\n",
      "{'msg': 'Wrong password.'}\n",
      "{'msg': 'Wrong password.'}\n",
      "{'msg': 'Wrong password.'}\n",
      "{'msg': 'Wrong password.'}\n",
      "{'msg': 'Wrong password.'}\n",
      "{'msg': 'Wrong password.'}\n",
      "{'msg': 'Wrong password.'}\n",
      "{'msg': 'Wrong password.'}\n",
      "{'msg': 'Wrong password.'}\n",
      "{'msg': 'Wrong password.'}\n",
      "{'msg': 'Wrong password.'}\n",
      "{'msg': 'Wrong password.'}\n",
      "{'msg': 'Wrong password.'}\n",
      "{'msg': 'Wrong password.'}\n",
      "{'msg': 'Wrong password.'}\n",
      "{'msg': 'Wrong password.'}\n",
      "{'msg': 'Wrong password.'}\n",
      "{'msg': 'Wrong password.'}\n",
      "{'msg': 'Wrong password.'}\n",
      "{'msg': 'Wrong password.'}\n",
      "{'msg': 'Wrong password.'}\n",
      "{'msg': 'Wrong password.'}\n",
      "{'msg': 'Wrong password.'}\n",
      "{'msg': 'Wrong password.'}\n",
      "{'msg': 'Wrong password.'}\n",
      "{'msg': 'Wrong password.'}\n",
      "{'msg': 'Wrong password.'}\n",
      "{'msg': 'Wrong password.'}\n",
      "{'msg': 'Wrong password.'}\n",
      "{'msg': 'Wrong password.'}\n",
      "{'msg': 'Wrong password.'}\n",
      "{'msg': 'Wrong password.'}\n",
      "{'msg': 'Wrong password.'}\n",
      "{'msg': 'Wrong password.'}\n",
      "{'msg': 'Wrong password.'}\n",
      "{'msg': 'Wrong password.'}\n",
      "{'msg': 'Wrong password.'}\n",
      "{'msg': 'Wrong password.'}\n",
      "{'msg': 'Wrong password.'}\n",
      "{'msg': 'Wrong password.'}\n",
      "{'msg': 'Wrong password.'}\n",
      "{'msg': 'Wrong password.'}\n",
      "{'msg': 'Wrong password.'}\n",
      "{'msg': 'Wrong password.'}\n",
      "{'msg': 'Wrong password.'}\n",
      "{'msg': 'Wrong password.'}\n",
      "{'msg': 'Wrong password.'}\n",
      "{'msg': 'Wrong password.'}\n",
      "{'msg': 'Wrong password.'}\n",
      "{'msg': 'Wrong password.'}\n",
      "{'msg': 'Wrong password.'}\n",
      "{'msg': 'Wrong password.'}\n",
      "{'msg': 'Wrong password.'}\n",
      "{'msg': 'Wrong password.'}\n",
      "{'msg': 'Wrong password.'}\n",
      "{'msg': 'Wrong password.'}\n",
      "{'msg': 'Wrong password.'}\n",
      "{'msg': 'Wrong password.'}\n",
      "{'msg': 'Wrong password.'}\n",
      "{'msg': 'Wrong password.'}\n",
      "{'msg': 'Wrong password.'}\n",
      "{'msg': 'Wrong password.'}\n",
      "{'msg': 'Wrong password.'}\n",
      "{'msg': 'Wrong password.'}\n",
      "{'msg': 'Wrong password.'}\n",
      "{'msg': 'Welcome admin, flag: crypto{Zerologon_Windows_CVE-2020-1472}'}\n"
     ]
    },
    {
     "ename": "EOFError",
     "evalue": "",
     "output_type": "error",
     "traceback": [
      "\u001b[1;31m---------------------------------------------------------------------------\u001b[0m",
      "\u001b[1;31mEOFError\u001b[0m                                  Traceback (most recent call last)",
      "Cell \u001b[1;32mIn[89], line 33\u001b[0m\n\u001b[0;32m     31\u001b[0m reset_password(\u001b[38;5;124m\"\u001b[39m\u001b[38;5;124m0000000000000000000000000000000000000000000000000000000000000000\u001b[39m\u001b[38;5;124m\"\u001b[39m)\n\u001b[0;32m     32\u001b[0m \u001b[38;5;28;01mfor\u001b[39;00m c \u001b[38;5;129;01min\u001b[39;00m \u001b[38;5;28mrange\u001b[39m(\u001b[38;5;241m0\u001b[39m,\u001b[38;5;241m256\u001b[39m): \u001b[38;5;66;03m# [:-4]\u001b[39;00m\n\u001b[1;32m---> 33\u001b[0m     \u001b[38;5;28mprint\u001b[39m(\u001b[43mauthenticate\u001b[49m\u001b[43m(\u001b[49m\u001b[38;5;28;43mbytes\u001b[39;49m\u001b[43m(\u001b[49m\u001b[43m[\u001b[49m\u001b[43mc\u001b[49m\u001b[43m]\u001b[49m\u001b[38;5;241;43m*\u001b[39;49m\u001b[38;5;241;43m12\u001b[39;49m\u001b[43m)\u001b[49m\u001b[38;5;241;43m.\u001b[39;49m\u001b[43mdecode\u001b[49m\u001b[43m(\u001b[49m\u001b[43m)\u001b[49m\u001b[43m)\u001b[49m)\n",
      "Cell \u001b[1;32mIn[89], line 22\u001b[0m, in \u001b[0;36mauthenticate\u001b[1;34m(pwd)\u001b[0m\n\u001b[0;32m     20\u001b[0m \u001b[38;5;28;01mdef\u001b[39;00m \u001b[38;5;21mauthenticate\u001b[39m(pwd):\n\u001b[0;32m     21\u001b[0m     json_send({\u001b[38;5;124m\"\u001b[39m\u001b[38;5;124moption\u001b[39m\u001b[38;5;124m\"\u001b[39m: \u001b[38;5;124m\"\u001b[39m\u001b[38;5;124mauthenticate\u001b[39m\u001b[38;5;124m\"\u001b[39m, \u001b[38;5;124m\"\u001b[39m\u001b[38;5;124mpassword\u001b[39m\u001b[38;5;124m\"\u001b[39m: pwd})\n\u001b[1;32m---> 22\u001b[0m     \u001b[38;5;28;01mreturn\u001b[39;00m \u001b[43mjson_recv\u001b[49m\u001b[43m(\u001b[49m\u001b[43m)\u001b[49m\n",
      "Cell \u001b[1;32mIn[89], line 6\u001b[0m, in \u001b[0;36mjson_recv\u001b[1;34m()\u001b[0m\n\u001b[0;32m      5\u001b[0m \u001b[38;5;28;01mdef\u001b[39;00m \u001b[38;5;21mjson_recv\u001b[39m():\n\u001b[1;32m----> 6\u001b[0m     line \u001b[38;5;241m=\u001b[39m \u001b[43mr\u001b[49m\u001b[38;5;241;43m.\u001b[39;49m\u001b[43mreadline\u001b[49m\u001b[43m(\u001b[49m\u001b[43m)\u001b[49m\n\u001b[0;32m      7\u001b[0m     \u001b[38;5;28;01mreturn\u001b[39;00m json\u001b[38;5;241m.\u001b[39mloads(line\u001b[38;5;241m.\u001b[39mdecode())\n",
      "File \u001b[1;32mc:\\Users\\picokatx\\Documents\\CTF\\.venv\\Lib\\site-packages\\pwnlib\\tubes\\tube.py:1453\u001b[0m, in \u001b[0;36mtube.make_wrapper.<locals>.wrapper\u001b[1;34m(self, *a, **kw)\u001b[0m\n\u001b[0;32m   1452\u001b[0m \u001b[38;5;28;01mdef\u001b[39;00m \u001b[38;5;21mwrapper\u001b[39m(\u001b[38;5;28mself\u001b[39m, \u001b[38;5;241m*\u001b[39ma, \u001b[38;5;241m*\u001b[39m\u001b[38;5;241m*\u001b[39mkw):\n\u001b[1;32m-> 1453\u001b[0m     \u001b[38;5;28;01mreturn\u001b[39;00m \u001b[43mfunc\u001b[49m\u001b[43m(\u001b[49m\u001b[38;5;28;43mself\u001b[39;49m\u001b[43m,\u001b[49m\u001b[43m \u001b[49m\u001b[38;5;241;43m*\u001b[39;49m\u001b[43ma\u001b[49m\u001b[43m,\u001b[49m\u001b[43m \u001b[49m\u001b[38;5;241;43m*\u001b[39;49m\u001b[38;5;241;43m*\u001b[39;49m\u001b[43mkw\u001b[49m\u001b[43m)\u001b[49m\n",
      "File \u001b[1;32mc:\\Users\\picokatx\\Documents\\CTF\\.venv\\Lib\\site-packages\\pwnlib\\tubes\\tube.py:497\u001b[0m, in \u001b[0;36mtube.recvline\u001b[1;34m(self, keepends, timeout)\u001b[0m\n\u001b[0;32m    463\u001b[0m \u001b[38;5;28;01mdef\u001b[39;00m \u001b[38;5;21mrecvline\u001b[39m(\u001b[38;5;28mself\u001b[39m, keepends\u001b[38;5;241m=\u001b[39m\u001b[38;5;28;01mTrue\u001b[39;00m, timeout\u001b[38;5;241m=\u001b[39mdefault):\n\u001b[0;32m    464\u001b[0m \u001b[38;5;250m    \u001b[39m\u001b[38;5;124mr\u001b[39m\u001b[38;5;124;03m\"\"\"recvline(keepends=True, timeout=default) -> bytes\u001b[39;00m\n\u001b[0;32m    465\u001b[0m \n\u001b[0;32m    466\u001b[0m \u001b[38;5;124;03m    Receive a single line from the tube.\u001b[39;00m\n\u001b[1;32m   (...)\u001b[0m\n\u001b[0;32m    495\u001b[0m \u001b[38;5;124;03m        b'Foo\\nBar'\u001b[39;00m\n\u001b[0;32m    496\u001b[0m \u001b[38;5;124;03m    \"\"\"\u001b[39;00m\n\u001b[1;32m--> 497\u001b[0m     \u001b[38;5;28;01mreturn\u001b[39;00m \u001b[38;5;28;43mself\u001b[39;49m\u001b[38;5;241;43m.\u001b[39;49m\u001b[43mrecvuntil\u001b[49m\u001b[43m(\u001b[49m\u001b[38;5;28;43mself\u001b[39;49m\u001b[38;5;241;43m.\u001b[39;49m\u001b[43mnewline\u001b[49m\u001b[43m,\u001b[49m\u001b[43m \u001b[49m\u001b[43mdrop\u001b[49m\u001b[43m \u001b[49m\u001b[38;5;241;43m=\u001b[39;49m\u001b[43m \u001b[49m\u001b[38;5;129;43;01mnot\u001b[39;49;00m\u001b[43m \u001b[49m\u001b[43mkeepends\u001b[49m\u001b[43m,\u001b[49m\u001b[43m \u001b[49m\u001b[43mtimeout\u001b[49m\u001b[43m \u001b[49m\u001b[38;5;241;43m=\u001b[39;49m\u001b[43m \u001b[49m\u001b[43mtimeout\u001b[49m\u001b[43m)\u001b[49m\n",
      "File \u001b[1;32mc:\\Users\\picokatx\\Documents\\CTF\\.venv\\Lib\\site-packages\\pwnlib\\tubes\\tube.py:340\u001b[0m, in \u001b[0;36mtube.recvuntil\u001b[1;34m(self, delims, drop, timeout)\u001b[0m\n\u001b[0;32m    338\u001b[0m \u001b[38;5;28;01mwhile\u001b[39;00m \u001b[38;5;28mself\u001b[39m\u001b[38;5;241m.\u001b[39mcountdown_active():\n\u001b[0;32m    339\u001b[0m     \u001b[38;5;28;01mtry\u001b[39;00m:\n\u001b[1;32m--> 340\u001b[0m         res \u001b[38;5;241m=\u001b[39m \u001b[38;5;28;43mself\u001b[39;49m\u001b[38;5;241;43m.\u001b[39;49m\u001b[43mrecv\u001b[49m\u001b[43m(\u001b[49m\u001b[43mtimeout\u001b[49m\u001b[38;5;241;43m=\u001b[39;49m\u001b[38;5;28;43mself\u001b[39;49m\u001b[38;5;241;43m.\u001b[39;49m\u001b[43mtimeout\u001b[49m\u001b[43m)\u001b[49m\n\u001b[0;32m    341\u001b[0m     \u001b[38;5;28;01mexcept\u001b[39;00m \u001b[38;5;167;01mException\u001b[39;00m:\n\u001b[0;32m    342\u001b[0m         \u001b[38;5;28mself\u001b[39m\u001b[38;5;241m.\u001b[39munrecv(\u001b[38;5;124mb\u001b[39m\u001b[38;5;124m'\u001b[39m\u001b[38;5;124m'\u001b[39m\u001b[38;5;241m.\u001b[39mjoin(data) \u001b[38;5;241m+\u001b[39m top)\n",
      "File \u001b[1;32mc:\\Users\\picokatx\\Documents\\CTF\\.venv\\Lib\\site-packages\\pwnlib\\tubes\\tube.py:105\u001b[0m, in \u001b[0;36mtube.recv\u001b[1;34m(self, numb, timeout)\u001b[0m\n\u001b[0;32m     74\u001b[0m \u001b[38;5;250m\u001b[39m\u001b[38;5;124mr\u001b[39m\u001b[38;5;124;03m\"\"\"recv(numb = 4096, timeout = default) -> bytes\u001b[39;00m\n\u001b[0;32m     75\u001b[0m \n\u001b[0;32m     76\u001b[0m \u001b[38;5;124;03mReceives up to `numb` bytes of data from the tube, and returns\u001b[39;00m\n\u001b[1;32m   (...)\u001b[0m\n\u001b[0;32m    102\u001b[0m \u001b[38;5;124;03m        b'Hello, world'\u001b[39;00m\n\u001b[0;32m    103\u001b[0m \u001b[38;5;124;03m\"\"\"\u001b[39;00m\n\u001b[0;32m    104\u001b[0m numb \u001b[38;5;241m=\u001b[39m \u001b[38;5;28mself\u001b[39m\u001b[38;5;241m.\u001b[39mbuffer\u001b[38;5;241m.\u001b[39mget_fill_size(numb)\n\u001b[1;32m--> 105\u001b[0m \u001b[38;5;28;01mreturn\u001b[39;00m \u001b[38;5;28;43mself\u001b[39;49m\u001b[38;5;241;43m.\u001b[39;49m\u001b[43m_recv\u001b[49m\u001b[43m(\u001b[49m\u001b[43mnumb\u001b[49m\u001b[43m,\u001b[49m\u001b[43m \u001b[49m\u001b[43mtimeout\u001b[49m\u001b[43m)\u001b[49m \u001b[38;5;129;01mor\u001b[39;00m \u001b[38;5;124mb\u001b[39m\u001b[38;5;124m'\u001b[39m\u001b[38;5;124m'\u001b[39m\n",
      "File \u001b[1;32mc:\\Users\\picokatx\\Documents\\CTF\\.venv\\Lib\\site-packages\\pwnlib\\tubes\\tube.py:175\u001b[0m, in \u001b[0;36mtube._recv\u001b[1;34m(self, numb, timeout)\u001b[0m\n\u001b[0;32m    171\u001b[0m numb \u001b[38;5;241m=\u001b[39m \u001b[38;5;28mself\u001b[39m\u001b[38;5;241m.\u001b[39mbuffer\u001b[38;5;241m.\u001b[39mget_fill_size(numb)\n\u001b[0;32m    173\u001b[0m \u001b[38;5;66;03m# No buffered data, could not put anything in the buffer\u001b[39;00m\n\u001b[0;32m    174\u001b[0m \u001b[38;5;66;03m# before timeout.\u001b[39;00m\n\u001b[1;32m--> 175\u001b[0m \u001b[38;5;28;01mif\u001b[39;00m \u001b[38;5;129;01mnot\u001b[39;00m \u001b[38;5;28mself\u001b[39m\u001b[38;5;241m.\u001b[39mbuffer \u001b[38;5;129;01mand\u001b[39;00m \u001b[38;5;129;01mnot\u001b[39;00m \u001b[38;5;28;43mself\u001b[39;49m\u001b[38;5;241;43m.\u001b[39;49m\u001b[43m_fillbuffer\u001b[49m\u001b[43m(\u001b[49m\u001b[43mtimeout\u001b[49m\u001b[43m)\u001b[49m:\n\u001b[0;32m    176\u001b[0m     \u001b[38;5;28;01mreturn\u001b[39;00m \u001b[38;5;124mb\u001b[39m\u001b[38;5;124m'\u001b[39m\u001b[38;5;124m'\u001b[39m\n\u001b[0;32m    178\u001b[0m \u001b[38;5;28;01mreturn\u001b[39;00m \u001b[38;5;28mself\u001b[39m\u001b[38;5;241m.\u001b[39mbuffer\u001b[38;5;241m.\u001b[39mget(numb)\n",
      "File \u001b[1;32mc:\\Users\\picokatx\\Documents\\CTF\\.venv\\Lib\\site-packages\\pwnlib\\tubes\\tube.py:154\u001b[0m, in \u001b[0;36mtube._fillbuffer\u001b[1;34m(self, timeout)\u001b[0m\n\u001b[0;32m    151\u001b[0m data \u001b[38;5;241m=\u001b[39m \u001b[38;5;124mb\u001b[39m\u001b[38;5;124m'\u001b[39m\u001b[38;5;124m'\u001b[39m\n\u001b[0;32m    153\u001b[0m \u001b[38;5;28;01mwith\u001b[39;00m \u001b[38;5;28mself\u001b[39m\u001b[38;5;241m.\u001b[39mlocal(timeout):\n\u001b[1;32m--> 154\u001b[0m     data \u001b[38;5;241m=\u001b[39m \u001b[38;5;28;43mself\u001b[39;49m\u001b[38;5;241;43m.\u001b[39;49m\u001b[43mrecv_raw\u001b[49m\u001b[43m(\u001b[49m\u001b[38;5;28;43mself\u001b[39;49m\u001b[38;5;241;43m.\u001b[39;49m\u001b[43mbuffer\u001b[49m\u001b[38;5;241;43m.\u001b[39;49m\u001b[43mget_fill_size\u001b[49m\u001b[43m(\u001b[49m\u001b[43m)\u001b[49m\u001b[43m)\u001b[49m\n\u001b[0;32m    156\u001b[0m \u001b[38;5;28;01mif\u001b[39;00m data \u001b[38;5;129;01mand\u001b[39;00m \u001b[38;5;28mself\u001b[39m\u001b[38;5;241m.\u001b[39misEnabledFor(logging\u001b[38;5;241m.\u001b[39mDEBUG):\n\u001b[0;32m    157\u001b[0m     \u001b[38;5;28mself\u001b[39m\u001b[38;5;241m.\u001b[39mdebug(\u001b[38;5;124m'\u001b[39m\u001b[38;5;124mReceived \u001b[39m\u001b[38;5;132;01m%#x\u001b[39;00m\u001b[38;5;124m bytes:\u001b[39m\u001b[38;5;124m'\u001b[39m \u001b[38;5;241m%\u001b[39m \u001b[38;5;28mlen\u001b[39m(data))\n",
      "File \u001b[1;32mc:\\Users\\picokatx\\Documents\\CTF\\.venv\\Lib\\site-packages\\pwnlib\\tubes\\sock.py:56\u001b[0m, in \u001b[0;36msock.recv_raw\u001b[1;34m(self, numb, *a)\u001b[0m\n\u001b[0;32m     54\u001b[0m \u001b[38;5;28;01mif\u001b[39;00m \u001b[38;5;129;01mnot\u001b[39;00m data:\n\u001b[0;32m     55\u001b[0m     \u001b[38;5;28mself\u001b[39m\u001b[38;5;241m.\u001b[39mshutdown(\u001b[38;5;124m\"\u001b[39m\u001b[38;5;124mrecv\u001b[39m\u001b[38;5;124m\"\u001b[39m)\n\u001b[1;32m---> 56\u001b[0m     \u001b[38;5;28;01mraise\u001b[39;00m \u001b[38;5;167;01mEOFError\u001b[39;00m\n\u001b[0;32m     58\u001b[0m \u001b[38;5;28;01mreturn\u001b[39;00m data\n",
      "\u001b[1;31mEOFError\u001b[0m: "
     ]
    }
   ],
   "source": [
    "from pwnlib.tubes.remote import remote\n",
    "import json\n",
    "r = remote(\"socket.cryptohack.org\", 13399)\n",
    "# r = remote(\"localhost\", 13399)\n",
    "def json_recv():\n",
    "    line = r.readline()\n",
    "    return json.loads(line.decode())\n",
    "\n",
    "def json_send(hsh):\n",
    "    request = json.dumps(hsh).encode()\n",
    "    r.sendline(request)\n",
    "\n",
    "def hello_world():\n",
    "    return r.recvline().decode()\n",
    "\n",
    "def reset_connection():\n",
    "    json_send({\"option\": \"reset_connection\"})\n",
    "    return json_recv()\n",
    "\n",
    "def authenticate(pwd):\n",
    "    json_send({\"option\": \"authenticate\", \"password\": pwd})\n",
    "    return json_recv()\n",
    "\n",
    "def reset_password(token):\n",
    "    json_send({\"option\": \"reset_password\", \"token\": token})\n",
    "    return json_recv()\n",
    "\n",
    "# print(r.sen)\n",
    "hello_world()\n",
    "reset_connection()\n",
    "reset_password(\"0000000000000000000000000000000000000000000000000000000000000000\")\n",
    "for c in range(0,256): # [:-4]\n",
    "    print(authenticate(bytes([c]*12).decode()))"
   ]
  },
  {
   "cell_type": "code",
   "execution_count": 77,
   "metadata": {},
   "outputs": [
    {
     "data": {
      "text/plain": [
       "12"
      ]
     },
     "execution_count": 77,
     "metadata": {},
     "output_type": "execute_result"
    }
   ],
   "source": [
    "len(\"\\x90\\x90\\x90\\x90\\x90\\x90\\x90\\x90\\x90\\x90\\x90\\x90\")"
   ]
  },
  {
   "cell_type": "code",
   "execution_count": 1,
   "metadata": {},
   "outputs": [],
   "source": [
    "#!/usr/bin/env python3\n",
    "\n",
    "from Crypto.Cipher import AES\n",
    "from Crypto.Util.number import bytes_to_long\n",
    "from os import urandom\n",
    "class CFB8:\n",
    "    def __init__(self, key):\n",
    "        self.key = key\n",
    "\n",
    "    def encrypt(self, plaintext):\n",
    "        IV = urandom(16)\n",
    "        cipher = AES.new(self.key, AES.MODE_ECB)\n",
    "        ct = b''\n",
    "        state = IV\n",
    "        for i in range(len(plaintext)):\n",
    "            b = cipher.encrypt(state)[0]\n",
    "            c = b ^ plaintext[i]\n",
    "            ct += bytes([c])\n",
    "            state = state[1:] + bytes([c])\n",
    "        return IV + ct\n",
    "\n",
    "    def decrypt(self, ciphertext):\n",
    "        IV = ciphertext[:16]\n",
    "        ct = ciphertext[16:]\n",
    "        cipher = AES.new(self.key, AES.MODE_ECB)\n",
    "        pt = b''\n",
    "        state = IV\n",
    "        for i in range(len(ct)):\n",
    "            b = cipher.encrypt(state)[0]\n",
    "            c = b ^ ct[i]\n",
    "            pt += bytes([c])\n",
    "            state = state[1:] + bytes([ct[i]])\n",
    "        return pt"
   ]
  },
  {
   "cell_type": "code",
   "execution_count": 70,
   "metadata": {},
   "outputs": [
    {
     "data": {
      "text/plain": [
       "b'\\xae\\xae\\xae\\xae\\xae\\xae\\xae\\xae\\xae\\xae\\xae\\xae\\xae\\xae\\xae\\xae'"
      ]
     },
     "execution_count": 70,
     "metadata": {},
     "output_type": "execute_result"
    }
   ],
   "source": [
    "key = urandom(16)\n",
    "cfb8 = CFB8(key)\n",
    "cfb8.decrypt(bytes.fromhex(\"0000000000000000000000000000000000000000000000000000000000000000\"))"
   ]
  },
  {
   "cell_type": "code",
   "execution_count": 55,
   "metadata": {},
   "outputs": [
    {
     "data": {
      "text/plain": [
       "16"
      ]
     },
     "execution_count": 55,
     "metadata": {},
     "output_type": "execute_result"
    }
   ],
   "source": [
    "len(b'\\x1b\\x1b\\x1b\\x1b\\x1b\\x1b\\x1b\\x1b\\x1b\\x1b\\x1b\\x1b\\x1b\\x1b\\x1b\\x1b')"
   ]
  }
 ],
 "metadata": {
  "kernelspec": {
   "display_name": ".venv",
   "language": "python",
   "name": "python3"
  },
  "language_info": {
   "codemirror_mode": {
    "name": "ipython",
    "version": 3
   },
   "file_extension": ".py",
   "mimetype": "text/x-python",
   "name": "python",
   "nbconvert_exporter": "python",
   "pygments_lexer": "ipython3",
   "version": "3.11.6"
  }
 },
 "nbformat": 4,
 "nbformat_minor": 2
}
