{
 "cells": [
  {
   "cell_type": "code",
   "execution_count": null,
   "metadata": {},
   "outputs": [],
   "source": [
    "# model soln\n",
    "from blockutils import *\n",
    "from string import printable\n",
    "from multiprocessing import Pool\n",
    "from functools import partial\n",
    "\n",
    "def encrypt(hexchars):\n",
    "    return getdata(f'ctrime/encrypt/{hexchars}', 'ciphertext') # getdata is a function from my blockutils module\n",
    "\n",
    "def getlength(known, char):\n",
    "    return (char, len(encrypt(strtohex(known[-5:] + char)))) # strtohex is another function from blockutils, just string.encode().hex()\n",
    "\n",
    "known = 'crypto{'\n",
    "\n",
    "p = Pool(50)\n",
    "while '}' not in known:\n",
    "    lengths = p.map(partial(getlength, known), printable) # try every printable character\n",
    "    char = min(lengths, key=lambda x:x[1])[0] # the correct one must be the shortest\n",
    "    known += char\n",
    "    print(known, end='\\r')\n",
    "print()"
   ]
  },
  {
   "cell_type": "code",
   "execution_count": 1,
   "metadata": {},
   "outputs": [],
   "source": [
    "import os\n",
    "from Crypto.Util.Padding import pad, unpad\n",
    "from datetime import datetime, timedelta\n",
    "from Crypto.Cipher import AES\n",
    "from os import urandom\n",
    "import requests\n",
    "from Crypto.Util.number import long_to_bytes, bytes_to_long\n",
    "import json\n",
    "def json_get(url):\n",
    "    return json.loads(requests.get(url).content.decode())\n",
    "def xor(a, b):\n",
    "    return long_to_bytes(bytes_to_long(a) ^ bytes_to_long(b))\n",
    "def repeat_xor(a, b):\n",
    "    return bytes(x ^ y for x,y in zip(a, b * (1 + len(a) // len(b))))\n",
    "def encrypt(plaintext):\n",
    "    return bytes.fromhex(json_get(f\"https://aes.cryptohack.org/ctrime/encrypt/{plaintext}\")['ciphertext'])\n",
    "KEY =  b\"key{the_aes_key}\"\n",
    "FLAG = b\"crypto{aes_flag}\"\n",
    "PLAIN =b\"Howdy! I'm Flowe\"\n",
    "IV = b'\\xda\\xdd:\\x7f2\\xa7\\xc2\\xe3\"\\xbff\\xca\\r\\x0c?\\xcc'"
   ]
  },
  {
   "cell_type": "code",
   "execution_count": 2,
   "metadata": {},
   "outputs": [],
   "source": [
    "from string import ascii_lowercase, ascii_uppercase\n",
    "from pwnlib.tubes.remote import remote\n",
    "from tqdm import tqdm\n",
    "from ast import literal_eval\n",
    "import zlib\n",
    "import re\n",
    "from random import randint\n",
    "import os\n",
    "from Crypto.Cipher import Salsa20"
   ]
  },
  {
   "cell_type": "code",
   "execution_count": 9,
   "metadata": {},
   "outputs": [
    {
     "data": {
      "text/plain": [
       "'7b'"
      ]
     },
     "execution_count": 9,
     "metadata": {},
     "output_type": "execute_result"
    }
   ],
   "source": [
    "b'{'.hex()"
   ]
  },
  {
   "cell_type": "code",
   "execution_count": 27,
   "metadata": {},
   "outputs": [
    {
     "name": "stderr",
     "output_type": "stream",
     "text": [
      "100%|██████████| 95/95 [01:05<00:00,  1.45it/s]\n"
     ]
    }
   ],
   "source": [
    "alph = \"\".join([chr(c) for c in range(33,128)])#ascii_lowercase+\"0123456789_{}\"\n",
    "flag = b\"\"\n",
    "leak_starter = []\n",
    "for c in tqdm(alph):\n",
    "    leak_starter.append(len(encrypt((c.encode()*4).hex())))\n",
    "flag = bytes([33+leak_starter.index(34)])+flag # 34 36"
   ]
  },
  {
   "cell_type": "code",
   "execution_count": 63,
   "metadata": {},
   "outputs": [
    {
     "name": "stderr",
     "output_type": "stream",
     "text": [
      "100%|██████████| 95/95 [01:05<00:00,  1.46it/s]\n",
      "100%|██████████| 95/95 [01:05<00:00,  1.44it/s]\n",
      "100%|██████████| 95/95 [01:05<00:00,  1.46it/s]\n",
      "100%|██████████| 95/95 [01:05<00:00,  1.45it/s]\n",
      "100%|██████████| 95/95 [01:05<00:00,  1.46it/s]\n",
      "100%|██████████| 95/95 [01:05<00:00,  1.46it/s]\n",
      "100%|██████████| 95/95 [01:05<00:00,  1.46it/s]\n",
      "100%|██████████| 95/95 [01:05<00:00,  1.46it/s]\n",
      "100%|██████████| 95/95 [01:05<00:00,  1.46it/s]\n"
     ]
    },
    {
     "ename": "ValueError",
     "evalue": "35 is not in list",
     "output_type": "error",
     "traceback": [
      "\u001b[1;31m---------------------------------------------------------------------------\u001b[0m",
      "\u001b[1;31mValueError\u001b[0m                                Traceback (most recent call last)",
      "Cell \u001b[1;32mIn[63], line 18\u001b[0m\n\u001b[0;32m     15\u001b[0m     \u001b[38;5;66;03m# for c in flag:\u001b[39;00m\n\u001b[0;32m     16\u001b[0m     \u001b[38;5;66;03m#     leak_char[c-33] = 50\u001b[39;00m\n\u001b[0;32m     17\u001b[0m     leak\u001b[38;5;241m.\u001b[39mappend(leak_char)\n\u001b[1;32m---> 18\u001b[0m     flag \u001b[38;5;241m=\u001b[39m flag\u001b[38;5;241m+\u001b[39m\u001b[38;5;28mbytes\u001b[39m([\u001b[38;5;241m33\u001b[39m\u001b[38;5;241m+\u001b[39mleak_char\u001b[38;5;241m.\u001b[39mindex(\u001b[38;5;241m35\u001b[39m)])\n\u001b[0;32m     19\u001b[0m \u001b[38;5;66;03m# [len(zlib.compress(flag+bytes([c, 84]*2)))==57 for c in range(0,256)].index(False)\u001b[39;00m\n\u001b[0;32m     20\u001b[0m \u001b[38;5;66;03m# [len(zlib.compress(flag+bytes([c]*3)))==59 for c in range(0,256)].index(False)\u001b[39;00m\n\u001b[0;32m     21\u001b[0m \u001b[38;5;66;03m# encrypt(\"a\")\u001b[39;00m\n",
      "\u001b[1;31mValueError\u001b[0m: 35 is not in list"
     ]
    }
   ],
   "source": [
    "flag = b\"crypto{CRIME_571\"\n",
    "alph = \"\".join([chr(c) for c in range(33,128)])#ascii_lowercase+\"0123456789_{}\"\n",
    "# bounds: start a padding ensures it works for all (parity check fails for bigger length)\n",
    "# flag is also cropped (to 8 max) because the parity check fails otherwise\n",
    "# don't need to do the first thing if we do the 2nd\n",
    "# scratch that, do any of the above 2 methods until the program doesn't crash\n",
    "# suspect issues may arise when there are repeated chars\n",
    "# ok so basically the repeated chars issue only arises when we only have 1 char of the flag\n",
    "# if that same char is tested for against the oracle next, it will be a false positive\n",
    "# right also the baseline compression size appears to increment by 1 every block\n",
    "leak = []\n",
    "for i in range(10):\n",
    "    leak_char = []  \n",
    "    for c in tqdm(alph):\n",
    "        leak_char.append(len(encrypt((flag[-8:]+c.encode()).hex())))\n",
    "    # for c in flag:\n",
    "    #     leak_char[c-33] = 50\n",
    "    leak.append(leak_char)\n",
    "    flag = flag+bytes([33+leak_char.index(35)])\n",
    "# [len(zlib.compress(flag+bytes([c, 84]*2)))==57 for c in range(0,256)].index(False)\n",
    "# [len(zlib.compress(flag+bytes([c]*3)))==59 for c in range(0,256)].index(False)\n",
    "# encrypt(\"a\")"
   ]
  },
  {
   "cell_type": "code",
   "execution_count": null,
   "metadata": {},
   "outputs": [],
   "source": [
    "# crypto{CRIME_571ll_p4y5}"
   ]
  },
  {
   "cell_type": "code",
   "execution_count": 64,
   "metadata": {},
   "outputs": [
    {
     "data": {
      "text/plain": [
       "[36,\n",
       " 36,\n",
       " 36,\n",
       " 36,\n",
       " 36,\n",
       " 36,\n",
       " 36,\n",
       " 36,\n",
       " 36,\n",
       " 36,\n",
       " 36,\n",
       " 36,\n",
       " 36,\n",
       " 36,\n",
       " 36,\n",
       " 36,\n",
       " 36,\n",
       " 36,\n",
       " 36,\n",
       " 36,\n",
       " 36,\n",
       " 36,\n",
       " 36,\n",
       " 36,\n",
       " 36,\n",
       " 36,\n",
       " 36,\n",
       " 36,\n",
       " 36,\n",
       " 36,\n",
       " 36,\n",
       " 36,\n",
       " 36,\n",
       " 36,\n",
       " 36,\n",
       " 36,\n",
       " 36,\n",
       " 36,\n",
       " 36,\n",
       " 36,\n",
       " 36,\n",
       " 36,\n",
       " 36,\n",
       " 36,\n",
       " 36,\n",
       " 36,\n",
       " 36,\n",
       " 36,\n",
       " 36,\n",
       " 36,\n",
       " 36,\n",
       " 36,\n",
       " 36,\n",
       " 36,\n",
       " 36,\n",
       " 36,\n",
       " 36,\n",
       " 36,\n",
       " 36,\n",
       " 36,\n",
       " 36,\n",
       " 36,\n",
       " 36,\n",
       " 36,\n",
       " 36,\n",
       " 36,\n",
       " 36,\n",
       " 36,\n",
       " 36,\n",
       " 36,\n",
       " 36,\n",
       " 36,\n",
       " 36,\n",
       " 36,\n",
       " 36,\n",
       " 36,\n",
       " 36,\n",
       " 36,\n",
       " 36,\n",
       " 36,\n",
       " 36,\n",
       " 36,\n",
       " 36,\n",
       " 36,\n",
       " 36,\n",
       " 36,\n",
       " 36,\n",
       " 36,\n",
       " 36,\n",
       " 36,\n",
       " 36,\n",
       " 36,\n",
       " 36,\n",
       " 36,\n",
       " 36]"
      ]
     },
     "execution_count": 64,
     "metadata": {},
     "output_type": "execute_result"
    }
   ],
   "source": [
    "leak_char"
   ]
  },
  {
   "cell_type": "code",
   "execution_count": 57,
   "metadata": {},
   "outputs": [
    {
     "data": {
      "text/plain": [
       "'C'"
      ]
     },
     "execution_count": 57,
     "metadata": {},
     "output_type": "execute_result"
    }
   ],
   "source": [
    "chr(leak_char.index(34)+33)"
   ]
  },
  {
   "cell_type": "code",
   "execution_count": 65,
   "metadata": {},
   "outputs": [
    {
     "data": {
      "text/plain": [
       "b'crypto{CRIME_571ll_p4y5}'"
      ]
     },
     "execution_count": 65,
     "metadata": {},
     "output_type": "execute_result"
    }
   ],
   "source": [
    "flag"
   ]
  },
  {
   "cell_type": "code",
   "execution_count": 52,
   "metadata": {},
   "outputs": [
    {
     "name": "stdout",
     "output_type": "stream",
     "text": [
      "29\n",
      "30\n"
     ]
    }
   ],
   "source": [
    "print(len(zlib.compress(b\"crypto{a\"+b\"crypto{agdegwhrhwhrwhrw\")))\n",
    "print(len(zlib.compress(b\"crypto{g\"+b\"crypto{agdegwhrhwhrwhrw\")))"
   ]
  },
  {
   "cell_type": "code",
   "execution_count": null,
   "metadata": {},
   "outputs": [],
   "source": []
  }
 ],
 "metadata": {
  "kernelspec": {
   "display_name": ".venv",
   "language": "python",
   "name": "python3"
  },
  "language_info": {
   "codemirror_mode": {
    "name": "ipython",
    "version": 3
   },
   "file_extension": ".py",
   "mimetype": "text/x-python",
   "name": "python",
   "nbconvert_exporter": "python",
   "pygments_lexer": "ipython3",
   "version": "3.11.6"
  }
 },
 "nbformat": 4,
 "nbformat_minor": 2
}
