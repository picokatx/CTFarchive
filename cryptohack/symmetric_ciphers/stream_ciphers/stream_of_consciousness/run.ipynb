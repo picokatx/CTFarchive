{
 "cells": [
  {
   "cell_type": "code",
   "execution_count": 129,
   "metadata": {},
   "outputs": [],
   "source": [
    "import os\n",
    "from Crypto.Util.Padding import pad, unpad\n",
    "from datetime import datetime, timedelta\n",
    "from Crypto.Cipher import AES\n",
    "from os import urandom\n",
    "import requests\n",
    "from Crypto.Util.number import long_to_bytes, bytes_to_long\n",
    "import json\n",
    "from tqdm import tqdm\n",
    "import re\n",
    "def json_get(url):\n",
    "    return json.loads(requests.get(url).content.decode())\n",
    "def xor(a, b):\n",
    "    return long_to_bytes(bytes_to_long(a) ^ bytes_to_long(b))\n",
    "def repeat_xor(a, b):\n",
    "    return bytes(x ^ y for x,y in zip(a, b * (1 + len(a) // len(b))))\n",
    "def encrypt():\n",
    "    return bytes.fromhex(json_get(f\"https://aes.cryptohack.org/stream_consciousness/encrypt/\")['ciphertext'])\n",
    "def is_utf8(s: str):\n",
    "    try:\n",
    "        s.decode('utf-8')\n",
    "        return True\n",
    "    except UnicodeError:\n",
    "        return False\n",
    "KEY =  b\"key{the_aes_key}\"\n",
    "FLAG = b\"crypto{aes_flag}\"\n",
    "PLAIN =b\"Howdy! I'm Flowe\"\n",
    "# IV = b'\\xda\\xdd:\\x7f2\\xa7\\xc2\\xe3\"\\xbff\\xca\\r\\x0c?\\xcc'"
   ]
  },
  {
   "cell_type": "code",
   "execution_count": 12,
   "metadata": {},
   "outputs": [
    {
     "data": {
      "application/vnd.jupyter.widget-view+json": {
       "model_id": "5d1b7db25ec248c2a28f96fca03d903b",
       "version_major": 2,
       "version_minor": 0
      },
      "text/plain": [
       "  0%|          | 0/100 [00:00<?, ?it/s]"
      ]
     },
     "metadata": {},
     "output_type": "display_data"
    }
   ],
   "source": [
    "from multi import run\n",
    "ctexts = run()"
   ]
  },
  {
   "cell_type": "code",
   "execution_count": 4,
   "metadata": {},
   "outputs": [],
   "source": [
    "unique_c = set(ctexts)"
   ]
  },
  {
   "cell_type": "code",
   "execution_count": 13,
   "metadata": {},
   "outputs": [],
   "source": [
    "unique_c = set(ctexts+list(unique_c))"
   ]
  },
  {
   "cell_type": "code",
   "execution_count": 141,
   "metadata": {},
   "outputs": [
    {
     "data": {
      "text/plain": [
       "[b'B\\\\t\\xc6\\x11\\xae\\xcb\\xa1\\xb2\\xbe&\\x19\\xa8\\xad\\x85\"^\\xe6\\x00k\\xf3\\xe5\\x12(\\xaf\\xa1\\xab\\xfa6W\\x1dS\\xf5\\xc1\\xa5\\x99\\xfd\\xd7\\x1e\\xf9\\x8aB\\x7f\\x01\\xda\\xab|\\xd5\\x0e\\x16\\x91\\xac\\xd9\\xfa\\xd90\\n\\xa0\\x83\\xb4.\\x1c8\\x19\\x86\\x8c\\x13Ru\\xc0\\xc3\"\\xee\\xa2}\\xc7\\xc5\\xee\\x00\\xf38\\xca\\xda                                                                                                                     ',\n",
       " b'\\\\\\x13x\\x92D\\xa1\\x83\\xae\\xa3\\xbd+L\\xa8\\x97\\xc8#W\\xf9Em\\xed\\xe9Aa\\xab\\xec\\xe2\\xe0*\\x12UT\\xf0\\x9a                                                                                                                                                                      ',\n",
       " b'[\\x1ek\\x8e\\x05\\xb0\\xd0\\xe0\\xaa\\xab\\x7f]\\xe9\\x97\\x85+R\\xe6\\x16|\\xe1\\xa0F)\\xbe\\xad\\xff\\xfc?[S\\x15\\xf5\\xda\\xad\\xcd\\xb3\\xd7\\x1e\\xf6\\x82Oq\\r\\x98\\xb0)\\xcfA(\\x98\\xe1\\xae\\xee\\xd9,K\\xbd\\x9c\\xbfk]<\\x00\\xcb\\x91\\x17^4\\xc7\\xcb \\xe5\\xaf                                                                                                                              ',\n",
       " b'B[j\\x8e\\x05\\xac\\xcf\\xe0\\xae\\xa1,P\\xa8\\x81\\xd3#I\\xec\\x11q\\xec\\xeeUa\\xba\\xe3\\xef\\xae0]I\\x15\\xf3\\xd1\\xbd\\xcd\\xb2\\xcdS\\xb4\\x81MyF\\xd4                                                                                                                                                           ',\n",
       " b'_\\x13|\\xc6\\x10\\xa5\\xd1\\xb2\\xab\\xac3P\\xa8\\x90\\xcd/U\\xf2Ep\\xf6\\xa0F)\\xba\\xf9\\xab\\xfa6W\\x1dE\\xf5\\xc7\\xbd\\xcd\\xb9\\xc5P\\xb3\\x97\\x0cxH\\xda\\xbdf\\xd3@\\x7f\\xd9\\xb4\\x8d\\xaf\\xd5!K\\xb9\\x87\\xbe.\\x0f;\\x1a\\xd2\\x8bU                                                                                                                                     ',\n",
       " b'I\\x0em\\xc6-\\xe0\\xd4\\xa9\\xae\\xa2\\x7fF\\xe0\\x8b\\xd2fS\\xfc\\x087                                                                                                                                                                                    ',\n",
       " b'G\\x14o\\x83H\\xe0\\xd3\\xb2\\xad\\xac>W\\xe4\\x9d\\x9afo\\xfd\\x00`\\xa5\\xe4]/\\xfc\\xf9\\xab\\xe50]J\\x15\\xfc\\xdb\\xbe\\xcd\\xbe\\xd6[\\xf5\\x91U:D\\x8e\\xe9`\\xd2\\x02\\x7f\\xde\\xae\\x8e\\xaf\\xdf-\\x06\\xb9\\x9f\\xa4o\\t=\\x1b\\xc1\\xd6U\\x19u\\xc7\\xca*\\xab\\xcf+\\xca\\xce\\xf7\\x15\\xf34\\xc1\\x90\\x17\\xe8\\x82\\xce\\xd3\\x9d?M`\\xa0                                                                                                           ',\n",
       " b'B\\x0f9\\x85\\x05\\xae\\x84\\xb4\\xe2\\xac:\\x15\\xfc\\x8b\\xd7(\\x1b\\xfa\\x10m\\xa9\\xa0P4\\xaf\\xad\\xe2\\xfa~Q\\\\[\\xb4\\xd6\\xac\\xcd\\xb3\\xc3P\\xfb\\x91I~\\x03                                                                                                                                                            ',\n",
       " b'\\\\\\x13x\\x92D\\xa1\\x83\\xac\\xad\\xba\\x7fZ\\xee\\xc4\\xd1.R\\xfb\\x02j\\xa5\\xf4Z \\xaf\\xad\\xff\\xe6;\\\\\\x1dF\\xf1\\xd1\\xa4\\x88\\xbe\\x84J\\xfb\\xc3A\\x7f\\r\\x89\\xa6)\\xccO-\\xc0\\xa4\\x95\\xe3\\xd8-\\x18\\xf0\\x92\\xa3j]!\\x1b\\xc7\\x8c\\x0fV<\\xdd\\xc3-\\xe7\\xebq\\x8f\\xc8\\xe3\\x06\\xb6u\\xcd\\x91T\\xe4\\x87\\xc2\\x9f\\x90#[g\\xe9m\\xc3*\\x8a\\xa2\\x9cwB\\x17\\xca\\xbd\\x12\\xc5\\xf1x\\xa1\\xf06\\xc3na\\x1f\\x07\\xa1N\\xad\\xbb\\xe4\\x94\\xa1O\\xec\\xb5\\xcf\\xf5\\xa7\\xcfv\\x95?\\xb1\\xcb\\x97\\xa7\\x91\\x01\\xf7b\\xcf\\xec\\x15_m\\xb1\\xe7<\\x8c\\xefJ\\x9f\\x0e\\xf03c\\xf0|                                         ',\n",
       " b'_\\x13|\\x95\\x01\\xe0\\xcb\\xaf\\xb0\\xbd:F\\xa4\\xc4\\xd1.R\\xe6Ez\\xe4\\xf2@(\\xba\\xea\\xee\\xaes\\x12UZ\\xe3\\x94\\x80\\xcd\\xb6\\xcb_\\xe0\\x8bI:@\\x83\\xbal\\xcdH\\x7f\\xdf\\xaf\\xd9\\xfb\\xdf1\\x18\\xf0\\x90\\xac|\\x0f=\\x14\\xc1\\x9d[\\x1au\\xc7\\xca*\\xf2\\xa9/\\xca\\x80\\xe3\\x1c\\xbfu\\xc7\\x9dD\\xb0\\xca\\xc5\\xca\\x8dma.\\xfdk\\xcb \\x8f\\xe1\\x93|@^\\x98\\xfc\\x0f\\xc4\\xb4,\\xbd\\xfds\\xda&i\\x16\\x01\\xbb\\x00\\xca                                                                                 ',\n",
       " b'J\\x089\\x8f\\x02\\xe0\\xea\\xe0\\xaa\\xaf;\\x15\\xe9\\x8a\\xdcfL\\xfc\\x16q\\xa5\\xf4]a\\xb9\\xe8\\xab\\xe70\\x12I]\\xf1\\x94\\xbb\\x84\\xbd\\xccJ\\xb5\\xc3e:N\\x9b\\xa7.\\xd5\\x0f                                                                                                                                                       ',\n",
       " b'\\\\\\x13`\\xc6\\x00\\xaf\\x83\\xb4\\xaa\\xab&\\x15\\xef\\x8b\\x85)U\\xb5\\x15x\\xec\\xeeF(\\xb5\\xea\\xab\\xef0V\\x1dW\\xe1\\xdd\\xa5\\x89\\xb3\\xcaY\\xb4\\x82@v\\r\\x8e\\xa1l\\x81Z6\\xdb\\xa4\\xc6                                                                                                                                                   ',\n",
       " b\"C\\x14n\\xc6\\x14\\xb2\\xcc\\xb5\\xa6\\xee>[\\xec\\xc4\\xcd'K\\xe5\\x1c9\\xed\\xe5\\x15-\\xb7\\xad\\xe9\\xeb~EUP\\xfa\\x94\\xa1\\x88\\xfa\\xc3[\\xe0\\x90\\x0cwT\\xda\\xa7f\\xd5K~                                                                                                                                                      \",\n",
       " b'J\\x15}\\xc6-\\xe0\\xd0\\xa8\\xa3\\xa23\\x15\\xe1\\x83\\xcb)I\\xf0Ep\\xf1\\xae                                                                                                                                                                                  ',\n",
       " b'E\\x145\\xc6-\\xe7\\xcf\\xac\\xe2\\xa90\\x15\\xe1\\x8a\\x852T\\xb5!v\\xe9\\xecKa\\xba\\xe3\\xef\\xae*WQY\\xb4\\xdc\\xac\\x9f\\xfa\\xd7J\\xe6\\x82E}E\\x8e\\xe9f\\xd4Z                                                                                                                                                       ',\n",
       " b'_\\x13k\\x83\\x01\\xe0\\xc1\\xaf\\xbb\\xbd\\x7fG\\xfd\\x8a\\xcb/U\\xf2I9\\xf5\\xecS8\\xb2\\xe3\\xec\\xae?F\\x1d]\\xfb\\xc6\\xba\\x88\\xa9\\x88\\x1e\\xc7\\x86^cB\\x80\\xa1h\\x80                                                                                                                                                        ',\n",
       " b'\\\\\\x14l\\x8a\\x00\\xe0\\xea\\xe0\\xaa\\xaf)P\\xa8\\x86\\xc0*R\\xf0\\x13|\\xe1\\xa0F)\\xbe\\xe3\\xab\\xfa6SI\\x15\\xdd\\x94\\xaa\\x82\\xaf\\xc8Z\\xb4\\x91I{N\\x92\\xe9z\\xd4M7\\x96\\xa5\\x9c\\xff\\xc30\\x18\\xf0\\x9c\\xab.\\x15!\\x18\\xcf\\x94\\x12V!\\xda\\xcd!\\xb4                                                                                                                               ',\n",
       " b'B[j\\x8e\\x05\\xac\\xcf\\xec\\xe2\\x87xY\\xe4\\xc4\\xc9)H\\xf0E|\\xf3\\xe5@8\\xaf\\xe5\\xe2\\xe09\\x12TS\\xb4\\xdc\\xac\\xcd\\xbe\\xcb[\\xe7\\x8d\\x0bn\\r\\x99\\xa6d\\xc4\\x0e=\\xd7\\xa2\\x92\\xa1                                                                                                                                                  ',\n",
       " b'h\\t`\\x96\\x10\\xaf\\xd8\\xab\\xf1\\xb7j\\x02\\xfa\\xd7\\x91+d\\xe7Vl\\xb0\\xb3mp\\xee\\xd2\\xed\\xbai\\x06QH                                                                                                                                                                        ',\n",
       " b'O\\x14u\\x8a\\x1d\\xe0\\xd4\\xa9\\xae\\xa2\\x7fA\\xe0\\x8d\\xcb-\\x1b\\xe1\\rx\\xf1\\xa0{f\\xb6\\xad\\xe7\\xeb?DT[\\xf3\\x94\\xa8\\xcd\\xa9\\xc1]\\xfb\\x8dH:E\\x8f\\xbak\\xc0@;\\x96\\xa0\\x97\\xeb\\x97,\\x03\\xb1\\x87\\xedz\\x151\\x07\\xc3\\x9e\\x14E0\\x93\\xebo\\xe6\\xfb.\\xdb\\x80\\xf1\\x05\\xa10\\xc3\\x8d\\x17\\xe9\\x8f\\x87\\xd6\\x97m\\\\f\\xeb#\\xdd>\\x8c\\xaf\\x9a7                                                                                                    ',\n",
       " b'D\\x0ek\\xd9D\\x97\\xcb\\xb9\\xe2\\xa1*G\\xb7                                                                                                                                                                                           ',\n",
       " b'O\\t|\\x95\\x17\\xed\\xce\\xa1\\xa9\\xa71R\\xa8\\x85\\xcb\"\\x1b\\xd8\\x0cu\\xe9\\xe9\\\\$\\xa9\\xf4                                                                                                                                                                              ']"
      ]
     },
     "execution_count": 141,
     "metadata": {},
     "output_type": "execute_result"
    }
   ],
   "source": [
    "padded_c =[ c+(b\" \"*(200-len(c))) for c in list(unique_c)]\n",
    "padded_c"
   ]
  },
  {
   "cell_type": "code",
   "execution_count": 81,
   "metadata": {},
   "outputs": [
    {
     "data": {
      "text/plain": [
       "b''"
      ]
     },
     "execution_count": 81,
     "metadata": {},
     "output_type": "execute_result"
    }
   ],
   "source": [
    "from Crypto.Cipher import AES\n",
    "from Crypto.Util import Counter\n",
    "import random\n",
    "cipher = AES.new(KEY, AES.MODE_CTR, counter=Counter.new(128))\n",
    "cipher.nonce"
   ]
  },
  {
   "cell_type": "code",
   "execution_count": 82,
   "metadata": {},
   "outputs": [
    {
     "data": {
      "text/plain": [
       "13"
      ]
     },
     "execution_count": 82,
     "metadata": {},
     "output_type": "execute_result"
    }
   ],
   "source": [
    "len(b'D\\x0ek\\xd9D\\x97\\xcb\\xb9\\xe2\\xa1*G\\xb7')"
   ]
  },
  {
   "cell_type": "code",
   "execution_count": 84,
   "metadata": {},
   "outputs": [
    {
     "name": "stdout",
     "output_type": "stream",
     "text": [
      "b'}=u$!`3'\n",
      "b'crypto{'\n",
      "b'd\\x7fjl5~('\n",
      "b'}:kl5b7'\n",
      "b'`r}$ k)'\n",
      "b'vol$\\x1d.,'\n",
      "b'xunax.+'\n",
      "b'}n8g5`|'\n",
      "b'crypto{'\n",
      "b'`r}w1.3'\n",
      "b'ui8m2.\\x12'\n",
      "b'cra$0a{'\n",
      "b'|uo$$|4'\n",
      "b'ut|$\\x1d.('\n",
      "b'zu4$\\x1d)7'\n",
      "b'`rja1.9'\n",
      "b'cumh0.\\x12'\n",
      "b'}:kl5b7'\n",
      "b'What a '\n",
      "b'puth-.,'\n",
      "b'{oj;tY3'\n",
      "b\"ph}w'#6\"\n"
     ]
    }
   ],
   "source": [
    "for c in unique_c:\n",
    "    print(repeat_xor(b'?a\\x01\\xe20\\xce\\xf8', c))"
   ]
  },
  {
   "cell_type": "code",
   "execution_count": 204,
   "metadata": {},
   "outputs": [
    {
     "name": "stdout",
     "output_type": "stream",
     "text": [
      "T\n",
      "I'm unhappy, I deserve it, the O\n",
      "What a nasty smell this paint hH\n",
      "Perhaps he has missed the train\t\n",
      "I shall lose everything and not\t\n",
      "The terrible thing is that the Y\n",
      "But I will show him.\n",
      "Love, probably? They don't know\t\n",
      "It can't be torn out, but it caG\n",
      "What a lot of things that then Z\n",
      "These horses, this carriage - hF\n",
      "As if I had any wish to be in tA\n",
      "Why do they go on painting and K\n",
      "How proud and happy he'll be whL\n",
      "And I shall ignore it.\n",
      "No, I'll go in to Dolly and telE\n",
      "Three boys running, playing at A\n",
      "Would I have believed then that\t\n",
      "I shall, I'll lose everything iO\n",
      "crypto{k3y57r34m_r3u53_15_f474lT\n",
      "Dolly will think that I'm leaviG\n",
      "Our? Why our?\n",
      "Dress-making and Millinery\n",
      "\n",
      "W\n",
      "I'm unhappy, I deserve it, the L\n",
      "What a nasty smell this paint hK\n",
      "Perhaps he has missed the train\n",
      "\n",
      "I shall lose everything and not\n",
      "\n",
      "The terrible thing is that the Z\n",
      "But I will show him.\n",
      "Love, probably? They don't know\n",
      "\n",
      "It can't be torn out, but it caD\n",
      "What a lot of things that then Y\n",
      "These horses, this carriage - hE\n",
      "As if I had any wish to be in tB\n",
      "Why do they go on painting and H\n",
      "How proud and happy he'll be whO\n",
      "And I shall ignore it.\n",
      "No, I'll go in to Dolly and telF\n",
      "Three boys running, playing at B\n",
      "Would I have believed then that\n",
      "\n",
      "I shall, I'll lose everything iL\n",
      "crypto{k3y57r34m_r3u53_15_f474lW\n",
      "Dolly will think that I'm leaviD\n",
      "Our? Why our?\n",
      "Dress-making and Millinery\n",
      "\n",
      "h\n",
      "I'm unhappy, I deserve it, the s\n",
      "What a nasty smell this paint ht\n",
      "Perhaps he has missed the train5\n",
      "I shall lose everything and not5\n",
      "The terrible thing is that the e\n",
      "But I will show him.\n",
      "Love, probably? They don't know5\n",
      "It can't be torn out, but it ca{\n",
      "What a lot of things that then f\n",
      "These horses, this carriage - hz\n",
      "As if I had any wish to be in t}\n",
      "Why do they go on painting and w\n",
      "How proud and happy he'll be whp\n",
      "And I shall ignore it.\n",
      "No, I'll go in to Dolly and tely\n",
      "Three boys running, playing at }\n",
      "Would I have believed then that5\n",
      "I shall, I'll lose everything is\n",
      "crypto{k3y57r34m_r3u53_15_f474lh\n",
      "Dolly will think that I'm leavi{\n",
      "Our? Why our?\n",
      "Dress-making and Millinery\n",
      "\n",
      "z\n",
      "I'm unhappy, I deserve it, the a\n",
      "What a nasty smell this paint hf\n",
      "Perhaps he has missed the train'\n",
      "I shall lose everything and not'\n",
      "The terrible thing is that the w\n",
      "But I will show him.\n",
      "Love, probably? They don't know'\n",
      "It can't be torn out, but it cai\n",
      "What a lot of things that then t\n",
      "These horses, this carriage - hh\n",
      "As if I had any wish to be in to\n",
      "Why do they go on painting and e\n",
      "How proud and happy he'll be whb\n",
      "And I shall ignore it.\n",
      "No, I'll go in to Dolly and telk\n",
      "Three boys running, playing at o\n",
      "Would I have believed then that'\n",
      "I shall, I'll lose everything ia\n",
      "crypto{k3y57r34m_r3u53_15_f474lz\n",
      "Dolly will think that I'm leavii\n",
      "Our? Why our?\n",
      "Dress-making and Millinery\n",
      "\n",
      "}\n",
      "I'm unhappy, I deserve it, the f\n",
      "What a nasty smell this paint ha\n",
      "Perhaps he has missed the train \n",
      "I shall lose everything and not \n",
      "The terrible thing is that the p\n",
      "But I will show him.\n",
      "Love, probably? They don't know \n",
      "It can't be torn out, but it can\n",
      "What a lot of things that then s\n",
      "These horses, this carriage - ho\n",
      "As if I had any wish to be in th\n",
      "Why do they go on painting and b\n",
      "How proud and happy he'll be whe\n",
      "And I shall ignore it.\n",
      "No, I'll go in to Dolly and tell\n",
      "Three boys running, playing at h\n",
      "Would I have believed then that \n",
      "I shall, I'll lose everything if\n",
      "crypto{k3y57r34m_r3u53_15_f474l}\n",
      "Dolly will think that I'm leavin\n",
      "Our? Why our?\n",
      "Dress-making and Millinery\n",
      "\n"
     ]
    }
   ],
   "source": [
    "from string import ascii_letters\n",
    "import re\n",
    "alph = [chr(c) for c in range(32,128)]\n",
    "for i in alph:\n",
    "    print_list = i+\"\\n\"\n",
    "    key7 = [repeat_xor(b'crypto{k3y57r34m_r3u53_15_f474l}'+i.encode(), c) for c in unique_c]\n",
    "    i = 0\n",
    "    for key in key7:\n",
    "        print_list+=repeat_xor(key, list(unique_c)[-4])[:len(list(unique_c)[i])].decode()+\"\\n\"\n",
    "        i+=1\n",
    "    if len(re.findall(r\"[^\\s0-9A-Za-z\\'\\.\\,\\?\\!\\;\\:\\{\\}\\-\\_]\", print_list))==0:\n",
    "        print(print_list)"
   ]
  },
  {
   "cell_type": "code",
   "execution_count": 167,
   "metadata": {},
   "outputs": [
    {
     "data": {
      "text/plain": [
       "[b'!.\\r\\xb6e\\xc1\\xb0\\xca\\x81\\xc7\\x13.\\xda',\n",
       " b'?a\\x01\\xe20\\xce\\xf8\\xc5\\x90\\xc4\\x1e{\\xda',\n",
       " b'8l\\x12\\xfeq\\xdf\\xab\\x8b\\x99\\xd2Jj\\x9b',\n",
       " b'!)\\x13\\xfeq\\xc3\\xb4\\x8b\\x9d\\xd8\\x19g\\xda',\n",
       " b'<a\\x05\\xb6d\\xca\\xaa\\xd9\\x98\\xd5\\x06g\\xda',\n",
       " b'*|\\x14\\xb6Y\\x8f\\xaf\\xc2\\x9d\\xdbJq\\x92',\n",
       " b'$f\\x16\\xf3<\\x8f\\xa8\\xd9\\x9e\\xd5\\x0b`\\x96',\n",
       " b'!}@\\xf5q\\xc1\\xff\\xdf\\xd1\\xd5\\x0f\"\\x8e',\n",
       " b'?a\\x01\\xe20\\xce\\xf8\\xc7\\x9e\\xc3Jm\\x9c',\n",
       " b'<a\\x05\\xe5u\\x8f\\xb0\\xc4\\x83\\xc4\\x0fq\\xd6',\n",
       " b')z@\\xffv\\x8f\\x91\\x8b\\x99\\xd6\\x0e\"\\x9b',\n",
       " b'?a\\x19\\xb6t\\xc0\\xf8\\xdf\\x99\\xd2\\x13\"\\x9d',\n",
       " b' f\\x17\\xb6`\\xdd\\xb7\\xde\\x95\\x97\\x0bl\\x9e',\n",
       " b')g\\x04\\xb6Y\\x8f\\xab\\xc3\\x90\\xdb\\x06\"\\x93',\n",
       " b'&fL\\xb6Y\\x88\\xb4\\xc7\\xd1\\xd0\\x05\"\\x93',\n",
       " b'<a\\x12\\xf3u\\x8f\\xba\\xc4\\x88\\xc4Jp\\x8f',\n",
       " b'?f\\x15\\xfat\\x8f\\x91\\x8b\\x99\\xd6\\x1cg\\xda',\n",
       " b'!)\\x13\\xfeq\\xc3\\xb4\\x87\\xd1\\xfeMn\\x96',\n",
       " b'\\x0b{\\x19\\xe6d\\xc0\\xa3\\xc0\\xc2\\xce_5\\x88',\n",
       " b',f\\x0c\\xfai\\x8f\\xaf\\xc2\\x9d\\xdbJv\\x92',\n",
       " b\"'|\\x12\\xa90\\xf8\\xb0\\xd2\\xd1\\xd8\\x1fp\\xc5\",\n",
       " b',{\\x05\\xe5c\\x82\\xb5\\xca\\x9a\\xde\\x04e\\xda']"
      ]
     },
     "execution_count": 167,
     "metadata": {},
     "output_type": "execute_result"
    }
   ],
   "source": [
    "[repeat_xor(b'crypto{k3y57r', c) for c in unique_c]"
   ]
  },
  {
   "cell_type": "code",
   "execution_count": 163,
   "metadata": {},
   "outputs": [
    {
     "data": {
      "text/plain": [
       "b'h\\t`\\x96\\x10\\xaf\\xd8\\xab\\xf1\\xb7j\\x02\\xfa\\xd7\\x91+d\\xe7Vl\\xb0\\xb3mp\\xee\\xd2\\xed\\xbai\\x06QH'"
      ]
     },
     "execution_count": 163,
     "metadata": {},
     "output_type": "execute_result"
    }
   ],
   "source": [
    "list(unique_c)[-4]"
   ]
  },
  {
   "cell_type": "code",
   "execution_count": null,
   "metadata": {},
   "outputs": [],
   "source": []
  }
 ],
 "metadata": {
  "kernelspec": {
   "display_name": ".venv",
   "language": "python",
   "name": "python3"
  },
  "language_info": {
   "codemirror_mode": {
    "name": "ipython",
    "version": 3
   },
   "file_extension": ".py",
   "mimetype": "text/x-python",
   "name": "python",
   "nbconvert_exporter": "python",
   "pygments_lexer": "ipython3",
   "version": "3.11.6"
  }
 },
 "nbformat": 4,
 "nbformat_minor": 2
}
