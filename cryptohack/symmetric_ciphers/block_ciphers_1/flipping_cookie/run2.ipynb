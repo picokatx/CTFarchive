{
 "cells": [
  {
   "cell_type": "markdown",
   "metadata": {},
   "source": [
    "Solution that I come up with here does not work for some reason. \\\n",
    "ok it \"worked\" but I needed to operate on iv and 1st block instead of 1st and 2nd block"
   ]
  },
  {
   "cell_type": "code",
   "execution_count": 46,
   "metadata": {},
   "outputs": [
    {
     "data": {
      "text/plain": [
       "{'flag': 'crypto{4u7h3n71c4710n_15_3553n714l}'}"
      ]
     },
     "execution_count": 46,
     "metadata": {},
     "output_type": "execute_result"
    }
   ],
   "source": [
    "# soln\n",
    "from Crypto.Cipher import AES\n",
    "import os\n",
    "from Crypto.Util.Padding import pad, unpad\n",
    "from datetime import datetime, timedelta\n",
    "from os import urandom\n",
    "import requests\n",
    "from Crypto.Util.number import long_to_bytes, bytes_to_long\n",
    "import json\n",
    "def json_get(url):\n",
    "    return json.loads(requests.get(url).content.decode())\n",
    "def xor(a, b):\n",
    "    return long_to_bytes(bytes_to_long(a) ^ bytes_to_long(b))\n",
    "def check_admin(cookie, iv):\n",
    "    return json_get(f\"https://aes.cryptohack.org/flipping_cookie/check_admin/{cookie}/{iv}\")\n",
    "def get_cookie():\n",
    "    return bytes.fromhex(json_get(\"https://aes.cryptohack.org/flipping_cookie/get_cookie/\")['cookie'])\n",
    "cookie = get_cookie()\n",
    "iv = cookie[:16]\n",
    "b1 = cookie[16:32]\n",
    "b2 = cookie[32:]\n",
    "check_admin(b1.hex(), xor(xor(b\"admin=False;expi\", b\"admin=True;\\x05\\x05\\x05\\x05\\x05\"), iv).hex())"
   ]
  },
  {
   "cell_type": "code",
   "execution_count": 13,
   "metadata": {},
   "outputs": [],
   "source": [
    "from Crypto.Cipher import AES\n",
    "import os\n",
    "from Crypto.Util.Padding import pad, unpad\n",
    "from datetime import datetime, timedelta\n",
    "from os import urandom\n",
    "from Crypto.Util.number import long_to_bytes, bytes_to_long\n",
    "def xor(a, b):\n",
    "    return long_to_bytes(bytes_to_long(a) ^ bytes_to_long(b))\n",
    "KEY =  urandom(16)\n",
    "IV = urandom(16)\n",
    "FLAG = \"crypto{aes_flag}\"\n",
    "def bitFlip( pos, bit, data):\n",
    "    return data[:pos]+bytes([data[pos] ^ bit])+data[pos+1:]\n"
   ]
  },
  {
   "cell_type": "code",
   "execution_count": 2,
   "metadata": {},
   "outputs": [
    {
     "data": {
      "text/plain": [
       "b'6+\\n6\\xab>=\\t\\xfb\\xff\\x9b\\xad\\xe26\\x8d\\xbd\\x1a\\xda\\xe8\\xeb\\xabW\\xf4\\xf0C\\xf8\\x19\\xf8$\\x16\\xed\\xd4'"
      ]
     },
     "execution_count": 2,
     "metadata": {},
     "output_type": "execute_result"
    }
   ],
   "source": [
    "aes = AES.new(KEY, AES.MODE_CBC, IV)\n",
    "plain = pad(b\"admin=False;expiry=10001\", 16)\n",
    "enc = aes.encrypt(plain)\n",
    "enc"
   ]
  },
  {
   "cell_type": "code",
   "execution_count": 6,
   "metadata": {},
   "outputs": [
    {
     "name": "stdout",
     "output_type": "stream",
     "text": [
      "b';admin=True;\\x04\\x04\\x04\\x04'\n"
     ]
    }
   ],
   "source": [
    "pos = 0\n",
    "ctx = enc\n",
    "for c in b\";admin=True;\\x04\\x04\\x04\\x04\":\n",
    "    ctx = bitFlip(pos, plain[pos+16] ^ c, ctx)\n",
    "    pos+=1\n",
    "print(AES.new(KEY, AES.MODE_CBC, ctx[:16]).decrypt(ctx[16:]))"
   ]
  },
  {
   "cell_type": "code",
   "execution_count": 28,
   "metadata": {},
   "outputs": [],
   "source": [
    "out = \"77378d108ec9e420801d420d499710944683ae4f8dbcbc5a2c6cb5645c65b5b2c2478c7ddd5a8b5c3c95605aa0eaf81d\"\n",
    "iv = bytes.fromhex(out[:32])\n",
    "cookie = bytes.fromhex(out[32:])"
   ]
  },
  {
   "cell_type": "code",
   "execution_count": 37,
   "metadata": {},
   "outputs": [
    {
     "data": {
      "text/plain": [
       "('4683ae4f8dbcbc5a2c6cb5645c65b5b2', '77378d108ec9f633990b1c3329ea65f8')"
      ]
     },
     "execution_count": 37,
     "metadata": {},
     "output_type": "execute_result"
    }
   ],
   "source": [
    "cookie[:16].hex(), xor(xor(plain[0:16], b\"admin=True;\\x05\\x05\\x05\\x05\\x05\"), iv).hex()"
   ]
  },
  {
   "cell_type": "code",
   "execution_count": 11,
   "metadata": {},
   "outputs": [
    {
     "data": {
      "text/plain": [
       "('fd4f1c01605402232d69532cf98ca19555bba24210e0ebf75c5dd1efe328f96c',\n",
       " 'fd4f1c01605402232d69532cf98ca195')"
      ]
     },
     "execution_count": 11,
     "metadata": {},
     "output_type": "execute_result"
    }
   ],
   "source": [
    "pos = 0\n",
    "ctx = cookie\n",
    "for c in b\";admin=True;\\x04\\x04\\x04\\x04\": \n",
    "    ctx = bitFlip(pos, plain[pos+16] ^ c, ctx)\n",
    "    pos+=1\n",
    "ctx.hex(), ctx[:16].hex()"
   ]
  },
  {
   "cell_type": "code",
   "execution_count": 9,
   "metadata": {},
   "outputs": [
    {
     "data": {
      "text/plain": [
       "b'\\x08\\x08\\x08\\x08\\x08\\x08\\x08\\x08'"
      ]
     },
     "execution_count": 9,
     "metadata": {},
     "output_type": "execute_result"
    }
   ],
   "source": [
    "from Crypto.Util.py3compat import bchr, bord\n",
    "padding_len = bord(b\";admin=True;\\x08\\x08\\x08\\x08\"[-1])\n",
    "bchr(padding_len)*padding_len"
   ]
  }
 ],
 "metadata": {
  "kernelspec": {
   "display_name": ".venv",
   "language": "python",
   "name": "python3"
  },
  "language_info": {
   "codemirror_mode": {
    "name": "ipython",
    "version": 3
   },
   "file_extension": ".py",
   "mimetype": "text/x-python",
   "name": "python",
   "nbconvert_exporter": "python",
   "pygments_lexer": "ipython3",
   "version": "3.11.6"
  }
 },
 "nbformat": 4,
 "nbformat_minor": 2
}
