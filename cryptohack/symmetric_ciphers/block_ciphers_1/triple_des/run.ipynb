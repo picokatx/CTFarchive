{
 "cells": [
  {
   "cell_type": "markdown",
   "metadata": {},
   "source": [
    "changing key by 1 bit doesn't modify the output flag necessarily \"6b65797b7468655f6165735f6b657975\" \"6b65797b7468655f6165735f6b657974\" \\\n",
    "changing plaintext only affects the block it's in. so the brute force is ALPH**8\n",
    "des applied thrice to each block\n",
    "suspect xor: \n",
    "ok so, we can pass in a null plaintext effectively making iv the plaintext.\n",
    "iv never changes! attackable"
   ]
  },
  {
   "cell_type": "code",
   "execution_count": 5,
   "metadata": {},
   "outputs": [],
   "source": [
    "from Crypto.Cipher import DES3\n",
    "import os\n",
    "from Crypto.Util.Padding import pad, unpad\n",
    "from datetime import datetime, timedelta\n",
    "from os import urandom\n",
    "import requests\n",
    "from Crypto.Util.number import long_to_bytes, bytes_to_long\n",
    "import json\n",
    "def json_get(url):\n",
    "    return json.loads(requests.get(url).content.decode())\n",
    "def xor(a, b):\n",
    "    # xor 2 bytestrings, repeating the 2nd one if necessary\n",
    "    return bytes(x ^ y for x,y in zip(a, b * (1 + len(a) // len(b))))\n",
    "def encrypt_flag(ciphertext):\n",
    "    return bytes.fromhex(json_get(f\"https://aes.cryptohack.org/triple_des/encrypt_flag/{ciphertext.hex()}\")['ciphertext'])\n",
    "def encrypt(key, ciphertext):\n",
    "    return bytes.fromhex(json_get(f\"https://aes.cryptohack.org/triple_des/encrypt/{key.hex()}/{ciphertext.hex()}\")['ciphertext'])\n",
    "KEY =  b\"key{the_aes_key}\"\n",
    "FLAG = b\"crypto{aes_flag}\"\n",
    "PLAIN =b\"Howdy! I'm Flowe\""
   ]
  },
  {
   "cell_type": "code",
   "execution_count": null,
   "metadata": {},
   "outputs": [],
   "source": [
    "enc(iv)^iv\n",
    "\n",
    "enc(iv^p0)^iv\n",
    "enc(iv^p1)^iv\n",
    "enc(iv^flag)^iv\n",
    "\n",
    "flag^enc(iv^flag)^iv\n",
    "flag^enc(iv)^iv\n",
    "enc(flag)\n"
   ]
  },
  {
   "cell_type": "code",
   "execution_count": 6,
   "metadata": {},
   "outputs": [
    {
     "data": {
      "text/plain": [
       "b'\\xc1\\xa5\\xb6\\xd9\\xbaT\\xa2g'"
      ]
     },
     "execution_count": 6,
     "metadata": {},
     "output_type": "execute_result"
    }
   ],
   "source": [
    "flag_enc = encrypt_flag(KEY)\n",
    "flag_enc[:8]"
   ]
  },
  {
   "cell_type": "code",
   "execution_count": 10,
   "metadata": {},
   "outputs": [
    {
     "data": {
      "text/plain": [
       "'63727970746f7b6e'"
      ]
     },
     "execution_count": 10,
     "metadata": {},
     "output_type": "execute_result"
    }
   ],
   "source": [
    "xor(b\"crypto{n\", \"b3f235b7f773e44b\")"
   ]
  },
  {
   "cell_type": "code",
   "execution_count": null,
   "metadata": {},
   "outputs": [],
   "source": [
    "from Crypto.Cipher import DES3\n",
    "DES3.new(KEY, DES3.MODE_ECB).encrypt(b\"crypto{n\")"
   ]
  },
  {
   "cell_type": "code",
   "execution_count": 2,
   "metadata": {},
   "outputs": [
    {
     "data": {
      "application/vnd.jupyter.widget-view+json": {
       "model_id": "5888e7ae8031489c9cc5bbadf4cb4725",
       "version_major": 2,
       "version_minor": 0
      },
      "text/plain": [
       "  0%|          | 0/128 [00:00<?, ?it/s]"
      ]
     },
     "metadata": {},
     "output_type": "display_data"
    }
   ],
   "source": [
    "from cryptolib import pool\n",
    "def test(i: int):\n",
    "    from cryptolib import encrypt, KEY\n",
    "    return encrypt(KEY, b\"crypto{\"+bytes([i]))\n",
    "temp = pool(test, 128, 16)"
   ]
  },
  {
   "cell_type": "code",
   "execution_count": 8,
   "metadata": {},
   "outputs": [
    {
     "data": {
      "text/plain": [
       "110"
      ]
     },
     "execution_count": 8,
     "metadata": {},
     "output_type": "execute_result"
    }
   ],
   "source": [
    "[j==flag_enc[:8] for j in temp].index(True)"
   ]
  },
  {
   "cell_type": "code",
   "execution_count": 9,
   "metadata": {},
   "outputs": [
    {
     "data": {
      "text/plain": [
       "'n'"
      ]
     },
     "execution_count": 9,
     "metadata": {},
     "output_type": "execute_result"
    }
   ],
   "source": [
    "chr(110)"
   ]
  },
  {
   "cell_type": "code",
   "execution_count": 2,
   "metadata": {},
   "outputs": [
    {
     "data": {
      "text/plain": [
       "b'\\xc1\\xa5\\xb6\\xd9\\xbaT\\xa2g\\xac\\xab\\xb6\\xd5\\xaa)\\x8d\\xc3G\\x8c\\xe4\\x1cI\\\\\\xb5\\xe5_]\\xd6\\xb4\\xd4\\x99F[wQ\\xbdq\\xe1\\xdd|E'"
      ]
     },
     "execution_count": 2,
     "metadata": {},
     "output_type": "execute_result"
    }
   ],
   "source": [
    "flag_enc = encrypt_flag(KEY)\n",
    "flag_enc"
   ]
  },
  {
   "cell_type": "code",
   "execution_count": 7,
   "metadata": {},
   "outputs": [
    {
     "data": {
      "text/plain": [
       "'30'"
      ]
     },
     "execution_count": 7,
     "metadata": {},
     "output_type": "execute_result"
    }
   ],
   "source": [
    "xor(b\"\\x01\", b\"\\x31\").hex()"
   ]
  },
  {
   "cell_type": "code",
   "execution_count": 37,
   "metadata": {},
   "outputs": [
    {
     "data": {
      "text/plain": [
       "'63727970746f7b'"
      ]
     },
     "execution_count": 37,
     "metadata": {},
     "output_type": "execute_result"
    }
   ],
   "source": [
    "b\"crypto{\".hex()"
   ]
  },
  {
   "cell_type": "code",
   "execution_count": 35,
   "metadata": {},
   "outputs": [
    {
     "data": {
      "text/plain": [
       "b'\\x9dG\\x8c\\x9b@\\xbd\\x11\\xb6\\x9dG\\x8c\\x9b@\\xbd\\x11\\xb6'"
      ]
     },
     "execution_count": 35,
     "metadata": {},
     "output_type": "execute_result"
    }
   ],
   "source": [
    "from Crypto.Cipher import DES3\n",
    "DES3.new(bytes.fromhex(\"000b0b0b0b0b0b0b0b0b0b0b0b0b0b0b\"), DES3.MODE_ECB).encrypt(b\"\\x00\"*15+b\"\\x00\")"
   ]
  },
  {
   "cell_type": "code",
   "execution_count": 43,
   "metadata": {},
   "outputs": [
    {
     "ename": "ValueError",
     "evalue": "Triple DES key degenerates to single DES",
     "output_type": "error",
     "traceback": [
      "\u001b[1;31m---------------------------------------------------------------------------\u001b[0m",
      "\u001b[1;31mValueError\u001b[0m                                Traceback (most recent call last)",
      "Cell \u001b[1;32mIn[43], line 1\u001b[0m\n\u001b[1;32m----> 1\u001b[0m \u001b[43mDES3\u001b[49m\u001b[38;5;241;43m.\u001b[39;49m\u001b[43mnew\u001b[49m\u001b[43m(\u001b[49m\u001b[38;5;124;43mb\u001b[39;49m\u001b[38;5;124;43m\"\u001b[39;49m\u001b[38;5;130;43;01m\\x00\u001b[39;49;00m\u001b[38;5;130;43;01m\\x01\u001b[39;49;00m\u001b[38;5;124;43m\"\u001b[39;49m\u001b[38;5;241;43m*\u001b[39;49m\u001b[38;5;241;43m8\u001b[39;49m\u001b[43m,\u001b[49m\u001b[43m \u001b[49m\u001b[43mDES3\u001b[49m\u001b[38;5;241;43m.\u001b[39;49m\u001b[43mMODE_ECB\u001b[49m\u001b[43m)\u001b[49m\u001b[38;5;241m.\u001b[39mencrypt(PLAIN)\n",
      "File \u001b[1;32mc:\\Users\\picokatx\\Documents\\CTF\\.venv\\Lib\\site-packages\\Crypto\\Cipher\\DES3.py:174\u001b[0m, in \u001b[0;36mnew\u001b[1;34m(key, mode, *args, **kwargs)\u001b[0m\n\u001b[0;32m    114\u001b[0m \u001b[38;5;28;01mdef\u001b[39;00m \u001b[38;5;21mnew\u001b[39m(key, mode, \u001b[38;5;241m*\u001b[39margs, \u001b[38;5;241m*\u001b[39m\u001b[38;5;241m*\u001b[39mkwargs):\n\u001b[0;32m    115\u001b[0m \u001b[38;5;250m    \u001b[39m\u001b[38;5;124;03m\"\"\"Create a new Triple DES cipher.\u001b[39;00m\n\u001b[0;32m    116\u001b[0m \n\u001b[0;32m    117\u001b[0m \u001b[38;5;124;03m    :param key:\u001b[39;00m\n\u001b[1;32m   (...)\u001b[0m\n\u001b[0;32m    171\u001b[0m \u001b[38;5;124;03m    :Return: a Triple DES object, of the applicable mode.\u001b[39;00m\n\u001b[0;32m    172\u001b[0m \u001b[38;5;124;03m    \"\"\"\u001b[39;00m\n\u001b[1;32m--> 174\u001b[0m     \u001b[38;5;28;01mreturn\u001b[39;00m \u001b[43m_create_cipher\u001b[49m\u001b[43m(\u001b[49m\u001b[43msys\u001b[49m\u001b[38;5;241;43m.\u001b[39;49m\u001b[43mmodules\u001b[49m\u001b[43m[\u001b[49m\u001b[38;5;18;43m__name__\u001b[39;49m\u001b[43m]\u001b[49m\u001b[43m,\u001b[49m\u001b[43m \u001b[49m\u001b[43mkey\u001b[49m\u001b[43m,\u001b[49m\u001b[43m \u001b[49m\u001b[43mmode\u001b[49m\u001b[43m,\u001b[49m\u001b[43m \u001b[49m\u001b[38;5;241;43m*\u001b[39;49m\u001b[43margs\u001b[49m\u001b[43m,\u001b[49m\u001b[43m \u001b[49m\u001b[38;5;241;43m*\u001b[39;49m\u001b[38;5;241;43m*\u001b[39;49m\u001b[43mkwargs\u001b[49m\u001b[43m)\u001b[49m\n",
      "File \u001b[1;32mc:\\Users\\picokatx\\Documents\\CTF\\.venv\\Lib\\site-packages\\Crypto\\Cipher\\__init__.py:79\u001b[0m, in \u001b[0;36m_create_cipher\u001b[1;34m(factory, key, mode, *args, **kwargs)\u001b[0m\n\u001b[0;32m     76\u001b[0m     \u001b[38;5;28;01melif\u001b[39;00m mode \u001b[38;5;241m==\u001b[39m \u001b[38;5;241m1\u001b[39m:\n\u001b[0;32m     77\u001b[0m         \u001b[38;5;28;01mraise\u001b[39;00m \u001b[38;5;167;01mTypeError\u001b[39;00m(\u001b[38;5;124m\"\u001b[39m\u001b[38;5;124mIV is not meaningful for the ECB mode\u001b[39m\u001b[38;5;124m\"\u001b[39m)\n\u001b[1;32m---> 79\u001b[0m \u001b[38;5;28;01mreturn\u001b[39;00m \u001b[43mmodes\u001b[49m\u001b[43m[\u001b[49m\u001b[43mmode\u001b[49m\u001b[43m]\u001b[49m\u001b[43m(\u001b[49m\u001b[43mfactory\u001b[49m\u001b[43m,\u001b[49m\u001b[43m \u001b[49m\u001b[38;5;241;43m*\u001b[39;49m\u001b[38;5;241;43m*\u001b[39;49m\u001b[43mkwargs\u001b[49m\u001b[43m)\u001b[49m\n",
      "File \u001b[1;32mc:\\Users\\picokatx\\Documents\\CTF\\.venv\\Lib\\site-packages\\Crypto\\Cipher\\_mode_ecb.py:216\u001b[0m, in \u001b[0;36m_create_ecb_cipher\u001b[1;34m(factory, **kwargs)\u001b[0m\n\u001b[0;32m    205\u001b[0m \u001b[38;5;28;01mdef\u001b[39;00m \u001b[38;5;21m_create_ecb_cipher\u001b[39m(factory, \u001b[38;5;241m*\u001b[39m\u001b[38;5;241m*\u001b[39mkwargs):\n\u001b[0;32m    206\u001b[0m \u001b[38;5;250m    \u001b[39m\u001b[38;5;124;03m\"\"\"Instantiate a cipher object that performs ECB encryption/decryption.\u001b[39;00m\n\u001b[0;32m    207\u001b[0m \n\u001b[0;32m    208\u001b[0m \u001b[38;5;124;03m    :Parameters:\u001b[39;00m\n\u001b[1;32m   (...)\u001b[0m\n\u001b[0;32m    213\u001b[0m \u001b[38;5;124;03m    See the relevant documentation for details (at least ``key`` will need\u001b[39;00m\n\u001b[0;32m    214\u001b[0m \u001b[38;5;124;03m    to be present\"\"\"\u001b[39;00m\n\u001b[1;32m--> 216\u001b[0m     cipher_state \u001b[38;5;241m=\u001b[39m \u001b[43mfactory\u001b[49m\u001b[38;5;241;43m.\u001b[39;49m\u001b[43m_create_base_cipher\u001b[49m\u001b[43m(\u001b[49m\u001b[43mkwargs\u001b[49m\u001b[43m)\u001b[49m\n\u001b[0;32m    217\u001b[0m     cipher_state\u001b[38;5;241m.\u001b[39mblock_size \u001b[38;5;241m=\u001b[39m factory\u001b[38;5;241m.\u001b[39mblock_size\n\u001b[0;32m    218\u001b[0m     \u001b[38;5;28;01mif\u001b[39;00m kwargs:\n",
      "File \u001b[1;32mc:\\Users\\picokatx\\Documents\\CTF\\.venv\\Lib\\site-packages\\Crypto\\Cipher\\DES3.py:99\u001b[0m, in \u001b[0;36m_create_base_cipher\u001b[1;34m(dict_parameters)\u001b[0m\n\u001b[0;32m     96\u001b[0m \u001b[38;5;28;01mexcept\u001b[39;00m \u001b[38;5;167;01mKeyError\u001b[39;00m:\n\u001b[0;32m     97\u001b[0m     \u001b[38;5;28;01mraise\u001b[39;00m \u001b[38;5;167;01mTypeError\u001b[39;00m(\u001b[38;5;124m\"\u001b[39m\u001b[38;5;124mMissing \u001b[39m\u001b[38;5;124m'\u001b[39m\u001b[38;5;124mkey\u001b[39m\u001b[38;5;124m'\u001b[39m\u001b[38;5;124m parameter\u001b[39m\u001b[38;5;124m\"\u001b[39m)\n\u001b[1;32m---> 99\u001b[0m key \u001b[38;5;241m=\u001b[39m \u001b[43madjust_key_parity\u001b[49m\u001b[43m(\u001b[49m\u001b[43mbstr\u001b[49m\u001b[43m(\u001b[49m\u001b[43mkey_in\u001b[49m\u001b[43m)\u001b[49m\u001b[43m)\u001b[49m\n\u001b[0;32m    101\u001b[0m start_operation \u001b[38;5;241m=\u001b[39m _raw_des3_lib\u001b[38;5;241m.\u001b[39mDES3_start_operation\n\u001b[0;32m    102\u001b[0m stop_operation \u001b[38;5;241m=\u001b[39m _raw_des3_lib\u001b[38;5;241m.\u001b[39mDES3_stop_operation\n",
      "File \u001b[1;32mc:\\Users\\picokatx\\Documents\\CTF\\.venv\\Lib\\site-packages\\Crypto\\Cipher\\DES3.py:85\u001b[0m, in \u001b[0;36madjust_key_parity\u001b[1;34m(key_in)\u001b[0m\n\u001b[0;32m     82\u001b[0m key_out \u001b[38;5;241m=\u001b[39m \u001b[38;5;124mb\u001b[39m\u001b[38;5;124m\"\u001b[39m\u001b[38;5;124m\"\u001b[39m\u001b[38;5;241m.\u001b[39mjoin([ bchr(parity_byte(bord(x))) \u001b[38;5;28;01mfor\u001b[39;00m x \u001b[38;5;129;01min\u001b[39;00m key_in ])\n\u001b[0;32m     84\u001b[0m \u001b[38;5;28;01mif\u001b[39;00m key_out[:\u001b[38;5;241m8\u001b[39m] \u001b[38;5;241m==\u001b[39m key_out[\u001b[38;5;241m8\u001b[39m:\u001b[38;5;241m16\u001b[39m] \u001b[38;5;129;01mor\u001b[39;00m key_out[\u001b[38;5;241m-\u001b[39m\u001b[38;5;241m16\u001b[39m:\u001b[38;5;241m-\u001b[39m\u001b[38;5;241m8\u001b[39m] \u001b[38;5;241m==\u001b[39m key_out[\u001b[38;5;241m-\u001b[39m\u001b[38;5;241m8\u001b[39m:]:\n\u001b[1;32m---> 85\u001b[0m     \u001b[38;5;28;01mraise\u001b[39;00m \u001b[38;5;167;01mValueError\u001b[39;00m(\u001b[38;5;124m\"\u001b[39m\u001b[38;5;124mTriple DES key degenerates to single DES\u001b[39m\u001b[38;5;124m\"\u001b[39m)\n\u001b[0;32m     87\u001b[0m \u001b[38;5;28;01mreturn\u001b[39;00m key_out\n",
      "\u001b[1;31mValueError\u001b[0m: Triple DES key degenerates to single DES"
     ]
    }
   ],
   "source": [
    "DES3.new(b\"\\x00\\x01\"*8, DES3.MODE_ECB).encrypt(PLAIN)"
   ]
  },
  {
   "cell_type": "code",
   "execution_count": 32,
   "metadata": {},
   "outputs": [
    {
     "data": {
      "text/plain": [
       "'966908a5b7ae1a64'"
      ]
     },
     "execution_count": 32,
     "metadata": {},
     "output_type": "execute_result"
    }
   ],
   "source": [
    "iv = encrypt(KEY, DES3.new(KEY, DES3.MODE_ECB).decrypt(b'\\x00'*16))[:8]\n",
    "iv.hex()"
   ]
  },
  {
   "cell_type": "code",
   "execution_count": 28,
   "metadata": {},
   "outputs": [
    {
     "data": {
      "text/plain": [
       "b'\\x19\\x0f\\x9d\\x0c\\t;\\x9e\\xbc\\x19\\x0f\\x9d\\x0c\\t;\\x9e\\xbc'"
      ]
     },
     "execution_count": 28,
     "metadata": {},
     "output_type": "execute_result"
    }
   ],
   "source": [
    "xor(DES3.new(KEY, DES3.MODE_ECB).encrypt(xor(b'\\xef'*16, iv)), iv)"
   ]
  },
  {
   "cell_type": "code",
   "execution_count": 34,
   "metadata": {},
   "outputs": [
    {
     "data": {
      "text/plain": [
       "b'\\xce\\xca\\xfdU\\xb3\\xc1\\x86\\xe5\\xce\\xca\\xfdU\\xb3\\xc1\\x86\\xe5'"
      ]
     },
     "execution_count": 34,
     "metadata": {},
     "output_type": "execute_result"
    }
   ],
   "source": [
    "xor(DES3.new(KEY, DES3.MODE_ECB).decrypt(xor(encrypt(KEY, b'\\xef'*16), iv)), iv)"
   ]
  },
  {
   "cell_type": "code",
   "execution_count": 33,
   "metadata": {},
   "outputs": [
    {
     "data": {
      "text/plain": [
       "b'\\x06\\x92H\\x16\\x93\\x85Q\\xf7\\x06\\x92H\\x16\\x93\\x85Q\\xf7'"
      ]
     },
     "execution_count": 33,
     "metadata": {},
     "output_type": "execute_result"
    }
   ],
   "source": []
  },
  {
   "cell_type": "code",
   "execution_count": 11,
   "metadata": {},
   "outputs": [
    {
     "data": {
      "text/plain": [
       "b'\\xe3\\xd5\\xac\\x85\\x19\\x859\\x9a\\xe3\\xd5\\xac\\x85\\x19\\x859\\x9a'"
      ]
     },
     "execution_count": 11,
     "metadata": {},
     "output_type": "execute_result"
    }
   ],
   "source": [
    "xor(DES3.new(KEY, DES3.MODE_ECB).encrypt(xor(b'\\xef'*16, iv)), iv)"
   ]
  },
  {
   "cell_type": "code",
   "execution_count": 8,
   "metadata": {},
   "outputs": [
    {
     "data": {
      "text/plain": [
       "b'\\xe9\\xdc\\xd2\\xcb\\x9e\\xee\\x9c6\\xf3iJ\\x81\\xdf\\x16\\xeb\\x15\\xe9-\\x9a\\x1c\\x85\\x13a\\x1ff\\xa6\\x12\\xce\\xfa\\xf7r\\xea\\x81\\x0b\\xb4\\x8c4#\\xbeO'"
      ]
     },
     "execution_count": 8,
     "metadata": {},
     "output_type": "execute_result"
    }
   ],
   "source": [
    "xor(DES3.new(KEY, DES3.MODE_ECB).decrypt(xor(flag_enc, iv)), iv)"
   ]
  },
  {
   "cell_type": "code",
   "execution_count": 17,
   "metadata": {},
   "outputs": [
    {
     "data": {
      "text/plain": [
       "b'\\xe9\\xdc\\xd2\\xcb\\x9e\\xee\\x9c6'"
      ]
     },
     "execution_count": 17,
     "metadata": {},
     "output_type": "execute_result"
    }
   ],
   "source": []
  },
  {
   "cell_type": "code",
   "execution_count": null,
   "metadata": {},
   "outputs": [],
   "source": [
    "m0 = E_k(p0^iv)^iv\n",
    "m1 = E_k(p1^iv)^iv\n",
    "m2 = E_k(iv)^iv\n",
    "\n",
    "p0 = D_k(m0^iv)^iv"
   ]
  },
  {
   "cell_type": "code",
   "execution_count": 91,
   "metadata": {},
   "outputs": [
    {
     "data": {
      "text/plain": [
       "b'zzzzzzzz'"
      ]
     },
     "execution_count": 91,
     "metadata": {},
     "output_type": "execute_result"
    }
   ],
   "source": [
    "xor(b'\\x00\\x00\\x00\\x00\\x00\\x00\\x00\\x00', b'zzzzzzzz')"
   ]
  },
  {
   "cell_type": "code",
   "execution_count": 96,
   "metadata": {},
   "outputs": [
    {
     "data": {
      "text/plain": [
       "b'key{the_aes_key}'"
      ]
     },
     "execution_count": 96,
     "metadata": {},
     "output_type": "execute_result"
    }
   ],
   "source": [
    "KEY"
   ]
  },
  {
   "cell_type": "code",
   "execution_count": 169,
   "metadata": {},
   "outputs": [],
   "source": [
    "def vuln_xor(a, b):\n",
    "    # xor 2 bytestrings, repeating the 2nd one if necessary\n",
    "    return bytes(x ^ y for x,y in zip(a, b * (1 + len(a) // len(b))))\n"
   ]
  },
  {
   "cell_type": "code",
   "execution_count": 168,
   "metadata": {},
   "outputs": [
    {
     "data": {
      "text/plain": [
       "b'\\x00'"
      ]
     },
     "execution_count": 168,
     "metadata": {},
     "output_type": "execute_result"
    }
   ],
   "source": [
    "xor(b'\\x7a\\x7a\\x7a\\x7a\\x7a\\x7a\\x7a\\x7a', b'zzzzzzzz')"
   ]
  },
  {
   "cell_type": "code",
   "execution_count": 167,
   "metadata": {},
   "outputs": [
    {
     "data": {
      "text/plain": [
       "'1ee1792cf08677a9'"
      ]
     },
     "execution_count": 167,
     "metadata": {},
     "output_type": "execute_result"
    }
   ],
   "source": [
    "xor(DES3.new(KEY, DES3.MODE_ECB).encrypt(vuln_xor(b'\\x7a\\x00\\x00\\x00\\x00\\x00\\x00\\x00', b'zzzzzzzz')), b'zzzzzzzz').hex()"
   ]
  },
  {
   "cell_type": "code",
   "execution_count": 116,
   "metadata": {},
   "outputs": [
    {
     "data": {
      "text/plain": [
       "'6a372bb0989f9f65'"
      ]
     },
     "execution_count": 116,
     "metadata": {},
     "output_type": "execute_result"
    }
   ],
   "source": [
    "xor(DES3.new(((b'\\x00'*15)+b\"\\x02\"), DES3.MODE_ECB).encrypt(xor(b'\\x00\\x00\\x00\\x00\\x00\\x00\\x00\\x00', b'zzzzzzzz')), b'zzzzzzzz').hex()"
   ]
  },
  {
   "cell_type": "code",
   "execution_count": 103,
   "metadata": {},
   "outputs": [
    {
     "data": {
      "text/plain": [
       "'fa3f88ca6b86d6e6'"
      ]
     },
     "execution_count": 103,
     "metadata": {},
     "output_type": "execute_result"
    }
   ],
   "source": [
    "xor(DES3.new(KEY, DES3.MODE_ECB).encrypt(b'zzzzzzzz'), b'zzzzzzzz').hex()"
   ]
  },
  {
   "cell_type": "code",
   "execution_count": 88,
   "metadata": {},
   "outputs": [
    {
     "data": {
      "text/plain": [
       "'ab4be22723a84ffa'"
      ]
     },
     "execution_count": 88,
     "metadata": {},
     "output_type": "execute_result"
    }
   ],
   "source": [
    "DES3.new(KEY, DES3.MODE_ECB).encrypt(b'crypto{a').hex()"
   ]
  },
  {
   "cell_type": "code",
   "execution_count": null,
   "metadata": {},
   "outputs": [],
   "source": [
    "319ec210913a7bd0"
   ]
  },
  {
   "cell_type": "code",
   "execution_count": null,
   "metadata": {},
   "outputs": [],
   "source": [
    "\"c1a5b6d9ba54a267acabb6d5aa298dc3478ce41c495cb5e55f5dd6b4d499465b7751bd71e1dd7c45\""
   ]
  },
  {
   "cell_type": "code",
   "execution_count": 44,
   "metadata": {},
   "outputs": [
    {
     "data": {
      "text/plain": [
       "'63727970746f7b61'"
      ]
     },
     "execution_count": 44,
     "metadata": {},
     "output_type": "execute_result"
    }
   ],
   "source": [
    "b\"crypto{a\".hex()"
   ]
  },
  {
   "cell_type": "code",
   "execution_count": 71,
   "metadata": {},
   "outputs": [
    {
     "data": {
      "text/plain": [
       "['b95794f346ef9386',\n",
       " 'f1f3d92f8b1f2975',\n",
       " '5e40a87b564efaad',\n",
       " 'bd23f385d9b52323',\n",
       " '447b9c1ccb82d1f9',\n",
       " '7fe450bd9f20c8b2',\n",
       " '45f1f1d5dbacf9fd',\n",
       " '8c7fbeabddd2e421',\n",
       " '6c38b77519560106',\n",
       " '8e6fb250b004de70',\n",
       " '279138dc4c2987c0',\n",
       " '4b20513bc7799e17',\n",
       " 'b59496110581df8a',\n",
       " '76489301a0c9151a',\n",
       " 'b9bd69c61f4c89ce',\n",
       " 'a3002a0a87266497',\n",
       " 'c9bdbc59e6c59768',\n",
       " 'e1d01462deb460c4',\n",
       " 'd6b61841b0b38a63',\n",
       " '3588f493a2248190',\n",
       " 'f455f7a9108a850e',\n",
       " '756649a8cca71414',\n",
       " 'b992db37d5bef855',\n",
       " '8b629733698a8a46',\n",
       " '2218904a79728060',\n",
       " 'e16653eff6165921',\n",
       " '0eccd7b60b74f770',\n",
       " '990d320f8eae31f2',\n",
       " '437b48dd7fed7b42',\n",
       " 'e6fa9856302fe530',\n",
       " '874c481c368a1b5c',\n",
       " '28329b4b22e68edc',\n",
       " '90c85fcc6ca46175',\n",
       " '491895b47bd1898c',\n",
       " 'b396719b0639b73d',\n",
       " '937641e543b3797c',\n",
       " '444f33ccf7562c1b',\n",
       " '7c3729333def93de',\n",
       " 'e023342c3d3e16a5']"
      ]
     },
     "execution_count": 71,
     "metadata": {},
     "output_type": "execute_result"
    }
   ],
   "source": [
    "from string import ascii_lowercase\n",
    "alph = ascii_lowercase+\"0123456789_{}\"\n",
    "# [xor(DES3.new(KEY, DES3.MODE_ECB).encrypt(xor(b\"crypto{\"+c.encode(), FLAG[8:])), FLAG[8:]).hex() for c in alph]\n",
    "[DES3.new(KEY, DES3.MODE_ECB).encrypt(b\"crypto{\"+c.encode()).hex()  for c in alph]"
   ]
  },
  {
   "cell_type": "code",
   "execution_count": 19,
   "metadata": {},
   "outputs": [
    {
     "data": {
      "text/plain": [
       "'6b65797b7468655f6165735f6b65797d'"
      ]
     },
     "execution_count": 19,
     "metadata": {},
     "output_type": "execute_result"
    }
   ],
   "source": [
    "xor(PLAIN, IV)"
   ]
  },
  {
   "cell_type": "code",
   "execution_count": 22,
   "metadata": {},
   "outputs": [
    {
     "data": {
      "text/plain": [
       "'3a988d927a2e1c6d595aba3c59f69c20'"
      ]
     },
     "execution_count": 22,
     "metadata": {},
     "output_type": "execute_result"
    }
   ],
   "source": [
    "encrypt(KEY, PLAIN).hex()"
   ]
  },
  {
   "cell_type": "code",
   "execution_count": 28,
   "metadata": {},
   "outputs": [
    {
     "data": {
      "text/plain": [
       "'3a988d927a2e1c6dbde5e77c9d491bb0'"
      ]
     },
     "execution_count": 28,
     "metadata": {},
     "output_type": "execute_result"
    }
   ],
   "source": [
    "encrypt(KEY, b\"Howdy! I'm Flowf\").hex()"
   ]
  },
  {
   "cell_type": "code",
   "execution_count": 31,
   "metadata": {},
   "outputs": [
    {
     "data": {
      "text/plain": [
       "208827064576"
      ]
     },
     "execution_count": 31,
     "metadata": {},
     "output_type": "execute_result"
    }
   ],
   "source": [
    "26**8"
   ]
  },
  {
   "cell_type": "code",
   "execution_count": null,
   "metadata": {},
   "outputs": [],
   "source": [
    "m0 = E_k(p0^iv)^iv\n",
    "m1 = E_k(p1^iv)^iv\n",
    "\n",
    "p0 = D_k(m0^iv)^iv"
   ]
  },
  {
   "cell_type": "code",
   "execution_count": 30,
   "metadata": {},
   "outputs": [
    {
     "name": "stdout",
     "output_type": "stream",
     "text": [
      "41\n",
      "72\n",
      "97\n"
     ]
    }
   ],
   "source": [
    "print(30^55)\n",
    "print(127^55)\n",
    "print(41^72)"
   ]
  },
  {
   "cell_type": "code",
   "execution_count": null,
   "metadata": {},
   "outputs": [],
   "source": []
  }
 ],
 "metadata": {
  "kernelspec": {
   "display_name": ".venv",
   "language": "python",
   "name": "python3"
  },
  "language_info": {
   "codemirror_mode": {
    "name": "ipython",
    "version": 3
   },
   "file_extension": ".py",
   "mimetype": "text/x-python",
   "name": "python",
   "nbconvert_exporter": "python",
   "pygments_lexer": "ipython3",
   "version": "3.11.6"
  }
 },
 "nbformat": 4,
 "nbformat_minor": 2
}
