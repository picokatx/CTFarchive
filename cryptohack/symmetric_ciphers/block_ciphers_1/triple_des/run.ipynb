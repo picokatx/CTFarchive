{
 "cells": [
  {
   "cell_type": "markdown",
   "metadata": {},
   "source": [
    "changing key by 1 bit doesn't modify the output flag necessarily \"6b65797b7468655f6165735f6b657975\" \"6b65797b7468655f6165735f6b657974\" \\\n",
    "changing plaintext only affects the block it's in. so the brute force is ALPH**8\n",
    "des applied thrice to each block\n",
    "suspect xor: \n",
    "ok so, we can pass in a null plaintext effectively making iv the plaintext.\n",
    "iv never changes! attackable"
   ]
  },
  {
   "cell_type": "code",
   "execution_count": 18,
   "metadata": {},
   "outputs": [],
   "source": [
    "from Crypto.Cipher import DES3\n",
    "import os\n",
    "from Crypto.Util.Padding import pad, unpad\n",
    "from datetime import datetime, timedelta\n",
    "from os import urandom\n",
    "import requests\n",
    "from Crypto.Util.number import long_to_bytes, bytes_to_long\n",
    "import json\n",
    "def json_get(url):\n",
    "    return json.loads(requests.get(url).content.decode())\n",
    "def xor(a, b):\n",
    "    return long_to_bytes(bytes_to_long(a) ^ bytes_to_long(b))\n",
    "def encrypt_flag(ciphertext):\n",
    "    return bytes.fromhex(json_get(f\"https://aes.cryptohack.org/triple_des/encrypt_flag/{ciphertext.hex()}\")['ciphertext'])\n",
    "def encrypt(key, ciphertext):\n",
    "    return bytes.fromhex(json_get(f\"https://aes.cryptohack.org/triple_des/encrypt/{key.hex()}/{ciphertext.hex()}\")['ciphertext'])\n",
    "KEY =  b\"key{the_aes_key}\"\n",
    "FLAG = b\"crypto{aes_flag}\"\n",
    "PLAIN =b\"Howdy! I'm Flowe\""
   ]
  },
  {
   "cell_type": "code",
   "execution_count": null,
   "metadata": {},
   "outputs": [],
   "source": [
    "m0 = E_k(p0^iv)^iv\n",
    "m1 = E_k(p1^iv)^iv\n",
    "m2 = E_k(iv)^iv\n",
    "\n",
    "p0 = D_k(m0^iv)^iv"
   ]
  },
  {
   "cell_type": "code",
   "execution_count": 91,
   "metadata": {},
   "outputs": [
    {
     "data": {
      "text/plain": [
       "b'zzzzzzzz'"
      ]
     },
     "execution_count": 91,
     "metadata": {},
     "output_type": "execute_result"
    }
   ],
   "source": [
    "xor(b'\\x00\\x00\\x00\\x00\\x00\\x00\\x00\\x00', b'zzzzzzzz')"
   ]
  },
  {
   "cell_type": "code",
   "execution_count": 96,
   "metadata": {},
   "outputs": [
    {
     "data": {
      "text/plain": [
       "b'key{the_aes_key}'"
      ]
     },
     "execution_count": 96,
     "metadata": {},
     "output_type": "execute_result"
    }
   ],
   "source": [
    "KEY"
   ]
  },
  {
   "cell_type": "code",
   "execution_count": 169,
   "metadata": {},
   "outputs": [],
   "source": [
    "def vuln_xor(a, b):\n",
    "    # xor 2 bytestrings, repeating the 2nd one if necessary\n",
    "    return bytes(x ^ y for x,y in zip(a, b * (1 + len(a) // len(b))))\n"
   ]
  },
  {
   "cell_type": "code",
   "execution_count": 168,
   "metadata": {},
   "outputs": [
    {
     "data": {
      "text/plain": [
       "b'\\x00'"
      ]
     },
     "execution_count": 168,
     "metadata": {},
     "output_type": "execute_result"
    }
   ],
   "source": [
    "xor(b'\\x7a\\x7a\\x7a\\x7a\\x7a\\x7a\\x7a\\x7a', b'zzzzzzzz')"
   ]
  },
  {
   "cell_type": "code",
   "execution_count": 167,
   "metadata": {},
   "outputs": [
    {
     "data": {
      "text/plain": [
       "'1ee1792cf08677a9'"
      ]
     },
     "execution_count": 167,
     "metadata": {},
     "output_type": "execute_result"
    }
   ],
   "source": [
    "xor(DES3.new(KEY, DES3.MODE_ECB).encrypt(vuln_xor(b'\\x7a\\x00\\x00\\x00\\x00\\x00\\x00\\x00', b'zzzzzzzz')), b'zzzzzzzz').hex()"
   ]
  },
  {
   "cell_type": "code",
   "execution_count": 116,
   "metadata": {},
   "outputs": [
    {
     "data": {
      "text/plain": [
       "'6a372bb0989f9f65'"
      ]
     },
     "execution_count": 116,
     "metadata": {},
     "output_type": "execute_result"
    }
   ],
   "source": [
    "xor(DES3.new(((b'\\x00'*15)+b\"\\x02\"), DES3.MODE_ECB).encrypt(xor(b'\\x00\\x00\\x00\\x00\\x00\\x00\\x00\\x00', b'zzzzzzzz')), b'zzzzzzzz').hex()"
   ]
  },
  {
   "cell_type": "code",
   "execution_count": 103,
   "metadata": {},
   "outputs": [
    {
     "data": {
      "text/plain": [
       "'fa3f88ca6b86d6e6'"
      ]
     },
     "execution_count": 103,
     "metadata": {},
     "output_type": "execute_result"
    }
   ],
   "source": [
    "xor(DES3.new(KEY, DES3.MODE_ECB).encrypt(b'zzzzzzzz'), b'zzzzzzzz').hex()"
   ]
  },
  {
   "cell_type": "code",
   "execution_count": 88,
   "metadata": {},
   "outputs": [
    {
     "data": {
      "text/plain": [
       "'ab4be22723a84ffa'"
      ]
     },
     "execution_count": 88,
     "metadata": {},
     "output_type": "execute_result"
    }
   ],
   "source": [
    "DES3.new(KEY, DES3.MODE_ECB).encrypt(b'crypto{a').hex()"
   ]
  },
  {
   "cell_type": "code",
   "execution_count": null,
   "metadata": {},
   "outputs": [],
   "source": [
    "319ec210913a7bd0"
   ]
  },
  {
   "cell_type": "code",
   "execution_count": null,
   "metadata": {},
   "outputs": [],
   "source": [
    "\"c1a5b6d9ba54a267acabb6d5aa298dc3478ce41c495cb5e55f5dd6b4d499465b7751bd71e1dd7c45\""
   ]
  },
  {
   "cell_type": "code",
   "execution_count": 44,
   "metadata": {},
   "outputs": [
    {
     "data": {
      "text/plain": [
       "'63727970746f7b61'"
      ]
     },
     "execution_count": 44,
     "metadata": {},
     "output_type": "execute_result"
    }
   ],
   "source": [
    "b\"crypto{a\".hex()"
   ]
  },
  {
   "cell_type": "code",
   "execution_count": 71,
   "metadata": {},
   "outputs": [
    {
     "data": {
      "text/plain": [
       "['b95794f346ef9386',\n",
       " 'f1f3d92f8b1f2975',\n",
       " '5e40a87b564efaad',\n",
       " 'bd23f385d9b52323',\n",
       " '447b9c1ccb82d1f9',\n",
       " '7fe450bd9f20c8b2',\n",
       " '45f1f1d5dbacf9fd',\n",
       " '8c7fbeabddd2e421',\n",
       " '6c38b77519560106',\n",
       " '8e6fb250b004de70',\n",
       " '279138dc4c2987c0',\n",
       " '4b20513bc7799e17',\n",
       " 'b59496110581df8a',\n",
       " '76489301a0c9151a',\n",
       " 'b9bd69c61f4c89ce',\n",
       " 'a3002a0a87266497',\n",
       " 'c9bdbc59e6c59768',\n",
       " 'e1d01462deb460c4',\n",
       " 'd6b61841b0b38a63',\n",
       " '3588f493a2248190',\n",
       " 'f455f7a9108a850e',\n",
       " '756649a8cca71414',\n",
       " 'b992db37d5bef855',\n",
       " '8b629733698a8a46',\n",
       " '2218904a79728060',\n",
       " 'e16653eff6165921',\n",
       " '0eccd7b60b74f770',\n",
       " '990d320f8eae31f2',\n",
       " '437b48dd7fed7b42',\n",
       " 'e6fa9856302fe530',\n",
       " '874c481c368a1b5c',\n",
       " '28329b4b22e68edc',\n",
       " '90c85fcc6ca46175',\n",
       " '491895b47bd1898c',\n",
       " 'b396719b0639b73d',\n",
       " '937641e543b3797c',\n",
       " '444f33ccf7562c1b',\n",
       " '7c3729333def93de',\n",
       " 'e023342c3d3e16a5']"
      ]
     },
     "execution_count": 71,
     "metadata": {},
     "output_type": "execute_result"
    }
   ],
   "source": [
    "from string import ascii_lowercase\n",
    "alph = ascii_lowercase+\"0123456789_{}\"\n",
    "# [xor(DES3.new(KEY, DES3.MODE_ECB).encrypt(xor(b\"crypto{\"+c.encode(), FLAG[8:])), FLAG[8:]).hex() for c in alph]\n",
    "[DES3.new(KEY, DES3.MODE_ECB).encrypt(b\"crypto{\"+c.encode()).hex()  for c in alph]"
   ]
  },
  {
   "cell_type": "code",
   "execution_count": 19,
   "metadata": {},
   "outputs": [
    {
     "data": {
      "text/plain": [
       "'6b65797b7468655f6165735f6b65797d'"
      ]
     },
     "execution_count": 19,
     "metadata": {},
     "output_type": "execute_result"
    }
   ],
   "source": [
    "xor(PLAIN, IV)"
   ]
  },
  {
   "cell_type": "code",
   "execution_count": 22,
   "metadata": {},
   "outputs": [
    {
     "data": {
      "text/plain": [
       "'3a988d927a2e1c6d595aba3c59f69c20'"
      ]
     },
     "execution_count": 22,
     "metadata": {},
     "output_type": "execute_result"
    }
   ],
   "source": [
    "encrypt(KEY, PLAIN).hex()"
   ]
  },
  {
   "cell_type": "code",
   "execution_count": 28,
   "metadata": {},
   "outputs": [
    {
     "data": {
      "text/plain": [
       "'3a988d927a2e1c6dbde5e77c9d491bb0'"
      ]
     },
     "execution_count": 28,
     "metadata": {},
     "output_type": "execute_result"
    }
   ],
   "source": [
    "encrypt(KEY, b\"Howdy! I'm Flowf\").hex()"
   ]
  },
  {
   "cell_type": "code",
   "execution_count": 31,
   "metadata": {},
   "outputs": [
    {
     "data": {
      "text/plain": [
       "208827064576"
      ]
     },
     "execution_count": 31,
     "metadata": {},
     "output_type": "execute_result"
    }
   ],
   "source": [
    "26**8"
   ]
  },
  {
   "cell_type": "code",
   "execution_count": null,
   "metadata": {},
   "outputs": [],
   "source": [
    "m0 = E_k(p0^iv)^iv\n",
    "m1 = E_k(p1^iv)^iv\n",
    "\n",
    "p0 = D_k(m0^iv)^iv"
   ]
  },
  {
   "cell_type": "code",
   "execution_count": 30,
   "metadata": {},
   "outputs": [
    {
     "name": "stdout",
     "output_type": "stream",
     "text": [
      "41\n",
      "72\n",
      "97\n"
     ]
    }
   ],
   "source": [
    "print(30^55)\n",
    "print(127^55)\n",
    "print(41^72)"
   ]
  },
  {
   "cell_type": "code",
   "execution_count": null,
   "metadata": {},
   "outputs": [],
   "source": []
  }
 ],
 "metadata": {
  "kernelspec": {
   "display_name": ".venv",
   "language": "python",
   "name": "python3"
  },
  "language_info": {
   "codemirror_mode": {
    "name": "ipython",
    "version": 3
   },
   "file_extension": ".py",
   "mimetype": "text/x-python",
   "name": "python",
   "nbconvert_exporter": "python",
   "pygments_lexer": "ipython3",
   "version": "3.11.6"
  }
 },
 "nbformat": 4,
 "nbformat_minor": 2
}
