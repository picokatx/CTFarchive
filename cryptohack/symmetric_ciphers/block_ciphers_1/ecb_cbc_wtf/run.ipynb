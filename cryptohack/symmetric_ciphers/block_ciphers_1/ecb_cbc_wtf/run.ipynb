{
 "cells": [
  {
   "cell_type": "code",
   "execution_count": 94,
   "metadata": {},
   "outputs": [],
   "source": [
    "import os\n",
    "from Crypto.Cipher import AES\n",
    "KEY =  b\"key{the_aes_key}\"\n",
    "FLAG = \"crypto{aes_flag}\"\n",
    "def decrypt(ciphertext):\n",
    "    ciphertext = bytes.fromhex(ciphertext)\n",
    "    cipher = AES.new(KEY, AES.MODE_ECB)\n",
    "    try:\n",
    "        decrypted = cipher.decrypt(ciphertext)\n",
    "    except ValueError as e:\n",
    "        return {\"error\": str(e)}\n",
    "\n",
    "    return {\"plaintext\": decrypted.hex()}\n",
    "\n",
    "def encrypt_flag():\n",
    "    iv = os.urandom(16)\n",
    "\n",
    "    cipher = AES.new(KEY, AES.MODE_CBC, iv)\n",
    "    encrypted = cipher.encrypt(FLAG.encode())\n",
    "    ciphertext = iv.hex() + encrypted.hex()\n",
    "\n",
    "    return {\"ciphertext\": ciphertext}\n"
   ]
  },
  {
   "cell_type": "code",
   "execution_count": 98,
   "metadata": {},
   "outputs": [
    {
     "data": {
      "text/plain": [
       "b'crypto{aes_flag}'"
      ]
     },
     "execution_count": 98,
     "metadata": {},
     "output_type": "execute_result"
    }
   ],
   "source": [
    "bytes.fromhex(decrypt(AES.new(KEY, AES.MODE_ECB).encrypt(FLAG.encode()).hex())['plaintext'])"
   ]
  },
  {
   "cell_type": "code",
   "execution_count": 105,
   "metadata": {},
   "outputs": [
    {
     "data": {
      "text/plain": [
       "b'\\x00\\x00\\x00\\x00\\x00\\x00\\x00\\x00\\x00\\x00\\x00\\x00\\x00\\x00\\x00\\x00'"
      ]
     },
     "execution_count": 105,
     "metadata": {},
     "output_type": "execute_result"
    }
   ],
   "source": [
    "bytes.fromhex('00000000000000000000000000000000')"
   ]
  },
  {
   "cell_type": "code",
   "execution_count": 118,
   "metadata": {},
   "outputs": [
    {
     "data": {
      "text/plain": [
       "'crypto{aes_flag}'"
      ]
     },
     "execution_count": 118,
     "metadata": {},
     "output_type": "execute_result"
    }
   ],
   "source": [
    "iv = b'\\x00\\x00\\x00\\x00\\x00\\x00\\x00\\x00\\x00\\x00\\x00\\x00\\x00\\x00\\x00\\x90'\n",
    "enc = AES.new(KEY, AES.MODE_CBC, iv).encrypt(FLAG.encode()).hex()\n",
    "dec = bytes.fromhex(decrypt(enc)['plaintext'])\n",
    "\"\".join([chr(dec[i]^iv[i%len(iv)]) for i in range(len(dec))])"
   ]
  },
  {
   "cell_type": "code",
   "execution_count": 129,
   "metadata": {},
   "outputs": [
    {
     "data": {
      "text/plain": [
       "'crypto{3cb_5uck5_4v01d_17_!!!!!}'"
      ]
     },
     "execution_count": 129,
     "metadata": {},
     "output_type": "execute_result"
    }
   ],
   "source": [
    "out = \"9042cbaa83b13d6b262653bc731cc186c6223db7f8828561014ec0903d5f5384f45468cc5ced8a0ac0af3a23de2274e5\"\n",
    "iv, enc = bytes.fromhex(out[:32]), bytes.fromhex(out[32:])\n",
    "dec  = bytes.fromhex(\"f330b2daf7de465845440c89067faab399164b87c9e6da503611e1b11c7e72f9\")\n",
    "\"\".join([chr(dec[i]^iv[i]) for i in range(len(dec)//2)]) + \"\".join([chr(dec[i+len(dec)//2]^enc[i]) for i in range(len(dec)//2)])"
   ]
  },
  {
   "cell_type": "code",
   "execution_count": 87,
   "metadata": {},
   "outputs": [],
   "source": [
    "temp = encrypt_flag()['ciphertext'][32:]"
   ]
  },
  {
   "cell_type": "code",
   "execution_count": 92,
   "metadata": {},
   "outputs": [
    {
     "data": {
      "text/plain": [
       "'e6f9670d481154435489d715db961cd8'"
      ]
     },
     "execution_count": 92,
     "metadata": {},
     "output_type": "execute_result"
    }
   ],
   "source": [
    "decrypt(temp)['plaintext']"
   ]
  },
  {
   "cell_type": "code",
   "execution_count": 93,
   "metadata": {},
   "outputs": [
    {
     "data": {
      "text/plain": [
       "b'\\xc0\\xb0\\xc4\\x9d\\x8e\"\\xd4\\xc2\\x16\\x06>\\xd9\\xe2Dc\\x03\\x89\\xa6\\xcb|1\\xa5,\\xf8\\x94\\xcc\\x14\\xae\\xd7\\xeb\\xb5i\\x9e\\x88\"\\xaf\\xf7Zp\\xd9\\xf2\\x01\\xda\\x9f\\xd4!\\x8f\\xe1'"
      ]
     },
     "execution_count": 93,
     "metadata": {},
     "output_type": "execute_result"
    }
   ],
   "source": [
    "bytes.fromhex(\"c0b0c49d8e22d4c216063ed9e244630389a6cb7c31a52cf894cc14aed7ebb5699e8822aff75a70d9f201da9fd4218fe1\")"
   ]
  },
  {
   "cell_type": "code",
   "execution_count": 61,
   "metadata": {},
   "outputs": [
    {
     "data": {
      "text/plain": [
       "'fd84896b47e0db42f07096d3b8df96e9'"
      ]
     },
     "execution_count": 61,
     "metadata": {},
     "output_type": "execute_result"
    }
   ],
   "source": [
    "decrypt('27ee27c63cf3ad1bc27cebb81ed74be6')['plaintext']"
   ]
  },
  {
   "cell_type": "code",
   "execution_count": 19,
   "metadata": {},
   "outputs": [
    {
     "data": {
      "text/plain": [
       "'ab9df43de5a19d455feeba064d310ec09acbeb8618fd70430f9b069852d3f061'"
      ]
     },
     "execution_count": 19,
     "metadata": {},
     "output_type": "execute_result"
    }
   ],
   "source": [
    "#                                                                 \"9acbeb8618fd70430f9b069852d3f061\"\n",
    "#                                 \"ab9df43de5a19d455feeba064d310ec09acbeb8618fd70430f9b069852d3f061\"\n",
    "# \"44dc2100498e5775023f6f77926fd4f9ab9df43de5a19d455feeba064d310ec09acbeb8618fd70430f9b069852d3f061\"\n",
    "# \"b0adc421dd543ae73442c8d7eca3a17f0de9e832cad3e80ee35db4e20ee408797cdf4c21ab17b2d0385c42593c3b56e1\"\n",
    "# \"cf388d3505fc98ae78ac5642fc9cc96d87b05bf7fd865e40093e7bbcd8ccee10becf730118f72c81d625915cf6f307aa\""
   ]
  }
 ],
 "metadata": {
  "kernelspec": {
   "display_name": ".venv",
   "language": "python",
   "name": "python3"
  },
  "language_info": {
   "codemirror_mode": {
    "name": "ipython",
    "version": 3
   },
   "file_extension": ".py",
   "mimetype": "text/x-python",
   "name": "python",
   "nbconvert_exporter": "python",
   "pygments_lexer": "ipython3",
   "version": "3.11.6"
  }
 },
 "nbformat": 4,
 "nbformat_minor": 2
}
