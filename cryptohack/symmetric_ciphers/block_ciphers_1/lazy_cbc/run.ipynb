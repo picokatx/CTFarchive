{
 "cells": [
  {
   "cell_type": "code",
   "execution_count": 68,
   "metadata": {},
   "outputs": [],
   "source": [
    "from Crypto.Cipher import AES\n",
    "import os\n",
    "from Crypto.Util.Padding import pad, unpad\n",
    "from datetime import datetime, timedelta\n",
    "from os import urandom\n",
    "import requests\n",
    "from Crypto.Util.number import long_to_bytes, bytes_to_long\n",
    "import json\n",
    "def json_get(url):\n",
    "    return json.loads(requests.get(url).content.decode())\n",
    "def xor(a, b):\n",
    "    return long_to_bytes(bytes_to_long(a) ^ bytes_to_long(b))\n",
    "def get_flag(key):\n",
    "    return bytes.fromhex(json_get(f\"https://aes.cryptohack.org/lazy_cbc/get_flag/{key.hex()}\")['plaintext'])\n",
    "def receive(ciphertext):\n",
    "    return json_get(f\"https://aes.cryptohack.org/lazy_cbc/receive/{ciphertext.hex()}\")\n",
    "def encrypt(plaintext):\n",
    "    return bytes.fromhex(json_get(f\"https://aes.cryptohack.org/lazy_cbc/encrypt/{plaintext.hex()}\")['ciphertext'])\n",
    "KEY =  b\"key{the_aes_key}\"\n",
    "FLAG = b\"crypto{aes_flag}\"\n",
    "PLAIN =b\"Howdy! I'm Flowe\""
   ]
  },
  {
   "cell_type": "code",
   "execution_count": 69,
   "metadata": {},
   "outputs": [],
   "source": [
    "c0 = PLAIN\n",
    "c1 = (b\"\\x00\"*16)\n",
    "c2 = PLAIN"
   ]
  },
  {
   "cell_type": "code",
   "execution_count": 70,
   "metadata": {},
   "outputs": [
    {
     "data": {
      "text/plain": [
       "b'crypto{50m3_p30pl3_d0n7_7h1nk_IV_15_1mp0r74n7_?}'"
      ]
     },
     "execution_count": 70,
     "metadata": {},
     "output_type": "execute_result"
    }
   ],
   "source": [
    "temp = bytes.fromhex(receive(c0+c1+c2)['error'].split(\": \")[1])\n",
    "p0, p1, p2 = temp[:len(temp)//3], temp[len(temp)//3:2*len(temp)//3], temp[2*len(temp)//3:]\n",
    "key = xor(p0, p2)\n",
    "get_flag(key)"
   ]
  },
  {
   "cell_type": "code",
   "execution_count": 60,
   "metadata": {},
   "outputs": [],
   "source": [
    "temp = AES.new(KEY, AES.MODE_CBC, KEY).decrypt(c0+c1+c2)\n",
    "p0, p1, p2 = temp[:len(temp)//3], temp[len(temp)//3:2*len(temp)//3], temp[2*len(temp)//3:]"
   ]
  },
  {
   "cell_type": "code",
   "execution_count": 62,
   "metadata": {},
   "outputs": [
    {
     "data": {
      "text/plain": [
       "b'key{the_aes_key}'"
      ]
     },
     "execution_count": 62,
     "metadata": {},
     "output_type": "execute_result"
    }
   ],
   "source": [
    "xor(p0, p2)"
   ]
  },
  {
   "cell_type": "code",
   "execution_count": null,
   "metadata": {},
   "outputs": [],
   "source": [
    "# # IV recovery\n",
    "# c0 = Ek(p0^K)\n",
    "# c1 = Ek(p1^c0)\n",
    "# c2 = Ek(p2^c1)\n",
    "\n",
    "# p0 = K ^ Dk(c0)\n",
    "# p1 = c0 ^ Dk(0)\n",
    "# p2 = 0 ^ Dk(c0)\n",
    "\n",
    "# p0 ^ p2 = K"
   ]
  },
  {
   "cell_type": "code",
   "execution_count": 10,
   "metadata": {},
   "outputs": [
    {
     "data": {
      "text/plain": [
       "b'\\x03'"
      ]
     },
     "execution_count": 10,
     "metadata": {},
     "output_type": "execute_result"
    }
   ],
   "source": [
    "xor(PLAIN, b\"Howdy! I'm Flowf\")"
   ]
  },
  {
   "cell_type": "code",
   "execution_count": 9,
   "metadata": {},
   "outputs": [
    {
     "data": {
      "text/plain": [
       "b'\\xad\\xef\\xbc\\xe8\\x83\\xa2\\x08\\x14\\xba\\xff\\\\\\x18\\x90z\\xe7U'"
      ]
     },
     "execution_count": 9,
     "metadata": {},
     "output_type": "execute_result"
    }
   ],
   "source": [
    "AES.new(KEY, AES.MODE_CBC, KEY).encrypt(PLAIN)"
   ]
  },
  {
   "cell_type": "code",
   "execution_count": 7,
   "metadata": {},
   "outputs": [
    {
     "data": {
      "text/plain": [
       "b'\\xc6\\x8a\\xc5\\x93\\xf7\\xcamK\\xdb\\x9a/G\\xfb\\x1f\\x9e('"
      ]
     },
     "execution_count": 7,
     "metadata": {},
     "output_type": "execute_result"
    }
   ],
   "source": [
    "xor(, KEY)"
   ]
  },
  {
   "cell_type": "code",
   "execution_count": null,
   "metadata": {},
   "outputs": [],
   "source": []
  }
 ],
 "metadata": {
  "kernelspec": {
   "display_name": ".venv",
   "language": "python",
   "name": "python3"
  },
  "language_info": {
   "codemirror_mode": {
    "name": "ipython",
    "version": 3
   },
   "file_extension": ".py",
   "mimetype": "text/x-python",
   "name": "python",
   "nbconvert_exporter": "python",
   "pygments_lexer": "ipython3",
   "version": "3.11.6"
  }
 },
 "nbformat": 4,
 "nbformat_minor": 2
}
