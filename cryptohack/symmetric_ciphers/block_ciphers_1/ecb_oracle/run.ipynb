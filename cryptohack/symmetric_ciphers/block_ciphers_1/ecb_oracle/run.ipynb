{
 "cells": [
  {
   "cell_type": "code",
   "execution_count": 117,
   "metadata": {},
   "outputs": [],
   "source": [
    "from Crypto.Cipher import AES\n",
    "from Crypto.Util.Padding import pad, unpad\n",
    "\n",
    "KEY =  b\"key{the_aes_key}\"\n",
    "FLAG = \"crypto{aes_flag}\"\n",
    "\n",
    "def encrypt(plaintext):\n",
    "    plaintext = bytes.fromhex(plaintext)\n",
    "    padded = pad(plaintext + FLAG.encode(), 16)\n",
    "    cipher = AES.new(KEY, AES.MODE_ECB)\n",
    "    try:\n",
    "        encrypted = cipher.encrypt(padded)\n",
    "    except ValueError as e:\n",
    "        return {\"error\": str(e)}\n",
    "    return {\"ciphertext\": encrypted.hex()}\n"
   ]
  },
  {
   "cell_type": "code",
   "execution_count": null,
   "metadata": {},
   "outputs": [],
   "source": [
    "import requests\n",
    "import json\n",
    "from tqdm import tqdm\n",
    "from string import ascii_lowercase\n",
    "alph = ascii_lowercase+\"0123456789_{}\"\n",
    "def json_get(url):\n",
    "    # print(url, requests.get(url).content.decode())\n",
    "    return json.loads(requests.get(url).content.decode())\n",
    "flag = \"63727970746f7b70336e3675316e355f683437335f3363627d\"\n",
    "for i in range(len(flag)//2, 31):\n",
    "    ground = \"aa\"*(31-i)\n",
    "    ground_enc = json_get(f\"https://aes.cryptohack.org/ecb_oracle/encrypt/{ground}/\")['ciphertext'][32:64]\n",
    "    for c in tqdm(alph):\n",
    "        n = ground+flag+c.encode().hex()\n",
    "        if (json_get(f\"https://aes.cryptohack.org/ecb_oracle/encrypt/{n}/\")['ciphertext'][32:64]==ground_enc):\n",
    "            flag += c.encode().hex()\n",
    "            break"
   ]
  },
  {
   "cell_type": "code",
   "execution_count": 135,
   "metadata": {},
   "outputs": [
    {
     "data": {
      "text/plain": [
       "'crypto{p3n6u1n5_h473_3cb}'"
      ]
     },
     "execution_count": 135,
     "metadata": {},
     "output_type": "execute_result"
    }
   ],
   "source": [
    "bytes.fromhex(\"63727970746f7b70336e3675316e355f683437335f3363627d\").decode()"
   ]
  },
  {
   "cell_type": "code",
   "execution_count": 114,
   "metadata": {},
   "outputs": [
    {
     "name": "stdout",
     "output_type": "stream",
     "text": [
      "2ece6d177dbe143199a13dd876822b10\n",
      "2ece6d177dbe143199a13dd876822b10\n"
     ]
    }
   ],
   "source": [
    "print((encrypt((\"aa\"*31))['ciphertext'][:32]))\n",
    "print((encrypt((\"aa\"*31)+\"63\")['ciphertext'][:32]))"
   ]
  },
  {
   "cell_type": "code",
   "execution_count": 52,
   "metadata": {},
   "outputs": [
    {
     "name": "stdout",
     "output_type": "stream",
     "text": [
      "b83c6b396d2d46e818d0972dfd4a3ef828ec76582447c7570c21dc90516b92dd\n",
      "b83c6b396d2d46e818d0972dfd4a3ef83cd4a464737a13f2e442b2abb3aef8ed088b012fd19d3d4569b3ca039c2e02d6\n"
     ]
    }
   ],
   "source": [
    "print(encrypt((\"aa\"*15))['ciphertext'])\n",
    "print(encrypt((\"aa\"*15)+\"63\")['ciphertext'])"
   ]
  },
  {
   "cell_type": "code",
   "execution_count": 44,
   "metadata": {},
   "outputs": [
    {
     "data": {
      "text/plain": [
       "b'\\xaa\\xaa\\xaa\\xaa\\xaa\\xaa\\xaa\\xaa\\xaa\\xaa\\xaa\\xaa\\xaa\\xaa\\xaacrypto{aes_flag}\\x01'"
      ]
     },
     "execution_count": 44,
     "metadata": {},
     "output_type": "execute_result"
    }
   ],
   "source": [
    "pad(bytes.fromhex((\"aa\"*15)) + FLAG.encode(), 16)"
   ]
  },
  {
   "cell_type": "code",
   "execution_count": null,
   "metadata": {},
   "outputs": [],
   "source": [
    "pad(bytes.fromhex((\"aa\"*15)) + FLAG.encode(), 16)"
   ]
  },
  {
   "cell_type": "code",
   "execution_count": 21,
   "metadata": {},
   "outputs": [
    {
     "data": {
      "text/plain": [
       "b'\\xaa\\xaa\\xaa\\xaa\\xaa\\xaa\\xaa\\xaa\\xaa\\xaa\\xaa\\xaa\\xaa\\xaa\\xaa\\xabcrypto{aes_flag}\\x10\\x10\\x10\\x10\\x10\\x10\\x10\\x10\\x10\\x10\\x10\\x10\\x10\\x10\\x10\\x10'"
      ]
     },
     "execution_count": 21,
     "metadata": {},
     "output_type": "execute_result"
    }
   ],
   "source": [
    "pad(bytes.fromhex((\"aa\"*15)+\"ab\") + FLAG.encode(), 16)"
   ]
  },
  {
   "cell_type": "code",
   "execution_count": 20,
   "metadata": {},
   "outputs": [
    {
     "data": {
      "text/plain": [
       "48"
      ]
     },
     "execution_count": 20,
     "metadata": {},
     "output_type": "execute_result"
    }
   ],
   "source": [
    "len(pad(bytes.fromhex((\"aa\"*15)+\"ab\") + FLAG.encode(), 16))"
   ]
  },
  {
   "cell_type": "code",
   "execution_count": null,
   "metadata": {},
   "outputs": [],
   "source": []
  }
 ],
 "metadata": {
  "kernelspec": {
   "display_name": ".venv",
   "language": "python",
   "name": "python3"
  },
  "language_info": {
   "codemirror_mode": {
    "name": "ipython",
    "version": 3
   },
   "file_extension": ".py",
   "mimetype": "text/x-python",
   "name": "python",
   "nbconvert_exporter": "python",
   "pygments_lexer": "ipython3",
   "version": "3.11.6"
  }
 },
 "nbformat": 4,
 "nbformat_minor": 2
}
