{
 "cells": [
  {
   "cell_type": "code",
   "execution_count": null,
   "metadata": {},
   "outputs": [],
   "source": []
  },
  {
   "cell_type": "code",
   "execution_count": null,
   "metadata": {},
   "outputs": [],
   "source": [
    "from cryptolib import pool\n",
    "def test(i: int):\n",
    "    from cryptolib import padding_oracle\n",
    "    found = [246, 149, 155, 198]\n",
    "    payload = bytes([found[i]^(len(found)+1) for i in range(len(found))])\n",
    "    ciphertext = b'\\xdd-%\\xc1\\xe6\\x16H\\xb6\\xa1\\xcb\\xab\\x88Fn\\x83.\\x17X\\x16;h\\x16\\\\\\xf8\\xc5\\xef\\xd2\\x1a\\xf5h+\\xd5'\n",
    "    return padding_oracle((ciphertext[:16]).hex(), (b'\\x00'*(15-len(found)) + bytes([i]) + payload).hex()) # + b'\\xc4'\n",
    "temp = pool(test, 256, 16)"
   ]
  }
 ],
 "metadata": {
  "language_info": {
   "name": "python"
  }
 },
 "nbformat": 4,
 "nbformat_minor": 2
}
