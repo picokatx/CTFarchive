{
 "cells": [
  {
   "cell_type": "markdown",
   "metadata": {},
   "source": [
    "eeeee does the chal name really mean the message is in thai"
   ]
  },
  {
   "cell_type": "code",
   "execution_count": 3,
   "metadata": {},
   "outputs": [
    {
     "data": {
      "text/plain": [
       "b'\\xff;\\xf7-\\xfcP6\\xe0\\xa8\\x97=8J\\xd6\\xa8\\x8f'"
      ]
     },
     "execution_count": 3,
     "metadata": {},
     "output_type": "execute_result"
    }
   ],
   "source": [
    "from os import urandom\n",
    "urandom(16)"
   ]
  },
  {
   "cell_type": "code",
   "execution_count": 3,
   "metadata": {},
   "outputs": [
    {
     "data": {
      "text/plain": [
       "b'4\\xd8\\x9a\\x1a\\x05\\rIM\\xb0\\x7f\\x80\\xc1(\\xe4\\xe6PJI\"0\\xd9*[,L\\xcd&`\\x0e\\xa5\\xe2\\xafj\\'nK\\x8aIdA\\xffy\\xadW\\\\\\xe5\\n\\xdb'"
      ]
     },
     "execution_count": 3,
     "metadata": {},
     "output_type": "execute_result"
    }
   ],
   "source": [
    "from cryptolib import hello_world, encrypt, unpad, check_message, padding_oracle\n",
    "r = hello_world()\n",
    "encrypt(r)"
   ]
  },
  {
   "cell_type": "code",
   "execution_count": 1,
   "metadata": {},
   "outputs": [],
   "source": [
    "from cryptolib import hello_world, encrypt, unpad, check_message, padding_oracle, pool, imap\n",
    "from pwnlib.tubes.remote import remote\n",
    "def test(i: int, c: int, r:remote, found: bytes):\n",
    "    from cryptolib import padding_oracle\n",
    "    out = b'\\x81\\xb5V3\\xe9jz\\x99\\xa2\\x1a\\xf0\\xfd\\xed\\xea\\xff\\xb21!\\xbcy\\xb4k\\xe4\\x1ay\\x08\\x11ENN-F\\xaf~\\xb1\\xdbjUNN\\xa0\\x85$\\xd3\\xba\\xdb\\xa8$'\n",
    "    ct = out[16:]\n",
    "    ct0 = ct[:16]\n",
    "    payload = bytes([found[j]^(len(found)+1) for j in range(len(found))])\n",
    "    evil = b'\\x00'*(15-len(found)) + bytes([c]) + payload + ct0\n",
    "    return padding_oracle(r, evil.hex())\n",
    "\n",
    "def get_vals():\n",
    "    r: remote = hello_world()\n",
    "    out = b'\\x81\\xb5V3\\xe9jz\\x99\\xa2\\x1a\\xf0\\xfd\\xed\\xea\\xff\\xb21!\\xbcy\\xb4k\\xe4\\x1ay\\x08\\x11ENN-F\\xaf~\\xb1\\xdbjUNN\\xa0\\x85$\\xd3\\xba\\xdb\\xa8$'\n",
    "    s0 = b\"\" #246, 149, 155, 198\n",
    "    iv = out[:16]\n",
    "    key = b\"\"\n",
    "    for j in range(16):\n",
    "        valid_chars = [i for i in range(0,256) if i ^ (len(s0)+1) ^ iv[-(len(s0)+1)]<128]\n",
    "        _iv = valid_chars[imap(test, len(valid_chars), valid_chars, [r]*len(valid_chars), [s0]*len(valid_chars)).index(True)]\n",
    "        s0 = bytes([(_iv ^ (len(s0)+1))]) + s0\n",
    "        key = bytes([((_iv ^ (len(s0))) ^ iv[-len(s0)])]) + key\n",
    "        print(s0, key)\n",
    "    return s0, key\n"
   ]
  },
  {
   "cell_type": "code",
   "execution_count": 2,
   "metadata": {},
   "outputs": [
    {
     "name": "stderr",
     "output_type": "stream",
     "text": [
      "100%|██████████| 128/128 [00:22<00:00,  5.75it/s]\n"
     ]
    },
    {
     "ename": "ValueError",
     "evalue": "True is not in list",
     "output_type": "error",
     "traceback": [
      "\u001b[1;31m---------------------------------------------------------------------------\u001b[0m",
      "\u001b[1;31mValueError\u001b[0m                                Traceback (most recent call last)",
      "Cell \u001b[1;32mIn[2], line 1\u001b[0m\n\u001b[1;32m----> 1\u001b[0m \u001b[43mget_vals\u001b[49m\u001b[43m(\u001b[49m\u001b[43m)\u001b[49m\n",
      "Cell \u001b[1;32mIn[1], line 20\u001b[0m, in \u001b[0;36mget_vals\u001b[1;34m()\u001b[0m\n\u001b[0;32m     18\u001b[0m \u001b[38;5;28;01mfor\u001b[39;00m j \u001b[38;5;129;01min\u001b[39;00m \u001b[38;5;28mrange\u001b[39m(\u001b[38;5;241m16\u001b[39m):\n\u001b[0;32m     19\u001b[0m     valid_chars \u001b[38;5;241m=\u001b[39m [i \u001b[38;5;28;01mfor\u001b[39;00m i \u001b[38;5;129;01min\u001b[39;00m \u001b[38;5;28mrange\u001b[39m(\u001b[38;5;241m0\u001b[39m,\u001b[38;5;241m256\u001b[39m) \u001b[38;5;28;01mif\u001b[39;00m i \u001b[38;5;241m^\u001b[39m (\u001b[38;5;28mlen\u001b[39m(s0)\u001b[38;5;241m+\u001b[39m\u001b[38;5;241m1\u001b[39m) \u001b[38;5;241m^\u001b[39m iv[\u001b[38;5;241m-\u001b[39m(\u001b[38;5;28mlen\u001b[39m(s0)\u001b[38;5;241m+\u001b[39m\u001b[38;5;241m1\u001b[39m)]\u001b[38;5;241m<\u001b[39m\u001b[38;5;241m128\u001b[39m]\n\u001b[1;32m---> 20\u001b[0m     _iv \u001b[38;5;241m=\u001b[39m valid_chars[\u001b[43mimap\u001b[49m\u001b[43m(\u001b[49m\u001b[43mtest\u001b[49m\u001b[43m,\u001b[49m\u001b[43m \u001b[49m\u001b[38;5;28;43mlen\u001b[39;49m\u001b[43m(\u001b[49m\u001b[43mvalid_chars\u001b[49m\u001b[43m)\u001b[49m\u001b[43m,\u001b[49m\u001b[43m \u001b[49m\u001b[43mvalid_chars\u001b[49m\u001b[43m,\u001b[49m\u001b[43m \u001b[49m\u001b[43m[\u001b[49m\u001b[43mr\u001b[49m\u001b[43m]\u001b[49m\u001b[38;5;241;43m*\u001b[39;49m\u001b[38;5;28;43mlen\u001b[39;49m\u001b[43m(\u001b[49m\u001b[43mvalid_chars\u001b[49m\u001b[43m)\u001b[49m\u001b[43m,\u001b[49m\u001b[43m \u001b[49m\u001b[43m[\u001b[49m\u001b[43ms0\u001b[49m\u001b[43m]\u001b[49m\u001b[38;5;241;43m*\u001b[39;49m\u001b[38;5;28;43mlen\u001b[39;49m\u001b[43m(\u001b[49m\u001b[43mvalid_chars\u001b[49m\u001b[43m)\u001b[49m\u001b[43m)\u001b[49m\u001b[38;5;241;43m.\u001b[39;49m\u001b[43mindex\u001b[49m\u001b[43m(\u001b[49m\u001b[38;5;28;43;01mTrue\u001b[39;49;00m\u001b[43m)\u001b[49m]\n\u001b[0;32m     21\u001b[0m     s0 \u001b[38;5;241m=\u001b[39m \u001b[38;5;28mbytes\u001b[39m([(_iv \u001b[38;5;241m^\u001b[39m (\u001b[38;5;28mlen\u001b[39m(s0)\u001b[38;5;241m+\u001b[39m\u001b[38;5;241m1\u001b[39m))]) \u001b[38;5;241m+\u001b[39m s0\n\u001b[0;32m     22\u001b[0m     key \u001b[38;5;241m=\u001b[39m \u001b[38;5;28mbytes\u001b[39m([((_iv \u001b[38;5;241m^\u001b[39m (\u001b[38;5;28mlen\u001b[39m(s0))) \u001b[38;5;241m^\u001b[39m iv[\u001b[38;5;241m-\u001b[39m\u001b[38;5;28mlen\u001b[39m(s0)])]) \u001b[38;5;241m+\u001b[39m key\n",
      "\u001b[1;31mValueError\u001b[0m: True is not in list"
     ]
    }
   ],
   "source": [
    "get_vals()"
   ]
  },
  {
   "cell_type": "markdown",
   "metadata": {},
   "source": [
    "(b'\\x93\\xcf\\xc2rY\\xd1\\xffNy\\xefd7\\x15\\x9cW\\xb3',\n",
    " b'\\x12z\\x94A\\xb0\\xbb\\x85\\xd7\\xdb\\xf5\\x94\\xca\\xf8v\\xa8\\x01')\n",
    "(b'\\xa2G\\x9d&\\x00\\xa3\\xdf\\x1b\\x84\\xfc\\xc2!\\xea\\xa32\\xd5',\n",
    " b'\\x93f!_\\xb4\\xc8;\\x01\\xfd\\xf4\\xd3d\\xa4\\xed\\x1f\\x93')"
   ]
  },
  {
   "cell_type": "code",
   "execution_count": 13,
   "metadata": {},
   "outputs": [
    {
     "data": {
      "text/plain": [
       "'่\\uf875'"
      ]
     },
     "execution_count": 13,
     "metadata": {},
     "output_type": "execute_result"
    }
   ],
   "source": [
    "\"\\u0E48\\uF875\""
   ]
  },
  {
   "cell_type": "code",
   "execution_count": null,
   "metadata": {},
   "outputs": [],
   "source": [
    "\"\\u0E48\",\"\\uF875\"\n",
    "\"\\u0E49\",\"\\uF875\"\n",
    "\"\\u0E4A\",\"\\uF875\"\n",
    "\"\\u0E4B\",\"\\uF875\"\n",
    "\"\\u0E4C\",\"\\uF875\"\n",
    "\"\\u0E48\",\"\\uF873\"\n",
    "\"\\u0E49\",\"\\uF873\"\n",
    "\"\\u0E4A\",\"\\uF873\"\n",
    "\"\\u0E4B\",\"\\uF873\"\n",
    "\"\\u0E4C\",\"\\uF873\""
   ]
  },
  {
   "cell_type": "code",
   "execution_count": 15,
   "metadata": {},
   "outputs": [
    {
     "data": {
      "text/plain": [
       "'English_Singapore.1252'"
      ]
     },
     "execution_count": 15,
     "metadata": {},
     "output_type": "execute_result"
    }
   ],
   "source": [
    "import locale\n",
    "locale.setlocale(locale.LC_ALL, ('English_Singapore', '1252'))"
   ]
  },
  {
   "cell_type": "code",
   "execution_count": 1,
   "metadata": {},
   "outputs": [
    {
     "data": {
      "text/plain": [
       "'ขG‘&\\x00ฃ฿\\x1b้\\ufffeย!๊ฃ2ี็f!_ดศ;\\x01\\ufffe๔ำdคํ\\x1f็'"
      ]
     },
     "execution_count": 1,
     "metadata": {},
     "output_type": "execute_result"
    }
   ],
   "source": [
    "from cryptolib import THAI_MACOS_CODEC, hello_world, check_message\n",
    "import json\n",
    "from itertools import chain\n",
    "# json.dumps({\"tst\": \"\\xa2G\\x9d&\\x00\\xa3\\xdf\\x1b\\x84\\xfc\\xc2!\\xea\\xa32\\xd5\\x93f!_\\xb4\\xc8;\\x01\\xfd\\xf4\\xd3d\\xa4\\xed\\x1f\\x93\"})\n",
    "message_maybe = \"\".join(list(chain.from_iterable([THAI_MACOS_CODEC[c][:1] for c in b\"\\xa2G\\x9d&\\x00\\xa3\\xdf\\x1b\\x84\\xfc\\xc2!\\xea\\xa32\\xd5\\x93f!_\\xb4\\xc8;\\x01\\xfd\\xf4\\xd3d\\xa4\\xed\\x1f\\x93\"])))\n",
    "# r = hello_world()\n",
    "# check_message(r, message_maybe)\n",
    "message_maybe"
   ]
  },
  {
   "cell_type": "code",
   "execution_count": 4,
   "metadata": {},
   "outputs": [
    {
     "data": {
      "text/plain": [
       "'ขG‘&\\x00ฃ฿\\x1b้\\x00ย!๊ฃ2ี็f!_ดศ;\\x01\\x00๔ำdคํ\\x1f็'"
      ]
     },
     "execution_count": 4,
     "metadata": {},
     "output_type": "execute_result"
    }
   ],
   "source": [
    "message_maybe.encode(\"cp\")"
   ]
  },
  {
   "cell_type": "code",
   "execution_count": 17,
   "metadata": {},
   "outputs": [
    {
     "ename": "UnicodeDecodeError",
     "evalue": "'charmap' codec can't decode byte 0xfc in position 9: character maps to <undefined>",
     "output_type": "error",
     "traceback": [
      "\u001b[1;31m---------------------------------------------------------------------------\u001b[0m",
      "\u001b[1;31mUnicodeDecodeError\u001b[0m                        Traceback (most recent call last)",
      "Cell \u001b[1;32mIn[17], line 1\u001b[0m\n\u001b[1;32m----> 1\u001b[0m \u001b[38;5;124;43mb\u001b[39;49m\u001b[38;5;124;43m\"\u001b[39;49m\u001b[38;5;130;43;01m\\xa2\u001b[39;49;00m\u001b[38;5;124;43mG\u001b[39;49m\u001b[38;5;130;43;01m\\x9d\u001b[39;49;00m\u001b[38;5;124;43m&\u001b[39;49m\u001b[38;5;130;43;01m\\x00\u001b[39;49;00m\u001b[38;5;130;43;01m\\xa3\u001b[39;49;00m\u001b[38;5;130;43;01m\\xdf\u001b[39;49;00m\u001b[38;5;130;43;01m\\x1b\u001b[39;49;00m\u001b[38;5;130;43;01m\\x84\u001b[39;49;00m\u001b[38;5;130;43;01m\\xfc\u001b[39;49;00m\u001b[38;5;130;43;01m\\xc2\u001b[39;49;00m\u001b[38;5;124;43m!\u001b[39;49m\u001b[38;5;130;43;01m\\xea\u001b[39;49;00m\u001b[38;5;130;43;01m\\xa3\u001b[39;49;00m\u001b[38;5;124;43m2\u001b[39;49m\u001b[38;5;130;43;01m\\xd5\u001b[39;49;00m\u001b[38;5;130;43;01m\\x93\u001b[39;49;00m\u001b[38;5;124;43mf!_\u001b[39;49m\u001b[38;5;130;43;01m\\xb4\u001b[39;49;00m\u001b[38;5;130;43;01m\\xc8\u001b[39;49;00m\u001b[38;5;124;43m;\u001b[39;49m\u001b[38;5;130;43;01m\\x01\u001b[39;49;00m\u001b[38;5;130;43;01m\\xfd\u001b[39;49;00m\u001b[38;5;130;43;01m\\xf4\u001b[39;49;00m\u001b[38;5;130;43;01m\\xd3\u001b[39;49;00m\u001b[38;5;124;43md\u001b[39;49m\u001b[38;5;130;43;01m\\xa4\u001b[39;49;00m\u001b[38;5;130;43;01m\\xed\u001b[39;49;00m\u001b[38;5;130;43;01m\\x1f\u001b[39;49;00m\u001b[38;5;130;43;01m\\x93\u001b[39;49;00m\u001b[38;5;124;43m\"\u001b[39;49m\u001b[38;5;241;43m.\u001b[39;49m\u001b[43mdecode\u001b[49m\u001b[43m(\u001b[49m\u001b[38;5;124;43m'\u001b[39;49m\u001b[38;5;124;43miso8859_11\u001b[39;49m\u001b[38;5;124;43m'\u001b[39;49m\u001b[43m)\u001b[49m\n",
      "File \u001b[1;32m~\\AppData\\Local\\Programs\\Python\\Python311\\Lib\\encodings\\iso8859_11.py:15\u001b[0m, in \u001b[0;36mCodec.decode\u001b[1;34m(self, input, errors)\u001b[0m\n\u001b[0;32m     14\u001b[0m \u001b[38;5;28;01mdef\u001b[39;00m \u001b[38;5;21mdecode\u001b[39m(\u001b[38;5;28mself\u001b[39m,\u001b[38;5;28minput\u001b[39m,errors\u001b[38;5;241m=\u001b[39m\u001b[38;5;124m'\u001b[39m\u001b[38;5;124mstrict\u001b[39m\u001b[38;5;124m'\u001b[39m):\n\u001b[1;32m---> 15\u001b[0m     \u001b[38;5;28;01mreturn\u001b[39;00m \u001b[43mcodecs\u001b[49m\u001b[38;5;241;43m.\u001b[39;49m\u001b[43mcharmap_decode\u001b[49m\u001b[43m(\u001b[49m\u001b[38;5;28;43minput\u001b[39;49m\u001b[43m,\u001b[49m\u001b[43merrors\u001b[49m\u001b[43m,\u001b[49m\u001b[43mdecoding_table\u001b[49m\u001b[43m)\u001b[49m\n",
      "\u001b[1;31mUnicodeDecodeError\u001b[0m: 'charmap' codec can't decode byte 0xfc in position 9: character maps to <undefined>"
     ]
    }
   ],
   "source": [
    "b\"\\xa2G\\x9d&\\x00\\xa3\\xdf\\x1b\\x84\\xfc\\xc2!\\xea\\xa32\\xd5\\x93f!_\\xb4\\xc8;\\x01\\xfd\\xf4\\xd3d\\xa4\\xed\\x1f\\x93\".decode('iso8859_11')"
   ]
  },
  {
   "cell_type": "code",
   "execution_count": 11,
   "metadata": {},
   "outputs": [
    {
     "data": {
      "text/plain": [
       "[0,\n",
       " 1,\n",
       " 27,\n",
       " 31,\n",
       " 33,\n",
       " 38,\n",
       " 50,\n",
       " 59,\n",
       " 71,\n",
       " 95,\n",
       " 100,\n",
       " 102,\n",
       " 132,\n",
       " 147,\n",
       " 157,\n",
       " 162,\n",
       " 163,\n",
       " 164,\n",
       " 180,\n",
       " 194,\n",
       " 200,\n",
       " 211,\n",
       " 213,\n",
       " 223,\n",
       " 234,\n",
       " 237,\n",
       " 244,\n",
       " 252,\n",
       " 253]"
      ]
     },
     "execution_count": 11,
     "metadata": {},
     "output_type": "execute_result"
    }
   ],
   "source": [
    "from collections import Counter\n",
    "c = Counter()\n",
    "c.update(list(b\"\\xa2G\\x9d&\\x00\\xa3\\xdf\\x1b\\x84\\xfc\\xc2!\\xea\\xa32\\xd5\\x93f!_\\xb4\\xc8;\\x01\\xfd\\xf4\\xd3d\\xa4\\xed\\x1f\\x93\"))\n",
    "chars = list(c.keys())\n",
    "chars.sort()\n",
    "chars"
   ]
  },
  {
   "cell_type": "code",
   "execution_count": 18,
   "metadata": {},
   "outputs": [
    {
     "data": {
      "text/plain": [
       "'ั\\uf874'"
      ]
     },
     "execution_count": 18,
     "metadata": {},
     "output_type": "execute_result"
    }
   ],
   "source": [
    "\"\\u0E31\\uF874\""
   ]
  },
  {
   "cell_type": "code",
   "execution_count": 4,
   "metadata": {},
   "outputs": [],
   "source": [
    "from cryptolib import hello_world, encrypt, unpad, check_message, padding_oracle, pool, imap\n",
    "from pwnlib.tubes.remote import remote\n",
    "def test2(i: int, r:remote, found: bytes):\n",
    "    from cryptolib import padding_oracle\n",
    "    out = b'\\x81\\xb5V3\\xe9jz\\x99\\xa2\\x1a\\xf0\\xfd\\xed\\xea\\xff\\xb21!\\xbcy\\xb4k\\xe4\\x1ay\\x08\\x11ENN-F\\xaf~\\xb1\\xdbjUNN\\xa0\\x85$\\xd3\\xba\\xdb\\xa8$'\n",
    "    ct = out[16:]\n",
    "    # ct0 = ct[:16]\n",
    "    ct1 = ct[16:]\n",
    "    payload = bytes([found[i]^(len(found)+1) for i in range(len(found))])\n",
    "    evil = b'\\x00'*(15-len(found)) + bytes([i]) + payload + ct1\n",
    "    return padding_oracle(r, evil.hex())\n",
    "\n",
    "def get_vals2():\n",
    "    r: remote = hello_world()\n",
    "    out = b'\\x81\\xb5V3\\xe9jz\\x99\\xa2\\x1a\\xf0\\xfd\\xed\\xea\\xff\\xb21!\\xbcy\\xb4k\\xe4\\x1ay\\x08\\x11ENN-F\\xaf~\\xb1\\xdbjUNN\\xa0\\x85$\\xd3\\xba\\xdb\\xa8$'\n",
    "    s0 = b\"\" #246, 149, 155, 198\n",
    "    # iv = out[:16]\n",
    "    ct = out[16:]\n",
    "    ct0 = ct[:16]\n",
    "    iv = ct0\n",
    "    key = b\"\"\n",
    "    for j in range(16):\n",
    "        _iv = imap(test2, 256, [r]*256, [s0]*256).index(True)\n",
    "        s0 = bytes([(_iv ^ (len(s0)+1))]) + s0\n",
    "        key = bytes([((_iv ^ (len(s0))) ^ iv[-len(s0)])]) + key\n",
    "        print(s0, key)\n",
    "    return s0, key\n"
   ]
  },
  {
   "cell_type": "code",
   "execution_count": 5,
   "metadata": {},
   "outputs": [
    {
     "name": "stderr",
     "output_type": "stream",
     "text": [
      "100%|██████████| 256/256 [00:42<00:00,  6.08it/s]\n"
     ]
    },
    {
     "name": "stdout",
     "output_type": "stream",
     "text": [
      "b'\\xd5' b'\\x93'\n"
     ]
    },
    {
     "name": "stderr",
     "output_type": "stream",
     "text": [
      "100%|██████████| 256/256 [00:42<00:00,  6.07it/s]\n"
     ]
    },
    {
     "name": "stdout",
     "output_type": "stream",
     "text": [
      "b'2\\xd5' b'\\x1f\\x93'\n"
     ]
    },
    {
     "name": "stderr",
     "output_type": "stream",
     "text": [
      "100%|██████████| 256/256 [00:42<00:00,  6.08it/s]\n"
     ]
    },
    {
     "name": "stdout",
     "output_type": "stream",
     "text": [
      "b'\\xa32\\xd5' b'\\xed\\x1f\\x93'\n"
     ]
    },
    {
     "name": "stderr",
     "output_type": "stream",
     "text": [
      "100%|██████████| 256/256 [00:42<00:00,  6.08it/s]\n"
     ]
    },
    {
     "name": "stdout",
     "output_type": "stream",
     "text": [
      "b'\\xea\\xa32\\xd5' b'\\xa4\\xed\\x1f\\x93'\n"
     ]
    },
    {
     "name": "stderr",
     "output_type": "stream",
     "text": [
      "100%|██████████| 256/256 [00:42<00:00,  6.07it/s]\n"
     ]
    },
    {
     "name": "stdout",
     "output_type": "stream",
     "text": [
      "b'!\\xea\\xa32\\xd5' b'd\\xa4\\xed\\x1f\\x93'\n"
     ]
    },
    {
     "name": "stderr",
     "output_type": "stream",
     "text": [
      "100%|██████████| 256/256 [00:42<00:00,  6.08it/s]\n"
     ]
    },
    {
     "name": "stdout",
     "output_type": "stream",
     "text": [
      "b'\\xc2!\\xea\\xa32\\xd5' b'\\xd3d\\xa4\\xed\\x1f\\x93'\n"
     ]
    },
    {
     "name": "stderr",
     "output_type": "stream",
     "text": [
      "100%|██████████| 256/256 [00:42<00:00,  6.08it/s]\n"
     ]
    },
    {
     "name": "stdout",
     "output_type": "stream",
     "text": [
      "b'\\xfc\\xc2!\\xea\\xa32\\xd5' b'\\xf4\\xd3d\\xa4\\xed\\x1f\\x93'\n"
     ]
    },
    {
     "name": "stderr",
     "output_type": "stream",
     "text": [
      "100%|██████████| 256/256 [00:42<00:00,  6.08it/s]\n"
     ]
    },
    {
     "name": "stdout",
     "output_type": "stream",
     "text": [
      "b'\\x84\\xfc\\xc2!\\xea\\xa32\\xd5' b'\\xfd\\xf4\\xd3d\\xa4\\xed\\x1f\\x93'\n"
     ]
    },
    {
     "name": "stderr",
     "output_type": "stream",
     "text": [
      "100%|██████████| 256/256 [00:42<00:00,  6.09it/s]\n"
     ]
    },
    {
     "name": "stdout",
     "output_type": "stream",
     "text": [
      "b'\\x1b\\x84\\xfc\\xc2!\\xea\\xa32\\xd5' b'\\x01\\xfd\\xf4\\xd3d\\xa4\\xed\\x1f\\x93'\n"
     ]
    },
    {
     "name": "stderr",
     "output_type": "stream",
     "text": [
      "100%|██████████| 256/256 [00:42<00:00,  6.08it/s]\n"
     ]
    },
    {
     "name": "stdout",
     "output_type": "stream",
     "text": [
      "b'\\xdf\\x1b\\x84\\xfc\\xc2!\\xea\\xa32\\xd5' b';\\x01\\xfd\\xf4\\xd3d\\xa4\\xed\\x1f\\x93'\n"
     ]
    },
    {
     "name": "stderr",
     "output_type": "stream",
     "text": [
      "100%|██████████| 256/256 [00:42<00:00,  6.07it/s]\n"
     ]
    },
    {
     "name": "stdout",
     "output_type": "stream",
     "text": [
      "b'\\xa3\\xdf\\x1b\\x84\\xfc\\xc2!\\xea\\xa32\\xd5' b'\\xc8;\\x01\\xfd\\xf4\\xd3d\\xa4\\xed\\x1f\\x93'\n"
     ]
    },
    {
     "name": "stderr",
     "output_type": "stream",
     "text": [
      "100%|██████████| 256/256 [00:42<00:00,  6.08it/s]\n"
     ]
    },
    {
     "name": "stdout",
     "output_type": "stream",
     "text": [
      "b'\\x00\\xa3\\xdf\\x1b\\x84\\xfc\\xc2!\\xea\\xa32\\xd5' b'\\xb4\\xc8;\\x01\\xfd\\xf4\\xd3d\\xa4\\xed\\x1f\\x93'\n"
     ]
    },
    {
     "name": "stderr",
     "output_type": "stream",
     "text": [
      "100%|██████████| 256/256 [00:42<00:00,  6.08it/s]\n"
     ]
    },
    {
     "name": "stdout",
     "output_type": "stream",
     "text": [
      "b'&\\x00\\xa3\\xdf\\x1b\\x84\\xfc\\xc2!\\xea\\xa32\\xd5' b'_\\xb4\\xc8;\\x01\\xfd\\xf4\\xd3d\\xa4\\xed\\x1f\\x93'\n"
     ]
    },
    {
     "name": "stderr",
     "output_type": "stream",
     "text": [
      "100%|██████████| 256/256 [00:42<00:00,  6.08it/s]\n"
     ]
    },
    {
     "name": "stdout",
     "output_type": "stream",
     "text": [
      "b'\\x9d&\\x00\\xa3\\xdf\\x1b\\x84\\xfc\\xc2!\\xea\\xa32\\xd5' b'!_\\xb4\\xc8;\\x01\\xfd\\xf4\\xd3d\\xa4\\xed\\x1f\\x93'\n"
     ]
    },
    {
     "name": "stderr",
     "output_type": "stream",
     "text": [
      "100%|██████████| 256/256 [00:42<00:00,  6.08it/s]\n"
     ]
    },
    {
     "name": "stdout",
     "output_type": "stream",
     "text": [
      "b'G\\x9d&\\x00\\xa3\\xdf\\x1b\\x84\\xfc\\xc2!\\xea\\xa32\\xd5' b'f!_\\xb4\\xc8;\\x01\\xfd\\xf4\\xd3d\\xa4\\xed\\x1f\\x93'\n"
     ]
    },
    {
     "name": "stderr",
     "output_type": "stream",
     "text": [
      "100%|██████████| 256/256 [00:42<00:00,  6.08it/s]"
     ]
    },
    {
     "name": "stdout",
     "output_type": "stream",
     "text": [
      "b'\\xa2G\\x9d&\\x00\\xa3\\xdf\\x1b\\x84\\xfc\\xc2!\\xea\\xa32\\xd5' b'\\x93f!_\\xb4\\xc8;\\x01\\xfd\\xf4\\xd3d\\xa4\\xed\\x1f\\x93'\n"
     ]
    },
    {
     "name": "stderr",
     "output_type": "stream",
     "text": [
      "\n"
     ]
    },
    {
     "data": {
      "text/plain": [
       "(b'\\xa2G\\x9d&\\x00\\xa3\\xdf\\x1b\\x84\\xfc\\xc2!\\xea\\xa32\\xd5',\n",
       " b'\\x93f!_\\xb4\\xc8;\\x01\\xfd\\xf4\\xd3d\\xa4\\xed\\x1f\\x93')"
      ]
     },
     "execution_count": 5,
     "metadata": {},
     "output_type": "execute_result"
    }
   ],
   "source": [
    "get_vals2()"
   ]
  }
 ],
 "metadata": {
  "kernelspec": {
   "display_name": ".venv",
   "language": "python",
   "name": "python3"
  },
  "language_info": {
   "codemirror_mode": {
    "name": "ipython",
    "version": 3
   },
   "file_extension": ".py",
   "mimetype": "text/x-python",
   "name": "python",
   "nbconvert_exporter": "python",
   "pygments_lexer": "ipython3",
   "version": "3.11.6"
  }
 },
 "nbformat": 4,
 "nbformat_minor": 2
}
