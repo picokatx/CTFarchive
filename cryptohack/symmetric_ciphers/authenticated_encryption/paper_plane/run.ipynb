{
 "cells": [
  {
   "cell_type": "markdown",
   "metadata": {},
   "source": [
    "pkcs7 padding oracle\n",
    "m0 and c0 can be nulled to make the operation be only aes dec\n",
    "\n",
    "x = dec(block)\n",
    "x = AesIge._xor_blocks(x, last_block_ciphertext)"
   ]
  },
  {
   "cell_type": "code",
   "execution_count": 1,
   "metadata": {},
   "outputs": [],
   "source": [
    "from cryptolib import xor, repeat_xor\n",
    "from cryptolib import encrypt_flag, send_msg\n",
    "from cryptolib import KEY, FLAG, PLAIN\n",
    "from cryptolib import pool\n",
    "from Crypto.Cipher import AES"
   ]
  },
  {
   "cell_type": "code",
   "execution_count": 2,
   "metadata": {},
   "outputs": [],
   "source": [
    "c0, ciphertext, m0 = encrypt_flag()"
   ]
  },
  {
   "cell_type": "code",
   "execution_count": 28,
   "metadata": {},
   "outputs": [
    {
     "data": {
      "application/vnd.jupyter.widget-view+json": {
       "model_id": "41f952aa46034be7b0b74e3fb157aba3",
       "version_major": 2,
       "version_minor": 0
      },
      "text/plain": [
       "  0%|          | 0/256 [00:00<?, ?it/s]"
      ]
     },
     "metadata": {},
     "output_type": "display_data"
    }
   ],
   "source": [
    "def test(i: int):\n",
    "    from cryptolib import padding_oracle, xor\n",
    "    found = [114, 32, 232, 18, 246, 149, 155, 198] #246, 149, 155, 198\n",
    "    payload = bytes([found[i]^(len(found)+1) for i in range(len(found))])\n",
    "    c0 = b'\\x1e\\x1c\\xb7\\rJ\\xaf\\x8ft\\xd8E\\xe8\\xf8_cj\"'\n",
    "    m0 = b'\\xc8\\xdd@\\xbeT\\xe5Y\\x06\\x88B5\\x1cr }\\xfd'\n",
    "    ciphertext = b'\\xdd-%\\xc1\\xe6\\x16H\\xb6\\xa1\\xcb\\xab\\x88Fn\\x83.\\x17X\\x16;h\\x16\\\\\\xf8\\xc5\\xef\\xd2\\x1a\\xf5h+\\xd5'\n",
    "    return padding_oracle(\n",
    "        xor(ciphertext[:16], m0).hex(), \n",
    "        m0.hex(), \n",
    "        (b'\\x00'*(15-len(found)) + bytes([i]) + payload).hex()\n",
    "    ) # + b'\\xc4'\n",
    "temp = pool(test, 256, 16)"
   ]
  },
  {
   "cell_type": "code",
   "execution_count": 27,
   "metadata": {},
   "outputs": [
    {
     "data": {
      "text/plain": [
       "['\\x06', 'ø', '\\xad', 'ú', '\\x0e', 'Ê', 'ø', '¬']"
      ]
     },
     "execution_count": 27,
     "metadata": {},
     "output_type": "execute_result"
    }
   ],
   "source": [
    "found = [114, 32, 232, 18, 246, 149, 155, 198]\n",
    "[chr((found[i])^c0[15-(len(found)-i)]) for i in range(len(found))]"
   ]
  },
  {
   "cell_type": "code",
   "execution_count": 29,
   "metadata": {},
   "outputs": [
    {
     "ename": "ValueError",
     "evalue": "True is not in list",
     "output_type": "error",
     "traceback": [
      "\u001b[1;31m---------------------------------------------------------------------------\u001b[0m",
      "\u001b[1;31mValueError\u001b[0m                                Traceback (most recent call last)",
      "Cell \u001b[1;32mIn[29], line 1\u001b[0m\n\u001b[1;32m----> 1\u001b[0m \u001b[43mtemp\u001b[49m\u001b[38;5;241;43m.\u001b[39;49m\u001b[43mindex\u001b[49m\u001b[43m(\u001b[49m\u001b[38;5;28;43;01mTrue\u001b[39;49;00m\u001b[43m)\u001b[49m \u001b[38;5;241m^\u001b[39m \u001b[38;5;241m0x08\u001b[39m\n",
      "\u001b[1;31mValueError\u001b[0m: True is not in list"
     ]
    }
   ],
   "source": [
    "temp.index(True) ^ 0x08"
   ]
  },
  {
   "cell_type": "code",
   "execution_count": 185,
   "metadata": {},
   "outputs": [
    {
     "data": {
      "text/plain": [
       "196"
      ]
     },
     "execution_count": 185,
     "metadata": {},
     "output_type": "execute_result"
    }
   ],
   "source": [
    "(153 ^ 0x01) ^ 0x02"
   ]
  },
  {
   "cell_type": "code",
   "execution_count": 188,
   "metadata": {},
   "outputs": [
    {
     "data": {
      "text/plain": [
       "b'\\xc4'"
      ]
     },
     "execution_count": 188,
     "metadata": {},
     "output_type": "execute_result"
    }
   ],
   "source": [
    "bytes([196])"
   ]
  },
  {
   "cell_type": "code",
   "execution_count": null,
   "metadata": {},
   "outputs": [],
   "source": [
    "[199, 153, ]"
   ]
  },
  {
   "cell_type": "code",
   "execution_count": 122,
   "metadata": {},
   "outputs": [
    {
     "data": {
      "text/plain": [
       "b'\\x00'"
      ]
     },
     "execution_count": 122,
     "metadata": {},
     "output_type": "execute_result"
    }
   ],
   "source": [
    "bytes([temp[2:].index(True)])"
   ]
  },
  {
   "cell_type": "code",
   "execution_count": 115,
   "metadata": {},
   "outputs": [
    {
     "data": {
      "text/plain": [
       "198"
      ]
     },
     "execution_count": 115,
     "metadata": {},
     "output_type": "execute_result"
    }
   ],
   "source": [
    "temp.index(True) ^ 0x01"
   ]
  },
  {
   "cell_type": "code",
   "execution_count": 86,
   "metadata": {},
   "outputs": [
    {
     "name": "stdout",
     "output_type": "stream",
     "text": [
      "b'Q,I#\\xc7\\xfc>P\\xd7\\xab\\x9d\\xac\\x92<\\xeeu'\n",
      "b'3\\xd3\\x8a\\xc4\\xefN\\x10\\xbd\\x1c\\x81\\x19s\\x07\\xe9\\xad\\xf7'\n"
     ]
    }
   ],
   "source": [
    "c = AES.new(KEY, AES.MODE_ECB)\n",
    "# xor(c.decrypt(xor(b\"crypto{aaaaaaaaa\", c0)), (b\"crypto{\"+b'\\x00'*9))\n",
    "# xor(c.decrypt(xor(b\"crypto{aaaaaaaaa\", c0)), (b\"crypto{\"+b'\\x00'*9))\n",
    "print(xor(c.decrypt(b\"crypto{aaaaaaaaa\"), b\"crypto{aaaaaaaaa\"))\n",
    "print(xor(c.decrypt(b\"crypto{aaaaaaaab\"), b\"crypto{aaaaaaaab\"))"
   ]
  },
  {
   "cell_type": "code",
   "execution_count": 88,
   "metadata": {},
   "outputs": [
    {
     "data": {
      "text/plain": [
       "b'\\xdd-%\\xc1\\xe6\\x16H\\xb6\\xa1\\xcb\\xab\\x88Fn\\x83.\\xdf\\x85V\\x85<\\xf3\\x05\\xfeM\\xad\\xe7\\x06\\x87HV('"
      ]
     },
     "execution_count": 88,
     "metadata": {},
     "output_type": "execute_result"
    }
   ],
   "source": [
    "xor(ciphertext, m0)"
   ]
  },
  {
   "cell_type": "code",
   "execution_count": 91,
   "metadata": {},
   "outputs": [
    {
     "data": {
      "text/plain": [
       "False"
      ]
     },
     "execution_count": 91,
     "metadata": {},
     "output_type": "execute_result"
    }
   ],
   "source": [
    "from cryptolib import padding_oracle\n",
    "padding_oracle(b'}n\\xce}>\\xc0\\xf4'.hex(), (b'00'*16).hex(), (b'00'*16).hex())"
   ]
  },
  {
   "cell_type": "code",
   "execution_count": 97,
   "metadata": {},
   "outputs": [
    {
     "name": "stdout",
     "output_type": "stream",
     "text": [
      "b'crypto{a\\x08\\x08\\x08\\x08\\x08\\x08\\x08\\x08'\n",
      "b'\\xd5o\\xc5\\xbc[\\xcc\\x0ep]\\x82T\\xd9\\t\\x9a\\xe8\\xc4'\n",
      "b'\\xef\\xe2\\xd2\\xb4G\\xae\\xa3.\\xa1\\xd4Lx\\xa7\\x8a\\xc5\\x85'\n"
     ]
    }
   ],
   "source": [
    "from Crypto.Util.Padding import pad, unpad\n",
    "ec = AES.new(KEY, AES.MODE_ECB)\n",
    "dc = AES.new(KEY, AES.MODE_ECB)\n",
    "print(dc.decrypt(ec.encrypt(pad(b\"crypto{a\", 16))))\n",
    "print(xor(ec.encrypt(pad(b\"crypto{a\", 16)), pad(b\"crypto{a\", 16)))\n",
    "print(xor(ec.encrypt(pad(b\"test\", 16)), pad(b\"test\", 16)))"
   ]
  },
  {
   "cell_type": "code",
   "execution_count": 108,
   "metadata": {},
   "outputs": [
    {
     "name": "stdout",
     "output_type": "stream",
     "text": [
      "b\"\\xa05'\\xd64\\xd2\\xca'7,\\\\c\\x01\\x0ey\\xf9\"\n",
      "b'\\x9d$\\x9b#/\\xf2\\xbe\\xcfE\\xfc\\xc4\\xff\\xb5\\xb7x\\xd6'\n"
     ]
    }
   ],
   "source": [
    "ec = AES.new(KEY, AES.MODE_ECB)\n",
    "dc = AES.new(KEY, AES.MODE_ECB)\n",
    "print(dc.encrypt(ec.encrypt(FLAG)))\n",
    "print(ec.encrypt(FLAG[:-1]+b\"b\"))"
   ]
  },
  {
   "cell_type": "code",
   "execution_count": null,
   "metadata": {},
   "outputs": [],
   "source": []
  }
 ],
 "metadata": {
  "kernelspec": {
   "display_name": ".venv",
   "language": "python",
   "name": "python3"
  },
  "language_info": {
   "codemirror_mode": {
    "name": "ipython",
    "version": 3
   },
   "file_extension": ".py",
   "mimetype": "text/x-python",
   "name": "python",
   "nbconvert_exporter": "python",
   "pygments_lexer": "ipython3",
   "version": "3.11.6"
  }
 },
 "nbformat": 4,
 "nbformat_minor": 2
}
