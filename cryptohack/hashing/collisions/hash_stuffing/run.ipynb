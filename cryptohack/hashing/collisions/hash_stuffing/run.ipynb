{
 "cells": [
  {
   "cell_type": "code",
   "execution_count": 1,
   "metadata": {},
   "outputs": [
    {
     "name": "stdout",
     "output_type": "stream",
     "text": [
      "b\"Howdy! I'm Flowey the flower! You're new to the underground, aren'tcha? Golly, you must be so confused. Someone ought to teach you how things work around here! I guess little old me will have to do. Ready? Here we go!\" 348701183c9dbd154166ae27009c235f868a3b20afc3bcc426c890109c19a075\n",
      "b'\\x90\\xcf\\xc6\\x12\\x1agl\\xca\\x12\\xd1\\xdd\\x07\\x8b@-\\xd2\\xde\\xee\\xb3\\xb37\\xf8\\xf1\\tA\\xeb\\xb0\\xe9\\xc8\\xbfx\\xd3' 348701183c9dbd154166ae27009c235f868a3b20afc3bcc426c890109c19a075\n"
     ]
    }
   ],
   "source": [
    "from cryptolib import repeat_xor as xor\n",
    "BLOCK_SIZE = 32\n",
    "\n",
    "# Nothing up my sleeve numbers (ref: Dual_EC_DRBG P-256 coordinates)\n",
    "W = [0x6b17d1f2, 0xe12c4247, 0xf8bce6e5, 0x63a440f2, 0x77037d81, 0x2deb33a0, 0xf4a13945, 0xd898c296]\n",
    "X = [0x4fe342e2, 0xfe1a7f9b, 0x8ee7eb4a, 0x7c0f9e16, 0x2bce3357, 0x6b315ece, 0xcbb64068, 0x37bf51f5]\n",
    "Y = [0xc97445f4, 0x5cdef9f0, 0xd3e05e1e, 0x585fc297, 0x235b82b5, 0xbe8ff3ef, 0xca67c598, 0x52018192]\n",
    "Z = [0xb28ef557, 0xba31dfcb, 0xdd21ac46, 0xe2a91e3c, 0x304f44cb, 0x87058ada, 0x2cb81515, 0x1e610046]\n",
    "\n",
    "# Lets work with bytes instead!\n",
    "W_bytes = b''.join([x.to_bytes(4,'big') for x in W])\n",
    "X_bytes = b''.join([x.to_bytes(4,'big') for x in X])\n",
    "Y_bytes = b''.join([x.to_bytes(4,'big') for x in Y])\n",
    "Z_bytes = b''.join([x.to_bytes(4,'big') for x in Z])\n",
    "\n",
    "def pad(data):\n",
    "    padding_len = (BLOCK_SIZE - len(data)) % BLOCK_SIZE\n",
    "    return data + bytes([padding_len]*padding_len)\n",
    "\n",
    "def blocks(data):\n",
    "    return [data[i:(i+BLOCK_SIZE)] for i in range(0,len(data),BLOCK_SIZE)]\n",
    "\n",
    "def rotate_left(data, x):\n",
    "    return data[x:] + data[:x]\n",
    "\n",
    "def rotate_right(data, x):\n",
    "    return data[-x:] + data[:-x]\n",
    "\n",
    "def scramble_block(block):\n",
    "    for _ in range(40):\n",
    "        block = xor(W_bytes, block)\n",
    "        block = rotate_left(block, 6)\n",
    "        block = xor(X_bytes, block)\n",
    "        block = rotate_right(block, 17)\n",
    "    return block\n",
    "\n",
    "def unscramble_block(block):\n",
    "    for _ in range(40):\n",
    "        block = rotate_left(block, 17)\n",
    "        block = xor(X_bytes, block)\n",
    "        block = rotate_right(block, 6)\n",
    "        block = xor(W_bytes, block)\n",
    "    return block\n",
    "\n",
    "def cryptohash(msg):\n",
    "    initial_state = xor(Y_bytes, Z_bytes)\n",
    "    msg_padded = pad(msg)\n",
    "    msg_blocks = blocks(msg_padded)\n",
    "    for i,b in enumerate(msg_blocks):\n",
    "        mix_in = scramble_block(b)\n",
    "        for _ in range(i):\n",
    "            mix_in = rotate_right(mix_in, i+11)\n",
    "            mix_in = xor(mix_in, X_bytes)\n",
    "            mix_in = rotate_left(mix_in, i+6)\n",
    "        initial_state = xor(initial_state,mix_in)\n",
    "    return initial_state.hex()\n",
    "def generate_collision(msg: str):\n",
    "    assert len(msg) >= 32, \"msg must be at least 32 bytes long for collision to exist\"\n",
    "    initial_state = b'{\\xfa\\xb0\\xa3\\xe6\\xef&;\\x0e\\xc1\\xf2X\\xba\\xf6\\xdc\\xab\\x13\\x14\\xc6~9\\x8ay5\\xe6\\xdf\\xd0\\x8dL`\\x81\\xd4'\n",
    "    msg1 = msg.encode()\n",
    "    msg2 = unscramble_block(xor(initial_state, bytes.fromhex(cryptohash(msg1))))\n",
    "    return msg1, msg2\n",
    "msg1, msg2 = generate_collision(\"Howdy! I'm Flowey the flower! You're new to the underground, aren'tcha? Golly, you must be so confused. Someone ought to teach you how things work around here! I guess little old me will have to do. Ready? Here we go!\")\n",
    "print(msg1, cryptohash(msg1))\n",
    "print(msg2, cryptohash(msg2))"
   ]
  },
  {
   "cell_type": "code",
   "execution_count": 2,
   "metadata": {},
   "outputs": [
    {
     "data": {
      "text/plain": [
       "{'flag': \"Oh no! Looks like we have some more work to do... As promised, here's your flag: crypto{Always_add_padding_even_if_its_a_whole_block!!!}\"}"
      ]
     },
     "execution_count": 2,
     "metadata": {},
     "output_type": "execute_result"
    }
   ],
   "source": [
    "from pwnlib.tubes.remote import remote\n",
    "from cryptolib import json_send, json_recv, repeat_xor\n",
    "r = remote(\"socket.cryptohack.org\", 13405)\n",
    "r.recvuntil(b\"Please send two hex encoded messages m1, m2 formatted in JSON: \")\n",
    "json_send(r, {\"m1\": msg1.hex(), \"m2\": msg2.hex()})\n",
    "json_recv(r)\n",
    "# r.recvline()\n",
    "# json_send(r, {\"document\": open(\"message2.bin\", 'rb').read().hex()})\n",
    "# r.recvline()"
   ]
  }
 ],
 "metadata": {
  "kernelspec": {
   "display_name": ".venv",
   "language": "python",
   "name": "python3"
  },
  "language_info": {
   "codemirror_mode": {
    "name": "ipython",
    "version": 3
   },
   "file_extension": ".py",
   "mimetype": "text/x-python",
   "name": "python",
   "nbconvert_exporter": "python",
   "pygments_lexer": "ipython3",
   "version": "3.11.6"
  }
 },
 "nbformat": 4,
 "nbformat_minor": 2
}
