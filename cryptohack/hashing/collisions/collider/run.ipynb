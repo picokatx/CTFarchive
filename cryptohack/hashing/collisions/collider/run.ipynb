{
 "cells": [
  {
   "cell_type": "code",
   "execution_count": 5,
   "metadata": {},
   "outputs": [
    {
     "data": {
      "text/plain": [
       "b'{\"error\": \"Document system crash, leaking flag: crypto{m0re_th4n_ju5t_p1g30nh0le_pr1nc1ple}\"}\\n'"
      ]
     },
     "execution_count": 5,
     "metadata": {},
     "output_type": "execute_result"
    }
   ],
   "source": [
    "from pwnlib.tubes.remote import remote\n",
    "from cryptolib import json_send, json_recv\n",
    "r = remote(\"socket.cryptohack.org\", 13389)\n",
    "r.recvline()\n",
    "json_send(r, {\"document\": open(\"message1.bin\", 'rb').read().hex()})\n",
    "r.recvline()\n",
    "json_send(r, {\"document\": open(\"message2.bin\", 'rb').read().hex()})\n",
    "r.recvline()"
   ]
  }
 ],
 "metadata": {
  "kernelspec": {
   "display_name": ".venv",
   "language": "python",
   "name": "python3"
  },
  "language_info": {
   "codemirror_mode": {
    "name": "ipython",
    "version": 3
   },
   "file_extension": ".py",
   "mimetype": "text/x-python",
   "name": "python",
   "nbconvert_exporter": "python",
   "pygments_lexer": "ipython3",
   "version": "3.11.6"
  }
 },
 "nbformat": 4,
 "nbformat_minor": 2
}
