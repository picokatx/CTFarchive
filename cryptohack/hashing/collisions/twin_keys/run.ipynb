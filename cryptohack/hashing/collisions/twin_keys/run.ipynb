{
 "cells": [
  {
   "cell_type": "code",
   "execution_count": 10,
   "metadata": {},
   "outputs": [
    {
     "name": "stdout",
     "output_type": "stream",
     "text": [
      "{'msg': 'Key inserted'}\n",
      "{'msg': 'Key inserted'}\n",
      "{'error': 'The keys does not match'}\n"
     ]
    }
   ],
   "source": [
    "from pwnlib.tubes.remote import remote\n",
    "from cryptolib import json_send, json_recv\n",
    "r = remote(\"socket.cryptohack.org\", 13397)\n",
    "r.recvuntil(b\"Can you help find our lost keys to unlock the safe?\\n\")\n",
    "json_send(r, {\"option\": \"insert_key\", \"key\": b\"CryptoHack Secure Safe \".hex()})\n",
    "print(json_recv(r))\n",
    "json_send(r, {\"option\": \"insert_key\", \"key\": \"ba\"})\n",
    "print(json_recv(r))\n",
    "json_send(r, {\"option\": \"unlock\"})\n",
    "print(json_recv(r))"
   ]
  },
  {
   "cell_type": "code",
   "execution_count": 2,
   "metadata": {},
   "outputs": [
    {
     "name": "stdout",
     "output_type": "stream",
     "text": [
      "008ee33a9d58b51cfeb425b0959121c9\n",
      "008ee33a9d58b51cfeb425b0959121c9\n"
     ]
    }
   ],
   "source": [
    "from Crypto.Util.number import bytes_to_long\n",
    "from Crypto.Hash import MD5\n",
    "msg1 = open(\"message1.bin\", 'rb').read()\n",
    "msg2 = open(\"message2.bin\", 'rb').read()\n",
    "print(MD5.new(msg1).hexdigest())\n",
    "print(MD5.new(msg2).hexdigest())"
   ]
  },
  {
   "cell_type": "code",
   "execution_count": 4,
   "metadata": {},
   "outputs": [
    {
     "data": {
      "text/plain": [
       "'f349f50a126740383e9a76b6cae3d746'"
      ]
     },
     "execution_count": 4,
     "metadata": {},
     "output_type": "execute_result"
    }
   ],
   "source": [
    "MD5.new(b\"CryptoHack Secure Safe\").hexdigest()"
   ]
  },
  {
   "cell_type": "code",
   "execution_count": null,
   "metadata": {},
   "outputs": [],
   "source": []
  }
 ],
 "metadata": {
  "kernelspec": {
   "display_name": ".venv",
   "language": "python",
   "name": "python3"
  },
  "language_info": {
   "codemirror_mode": {
    "name": "ipython",
    "version": 3
   },
   "file_extension": ".py",
   "mimetype": "text/x-python",
   "name": "python",
   "nbconvert_exporter": "python",
   "pygments_lexer": "ipython3",
   "version": "3.11.6"
  }
 },
 "nbformat": 4,
 "nbformat_minor": 2
}
