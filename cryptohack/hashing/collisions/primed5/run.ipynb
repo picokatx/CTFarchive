{
 "cells": [
  {
   "cell_type": "code",
   "execution_count": null,
   "metadata": {},
   "outputs": [],
   "source": [
    "# goal: pass a signature of a hashed composite number to check"
   ]
  },
  {
   "cell_type": "code",
   "execution_count": 10,
   "metadata": {},
   "outputs": [
    {
     "data": {
      "text/plain": [
       "RsaKey(n=130536157427813017823418191924632476476487748599325067005927790670320075403104634800778512784217138600329821127645533928869702088657523001600638832303102854001228627311509282391867811884755063377844121263716260439144584305348285109390063390367657654610909159060388417219203772057210729959981058120036202349761, e=65537, d=772815799960197307101122396001608265146058660856281581370828429438091295854320434299740039371290260111509080329073152027121235491388359623129649921931182362182586423162615939243043068442256812157838343523628620150586533622444311179904576560056605541090114385139749962329628138993363187409309278898918740673, p=10756559624246935509024383388952480589111324236501509603138708828332807322377811495807102358869655903931374175145165118310440741945138942346393722477976221, q=12135493316428469750660857326085624513703663566412959108643711555833329280201172881413119861266020925778049863289370588452994798570353915252419101256570741, u=3560627654944290840815498525208819848790858137235538154218372698970668816054860031384337013443384911268523643443885274912979683825620444419801531485790046)"
      ]
     },
     "execution_count": 10,
     "metadata": {},
     "output_type": "execute_result"
    }
   ],
   "source": [
    "from Crypto.PublicKey import RSA\n",
    "from Crypto.Hash import MD5\n",
    "from Crypto.Signature import pkcs1_15\n",
    "from Crypto.Util.number import long_to_bytes, isPrime\n",
    "\n",
    "key = RSA.generate(1024)\n",
    "sig_scheme = pkcs1_15.new(key)\n",
    "key"
   ]
  },
  {
   "cell_type": "code",
   "execution_count": 32,
   "metadata": {},
   "outputs": [
    {
     "name": "stdout",
     "output_type": "stream",
     "text": [
      "b'\\xb4r\\xcf\\x05\\xd4? \\xf4\\xa5)\\xd3\\xda;\\xceDkm\\xce\\xbdn\\x82\\xed8\\xf7\\xd3%\\x99\\x9f\\x8b\\x8d%,y/H\\x80\\x82\\x8e\\xb0\\x8c\\xf1\\x98_\\xefM\\xc3@\\x07L\\x85%kaS\\xeaEkw3\\x8eO\\xf0\\x84B\\x85~;ZH\\x87H\\x832VO\\xe7\\xf7\\xd4m\\x87\\xfe\\xfc`\\x86\\xd9\\x02\\x03m\\xc1\\xab\\xd7\\xb9o\\xbf%=]\\xb5\\xf4\\x99c\\xbb\"|.\\xde\\x99\\xa9S\\xba=\\x0e\\xfc\\xe7\"\\xf6\\xe8\\xfd\\xca\\x12?|\\x92\\xa1K\\xd3\\x99\\xe5'\n",
      "b'\\xb4r\\xcf\\x05\\xd4? \\xf4\\xa5)\\xd3\\xda;\\xceDkm\\xce\\xbdn\\x82\\xed8\\xf7\\xd3%\\x99\\x9f\\x8b\\x8d%,y/H\\x80\\x82\\x8e\\xb0\\x8c\\xf1\\x98_\\xefM\\xc3@\\x07L\\x85%kaS\\xeaEkw3\\x8eO\\xf0\\x84B\\x85~;ZH\\x87H\\x832VO\\xe7\\xf7\\xd4m\\x87\\xfe\\xfc`\\x86\\xd9\\x02\\x03m\\xc1\\xab\\xd7\\xb9o\\xbf%=]\\xb5\\xf4\\x99c\\xbb\"|.\\xde\\x99\\xa9S\\xba=\\x0e\\xfc\\xe7\"\\xf6\\xe8\\xfd\\xca\\x12?|\\x92\\xa1K\\xd3\\x99\\xe5'\n"
     ]
    }
   ],
   "source": [
    "from Crypto.Util.number import bytes_to_long\n",
    "msg1 = open(\"message1.bin\", 'rb').read()\n",
    "msg2 = open(\"message2.bin\", 'rb').read()\n",
    "z = 1\n",
    "while True:\n",
    "    prime = bytes_to_long(msg1 + long_to_bytes(z))\n",
    "    composite = bytes_to_long(msg2 + long_to_bytes(z))\n",
    "    if isPrime(prime) and not isPrime(composite):\n",
    "        break\n",
    "    z += 2\n",
    "print(sig_scheme.sign(MD5.new(long_to_bytes(prime))))\n",
    "print(sig_scheme.sign(MD5.new(long_to_bytes(composite))))"
   ]
  },
  {
   "cell_type": "code",
   "execution_count": 45,
   "metadata": {},
   "outputs": [
    {
     "name": "stdout",
     "output_type": "stream",
     "text": [
      "1\n",
      "7\n",
      "11\n",
      "17\n",
      "71\n",
      "77\n"
     ]
    }
   ],
   "source": [
    "for i in range(1,100):\n",
    "    if (composite%i==0): print(i)"
   ]
  },
  {
   "cell_type": "code",
   "execution_count": 42,
   "metadata": {},
   "outputs": [
    {
     "data": {
      "text/plain": [
       "{'msg': 'Valid signature. First byte of flag: crypto{MD5_5uck5_p4rt_tw0}'}"
      ]
     },
     "execution_count": 42,
     "metadata": {},
     "output_type": "execute_result"
    }
   ],
   "source": [
    "from pwnlib.tubes.remote import remote\n",
    "from cryptolib import json_send, json_recv\n",
    "r = remote(\"socket.cryptohack.org\", 13392)\n",
    "r.recvuntil(b\"Primality checking is expensive so I made a service that signs primes, allowing anyone to quickly check if a number is prime\\n\")\n",
    "json_send(r, {\"option\": \"sign\", \"prime\": prime})\n",
    "signature = json_recv(r)['signature']\n",
    "json_send(r, {\"option\": \"check\", \"prime\": composite, \"signature\": signature, \"a\": 71})\n",
    "json_recv(r)"
   ]
  }
 ],
 "metadata": {
  "kernelspec": {
   "display_name": ".venv",
   "language": "python",
   "name": "python3"
  },
  "language_info": {
   "codemirror_mode": {
    "name": "ipython",
    "version": 3
   },
   "file_extension": ".py",
   "mimetype": "text/x-python",
   "name": "python",
   "nbconvert_exporter": "python",
   "pygments_lexer": "ipython3",
   "version": "3.11.6"
  }
 },
 "nbformat": 4,
 "nbformat_minor": 2
}
