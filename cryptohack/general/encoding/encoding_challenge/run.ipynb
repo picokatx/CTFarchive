{
 "cells": [
  {
   "cell_type": "code",
   "execution_count": 23,
   "metadata": {},
   "outputs": [
    {
     "name": "stdout",
     "output_type": "stream",
     "text": [
      "utf-8 [105, 110, 115, 116, 105, 116, 117, 116, 105, 111, 110, 97, 108, 95, 112, 114, 111, 99, 101, 115, 115, 111, 114, 115, 95, 100, 105, 115, 112, 108, 97, 121, 115]\n",
      "base64 ZGlzdGFudF9waWFub19vZmZzaG9yZQ==\n",
      "utf-8 [108, 105, 102, 101, 116, 105, 109, 101, 95, 102, 97, 99, 105, 110, 103, 95, 117, 110, 115, 117, 98, 115, 99, 114, 105, 98, 101]\n",
      "bigint 0x646973636f5f736368656d615f636f726e77616c6c\n",
      "hex 747970696e675f6d69615f6e69676874\n",
      "hex 7368697070696e675f696e6469726563745f68756768\n",
      "bigint 0x6c6567616c6c795f696e6672617265645f6d6d\n",
      "hex 657870656e6469747572655f7368617265645f657870657274697365\n",
      "utf-8 [97, 100, 118, 105, 99, 101, 95, 99, 108, 105, 102, 102, 95, 111, 117, 116, 108, 101, 116, 115]\n",
      "rot13 ornire_haqb_cbegynaq\n",
      "bigint 0x6368616e67656c6f675f6e6f727468656173745f6f776e73\n",
      "rot13 cerfragvat_wncna_zrepunaqvfr\n",
      "hex 696e626f785f64656d6f6372617469635f6a61636b6574\n",
      "utf-8 [101, 120, 116, 101, 110, 100, 115, 95, 114, 101, 115, 105, 100, 101, 110, 116, 105, 97, 108, 95, 98, 105, 98, 108, 105, 111, 103, 114, 97, 112, 104, 121]\n",
      "rot13 sngure_cerffvat_purpxbhg\n",
      "bigint 0x617474656e645f67726f76655f6c6c\n",
      "utf-8 [99, 111, 117, 110, 116, 105, 101, 115, 95, 99, 111, 109, 98, 105, 110, 97, 116, 105, 111, 110, 115, 95, 114, 101, 109, 97, 105, 110, 115]\n",
      "rot13 wrna_rapbhentvat_fzbbgu\n",
      "utf-8 [102, 108, 111, 111, 114, 95, 100, 111, 122, 101, 110, 95, 112, 115, 121, 99, 104, 111, 108, 111, 103, 121]\n",
      "bigint 0x766f746572735f6b696c6c5f6272\n",
      "utf-8 [112, 114, 111, 118, 101, 110, 95, 101, 110, 116, 101, 114, 112, 114, 105, 115, 101, 95, 115, 117, 110]\n",
      "base64 cHJlc3Rvbl9yZl9vdmVyYWxs\n",
      "base64 ZmxhdF9jcmVla19pbmNsdWRlZA==\n",
      "bigint 0x65636f6e6f6d795f74656e645f656c656d656e74617279\n",
      "rot13 inhyg_fvzhyngvba_nhguragvpngvba\n",
      "utf-8 [116, 104, 111, 114, 111, 117, 103, 104, 95, 109, 120, 95, 117, 116, 99]\n",
      "rot13 fvpx_yof_zber\n",
      "utf-8 [118, 101, 95, 114, 97, 100, 105, 99, 97, 108, 95, 116, 115]\n",
      "bigint 0x737472696e67735f636173615f63616d636f7264657273\n",
      "base64 cXVvdGF0aW9uc19nb3JlX3Bhc3Npbmc=\n",
      "bigint 0x7669657765725f6d656e5f70617263656c\n",
      "base64 Y2xhcml0eV9kZXB0X2Vk\n",
      "base64 b2JfaGFyZGx5X3N0b3JhZ2U=\n",
      "hex 7375626a6563746976655f726570726573656e74696e675f7475746f7269616c73\n",
      "utf-8 [116, 121, 95, 115, 117, 103, 103, 101, 115, 116, 115, 95, 112, 97, 116, 101, 110, 116, 115]\n",
      "rot13 nffrffzrag_unaql_zrqvpngvba\n",
      "bigint 0x6c6967687465725f6f666673686f72655f6c696b656c69686f6f64\n",
      "rot13 fxvc_qrfvta_ergragvba\n",
      "base64 dHVuaW5nX3Byb2Zlc3Nvcl90ZW1wb3JhcmlseQ==\n",
      "hex 76617279696e675f666162756c6f75735f72656c6967696f6e73\n",
      "rot13 ernfbanoyr_he_zbqrengr\n",
      "rot13 inevnoyrf_fgernz_hey\n",
      "rot13 ybpny_erhavba_nguraf\n",
      "bigint 0x6f665f686561646c696e655f726e\n",
      "base64 b2tsYWhvbWFfc2Vla3NfaW5kaWNhdGlvbg==\n",
      "hex 6c69737470726963655f70656163655f626f7264657273\n",
      "base64 YWxidXF1ZXJxdWVfc3VzdGFpbmFibGVfZGF0YQ==\n",
      "bigint 0x636f616c5f77686963685f737570706c696564\n",
      "utf-8 [115, 97, 99, 114, 97, 109, 101, 110, 116, 111, 95, 109, 111, 114, 103, 97, 110, 95, 98, 117, 100, 103, 101, 116, 115]\n",
      "rot13 nfpvv_evpuneqf_bhgyvarq\n",
      "utf-8 [118, 105, 111, 108, 101, 110, 99, 101, 95, 109, 105, 115, 115, 105, 115, 115, 105, 112, 112, 105, 95, 108, 97, 98, 111, 117, 114]\n",
      "base64 cGFyYWxsZWxfY29ycHNfdHJhbnNhY3Rpb25z\n",
      "rot13 gernfhel_zrpunavfzf_sbeprq\n",
      "utf-8 [109, 97, 114, 114, 105, 101, 100, 95, 117, 108, 116, 114, 97, 109, 95, 116, 114, 97, 110, 115, 99, 114, 105, 112, 116, 105, 111, 110]\n",
      "base64 dHJhbnNjcmlwdHNfY29uZmlkZW50X3Nlbmlvcg==\n",
      "base64 dmF0aWNhbl9nb2RzX2tpZHM=\n",
      "bigint 0x6879706f7468657369735f7368696e655f686177616969616e\n",
      "rot13 pbhegf_pyvss_gurngref\n",
      "bigint 0x656e67696e65735f6f7074696d697a6174696f6e5f70657266656374\n",
      "rot13 pregvsvrq_pch_neevirf\n",
      "rot13 jvaaref_fgrir_ercerfragvat\n",
      "rot13 xheg_fhcerzr_qe\n",
      "rot13 lryybj_frrzf_tvira\n",
      "hex 776561746865725f73696d756c74616e656f75736c795f6b6579626f61726473\n",
      "rot13 vadhvevrf_yvxryvubbq_jrofvgr\n",
      "base64 c2llcnJhX3Zlc3NlbHNfcG9seXBob25pYw==\n",
      "rot13 srbs_cylzbhgu_eraqrerq\n",
      "bigint 0x616c7465726e61746976655f636f6173745f7075626c6963697479\n",
      "utf-8 [115, 101, 103, 109, 101, 110, 116, 115, 95, 108, 111, 103, 105, 110, 95, 102, 111, 114, 101, 99, 97, 115, 116]\n",
      "rot13 nezravn_hayvxryl_cenpgvgvbaref\n",
      "utf-8 [105, 100, 101, 110, 116, 105, 116, 121, 95, 109, 105, 115, 115, 105, 111, 110, 115, 95, 103, 114, 101, 101, 110, 101]\n",
      "utf-8 [103, 117, 97, 114, 100, 105, 97, 110, 95, 109, 101, 116, 101, 114, 95, 101, 120, 101, 114, 99, 105, 115, 101]\n",
      "rot13 qbjaybnqf_qverpgvba_ybtvp\n",
      "hex 73796e7468657469635f70726f706f73616c735f61706e6963\n",
      "bigint 0x7377617a696c616e645f7375727072697365645f737562757262616e\n",
      "base64 Z2VvbWV0cnlfY2lyY3Vtc3RhbmNlc19saXN0aW5n\n",
      "rot13 qbangvba_ohyy_qri\n",
      "hex 746563686e6f5f6c657474696e675f6e67\n",
      "bigint 0x61756374696f6e735f66756e645f61636b6e6f776c6564676564\n",
      "utf-8 [119, 105, 110, 115, 95, 100, 114, 105, 118, 101, 95, 101, 110, 99, 108, 111, 115, 117, 114, 101]\n",
      "base64 cHVibGlzaGVyc19sYXVyZW5fY3RybA==\n",
      "utf-8 [99, 111, 111, 108, 101, 114, 95, 103, 97, 109, 109, 97, 95, 98, 101, 101, 110]\n",
      "base64 dmlyZ2luX2xpdHRsZV9nYW1tYQ==\n",
      "rot13 zbzragf_nggnpurq_rzvarz\n",
      "hex 7468726f77735f68697265645f74656d706f72617279\n",
      "rot13 vaqrkrf_ab_znpuvarf\n",
      "hex 666f6f74776561725f6365727469666963617465735f73746f6f64\n",
      "bigint 0x6e775f7468656d73656c7665735f7072657061726174696f6e\n",
      "utf-8 [107, 101, 121, 95, 110, 117, 100, 105, 115, 116, 95, 115, 111, 108]\n",
      "hex 736c6f76656e69615f646f7665725f6d6574616c6c696361\n",
      "rot13 bhgfvqr_pbaarpgbef_parg\n",
      "hex 64696d5f72656c6174696f6e736869705f616672696361\n",
      "utf-8 [115, 97, 109, 112, 108, 101, 115, 95, 103, 114, 97, 100, 117, 97, 116, 101, 100, 95, 98, 105, 122]\n",
      "bigint 0x6c695f736b795f72656475636564\n",
      "rot13 vyyhfgengrq_nqwhfgzrag_fhccyvrf\n",
      "rot13 punzcvba_fgnxrubyqref_zrqvpngvba\n",
      "hex 626f756e645f626f7574697175655f68656c7073\n",
      "base64 YnJ1bnN3aWNrX3JvY2tzX21hcnJpYWdl\n",
      "hex 6c6f616e735f62616e675f6d656e73\n",
      "bigint 0x6469645f6163636573736962696c6974795f68647476\n"
     ]
    },
    {
     "data": {
      "text/plain": [
       "'crypto{3nc0d3_d3c0d3_3nc0d3}'"
      ]
     },
     "execution_count": 23,
     "metadata": {},
     "output_type": "execute_result"
    }
   ],
   "source": [
    "from pwnlib.tubes.remote import remote\n",
    "import base64\n",
    "import codecs\n",
    "import random\n",
    "from Crypto.Util.number import bytes_to_long, long_to_bytes\n",
    "import json\n",
    "def json_recv():\n",
    "    line = r.readline()\n",
    "    return json.loads(line.decode())\n",
    "\n",
    "def json_send(hsh):\n",
    "    request = json.dumps(hsh).encode()\n",
    "    r.sendline(request)\n",
    "\n",
    "r = remote(\"socket.cryptohack.org\", 13377)\n",
    "for i in range(100):\n",
    "    out = json_recv()\n",
    "    type = out[\"type\"]\n",
    "    encoded = out[\"encoded\"]\n",
    "    print(type, encoded)\n",
    "    ans = \"\"\n",
    "    match type:\n",
    "        case \"base64\":\n",
    "            ans = base64.b64decode(encoded).decode()\n",
    "        case \"hex\":\n",
    "            ans = bytes.fromhex(encoded).decode()\n",
    "        case \"rot13\":\n",
    "            ans = codecs.decode(encoded, 'rot_13')\n",
    "        case \"bigint\":\n",
    "            ans = bytes.fromhex(encoded[2:]).decode()\n",
    "        case \"utf-8\":\n",
    "            ans = \"\".join([chr(b) for b in encoded])\n",
    "    json_send({\"decoded\": ans})\n",
    "json_recv()['flag']"
   ]
  },
  {
   "cell_type": "code",
   "execution_count": 3,
   "metadata": {},
   "outputs": [
    {
     "data": {
      "text/plain": [
       "'cottages_tap_griffin'"
      ]
     },
     "execution_count": 3,
     "metadata": {},
     "output_type": "execute_result"
    }
   ],
   "source": [
    "codecs.decode(\"pbggntrf_gnc_tevssva\", 'rot_13')"
   ]
  },
  {
   "cell_type": "code",
   "execution_count": 19,
   "metadata": {},
   "outputs": [
    {
     "data": {
      "text/plain": [
       "'cottages_tap_griffin'"
      ]
     },
     "execution_count": 19,
     "metadata": {},
     "output_type": "execute_result"
    }
   ],
   "source": [
    "flag = 'cottages_tap_griffin'\n",
    "\"\".join([chr(b) for b in [ord(b) for b in flag]])"
   ]
  },
  {
   "cell_type": "code",
   "execution_count": 14,
   "metadata": {},
   "outputs": [
    {
     "data": {
      "text/plain": [
       "'cottages_tap_griffin'"
      ]
     },
     "execution_count": 14,
     "metadata": {},
     "output_type": "execute_result"
    }
   ],
   "source": []
  },
  {
   "cell_type": "code",
   "execution_count": null,
   "metadata": {},
   "outputs": [],
   "source": [
    "\n",
    "decoded = base64.b64encode(flag.encode()).decode() # wow so encode\n",
    "decoded = flag.encode().hex()\n",
    "decoded = codecs.encode(flag, 'rot_13')\n",
    "decoded = hex(bytes_to_long(flag.encode()))\n",
    "decoded = [ord(b) for b in flag]"
   ]
  },
  {
   "cell_type": "code",
   "execution_count": null,
   "metadata": {},
   "outputs": [
    {
     "data": {
      "text/plain": [
       "b'crypto{You_will_be_working_with_hex_strings_a_lot}'"
      ]
     },
     "metadata": {},
     "output_type": "display_data"
    }
   ],
   "source": [
    "bytes.fromhex(\"63727970746f7b596f755f77696c6c5f62655f776f726b696e675f776974685f6865785f737472696e67735f615f6c6f747d\")"
   ]
  },
  {
   "cell_type": "code",
   "execution_count": null,
   "metadata": {},
   "outputs": [],
   "source": [
    "# Model Answer, simplifies the code a lot more\n",
    "from pwn import *\n",
    "from Crypto.Util.number import *\n",
    "import json, codecs\n",
    "\n",
    "d = {\n",
    "        \"base64\": b64d,\n",
    "        \"hex\": unhex,\n",
    "        \"rot13\": lambda s: codecs.encode(s, 'rot_13').encode(),\n",
    "        \"bigint\": lambda s: long_to_bytes(int(s, 0)),\n",
    "        \"utf-8\": bytes\n",
    "}\n",
    "\n",
    "def dec(o):\n",
    "    return d[o[\"type\"]](o[\"encoded\"])\n",
    "\n",
    "io = remote(\"socket.cryptohack.org\", 13377)\n",
    "for _ in range(100):\n",
    "    o = json.loads(io.recvline())\n",
    "    io.sendline(json.dumps({\"decoded\": dec(o).decode()}))\n",
    "io.interactive()"
   ]
  }
 ],
 "metadata": {
  "kernelspec": {
   "display_name": ".venv",
   "language": "python",
   "name": "python3"
  },
  "language_info": {
   "codemirror_mode": {
    "name": "ipython",
    "version": 3
   },
   "file_extension": ".py",
   "mimetype": "text/x-python",
   "name": "python",
   "nbconvert_exporter": "python",
   "pygments_lexer": "ipython3",
   "version": "3.11.6"
  }
 },
 "nbformat": 4,
 "nbformat_minor": 2
}
