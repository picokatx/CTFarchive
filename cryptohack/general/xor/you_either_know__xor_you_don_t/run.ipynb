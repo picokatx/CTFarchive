{
 "cells": [
  {
   "cell_type": "code",
   "execution_count": 28,
   "metadata": {},
   "outputs": [
    {
     "name": "stdout",
     "output_type": "stream",
     "text": [
      "121\n"
     ]
    },
    {
     "data": {
      "text/plain": [
       "'crypto{1f_y0u_Kn0w_En0uGH_y0u_Kn0w_1t_4ll}'"
      ]
     },
     "execution_count": 28,
     "metadata": {},
     "output_type": "execute_result"
    }
   ],
   "source": [
    "flag_pre = \"crypto{\"\n",
    "enc = bytes.fromhex(\"0e0b213f26041e480b26217f27342e175d0e070a3c5b103e2526217f27342e175d0e077e263451150104\")\n",
    "key = [[enc[i]^j for j in range(0,256)].index(ord(flag_pre[i])) for i in range(len(flag_pre))]\n",
    "print([\"\".join([chr(enc[i]^(key[i%8] if i%8!=7 else n)) for i in range(len(enc))]) for n in range(0,256)].index(\"crypto{1f_y0u_Kn0w_En0uGH_y0u_Kn0w_1t_4ll}\"))\n",
    "key = [[enc[i]^j for j in range(0,256)].index(ord(flag_pre[i])) for i in range(len(flag_pre))]+[121]\n",
    "\"\".join([chr(enc[i]^key[i%8]) for i in range(len(enc))])"
   ]
  }
 ],
 "metadata": {
  "kernelspec": {
   "display_name": ".venv",
   "language": "python",
   "name": "python3"
  },
  "language_info": {
   "codemirror_mode": {
    "name": "ipython",
    "version": 3
   },
   "file_extension": ".py",
   "mimetype": "text/x-python",
   "name": "python",
   "nbconvert_exporter": "python",
   "pygments_lexer": "ipython3",
   "version": "3.11.6"
  }
 },
 "nbformat": 4,
 "nbformat_minor": 2
}
