{
 "cells": [
  {
   "cell_type": "code",
   "execution_count": 5,
   "metadata": {},
   "outputs": [
    {
     "data": {
      "text/plain": [
       "'crypto{x0r_i5_ass0c1at1v3}'"
      ]
     },
     "execution_count": 5,
     "metadata": {},
     "output_type": "execute_result"
    }
   ],
   "source": [
    "k1 = bytes.fromhex(\"a6c8b6733c9b22de7bc0253266a3867df55acde8635e19c73313\")\n",
    "k2k1 = bytes.fromhex(\"37dcb292030faa90d07eec17e3b1c6d8daf94c35d4c9191a5e1e\")\n",
    "k2 = [k1[c]^k2k1[c] for c in range(len(k1))]\n",
    "k3k2 = bytes.fromhex(\"c1545756687e7573db23aa1c3452a098b71a7fbf0fddddde5fc1\")\n",
    "k3 = [k2[c]^k3k2[c] for c in range(len(k2))]\n",
    "flagk3k2k1 = bytes.fromhex(\"04ee9855208a2cd59091d04767ae47963170d1660df7f56f5faf\")\n",
    "flag = [flagk3k2k1[c]^k2[c]^k3[c]^k1[c] for c in range(len(k2))]\n",
    "\"\".join([chr(c) for c in flag])"
   ]
  }
 ],
 "metadata": {
  "kernelspec": {
   "display_name": ".venv",
   "language": "python",
   "name": "python3"
  },
  "language_info": {
   "codemirror_mode": {
    "name": "ipython",
    "version": 3
   },
   "file_extension": ".py",
   "mimetype": "text/x-python",
   "name": "python",
   "nbconvert_exporter": "python",
   "pygments_lexer": "ipython3",
   "version": "3.11.6"
  }
 },
 "nbformat": 4,
 "nbformat_minor": 2
}
