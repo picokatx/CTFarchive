{
 "cells": [
  {
   "cell_type": "code",
   "execution_count": 25,
   "metadata": {},
   "outputs": [
    {
     "name": "stdout",
     "output_type": "stream",
     "text": [
      "thetransparencyflagishere.cryptohack.org\n",
      "thetransparencyflagishere.cryptohack.org\n"
     ]
    }
   ],
   "source": [
    "from Crypto.Hash import SHA256\n",
    "from Crypto.PublicKey import RSA\n",
    "import requests\n",
    "from bs4 import BeautifulSoup\n",
    "from cryptography import x509\n",
    "from cryptography.x509.oid import NameOID\n",
    "public_key_sha256 = SHA256.new(RSA.import_key(open(\"transparency_afff0345c6f99bf80eab5895458d8eab.pem\", \"r\").read()).export_key(format=\"DER\")).hexdigest()\n",
    "r = requests.get(f\"https://crt.sh/?spkisha256={public_key_sha256}&match==\")\n",
    "hits = [a['href'][4:] for a in BeautifulSoup(r.content).select('a[href^=\"?id=\"]')]\n",
    "for hit in hits:\n",
    "    r = requests.get(\"https://crt.sh/?d=\"+hit)\n",
    "    print(x509.load_pem_x509_certificate(r.content).subject.get_attributes_for_oid(NameOID.COMMON_NAME)[0].value)"
   ]
  }
 ],
 "metadata": {
  "kernelspec": {
   "display_name": ".venv",
   "language": "python",
   "name": "python3"
  },
  "language_info": {
   "codemirror_mode": {
    "name": "ipython",
    "version": 3
   },
   "file_extension": ".py",
   "mimetype": "text/x-python",
   "name": "python",
   "nbconvert_exporter": "python",
   "pygments_lexer": "ipython3",
   "version": "3.11.6"
  }
 },
 "nbformat": 4,
 "nbformat_minor": 2
}
