{
 "cells": [
  {
   "cell_type": "code",
   "execution_count": null,
   "metadata": {},
   "outputs": [],
   "source": [
    "from sympy.polys.polytools import gcdex as gcd_extension_sympy\n",
    "def gcd(a, b):\n",
    "    q0, q1 = a, b\n",
    "    s0, s1 = 1, 0\n",
    "    t0, t1 = 0, 1\n",
    "    while q1!=0:\n",
    "        q = q0 // q1\n",
    "        q0, q1 = q1, q0 - q*q1\n",
    "        s0, s1 = s1, s0 - q*s1\n",
    "        t0, t1 = t1, t0 - q*t1\n",
    "    return s0, t0, q0\n",
    "print(gcd(26513, 32321))\n",
    "print(gcd_extension_sympy(26513, 32321))"
   ]
  }
 ],
 "metadata": {
  "language_info": {
   "name": "python"
  }
 },
 "nbformat": 4,
 "nbformat_minor": 2
}
