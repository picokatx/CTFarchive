{
 "cells": [
  {
   "cell_type": "code",
   "execution_count": 7,
   "metadata": {},
   "outputs": [
    {
     "name": "stdout",
     "output_type": "stream",
     "text": [
      "(10245, -8404, 1)\n",
      "(10245, -8404, 1)\n"
     ]
    }
   ],
   "source": [
    "from sympy.polys.polytools import gcdex as gcd_extension_sympy\n",
    "def gcd(a, b):\n",
    "    q0, q1 = a, b\n",
    "    s0, s1 = 1, 0\n",
    "    t0, t1 = 0, 1\n",
    "    while q1!=0:\n",
    "        q = q0 // q1\n",
    "        q0, q1 = q1, q0 - q*q1\n",
    "        s0, s1 = s1, s0 - q*s1\n",
    "        t0, t1 = t1, t0 - q*t1\n",
    "    return s0, t0, q0\n",
    "print(gcd(26513, 32321))\n",
    "print(gcd_extension_sympy(26513, 32321))"
   ]
  }
 ],
 "metadata": {
  "kernelspec": {
   "display_name": ".venv",
   "language": "python",
   "name": "python3"
  },
  "language_info": {
   "codemirror_mode": {
    "name": "ipython",
    "version": 3
   },
   "file_extension": ".py",
   "mimetype": "text/x-python",
   "name": "python",
   "nbconvert_exporter": "python",
   "pygments_lexer": "ipython3",
   "version": "3.11.6"
  }
 },
 "nbformat": 4,
 "nbformat_minor": 2
}
