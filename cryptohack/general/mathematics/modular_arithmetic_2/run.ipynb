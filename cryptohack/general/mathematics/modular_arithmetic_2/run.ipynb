{
 "cells": [
  {
   "cell_type": "code",
   "execution_count": 8,
   "metadata": {},
   "outputs": [
    {
     "name": "stdout",
     "output_type": "stream",
     "text": [
      "3\n",
      "1\n",
      "5\n",
      "1\n",
      "7\n",
      "1\n",
      "1\n"
     ]
    }
   ],
   "source": [
    "print(pow(3, 17, 17))\n",
    "print(pow(3, 16, 17))\n",
    "print(pow(5, 17, 17))\n",
    "print(pow(5, 16, 17))\n",
    "print(pow(7, 17, 17))\n",
    "print(pow(7, 16, 17))\n",
    "print(pow(273246787654, 65536, 65537)) # should equal 1"
   ]
  },
  {
   "cell_type": "code",
   "execution_count": null,
   "metadata": {},
   "outputs": [],
   "source": []
  }
 ],
 "metadata": {
  "kernelspec": {
   "display_name": ".venv",
   "language": "python",
   "name": "python3"
  },
  "language_info": {
   "codemirror_mode": {
    "name": "ipython",
    "version": 3
   },
   "file_extension": ".py",
   "mimetype": "text/x-python",
   "name": "python",
   "nbconvert_exporter": "python",
   "pygments_lexer": "ipython3",
   "version": "3.11.6"
  }
 },
 "nbformat": 4,
 "nbformat_minor": 2
}
