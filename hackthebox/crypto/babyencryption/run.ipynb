{
 "cells": [
  {
   "cell_type": "code",
   "execution_count": 6,
   "metadata": {},
   "outputs": [
    {
     "data": {
      "text/plain": [
       "b'Th3 nucl34r w1ll 4rr1v3 0n fr1d4y.\\nHTB{l00k_47_y0u_r3v3rs1ng_3qu4710n5_c0ngr475}'"
      ]
     },
     "execution_count": 6,
     "metadata": {},
     "output_type": "execute_result"
    }
   ],
   "source": [
    "from cryptolib import VALID_FLAG_CHARS\n",
    "key = {}\n",
    "for c in range(0,256):\n",
    "    key[(123 * c + 18) % 256] = c\n",
    "def decrypt(msg):\n",
    "    m = b\"\"\n",
    "    for char in msg:\n",
    "        m+=bytes([key[char]])\n",
    "    return bytes(m)\n",
    "enc = bytes.fromhex(\"6e0a9372ec49a3f6930ed8723f9df6f6720ed8d89dc4937222ec7214d89d1e0e352ce0aa6ec82bf622227bb70e7fb7352249b7d893c493d8539dec8fb7935d490e7f9d22ec89b7a322ec8fd80e7f8921\")\n",
    "decrypt(enc)"
   ]
  }
 ],
 "metadata": {
  "kernelspec": {
   "display_name": ".venv",
   "language": "python",
   "name": "python3"
  },
  "language_info": {
   "codemirror_mode": {
    "name": "ipython",
    "version": 3
   },
   "file_extension": ".py",
   "mimetype": "text/x-python",
   "name": "python",
   "nbconvert_exporter": "python",
   "pygments_lexer": "ipython3",
   "version": "3.11.6"
  }
 },
 "nbformat": 4,
 "nbformat_minor": 2
}
