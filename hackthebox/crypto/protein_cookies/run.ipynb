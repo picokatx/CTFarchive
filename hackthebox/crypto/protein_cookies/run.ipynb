{
 "cells": [
  {
   "cell_type": "code",
   "execution_count": 55,
   "metadata": {},
   "outputs": [],
   "source": [
    "import hashlib, base64, os\n",
    "import HashTools\n",
    "from cryptolib import xor, repeat_xor, b64d, b64e\n",
    "original_data = b64d(\"dXNlcm5hbWU9Z3Vlc3QmaXNMb2dnZWRJbj1GYWxzZQ==\").encode()\n",
    "signature = b64d(\"NGU3NTcxYmI3NjE1MmIzZmM0NjM0YzQ2MTI2NmM3ZmFjM2Q2OWNmYTFmOTAxYWE4ZTI2ZWFhODFlNTIzNTRmYWJmZjk0NTA3MWM2NGI1OGJmY2MzZTRlMjk0YjNmMDk0ZmQxOTljY2EwZjFjNzM1NDYxOTUwYzk5N2VmYjA3ZDY=\")\n",
    "append_data = b\"&username=pico&isLoggedIn=True\"\n",
    "magic = HashTools.new(\"sha512\")\n",
    "new_data, new_sig = magic.extension(\n",
    "    secret_length=16, original_data=original_data,\n",
    "    append_data=append_data, signature=signature\n",
    ")"
   ]
  },
  {
   "cell_type": "code",
   "execution_count": 56,
   "metadata": {},
   "outputs": [
    {
     "data": {
      "text/plain": [
       "'dXNlcm5hbWU9Z3Vlc3QmaXNMb2dnZWRJbj1GYWxzZYAAAAAAAAAAAAAAAAAAAAAAAAAAAAAAAAAAAAAAAAAAAAAAAAAAAAAAAAAAAAAAAAAAAAAAAAAAAAAAAAAAAAAAAAAAAAAAAAAAAAAAAAABeCZ1c2VybmFtZT1waWNvJmlzTG9nZ2VkSW49VHJ1ZQ==.NWJmY2MzNWRhZjZhZDkwMWRmZTI4YTBmMjEyZGQyMDViODFhMTYxMWQ5MTU2NDNiZWQxZmZjZGJjODNlMDViZmQ4NjU3YWUxMzMzOGMzMjc5MzA5NzFmMTg1Yzc5OTBkOTU2N2Y1YTQ5OTAzNWUyYjQyOTM1NWExNDk4M2FhYWE='"
      ]
     },
     "execution_count": 56,
     "metadata": {},
     "output_type": "execute_result"
    }
   ],
   "source": [
    "b64e(new_data)+\".\"+b64e(new_sig.encode())"
   ]
  },
  {
   "cell_type": "code",
   "execution_count": 48,
   "metadata": {},
   "outputs": [
    {
     "data": {
      "text/plain": [
       "128"
      ]
     },
     "execution_count": 48,
     "metadata": {},
     "output_type": "execute_result"
    }
   ],
   "source": [
    "dXNlcm5hbWU9Z3Vlc3QmaXNMb2dnZWRJbj1GYWxzZQ==.NGU3NTcxYmI3NjE1MmIzZmM0NjM0YzQ2MTI2NmM3ZmFjM2Q2OWNmYTFmOTAxYWE4ZTI2ZWFhODFlNTIzNTRmYWJmZjk0NTA3MWM2NGI1OGJmY2MzZTRlMjk0YjNmMDk0ZmQxOTljY2EwZjFjNzM1NDYxOTUwYzk5N2VmYjA3ZDY="
   ]
  },
  {
   "cell_type": "markdown",
   "metadata": {},
   "source": [
    "HTB{l1ght_w31ght_b4b3h!}"
   ]
  },
  {
   "cell_type": "code",
   "execution_count": 42,
   "metadata": {},
   "outputs": [
    {
     "data": {
      "text/plain": [
       "'username=guest&isLoggedIn=False'"
      ]
     },
     "execution_count": 42,
     "metadata": {},
     "output_type": "execute_result"
    }
   ],
   "source": [
    "original_data"
   ]
  },
  {
   "cell_type": "code",
   "execution_count": 1,
   "metadata": {},
   "outputs": [],
   "source": [
    "import HashTools\n",
    "from os import urandom\n",
    "\n",
    "secret = urandom(16)    "
   ]
  },
  {
   "cell_type": "code",
   "execution_count": 38,
   "metadata": {},
   "outputs": [
    {
     "data": {
      "text/plain": [
       "'85f11600dcad9e7ebae7aa863ea98cae5d578748860220230bd26ae9bb84c69e32fe5c14e96f52a314bb379c2439711a37554978f3e580c35756aa5f0b4f80e1'"
      ]
     },
     "execution_count": 38,
     "metadata": {},
     "output_type": "execute_result"
    }
   ],
   "source": [
    "original_data = b\"&admin=False\"\n",
    "sig = HashTools.new(algorithm=\"sha512\", raw=secret+original_data).hexdigest()\n",
    "\n",
    "# attack\n",
    "append_data = b\"&admin=True\"\n",
    "magic = HashTools.new(\"sha512\")\n",
    "new_data, new_sig = magic.extension(\n",
    "    secret_length=16, original_data=original_data,\n",
    "    append_data=append_data, signature=sig\n",
    ")\n",
    "new_sig"
   ]
  },
  {
   "cell_type": "code",
   "execution_count": 39,
   "metadata": {},
   "outputs": [
    {
     "name": "stdout",
     "output_type": "stream",
     "text": [
      "85f11600dcad9e7ebae7aa863ea98cae5d578748860220230bd26ae9bb84c69e32fe5c14e96f52a314bb379c2439711a37554978f3e580c35756aa5f0b4f80e1\n"
     ]
    }
   ],
   "source": [
    "import HashTools\n",
    "\n",
    "msg = new_data\n",
    "print(HashTools.new(algorithm=\"sha512\", raw=secret+new_data).hexdigest())"
   ]
  },
  {
   "cell_type": "code",
   "execution_count": 27,
   "metadata": {},
   "outputs": [
    {
     "data": {
      "text/plain": [
       "0"
      ]
     },
     "execution_count": 27,
     "metadata": {},
     "output_type": "execute_result"
    }
   ],
   "source": [
    "# from Crypto.Hash.SHA512 import _raw_sha512_lib\n",
    "# from Crypto.Util._raw_api import (load_pycryptodome_raw_lib,\n",
    "#                                   VoidPointer, SmartPointer,\n",
    "#                                   create_string_buffer,\n",
    "#                                   get_raw_buffer, c_size_t,\n",
    "#                                   c_uint8_ptr)\n",
    "# state = VoidPointer()\n",
    "# result = _raw_sha512_lib.SHA512_init(state.address_of(), c_size_t(64))\n",
    "# if result:\n",
    "#     raise ValueError(\"Error %d while instantiating SHA-512\"\n",
    "#                         % result)\n",
    "# _state = SmartPointer(state.get(), _raw_sha512_lib.SHA512_destroy)\n",
    "# data = b\"&admin=False\"\n",
    "# result = _raw_sha512_lib.SHA512_update(_state.get(), c_uint8_ptr(data), c_size_t(len(data)))\n",
    "# result\n",
    "\n",
    "# no dice, interna state of sha512 isn't accessible"
   ]
  }
 ],
 "metadata": {
  "kernelspec": {
   "display_name": ".venv",
   "language": "python",
   "name": "python3"
  },
  "language_info": {
   "codemirror_mode": {
    "name": "ipython",
    "version": 3
   },
   "file_extension": ".py",
   "mimetype": "text/x-python",
   "name": "python",
   "nbconvert_exporter": "python",
   "pygments_lexer": "ipython3",
   "version": "3.11.6"
  }
 },
 "nbformat": 4,
 "nbformat_minor": 2
}
