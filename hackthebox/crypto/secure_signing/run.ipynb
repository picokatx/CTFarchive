{
 "cells": [
  {
   "cell_type": "code",
   "execution_count": 1,
   "metadata": {},
   "outputs": [],
   "source": [
    "from cryptolib import hello_world, htb_secure_signing_hash, htb_secure_signing_validate, xor\n",
    "s = b'\\x00'*1\n",
    "r = hello_world()"
   ]
  },
  {
   "cell_type": "code",
   "execution_count": 2,
   "metadata": {},
   "outputs": [
    {
     "name": "stderr",
     "output_type": "stream",
     "text": [
      " 29%|██▉       | 58/200 [00:45<01:51,  1.27it/s]\n"
     ]
    }
   ],
   "source": [
    "from Crypto.Hash import SHA256\n",
    "from tqdm import tqdm\n",
    "flag = b''\n",
    "for i in tqdm(range(200)):\n",
    "    hash = htb_secure_signing_hash(r, (len(flag)+1)*b\"\\x00\")\n",
    "    endofflag = True\n",
    "    for c in range(0,256):\n",
    "        if (hash==SHA256.new(flag+bytes([c])).hexdigest().encode()): \n",
    "            flag+=bytes([c])\n",
    "            endofflag = False\n",
    "            break\n",
    "    if endofflag: break\n",
    "    "
   ]
  },
  {
   "cell_type": "code",
   "execution_count": 3,
   "metadata": {},
   "outputs": [
    {
     "data": {
      "text/plain": [
       "b'HTB{r0ll1n6_0v3r_x0r_w17h_h@5h1n6_0r@cl3_15_n07_s3cur3!@#}'"
      ]
     },
     "execution_count": 3,
     "metadata": {},
     "output_type": "execute_result"
    }
   ],
   "source": [
    "flag"
   ]
  }
 ],
 "metadata": {
  "kernelspec": {
   "display_name": ".venv",
   "language": "python",
   "name": "python3"
  },
  "language_info": {
   "codemirror_mode": {
    "name": "ipython",
    "version": 3
   },
   "file_extension": ".py",
   "mimetype": "text/x-python",
   "name": "python",
   "nbconvert_exporter": "python",
   "pygments_lexer": "ipython3",
   "version": "3.11.6"
  }
 },
 "nbformat": 4,
 "nbformat_minor": 2
}
