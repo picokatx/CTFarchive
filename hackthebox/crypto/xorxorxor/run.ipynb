{
 "cells": [
  {
   "cell_type": "code",
   "execution_count": 5,
   "metadata": {},
   "outputs": [
    {
     "data": {
      "text/plain": [
       "b'HTB{rep34t3d_x0r_n0t_s0_s3cur3}'"
      ]
     },
     "execution_count": 5,
     "metadata": {},
     "output_type": "execute_result"
    }
   ],
   "source": [
    "import os\n",
    "from cryptolib import xor, repeat_xor\n",
    "flagstr = b'HTB{'\n",
    "key = b\"\"\n",
    "enc_flag = bytes.fromhex(\"134af6e1297bc4a96f6a87fe046684e8047084ee046d84c5282dd7ef292dc9\")\n",
    "repeat_xor(enc_flag, xor(enc_flag[:4], flagstr))"
   ]
  }
 ],
 "metadata": {
  "kernelspec": {
   "display_name": ".venv",
   "language": "python",
   "name": "python3"
  },
  "language_info": {
   "codemirror_mode": {
    "name": "ipython",
    "version": 3
   },
   "file_extension": ".py",
   "mimetype": "text/x-python",
   "name": "python",
   "nbconvert_exporter": "python",
   "pygments_lexer": "ipython3",
   "version": "3.11.6"
  }
 },
 "nbformat": 4,
 "nbformat_minor": 2
}
