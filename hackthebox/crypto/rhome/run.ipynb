{
 "cells": [
  {
   "cell_type": "code",
   "execution_count": 1,
   "metadata": {},
   "outputs": [],
   "source": [
    "from cryptolib import hello_world, htb_rhome_get_params, htb_rhome_get_flag, htb_rhome_reset_params, long_to_bytes, bytes_to_long, mod_inv, gcd"
   ]
  },
  {
   "cell_type": "code",
   "execution_count": 2,
   "metadata": {},
   "outputs": [],
   "source": [
    "r = hello_world()"
   ]
  },
  {
   "cell_type": "code",
   "execution_count": 3,
   "metadata": {},
   "outputs": [
    {
     "data": {
      "text/plain": [
       "b'\\nChoose as you please\\n\\n1. Get parameters\\n2. Reset parameters!! This can take some time\\n3. Get Flag\\n\\n> '"
      ]
     },
     "execution_count": 3,
     "metadata": {},
     "output_type": "execute_result"
    }
   ],
   "source": [
    "htb_rhome_reset_params(r)"
   ]
  },
  {
   "cell_type": "code",
   "execution_count": 4,
   "metadata": {},
   "outputs": [
    {
     "name": "stdout",
     "output_type": "stream",
     "text": [
      "b'p = 87263350581953655766913635185766130080986538317223720337528743459622707317101708079488267949561594976924326856393605464396634061844301754724430873356468681671324972859\\ng = 69159548902909761715175477494061187623797687946811752743286502162942706121111629471429394016515342832054768472957483734239521382359624604522703074910965892082009125354\\nA = 69092887669378428358885949323736655745196065593190831256020192461879673577830609251073599882599495942180734166799971167080253619838827230888702916673011470348403104410\\nB = 42343568041162419871923297024235949199858970123563729619018231269280272003928561851329373372730326463114028407433826707959183024363362501315812960039659911769610059607\\n\\nChoose as you please\\n\\n1. Get parameters\\n2. Reset parameters!! This can take some time\\n3. Get Flag\\n\\n> '\n"
     ]
    },
    {
     "data": {
      "text/plain": [
       "(87263350581953655766913635185766130080986538317223720337528743459622707317101708079488267949561594976924326856393605464396634061844301754724430873356468681671324972859,\n",
       " 69159548902909761715175477494061187623797687946811752743286502162942706121111629471429394016515342832054768472957483734239521382359624604522703074910965892082009125354,\n",
       " 69092887669378428358885949323736655745196065593190831256020192461879673577830609251073599882599495942180734166799971167080253619838827230888702916673011470348403104410,\n",
       " 42343568041162419871923297024235949199858970123563729619018231269280272003928561851329373372730326463114028407433826707959183024363362501315812960039659911769610059607)"
      ]
     },
     "execution_count": 4,
     "metadata": {},
     "output_type": "execute_result"
    }
   ],
   "source": [
    "htb_rhome_get_params(r) # p g A B"
   ]
  },
  {
   "cell_type": "code",
   "execution_count": 5,
   "metadata": {},
   "outputs": [
    {
     "data": {
      "text/plain": [
       "b'\\x9f\"U$\\xf0\\xf5\\tl#n\\xc4\\x95\\xa8L*Is-M\\xcd<\\xc6~\\x8a\\x83.\\xb7k%\\xfd\\x80\\xf7'"
      ]
     },
     "execution_count": 5,
     "metadata": {},
     "output_type": "execute_result"
    }
   ],
   "source": [
    "htb_rhome_get_flag(r)"
   ]
  },
  {
   "cell_type": "code",
   "execution_count": 3,
   "metadata": {},
   "outputs": [],
   "source": [
    "# r = getPrime(512)\n",
    "# q = getPrime(42)\n",
    "# h = getPrime(42)\n",
    "# a = randint(2, self.p - 2)\n",
    "# b = randint(2, self.p - 2)\n",
    "\n",
    "# p = 2qr+1 isprime\n",
    "# g = h^2r % p not 1\n",
    "# A = g^a % p\n",
    "# A = (h^2r)^a % (2qr+1)\n",
    "# B = g^b % p\n",
    "# ss = A^b % p"
   ]
  },
  {
   "cell_type": "code",
   "execution_count": 7,
   "metadata": {},
   "outputs": [],
   "source": [
    "p, g, A, B = (87263350581953655766913635185766130080986538317223720337528743459622707317101708079488267949561594976924326856393605464396634061844301754724430873356468681671324972859,\n",
    " 69159548902909761715175477494061187623797687946811752743286502162942706121111629471429394016515342832054768472957483734239521382359624604522703074910965892082009125354,\n",
    " 69092887669378428358885949323736655745196065593190831256020192461879673577830609251073599882599495942180734166799971167080253619838827230888702916673011470348403104410,\n",
    " 42343568041162419871923297024235949199858970123563729619018231269280272003928561851329373372730326463114028407433826707959183024363362501315812960039659911769610059607)\n",
    "enc = b'\\x9f\"U$\\xf0\\xf5\\tl#n\\xc4\\x95\\xa8L*Is-M\\xcd<\\xc6~\\x8a\\x83.\\xb7k%\\xfd\\x80\\xf7'"
   ]
  },
  {
   "cell_type": "code",
   "execution_count": 22,
   "metadata": {},
   "outputs": [
    {
     "data": {
      "text/plain": [
       "b'HTB{00ps_wh4t_4_sm411_0rd3r}\\x04\\x04\\x04\\x04'"
      ]
     },
     "execution_count": 22,
     "metadata": {},
     "output_type": "execute_result"
    }
   ],
   "source": [
    "from cryptolib import pollard_rho, _discrete_log_pollard_rho\n",
    "from sympy.ntheory.residue_ntheory import discrete_log\n",
    "from Crypto.Hash import SHA256\n",
    "from Crypto.Cipher import AES\n",
    "qr = (p-1)//2\n",
    "q = pollard_rho(qr) # pollard_rho(qr)\n",
    "r = qr//q\n",
    "b = _discrete_log_pollard_rho(p, B, g) # _discrete_log_pollard_rho(p, g, B)\n",
    "ss = pow(A, b, p)\n",
    "key = SHA256.new(long_to_bytes(ss)).digest()[:16]\n",
    "cipher = AES.new(key, AES.MODE_ECB)\n",
    "cipher.decrypt(enc)"
   ]
  },
  {
   "cell_type": "code",
   "execution_count": 34,
   "metadata": {},
   "outputs": [
    {
     "data": {
      "text/plain": [
       "b'mH\\xbdp\\xbc\\x07\\xe4\\xcf\\xab\\xc7H\\x03c\\xe5Ek\\x11\\x99\\x03\\x11u\\xca\\x9cH\\xfa[!wv31\\x8b'"
      ]
     },
     "execution_count": 34,
     "metadata": {},
     "output_type": "execute_result"
    }
   ],
   "source": [
    "from Crypto.Hash import SHA256\n",
    "from Crypto.Cipher import AES\n",
    "key = SHA256.new(long_to_bytes(pow(A, B, p))).digest()[:16]\n",
    "cipher = AES.new(key, AES.MODE_ECB)\n",
    "cipher.decrypt(enc)"
   ]
  }
 ],
 "metadata": {
  "kernelspec": {
   "display_name": ".venv",
   "language": "python",
   "name": "python3"
  },
  "language_info": {
   "codemirror_mode": {
    "name": "ipython",
    "version": 3
   },
   "file_extension": ".py",
   "mimetype": "text/x-python",
   "name": "python",
   "nbconvert_exporter": "python",
   "pygments_lexer": "ipython3",
   "version": "3.11.6"
  }
 },
 "nbformat": 4,
 "nbformat_minor": 2
}
