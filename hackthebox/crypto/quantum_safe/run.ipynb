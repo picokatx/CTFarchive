{
 "cells": [
  {
   "cell_type": "code",
   "execution_count": 25,
   "metadata": {},
   "outputs": [],
   "source": [
    "import hashlib, base64, os\n",
    "from cryptolib import xor, repeat_xor, b64d, b64e\n",
    "import numpy as np\n",
    "from numpy import linalg as ln\n",
    "pubkey = np.array([\n",
    "    [47, -77, -85],\n",
    "    [-49, 78, 50],\n",
    "    [57, -78, 99]\n",
    "])\n",
    "flag = np.array([(-981, 1395, -1668),\n",
    "(6934, -10059, 4270),\n",
    "(3871, -5475, 3976),\n",
    "(4462, -7368, -8954),\n",
    "(2794, -4413, -3461),\n",
    "(5175, -7518, 3201),\n",
    "(3102, -5051, -5457),\n",
    "(7255, -10884, -266),\n",
    "(5694, -8016, 6237),\n",
    "(4160, -6038, 2582),\n",
    "(4940, -7069, 3770),\n",
    "(3185, -5158, -4939),\n",
    "(7669, -11686, -2231),\n",
    "(5601, -9013, -7971),\n",
    "(5600, -8355, 575),\n",
    "(1739, -2838, -3037),\n",
    "(2572, -4120, -3788),\n",
    "(8055, -11985, 1137),\n",
    "(7088, -10247, 5141),\n",
    "(8384, -12679, -1381),\n",
    "(-785, 1095, -1841),\n",
    "(4250, -6762, -5242),\n",
    "(3716, -5364, 2126),\n",
    "(5673, -7968, 6741),\n",
    "(5877, -9190, -4803),\n",
    "(5639, -8865, -5356),\n",
    "(1980, -3230, -3366),\n",
    "(6183, -9334, -1002),\n",
    "(2575, -4068, -2828),\n",
    "(7521, -11374, -1137),\n",
    "(5639, -8551, -1501),\n",
    "(4194, -6039, 3213),\n",
    "(2072, -3025, 383),\n",
    "(2444, -3699, -502),\n",
    "(6313, -9653, -2447),\n",
    "(4502, -7090, -4435),\n",
    "(-421, 894, 2912),\n",
    "(4667, -7142, -2266),\n",
    "(4228, -6616, -3749),\n",
    "(6258, -9719, -4407),\n",
    "(6044, -9561, -6463),\n",
    "(266, -423, -637),\n",
    "(3849, -6223, -5988),\n",
    "(5809, -9021, -4115),\n",
    "(4794, -7128, 918),\n",
    "(6340, -9442, 892),\n",
    "(5322, -8614, -8334)])\n",
    "# flag = np.array([3, 0, 100])\n",
    "# np.matmul(flag, pubkey)"
   ]
  },
  {
   "cell_type": "code",
   "execution_count": 37,
   "metadata": {},
   "outputs": [
    {
     "data": {
      "text/plain": [
       "array([-18.,  15., -26.])"
      ]
     },
     "execution_count": 37,
     "metadata": {},
     "output_type": "execute_result"
    }
   ],
   "source": [
    "from numpy import linalg as ln\n",
    "ln.solve(pubkey.T, flag[2]-flag[1])"
   ]
  },
  {
   "cell_type": "code",
   "execution_count": 44,
   "metadata": {},
   "outputs": [
    {
     "name": "stdout",
     "output_type": "stream",
     "text": [
      "HTB{r3duc1nG_tH3_l4tTicE_l1kE_n0b0dY's_pr0bl3M}"
     ]
    }
   ],
   "source": [
    "flag_start = ord('H')\n",
    "for i in [np.round(ln.solve(pubkey.T, flag[i+1]-flag[i])[0]) for i in range(len(flag)-1)]:\n",
    "    print(chr(flag_start), end=\"\")\n",
    "    flag_start = flag_start+int(i)\n",
    "print(chr(flag_start), end=\"\")"
   ]
  }
 ],
 "metadata": {
  "kernelspec": {
   "display_name": ".venv",
   "language": "python",
   "name": "python3"
  },
  "language_info": {
   "codemirror_mode": {
    "name": "ipython",
    "version": 3
   },
   "file_extension": ".py",
   "mimetype": "text/x-python",
   "name": "python",
   "nbconvert_exporter": "python",
   "pygments_lexer": "ipython3",
   "version": "3.11.6"
  }
 },
 "nbformat": 4,
 "nbformat_minor": 2
}
