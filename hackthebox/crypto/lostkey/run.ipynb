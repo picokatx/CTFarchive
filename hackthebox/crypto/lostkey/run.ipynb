{
 "cells": [
  {
   "cell_type": "code",
   "execution_count": 3,
   "metadata": {},
   "outputs": [
    {
     "name": "stdout",
     "output_type": "stream",
     "text": [
      "-365937037696054856757881273113853360780418805134214511638161721551630014067290402501363070794838755451075762450097781010425985838729314854522440793027592\n",
      "-861614086670580914642677577146791838579395597303016886422281216290149826669913489281259425952776298920477236840694824836746567061784340132443488087596058\n",
      "-4415529882904411255225776915051216906574228501556517669516279145085340281780642614020778916461075603819546005493817463179452898449361790182297611714206984\n",
      "1073994162676149710234357244430913927847758898790333597954507289323450143667145896808911475650328806414055383764589246946652386970423201150402610019513103\n",
      "-883896577810142632303129255887479234310268394149240130680109267768353597711134503400683663597496014527826341683992444674020510064131735593810554097818822\n"
     ]
    },
    {
     "data": {
      "text/plain": [
       "94266305915506353348862415311361206724102762529485102462339223849431766821826"
      ]
     },
     "execution_count": 3,
     "metadata": {},
     "output_type": "execute_result"
    }
   ],
   "source": [
    "from encrypt import EC, coord\n",
    "import hashlib, base64, os\n",
    "from cryptolib import xor, repeat_xor, b64d, b64e\n",
    "from Crypto.Util.number import inverse\n",
    "p = 101177610013690114367644862496650410682060315507552683976670417670408764432851\n",
    "e = EC(p)\n",
    "G = coord(14374457579818477622328740718059855487576640954098578940171165283141210916477, 97329024367170116249091206808639646539802948165666798870051500045258465236698)\n",
    "Gn = 32293793010624418281951109498609822259728115103695057808533313831446479788050\n",
    "const_Rx = 208913474430283759938044884583915265967\n",
    "e.mul(G, 1000).x"
   ]
  },
  {
   "cell_type": "code",
   "execution_count": 3,
   "metadata": {},
   "outputs": [
    {
     "data": {
      "text/plain": [
       "133471403024314532649595971995260232941997344085678025545141776386439159486868"
      ]
     },
     "execution_count": 3,
     "metadata": {},
     "output_type": "execute_result"
    }
   ],
   "source": [
    "Gn+p+const_Rx"
   ]
  },
  {
   "cell_type": "code",
   "execution_count": 23,
   "metadata": {},
   "outputs": [
    {
     "data": {
      "text/plain": [
       "8921747726027483164245874508577868309785934068506535807133010299116208731969"
      ]
     },
     "execution_count": 23,
     "metadata": {},
     "output_type": "execute_result"
    }
   ],
   "source": [
    "G.y*inverse(G.x,p) % p"
   ]
  },
  {
   "cell_type": "code",
   "execution_count": 14,
   "metadata": {},
   "outputs": [
    {
     "data": {
      "text/plain": [
       "1"
      ]
     },
     "execution_count": 14,
     "metadata": {},
     "output_type": "execute_result"
    }
   ],
   "source": [
    "(525*8) % 17"
   ]
  }
 ],
 "metadata": {
  "kernelspec": {
   "display_name": ".venv",
   "language": "python",
   "name": "python3"
  },
  "language_info": {
   "codemirror_mode": {
    "name": "ipython",
    "version": 3
   },
   "file_extension": ".py",
   "mimetype": "text/x-python",
   "name": "python",
   "nbconvert_exporter": "python",
   "pygments_lexer": "ipython3",
   "version": "3.11.6"
  }
 },
 "nbformat": 4,
 "nbformat_minor": 2
}
