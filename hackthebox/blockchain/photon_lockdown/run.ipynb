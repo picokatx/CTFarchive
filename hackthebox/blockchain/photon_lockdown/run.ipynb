{
 "cells": [
  {
   "cell_type": "code",
   "execution_count": null,
   "metadata": {},
   "outputs": [],
   "source": [
    "# etc/config_default.xml\n",
    "# HTB{N0w_Y0u_C4n_L0g1n}"
   ]
  }
 ],
 "metadata": {
  "language_info": {
   "name": "python"
  }
 },
 "nbformat": 4,
 "nbformat_minor": 2
}
