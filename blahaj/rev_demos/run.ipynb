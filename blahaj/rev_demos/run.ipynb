{
 "cells": [
  {
   "cell_type": "markdown",
   "metadata": {},
   "source": [
    "#### crackme1"
   ]
  },
  {
   "cell_type": "code",
   "execution_count": 55,
   "metadata": {},
   "outputs": [
    {
     "data": {
      "text/plain": [
       "'b10ca34f6a7d6b3fc5e58f0f3a2c3cd1'"
      ]
     },
     "execution_count": 55,
     "metadata": {},
     "output_type": "execute_result"
    }
   ],
   "source": [
    "hmm_bytes = [ 0x00, 0x00, 0x00, 0x00, 0x15, 0x00, 0x00, 0x00, 0x0b, 0x00, 0x00, 0x00, 0x0e, 0x00, 0x00, 0x00, 0x04, 0x00, 0x00, 0x00, 0x05, 0x00, 0x00, 0x00, 0x06, 0x00, 0x00, 0x00, 0x17, 0x00, 0x00, 0x00, 0x16, 0x00, 0x00, 0x00 ]\n",
    "# hmm_bytes = [0x00, 0x00, 0x00, 0x15, 0x00, 0x00, 0x00, 0x0b, 0x00, 0x00, 0x00, 0x0e, 0x00, 0x00, 0x00, 0x04, 0x00, 0x00, 0x00, 0x05, 0x00, 0x00, 0x00, 0x06, 0x00, 0x00, 0x00, 0x17, 0x00, 0x00, 0x00, 0x16, 0x00, 0x00, 0x00 , 0x00 ]\n",
    "hmm = [(hmm_bytes[i]<<0)+(hmm_bytes[i+1]<<8)+(hmm_bytes[i+2]<<16)+(hmm_bytes[i+3]<<24) for i in range(0, len(hmm_bytes), 4)]\n",
    "warning = \"You can't [strings] Me!!!!\"\n",
    "input = \"\".join(([warning[hmm[i]] for i in range (9)]))\n",
    "from Crypto.Hash import MD5\n",
    "MD5.new((\"blahaj{\"+input+\"}\").encode()).hexdigest()"
   ]
  },
  {
   "cell_type": "markdown",
   "metadata": {},
   "source": [
    "#### demo_1"
   ]
  },
  {
   "cell_type": "code",
   "execution_count": 103,
   "metadata": {},
   "outputs": [],
   "source": [
    "flag = \"flag{??????????????}\"\n",
    "\n",
    "def next(x):\n",
    "    x = (287*x + 123213) % 26\n",
    "    return x\n",
    "\n",
    "def function(msg):\n",
    "    output = \"\"\n",
    "    y = 7\n",
    "    for letter in msg:\n",
    "        y = next(y)\n",
    "        output += chr(ord(letter) + y)\n",
    "    return output\n",
    "\n",
    "def rev_function(msg):\n",
    "    output = \"\"\n",
    "    y = 7\n",
    "    for letter in msg:\n",
    "        y = next(y)\n",
    "        print(y)\n",
    "        output += chr(ord(letter) - y)\n",
    "    return output\n",
    "output = function(flag)"
   ]
  },
  {
   "cell_type": "code",
   "execution_count": 115,
   "metadata": {},
   "outputs": [
    {
     "data": {
      "text/plain": [
       "[97,\n",
       " 98,\n",
       " 99,\n",
       " 100,\n",
       " 101,\n",
       " 102,\n",
       " 103,\n",
       " 104,\n",
       " 105,\n",
       " 106,\n",
       " 107,\n",
       " 108,\n",
       " 109,\n",
       " 110,\n",
       " 111,\n",
       " 112,\n",
       " 113,\n",
       " 114,\n",
       " 115,\n",
       " 116,\n",
       " 117,\n",
       " 118,\n",
       " 119,\n",
       " 120,\n",
       " 121,\n",
       " 122]"
      ]
     },
     "execution_count": 115,
     "metadata": {},
     "output_type": "execute_result"
    }
   ],
   "source": [
    "from string import ascii_lowercase\n",
    "[ord(i) for i in ascii_lowercase]"
   ]
  },
  {
   "cell_type": "code",
   "execution_count": 22,
   "metadata": {},
   "outputs": [
    {
     "data": {
      "text/plain": [
       "124"
      ]
     },
     "execution_count": 22,
     "metadata": {},
     "output_type": "execute_result"
    }
   ],
   "source": [
    "(96-97)%28 + 97"
   ]
  },
  {
   "cell_type": "code",
   "execution_count": 39,
   "metadata": {},
   "outputs": [
    {
     "name": "stdout",
     "output_type": "stream",
     "text": [
      "[102, 108, 97, 103, 123, 98, 52, 97, 93, 99, 43, 105, 90, 45, 94, 107, 108, 42, 103, 96]\n",
      "flag{blayccivezklbg|\n",
      "LRGMaH\u001aGCI\u0011O@\u0013DQR\u0010MF\n",
      "{|N{w}EtGxDz\n",
      "flag{b4a]c+iZ-^kl*g`\n"
     ]
    }
   ],
   "source": [
    "from string import ascii_lowercase, ascii_uppercase\n",
    "offsets = [6, 5, 4, 3, 2, 1, 0, 25, 24, 23, 22, 21, 20, 19, 18, 17, 16, 15, 14, 13]\n",
    "alph = ascii_lowercase+\"{}\"\n",
    "output = \"lqej}c4zuzA~n@p||9um\"\n",
    "print([ord(output[i]) - offsets[i] for i in range(len(output))])\n",
    "print(\"\".join([chr(((ord(output[i]) - offsets[i])-97)%len(alph) + 97) for i in range(len(output))]))\n",
    "print(\"\".join([chr(((ord(output[i]) - offsets[i]) - 26)) for i in range(len(output))]))\n",
    "print(\"\".join([chr(((ord(output[i]) - offsets[i]) + 26)) for i in range(len(output))]))\n",
    "print(\"\".join([chr(((ord(output[i]) - offsets[i]))) for i in range(len(output))]))"
   ]
  },
  {
   "cell_type": "code",
   "execution_count": 104,
   "metadata": {},
   "outputs": [
    {
     "name": "stdout",
     "output_type": "stream",
     "text": [
      "6\n",
      "5\n",
      "4\n",
      "3\n",
      "2\n",
      "1\n",
      "0\n",
      "25\n",
      "24\n",
      "23\n",
      "22\n",
      "21\n",
      "20\n",
      "19\n",
      "18\n",
      "17\n",
      "16\n",
      "15\n",
      "14\n",
      "13\n"
     ]
    },
    {
     "data": {
      "text/plain": [
       "96"
      ]
     },
     "execution_count": 104,
     "metadata": {},
     "output_type": "execute_result"
    }
   ],
   "source": [
    "output = \"lqej}c4zuzA~n@p||9um\"\n",
    "ord(rev_function(output)[-1])"
   ]
  },
  {
   "cell_type": "code",
   "execution_count": 89,
   "metadata": {},
   "outputs": [
    {
     "data": {
      "text/plain": [
       "'flag{b4a]c+iZ-^kl*g`'"
      ]
     },
     "execution_count": 89,
     "metadata": {},
     "output_type": "execute_result"
    }
   ],
   "source": [
    "from string import ascii_lowercase\n",
    "valid = ascii_lowercase+\"0123456789\"\n",
    "output = \"lqej}c4zuzA~n@p||9um\"\n",
    "y = 7\n",
    "offset = []\n",
    "for i in range(len(output)):\n",
    "    y = next(y)\n",
    "    offset.append(y)\n",
    "flag = \"\"\n",
    "for i in range(len(output)):\n",
    "    while a not in valid:\n",
    "        a = chr(ord(output[i]) - offset[i])\n",
    "        c+=1\n",
    "    flag += a\n",
    "\"\".join([chr(ord(output[i]) - offset[i]) for i in range(len(output))])\n"
   ]
  },
  {
   "cell_type": "markdown",
   "metadata": {},
   "source": [
    "#### demo 2"
   ]
  },
  {
   "cell_type": "code",
   "execution_count": null,
   "metadata": {},
   "outputs": [],
   "source": [
    "# flag{de0bfusc4t1ng_b4cK-1nt0_sourced_RE!}"
   ]
  },
  {
   "cell_type": "code",
   "execution_count": null,
   "metadata": {},
   "outputs": [],
   "source": [
    "[1, 2, 3, 4, 5, 6, 7, 8, 9, 10, 11]"
   ]
  },
  {
   "cell_type": "code",
   "execution_count": 125,
   "metadata": {},
   "outputs": [
    {
     "data": {
      "text/plain": [
       "[1, 2, 3, 4, 5, 6, 7, 8, 9, 10, 11]"
      ]
     },
     "execution_count": 125,
     "metadata": {},
     "output_type": "execute_result"
    }
   ],
   "source": [
    "[(0x19d4 * -0x1 + -0x1a97 + 0xa7c * 0x5) ,\n",
    "(-0x1 * -0x6fb + -0x78e + 0x95 * 0x1),\n",
    "(-0xbde + 0x9 * 0xb6 + 0x57b),\n",
    "(-0x3db * -0x7 + 0xa1 * 0x1 + 0x1 * -0x1b9a),\n",
    "(0x2 * 0x8bf + 0x8c6 * 0x1 + -0x1a3f * 0x1),\n",
    "(-0xf71 + 0x2 * 0x129b + 0x15bf * -0x1),\n",
    "(-0x1cbe + -0x1fc + 0x1ec1 * 0x1),\n",
    "(0x1250 * 0x1 + -0x2230 * 0x1 + 0xfe8),\n",
    "(0x14b * -0xb + 0x671 * 0x4 + -0xb82),\n",
    "(-0x277 * 0x1 + 0x1 * 0x253d + -0x22bc),\n",
    "(-0x125d + -0x2f * -0xcb + -0x12dd)]"
   ]
  },
  {
   "cell_type": "code",
   "execution_count": 2,
   "metadata": {},
   "outputs": [],
   "source": [
    "func_store = [\n",
    "        '|zj=}8gnVk',\n",
    "        'charCodeAt',\n",
    "        'oehnrml9ko',\n",
    "        'fromCharCo',\n",
    "        '66FRSmwE',\n",
    "        '7776810AqonVC',\n",
    "        '30hGIqNL',\n",
    "        '7xRtSuI',\n",
    "        '5049468vGqsTB',\n",
    "        'invalid!',\n",
    "        '11320785yYfTTt',\n",
    "        '1505010FHojYg',\n",
    "        '10982152KoDcfy',\n",
    "        'valid!',\n",
    "        'length',\n",
    "        'ring:',\n",
    "        '1476222zioHDM',\n",
    "        'RwqIx',\n",
    "        'Enter\\x20a\\x20st',\n",
    "        '=jB$8g}9Vz',\n",
    "        'bZguA',\n",
    "        'log',\n",
    "        'f|{jlmV[L(',\n",
    "        '523400BhWWjm',\n",
    "        '3hcvJhp'\n",
    "    ]"
   ]
  },
  {
   "cell_type": "code",
   "execution_count": 17,
   "metadata": {},
   "outputs": [
    {
     "data": {
      "text/plain": [
       "'oehnrml9ko|zj=}8gnVk=jB$8g}9Vzf|{jlmV[L(t'"
      ]
     },
     "execution_count": 17,
     "metadata": {},
     "output_type": "execute_result"
    }
   ],
   "source": [
    "def get_func(key):\n",
    "    return func_store[key-275]\n",
    "get_func(0x115)+get_func(0x113) + get_func(0x126) + get_func(0x129)+\"t\""
   ]
  },
  {
   "cell_type": "code",
   "execution_count": 4,
   "metadata": {},
   "outputs": [
    {
     "data": {
      "text/plain": [
       "['9', '8', '89', '']"
      ]
     },
     "execution_count": 4,
     "metadata": {},
     "output_type": "execute_result"
    }
   ],
   "source": [
    "import re\n",
    "[\"\".join([num for num in re.findall(r'\\d+', func_store[i])]) for i in [0x115 - 275,\n",
    "0x113 - 275,\n",
    "0x126 - 275,\n",
    "0x129 - 275]]"
   ]
  },
  {
   "cell_type": "code",
   "execution_count": 18,
   "metadata": {},
   "outputs": [
    {
     "data": {
      "text/plain": [
       "b'flag{de0bfusc4t1ng_b4cK-1nt0_sourced_RE!}'"
      ]
     },
     "execution_count": 18,
     "metadata": {},
     "output_type": "execute_result"
    }
   ],
   "source": [
    "bytes([c^9 for c in b'oehnrml9ko|zj=}8gnVk=jB$8g}9Vzf|{jlmV[L(t'])"
   ]
  },
  {
   "cell_type": "code",
   "execution_count": 132,
   "metadata": {},
   "outputs": [
    {
     "data": {
      "text/plain": [
       "911191.0"
      ]
     },
     "execution_count": 132,
     "metadata": {},
     "output_type": "execute_result"
    }
   ],
   "source": [
    "-1505010 /  1 +  1476222 / 2 * (-3 / 3) + 523400 /  4 * (-30 /  5)+  -5049468 / 6 +  -7 /  7 *  (-10982152 /  8) +  -11320785 /   9 + 7776810 /  10 *  (66 / 11)"
   ]
  },
  {
   "cell_type": "code",
   "execution_count": 11,
   "metadata": {},
   "outputs": [
    {
     "data": {
      "text/plain": [
       "9"
      ]
     },
     "execution_count": 11,
     "metadata": {},
     "output_type": "execute_result"
    }
   ],
   "source": [
    "0x70c + -0x114e + 0xa4b"
   ]
  }
 ],
 "metadata": {
  "kernelspec": {
   "display_name": ".venv",
   "language": "python",
   "name": "python3"
  },
  "language_info": {
   "codemirror_mode": {
    "name": "ipython",
    "version": 3
   },
   "file_extension": ".py",
   "mimetype": "text/x-python",
   "name": "python",
   "nbconvert_exporter": "python",
   "pygments_lexer": "ipython3",
   "version": "3.11.6"
  }
 },
 "nbformat": 4,
 "nbformat_minor": 2
}
