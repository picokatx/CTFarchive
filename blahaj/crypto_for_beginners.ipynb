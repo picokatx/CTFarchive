{
 "cells": [
  {
   "cell_type": "markdown",
   "metadata": {},
   "source": [
    "### Blahaj Crypto basic training"
   ]
  },
  {
   "cell_type": "markdown",
   "metadata": {},
   "source": [
    "Hi. This jupyter notebook contains basic crypto concepts. This was made by tomato (`@tomatoed` on discord) for BlahajCTF 2024 crypto training lecture.\n",
    "\n",
    "1. Bits, bytes, encodings\n",
    "\n",
    "2. Binary operations specifically XOR\n",
    "\n",
    "3. Block ciphers\n",
    "\n",
    "Please install pycryptodome: `pip install pycryptodome` (import it as `Crypto`)"
   ]
  },
  {
   "cell_type": "markdown",
   "metadata": {},
   "source": [
    "Great resource after (or even instead of) this:\n",
    "https://cryptohack.org/"
   ]
  },
  {
   "cell_type": "markdown",
   "metadata": {},
   "source": [
    "#### 1. Letters are numbers"
   ]
  },
  {
   "cell_type": "markdown",
   "metadata": {},
   "source": [
    "The most basic unit of information in a computer is a bit. It has two states, 0 or 1 aka on or off. A computer reads everything through bits, so its important to see how we can represent useful data as bits. For example, numbers can be converted to binary (e.g. 9 = 1001) and hence stored as such. But what about letters like the ones in this sentence? How do we store them?"
   ]
  },
  {
   "cell_type": "markdown",
   "metadata": {},
   "source": [
    "Here is an example of a bunch of bits:\n",
    "\n",
    "`011110010111001001100011`\n",
    "\n",
    "A group of 8 bits is called a \"byte\", so there are 3 bytes here (group it up like this: `01111001` `01110010` `01100011`) Now we can look into how we can use bytes to store letters."
   ]
  },
  {
   "cell_type": "markdown",
   "metadata": {},
   "source": [
    "![image.png](https://upload.wikimedia.org/wikipedia/commons/1/1b/ASCII-Table-wide.svg)"
   ]
  },
  {
   "cell_type": "markdown",
   "metadata": {},
   "source": [
    "ASCII is a standard used by computers to correspond between characters and numbers. We can use the ASCII table as shown above to lookup what number a letter corresponds to, e.g. `c` is 99. In python, there are in-built functions:\n",
    "\n",
    "`chr()` which converts a number to its letter\n",
    "\n",
    "`ord()` which converts a letter to its number\n",
    "\n",
    "For example:"
   ]
  },
  {
   "cell_type": "code",
   "execution_count": 1,
   "metadata": {},
   "outputs": [
    {
     "name": "stdout",
     "output_type": "stream",
     "text": [
      "The letter c corresponds to the number 99\n",
      "The number 99 corresponds to the letter c\n"
     ]
    }
   ],
   "source": [
    "print(\"The letter c corresponds to the number\", ord('c'))\n",
    "print(\"The number 99 corresponds to the letter\", chr(99))"
   ]
  },
  {
   "cell_type": "markdown",
   "metadata": {},
   "source": [
    "Ok, but how would we convert a string of letters like \"cry\" into a number? Lets recap on how bases work to get inspiration:"
   ]
  },
  {
   "cell_type": "markdown",
   "metadata": {},
   "source": [
    "The number 99 is represented as `99` in base-10 because $99 = 9 \\times 10^1 + 9 \\times 10^0$\n",
    "\n",
    "The number 5 is represented as `101` in base-2 because $5 = 1 \\times 2^2 + 0 \\times 2^1 + 1 \\times 2^0$\n"
   ]
  },
  {
   "cell_type": "markdown",
   "metadata": {},
   "source": [
    "We can treat ASCII as base-256 essentially, with each byte storing one letter. Since\n",
    "\n",
    "`c` is 99 = `01111001`\n",
    "\n",
    "`r` is 114 = `01110010`\n",
    "\n",
    "`y` is 121 = `01111001`\n",
    "\n",
    "To get the binary representation of `cry`, we can concatenate the above to form\n",
    "\n",
    "`01111001 01110010 01111001`"
   ]
  },
  {
   "cell_type": "markdown",
   "metadata": {},
   "source": [
    "Mathematically, according to the base system, this number would be equal to\n",
    "\n",
    "$99 \\times 256^2 + 114 \\times 256^1 + 121 \\times 256^0 = 6517369$\n",
    "\n",
    "Which is essentially\n",
    "\n",
    "$\\textit{c} \\times 256^2 + \\textit{r} \\times 256^1 + \\textit{y} \\times 256^0$\n",
    "\n",
    "Here, we have the first letter of the string (`c`) as the most significant part of the number (being in the \"hundreds\" place). This type of encoding is called \"big-endian\".\n",
    "\n",
    "Another type of encoding is called \"little-endian\", where you go in the reverse direction, having the last letter in the most significant position. For `cry`, it would be\n",
    "\n",
    "$\\textit{c} \\times 256^0 + \\textit{r} \\times 256^1 + \\textit{y} \\times 256^2$\n"
   ]
  },
  {
   "cell_type": "code",
   "execution_count": 2,
   "metadata": {},
   "outputs": [],
   "source": [
    "# Exercise 1.1\n",
    "# Using the ord function and arithmetic, convert the message \"dog\" into a number using big-endian.\n",
    "# Answer should be: 6582119\n",
    "\n",
    "\n",
    "\n",
    "\n",
    "\n"
   ]
  },
  {
   "cell_type": "markdown",
   "metadata": {},
   "source": [
    "<details>\n",
    "\n",
    "<summary>Solution</summary>\n",
    "\n",
    "```python\n",
    "ord(\"d\") * 256 ** 2 + ord(\"o\") * 256 + ord(\"g\")\n",
    "```\n",
    "</details>"
   ]
  },
  {
   "cell_type": "markdown",
   "metadata": {},
   "source": [
    "To convert between strings and numbers, there are already implemented functions to help you do so. But first, for any string, you will have to encode it into bytes first, using `.encode()`."
   ]
  },
  {
   "cell_type": "code",
   "execution_count": 3,
   "metadata": {},
   "outputs": [
    {
     "name": "stdout",
     "output_type": "stream",
     "text": [
      "97\n",
      "98\n",
      "99\n",
      "100\n",
      "101\n"
     ]
    }
   ],
   "source": [
    "# string -> bytestring\n",
    "msg = \"abcde\"\n",
    "msg_bytes = msg.encode()\n",
    "# ALTERNATIVELY, put a 'b' before the string:\n",
    "assert msg_bytes == b\"abcde\"\n",
    "# this can be treated as a list of ints\n",
    "for i in msg_bytes: print(i)"
   ]
  },
  {
   "cell_type": "markdown",
   "metadata": {},
   "source": [
    "If you have a list of ints, you can use the function `bytes` to convert it into a bytestring:"
   ]
  },
  {
   "cell_type": "code",
   "execution_count": 4,
   "metadata": {},
   "outputs": [
    {
     "name": "stdout",
     "output_type": "stream",
     "text": [
      "b'cry'\n"
     ]
    }
   ],
   "source": [
    "print(bytes([99,114,121]))"
   ]
  },
  {
   "cell_type": "markdown",
   "metadata": {},
   "source": [
    "Then, you can use one of the following to convert between python byte-strings and python ints:"
   ]
  },
  {
   "cell_type": "code",
   "execution_count": 5,
   "metadata": {},
   "outputs": [
    {
     "name": "stdout",
     "output_type": "stream",
     "text": [
      "cat = 6513012\n",
      "6648929 = eta\n"
     ]
    }
   ],
   "source": [
    "# 1. Using builtin int function\n",
    "msg = \"cat\"\n",
    "msg_bytes = msg.encode()\n",
    "num = int.from_bytes(msg_bytes, byteorder=\"big\")\n",
    "\n",
    "# bytestring -> number\n",
    "print(msg, \"=\", num)\n",
    "\n",
    "num = 6648929\n",
    "msg_bytes = int.to_bytes(num, length=(num.bit_length() + 7) // 8, byteorder=\"big\")\n",
    "msg = msg_bytes.decode()\n",
    "\n",
    "# number -> bytestring\n",
    "print(num, \"=\", msg)"
   ]
  },
  {
   "cell_type": "code",
   "execution_count": 6,
   "metadata": {},
   "outputs": [
    {
     "name": "stdout",
     "output_type": "stream",
     "text": [
      "cat = 6513012\n",
      "6648929 = eta\n"
     ]
    }
   ],
   "source": [
    "# 2. Using pycryptodome's util functions\n",
    "from Crypto.Util.number import long_to_bytes, bytes_to_long\n",
    "msg = \"cat\"\n",
    "msg_bytes = msg.encode()\n",
    "num = bytes_to_long(msg_bytes)\n",
    "\n",
    "# bytestring -> number\n",
    "print(msg, \"=\", num)\n",
    "\n",
    "num = 6648929\n",
    "msg_bytes = long_to_bytes(num)\n",
    "msg = msg_bytes.decode()\n",
    "\n",
    "# number -> bytestring\n",
    "print(num, \"=\", msg)"
   ]
  },
  {
   "cell_type": "markdown",
   "metadata": {},
   "source": [
    "If a message is encoded in hex, there's a nice in-built function to convert it into bytes, `bytes.fromhex`. To convert back to hex, you can do `bytes.hex`."
   ]
  },
  {
   "cell_type": "code",
   "execution_count": 7,
   "metadata": {},
   "outputs": [
    {
     "name": "stdout",
     "output_type": "stream",
     "text": [
      "cat in hex = 636174\n",
      "657461 = eta in hex\n"
     ]
    }
   ],
   "source": [
    "msg = \"cat\"\n",
    "msg_bytes = msg.encode()\n",
    "msg_hex = msg_bytes.hex()\n",
    "\n",
    "# bytestring -> hex\n",
    "print(msg, \"in hex =\", msg_hex)\n",
    "\n",
    "msg_hex = \"657461\"\n",
    "msg_bytes = bytes.fromhex(msg_hex)\n",
    "msg = msg_bytes.decode()\n",
    "\n",
    "# hex -> bytestring\n",
    "print(msg_hex, \"=\", msg, \"in hex\")"
   ]
  },
  {
   "cell_type": "code",
   "execution_count": 8,
   "metadata": {},
   "outputs": [],
   "source": [
    "# Exercise 1.2\n",
    "# For each letter in the following string, replace it with the next character in ASCII order\n",
    "# For example, A = 65, so after that is B = 66\n",
    "# Z = 90, so after that is Z = 91\n",
    "\n",
    "string = \"A to Z () [] {}\""
   ]
  },
  {
   "cell_type": "markdown",
   "metadata": {},
   "source": [
    "<details>\n",
    "\n",
    "<summary>Hint</summary>\n",
    "\n",
    "Use `encode` to turn it into a bytestring, then you can loop over it as if its a list.\n",
    "\n",
    "</details>\n",
    "<details>\n",
    "\n",
    "<summary>Solution</summary>\n",
    "\n",
    "```python\n",
    "string = bytes([i+1 for i in string.encode()]).decode()\n",
    "```\n",
    "</details>"
   ]
  },
  {
   "cell_type": "code",
   "execution_count": 9,
   "metadata": {},
   "outputs": [],
   "source": [
    "# Exercise 1.2\n",
    "# Extract the strings from these various encodings!\n",
    "\n",
    "# 0x6e65772068616972\n",
    "\n",
    "# 31073809758184805\n",
    "\n",
    "# 0b11011100110010101110111001000000110101001100101011000010110111001110011 (hint: int function?)\n",
    "\n",
    "# ZG8geW91IHNlZQ== (bonus)\n",
    "\n",
    "\n",
    "\n"
   ]
  },
  {
   "cell_type": "markdown",
   "metadata": {},
   "source": [
    "<details>\n",
    "\n",
    "<summary>Hint</summary>\n",
    "\n",
    "Pay attention to the prefixes to these. For the last one, its a suffix\n",
    "\n",
    "</details>\n",
    "\n",
    "<details>\n",
    "\n",
    "<summary>Solution</summary>\n",
    "\n",
    "```python\n",
    "print(bytes.fromhex(\"0x6e65772068616972\"[2:]))\n",
    "\n",
    "print(long_to_bytes(31073809758184805))\n",
    "\n",
    "print(long_to_bytes(int(\"0b11011100110010101110111001000000110101001100101011000010110111001110011\",2)))\n",
    "\n",
    "import base64\n",
    "print(base64.b64decode(\"ZG8geW91IHNlZQ==\"))\n",
    "```\n",
    "\n",
    "</details>"
   ]
  },
  {
   "cell_type": "markdown",
   "metadata": {},
   "source": [
    "#### 2. Bitwise operations"
   ]
  },
  {
   "cell_type": "markdown",
   "metadata": {},
   "source": [
    "AND operator:\n",
    "\n",
    "1 & 1 = 1\n",
    "\n",
    "1 & 0 = 0\n",
    "\n",
    "0 & 1 = 0\n",
    "\n",
    "0 & 0 = 0\n",
    "\n",
    "The output is only ever 1 if both inputs are also 1."
   ]
  },
  {
   "cell_type": "markdown",
   "metadata": {},
   "source": [
    "XOR operator:\n",
    "\n",
    "(I'll use `^` here since that's the python syntax to xor (NOT exponentiate))\n",
    "\n",
    "1 ^ 1 = 0\n",
    "\n",
    "1 ^ 0 = 1\n",
    "\n",
    "0 ^ 1 = 1\n",
    "\n",
    "0 ^ 0 = 0\n",
    "\n",
    "You can think of the xor operator as one of these:\n",
    "- Summing modulo 2\n",
    "- \"Are the two inputs unequal?\"\n",
    "- \"Based on the second input, do I flip the first input?\""
   ]
  },
  {
   "cell_type": "markdown",
   "metadata": {},
   "source": [
    "Important XOR properties:\n",
    "\n",
    "Commutative:\n",
    "\n",
    "$ A \\oplus B = B \\oplus A $\n",
    "\n",
    "Associative:\n",
    "\n",
    "$ A \\oplus (B \\oplus C) = (A \\oplus B) \\oplus C $\n",
    "\n",
    "Identity:\n",
    "\n",
    "$ A \\oplus 0 = A $\n",
    "\n",
    "Self-inverse (involution):\n",
    "\n",
    "$ A \\oplus A = 0 $\n",
    "\n",
    "Important observation:\n",
    "\n",
    "$ (A \\oplus B) \\oplus A = B $"
   ]
  },
  {
   "cell_type": "markdown",
   "metadata": {},
   "source": [
    "Could we use xor to encrypt a message?"
   ]
  },
  {
   "cell_type": "code",
   "execution_count": 10,
   "metadata": {},
   "outputs": [],
   "source": [
    "# You can also import a similar xor function from external library pwntools which is very useful for CTF\n",
    "# This function XOR's two bytestrings by XORing them byte by byte. If one bytestring is shorter, it cycles through the shorter one.\n",
    "\n",
    "def xor(b1: bytes, b2: bytes) -> bytes:\n",
    "    L = max(len(b1), len(b2))\n",
    "    return bytes(b1[i % len(b1)] ^ b2[i % len(b2)] for i in range(L))"
   ]
  },
  {
   "cell_type": "code",
   "execution_count": 11,
   "metadata": {},
   "outputs": [],
   "source": [
    "# Exercise 2.1\n",
    "# I encrypted my secret letter by ANDING it with random numbers!\n",
    "\n",
    "from os import urandom\n",
    "\n",
    "# secret = ???\n",
    "# for _ in range(16):\n",
    "#     binary = bin(secret[0] & urandom(1)[0])\n",
    "#     binary = binary[2:] # remove the 0b\n",
    "#     print(binary.zfill(8)) # fill with zeros on the left\n",
    "\n",
    "# 01010000\n",
    "# 01001000\n",
    "# 00001000\n",
    "# 01010000\n",
    "# 00000000\n",
    "# 00001000\n",
    "# 00001000\n",
    "# 01011000\n",
    "# 00001000\n",
    "# 00011000\n",
    "# 00001000\n",
    "# 00011000\n",
    "# 00000000\n",
    "# 00010000\n",
    "# 00010000\n",
    "# 01010000"
   ]
  },
  {
   "cell_type": "code",
   "execution_count": 12,
   "metadata": {},
   "outputs": [],
   "source": [
    "# Exercise 2.1\n",
    "# I encrypted my secret message by XORing it with a key!\n",
    "# Can you recover my secret?\n",
    "\n",
    "# secret = b\"...\"\n",
    "# assert len(key) == 1\n",
    "# encrypted = xor(secret, key)\n",
    "\n",
    "encrypted = b'lX\\x01JDX\\x01LTRU\\x01CD\\x01UNN\\x01VD@J\\x0f\\x0f\\x0f'"
   ]
  },
  {
   "cell_type": "markdown",
   "metadata": {},
   "source": [
    "<details>\n",
    "\n",
    "<summary>Hint</summary>\n",
    "\n",
    "Remember that XOR is an involution.\n",
    "\n",
    "$ (A \\oplus B) \\oplus B = A $\n",
    "\n",
    "</details>\n",
    "\n",
    "<details>\n",
    "\n",
    "<summary>Hint 2</summary>\n",
    "\n",
    "The same byte is repeated over and over in the key before XORing\n",
    "\n",
    "</details>\n",
    "\n",
    "<details>\n",
    "\n",
    "<summary>Solution</summary>\n",
    "\n",
    "There are only 256 possible bytes to try, just try each one. Since XOR is an involution, just XOR the ciphertext with the single byte to get the plaintext back.\n",
    "\n",
    "</details>\n"
   ]
  },
  {
   "cell_type": "code",
   "execution_count": 13,
   "metadata": {},
   "outputs": [],
   "source": [
    "# Exercise 2.2\n",
    "# The previous key was too weak. Now, its 6 bytes!\n",
    "# Can you recover my secret?\n",
    "# Secret follows format b\"blahaj{...}\"\n",
    "\n",
    "# from os import urandom\n",
    "# secret = b\"blahaj{...}\"\n",
    "# key = urandom(6)\n",
    "# assert len(key) == 6\n",
    "# encrypted = xor(secret, key)\n",
    "\n",
    "encrypted = b\"\\\\# \\x8ej\\x05E)-\\x87l0X 3\\x8bj\\x1ba#$\\x87`\\nZ\\x10(\\x92T\\x1cS'o\\xc8%\\x12\""
   ]
  },
  {
   "cell_type": "markdown",
   "metadata": {},
   "source": [
    "<details>\n",
    "\n",
    "<summary>Hint</summary>\n",
    "\n",
    "The flag format is important\n",
    "\n",
    "</details>\n",
    "\n",
    "<details>\n",
    "\n",
    "<summary>Solution</summary>\n",
    "\n",
    "The first 6 bytes which are known, `blahaj` are XORed with the key. Hence, by XORing the first 6 bytes of the ciphertext with `blahaj`, you get the key.\n",
    "\n",
    "</details>"
   ]
  },
  {
   "cell_type": "code",
   "execution_count": 14,
   "metadata": {},
   "outputs": [],
   "source": [
    "# Exercise 2.3 (hard)\n",
    "# XORshift is an operation where a number is XORed with a shifted version of itself.\n",
    "# In this case, we can just shift the position of a message within bytes.\n",
    "# \"0secret\"\n",
    "# ⊕\n",
    "# \"secret0\"\n",
    "\n",
    "# secret = b\"......\"\n",
    "# assert len(secret) == 6\n",
    "# # appending 1 zero-byte to the start or end: (Remember, A ⊕ 0 = A)\n",
    "# L = secret + b\"\\00\"\n",
    "# R = b\"\\00\" + secret\n",
    "# encrypted = xor(L, R)\n",
    "\n",
    "encrypted = b'y\\x1c\\x16\\x00\\x1a\\x1br'"
   ]
  },
  {
   "cell_type": "markdown",
   "metadata": {},
   "source": [
    "<details>\n",
    "\n",
    "<summary>Hint</summary>\n",
    "\n",
    "Let the string characters be:\n",
    "\n",
    "$x_1, x_2, x_3, \\cdots, x_n$\n",
    "\n",
    "The first byte of the encrypted data is $x_1 \\oplus 0 = x_1$\n",
    "\n",
    "The last is $0 \\oplus x_n = x_n$\n",
    "\n",
    "The second one is what?\n",
    "\n",
    "</details>\n",
    "\n",
    "<details>\n",
    "\n",
    "<summary>Solution</summary>\n",
    "\n",
    "The first output byte is $x_1$\n",
    "\n",
    "The second output byte is $x_1 \\oplus x_2$\n",
    "\n",
    "XOR this with $x_1$ to get $x_2$\n",
    "\n",
    "The third output byte is $x_2 \\oplus x_3$\n",
    "\n",
    "XOR this with $x_2$ to get $x_3\n",
    "\n",
    "etc.\n",
    "\n",
    "</details>"
   ]
  },
  {
   "cell_type": "markdown",
   "metadata": {},
   "source": [
    "#### 3. Block ciphers"
   ]
  },
  {
   "cell_type": "markdown",
   "metadata": {},
   "source": [
    "A block cipher like AES runs on blocks. For AES, the block size is 16 blocks. This means that the encryption solely focuses on one block at a time. For AES-128, this would be encrypting a 16-byte plaintext with a 16-byte key, to produce a 16-byte ciphertext. AES is a symmetric cipher, meaning that the same key can be used to then decrypt that 16-byte ciphertext into the original 16-byte plaintext.\n",
    "\n",
    "Why does it run on blocks and not entire plaintexts? Because the AES algorithm was designed to screw with the plaintext in such weird ways (based on the key), that it would not be possible to reverse without the key. There needs to be a fixed number of things to screw with, otherwise it starts taking too long to screw with it. That's why we choose a nice size of 16 bytes (128 bits, 3 * 10^38 possibilities) to block with.\n",
    "\n",
    "Some messages may not be a multiple of 16 bytes. So, they have to be padded to a multiple of 16 bytes before encrypting. This is done by appending certain data at the end of it."
   ]
  },
  {
   "cell_type": "markdown",
   "metadata": {},
   "source": [
    "It may seem obvious how to encrypt data from here. Just block it up into 16-byte blocks and then encrypt each directly right? Well, this is called \"ECB\" mode of encryption:"
   ]
  },
  {
   "cell_type": "markdown",
   "metadata": {},
   "source": [
    "![image.png](https://upload.wikimedia.org/wikipedia/commons/thumb/d/d6/ECB_encryption.svg/1920px-ECB_encryption.svg.png)"
   ]
  },
  {
   "cell_type": "markdown",
   "metadata": {},
   "source": [
    "But, this has issues. If a block repeats, then the ciphertext would be the same, since the encryption is deterministic."
   ]
  },
  {
   "cell_type": "markdown",
   "metadata": {},
   "source": [
    "![image.png](https://upload.wikimedia.org/wikipedia/commons/thumb/9/96/Tux_encrypted_ecb.png/800px-Tux_encrypted_ecb.png)"
   ]
  },
  {
   "cell_type": "markdown",
   "metadata": {},
   "source": [
    "In the above image, similar pixels have similar outputs, making the shape of the penguin still discernible after encryption, which makes it vulnerable. The most used (and therefore secure) mode of encryption is known as CBC:"
   ]
  },
  {
   "attachments": {
    "image.png": {
     "image/png": "[encoded data removed]"
    }
   },
   "cell_type": "markdown",
   "metadata": {},
   "source": [
    "![image.png](attachment:image.png)"
   ]
  },
  {
   "cell_type": "markdown",
   "metadata": {},
   "source": [
    "Here, we XOR the previous ciphertext block with the next plaintext block before applying the cipher encryption. This accomplishes two things.\n",
    "\n",
    "1. It becomes more secure since it is very unlikely you will ever encrypt the same block twice, since the ciphertext is gibberish.\n",
    "2. It is still reversible during decryption, just do block cipher decryption, then XOR it with the visible previous ciphertext block.\n",
    "\n",
    "But, you may notice that the first block has an \"IV\". This is because without it, the first block would always face the same issues with ECB, if you encrypted two different messages with the same key, that happened to have the same block, the first output ciphertext block would also be the same. Hence, the IV is a randomly generated bytestring that is attached to the ciphertext, to introduce variance before the cipher encryption is applied."
   ]
  },
  {
   "cell_type": "code",
   "execution_count": 15,
   "metadata": {},
   "outputs": [],
   "source": [
    "# Exercise 3.1\n",
    "# Here is an encryption oracle (Just use the oracle_enc function, don't peek at the AES key, treat it as a \"black box\")\n",
    "# I'm thinking of a two-digit number... But i'm not letting you brute force it!\n",
    "# I'm gonna screw up the rest of the message so you can't just test every message...\n",
    "\n",
    "\n",
    "from Crypto.Cipher import AES\n",
    "from Crypto.Util.Padding import pad\n",
    "from os import urandom\n",
    "\n",
    "def oracle_enc(msg: str):\n",
    "    # IGNORE following line\n",
    "    KEY = bytes([pow(3,i,77) for i in range(16)])\n",
    "    # IGNORE above line\n",
    "    cipher = AES.new(key=KEY, mode=AES.MODE_ECB)\n",
    "    return cipher.encrypt(pad(msg, block_size=16))\n",
    "\n",
    "# random_mess = urandom(8)\n",
    "# message = b\"The secret is (ignore \" + random_mess + b\"):??\"\n",
    "# # The \"??\" is the two-digit number\n",
    "# encrypted = oracle_enc(message)\n",
    "\n",
    "encrypted = b'I<\\n\\xd0\\n\\x9b\\xa5\\x12\\xddK\\x18\"r\\xd8\\xb0\\xf1\\xf9A\\x97\\xd3\\xca\\xa9*$1oME(tXv\\xe6:Xx$2\\x1d\\x93V\\xcc\\xc1\\\\\\x1e\\xc5\\x96\\xa8'"
   ]
  },
  {
   "cell_type": "markdown",
   "metadata": {},
   "source": [
    "<details>\n",
    "\n",
    "<summary>Hint</summary>\n",
    "\n",
    "The mode ECB is important\n",
    "\n",
    "</details>\n",
    "\n",
    "<details>\n",
    "\n",
    "<summary>Hint 2</summary>\n",
    "\n",
    "Group the message into blocks\n",
    "\n",
    "</details>\n",
    "\n",
    "<details>\n",
    "\n",
    "<summary>Solution</summary>\n",
    "\n",
    "The last block is just the random 2-digit number followed by the padding. Just try all 100 2-digit numbers and encrypt them directly, and compare with the last (16-byte) block of the ciphertext.\n",
    "\n",
    "</details>"
   ]
  }
 ],
 "metadata": {
  "kernelspec": {
   "display_name": "balls",
   "language": "python",
   "name": "python3"
  },
  "language_info": {
   "codemirror_mode": {
    "name": "ipython",
    "version": 3
   },
   "file_extension": ".py",
   "mimetype": "text/x-python",
   "name": "python",
   "nbconvert_exporter": "python",
   "pygments_lexer": "ipython3",
   "version": "3.9.15"
  }
 },
 "nbformat": 4,
 "nbformat_minor": 2
}
